{
 "cells": [
  {
   "cell_type": "code",
   "execution_count": 1,
   "id": "212130cb-fe12-4d8c-bcb0-72746d001469",
   "metadata": {
    "ExecuteTime": {
     "end_time": "2023-12-05T17:56:50.885496200Z",
     "start_time": "2023-12-05T17:56:50.883535100Z"
    }
   },
   "outputs": [],
   "source": [
    "import numpy as np\n",
    "import pandas as pd\n",
    "from pandas import json_normalize\n",
    "import ast\n",
    "\n",
    "pd.set_option('display.max_colwidth', None)"
   ]
  },
  {
   "cell_type": "markdown",
   "id": "164f70d8-f65e-4982-b0d2-4447927c3942",
   "metadata": {},
   "source": [
    "Read the datasets into a pandas df"
   ]
  },
  {
   "cell_type": "code",
   "execution_count": 2,
   "id": "acddfc40-1b10-4774-b08a-6920568f8f38",
   "metadata": {
    "ExecuteTime": {
     "end_time": "2023-12-05T17:56:51.131802300Z",
     "start_time": "2023-12-05T17:56:50.885496200Z"
    }
   },
   "outputs": [],
   "source": [
    "charging_sessions_orig = pd.read_csv(\"charging_sessions.csv\")\n",
    "weather_orig = pd.read_csv(\"weather_burbank_airport.csv\")"
   ]
  },
  {
   "cell_type": "markdown",
   "id": "ce02dda4-096c-4d40-93a8-0fc19c58b021",
   "metadata": {},
   "source": [
    "Start with the charging sessions, lets get some general information about the dataset."
   ]
  },
  {
   "cell_type": "code",
   "execution_count": 3,
   "id": "17b491cc-fa9c-4f94-a0d5-d5745e499b19",
   "metadata": {
    "ExecuteTime": {
     "end_time": "2023-12-05T17:56:51.187335Z",
     "start_time": "2023-12-05T17:56:51.132798700Z"
    }
   },
   "outputs": [
    {
     "name": "stdout",
     "output_type": "stream",
     "text": [
      "<class 'pandas.core.frame.DataFrame'>\n",
      "RangeIndex: 66450 entries, 0 to 66449\n",
      "Data columns (total 13 columns):\n",
      " #   Column            Non-Null Count  Dtype  \n",
      "---  ------            --------------  -----  \n",
      " 0   Unnamed: 0        66450 non-null  int64  \n",
      " 1   id                66450 non-null  object \n",
      " 2   connectionTime    66450 non-null  object \n",
      " 3   disconnectTime    66450 non-null  object \n",
      " 4   doneChargingTime  62362 non-null  object \n",
      " 5   kWhDelivered      66450 non-null  float64\n",
      " 6   sessionID         66450 non-null  object \n",
      " 7   siteID            66450 non-null  int64  \n",
      " 8   spaceID           66450 non-null  object \n",
      " 9   stationID         66450 non-null  object \n",
      " 10  timezone          66450 non-null  object \n",
      " 11  userID            49187 non-null  float64\n",
      " 12  userInputs        49187 non-null  object \n",
      "dtypes: float64(2), int64(2), object(9)\n",
      "memory usage: 6.6+ MB\n"
     ]
    },
    {
     "data": {
      "text/plain": "         Unnamed: 0  kWhDelivered        siteID        userID\ncount  66450.000000  66450.000000  66450.000000  49187.000000\nmean    4726.102062     11.787916      1.472656   1800.494582\nstd     3568.025394     10.314789      0.499256   2617.548614\nmin        0.000000      0.501000      1.000000      1.000000\n25%     1845.000000      5.097000      1.000000    431.000000\n50%     3960.000000      9.140000      1.000000    818.000000\n75%     7027.000000     14.183000      2.000000   1805.000000\nmax    15291.000000    108.797242      2.000000  19923.000000",
      "text/html": "<div>\n<style scoped>\n    .dataframe tbody tr th:only-of-type {\n        vertical-align: middle;\n    }\n\n    .dataframe tbody tr th {\n        vertical-align: top;\n    }\n\n    .dataframe thead th {\n        text-align: right;\n    }\n</style>\n<table border=\"1\" class=\"dataframe\">\n  <thead>\n    <tr style=\"text-align: right;\">\n      <th></th>\n      <th>Unnamed: 0</th>\n      <th>kWhDelivered</th>\n      <th>siteID</th>\n      <th>userID</th>\n    </tr>\n  </thead>\n  <tbody>\n    <tr>\n      <th>count</th>\n      <td>66450.000000</td>\n      <td>66450.000000</td>\n      <td>66450.000000</td>\n      <td>49187.000000</td>\n    </tr>\n    <tr>\n      <th>mean</th>\n      <td>4726.102062</td>\n      <td>11.787916</td>\n      <td>1.472656</td>\n      <td>1800.494582</td>\n    </tr>\n    <tr>\n      <th>std</th>\n      <td>3568.025394</td>\n      <td>10.314789</td>\n      <td>0.499256</td>\n      <td>2617.548614</td>\n    </tr>\n    <tr>\n      <th>min</th>\n      <td>0.000000</td>\n      <td>0.501000</td>\n      <td>1.000000</td>\n      <td>1.000000</td>\n    </tr>\n    <tr>\n      <th>25%</th>\n      <td>1845.000000</td>\n      <td>5.097000</td>\n      <td>1.000000</td>\n      <td>431.000000</td>\n    </tr>\n    <tr>\n      <th>50%</th>\n      <td>3960.000000</td>\n      <td>9.140000</td>\n      <td>1.000000</td>\n      <td>818.000000</td>\n    </tr>\n    <tr>\n      <th>75%</th>\n      <td>7027.000000</td>\n      <td>14.183000</td>\n      <td>2.000000</td>\n      <td>1805.000000</td>\n    </tr>\n    <tr>\n      <th>max</th>\n      <td>15291.000000</td>\n      <td>108.797242</td>\n      <td>2.000000</td>\n      <td>19923.000000</td>\n    </tr>\n  </tbody>\n</table>\n</div>"
     },
     "execution_count": 3,
     "metadata": {},
     "output_type": "execute_result"
    }
   ],
   "source": [
    "charging_sessions_orig.info()\n",
    "charging_sessions_orig.describe()"
   ]
  },
  {
   "cell_type": "code",
   "execution_count": 4,
   "id": "89a251f4-c429-4b3b-8a84-6260832170f3",
   "metadata": {
    "ExecuteTime": {
     "end_time": "2023-12-05T17:56:51.192477200Z",
     "start_time": "2023-12-05T17:56:51.186331400Z"
    }
   },
   "outputs": [
    {
     "data": {
      "text/plain": "   Unnamed: 0                        id             connectionTime  \\\n0           0  5e23b149f9af8b5fe4b973cf  2020-01-02 13:08:54+00:00   \n1           1  5e23b149f9af8b5fe4b973d0  2020-01-02 13:36:50+00:00   \n2           2  5e23b149f9af8b5fe4b973d1  2020-01-02 13:56:35+00:00   \n3           3  5e23b149f9af8b5fe4b973d2  2020-01-02 13:59:58+00:00   \n4           4  5e23b149f9af8b5fe4b973d3  2020-01-02 14:00:01+00:00   \n\n              disconnectTime           doneChargingTime  kWhDelivered  \\\n0  2020-01-02 19:11:15+00:00  2020-01-02 17:31:35+00:00        25.016   \n1  2020-01-02 22:38:21+00:00  2020-01-02 20:18:05+00:00        33.097   \n2  2020-01-03 00:39:22+00:00  2020-01-02 16:35:06+00:00         6.521   \n3  2020-01-02 16:38:39+00:00  2020-01-02 15:18:45+00:00         2.355   \n4  2020-01-02 22:08:40+00:00  2020-01-02 18:17:30+00:00        13.375   \n\n                                sessionID  siteID  spaceID    stationID  \\\n0  1_1_179_810_2020-01-02 13:08:53.870034       1  AG-3F30  1-1-179-810   \n1  1_1_193_825_2020-01-02 13:36:49.599853       1  AG-1F01  1-1-193-825   \n2  1_1_193_829_2020-01-02 13:56:35.214993       1  AG-1F03  1-1-193-829   \n3  1_1_193_820_2020-01-02 13:59:58.309319       1  AG-1F04  1-1-193-820   \n4  1_1_193_819_2020-01-02 14:00:00.779967       1  AG-1F06  1-1-193-819   \n\n              timezone  userID  \\\n0  America/Los_Angeles   194.0   \n1  America/Los_Angeles  4275.0   \n2  America/Los_Angeles   344.0   \n3  America/Los_Angeles  1117.0   \n4  America/Los_Angeles   334.0   \n\n                                                                                                                                                                                                                                                                                                                                                                                                                                                                     userInputs  \n0                                                                                                                                                                                                                                      [{'WhPerMile': 250, 'kWhRequested': 25.0, 'milesRequested': 100, 'minutesAvailable': 463, 'modifiedAt': 'Thu, 02 Jan 2020 13:09:39 GMT', 'paymentRequired': True, 'requestedDeparture': 'Thu, 02 Jan 2020 20:51:54 GMT', 'userID': 194}]  \n1                                                                                                                                                                                                                                     [{'WhPerMile': 280, 'kWhRequested': 70.0, 'milesRequested': 250, 'minutesAvailable': 595, 'modifiedAt': 'Thu, 02 Jan 2020 13:37:11 GMT', 'paymentRequired': True, 'requestedDeparture': 'Thu, 02 Jan 2020 23:31:50 GMT', 'userID': 4275}]  \n2                                                                                                                                                                                                                                         [{'WhPerMile': 400, 'kWhRequested': 8.0, 'milesRequested': 20, 'minutesAvailable': 60, 'modifiedAt': 'Thu, 02 Jan 2020 13:57:17 GMT', 'paymentRequired': True, 'requestedDeparture': 'Thu, 02 Jan 2020 14:56:35 GMT', 'userID': 344}]  \n3  [{'WhPerMile': 400, 'kWhRequested': 8.0, 'milesRequested': 20, 'minutesAvailable': 65, 'modifiedAt': 'Thu, 02 Jan 2020 14:00:03 GMT', 'paymentRequired': True, 'requestedDeparture': 'Thu, 02 Jan 2020 15:04:58 GMT', 'userID': 1117}, {'WhPerMile': 400, 'kWhRequested': 8.0, 'milesRequested': 20, 'minutesAvailable': 65, 'modifiedAt': 'Thu, 02 Jan 2020 14:00:19 GMT', 'paymentRequired': True, 'requestedDeparture': 'Thu, 02 Jan 2020 15:04:58 GMT', 'userID': 1117}]  \n4                                                                                                                                                                                                                                       [{'WhPerMile': 400, 'kWhRequested': 16.0, 'milesRequested': 40, 'minutesAvailable': 504, 'modifiedAt': 'Thu, 02 Jan 2020 14:00:13 GMT', 'paymentRequired': True, 'requestedDeparture': 'Thu, 02 Jan 2020 22:24:01 GMT', 'userID': 334}]  ",
      "text/html": "<div>\n<style scoped>\n    .dataframe tbody tr th:only-of-type {\n        vertical-align: middle;\n    }\n\n    .dataframe tbody tr th {\n        vertical-align: top;\n    }\n\n    .dataframe thead th {\n        text-align: right;\n    }\n</style>\n<table border=\"1\" class=\"dataframe\">\n  <thead>\n    <tr style=\"text-align: right;\">\n      <th></th>\n      <th>Unnamed: 0</th>\n      <th>id</th>\n      <th>connectionTime</th>\n      <th>disconnectTime</th>\n      <th>doneChargingTime</th>\n      <th>kWhDelivered</th>\n      <th>sessionID</th>\n      <th>siteID</th>\n      <th>spaceID</th>\n      <th>stationID</th>\n      <th>timezone</th>\n      <th>userID</th>\n      <th>userInputs</th>\n    </tr>\n  </thead>\n  <tbody>\n    <tr>\n      <th>0</th>\n      <td>0</td>\n      <td>5e23b149f9af8b5fe4b973cf</td>\n      <td>2020-01-02 13:08:54+00:00</td>\n      <td>2020-01-02 19:11:15+00:00</td>\n      <td>2020-01-02 17:31:35+00:00</td>\n      <td>25.016</td>\n      <td>1_1_179_810_2020-01-02 13:08:53.870034</td>\n      <td>1</td>\n      <td>AG-3F30</td>\n      <td>1-1-179-810</td>\n      <td>America/Los_Angeles</td>\n      <td>194.0</td>\n      <td>[{'WhPerMile': 250, 'kWhRequested': 25.0, 'milesRequested': 100, 'minutesAvailable': 463, 'modifiedAt': 'Thu, 02 Jan 2020 13:09:39 GMT', 'paymentRequired': True, 'requestedDeparture': 'Thu, 02 Jan 2020 20:51:54 GMT', 'userID': 194}]</td>\n    </tr>\n    <tr>\n      <th>1</th>\n      <td>1</td>\n      <td>5e23b149f9af8b5fe4b973d0</td>\n      <td>2020-01-02 13:36:50+00:00</td>\n      <td>2020-01-02 22:38:21+00:00</td>\n      <td>2020-01-02 20:18:05+00:00</td>\n      <td>33.097</td>\n      <td>1_1_193_825_2020-01-02 13:36:49.599853</td>\n      <td>1</td>\n      <td>AG-1F01</td>\n      <td>1-1-193-825</td>\n      <td>America/Los_Angeles</td>\n      <td>4275.0</td>\n      <td>[{'WhPerMile': 280, 'kWhRequested': 70.0, 'milesRequested': 250, 'minutesAvailable': 595, 'modifiedAt': 'Thu, 02 Jan 2020 13:37:11 GMT', 'paymentRequired': True, 'requestedDeparture': 'Thu, 02 Jan 2020 23:31:50 GMT', 'userID': 4275}]</td>\n    </tr>\n    <tr>\n      <th>2</th>\n      <td>2</td>\n      <td>5e23b149f9af8b5fe4b973d1</td>\n      <td>2020-01-02 13:56:35+00:00</td>\n      <td>2020-01-03 00:39:22+00:00</td>\n      <td>2020-01-02 16:35:06+00:00</td>\n      <td>6.521</td>\n      <td>1_1_193_829_2020-01-02 13:56:35.214993</td>\n      <td>1</td>\n      <td>AG-1F03</td>\n      <td>1-1-193-829</td>\n      <td>America/Los_Angeles</td>\n      <td>344.0</td>\n      <td>[{'WhPerMile': 400, 'kWhRequested': 8.0, 'milesRequested': 20, 'minutesAvailable': 60, 'modifiedAt': 'Thu, 02 Jan 2020 13:57:17 GMT', 'paymentRequired': True, 'requestedDeparture': 'Thu, 02 Jan 2020 14:56:35 GMT', 'userID': 344}]</td>\n    </tr>\n    <tr>\n      <th>3</th>\n      <td>3</td>\n      <td>5e23b149f9af8b5fe4b973d2</td>\n      <td>2020-01-02 13:59:58+00:00</td>\n      <td>2020-01-02 16:38:39+00:00</td>\n      <td>2020-01-02 15:18:45+00:00</td>\n      <td>2.355</td>\n      <td>1_1_193_820_2020-01-02 13:59:58.309319</td>\n      <td>1</td>\n      <td>AG-1F04</td>\n      <td>1-1-193-820</td>\n      <td>America/Los_Angeles</td>\n      <td>1117.0</td>\n      <td>[{'WhPerMile': 400, 'kWhRequested': 8.0, 'milesRequested': 20, 'minutesAvailable': 65, 'modifiedAt': 'Thu, 02 Jan 2020 14:00:03 GMT', 'paymentRequired': True, 'requestedDeparture': 'Thu, 02 Jan 2020 15:04:58 GMT', 'userID': 1117}, {'WhPerMile': 400, 'kWhRequested': 8.0, 'milesRequested': 20, 'minutesAvailable': 65, 'modifiedAt': 'Thu, 02 Jan 2020 14:00:19 GMT', 'paymentRequired': True, 'requestedDeparture': 'Thu, 02 Jan 2020 15:04:58 GMT', 'userID': 1117}]</td>\n    </tr>\n    <tr>\n      <th>4</th>\n      <td>4</td>\n      <td>5e23b149f9af8b5fe4b973d3</td>\n      <td>2020-01-02 14:00:01+00:00</td>\n      <td>2020-01-02 22:08:40+00:00</td>\n      <td>2020-01-02 18:17:30+00:00</td>\n      <td>13.375</td>\n      <td>1_1_193_819_2020-01-02 14:00:00.779967</td>\n      <td>1</td>\n      <td>AG-1F06</td>\n      <td>1-1-193-819</td>\n      <td>America/Los_Angeles</td>\n      <td>334.0</td>\n      <td>[{'WhPerMile': 400, 'kWhRequested': 16.0, 'milesRequested': 40, 'minutesAvailable': 504, 'modifiedAt': 'Thu, 02 Jan 2020 14:00:13 GMT', 'paymentRequired': True, 'requestedDeparture': 'Thu, 02 Jan 2020 22:24:01 GMT', 'userID': 334}]</td>\n    </tr>\n  </tbody>\n</table>\n</div>"
     },
     "execution_count": 4,
     "metadata": {},
     "output_type": "execute_result"
    }
   ],
   "source": [
    "charging_sessions_orig.head(5)"
   ]
  },
  {
   "cell_type": "code",
   "execution_count": 5,
   "id": "22d52e2f-6996-4d79-83b5-f69f7b259544",
   "metadata": {
    "ExecuteTime": {
     "end_time": "2023-12-05T17:56:51.292597Z",
     "start_time": "2023-12-05T17:56:51.192477200Z"
    }
   },
   "outputs": [
    {
     "data": {
      "text/plain": "Unnamed: 0          15292\nid                  65037\nconnectionTime      64839\ndisconnectTime      64906\ndoneChargingTime    60637\nkWhDelivered        25629\nsessionID           65037\nsiteID                  2\nspaceID               107\nstationID             107\ntimezone                1\nuserID               1006\nuserInputs          47822\ndtype: int64"
     },
     "execution_count": 5,
     "metadata": {},
     "output_type": "execute_result"
    }
   ],
   "source": [
    "charging_sessions_orig.nunique()"
   ]
  },
  {
   "cell_type": "markdown",
   "id": "ce04c189-33d9-4f2b-b503-8e4a5fe15368",
   "metadata": {},
   "source": [
    "Judging by the number of unique id's in comparison to the whole dataset, we have duplicates. Let's drop them"
   ]
  },
  {
   "cell_type": "code",
   "execution_count": 6,
   "id": "5f10bed4-74fa-42f5-81fa-3fed137cd7aa",
   "metadata": {
    "ExecuteTime": {
     "end_time": "2023-12-05T17:56:51.315244900Z",
     "start_time": "2023-12-05T17:56:51.280582600Z"
    }
   },
   "outputs": [],
   "source": [
    "charging_sessions_modified = charging_sessions_orig.drop_duplicates()"
   ]
  },
  {
   "cell_type": "code",
   "execution_count": 7,
   "id": "423291ef-4833-4310-b9e3-d5819e71b727",
   "metadata": {
    "ExecuteTime": {
     "end_time": "2023-12-05T17:56:51.415936200Z",
     "start_time": "2023-12-05T17:56:51.314244900Z"
    }
   },
   "outputs": [
    {
     "name": "stdout",
     "output_type": "stream",
     "text": [
      "<class 'pandas.core.frame.DataFrame'>\n",
      "Int64Index: 66450 entries, 0 to 66449\n",
      "Data columns (total 13 columns):\n",
      " #   Column            Non-Null Count  Dtype  \n",
      "---  ------            --------------  -----  \n",
      " 0   Unnamed: 0        66450 non-null  int64  \n",
      " 1   id                66450 non-null  object \n",
      " 2   connectionTime    66450 non-null  object \n",
      " 3   disconnectTime    66450 non-null  object \n",
      " 4   doneChargingTime  62362 non-null  object \n",
      " 5   kWhDelivered      66450 non-null  float64\n",
      " 6   sessionID         66450 non-null  object \n",
      " 7   siteID            66450 non-null  int64  \n",
      " 8   spaceID           66450 non-null  object \n",
      " 9   stationID         66450 non-null  object \n",
      " 10  timezone          66450 non-null  object \n",
      " 11  userID            49187 non-null  float64\n",
      " 12  userInputs        49187 non-null  object \n",
      "dtypes: float64(2), int64(2), object(9)\n",
      "memory usage: 7.1+ MB\n"
     ]
    },
    {
     "data": {
      "text/plain": "Unnamed: 0          15292\nid                  65037\nconnectionTime      64839\ndisconnectTime      64906\ndoneChargingTime    60637\nkWhDelivered        25629\nsessionID           65037\nsiteID                  2\nspaceID               107\nstationID             107\ntimezone                1\nuserID               1006\nuserInputs          47822\ndtype: int64"
     },
     "execution_count": 7,
     "metadata": {},
     "output_type": "execute_result"
    }
   ],
   "source": [
    "charging_sessions_modified.info()\n",
    "charging_sessions_modified.nunique()"
   ]
  },
  {
   "cell_type": "markdown",
   "id": "3d6e08bd-2b1e-47f4-89e3-8c871f3166b7",
   "metadata": {},
   "source": [
    "This didnt quite do the job, we still have the same amount of entries in the dataset. We need to find out where they differ. But first, let's drop the timezone, since its the same for all of the data.\n",
    "We also have no information about the the Unnamed: 0 column. It looks to be some kind of identifier, but doesn't have enough unique values to uniquely identify all data points. Since we have no further information, assume this is a data fragment of whoever created the dataset, that we weren't supposed to get. We will drop it too.  "
   ]
  },
  {
   "cell_type": "code",
   "execution_count": 8,
   "id": "7d56d6ff-e46f-4f23-8501-e6e30237dc44",
   "metadata": {
    "ExecuteTime": {
     "end_time": "2023-12-05T17:56:51.420490500Z",
     "start_time": "2023-12-05T17:56:51.402339600Z"
    }
   },
   "outputs": [],
   "source": [
    "charging_sessions_modified = charging_sessions_orig.drop(columns = [\"Unnamed: 0\",\"timezone\"])"
   ]
  },
  {
   "cell_type": "code",
   "execution_count": 9,
   "id": "f2b3df2d-6e42-43b8-886b-284123fb5065",
   "metadata": {
    "scrolled": true,
    "ExecuteTime": {
     "end_time": "2023-12-05T17:56:51.489657300Z",
     "start_time": "2023-12-05T17:56:51.415936200Z"
    }
   },
   "outputs": [
    {
     "name": "stdout",
     "output_type": "stream",
     "text": [
      "<class 'pandas.core.frame.DataFrame'>\n",
      "RangeIndex: 66450 entries, 0 to 66449\n",
      "Data columns (total 11 columns):\n",
      " #   Column            Non-Null Count  Dtype  \n",
      "---  ------            --------------  -----  \n",
      " 0   id                66450 non-null  object \n",
      " 1   connectionTime    66450 non-null  object \n",
      " 2   disconnectTime    66450 non-null  object \n",
      " 3   doneChargingTime  62362 non-null  object \n",
      " 4   kWhDelivered      66450 non-null  float64\n",
      " 5   sessionID         66450 non-null  object \n",
      " 6   siteID            66450 non-null  int64  \n",
      " 7   spaceID           66450 non-null  object \n",
      " 8   stationID         66450 non-null  object \n",
      " 9   userID            49187 non-null  float64\n",
      " 10  userInputs        49187 non-null  object \n",
      "dtypes: float64(2), int64(1), object(8)\n",
      "memory usage: 5.6+ MB\n"
     ]
    },
    {
     "data": {
      "text/plain": "id                  65037\nconnectionTime      64839\ndisconnectTime      64906\ndoneChargingTime    60637\nkWhDelivered        25629\nsessionID           65037\nsiteID                  2\nspaceID               107\nstationID             107\nuserID               1006\nuserInputs          47822\ndtype: int64"
     },
     "execution_count": 9,
     "metadata": {},
     "output_type": "execute_result"
    }
   ],
   "source": [
    "charging_sessions_modified.info()\n",
    "charging_sessions_modified.nunique()"
   ]
  },
  {
   "cell_type": "code",
   "execution_count": 10,
   "id": "126a009c-ad0f-4f55-98de-2630cea3f5f8",
   "metadata": {
    "ExecuteTime": {
     "end_time": "2023-12-05T17:56:51.496438100Z",
     "start_time": "2023-12-05T17:56:51.489657300Z"
    }
   },
   "outputs": [],
   "source": [
    "# Filter out all rows where id is a duplicate\n",
    "duplicates = charging_sessions_modified[charging_sessions_modified.duplicated(\"id\", keep = False)]"
   ]
  },
  {
   "cell_type": "code",
   "execution_count": 11,
   "id": "af005f56-2a54-426e-8f3e-4281ab0607e5",
   "metadata": {
    "ExecuteTime": {
     "end_time": "2023-12-05T17:56:51.507958300Z",
     "start_time": "2023-12-05T17:56:51.496438100Z"
    }
   },
   "outputs": [
    {
     "data": {
      "text/plain": "                             id             connectionTime  \\\n65046  5d310f54f9af8b52adda3e28  2019-07-02 13:25:01+00:00   \n5582   5d310f54f9af8b52adda3e28  2019-07-02 13:25:01+00:00   \n65124  5d3260aff9af8b56e4697230  2019-07-03 16:20:04+00:00   \n5660   5d3260aff9af8b56e4697230  2019-07-03 16:20:04+00:00   \n5694   5d38f852f9af8b69fe3549fd  2019-07-08 13:09:26+00:00   \n...                         ...                        ...   \n66320  5d55f950f9af8b45dfb3d875  2019-07-30 11:31:17+00:00   \n66382  5d55f950f9af8b45dfb3d8b3  2019-07-30 22:30:46+00:00   \n6918   5d55f950f9af8b45dfb3d8b3  2019-07-30 22:30:46+00:00   \n66393  5d574ad2f9af8b4c10c0361e  2019-07-31 11:57:10+00:00   \n6929   5d574ad2f9af8b4c10c0361e  2019-07-31 11:57:10+00:00   \n\n                  disconnectTime           doneChargingTime  kWhDelivered  \\\n65046  2019-07-02 22:39:18+00:00  2019-07-02 16:29:23+00:00        13.924   \n5582   2019-07-02 22:39:18+00:00  2019-07-02 16:29:23+00:00        13.924   \n65124  2019-07-03 22:41:16+00:00  2019-07-03 20:37:22+00:00        11.184   \n5660   2019-07-03 22:41:16+00:00  2019-07-03 20:37:22+00:00        11.184   \n5694   2019-07-08 19:03:10+00:00  2019-07-08 17:49:27+00:00        11.093   \n...                          ...                        ...           ...   \n66320  2019-07-30 22:07:15+00:00  2019-07-30 20:57:54+00:00        46.863   \n66382  2019-07-31 00:44:02+00:00  2019-07-31 00:45:01+00:00         4.166   \n6918   2019-07-31 00:44:02+00:00  2019-07-31 00:45:01+00:00         4.166   \n66393  2019-07-31 21:20:17+00:00  2019-07-31 19:08:13+00:00        25.971   \n6929   2019-07-31 21:20:17+00:00  2019-07-31 19:08:13+00:00        25.971   \n\n                                    sessionID  siteID  spaceID    stationID  \\\n65046  1_1_178_817_2019-07-02 13:25:01.464654       1  AG-1F09  1-1-178-817   \n5582   1_1_178_817_2019-07-02 13:25:01.464654       1  AG-1F09  1-1-178-817   \n65124  1_1_178_817_2019-07-03 16:20:03.809665       1  AG-1F09  1-1-178-817   \n5660   1_1_178_817_2019-07-03 16:20:03.809665       1  AG-1F09  1-1-178-817   \n5694   1_1_178_817_2019-07-08 13:08:13.199752       1  AG-1F09  1-1-178-817   \n...                                       ...     ...      ...          ...   \n66320  1_1_194_826_2019-07-30 11:31:16.894598       1  AG-1F11  1-1-194-826   \n66382  1_1_194_826_2019-07-30 22:30:45.743815       1  AG-1F11  1-1-194-826   \n6918   1_1_194_826_2019-07-30 22:30:45.743815       1  AG-1F11  1-1-194-826   \n66393  1_1_194_826_2019-07-31 11:57:09.786222       1  AG-1F11  1-1-194-826   \n6929   1_1_194_826_2019-07-31 11:57:09.786222       1  AG-1F11  1-1-194-826   \n\n       userID  \\\n65046   322.0   \n5582    322.0   \n65124   357.0   \n5660    357.0   \n5694   2500.0   \n...       ...   \n66320   933.0   \n66382    76.0   \n6918     76.0   \n66393   933.0   \n6929    933.0   \n\n                                                                                                                                                                                                                                     userInputs  \n65046  [{'WhPerMile': 313, 'kWhRequested': 18.78, 'milesRequested': 60, 'minutesAvailable': 418, 'modifiedAt': 'Tue, 02 Jul 2019 13:25:07 GMT', 'paymentRequired': True, 'requestedDeparture': 'Tue, 02 Jul 2019 20:23:01 GMT', 'userID': 322}]  \n5582   [{'WhPerMile': 313, 'kWhRequested': 18.78, 'milesRequested': 60, 'minutesAvailable': 418, 'modifiedAt': 'Tue, 02 Jul 2019 13:25:07 GMT', 'paymentRequired': True, 'requestedDeparture': 'Tue, 02 Jul 2019 20:23:01 GMT', 'userID': 322}]  \n65124  [{'WhPerMile': 354, 'kWhRequested': 14.16, 'milesRequested': 40, 'minutesAvailable': 238, 'modifiedAt': 'Wed, 03 Jul 2019 16:21:04 GMT', 'paymentRequired': True, 'requestedDeparture': 'Wed, 03 Jul 2019 20:18:04 GMT', 'userID': 357}]  \n5660   [{'WhPerMile': 354, 'kWhRequested': 14.16, 'milesRequested': 40, 'minutesAvailable': 238, 'modifiedAt': 'Wed, 03 Jul 2019 16:21:04 GMT', 'paymentRequired': True, 'requestedDeparture': 'Wed, 03 Jul 2019 20:18:04 GMT', 'userID': 357}]  \n5694   [{'WhPerMile': 250, 'kWhRequested': 17.5, 'milesRequested': 70, 'minutesAvailable': 475, 'modifiedAt': 'Mon, 08 Jul 2019 13:09:25 GMT', 'paymentRequired': True, 'requestedDeparture': 'Mon, 08 Jul 2019 21:04:26 GMT', 'userID': 2500}]  \n...                                                                                                                                                                                                                                         ...  \n66320  [{'WhPerMile': 345, 'kWhRequested': 62.1, 'milesRequested': 180, 'minutesAvailable': 624, 'modifiedAt': 'Tue, 30 Jul 2019 11:31:40 GMT', 'paymentRequired': True, 'requestedDeparture': 'Tue, 30 Jul 2019 21:55:17 GMT', 'userID': 933}]  \n66382   [{'WhPerMile': 301, 'kWhRequested': 24.08, 'milesRequested': 80, 'minutesAvailable': 122, 'modifiedAt': 'Tue, 30 Jul 2019 22:31:09 GMT', 'paymentRequired': True, 'requestedDeparture': 'Wed, 31 Jul 2019 00:32:46 GMT', 'userID': 76}]  \n6918    [{'WhPerMile': 301, 'kWhRequested': 24.08, 'milesRequested': 80, 'minutesAvailable': 122, 'modifiedAt': 'Tue, 30 Jul 2019 22:31:09 GMT', 'paymentRequired': True, 'requestedDeparture': 'Wed, 31 Jul 2019 00:32:46 GMT', 'userID': 76}]  \n66393  [{'WhPerMile': 345, 'kWhRequested': 41.4, 'milesRequested': 120, 'minutesAvailable': 624, 'modifiedAt': 'Wed, 31 Jul 2019 11:57:25 GMT', 'paymentRequired': True, 'requestedDeparture': 'Wed, 31 Jul 2019 22:21:10 GMT', 'userID': 933}]  \n6929   [{'WhPerMile': 345, 'kWhRequested': 41.4, 'milesRequested': 120, 'minutesAvailable': 624, 'modifiedAt': 'Wed, 31 Jul 2019 11:57:25 GMT', 'paymentRequired': True, 'requestedDeparture': 'Wed, 31 Jul 2019 22:21:10 GMT', 'userID': 933}]  \n\n[2826 rows x 11 columns]",
      "text/html": "<div>\n<style scoped>\n    .dataframe tbody tr th:only-of-type {\n        vertical-align: middle;\n    }\n\n    .dataframe tbody tr th {\n        vertical-align: top;\n    }\n\n    .dataframe thead th {\n        text-align: right;\n    }\n</style>\n<table border=\"1\" class=\"dataframe\">\n  <thead>\n    <tr style=\"text-align: right;\">\n      <th></th>\n      <th>id</th>\n      <th>connectionTime</th>\n      <th>disconnectTime</th>\n      <th>doneChargingTime</th>\n      <th>kWhDelivered</th>\n      <th>sessionID</th>\n      <th>siteID</th>\n      <th>spaceID</th>\n      <th>stationID</th>\n      <th>userID</th>\n      <th>userInputs</th>\n    </tr>\n  </thead>\n  <tbody>\n    <tr>\n      <th>65046</th>\n      <td>5d310f54f9af8b52adda3e28</td>\n      <td>2019-07-02 13:25:01+00:00</td>\n      <td>2019-07-02 22:39:18+00:00</td>\n      <td>2019-07-02 16:29:23+00:00</td>\n      <td>13.924</td>\n      <td>1_1_178_817_2019-07-02 13:25:01.464654</td>\n      <td>1</td>\n      <td>AG-1F09</td>\n      <td>1-1-178-817</td>\n      <td>322.0</td>\n      <td>[{'WhPerMile': 313, 'kWhRequested': 18.78, 'milesRequested': 60, 'minutesAvailable': 418, 'modifiedAt': 'Tue, 02 Jul 2019 13:25:07 GMT', 'paymentRequired': True, 'requestedDeparture': 'Tue, 02 Jul 2019 20:23:01 GMT', 'userID': 322}]</td>\n    </tr>\n    <tr>\n      <th>5582</th>\n      <td>5d310f54f9af8b52adda3e28</td>\n      <td>2019-07-02 13:25:01+00:00</td>\n      <td>2019-07-02 22:39:18+00:00</td>\n      <td>2019-07-02 16:29:23+00:00</td>\n      <td>13.924</td>\n      <td>1_1_178_817_2019-07-02 13:25:01.464654</td>\n      <td>1</td>\n      <td>AG-1F09</td>\n      <td>1-1-178-817</td>\n      <td>322.0</td>\n      <td>[{'WhPerMile': 313, 'kWhRequested': 18.78, 'milesRequested': 60, 'minutesAvailable': 418, 'modifiedAt': 'Tue, 02 Jul 2019 13:25:07 GMT', 'paymentRequired': True, 'requestedDeparture': 'Tue, 02 Jul 2019 20:23:01 GMT', 'userID': 322}]</td>\n    </tr>\n    <tr>\n      <th>65124</th>\n      <td>5d3260aff9af8b56e4697230</td>\n      <td>2019-07-03 16:20:04+00:00</td>\n      <td>2019-07-03 22:41:16+00:00</td>\n      <td>2019-07-03 20:37:22+00:00</td>\n      <td>11.184</td>\n      <td>1_1_178_817_2019-07-03 16:20:03.809665</td>\n      <td>1</td>\n      <td>AG-1F09</td>\n      <td>1-1-178-817</td>\n      <td>357.0</td>\n      <td>[{'WhPerMile': 354, 'kWhRequested': 14.16, 'milesRequested': 40, 'minutesAvailable': 238, 'modifiedAt': 'Wed, 03 Jul 2019 16:21:04 GMT', 'paymentRequired': True, 'requestedDeparture': 'Wed, 03 Jul 2019 20:18:04 GMT', 'userID': 357}]</td>\n    </tr>\n    <tr>\n      <th>5660</th>\n      <td>5d3260aff9af8b56e4697230</td>\n      <td>2019-07-03 16:20:04+00:00</td>\n      <td>2019-07-03 22:41:16+00:00</td>\n      <td>2019-07-03 20:37:22+00:00</td>\n      <td>11.184</td>\n      <td>1_1_178_817_2019-07-03 16:20:03.809665</td>\n      <td>1</td>\n      <td>AG-1F09</td>\n      <td>1-1-178-817</td>\n      <td>357.0</td>\n      <td>[{'WhPerMile': 354, 'kWhRequested': 14.16, 'milesRequested': 40, 'minutesAvailable': 238, 'modifiedAt': 'Wed, 03 Jul 2019 16:21:04 GMT', 'paymentRequired': True, 'requestedDeparture': 'Wed, 03 Jul 2019 20:18:04 GMT', 'userID': 357}]</td>\n    </tr>\n    <tr>\n      <th>5694</th>\n      <td>5d38f852f9af8b69fe3549fd</td>\n      <td>2019-07-08 13:09:26+00:00</td>\n      <td>2019-07-08 19:03:10+00:00</td>\n      <td>2019-07-08 17:49:27+00:00</td>\n      <td>11.093</td>\n      <td>1_1_178_817_2019-07-08 13:08:13.199752</td>\n      <td>1</td>\n      <td>AG-1F09</td>\n      <td>1-1-178-817</td>\n      <td>2500.0</td>\n      <td>[{'WhPerMile': 250, 'kWhRequested': 17.5, 'milesRequested': 70, 'minutesAvailable': 475, 'modifiedAt': 'Mon, 08 Jul 2019 13:09:25 GMT', 'paymentRequired': True, 'requestedDeparture': 'Mon, 08 Jul 2019 21:04:26 GMT', 'userID': 2500}]</td>\n    </tr>\n    <tr>\n      <th>...</th>\n      <td>...</td>\n      <td>...</td>\n      <td>...</td>\n      <td>...</td>\n      <td>...</td>\n      <td>...</td>\n      <td>...</td>\n      <td>...</td>\n      <td>...</td>\n      <td>...</td>\n      <td>...</td>\n    </tr>\n    <tr>\n      <th>66320</th>\n      <td>5d55f950f9af8b45dfb3d875</td>\n      <td>2019-07-30 11:31:17+00:00</td>\n      <td>2019-07-30 22:07:15+00:00</td>\n      <td>2019-07-30 20:57:54+00:00</td>\n      <td>46.863</td>\n      <td>1_1_194_826_2019-07-30 11:31:16.894598</td>\n      <td>1</td>\n      <td>AG-1F11</td>\n      <td>1-1-194-826</td>\n      <td>933.0</td>\n      <td>[{'WhPerMile': 345, 'kWhRequested': 62.1, 'milesRequested': 180, 'minutesAvailable': 624, 'modifiedAt': 'Tue, 30 Jul 2019 11:31:40 GMT', 'paymentRequired': True, 'requestedDeparture': 'Tue, 30 Jul 2019 21:55:17 GMT', 'userID': 933}]</td>\n    </tr>\n    <tr>\n      <th>66382</th>\n      <td>5d55f950f9af8b45dfb3d8b3</td>\n      <td>2019-07-30 22:30:46+00:00</td>\n      <td>2019-07-31 00:44:02+00:00</td>\n      <td>2019-07-31 00:45:01+00:00</td>\n      <td>4.166</td>\n      <td>1_1_194_826_2019-07-30 22:30:45.743815</td>\n      <td>1</td>\n      <td>AG-1F11</td>\n      <td>1-1-194-826</td>\n      <td>76.0</td>\n      <td>[{'WhPerMile': 301, 'kWhRequested': 24.08, 'milesRequested': 80, 'minutesAvailable': 122, 'modifiedAt': 'Tue, 30 Jul 2019 22:31:09 GMT', 'paymentRequired': True, 'requestedDeparture': 'Wed, 31 Jul 2019 00:32:46 GMT', 'userID': 76}]</td>\n    </tr>\n    <tr>\n      <th>6918</th>\n      <td>5d55f950f9af8b45dfb3d8b3</td>\n      <td>2019-07-30 22:30:46+00:00</td>\n      <td>2019-07-31 00:44:02+00:00</td>\n      <td>2019-07-31 00:45:01+00:00</td>\n      <td>4.166</td>\n      <td>1_1_194_826_2019-07-30 22:30:45.743815</td>\n      <td>1</td>\n      <td>AG-1F11</td>\n      <td>1-1-194-826</td>\n      <td>76.0</td>\n      <td>[{'WhPerMile': 301, 'kWhRequested': 24.08, 'milesRequested': 80, 'minutesAvailable': 122, 'modifiedAt': 'Tue, 30 Jul 2019 22:31:09 GMT', 'paymentRequired': True, 'requestedDeparture': 'Wed, 31 Jul 2019 00:32:46 GMT', 'userID': 76}]</td>\n    </tr>\n    <tr>\n      <th>66393</th>\n      <td>5d574ad2f9af8b4c10c0361e</td>\n      <td>2019-07-31 11:57:10+00:00</td>\n      <td>2019-07-31 21:20:17+00:00</td>\n      <td>2019-07-31 19:08:13+00:00</td>\n      <td>25.971</td>\n      <td>1_1_194_826_2019-07-31 11:57:09.786222</td>\n      <td>1</td>\n      <td>AG-1F11</td>\n      <td>1-1-194-826</td>\n      <td>933.0</td>\n      <td>[{'WhPerMile': 345, 'kWhRequested': 41.4, 'milesRequested': 120, 'minutesAvailable': 624, 'modifiedAt': 'Wed, 31 Jul 2019 11:57:25 GMT', 'paymentRequired': True, 'requestedDeparture': 'Wed, 31 Jul 2019 22:21:10 GMT', 'userID': 933}]</td>\n    </tr>\n    <tr>\n      <th>6929</th>\n      <td>5d574ad2f9af8b4c10c0361e</td>\n      <td>2019-07-31 11:57:10+00:00</td>\n      <td>2019-07-31 21:20:17+00:00</td>\n      <td>2019-07-31 19:08:13+00:00</td>\n      <td>25.971</td>\n      <td>1_1_194_826_2019-07-31 11:57:09.786222</td>\n      <td>1</td>\n      <td>AG-1F11</td>\n      <td>1-1-194-826</td>\n      <td>933.0</td>\n      <td>[{'WhPerMile': 345, 'kWhRequested': 41.4, 'milesRequested': 120, 'minutesAvailable': 624, 'modifiedAt': 'Wed, 31 Jul 2019 11:57:25 GMT', 'paymentRequired': True, 'requestedDeparture': 'Wed, 31 Jul 2019 22:21:10 GMT', 'userID': 933}]</td>\n    </tr>\n  </tbody>\n</table>\n<p>2826 rows × 11 columns</p>\n</div>"
     },
     "execution_count": 11,
     "metadata": {},
     "output_type": "execute_result"
    }
   ],
   "source": [
    "duplicates.sort_values(by = \"sessionID\")"
   ]
  },
  {
   "cell_type": "markdown",
   "id": "dbd8777f-d6be-4e52-8bb6-765d204442d2",
   "metadata": {},
   "source": [
    "The duplicate rows look exactly the same, let's try dropping duplicates again."
   ]
  },
  {
   "cell_type": "code",
   "execution_count": 12,
   "id": "7b8c1213-f534-4b20-93b8-b26dab923d2f",
   "metadata": {
    "ExecuteTime": {
     "end_time": "2023-12-05T17:56:51.574697800Z",
     "start_time": "2023-12-05T17:56:51.510475500Z"
    }
   },
   "outputs": [],
   "source": [
    "charging_sessions_modified.drop_duplicates(inplace = True)"
   ]
  },
  {
   "cell_type": "code",
   "execution_count": 13,
   "id": "21c41fa0-ccd8-4f1f-bbbf-511ec8396eb9",
   "metadata": {
    "ExecuteTime": {
     "end_time": "2023-12-05T17:56:51.646265100Z",
     "start_time": "2023-12-05T17:56:51.566677500Z"
    }
   },
   "outputs": [
    {
     "name": "stdout",
     "output_type": "stream",
     "text": [
      "<class 'pandas.core.frame.DataFrame'>\n",
      "Int64Index: 65037 entries, 0 to 65036\n",
      "Data columns (total 11 columns):\n",
      " #   Column            Non-Null Count  Dtype  \n",
      "---  ------            --------------  -----  \n",
      " 0   id                65037 non-null  object \n",
      " 1   connectionTime    65037 non-null  object \n",
      " 2   disconnectTime    65037 non-null  object \n",
      " 3   doneChargingTime  60950 non-null  object \n",
      " 4   kWhDelivered      65037 non-null  float64\n",
      " 5   sessionID         65037 non-null  object \n",
      " 6   siteID            65037 non-null  int64  \n",
      " 7   spaceID           65037 non-null  object \n",
      " 8   stationID         65037 non-null  object \n",
      " 9   userID            47822 non-null  float64\n",
      " 10  userInputs        47822 non-null  object \n",
      "dtypes: float64(2), int64(1), object(8)\n",
      "memory usage: 6.0+ MB\n"
     ]
    },
    {
     "data": {
      "text/plain": "id                  65037\nconnectionTime      64839\ndisconnectTime      64906\ndoneChargingTime    60637\nkWhDelivered        25629\nsessionID           65037\nsiteID                  2\nspaceID               107\nstationID             107\nuserID               1006\nuserInputs          47822\ndtype: int64"
     },
     "execution_count": 13,
     "metadata": {},
     "output_type": "execute_result"
    }
   ],
   "source": [
    "charging_sessions_modified.info()\n",
    "charging_sessions_modified.nunique()"
   ]
  },
  {
   "cell_type": "markdown",
   "id": "be00474b-57c8-40e3-90e0-8565891b3949",
   "metadata": {},
   "source": [
    "That did the job, we now have the same amount of unique id's as we have total rows.\n",
    "We can now safely drop the id column. Since the sessionID is an aggregate of the connection time and station id, we will drop it too. "
   ]
  },
  {
   "cell_type": "code",
   "execution_count": 14,
   "id": "8c2dafd0-6d85-44b5-a017-2d7ca680922d",
   "metadata": {
    "ExecuteTime": {
     "end_time": "2023-12-05T17:56:51.652729700Z",
     "start_time": "2023-12-05T17:56:51.646265100Z"
    }
   },
   "outputs": [],
   "source": [
    "charging_sessions_modified.drop(columns = [\"id\", \"sessionID\"], inplace = True)"
   ]
  },
  {
   "cell_type": "code",
   "execution_count": 15,
   "id": "6d36b220-2166-4f86-b5bb-25afba57ace9",
   "metadata": {
    "ExecuteTime": {
     "end_time": "2023-12-05T17:56:51.661993100Z",
     "start_time": "2023-12-05T17:56:51.652729700Z"
    }
   },
   "outputs": [
    {
     "data": {
      "text/plain": "              connectionTime             disconnectTime  \\\n0  2020-01-02 13:08:54+00:00  2020-01-02 19:11:15+00:00   \n1  2020-01-02 13:36:50+00:00  2020-01-02 22:38:21+00:00   \n2  2020-01-02 13:56:35+00:00  2020-01-03 00:39:22+00:00   \n3  2020-01-02 13:59:58+00:00  2020-01-02 16:38:39+00:00   \n4  2020-01-02 14:00:01+00:00  2020-01-02 22:08:40+00:00   \n\n            doneChargingTime  kWhDelivered  siteID  spaceID    stationID  \\\n0  2020-01-02 17:31:35+00:00        25.016       1  AG-3F30  1-1-179-810   \n1  2020-01-02 20:18:05+00:00        33.097       1  AG-1F01  1-1-193-825   \n2  2020-01-02 16:35:06+00:00         6.521       1  AG-1F03  1-1-193-829   \n3  2020-01-02 15:18:45+00:00         2.355       1  AG-1F04  1-1-193-820   \n4  2020-01-02 18:17:30+00:00        13.375       1  AG-1F06  1-1-193-819   \n\n   userID  \\\n0   194.0   \n1  4275.0   \n2   344.0   \n3  1117.0   \n4   334.0   \n\n                                                                                                                                                                                                                                                                                                                                                                                                                                                                     userInputs  \n0                                                                                                                                                                                                                                      [{'WhPerMile': 250, 'kWhRequested': 25.0, 'milesRequested': 100, 'minutesAvailable': 463, 'modifiedAt': 'Thu, 02 Jan 2020 13:09:39 GMT', 'paymentRequired': True, 'requestedDeparture': 'Thu, 02 Jan 2020 20:51:54 GMT', 'userID': 194}]  \n1                                                                                                                                                                                                                                     [{'WhPerMile': 280, 'kWhRequested': 70.0, 'milesRequested': 250, 'minutesAvailable': 595, 'modifiedAt': 'Thu, 02 Jan 2020 13:37:11 GMT', 'paymentRequired': True, 'requestedDeparture': 'Thu, 02 Jan 2020 23:31:50 GMT', 'userID': 4275}]  \n2                                                                                                                                                                                                                                         [{'WhPerMile': 400, 'kWhRequested': 8.0, 'milesRequested': 20, 'minutesAvailable': 60, 'modifiedAt': 'Thu, 02 Jan 2020 13:57:17 GMT', 'paymentRequired': True, 'requestedDeparture': 'Thu, 02 Jan 2020 14:56:35 GMT', 'userID': 344}]  \n3  [{'WhPerMile': 400, 'kWhRequested': 8.0, 'milesRequested': 20, 'minutesAvailable': 65, 'modifiedAt': 'Thu, 02 Jan 2020 14:00:03 GMT', 'paymentRequired': True, 'requestedDeparture': 'Thu, 02 Jan 2020 15:04:58 GMT', 'userID': 1117}, {'WhPerMile': 400, 'kWhRequested': 8.0, 'milesRequested': 20, 'minutesAvailable': 65, 'modifiedAt': 'Thu, 02 Jan 2020 14:00:19 GMT', 'paymentRequired': True, 'requestedDeparture': 'Thu, 02 Jan 2020 15:04:58 GMT', 'userID': 1117}]  \n4                                                                                                                                                                                                                                       [{'WhPerMile': 400, 'kWhRequested': 16.0, 'milesRequested': 40, 'minutesAvailable': 504, 'modifiedAt': 'Thu, 02 Jan 2020 14:00:13 GMT', 'paymentRequired': True, 'requestedDeparture': 'Thu, 02 Jan 2020 22:24:01 GMT', 'userID': 334}]  ",
      "text/html": "<div>\n<style scoped>\n    .dataframe tbody tr th:only-of-type {\n        vertical-align: middle;\n    }\n\n    .dataframe tbody tr th {\n        vertical-align: top;\n    }\n\n    .dataframe thead th {\n        text-align: right;\n    }\n</style>\n<table border=\"1\" class=\"dataframe\">\n  <thead>\n    <tr style=\"text-align: right;\">\n      <th></th>\n      <th>connectionTime</th>\n      <th>disconnectTime</th>\n      <th>doneChargingTime</th>\n      <th>kWhDelivered</th>\n      <th>siteID</th>\n      <th>spaceID</th>\n      <th>stationID</th>\n      <th>userID</th>\n      <th>userInputs</th>\n    </tr>\n  </thead>\n  <tbody>\n    <tr>\n      <th>0</th>\n      <td>2020-01-02 13:08:54+00:00</td>\n      <td>2020-01-02 19:11:15+00:00</td>\n      <td>2020-01-02 17:31:35+00:00</td>\n      <td>25.016</td>\n      <td>1</td>\n      <td>AG-3F30</td>\n      <td>1-1-179-810</td>\n      <td>194.0</td>\n      <td>[{'WhPerMile': 250, 'kWhRequested': 25.0, 'milesRequested': 100, 'minutesAvailable': 463, 'modifiedAt': 'Thu, 02 Jan 2020 13:09:39 GMT', 'paymentRequired': True, 'requestedDeparture': 'Thu, 02 Jan 2020 20:51:54 GMT', 'userID': 194}]</td>\n    </tr>\n    <tr>\n      <th>1</th>\n      <td>2020-01-02 13:36:50+00:00</td>\n      <td>2020-01-02 22:38:21+00:00</td>\n      <td>2020-01-02 20:18:05+00:00</td>\n      <td>33.097</td>\n      <td>1</td>\n      <td>AG-1F01</td>\n      <td>1-1-193-825</td>\n      <td>4275.0</td>\n      <td>[{'WhPerMile': 280, 'kWhRequested': 70.0, 'milesRequested': 250, 'minutesAvailable': 595, 'modifiedAt': 'Thu, 02 Jan 2020 13:37:11 GMT', 'paymentRequired': True, 'requestedDeparture': 'Thu, 02 Jan 2020 23:31:50 GMT', 'userID': 4275}]</td>\n    </tr>\n    <tr>\n      <th>2</th>\n      <td>2020-01-02 13:56:35+00:00</td>\n      <td>2020-01-03 00:39:22+00:00</td>\n      <td>2020-01-02 16:35:06+00:00</td>\n      <td>6.521</td>\n      <td>1</td>\n      <td>AG-1F03</td>\n      <td>1-1-193-829</td>\n      <td>344.0</td>\n      <td>[{'WhPerMile': 400, 'kWhRequested': 8.0, 'milesRequested': 20, 'minutesAvailable': 60, 'modifiedAt': 'Thu, 02 Jan 2020 13:57:17 GMT', 'paymentRequired': True, 'requestedDeparture': 'Thu, 02 Jan 2020 14:56:35 GMT', 'userID': 344}]</td>\n    </tr>\n    <tr>\n      <th>3</th>\n      <td>2020-01-02 13:59:58+00:00</td>\n      <td>2020-01-02 16:38:39+00:00</td>\n      <td>2020-01-02 15:18:45+00:00</td>\n      <td>2.355</td>\n      <td>1</td>\n      <td>AG-1F04</td>\n      <td>1-1-193-820</td>\n      <td>1117.0</td>\n      <td>[{'WhPerMile': 400, 'kWhRequested': 8.0, 'milesRequested': 20, 'minutesAvailable': 65, 'modifiedAt': 'Thu, 02 Jan 2020 14:00:03 GMT', 'paymentRequired': True, 'requestedDeparture': 'Thu, 02 Jan 2020 15:04:58 GMT', 'userID': 1117}, {'WhPerMile': 400, 'kWhRequested': 8.0, 'milesRequested': 20, 'minutesAvailable': 65, 'modifiedAt': 'Thu, 02 Jan 2020 14:00:19 GMT', 'paymentRequired': True, 'requestedDeparture': 'Thu, 02 Jan 2020 15:04:58 GMT', 'userID': 1117}]</td>\n    </tr>\n    <tr>\n      <th>4</th>\n      <td>2020-01-02 14:00:01+00:00</td>\n      <td>2020-01-02 22:08:40+00:00</td>\n      <td>2020-01-02 18:17:30+00:00</td>\n      <td>13.375</td>\n      <td>1</td>\n      <td>AG-1F06</td>\n      <td>1-1-193-819</td>\n      <td>334.0</td>\n      <td>[{'WhPerMile': 400, 'kWhRequested': 16.0, 'milesRequested': 40, 'minutesAvailable': 504, 'modifiedAt': 'Thu, 02 Jan 2020 14:00:13 GMT', 'paymentRequired': True, 'requestedDeparture': 'Thu, 02 Jan 2020 22:24:01 GMT', 'userID': 334}]</td>\n    </tr>\n  </tbody>\n</table>\n</div>"
     },
     "execution_count": 15,
     "metadata": {},
     "output_type": "execute_result"
    }
   ],
   "source": [
    "charging_sessions_modified.head()"
   ]
  },
  {
   "cell_type": "markdown",
   "id": "4567e3e5-cbf0-4fa8-a3d4-3484d4daffb0",
   "metadata": {},
   "source": [
    "In the last nunique() call, both spaceID and stationID have the same amount of unique data points. Since one identifies the parking space and the other the charging station, it is possible that every parking space has their own charging station, as opposed to one station servicing multiple spaces. If we can prove this, we could drop one of the two columns, since it is redundant."
   ]
  },
  {
   "cell_type": "code",
   "execution_count": 16,
   "id": "4505b273-5b44-4422-b389-5971ca83269e",
   "metadata": {
    "ExecuteTime": {
     "end_time": "2023-12-05T17:56:51.705271300Z",
     "start_time": "2023-12-05T17:56:51.661993100Z"
    }
   },
   "outputs": [
    {
     "data": {
      "text/plain": "107"
     },
     "execution_count": 16,
     "metadata": {},
     "output_type": "execute_result"
    }
   ],
   "source": [
    "#Create an aggregate column that contains the concatenated value of spaceID and stationID\n",
    "charging_sessions_modified[\"combinedSpaceStationID\"] = charging_sessions_modified[\"spaceID\"].astype(str) \\\n",
    "                                                       + \"/\" + charging_sessions_modified[\"stationID\"].astype(str)\n",
    "charging_sessions_modified[\"combinedSpaceStationID\"].nunique()"
   ]
  },
  {
   "cell_type": "markdown",
   "id": "cde63f62-f883-4809-9af9-1204ec7b0cac",
   "metadata": {},
   "source": [
    "The combined column has the same amount of unique values, as the spaceID and stationID. Our assumption holds and we will thus drop the two columns and keep the aggregate. "
   ]
  },
  {
   "cell_type": "code",
   "execution_count": 17,
   "id": "a5c01142-4761-40de-8f57-94457664f283",
   "metadata": {
    "ExecuteTime": {
     "end_time": "2023-12-05T17:56:51.729407300Z",
     "start_time": "2023-12-05T17:56:51.677876100Z"
    }
   },
   "outputs": [],
   "source": [
    "charging_sessions_modified.drop(columns = [\"spaceID\", \"stationID\"], inplace = True)"
   ]
  },
  {
   "cell_type": "markdown",
   "id": "d355b744-fd8d-4feb-8037-d35f500e2d36",
   "metadata": {},
   "source": [
    "Convert the timestamp strings to datetime for easier conversion later on."
   ]
  },
  {
   "cell_type": "code",
   "execution_count": 18,
   "id": "24a1fbdb-948d-4825-8e36-7056edb10846",
   "metadata": {
    "ExecuteTime": {
     "end_time": "2023-12-05T17:56:51.796820500Z",
     "start_time": "2023-12-05T17:56:51.698262Z"
    }
   },
   "outputs": [],
   "source": [
    "charging_sessions_modified[\"connectionTime\"] = pd.to_datetime(charging_sessions_modified[\"connectionTime\"])\n",
    "charging_sessions_modified[\"disconnectTime\"] = pd.to_datetime(charging_sessions_modified[\"disconnectTime\"])\n",
    "charging_sessions_modified[\"doneChargingTime\"] = pd.to_datetime(charging_sessions_modified[\"doneChargingTime\"],errors = \"coerce\")"
   ]
  },
  {
   "cell_type": "code",
   "execution_count": 19,
   "id": "2f595741-810a-4182-ad3f-b3744599e6b0",
   "metadata": {
    "ExecuteTime": {
     "end_time": "2023-12-05T17:56:51.798337100Z",
     "start_time": "2023-12-05T17:56:51.791931500Z"
    }
   },
   "outputs": [
    {
     "data": {
      "text/plain": "             connectionTime            disconnectTime  \\\n0 2020-01-02 13:08:54+00:00 2020-01-02 19:11:15+00:00   \n1 2020-01-02 13:36:50+00:00 2020-01-02 22:38:21+00:00   \n2 2020-01-02 13:56:35+00:00 2020-01-03 00:39:22+00:00   \n3 2020-01-02 13:59:58+00:00 2020-01-02 16:38:39+00:00   \n4 2020-01-02 14:00:01+00:00 2020-01-02 22:08:40+00:00   \n\n           doneChargingTime  kWhDelivered  siteID  userID  \\\n0 2020-01-02 17:31:35+00:00        25.016       1   194.0   \n1 2020-01-02 20:18:05+00:00        33.097       1  4275.0   \n2 2020-01-02 16:35:06+00:00         6.521       1   344.0   \n3 2020-01-02 15:18:45+00:00         2.355       1  1117.0   \n4 2020-01-02 18:17:30+00:00        13.375       1   334.0   \n\n                                                                                                                                                                                                                                                                                                                                                                                                                                                                     userInputs  \\\n0                                                                                                                                                                                                                                      [{'WhPerMile': 250, 'kWhRequested': 25.0, 'milesRequested': 100, 'minutesAvailable': 463, 'modifiedAt': 'Thu, 02 Jan 2020 13:09:39 GMT', 'paymentRequired': True, 'requestedDeparture': 'Thu, 02 Jan 2020 20:51:54 GMT', 'userID': 194}]   \n1                                                                                                                                                                                                                                     [{'WhPerMile': 280, 'kWhRequested': 70.0, 'milesRequested': 250, 'minutesAvailable': 595, 'modifiedAt': 'Thu, 02 Jan 2020 13:37:11 GMT', 'paymentRequired': True, 'requestedDeparture': 'Thu, 02 Jan 2020 23:31:50 GMT', 'userID': 4275}]   \n2                                                                                                                                                                                                                                         [{'WhPerMile': 400, 'kWhRequested': 8.0, 'milesRequested': 20, 'minutesAvailable': 60, 'modifiedAt': 'Thu, 02 Jan 2020 13:57:17 GMT', 'paymentRequired': True, 'requestedDeparture': 'Thu, 02 Jan 2020 14:56:35 GMT', 'userID': 344}]   \n3  [{'WhPerMile': 400, 'kWhRequested': 8.0, 'milesRequested': 20, 'minutesAvailable': 65, 'modifiedAt': 'Thu, 02 Jan 2020 14:00:03 GMT', 'paymentRequired': True, 'requestedDeparture': 'Thu, 02 Jan 2020 15:04:58 GMT', 'userID': 1117}, {'WhPerMile': 400, 'kWhRequested': 8.0, 'milesRequested': 20, 'minutesAvailable': 65, 'modifiedAt': 'Thu, 02 Jan 2020 14:00:19 GMT', 'paymentRequired': True, 'requestedDeparture': 'Thu, 02 Jan 2020 15:04:58 GMT', 'userID': 1117}]   \n4                                                                                                                                                                                                                                       [{'WhPerMile': 400, 'kWhRequested': 16.0, 'milesRequested': 40, 'minutesAvailable': 504, 'modifiedAt': 'Thu, 02 Jan 2020 14:00:13 GMT', 'paymentRequired': True, 'requestedDeparture': 'Thu, 02 Jan 2020 22:24:01 GMT', 'userID': 334}]   \n\n  combinedSpaceStationID  \n0    AG-3F30/1-1-179-810  \n1    AG-1F01/1-1-193-825  \n2    AG-1F03/1-1-193-829  \n3    AG-1F04/1-1-193-820  \n4    AG-1F06/1-1-193-819  ",
      "text/html": "<div>\n<style scoped>\n    .dataframe tbody tr th:only-of-type {\n        vertical-align: middle;\n    }\n\n    .dataframe tbody tr th {\n        vertical-align: top;\n    }\n\n    .dataframe thead th {\n        text-align: right;\n    }\n</style>\n<table border=\"1\" class=\"dataframe\">\n  <thead>\n    <tr style=\"text-align: right;\">\n      <th></th>\n      <th>connectionTime</th>\n      <th>disconnectTime</th>\n      <th>doneChargingTime</th>\n      <th>kWhDelivered</th>\n      <th>siteID</th>\n      <th>userID</th>\n      <th>userInputs</th>\n      <th>combinedSpaceStationID</th>\n    </tr>\n  </thead>\n  <tbody>\n    <tr>\n      <th>0</th>\n      <td>2020-01-02 13:08:54+00:00</td>\n      <td>2020-01-02 19:11:15+00:00</td>\n      <td>2020-01-02 17:31:35+00:00</td>\n      <td>25.016</td>\n      <td>1</td>\n      <td>194.0</td>\n      <td>[{'WhPerMile': 250, 'kWhRequested': 25.0, 'milesRequested': 100, 'minutesAvailable': 463, 'modifiedAt': 'Thu, 02 Jan 2020 13:09:39 GMT', 'paymentRequired': True, 'requestedDeparture': 'Thu, 02 Jan 2020 20:51:54 GMT', 'userID': 194}]</td>\n      <td>AG-3F30/1-1-179-810</td>\n    </tr>\n    <tr>\n      <th>1</th>\n      <td>2020-01-02 13:36:50+00:00</td>\n      <td>2020-01-02 22:38:21+00:00</td>\n      <td>2020-01-02 20:18:05+00:00</td>\n      <td>33.097</td>\n      <td>1</td>\n      <td>4275.0</td>\n      <td>[{'WhPerMile': 280, 'kWhRequested': 70.0, 'milesRequested': 250, 'minutesAvailable': 595, 'modifiedAt': 'Thu, 02 Jan 2020 13:37:11 GMT', 'paymentRequired': True, 'requestedDeparture': 'Thu, 02 Jan 2020 23:31:50 GMT', 'userID': 4275}]</td>\n      <td>AG-1F01/1-1-193-825</td>\n    </tr>\n    <tr>\n      <th>2</th>\n      <td>2020-01-02 13:56:35+00:00</td>\n      <td>2020-01-03 00:39:22+00:00</td>\n      <td>2020-01-02 16:35:06+00:00</td>\n      <td>6.521</td>\n      <td>1</td>\n      <td>344.0</td>\n      <td>[{'WhPerMile': 400, 'kWhRequested': 8.0, 'milesRequested': 20, 'minutesAvailable': 60, 'modifiedAt': 'Thu, 02 Jan 2020 13:57:17 GMT', 'paymentRequired': True, 'requestedDeparture': 'Thu, 02 Jan 2020 14:56:35 GMT', 'userID': 344}]</td>\n      <td>AG-1F03/1-1-193-829</td>\n    </tr>\n    <tr>\n      <th>3</th>\n      <td>2020-01-02 13:59:58+00:00</td>\n      <td>2020-01-02 16:38:39+00:00</td>\n      <td>2020-01-02 15:18:45+00:00</td>\n      <td>2.355</td>\n      <td>1</td>\n      <td>1117.0</td>\n      <td>[{'WhPerMile': 400, 'kWhRequested': 8.0, 'milesRequested': 20, 'minutesAvailable': 65, 'modifiedAt': 'Thu, 02 Jan 2020 14:00:03 GMT', 'paymentRequired': True, 'requestedDeparture': 'Thu, 02 Jan 2020 15:04:58 GMT', 'userID': 1117}, {'WhPerMile': 400, 'kWhRequested': 8.0, 'milesRequested': 20, 'minutesAvailable': 65, 'modifiedAt': 'Thu, 02 Jan 2020 14:00:19 GMT', 'paymentRequired': True, 'requestedDeparture': 'Thu, 02 Jan 2020 15:04:58 GMT', 'userID': 1117}]</td>\n      <td>AG-1F04/1-1-193-820</td>\n    </tr>\n    <tr>\n      <th>4</th>\n      <td>2020-01-02 14:00:01+00:00</td>\n      <td>2020-01-02 22:08:40+00:00</td>\n      <td>2020-01-02 18:17:30+00:00</td>\n      <td>13.375</td>\n      <td>1</td>\n      <td>334.0</td>\n      <td>[{'WhPerMile': 400, 'kWhRequested': 16.0, 'milesRequested': 40, 'minutesAvailable': 504, 'modifiedAt': 'Thu, 02 Jan 2020 14:00:13 GMT', 'paymentRequired': True, 'requestedDeparture': 'Thu, 02 Jan 2020 22:24:01 GMT', 'userID': 334}]</td>\n      <td>AG-1F06/1-1-193-819</td>\n    </tr>\n  </tbody>\n</table>\n</div>"
     },
     "execution_count": 19,
     "metadata": {},
     "output_type": "execute_result"
    }
   ],
   "source": [
    "charging_sessions_modified.head()"
   ]
  },
  {
   "cell_type": "markdown",
   "source": [
    "Let's do a check, whether we have any data where the disconnectTime occurs before the connectionTime. Since this is logically impossible, we would drop this data."
   ],
   "metadata": {
    "collapsed": false
   }
  },
  {
   "cell_type": "code",
   "execution_count": 20,
   "id": "412fcc70-932f-426b-82ca-e134966a8f2f",
   "metadata": {
    "ExecuteTime": {
     "end_time": "2023-12-05T17:56:51.808107800Z",
     "start_time": "2023-12-05T17:56:51.798337100Z"
    }
   },
   "outputs": [
    {
     "data": {
      "text/plain": "Empty DataFrame\nColumns: [connectionTime, disconnectTime, doneChargingTime, kWhDelivered, siteID, userID, userInputs, combinedSpaceStationID]\nIndex: []",
      "text/html": "<div>\n<style scoped>\n    .dataframe tbody tr th:only-of-type {\n        vertical-align: middle;\n    }\n\n    .dataframe tbody tr th {\n        vertical-align: top;\n    }\n\n    .dataframe thead th {\n        text-align: right;\n    }\n</style>\n<table border=\"1\" class=\"dataframe\">\n  <thead>\n    <tr style=\"text-align: right;\">\n      <th></th>\n      <th>connectionTime</th>\n      <th>disconnectTime</th>\n      <th>doneChargingTime</th>\n      <th>kWhDelivered</th>\n      <th>siteID</th>\n      <th>userID</th>\n      <th>userInputs</th>\n      <th>combinedSpaceStationID</th>\n    </tr>\n  </thead>\n  <tbody>\n  </tbody>\n</table>\n</div>"
     },
     "execution_count": 20,
     "metadata": {},
     "output_type": "execute_result"
    }
   ],
   "source": [
    "charging_sessions_modified[charging_sessions_modified[\"disconnectTime\"]<charging_sessions_modified[\"connectionTime\"]]"
   ]
  },
  {
   "cell_type": "markdown",
   "id": "d95698b7-3e18-4078-aaca-c384f8a17206",
   "metadata": {},
   "source": [
    "Doesn't occur anywhere, we're good on this front.  \n",
    "At this point we are gonna make an assumption on the dataset. We still have null values in the doneChargingTime column. Our assumption is, these values are null if disconnect and doneChargingTime would be the same, i.e. if the the vehicle gets disconnected before it finished charging. We try to generate some supporting evidence, by checking if the disconnect and doneCharging are the same anywhere in the dataset."
   ]
  },
  {
   "cell_type": "code",
   "execution_count": 21,
   "id": "eb52fc43-e144-47dc-8f7d-525d020d04e7",
   "metadata": {
    "ExecuteTime": {
     "end_time": "2023-12-05T17:56:51.814318900Z",
     "start_time": "2023-12-05T17:56:51.808107800Z"
    }
   },
   "outputs": [
    {
     "data": {
      "text/plain": "                 connectionTime            disconnectTime  \\\n25051 2019-05-31 22:26:39+00:00 2019-06-01 00:24:47+00:00   \n35096 2018-07-09 00:21:39+00:00 2018-07-09 06:16:09+00:00   \n40658 2018-09-20 18:21:06+00:00 2018-09-20 20:20:04+00:00   \n41408 2018-09-29 22:03:35+00:00 2018-09-29 23:00:39+00:00   \n42038 2018-10-08 00:36:11+00:00 2018-10-08 01:42:18+00:00   \n\n               doneChargingTime  kWhDelivered  siteID  userID  \\\n25051 2019-06-01 00:24:47+00:00      5.933000       2   431.0   \n35096 2018-07-09 06:16:09+00:00     27.154000       2     NaN   \n40658 2018-09-20 20:20:04+00:00      3.584000       2     NaN   \n41408 2018-09-29 23:00:39+00:00      6.815959       2     NaN   \n42038 2018-10-08 01:42:18+00:00      7.191020       2     NaN   \n\n                                                                                                                                                                                                                                    userInputs  \\\n25051  [{'WhPerMile': 300, 'kWhRequested': 18.0, 'milesRequested': 60, 'minutesAvailable': 149, 'modifiedAt': 'Fri, 31 May 2019 22:27:14 GMT', 'paymentRequired': True, 'requestedDeparture': 'Sat, 01 Jun 2019 00:55:39 GMT', 'userID': 431}]   \n35096                                                                                                                                                                                                                                      NaN   \n40658                                                                                                                                                                                                                                      NaN   \n41408                                                                                                                                                                                                                                      NaN   \n42038                                                                                                                                                                                                                                      NaN   \n\n      combinedSpaceStationID  \n25051     CA-322/2-39-78-360  \n35096     CA-320/2-39-78-363  \n40658     CA-323/2-39-78-366  \n41408     CA-323/2-39-78-366  \n42038     CA-323/2-39-78-366  ",
      "text/html": "<div>\n<style scoped>\n    .dataframe tbody tr th:only-of-type {\n        vertical-align: middle;\n    }\n\n    .dataframe tbody tr th {\n        vertical-align: top;\n    }\n\n    .dataframe thead th {\n        text-align: right;\n    }\n</style>\n<table border=\"1\" class=\"dataframe\">\n  <thead>\n    <tr style=\"text-align: right;\">\n      <th></th>\n      <th>connectionTime</th>\n      <th>disconnectTime</th>\n      <th>doneChargingTime</th>\n      <th>kWhDelivered</th>\n      <th>siteID</th>\n      <th>userID</th>\n      <th>userInputs</th>\n      <th>combinedSpaceStationID</th>\n    </tr>\n  </thead>\n  <tbody>\n    <tr>\n      <th>25051</th>\n      <td>2019-05-31 22:26:39+00:00</td>\n      <td>2019-06-01 00:24:47+00:00</td>\n      <td>2019-06-01 00:24:47+00:00</td>\n      <td>5.933000</td>\n      <td>2</td>\n      <td>431.0</td>\n      <td>[{'WhPerMile': 300, 'kWhRequested': 18.0, 'milesRequested': 60, 'minutesAvailable': 149, 'modifiedAt': 'Fri, 31 May 2019 22:27:14 GMT', 'paymentRequired': True, 'requestedDeparture': 'Sat, 01 Jun 2019 00:55:39 GMT', 'userID': 431}]</td>\n      <td>CA-322/2-39-78-360</td>\n    </tr>\n    <tr>\n      <th>35096</th>\n      <td>2018-07-09 00:21:39+00:00</td>\n      <td>2018-07-09 06:16:09+00:00</td>\n      <td>2018-07-09 06:16:09+00:00</td>\n      <td>27.154000</td>\n      <td>2</td>\n      <td>NaN</td>\n      <td>NaN</td>\n      <td>CA-320/2-39-78-363</td>\n    </tr>\n    <tr>\n      <th>40658</th>\n      <td>2018-09-20 18:21:06+00:00</td>\n      <td>2018-09-20 20:20:04+00:00</td>\n      <td>2018-09-20 20:20:04+00:00</td>\n      <td>3.584000</td>\n      <td>2</td>\n      <td>NaN</td>\n      <td>NaN</td>\n      <td>CA-323/2-39-78-366</td>\n    </tr>\n    <tr>\n      <th>41408</th>\n      <td>2018-09-29 22:03:35+00:00</td>\n      <td>2018-09-29 23:00:39+00:00</td>\n      <td>2018-09-29 23:00:39+00:00</td>\n      <td>6.815959</td>\n      <td>2</td>\n      <td>NaN</td>\n      <td>NaN</td>\n      <td>CA-323/2-39-78-366</td>\n    </tr>\n    <tr>\n      <th>42038</th>\n      <td>2018-10-08 00:36:11+00:00</td>\n      <td>2018-10-08 01:42:18+00:00</td>\n      <td>2018-10-08 01:42:18+00:00</td>\n      <td>7.191020</td>\n      <td>2</td>\n      <td>NaN</td>\n      <td>NaN</td>\n      <td>CA-323/2-39-78-366</td>\n    </tr>\n  </tbody>\n</table>\n</div>"
     },
     "execution_count": 21,
     "metadata": {},
     "output_type": "execute_result"
    }
   ],
   "source": [
    "charging_sessions_modified[charging_sessions_modified[\"disconnectTime\"] == charging_sessions_modified[\"doneChargingTime\"]]"
   ]
  },
  {
   "cell_type": "markdown",
   "source": [
    "Because we have a few data points, where the disconnect and doneCharging time are identical, we don't have any evidence to support our earlier assumption. It might still be possible that it holds true, but we will play it safe and drop all the rows where the doneChargingTime is null."
   ],
   "metadata": {
    "collapsed": false
   }
  },
  {
   "cell_type": "code",
   "execution_count": 22,
   "outputs": [],
   "source": [
    "charging_sessions_modified.dropna(axis = 0, subset = \"doneChargingTime\", inplace=True)"
   ],
   "metadata": {
    "collapsed": false,
    "ExecuteTime": {
     "end_time": "2023-12-05T17:56:51.819844800Z",
     "start_time": "2023-12-05T17:56:51.814318900Z"
    }
   }
  },
  {
   "cell_type": "code",
   "execution_count": 23,
   "outputs": [
    {
     "name": "stdout",
     "output_type": "stream",
     "text": [
      "<class 'pandas.core.frame.DataFrame'>\n",
      "Int64Index: 60950 entries, 0 to 65036\n",
      "Data columns (total 8 columns):\n",
      " #   Column                  Non-Null Count  Dtype              \n",
      "---  ------                  --------------  -----              \n",
      " 0   connectionTime          60950 non-null  datetime64[ns, UTC]\n",
      " 1   disconnectTime          60950 non-null  datetime64[ns, UTC]\n",
      " 2   doneChargingTime        60950 non-null  datetime64[ns, UTC]\n",
      " 3   kWhDelivered            60950 non-null  float64            \n",
      " 4   siteID                  60950 non-null  int64              \n",
      " 5   userID                  44644 non-null  float64            \n",
      " 6   userInputs              44644 non-null  object             \n",
      " 7   combinedSpaceStationID  60950 non-null  object             \n",
      "dtypes: datetime64[ns, UTC](3), float64(2), int64(1), object(2)\n",
      "memory usage: 4.2+ MB\n"
     ]
    }
   ],
   "source": [
    "charging_sessions_modified.info()"
   ],
   "metadata": {
    "collapsed": false,
    "ExecuteTime": {
     "end_time": "2023-12-05T17:56:51.889552200Z",
     "start_time": "2023-12-05T17:56:51.819844800Z"
    }
   }
  },
  {
   "cell_type": "markdown",
   "source": [
    "This leaves us with null-values only in the userID and inputs column. We will deal with these later on.\n",
    "Before that, we will add a few columns that contain relevant metrics. Starting with the total time the vehicle was connected to the charging station, the time it was actually charging and the idle time (each in seconds)."
   ],
   "metadata": {
    "collapsed": false
   }
  },
  {
   "cell_type": "code",
   "execution_count": 24,
   "outputs": [],
   "source": [
    "charging_sessions_modified = charging_sessions_modified.assign(timeConnected = lambda x : ((x[\"disconnectTime\"]-x[\"connectionTime\"])))\n",
    "charging_sessions_modified[\"timeConnected\"] = charging_sessions_modified[\"timeConnected\"].dt.total_seconds()\n",
    "\n",
    "charging_sessions_modified = charging_sessions_modified.assign(idleTime = lambda x : ((x[\"disconnectTime\"]-x[\"doneChargingTime\"])))\n",
    "charging_sessions_modified[\"idleTime\"] = charging_sessions_modified[\"idleTime\"].dt.total_seconds()\n",
    "\n",
    "charging_sessions_modified = charging_sessions_modified.assign(chargingTime = lambda x : ((x[\"doneChargingTime\"]-x[\"connectionTime\"])))\n",
    "charging_sessions_modified[\"chargingTime\"] = charging_sessions_modified[\"chargingTime\"].dt.total_seconds()"
   ],
   "metadata": {
    "collapsed": false,
    "ExecuteTime": {
     "end_time": "2023-12-05T17:56:51.915286100Z",
     "start_time": "2023-12-05T17:56:51.834495400Z"
    }
   }
  },
  {
   "cell_type": "code",
   "execution_count": 25,
   "outputs": [
    {
     "data": {
      "text/plain": "             connectionTime            disconnectTime  \\\n0 2020-01-02 13:08:54+00:00 2020-01-02 19:11:15+00:00   \n1 2020-01-02 13:36:50+00:00 2020-01-02 22:38:21+00:00   \n2 2020-01-02 13:56:35+00:00 2020-01-03 00:39:22+00:00   \n3 2020-01-02 13:59:58+00:00 2020-01-02 16:38:39+00:00   \n4 2020-01-02 14:00:01+00:00 2020-01-02 22:08:40+00:00   \n\n           doneChargingTime  kWhDelivered  siteID  userID  \\\n0 2020-01-02 17:31:35+00:00        25.016       1   194.0   \n1 2020-01-02 20:18:05+00:00        33.097       1  4275.0   \n2 2020-01-02 16:35:06+00:00         6.521       1   344.0   \n3 2020-01-02 15:18:45+00:00         2.355       1  1117.0   \n4 2020-01-02 18:17:30+00:00        13.375       1   334.0   \n\n                                                                                                                                                                                                                                                                                                                                                                                                                                                                     userInputs  \\\n0                                                                                                                                                                                                                                      [{'WhPerMile': 250, 'kWhRequested': 25.0, 'milesRequested': 100, 'minutesAvailable': 463, 'modifiedAt': 'Thu, 02 Jan 2020 13:09:39 GMT', 'paymentRequired': True, 'requestedDeparture': 'Thu, 02 Jan 2020 20:51:54 GMT', 'userID': 194}]   \n1                                                                                                                                                                                                                                     [{'WhPerMile': 280, 'kWhRequested': 70.0, 'milesRequested': 250, 'minutesAvailable': 595, 'modifiedAt': 'Thu, 02 Jan 2020 13:37:11 GMT', 'paymentRequired': True, 'requestedDeparture': 'Thu, 02 Jan 2020 23:31:50 GMT', 'userID': 4275}]   \n2                                                                                                                                                                                                                                         [{'WhPerMile': 400, 'kWhRequested': 8.0, 'milesRequested': 20, 'minutesAvailable': 60, 'modifiedAt': 'Thu, 02 Jan 2020 13:57:17 GMT', 'paymentRequired': True, 'requestedDeparture': 'Thu, 02 Jan 2020 14:56:35 GMT', 'userID': 344}]   \n3  [{'WhPerMile': 400, 'kWhRequested': 8.0, 'milesRequested': 20, 'minutesAvailable': 65, 'modifiedAt': 'Thu, 02 Jan 2020 14:00:03 GMT', 'paymentRequired': True, 'requestedDeparture': 'Thu, 02 Jan 2020 15:04:58 GMT', 'userID': 1117}, {'WhPerMile': 400, 'kWhRequested': 8.0, 'milesRequested': 20, 'minutesAvailable': 65, 'modifiedAt': 'Thu, 02 Jan 2020 14:00:19 GMT', 'paymentRequired': True, 'requestedDeparture': 'Thu, 02 Jan 2020 15:04:58 GMT', 'userID': 1117}]   \n4                                                                                                                                                                                                                                       [{'WhPerMile': 400, 'kWhRequested': 16.0, 'milesRequested': 40, 'minutesAvailable': 504, 'modifiedAt': 'Thu, 02 Jan 2020 14:00:13 GMT', 'paymentRequired': True, 'requestedDeparture': 'Thu, 02 Jan 2020 22:24:01 GMT', 'userID': 334}]   \n\n  combinedSpaceStationID  timeConnected  idleTime  chargingTime  \n0    AG-3F30/1-1-179-810        21741.0    5980.0       15761.0  \n1    AG-1F01/1-1-193-825        32491.0    8416.0       24075.0  \n2    AG-1F03/1-1-193-829        38567.0   29056.0        9511.0  \n3    AG-1F04/1-1-193-820         9521.0    4794.0        4727.0  \n4    AG-1F06/1-1-193-819        29319.0   13870.0       15449.0  ",
      "text/html": "<div>\n<style scoped>\n    .dataframe tbody tr th:only-of-type {\n        vertical-align: middle;\n    }\n\n    .dataframe tbody tr th {\n        vertical-align: top;\n    }\n\n    .dataframe thead th {\n        text-align: right;\n    }\n</style>\n<table border=\"1\" class=\"dataframe\">\n  <thead>\n    <tr style=\"text-align: right;\">\n      <th></th>\n      <th>connectionTime</th>\n      <th>disconnectTime</th>\n      <th>doneChargingTime</th>\n      <th>kWhDelivered</th>\n      <th>siteID</th>\n      <th>userID</th>\n      <th>userInputs</th>\n      <th>combinedSpaceStationID</th>\n      <th>timeConnected</th>\n      <th>idleTime</th>\n      <th>chargingTime</th>\n    </tr>\n  </thead>\n  <tbody>\n    <tr>\n      <th>0</th>\n      <td>2020-01-02 13:08:54+00:00</td>\n      <td>2020-01-02 19:11:15+00:00</td>\n      <td>2020-01-02 17:31:35+00:00</td>\n      <td>25.016</td>\n      <td>1</td>\n      <td>194.0</td>\n      <td>[{'WhPerMile': 250, 'kWhRequested': 25.0, 'milesRequested': 100, 'minutesAvailable': 463, 'modifiedAt': 'Thu, 02 Jan 2020 13:09:39 GMT', 'paymentRequired': True, 'requestedDeparture': 'Thu, 02 Jan 2020 20:51:54 GMT', 'userID': 194}]</td>\n      <td>AG-3F30/1-1-179-810</td>\n      <td>21741.0</td>\n      <td>5980.0</td>\n      <td>15761.0</td>\n    </tr>\n    <tr>\n      <th>1</th>\n      <td>2020-01-02 13:36:50+00:00</td>\n      <td>2020-01-02 22:38:21+00:00</td>\n      <td>2020-01-02 20:18:05+00:00</td>\n      <td>33.097</td>\n      <td>1</td>\n      <td>4275.0</td>\n      <td>[{'WhPerMile': 280, 'kWhRequested': 70.0, 'milesRequested': 250, 'minutesAvailable': 595, 'modifiedAt': 'Thu, 02 Jan 2020 13:37:11 GMT', 'paymentRequired': True, 'requestedDeparture': 'Thu, 02 Jan 2020 23:31:50 GMT', 'userID': 4275}]</td>\n      <td>AG-1F01/1-1-193-825</td>\n      <td>32491.0</td>\n      <td>8416.0</td>\n      <td>24075.0</td>\n    </tr>\n    <tr>\n      <th>2</th>\n      <td>2020-01-02 13:56:35+00:00</td>\n      <td>2020-01-03 00:39:22+00:00</td>\n      <td>2020-01-02 16:35:06+00:00</td>\n      <td>6.521</td>\n      <td>1</td>\n      <td>344.0</td>\n      <td>[{'WhPerMile': 400, 'kWhRequested': 8.0, 'milesRequested': 20, 'minutesAvailable': 60, 'modifiedAt': 'Thu, 02 Jan 2020 13:57:17 GMT', 'paymentRequired': True, 'requestedDeparture': 'Thu, 02 Jan 2020 14:56:35 GMT', 'userID': 344}]</td>\n      <td>AG-1F03/1-1-193-829</td>\n      <td>38567.0</td>\n      <td>29056.0</td>\n      <td>9511.0</td>\n    </tr>\n    <tr>\n      <th>3</th>\n      <td>2020-01-02 13:59:58+00:00</td>\n      <td>2020-01-02 16:38:39+00:00</td>\n      <td>2020-01-02 15:18:45+00:00</td>\n      <td>2.355</td>\n      <td>1</td>\n      <td>1117.0</td>\n      <td>[{'WhPerMile': 400, 'kWhRequested': 8.0, 'milesRequested': 20, 'minutesAvailable': 65, 'modifiedAt': 'Thu, 02 Jan 2020 14:00:03 GMT', 'paymentRequired': True, 'requestedDeparture': 'Thu, 02 Jan 2020 15:04:58 GMT', 'userID': 1117}, {'WhPerMile': 400, 'kWhRequested': 8.0, 'milesRequested': 20, 'minutesAvailable': 65, 'modifiedAt': 'Thu, 02 Jan 2020 14:00:19 GMT', 'paymentRequired': True, 'requestedDeparture': 'Thu, 02 Jan 2020 15:04:58 GMT', 'userID': 1117}]</td>\n      <td>AG-1F04/1-1-193-820</td>\n      <td>9521.0</td>\n      <td>4794.0</td>\n      <td>4727.0</td>\n    </tr>\n    <tr>\n      <th>4</th>\n      <td>2020-01-02 14:00:01+00:00</td>\n      <td>2020-01-02 22:08:40+00:00</td>\n      <td>2020-01-02 18:17:30+00:00</td>\n      <td>13.375</td>\n      <td>1</td>\n      <td>334.0</td>\n      <td>[{'WhPerMile': 400, 'kWhRequested': 16.0, 'milesRequested': 40, 'minutesAvailable': 504, 'modifiedAt': 'Thu, 02 Jan 2020 14:00:13 GMT', 'paymentRequired': True, 'requestedDeparture': 'Thu, 02 Jan 2020 22:24:01 GMT', 'userID': 334}]</td>\n      <td>AG-1F06/1-1-193-819</td>\n      <td>29319.0</td>\n      <td>13870.0</td>\n      <td>15449.0</td>\n    </tr>\n  </tbody>\n</table>\n</div>"
     },
     "execution_count": 25,
     "metadata": {},
     "output_type": "execute_result"
    }
   ],
   "source": [
    "charging_sessions_modified.head()"
   ],
   "metadata": {
    "collapsed": false,
    "ExecuteTime": {
     "end_time": "2023-12-05T17:56:51.936652500Z",
     "start_time": "2023-12-05T17:56:51.847225100Z"
    }
   }
  },
  {
   "cell_type": "markdown",
   "source": [
    "Other useful columns that we will now add for seasonality and temporal pattern analysis are the day of the week, the time and the month"
   ],
   "metadata": {
    "collapsed": false
   }
  },
  {
   "cell_type": "code",
   "execution_count": 26,
   "outputs": [
    {
     "data": {
      "text/plain": "             connectionTime            disconnectTime  \\\n0 2020-01-02 13:08:54+00:00 2020-01-02 19:11:15+00:00   \n1 2020-01-02 13:36:50+00:00 2020-01-02 22:38:21+00:00   \n2 2020-01-02 13:56:35+00:00 2020-01-03 00:39:22+00:00   \n3 2020-01-02 13:59:58+00:00 2020-01-02 16:38:39+00:00   \n4 2020-01-02 14:00:01+00:00 2020-01-02 22:08:40+00:00   \n\n           doneChargingTime  kWhDelivered  siteID  userID  \\\n0 2020-01-02 17:31:35+00:00        25.016       1   194.0   \n1 2020-01-02 20:18:05+00:00        33.097       1  4275.0   \n2 2020-01-02 16:35:06+00:00         6.521       1   344.0   \n3 2020-01-02 15:18:45+00:00         2.355       1  1117.0   \n4 2020-01-02 18:17:30+00:00        13.375       1   334.0   \n\n                                                                                                                                                                                                                                                                                                                                                                                                                                                                     userInputs  \\\n0                                                                                                                                                                                                                                      [{'WhPerMile': 250, 'kWhRequested': 25.0, 'milesRequested': 100, 'minutesAvailable': 463, 'modifiedAt': 'Thu, 02 Jan 2020 13:09:39 GMT', 'paymentRequired': True, 'requestedDeparture': 'Thu, 02 Jan 2020 20:51:54 GMT', 'userID': 194}]   \n1                                                                                                                                                                                                                                     [{'WhPerMile': 280, 'kWhRequested': 70.0, 'milesRequested': 250, 'minutesAvailable': 595, 'modifiedAt': 'Thu, 02 Jan 2020 13:37:11 GMT', 'paymentRequired': True, 'requestedDeparture': 'Thu, 02 Jan 2020 23:31:50 GMT', 'userID': 4275}]   \n2                                                                                                                                                                                                                                         [{'WhPerMile': 400, 'kWhRequested': 8.0, 'milesRequested': 20, 'minutesAvailable': 60, 'modifiedAt': 'Thu, 02 Jan 2020 13:57:17 GMT', 'paymentRequired': True, 'requestedDeparture': 'Thu, 02 Jan 2020 14:56:35 GMT', 'userID': 344}]   \n3  [{'WhPerMile': 400, 'kWhRequested': 8.0, 'milesRequested': 20, 'minutesAvailable': 65, 'modifiedAt': 'Thu, 02 Jan 2020 14:00:03 GMT', 'paymentRequired': True, 'requestedDeparture': 'Thu, 02 Jan 2020 15:04:58 GMT', 'userID': 1117}, {'WhPerMile': 400, 'kWhRequested': 8.0, 'milesRequested': 20, 'minutesAvailable': 65, 'modifiedAt': 'Thu, 02 Jan 2020 14:00:19 GMT', 'paymentRequired': True, 'requestedDeparture': 'Thu, 02 Jan 2020 15:04:58 GMT', 'userID': 1117}]   \n4                                                                                                                                                                                                                                       [{'WhPerMile': 400, 'kWhRequested': 16.0, 'milesRequested': 40, 'minutesAvailable': 504, 'modifiedAt': 'Thu, 02 Jan 2020 14:00:13 GMT', 'paymentRequired': True, 'requestedDeparture': 'Thu, 02 Jan 2020 22:24:01 GMT', 'userID': 334}]   \n\n  combinedSpaceStationID  timeConnected  idleTime  chargingTime  weekday  \\\n0    AG-3F30/1-1-179-810        21741.0    5980.0       15761.0        3   \n1    AG-1F01/1-1-193-825        32491.0    8416.0       24075.0        3   \n2    AG-1F03/1-1-193-829        38567.0   29056.0        9511.0        3   \n3    AG-1F04/1-1-193-820         9521.0    4794.0        4727.0        3   \n4    AG-1F06/1-1-193-819        29319.0   13870.0       15449.0        3   \n\n   month      time  \n0      1  13:08:54  \n1      1  13:36:50  \n2      1  13:56:35  \n3      1  13:59:58  \n4      1  14:00:01  ",
      "text/html": "<div>\n<style scoped>\n    .dataframe tbody tr th:only-of-type {\n        vertical-align: middle;\n    }\n\n    .dataframe tbody tr th {\n        vertical-align: top;\n    }\n\n    .dataframe thead th {\n        text-align: right;\n    }\n</style>\n<table border=\"1\" class=\"dataframe\">\n  <thead>\n    <tr style=\"text-align: right;\">\n      <th></th>\n      <th>connectionTime</th>\n      <th>disconnectTime</th>\n      <th>doneChargingTime</th>\n      <th>kWhDelivered</th>\n      <th>siteID</th>\n      <th>userID</th>\n      <th>userInputs</th>\n      <th>combinedSpaceStationID</th>\n      <th>timeConnected</th>\n      <th>idleTime</th>\n      <th>chargingTime</th>\n      <th>weekday</th>\n      <th>month</th>\n      <th>time</th>\n    </tr>\n  </thead>\n  <tbody>\n    <tr>\n      <th>0</th>\n      <td>2020-01-02 13:08:54+00:00</td>\n      <td>2020-01-02 19:11:15+00:00</td>\n      <td>2020-01-02 17:31:35+00:00</td>\n      <td>25.016</td>\n      <td>1</td>\n      <td>194.0</td>\n      <td>[{'WhPerMile': 250, 'kWhRequested': 25.0, 'milesRequested': 100, 'minutesAvailable': 463, 'modifiedAt': 'Thu, 02 Jan 2020 13:09:39 GMT', 'paymentRequired': True, 'requestedDeparture': 'Thu, 02 Jan 2020 20:51:54 GMT', 'userID': 194}]</td>\n      <td>AG-3F30/1-1-179-810</td>\n      <td>21741.0</td>\n      <td>5980.0</td>\n      <td>15761.0</td>\n      <td>3</td>\n      <td>1</td>\n      <td>13:08:54</td>\n    </tr>\n    <tr>\n      <th>1</th>\n      <td>2020-01-02 13:36:50+00:00</td>\n      <td>2020-01-02 22:38:21+00:00</td>\n      <td>2020-01-02 20:18:05+00:00</td>\n      <td>33.097</td>\n      <td>1</td>\n      <td>4275.0</td>\n      <td>[{'WhPerMile': 280, 'kWhRequested': 70.0, 'milesRequested': 250, 'minutesAvailable': 595, 'modifiedAt': 'Thu, 02 Jan 2020 13:37:11 GMT', 'paymentRequired': True, 'requestedDeparture': 'Thu, 02 Jan 2020 23:31:50 GMT', 'userID': 4275}]</td>\n      <td>AG-1F01/1-1-193-825</td>\n      <td>32491.0</td>\n      <td>8416.0</td>\n      <td>24075.0</td>\n      <td>3</td>\n      <td>1</td>\n      <td>13:36:50</td>\n    </tr>\n    <tr>\n      <th>2</th>\n      <td>2020-01-02 13:56:35+00:00</td>\n      <td>2020-01-03 00:39:22+00:00</td>\n      <td>2020-01-02 16:35:06+00:00</td>\n      <td>6.521</td>\n      <td>1</td>\n      <td>344.0</td>\n      <td>[{'WhPerMile': 400, 'kWhRequested': 8.0, 'milesRequested': 20, 'minutesAvailable': 60, 'modifiedAt': 'Thu, 02 Jan 2020 13:57:17 GMT', 'paymentRequired': True, 'requestedDeparture': 'Thu, 02 Jan 2020 14:56:35 GMT', 'userID': 344}]</td>\n      <td>AG-1F03/1-1-193-829</td>\n      <td>38567.0</td>\n      <td>29056.0</td>\n      <td>9511.0</td>\n      <td>3</td>\n      <td>1</td>\n      <td>13:56:35</td>\n    </tr>\n    <tr>\n      <th>3</th>\n      <td>2020-01-02 13:59:58+00:00</td>\n      <td>2020-01-02 16:38:39+00:00</td>\n      <td>2020-01-02 15:18:45+00:00</td>\n      <td>2.355</td>\n      <td>1</td>\n      <td>1117.0</td>\n      <td>[{'WhPerMile': 400, 'kWhRequested': 8.0, 'milesRequested': 20, 'minutesAvailable': 65, 'modifiedAt': 'Thu, 02 Jan 2020 14:00:03 GMT', 'paymentRequired': True, 'requestedDeparture': 'Thu, 02 Jan 2020 15:04:58 GMT', 'userID': 1117}, {'WhPerMile': 400, 'kWhRequested': 8.0, 'milesRequested': 20, 'minutesAvailable': 65, 'modifiedAt': 'Thu, 02 Jan 2020 14:00:19 GMT', 'paymentRequired': True, 'requestedDeparture': 'Thu, 02 Jan 2020 15:04:58 GMT', 'userID': 1117}]</td>\n      <td>AG-1F04/1-1-193-820</td>\n      <td>9521.0</td>\n      <td>4794.0</td>\n      <td>4727.0</td>\n      <td>3</td>\n      <td>1</td>\n      <td>13:59:58</td>\n    </tr>\n    <tr>\n      <th>4</th>\n      <td>2020-01-02 14:00:01+00:00</td>\n      <td>2020-01-02 22:08:40+00:00</td>\n      <td>2020-01-02 18:17:30+00:00</td>\n      <td>13.375</td>\n      <td>1</td>\n      <td>334.0</td>\n      <td>[{'WhPerMile': 400, 'kWhRequested': 16.0, 'milesRequested': 40, 'minutesAvailable': 504, 'modifiedAt': 'Thu, 02 Jan 2020 14:00:13 GMT', 'paymentRequired': True, 'requestedDeparture': 'Thu, 02 Jan 2020 22:24:01 GMT', 'userID': 334}]</td>\n      <td>AG-1F06/1-1-193-819</td>\n      <td>29319.0</td>\n      <td>13870.0</td>\n      <td>15449.0</td>\n      <td>3</td>\n      <td>1</td>\n      <td>14:00:01</td>\n    </tr>\n  </tbody>\n</table>\n</div>"
     },
     "execution_count": 26,
     "metadata": {},
     "output_type": "execute_result"
    }
   ],
   "source": [
    "charging_sessions_modified[\"weekday\"] = charging_sessions_modified[\"connectionTime\"].dt.day_of_week\n",
    "charging_sessions_modified[\"month\"] = charging_sessions_modified[\"connectionTime\"].dt.month\n",
    "charging_sessions_modified[\"time\"] = charging_sessions_modified[\"connectionTime\"].dt.time\n",
    "charging_sessions_modified.head()"
   ],
   "metadata": {
    "collapsed": false,
    "ExecuteTime": {
     "end_time": "2023-12-05T17:56:51.939657500Z",
     "start_time": "2023-12-05T17:56:51.854261700Z"
    }
   }
  },
  {
   "cell_type": "markdown",
   "source": [
    "Now we will check for erroneous data points."
   ],
   "metadata": {
    "collapsed": false
   }
  },
  {
   "cell_type": "code",
   "execution_count": 27,
   "outputs": [
    {
     "data": {
      "text/plain": "                 count          mean           std       min        25%  \\\nkWhDelivered   60950.0     11.583268     10.153601     0.501      5.013   \nsiteID         60950.0      1.481674      0.499668     1.000      1.000   \nuserID         44644.0   1709.660514   2464.480169     1.000    431.000   \ntimeConnected  60950.0  22960.401198  17717.646112   183.000  10708.500   \nidleTime       60950.0  10271.909319  14447.964854 -3596.000     13.000   \nchargingTime   60950.0  12688.491879  11032.329226 -2482.000   5823.250   \nweekday        60950.0      2.281920      1.650711     0.000      1.000   \nmonth          60950.0      6.596702      3.370832     1.000      4.000   \n\n                     50%        75%            max  \nkWhDelivered       8.991     13.984     108.797242  \nsiteID             1.000      2.000       2.000000  \nuserID           774.000   1754.000   19923.000000  \ntimeConnected  22705.000  33267.000  882969.000000  \nidleTime        5774.000  17712.750  562037.000000  \nchargingTime    9933.000  17011.000  720057.000000  \nweekday            2.000      4.000       6.000000  \nmonth              7.000      9.000      12.000000  ",
      "text/html": "<div>\n<style scoped>\n    .dataframe tbody tr th:only-of-type {\n        vertical-align: middle;\n    }\n\n    .dataframe tbody tr th {\n        vertical-align: top;\n    }\n\n    .dataframe thead th {\n        text-align: right;\n    }\n</style>\n<table border=\"1\" class=\"dataframe\">\n  <thead>\n    <tr style=\"text-align: right;\">\n      <th></th>\n      <th>count</th>\n      <th>mean</th>\n      <th>std</th>\n      <th>min</th>\n      <th>25%</th>\n      <th>50%</th>\n      <th>75%</th>\n      <th>max</th>\n    </tr>\n  </thead>\n  <tbody>\n    <tr>\n      <th>kWhDelivered</th>\n      <td>60950.0</td>\n      <td>11.583268</td>\n      <td>10.153601</td>\n      <td>0.501</td>\n      <td>5.013</td>\n      <td>8.991</td>\n      <td>13.984</td>\n      <td>108.797242</td>\n    </tr>\n    <tr>\n      <th>siteID</th>\n      <td>60950.0</td>\n      <td>1.481674</td>\n      <td>0.499668</td>\n      <td>1.000</td>\n      <td>1.000</td>\n      <td>1.000</td>\n      <td>2.000</td>\n      <td>2.000000</td>\n    </tr>\n    <tr>\n      <th>userID</th>\n      <td>44644.0</td>\n      <td>1709.660514</td>\n      <td>2464.480169</td>\n      <td>1.000</td>\n      <td>431.000</td>\n      <td>774.000</td>\n      <td>1754.000</td>\n      <td>19923.000000</td>\n    </tr>\n    <tr>\n      <th>timeConnected</th>\n      <td>60950.0</td>\n      <td>22960.401198</td>\n      <td>17717.646112</td>\n      <td>183.000</td>\n      <td>10708.500</td>\n      <td>22705.000</td>\n      <td>33267.000</td>\n      <td>882969.000000</td>\n    </tr>\n    <tr>\n      <th>idleTime</th>\n      <td>60950.0</td>\n      <td>10271.909319</td>\n      <td>14447.964854</td>\n      <td>-3596.000</td>\n      <td>13.000</td>\n      <td>5774.000</td>\n      <td>17712.750</td>\n      <td>562037.000000</td>\n    </tr>\n    <tr>\n      <th>chargingTime</th>\n      <td>60950.0</td>\n      <td>12688.491879</td>\n      <td>11032.329226</td>\n      <td>-2482.000</td>\n      <td>5823.250</td>\n      <td>9933.000</td>\n      <td>17011.000</td>\n      <td>720057.000000</td>\n    </tr>\n    <tr>\n      <th>weekday</th>\n      <td>60950.0</td>\n      <td>2.281920</td>\n      <td>1.650711</td>\n      <td>0.000</td>\n      <td>1.000</td>\n      <td>2.000</td>\n      <td>4.000</td>\n      <td>6.000000</td>\n    </tr>\n    <tr>\n      <th>month</th>\n      <td>60950.0</td>\n      <td>6.596702</td>\n      <td>3.370832</td>\n      <td>1.000</td>\n      <td>4.000</td>\n      <td>7.000</td>\n      <td>9.000</td>\n      <td>12.000000</td>\n    </tr>\n  </tbody>\n</table>\n</div>"
     },
     "execution_count": 27,
     "metadata": {},
     "output_type": "execute_result"
    }
   ],
   "source": [
    "charging_sessions_modified.describe().transpose()"
   ],
   "metadata": {
    "collapsed": false,
    "ExecuteTime": {
     "end_time": "2023-12-05T17:56:51.970575Z",
     "start_time": "2023-12-05T17:56:51.884534200Z"
    }
   }
  },
  {
   "cell_type": "markdown",
   "source": [
    "There are definitely a few outliers we need to take care off. Negative values in idle and charging time make no sense logically, we will evaluate these to see if its erroneous data or another error we might have introduced."
   ],
   "metadata": {
    "collapsed": false
   }
  },
  {
   "cell_type": "code",
   "execution_count": 28,
   "outputs": [
    {
     "data": {
      "text/plain": "                 connectionTime            disconnectTime  \\\n12    2020-01-02 15:04:38+00:00 2020-01-02 22:08:39+00:00   \n20    2020-01-02 15:28:47+00:00 2020-01-02 19:01:54+00:00   \n25    2020-01-02 15:42:05+00:00 2020-01-02 21:58:45+00:00   \n26    2020-01-02 15:57:24+00:00 2020-01-02 16:35:37+00:00   \n33    2020-01-02 16:34:35+00:00 2020-01-02 18:49:41+00:00   \n...                         ...                       ...   \n65028 2019-07-01 19:20:31+00:00 2019-07-02 00:16:32+00:00   \n65030 2019-07-01 20:01:07+00:00 2019-07-02 00:32:26+00:00   \n65033 2019-07-01 21:58:45+00:00 2019-07-02 00:39:48+00:00   \n65034 2019-07-01 22:02:21+00:00 2019-07-02 00:58:50+00:00   \n65035 2019-07-01 22:23:44+00:00 2019-07-02 02:03:36+00:00   \n\n               doneChargingTime  kWhDelivered  siteID  userID  \\\n12    2020-01-02 22:09:36+00:00        25.567       1   528.0   \n20    2020-01-02 19:02:51+00:00         7.417       1  1283.0   \n25    2020-01-02 21:59:42+00:00        36.701       1   474.0   \n26    2020-01-02 16:36:34+00:00         3.689       1   724.0   \n33    2020-01-02 18:50:38+00:00         7.120       1  2276.0   \n...                         ...           ...     ...     ...   \n65028 2019-07-02 00:16:42+00:00        26.324       1   458.0   \n65030 2019-07-02 00:32:59+00:00        21.588       1  1479.0   \n65033 2019-07-02 00:40:21+00:00        16.864       1   364.0   \n65034 2019-07-02 00:59:23+00:00        18.335       1  2050.0   \n65035 2019-07-02 02:04:06+00:00        22.815       1  1626.0   \n\n                                                                                                                                                                                                                                                                                                                                                                                                                                                                                                                                                                                                                                                                                                                        userInputs  \\\n12                                                                                                                                                                                                                                                                                                                                                                                                                                                                                        [{'WhPerMile': 250, 'kWhRequested': 50.0, 'milesRequested': 200, 'minutesAvailable': 555, 'modifiedAt': 'Thu, 02 Jan 2020 15:04:49 GMT', 'paymentRequired': True, 'requestedDeparture': 'Fri, 03 Jan 2020 00:19:38 GMT', 'userID': 528}]   \n20                                                                                                                                                                                                                                              [{'WhPerMile': 350, 'kWhRequested': 42.0, 'milesRequested': 120, 'minutesAvailable': 238, 'modifiedAt': 'Thu, 02 Jan 2020 15:29:16 GMT', 'paymentRequired': True, 'requestedDeparture': 'Thu, 02 Jan 2020 19:26:47 GMT', 'userID': 1283}, {'WhPerMile': 350, 'kWhRequested': 56.0, 'milesRequested': 160, 'minutesAvailable': 282, 'modifiedAt': 'Thu, 02 Jan 2020 16:29:35 GMT', 'paymentRequired': True, 'requestedDeparture': 'Thu, 02 Jan 2020 20:10:47 GMT', 'userID': 1283}]   \n25                                                                                                                                                                                                                                                                                                                                                                                                                                                                                         [{'WhPerMile': 400, 'kWhRequested': 32.0, 'milesRequested': 80, 'minutesAvailable': 532, 'modifiedAt': 'Thu, 02 Jan 2020 15:42:11 GMT', 'paymentRequired': True, 'requestedDeparture': 'Fri, 03 Jan 2020 00:34:05 GMT', 'userID': 474}]   \n26                                                                                                                                                                                                                                                                                                                                                                                                                                                                                           [{'WhPerMile': 400, 'kWhRequested': 8.0, 'milesRequested': 20, 'minutesAvailable': 89, 'modifiedAt': 'Thu, 02 Jan 2020 15:57:39 GMT', 'paymentRequired': True, 'requestedDeparture': 'Thu, 02 Jan 2020 17:26:24 GMT', 'userID': 724}]   \n33                                                                                                                                                                                                                                                                                                                                                                                                                                                                                        [{'WhPerMile': 600, 'kWhRequested': 18.0, 'milesRequested': 30, 'minutesAvailable': 165, 'modifiedAt': 'Thu, 02 Jan 2020 16:35:06 GMT', 'paymentRequired': True, 'requestedDeparture': 'Thu, 02 Jan 2020 19:19:35 GMT', 'userID': 2276}]   \n...                                                                                                                                                                                                                                                                                                                                                                                                                                                                                                                                                                                                                                                                                                                            ...   \n65028       [{'WhPerMile': 400, 'kWhRequested': 8.0, 'milesRequested': 20, 'minutesAvailable': 204, 'modifiedAt': 'Mon, 01 Jul 2019 19:23:09 GMT', 'paymentRequired': True, 'requestedDeparture': 'Mon, 01 Jul 2019 22:44:31 GMT', 'userID': 458}, {'WhPerMile': 400, 'kWhRequested': 84.0, 'milesRequested': 210, 'minutesAvailable': 228, 'modifiedAt': 'Mon, 01 Jul 2019 19:25:18 GMT', 'paymentRequired': True, 'requestedDeparture': 'Mon, 01 Jul 2019 23:08:31 GMT', 'userID': 458}, {'WhPerMile': 400, 'kWhRequested': 68.0, 'milesRequested': 170, 'minutesAvailable': 180, 'modifiedAt': 'Mon, 01 Jul 2019 19:26:15 GMT', 'paymentRequired': True, 'requestedDeparture': 'Mon, 01 Jul 2019 22:20:31 GMT', 'userID': 458}]   \n65030  [{'WhPerMile': 275, 'kWhRequested': 19.25, 'milesRequested': 70, 'minutesAvailable': 286, 'modifiedAt': 'Mon, 01 Jul 2019 20:03:21 GMT', 'paymentRequired': True, 'requestedDeparture': 'Tue, 02 Jul 2019 00:47:07 GMT', 'userID': 1479}, {'WhPerMile': 200, 'kWhRequested': 30.0, 'milesRequested': 150, 'minutesAvailable': 286, 'modifiedAt': 'Mon, 01 Jul 2019 23:51:42 GMT', 'paymentRequired': True, 'requestedDeparture': 'Tue, 02 Jul 2019 00:47:07 GMT', 'userID': 1479}, {'WhPerMile': 200, 'kWhRequested': 30.0, 'milesRequested': 150, 'minutesAvailable': 288, 'modifiedAt': 'Mon, 01 Jul 2019 23:59:01 GMT', 'paymentRequired': True, 'requestedDeparture': 'Tue, 02 Jul 2019 00:49:07 GMT', 'userID': 1479}]   \n65033                                                                                                                                                                                                                                                                                                                                                                                                                                                                                     [{'WhPerMile': 400, 'kWhRequested': 40.0, 'milesRequested': 100, 'minutesAvailable': 234, 'modifiedAt': 'Mon, 01 Jul 2019 21:59:09 GMT', 'paymentRequired': True, 'requestedDeparture': 'Tue, 02 Jul 2019 01:52:45 GMT', 'userID': 364}]   \n65034                                                                                                                                                                                                                                           [{'WhPerMile': 333, 'kWhRequested': 29.97, 'milesRequested': 90, 'minutesAvailable': 309, 'modifiedAt': 'Mon, 01 Jul 2019 22:02:37 GMT', 'paymentRequired': True, 'requestedDeparture': 'Tue, 02 Jul 2019 03:11:21 GMT', 'userID': 2050}, {'WhPerMile': 333, 'kWhRequested': 23.31, 'milesRequested': 70, 'minutesAvailable': 192, 'modifiedAt': 'Mon, 01 Jul 2019 22:03:30 GMT', 'paymentRequired': True, 'requestedDeparture': 'Tue, 02 Jul 2019 01:14:21 GMT', 'userID': 2050}]   \n65035                                                                                                                                                                                                                                                                                                                                                                                                                                                                                     [{'WhPerMile': 200, 'kWhRequested': 34.0, 'milesRequested': 170, 'minutesAvailable': 99, 'modifiedAt': 'Mon, 01 Jul 2019 22:23:43 GMT', 'paymentRequired': True, 'requestedDeparture': 'Tue, 02 Jul 2019 00:02:44 GMT', 'userID': 1626}]   \n\n      combinedSpaceStationID  timeConnected  idleTime  chargingTime  weekday  \\\n12       AG-1F07/1-1-178-824        25441.0     -57.0       25498.0        3   \n20       AG-1F02/1-1-193-827        12787.0     -57.0       12844.0        3   \n25       AG-3F23/1-1-179-797        22600.0     -57.0       22657.0        3   \n26       AG-3F31/1-1-179-781         2293.0     -57.0        2350.0        3   \n33       AG-3F19/1-1-179-790         8106.0     -57.0        8163.0        3   \n...                      ...            ...       ...           ...      ...   \n65028    AG-3F29/1-1-179-783        17761.0     -10.0       17771.0        0   \n65030    AG-3F32/1-1-179-800        16279.0     -33.0       16312.0        0   \n65033    AG-3F20/1-1-179-794         9663.0     -33.0        9696.0        0   \n65034    AG-4F47/1-1-191-807        10589.0     -33.0       10622.0        0   \n65035    AG-3F31/1-1-179-781        13192.0     -30.0       13222.0        0   \n\n       month      time  \n12         1  15:04:38  \n20         1  15:28:47  \n25         1  15:42:05  \n26         1  15:57:24  \n33         1  16:34:35  \n...      ...       ...  \n65028      7  19:20:31  \n65030      7  20:01:07  \n65033      7  21:58:45  \n65034      7  22:02:21  \n65035      7  22:23:44  \n\n[4387 rows x 14 columns]",
      "text/html": "<div>\n<style scoped>\n    .dataframe tbody tr th:only-of-type {\n        vertical-align: middle;\n    }\n\n    .dataframe tbody tr th {\n        vertical-align: top;\n    }\n\n    .dataframe thead th {\n        text-align: right;\n    }\n</style>\n<table border=\"1\" class=\"dataframe\">\n  <thead>\n    <tr style=\"text-align: right;\">\n      <th></th>\n      <th>connectionTime</th>\n      <th>disconnectTime</th>\n      <th>doneChargingTime</th>\n      <th>kWhDelivered</th>\n      <th>siteID</th>\n      <th>userID</th>\n      <th>userInputs</th>\n      <th>combinedSpaceStationID</th>\n      <th>timeConnected</th>\n      <th>idleTime</th>\n      <th>chargingTime</th>\n      <th>weekday</th>\n      <th>month</th>\n      <th>time</th>\n    </tr>\n  </thead>\n  <tbody>\n    <tr>\n      <th>12</th>\n      <td>2020-01-02 15:04:38+00:00</td>\n      <td>2020-01-02 22:08:39+00:00</td>\n      <td>2020-01-02 22:09:36+00:00</td>\n      <td>25.567</td>\n      <td>1</td>\n      <td>528.0</td>\n      <td>[{'WhPerMile': 250, 'kWhRequested': 50.0, 'milesRequested': 200, 'minutesAvailable': 555, 'modifiedAt': 'Thu, 02 Jan 2020 15:04:49 GMT', 'paymentRequired': True, 'requestedDeparture': 'Fri, 03 Jan 2020 00:19:38 GMT', 'userID': 528}]</td>\n      <td>AG-1F07/1-1-178-824</td>\n      <td>25441.0</td>\n      <td>-57.0</td>\n      <td>25498.0</td>\n      <td>3</td>\n      <td>1</td>\n      <td>15:04:38</td>\n    </tr>\n    <tr>\n      <th>20</th>\n      <td>2020-01-02 15:28:47+00:00</td>\n      <td>2020-01-02 19:01:54+00:00</td>\n      <td>2020-01-02 19:02:51+00:00</td>\n      <td>7.417</td>\n      <td>1</td>\n      <td>1283.0</td>\n      <td>[{'WhPerMile': 350, 'kWhRequested': 42.0, 'milesRequested': 120, 'minutesAvailable': 238, 'modifiedAt': 'Thu, 02 Jan 2020 15:29:16 GMT', 'paymentRequired': True, 'requestedDeparture': 'Thu, 02 Jan 2020 19:26:47 GMT', 'userID': 1283}, {'WhPerMile': 350, 'kWhRequested': 56.0, 'milesRequested': 160, 'minutesAvailable': 282, 'modifiedAt': 'Thu, 02 Jan 2020 16:29:35 GMT', 'paymentRequired': True, 'requestedDeparture': 'Thu, 02 Jan 2020 20:10:47 GMT', 'userID': 1283}]</td>\n      <td>AG-1F02/1-1-193-827</td>\n      <td>12787.0</td>\n      <td>-57.0</td>\n      <td>12844.0</td>\n      <td>3</td>\n      <td>1</td>\n      <td>15:28:47</td>\n    </tr>\n    <tr>\n      <th>25</th>\n      <td>2020-01-02 15:42:05+00:00</td>\n      <td>2020-01-02 21:58:45+00:00</td>\n      <td>2020-01-02 21:59:42+00:00</td>\n      <td>36.701</td>\n      <td>1</td>\n      <td>474.0</td>\n      <td>[{'WhPerMile': 400, 'kWhRequested': 32.0, 'milesRequested': 80, 'minutesAvailable': 532, 'modifiedAt': 'Thu, 02 Jan 2020 15:42:11 GMT', 'paymentRequired': True, 'requestedDeparture': 'Fri, 03 Jan 2020 00:34:05 GMT', 'userID': 474}]</td>\n      <td>AG-3F23/1-1-179-797</td>\n      <td>22600.0</td>\n      <td>-57.0</td>\n      <td>22657.0</td>\n      <td>3</td>\n      <td>1</td>\n      <td>15:42:05</td>\n    </tr>\n    <tr>\n      <th>26</th>\n      <td>2020-01-02 15:57:24+00:00</td>\n      <td>2020-01-02 16:35:37+00:00</td>\n      <td>2020-01-02 16:36:34+00:00</td>\n      <td>3.689</td>\n      <td>1</td>\n      <td>724.0</td>\n      <td>[{'WhPerMile': 400, 'kWhRequested': 8.0, 'milesRequested': 20, 'minutesAvailable': 89, 'modifiedAt': 'Thu, 02 Jan 2020 15:57:39 GMT', 'paymentRequired': True, 'requestedDeparture': 'Thu, 02 Jan 2020 17:26:24 GMT', 'userID': 724}]</td>\n      <td>AG-3F31/1-1-179-781</td>\n      <td>2293.0</td>\n      <td>-57.0</td>\n      <td>2350.0</td>\n      <td>3</td>\n      <td>1</td>\n      <td>15:57:24</td>\n    </tr>\n    <tr>\n      <th>33</th>\n      <td>2020-01-02 16:34:35+00:00</td>\n      <td>2020-01-02 18:49:41+00:00</td>\n      <td>2020-01-02 18:50:38+00:00</td>\n      <td>7.120</td>\n      <td>1</td>\n      <td>2276.0</td>\n      <td>[{'WhPerMile': 600, 'kWhRequested': 18.0, 'milesRequested': 30, 'minutesAvailable': 165, 'modifiedAt': 'Thu, 02 Jan 2020 16:35:06 GMT', 'paymentRequired': True, 'requestedDeparture': 'Thu, 02 Jan 2020 19:19:35 GMT', 'userID': 2276}]</td>\n      <td>AG-3F19/1-1-179-790</td>\n      <td>8106.0</td>\n      <td>-57.0</td>\n      <td>8163.0</td>\n      <td>3</td>\n      <td>1</td>\n      <td>16:34:35</td>\n    </tr>\n    <tr>\n      <th>...</th>\n      <td>...</td>\n      <td>...</td>\n      <td>...</td>\n      <td>...</td>\n      <td>...</td>\n      <td>...</td>\n      <td>...</td>\n      <td>...</td>\n      <td>...</td>\n      <td>...</td>\n      <td>...</td>\n      <td>...</td>\n      <td>...</td>\n      <td>...</td>\n    </tr>\n    <tr>\n      <th>65028</th>\n      <td>2019-07-01 19:20:31+00:00</td>\n      <td>2019-07-02 00:16:32+00:00</td>\n      <td>2019-07-02 00:16:42+00:00</td>\n      <td>26.324</td>\n      <td>1</td>\n      <td>458.0</td>\n      <td>[{'WhPerMile': 400, 'kWhRequested': 8.0, 'milesRequested': 20, 'minutesAvailable': 204, 'modifiedAt': 'Mon, 01 Jul 2019 19:23:09 GMT', 'paymentRequired': True, 'requestedDeparture': 'Mon, 01 Jul 2019 22:44:31 GMT', 'userID': 458}, {'WhPerMile': 400, 'kWhRequested': 84.0, 'milesRequested': 210, 'minutesAvailable': 228, 'modifiedAt': 'Mon, 01 Jul 2019 19:25:18 GMT', 'paymentRequired': True, 'requestedDeparture': 'Mon, 01 Jul 2019 23:08:31 GMT', 'userID': 458}, {'WhPerMile': 400, 'kWhRequested': 68.0, 'milesRequested': 170, 'minutesAvailable': 180, 'modifiedAt': 'Mon, 01 Jul 2019 19:26:15 GMT', 'paymentRequired': True, 'requestedDeparture': 'Mon, 01 Jul 2019 22:20:31 GMT', 'userID': 458}]</td>\n      <td>AG-3F29/1-1-179-783</td>\n      <td>17761.0</td>\n      <td>-10.0</td>\n      <td>17771.0</td>\n      <td>0</td>\n      <td>7</td>\n      <td>19:20:31</td>\n    </tr>\n    <tr>\n      <th>65030</th>\n      <td>2019-07-01 20:01:07+00:00</td>\n      <td>2019-07-02 00:32:26+00:00</td>\n      <td>2019-07-02 00:32:59+00:00</td>\n      <td>21.588</td>\n      <td>1</td>\n      <td>1479.0</td>\n      <td>[{'WhPerMile': 275, 'kWhRequested': 19.25, 'milesRequested': 70, 'minutesAvailable': 286, 'modifiedAt': 'Mon, 01 Jul 2019 20:03:21 GMT', 'paymentRequired': True, 'requestedDeparture': 'Tue, 02 Jul 2019 00:47:07 GMT', 'userID': 1479}, {'WhPerMile': 200, 'kWhRequested': 30.0, 'milesRequested': 150, 'minutesAvailable': 286, 'modifiedAt': 'Mon, 01 Jul 2019 23:51:42 GMT', 'paymentRequired': True, 'requestedDeparture': 'Tue, 02 Jul 2019 00:47:07 GMT', 'userID': 1479}, {'WhPerMile': 200, 'kWhRequested': 30.0, 'milesRequested': 150, 'minutesAvailable': 288, 'modifiedAt': 'Mon, 01 Jul 2019 23:59:01 GMT', 'paymentRequired': True, 'requestedDeparture': 'Tue, 02 Jul 2019 00:49:07 GMT', 'userID': 1479}]</td>\n      <td>AG-3F32/1-1-179-800</td>\n      <td>16279.0</td>\n      <td>-33.0</td>\n      <td>16312.0</td>\n      <td>0</td>\n      <td>7</td>\n      <td>20:01:07</td>\n    </tr>\n    <tr>\n      <th>65033</th>\n      <td>2019-07-01 21:58:45+00:00</td>\n      <td>2019-07-02 00:39:48+00:00</td>\n      <td>2019-07-02 00:40:21+00:00</td>\n      <td>16.864</td>\n      <td>1</td>\n      <td>364.0</td>\n      <td>[{'WhPerMile': 400, 'kWhRequested': 40.0, 'milesRequested': 100, 'minutesAvailable': 234, 'modifiedAt': 'Mon, 01 Jul 2019 21:59:09 GMT', 'paymentRequired': True, 'requestedDeparture': 'Tue, 02 Jul 2019 01:52:45 GMT', 'userID': 364}]</td>\n      <td>AG-3F20/1-1-179-794</td>\n      <td>9663.0</td>\n      <td>-33.0</td>\n      <td>9696.0</td>\n      <td>0</td>\n      <td>7</td>\n      <td>21:58:45</td>\n    </tr>\n    <tr>\n      <th>65034</th>\n      <td>2019-07-01 22:02:21+00:00</td>\n      <td>2019-07-02 00:58:50+00:00</td>\n      <td>2019-07-02 00:59:23+00:00</td>\n      <td>18.335</td>\n      <td>1</td>\n      <td>2050.0</td>\n      <td>[{'WhPerMile': 333, 'kWhRequested': 29.97, 'milesRequested': 90, 'minutesAvailable': 309, 'modifiedAt': 'Mon, 01 Jul 2019 22:02:37 GMT', 'paymentRequired': True, 'requestedDeparture': 'Tue, 02 Jul 2019 03:11:21 GMT', 'userID': 2050}, {'WhPerMile': 333, 'kWhRequested': 23.31, 'milesRequested': 70, 'minutesAvailable': 192, 'modifiedAt': 'Mon, 01 Jul 2019 22:03:30 GMT', 'paymentRequired': True, 'requestedDeparture': 'Tue, 02 Jul 2019 01:14:21 GMT', 'userID': 2050}]</td>\n      <td>AG-4F47/1-1-191-807</td>\n      <td>10589.0</td>\n      <td>-33.0</td>\n      <td>10622.0</td>\n      <td>0</td>\n      <td>7</td>\n      <td>22:02:21</td>\n    </tr>\n    <tr>\n      <th>65035</th>\n      <td>2019-07-01 22:23:44+00:00</td>\n      <td>2019-07-02 02:03:36+00:00</td>\n      <td>2019-07-02 02:04:06+00:00</td>\n      <td>22.815</td>\n      <td>1</td>\n      <td>1626.0</td>\n      <td>[{'WhPerMile': 200, 'kWhRequested': 34.0, 'milesRequested': 170, 'minutesAvailable': 99, 'modifiedAt': 'Mon, 01 Jul 2019 22:23:43 GMT', 'paymentRequired': True, 'requestedDeparture': 'Tue, 02 Jul 2019 00:02:44 GMT', 'userID': 1626}]</td>\n      <td>AG-3F31/1-1-179-781</td>\n      <td>13192.0</td>\n      <td>-30.0</td>\n      <td>13222.0</td>\n      <td>0</td>\n      <td>7</td>\n      <td>22:23:44</td>\n    </tr>\n  </tbody>\n</table>\n<p>4387 rows × 14 columns</p>\n</div>"
     },
     "execution_count": 28,
     "metadata": {},
     "output_type": "execute_result"
    }
   ],
   "source": [
    "charging_sessions_modified[charging_sessions_modified[\"idleTime\"]<0]"
   ],
   "metadata": {
    "collapsed": false,
    "ExecuteTime": {
     "end_time": "2023-12-05T17:56:51.970575Z",
     "start_time": "2023-12-05T17:56:51.898061500Z"
    }
   }
  },
  {
   "cell_type": "code",
   "execution_count": 29,
   "outputs": [
    {
     "data": {
      "text/plain": "                count          mean           std       min       25%  \\\nkWhDelivered   4387.0     14.239556     12.575748     0.508     5.379   \nsiteID         4387.0      1.268977      0.443478     1.000     1.000   \nuserID         3329.0   1458.393812   1532.613614    22.000   410.000   \ntimeConnected  4387.0  15629.237520  14617.364141   242.000  6534.500   \nidleTime       4387.0    -56.017096     76.290027 -3596.000   -59.000   \nchargingTime   4387.0  15685.254616  14615.972474   253.000  6592.500   \nweekday        4387.0      2.247322      1.660041     0.000     1.000   \nmonth          4387.0      7.178938      3.401890     1.000     5.000   \n\n                     50%         75%            max  \nkWhDelivered      11.161     19.2395     108.797242  \nsiteID             1.000      2.0000       2.000000  \nuserID           832.000   2052.0000   17097.000000  \ntimeConnected  12291.000  21362.5000  540779.000000  \nidleTime         -58.000    -57.0000      -1.000000  \nchargingTime   12351.000  21417.0000  540838.000000  \nweekday            2.000      4.0000       6.000000  \nmonth              8.000     10.0000      12.000000  ",
      "text/html": "<div>\n<style scoped>\n    .dataframe tbody tr th:only-of-type {\n        vertical-align: middle;\n    }\n\n    .dataframe tbody tr th {\n        vertical-align: top;\n    }\n\n    .dataframe thead th {\n        text-align: right;\n    }\n</style>\n<table border=\"1\" class=\"dataframe\">\n  <thead>\n    <tr style=\"text-align: right;\">\n      <th></th>\n      <th>count</th>\n      <th>mean</th>\n      <th>std</th>\n      <th>min</th>\n      <th>25%</th>\n      <th>50%</th>\n      <th>75%</th>\n      <th>max</th>\n    </tr>\n  </thead>\n  <tbody>\n    <tr>\n      <th>kWhDelivered</th>\n      <td>4387.0</td>\n      <td>14.239556</td>\n      <td>12.575748</td>\n      <td>0.508</td>\n      <td>5.379</td>\n      <td>11.161</td>\n      <td>19.2395</td>\n      <td>108.797242</td>\n    </tr>\n    <tr>\n      <th>siteID</th>\n      <td>4387.0</td>\n      <td>1.268977</td>\n      <td>0.443478</td>\n      <td>1.000</td>\n      <td>1.000</td>\n      <td>1.000</td>\n      <td>2.0000</td>\n      <td>2.000000</td>\n    </tr>\n    <tr>\n      <th>userID</th>\n      <td>3329.0</td>\n      <td>1458.393812</td>\n      <td>1532.613614</td>\n      <td>22.000</td>\n      <td>410.000</td>\n      <td>832.000</td>\n      <td>2052.0000</td>\n      <td>17097.000000</td>\n    </tr>\n    <tr>\n      <th>timeConnected</th>\n      <td>4387.0</td>\n      <td>15629.237520</td>\n      <td>14617.364141</td>\n      <td>242.000</td>\n      <td>6534.500</td>\n      <td>12291.000</td>\n      <td>21362.5000</td>\n      <td>540779.000000</td>\n    </tr>\n    <tr>\n      <th>idleTime</th>\n      <td>4387.0</td>\n      <td>-56.017096</td>\n      <td>76.290027</td>\n      <td>-3596.000</td>\n      <td>-59.000</td>\n      <td>-58.000</td>\n      <td>-57.0000</td>\n      <td>-1.000000</td>\n    </tr>\n    <tr>\n      <th>chargingTime</th>\n      <td>4387.0</td>\n      <td>15685.254616</td>\n      <td>14615.972474</td>\n      <td>253.000</td>\n      <td>6592.500</td>\n      <td>12351.000</td>\n      <td>21417.0000</td>\n      <td>540838.000000</td>\n    </tr>\n    <tr>\n      <th>weekday</th>\n      <td>4387.0</td>\n      <td>2.247322</td>\n      <td>1.660041</td>\n      <td>0.000</td>\n      <td>1.000</td>\n      <td>2.000</td>\n      <td>4.0000</td>\n      <td>6.000000</td>\n    </tr>\n    <tr>\n      <th>month</th>\n      <td>4387.0</td>\n      <td>7.178938</td>\n      <td>3.401890</td>\n      <td>1.000</td>\n      <td>5.000</td>\n      <td>8.000</td>\n      <td>10.0000</td>\n      <td>12.000000</td>\n    </tr>\n  </tbody>\n</table>\n</div>"
     },
     "execution_count": 29,
     "metadata": {},
     "output_type": "execute_result"
    }
   ],
   "source": [
    "charging_sessions_modified[charging_sessions_modified[\"idleTime\"]<0].describe().transpose()"
   ],
   "metadata": {
    "collapsed": false,
    "ExecuteTime": {
     "end_time": "2023-12-05T17:56:52.016992100Z",
     "start_time": "2023-12-05T17:56:51.915286100Z"
    }
   }
  },
  {
   "cell_type": "markdown",
   "source": [
    "# TODO: Deal with the negative idle time values by ...\n",
    "Mean is around a minute, keep these, throw out everything else?"
   ],
   "metadata": {
    "collapsed": false
   }
  },
  {
   "cell_type": "markdown",
   "source": [
    "Another potential problem are the max values for timeConnected, idleTime and chargingTime. While it is possible to be connected and charging for the up to 10 days the max values represent, it is not that realistic. Let's have a closer look at all data points, where the connection time is above 24 hours (86400 seconds)"
   ],
   "metadata": {
    "collapsed": false
   }
  },
  {
   "cell_type": "code",
   "execution_count": 30,
   "outputs": [
    {
     "data": {
      "text/plain": "                 connectionTime            disconnectTime  \\\n7627  2019-08-14 13:00:40+00:00 2019-08-16 02:24:39+00:00   \n7911  2019-08-20 14:20:30+00:00 2019-08-22 00:32:21+00:00   \n18601 2021-07-16 14:01:18+00:00 2021-07-19 23:05:55+00:00   \n18603 2021-07-16 15:39:02+00:00 2021-07-19 23:05:38+00:00   \n18604 2021-07-16 15:45:30+00:00 2021-07-19 23:06:05+00:00   \n...                         ...                       ...   \n54521 2018-11-12 19:35:55+00:00 2018-11-15 01:44:47+00:00   \n61169 2019-04-16 00:01:28+00:00 2019-04-18 00:20:42+00:00   \n62402 2019-05-09 00:09:47+00:00 2019-05-10 01:23:16+00:00   \n63029 2019-05-21 00:10:00+00:00 2019-05-22 00:49:28+00:00   \n64086 2019-06-12 13:38:35+00:00 2019-06-14 13:28:08+00:00   \n\n               doneChargingTime  kWhDelivered  siteID   userID  \\\n7627  2019-08-14 14:48:08+00:00         4.557       1    521.0   \n7911  2019-08-20 17:55:00+00:00        14.022       1   2187.0   \n18601 2021-07-16 18:16:51+00:00        11.286       1    382.0   \n18603 2021-07-16 18:16:54+00:00        13.377       1  10747.0   \n18604 2021-07-19 20:36:25+00:00         5.793       1   3161.0   \n...                         ...           ...     ...      ...   \n54521 2018-11-12 23:41:28+00:00        10.646       1    425.0   \n61169 2019-04-17 01:18:18+00:00        39.970       1   2050.0   \n62402 2019-05-09 06:04:05+00:00        36.682       1   2050.0   \n63029 2019-05-21 23:22:59+00:00        39.989       1   2050.0   \n64086 2019-06-12 17:04:30+00:00         6.449       1   2447.0   \n\n                                                                                                                                                                                                                                                                                                                                                                                                                                                                                                                                                                                                                                                                                                                                                                                                                                                                                                                                                                  userInputs  \\\n7627                                                                                                                                                                                                                                                                                                                                                                                                                                                                                                                                                                                                                                                                                                                                  [{'WhPerMile': 400, 'kWhRequested': 16.0, 'milesRequested': 40, 'minutesAvailable': 73, 'modifiedAt': 'Wed, 14 Aug 2019 13:00:41 GMT', 'paymentRequired': True, 'requestedDeparture': 'Wed, 14 Aug 2019 14:13:40 GMT', 'userID': 521}]   \n7911                                                                                                                                                                                                                                                                                                                                                                                                                                                                                                                                                                                                                                                                                                                               [{'WhPerMile': 333, 'kWhRequested': 19.98, 'milesRequested': 60, 'minutesAvailable': 212, 'modifiedAt': 'Tue, 20 Aug 2019 14:21:02 GMT', 'paymentRequired': True, 'requestedDeparture': 'Tue, 20 Aug 2019 17:52:30 GMT', 'userID': 2187}]   \n18601                                                                                                                                                                                                                                                                                                                                                                                                                                                                                                                                                                                                                                                                                                                                [{'WhPerMile': 350, 'kWhRequested': 17.5, 'milesRequested': 50, 'minutesAvailable': 240, 'modifiedAt': 'Fri, 16 Jul 2021 14:01:17 GMT', 'paymentRequired': True, 'requestedDeparture': 'Fri, 16 Jul 2021 18:01:18 GMT', 'userID': 382}]   \n18603                                                                                                                                                                                                                                                                                                                                                                                                                                                                                                                                                                                                                                                                                                                             [{'WhPerMile': 283, 'kWhRequested': 28.3, 'milesRequested': 100, 'minutesAvailable': 201, 'modifiedAt': 'Fri, 16 Jul 2021 15:39:02 GMT', 'paymentRequired': True, 'requestedDeparture': 'Fri, 16 Jul 2021 19:00:02 GMT', 'userID': 10747}]   \n18604                                                                                                                                                                                                                                                                                                                                                                                                                                                                                                                                                                                                                                                                                                                               [{'WhPerMile': 250, 'kWhRequested': 8.75, 'milesRequested': 35, 'minutesAvailable': 150, 'modifiedAt': 'Fri, 16 Jul 2021 15:45:29 GMT', 'paymentRequired': True, 'requestedDeparture': 'Fri, 16 Jul 2021 18:15:30 GMT', 'userID': 3161}]   \n...                                                                                                                                                                                                                                                                                                                                                                                                                                                                                                                                                                                                                                                                                                                                                                                                                                                                                                                                                                      ...   \n54521                                                                                                                                                                                                                                                                                                                                                                                                                                                                                                                                                                                                                                                                                                                                [{'WhPerMile': 300, 'kWhRequested': 12.0, 'milesRequested': 40, 'minutesAvailable': 334, 'modifiedAt': 'Mon, 12 Nov 2018 19:35:56 GMT', 'paymentRequired': True, 'requestedDeparture': 'Tue, 13 Nov 2018 01:09:55 GMT', 'userID': 425}]   \n61169  [{'WhPerMile': 600, 'kWhRequested': 12.0, 'milesRequested': 20, 'minutesAvailable': 244, 'modifiedAt': 'Tue, 16 Apr 2019 00:03:15 GMT', 'paymentRequired': True, 'requestedDeparture': 'Tue, 16 Apr 2019 04:05:28 GMT', 'userID': 2050}, {'WhPerMile': 333, 'kWhRequested': 23.31, 'milesRequested': 70, 'minutesAvailable': 244, 'modifiedAt': 'Tue, 16 Apr 2019 02:40:44 GMT', 'paymentRequired': True, 'requestedDeparture': 'Tue, 16 Apr 2019 04:05:28 GMT', 'userID': 2050}, {'WhPerMile': 333, 'kWhRequested': 39.96, 'milesRequested': 120, 'minutesAvailable': 244, 'modifiedAt': 'Tue, 16 Apr 2019 02:41:46 GMT', 'paymentRequired': True, 'requestedDeparture': 'Tue, 16 Apr 2019 04:05:28 GMT', 'userID': 2050}, {'WhPerMile': 333, 'kWhRequested': 39.96, 'milesRequested': 120, 'minutesAvailable': 878, 'modifiedAt': 'Tue, 16 Apr 2019 02:42:02 GMT', 'paymentRequired': True, 'requestedDeparture': 'Tue, 16 Apr 2019 14:39:28 GMT', 'userID': 2050}]   \n62402                                                                                                                                                                                                                                                                                                                                                                                                                                                                                   [{'WhPerMile': 333, 'kWhRequested': 39.96, 'milesRequested': 120, 'minutesAvailable': 720, 'modifiedAt': 'Thu, 09 May 2019 00:10:02 GMT', 'paymentRequired': True, 'requestedDeparture': 'Thu, 09 May 2019 12:09:47 GMT', 'userID': 2050}, {'WhPerMile': 333, 'kWhRequested': 39.96, 'milesRequested': 120, 'minutesAvailable': 857, 'modifiedAt': 'Thu, 09 May 2019 02:28:09 GMT', 'paymentRequired': True, 'requestedDeparture': 'Thu, 09 May 2019 14:26:47 GMT', 'userID': 2050}]   \n63029                                                                                                                                                                                                                                                                                                                                                                                                                                                                                   [{'WhPerMile': 333, 'kWhRequested': 39.96, 'milesRequested': 120, 'minutesAvailable': 720, 'modifiedAt': 'Tue, 21 May 2019 00:10:23 GMT', 'paymentRequired': True, 'requestedDeparture': 'Tue, 21 May 2019 12:10:00 GMT', 'userID': 2050}, {'WhPerMile': 333, 'kWhRequested': 39.96, 'milesRequested': 120, 'minutesAvailable': 720, 'modifiedAt': 'Tue, 21 May 2019 23:23:19 GMT', 'paymentRequired': True, 'requestedDeparture': 'Tue, 21 May 2019 12:10:00 GMT', 'userID': 2050}]   \n64086                                                                                                                                                                                                                                                                                                                                                                                                                                                                                                                                                                                                                                                                                                                                [{'WhPerMile': 400, 'kWhRequested': 8.0, 'milesRequested': 20, 'minutesAvailable': 634, 'modifiedAt': 'Wed, 12 Jun 2019 13:38:34 GMT', 'paymentRequired': True, 'requestedDeparture': 'Thu, 13 Jun 2019 00:12:35 GMT', 'userID': 2447}]   \n\n      combinedSpaceStationID  timeConnected  idleTime  chargingTime  weekday  \\\n7627     AG-1F12/1-1-194-822       134639.0  128191.0        6448.0        2   \n7911     AG-3F28/1-1-179-777       123111.0  110241.0       12870.0        1   \n18601    AG-1F10/1-1-178-828       291877.0  276544.0       15333.0        4   \n18603    AG-1F08/1-1-178-823       285996.0  276524.0        9472.0        4   \n18604    AG-3F29/1-1-179-783       285635.0    8980.0      276655.0        4   \n...                      ...            ...       ...           ...      ...   \n54521    AG-4F43/1-1-191-778       194932.0  180199.0       14733.0        0   \n61169    AG-4F37/1-1-191-792       173954.0   82944.0       91010.0        1   \n62402    AG-1F03/1-1-193-829        90809.0   69551.0       21258.0        3   \n63029    AG-3F27/1-1-179-809        88768.0    5189.0       83579.0        1   \n64086    AG-1F13/1-1-194-821       172173.0  159818.0       12355.0        2   \n\n       month      time  \n7627       8  13:00:40  \n7911       8  14:20:30  \n18601      7  14:01:18  \n18603      7  15:39:02  \n18604      7  15:45:30  \n...      ...       ...  \n54521     11  19:35:55  \n61169      4  00:01:28  \n62402      5  00:09:47  \n63029      5  00:10:00  \n64086      6  13:38:35  \n\n[271 rows x 14 columns]",
      "text/html": "<div>\n<style scoped>\n    .dataframe tbody tr th:only-of-type {\n        vertical-align: middle;\n    }\n\n    .dataframe tbody tr th {\n        vertical-align: top;\n    }\n\n    .dataframe thead th {\n        text-align: right;\n    }\n</style>\n<table border=\"1\" class=\"dataframe\">\n  <thead>\n    <tr style=\"text-align: right;\">\n      <th></th>\n      <th>connectionTime</th>\n      <th>disconnectTime</th>\n      <th>doneChargingTime</th>\n      <th>kWhDelivered</th>\n      <th>siteID</th>\n      <th>userID</th>\n      <th>userInputs</th>\n      <th>combinedSpaceStationID</th>\n      <th>timeConnected</th>\n      <th>idleTime</th>\n      <th>chargingTime</th>\n      <th>weekday</th>\n      <th>month</th>\n      <th>time</th>\n    </tr>\n  </thead>\n  <tbody>\n    <tr>\n      <th>7627</th>\n      <td>2019-08-14 13:00:40+00:00</td>\n      <td>2019-08-16 02:24:39+00:00</td>\n      <td>2019-08-14 14:48:08+00:00</td>\n      <td>4.557</td>\n      <td>1</td>\n      <td>521.0</td>\n      <td>[{'WhPerMile': 400, 'kWhRequested': 16.0, 'milesRequested': 40, 'minutesAvailable': 73, 'modifiedAt': 'Wed, 14 Aug 2019 13:00:41 GMT', 'paymentRequired': True, 'requestedDeparture': 'Wed, 14 Aug 2019 14:13:40 GMT', 'userID': 521}]</td>\n      <td>AG-1F12/1-1-194-822</td>\n      <td>134639.0</td>\n      <td>128191.0</td>\n      <td>6448.0</td>\n      <td>2</td>\n      <td>8</td>\n      <td>13:00:40</td>\n    </tr>\n    <tr>\n      <th>7911</th>\n      <td>2019-08-20 14:20:30+00:00</td>\n      <td>2019-08-22 00:32:21+00:00</td>\n      <td>2019-08-20 17:55:00+00:00</td>\n      <td>14.022</td>\n      <td>1</td>\n      <td>2187.0</td>\n      <td>[{'WhPerMile': 333, 'kWhRequested': 19.98, 'milesRequested': 60, 'minutesAvailable': 212, 'modifiedAt': 'Tue, 20 Aug 2019 14:21:02 GMT', 'paymentRequired': True, 'requestedDeparture': 'Tue, 20 Aug 2019 17:52:30 GMT', 'userID': 2187}]</td>\n      <td>AG-3F28/1-1-179-777</td>\n      <td>123111.0</td>\n      <td>110241.0</td>\n      <td>12870.0</td>\n      <td>1</td>\n      <td>8</td>\n      <td>14:20:30</td>\n    </tr>\n    <tr>\n      <th>18601</th>\n      <td>2021-07-16 14:01:18+00:00</td>\n      <td>2021-07-19 23:05:55+00:00</td>\n      <td>2021-07-16 18:16:51+00:00</td>\n      <td>11.286</td>\n      <td>1</td>\n      <td>382.0</td>\n      <td>[{'WhPerMile': 350, 'kWhRequested': 17.5, 'milesRequested': 50, 'minutesAvailable': 240, 'modifiedAt': 'Fri, 16 Jul 2021 14:01:17 GMT', 'paymentRequired': True, 'requestedDeparture': 'Fri, 16 Jul 2021 18:01:18 GMT', 'userID': 382}]</td>\n      <td>AG-1F10/1-1-178-828</td>\n      <td>291877.0</td>\n      <td>276544.0</td>\n      <td>15333.0</td>\n      <td>4</td>\n      <td>7</td>\n      <td>14:01:18</td>\n    </tr>\n    <tr>\n      <th>18603</th>\n      <td>2021-07-16 15:39:02+00:00</td>\n      <td>2021-07-19 23:05:38+00:00</td>\n      <td>2021-07-16 18:16:54+00:00</td>\n      <td>13.377</td>\n      <td>1</td>\n      <td>10747.0</td>\n      <td>[{'WhPerMile': 283, 'kWhRequested': 28.3, 'milesRequested': 100, 'minutesAvailable': 201, 'modifiedAt': 'Fri, 16 Jul 2021 15:39:02 GMT', 'paymentRequired': True, 'requestedDeparture': 'Fri, 16 Jul 2021 19:00:02 GMT', 'userID': 10747}]</td>\n      <td>AG-1F08/1-1-178-823</td>\n      <td>285996.0</td>\n      <td>276524.0</td>\n      <td>9472.0</td>\n      <td>4</td>\n      <td>7</td>\n      <td>15:39:02</td>\n    </tr>\n    <tr>\n      <th>18604</th>\n      <td>2021-07-16 15:45:30+00:00</td>\n      <td>2021-07-19 23:06:05+00:00</td>\n      <td>2021-07-19 20:36:25+00:00</td>\n      <td>5.793</td>\n      <td>1</td>\n      <td>3161.0</td>\n      <td>[{'WhPerMile': 250, 'kWhRequested': 8.75, 'milesRequested': 35, 'minutesAvailable': 150, 'modifiedAt': 'Fri, 16 Jul 2021 15:45:29 GMT', 'paymentRequired': True, 'requestedDeparture': 'Fri, 16 Jul 2021 18:15:30 GMT', 'userID': 3161}]</td>\n      <td>AG-3F29/1-1-179-783</td>\n      <td>285635.0</td>\n      <td>8980.0</td>\n      <td>276655.0</td>\n      <td>4</td>\n      <td>7</td>\n      <td>15:45:30</td>\n    </tr>\n    <tr>\n      <th>...</th>\n      <td>...</td>\n      <td>...</td>\n      <td>...</td>\n      <td>...</td>\n      <td>...</td>\n      <td>...</td>\n      <td>...</td>\n      <td>...</td>\n      <td>...</td>\n      <td>...</td>\n      <td>...</td>\n      <td>...</td>\n      <td>...</td>\n      <td>...</td>\n    </tr>\n    <tr>\n      <th>54521</th>\n      <td>2018-11-12 19:35:55+00:00</td>\n      <td>2018-11-15 01:44:47+00:00</td>\n      <td>2018-11-12 23:41:28+00:00</td>\n      <td>10.646</td>\n      <td>1</td>\n      <td>425.0</td>\n      <td>[{'WhPerMile': 300, 'kWhRequested': 12.0, 'milesRequested': 40, 'minutesAvailable': 334, 'modifiedAt': 'Mon, 12 Nov 2018 19:35:56 GMT', 'paymentRequired': True, 'requestedDeparture': 'Tue, 13 Nov 2018 01:09:55 GMT', 'userID': 425}]</td>\n      <td>AG-4F43/1-1-191-778</td>\n      <td>194932.0</td>\n      <td>180199.0</td>\n      <td>14733.0</td>\n      <td>0</td>\n      <td>11</td>\n      <td>19:35:55</td>\n    </tr>\n    <tr>\n      <th>61169</th>\n      <td>2019-04-16 00:01:28+00:00</td>\n      <td>2019-04-18 00:20:42+00:00</td>\n      <td>2019-04-17 01:18:18+00:00</td>\n      <td>39.970</td>\n      <td>1</td>\n      <td>2050.0</td>\n      <td>[{'WhPerMile': 600, 'kWhRequested': 12.0, 'milesRequested': 20, 'minutesAvailable': 244, 'modifiedAt': 'Tue, 16 Apr 2019 00:03:15 GMT', 'paymentRequired': True, 'requestedDeparture': 'Tue, 16 Apr 2019 04:05:28 GMT', 'userID': 2050}, {'WhPerMile': 333, 'kWhRequested': 23.31, 'milesRequested': 70, 'minutesAvailable': 244, 'modifiedAt': 'Tue, 16 Apr 2019 02:40:44 GMT', 'paymentRequired': True, 'requestedDeparture': 'Tue, 16 Apr 2019 04:05:28 GMT', 'userID': 2050}, {'WhPerMile': 333, 'kWhRequested': 39.96, 'milesRequested': 120, 'minutesAvailable': 244, 'modifiedAt': 'Tue, 16 Apr 2019 02:41:46 GMT', 'paymentRequired': True, 'requestedDeparture': 'Tue, 16 Apr 2019 04:05:28 GMT', 'userID': 2050}, {'WhPerMile': 333, 'kWhRequested': 39.96, 'milesRequested': 120, 'minutesAvailable': 878, 'modifiedAt': 'Tue, 16 Apr 2019 02:42:02 GMT', 'paymentRequired': True, 'requestedDeparture': 'Tue, 16 Apr 2019 14:39:28 GMT', 'userID': 2050}]</td>\n      <td>AG-4F37/1-1-191-792</td>\n      <td>173954.0</td>\n      <td>82944.0</td>\n      <td>91010.0</td>\n      <td>1</td>\n      <td>4</td>\n      <td>00:01:28</td>\n    </tr>\n    <tr>\n      <th>62402</th>\n      <td>2019-05-09 00:09:47+00:00</td>\n      <td>2019-05-10 01:23:16+00:00</td>\n      <td>2019-05-09 06:04:05+00:00</td>\n      <td>36.682</td>\n      <td>1</td>\n      <td>2050.0</td>\n      <td>[{'WhPerMile': 333, 'kWhRequested': 39.96, 'milesRequested': 120, 'minutesAvailable': 720, 'modifiedAt': 'Thu, 09 May 2019 00:10:02 GMT', 'paymentRequired': True, 'requestedDeparture': 'Thu, 09 May 2019 12:09:47 GMT', 'userID': 2050}, {'WhPerMile': 333, 'kWhRequested': 39.96, 'milesRequested': 120, 'minutesAvailable': 857, 'modifiedAt': 'Thu, 09 May 2019 02:28:09 GMT', 'paymentRequired': True, 'requestedDeparture': 'Thu, 09 May 2019 14:26:47 GMT', 'userID': 2050}]</td>\n      <td>AG-1F03/1-1-193-829</td>\n      <td>90809.0</td>\n      <td>69551.0</td>\n      <td>21258.0</td>\n      <td>3</td>\n      <td>5</td>\n      <td>00:09:47</td>\n    </tr>\n    <tr>\n      <th>63029</th>\n      <td>2019-05-21 00:10:00+00:00</td>\n      <td>2019-05-22 00:49:28+00:00</td>\n      <td>2019-05-21 23:22:59+00:00</td>\n      <td>39.989</td>\n      <td>1</td>\n      <td>2050.0</td>\n      <td>[{'WhPerMile': 333, 'kWhRequested': 39.96, 'milesRequested': 120, 'minutesAvailable': 720, 'modifiedAt': 'Tue, 21 May 2019 00:10:23 GMT', 'paymentRequired': True, 'requestedDeparture': 'Tue, 21 May 2019 12:10:00 GMT', 'userID': 2050}, {'WhPerMile': 333, 'kWhRequested': 39.96, 'milesRequested': 120, 'minutesAvailable': 720, 'modifiedAt': 'Tue, 21 May 2019 23:23:19 GMT', 'paymentRequired': True, 'requestedDeparture': 'Tue, 21 May 2019 12:10:00 GMT', 'userID': 2050}]</td>\n      <td>AG-3F27/1-1-179-809</td>\n      <td>88768.0</td>\n      <td>5189.0</td>\n      <td>83579.0</td>\n      <td>1</td>\n      <td>5</td>\n      <td>00:10:00</td>\n    </tr>\n    <tr>\n      <th>64086</th>\n      <td>2019-06-12 13:38:35+00:00</td>\n      <td>2019-06-14 13:28:08+00:00</td>\n      <td>2019-06-12 17:04:30+00:00</td>\n      <td>6.449</td>\n      <td>1</td>\n      <td>2447.0</td>\n      <td>[{'WhPerMile': 400, 'kWhRequested': 8.0, 'milesRequested': 20, 'minutesAvailable': 634, 'modifiedAt': 'Wed, 12 Jun 2019 13:38:34 GMT', 'paymentRequired': True, 'requestedDeparture': 'Thu, 13 Jun 2019 00:12:35 GMT', 'userID': 2447}]</td>\n      <td>AG-1F13/1-1-194-821</td>\n      <td>172173.0</td>\n      <td>159818.0</td>\n      <td>12355.0</td>\n      <td>2</td>\n      <td>6</td>\n      <td>13:38:35</td>\n    </tr>\n  </tbody>\n</table>\n<p>271 rows × 14 columns</p>\n</div>"
     },
     "execution_count": 30,
     "metadata": {},
     "output_type": "execute_result"
    }
   ],
   "source": [
    "charging_sessions_modified[charging_sessions_modified[\"timeConnected\"]>=86400]"
   ],
   "metadata": {
    "collapsed": false,
    "ExecuteTime": {
     "end_time": "2023-12-05T17:56:52.016992100Z",
     "start_time": "2023-12-05T17:56:51.928294300Z"
    }
   }
  },
  {
   "cell_type": "code",
   "execution_count": 31,
   "outputs": [
    {
     "data": {
      "text/plain": "               count           mean            std        min          25%  \\\nkWhDelivered   271.0      15.776274      13.258068      0.855       6.5795   \nsiteID         271.0       1.933579       0.249477      1.000       2.0000   \nuserID         126.0    1900.095238    2378.863569     67.000     565.0000   \ntimeConnected  271.0  170722.863469  105132.493138  86495.000  101319.0000   \nidleTime       271.0  118105.793358   94392.426037    -59.000   67702.0000   \nchargingTime   271.0   52617.070111   84529.119803    -59.000    8030.5000   \nweekday        271.0       3.173432       2.042918      0.000       1.0000   \nmonth          271.0       6.749077       2.936953      1.000       5.0000   \n\n                      50%         75%         max  \nkWhDelivered       13.198      15.856      61.114  \nsiteID              2.000       2.000       2.000  \nuserID           1202.000    1826.000   15803.000  \ntimeConnected  134603.000  200845.500  882969.000  \nidleTime        93320.000  150709.000  562037.000  \nchargingTime    17079.000   75423.000  720057.000  \nweekday             4.000       5.000       6.000  \nmonth               7.000       9.000      12.000  ",
      "text/html": "<div>\n<style scoped>\n    .dataframe tbody tr th:only-of-type {\n        vertical-align: middle;\n    }\n\n    .dataframe tbody tr th {\n        vertical-align: top;\n    }\n\n    .dataframe thead th {\n        text-align: right;\n    }\n</style>\n<table border=\"1\" class=\"dataframe\">\n  <thead>\n    <tr style=\"text-align: right;\">\n      <th></th>\n      <th>count</th>\n      <th>mean</th>\n      <th>std</th>\n      <th>min</th>\n      <th>25%</th>\n      <th>50%</th>\n      <th>75%</th>\n      <th>max</th>\n    </tr>\n  </thead>\n  <tbody>\n    <tr>\n      <th>kWhDelivered</th>\n      <td>271.0</td>\n      <td>15.776274</td>\n      <td>13.258068</td>\n      <td>0.855</td>\n      <td>6.5795</td>\n      <td>13.198</td>\n      <td>15.856</td>\n      <td>61.114</td>\n    </tr>\n    <tr>\n      <th>siteID</th>\n      <td>271.0</td>\n      <td>1.933579</td>\n      <td>0.249477</td>\n      <td>1.000</td>\n      <td>2.0000</td>\n      <td>2.000</td>\n      <td>2.000</td>\n      <td>2.000</td>\n    </tr>\n    <tr>\n      <th>userID</th>\n      <td>126.0</td>\n      <td>1900.095238</td>\n      <td>2378.863569</td>\n      <td>67.000</td>\n      <td>565.0000</td>\n      <td>1202.000</td>\n      <td>1826.000</td>\n      <td>15803.000</td>\n    </tr>\n    <tr>\n      <th>timeConnected</th>\n      <td>271.0</td>\n      <td>170722.863469</td>\n      <td>105132.493138</td>\n      <td>86495.000</td>\n      <td>101319.0000</td>\n      <td>134603.000</td>\n      <td>200845.500</td>\n      <td>882969.000</td>\n    </tr>\n    <tr>\n      <th>idleTime</th>\n      <td>271.0</td>\n      <td>118105.793358</td>\n      <td>94392.426037</td>\n      <td>-59.000</td>\n      <td>67702.0000</td>\n      <td>93320.000</td>\n      <td>150709.000</td>\n      <td>562037.000</td>\n    </tr>\n    <tr>\n      <th>chargingTime</th>\n      <td>271.0</td>\n      <td>52617.070111</td>\n      <td>84529.119803</td>\n      <td>-59.000</td>\n      <td>8030.5000</td>\n      <td>17079.000</td>\n      <td>75423.000</td>\n      <td>720057.000</td>\n    </tr>\n    <tr>\n      <th>weekday</th>\n      <td>271.0</td>\n      <td>3.173432</td>\n      <td>2.042918</td>\n      <td>0.000</td>\n      <td>1.0000</td>\n      <td>4.000</td>\n      <td>5.000</td>\n      <td>6.000</td>\n    </tr>\n    <tr>\n      <th>month</th>\n      <td>271.0</td>\n      <td>6.749077</td>\n      <td>2.936953</td>\n      <td>1.000</td>\n      <td>5.0000</td>\n      <td>7.000</td>\n      <td>9.000</td>\n      <td>12.000</td>\n    </tr>\n  </tbody>\n</table>\n</div>"
     },
     "execution_count": 31,
     "metadata": {},
     "output_type": "execute_result"
    }
   ],
   "source": [
    "charging_sessions_modified[charging_sessions_modified[\"timeConnected\"]>=86400].describe().transpose()"
   ],
   "metadata": {
    "collapsed": false,
    "ExecuteTime": {
     "end_time": "2023-12-05T17:56:52.017999800Z",
     "start_time": "2023-12-05T17:56:51.939657500Z"
    }
   }
  },
  {
   "cell_type": "markdown",
   "source": [
    "271 data points where the connection time is more than a day is quite a lot. The mean of these being around 2 days is also higher than we would have expected.\n",
    "# TODO: We will deal with these by ..."
   ],
   "metadata": {
    "collapsed": false
   }
  },
  {
   "cell_type": "markdown",
   "source": [
    "Now let's check the userInputs column. Since we have null values over more than a fourth of the data-set there, simply dropping them might not be the best solution. Let's have a closer look at the data to see if they are of any use to us."
   ],
   "metadata": {
    "collapsed": false
   }
  },
  {
   "cell_type": "code",
   "execution_count": 32,
   "outputs": [
    {
     "name": "stdout",
     "output_type": "stream",
     "text": [
      "<class 'pandas.core.frame.DataFrame'>\n",
      "Int64Index: 60950 entries, 0 to 65036\n",
      "Data columns (total 14 columns):\n",
      " #   Column                  Non-Null Count  Dtype              \n",
      "---  ------                  --------------  -----              \n",
      " 0   connectionTime          60950 non-null  datetime64[ns, UTC]\n",
      " 1   disconnectTime          60950 non-null  datetime64[ns, UTC]\n",
      " 2   doneChargingTime        60950 non-null  datetime64[ns, UTC]\n",
      " 3   kWhDelivered            60950 non-null  float64            \n",
      " 4   siteID                  60950 non-null  int64              \n",
      " 5   userID                  44644 non-null  float64            \n",
      " 6   userInputs              44644 non-null  object             \n",
      " 7   combinedSpaceStationID  60950 non-null  object             \n",
      " 8   timeConnected           60950 non-null  float64            \n",
      " 9   idleTime                60950 non-null  float64            \n",
      " 10  chargingTime            60950 non-null  float64            \n",
      " 11  weekday                 60950 non-null  int64              \n",
      " 12  month                   60950 non-null  int64              \n",
      " 13  time                    60950 non-null  object             \n",
      "dtypes: datetime64[ns, UTC](3), float64(5), int64(3), object(3)\n",
      "memory usage: 7.0+ MB\n"
     ]
    }
   ],
   "source": [
    "charging_sessions_modified.info()"
   ],
   "metadata": {
    "collapsed": false,
    "ExecuteTime": {
     "end_time": "2023-12-05T17:56:52.017999800Z",
     "start_time": "2023-12-05T17:56:51.949225300Z"
    }
   }
  },
  {
   "cell_type": "code",
   "execution_count": 33,
   "outputs": [
    {
     "data": {
      "text/plain": "                                                                                                                                                                                                                                                                                                                                                                                                                                                                               userInputs\n0                                                                                                                                                                                                                                                [{'WhPerMile': 250, 'kWhRequested': 25.0, 'milesRequested': 100, 'minutesAvailable': 463, 'modifiedAt': 'Thu, 02 Jan 2020 13:09:39 GMT', 'paymentRequired': True, 'requestedDeparture': 'Thu, 02 Jan 2020 20:51:54 GMT', 'userID': 194}]\n1                                                                                                                                                                                                                                               [{'WhPerMile': 280, 'kWhRequested': 70.0, 'milesRequested': 250, 'minutesAvailable': 595, 'modifiedAt': 'Thu, 02 Jan 2020 13:37:11 GMT', 'paymentRequired': True, 'requestedDeparture': 'Thu, 02 Jan 2020 23:31:50 GMT', 'userID': 4275}]\n2                                                                                                                                                                                                                                                   [{'WhPerMile': 400, 'kWhRequested': 8.0, 'milesRequested': 20, 'minutesAvailable': 60, 'modifiedAt': 'Thu, 02 Jan 2020 13:57:17 GMT', 'paymentRequired': True, 'requestedDeparture': 'Thu, 02 Jan 2020 14:56:35 GMT', 'userID': 344}]\n3            [{'WhPerMile': 400, 'kWhRequested': 8.0, 'milesRequested': 20, 'minutesAvailable': 65, 'modifiedAt': 'Thu, 02 Jan 2020 14:00:03 GMT', 'paymentRequired': True, 'requestedDeparture': 'Thu, 02 Jan 2020 15:04:58 GMT', 'userID': 1117}, {'WhPerMile': 400, 'kWhRequested': 8.0, 'milesRequested': 20, 'minutesAvailable': 65, 'modifiedAt': 'Thu, 02 Jan 2020 14:00:19 GMT', 'paymentRequired': True, 'requestedDeparture': 'Thu, 02 Jan 2020 15:04:58 GMT', 'userID': 1117}]\n4                                                                                                                                                                                                                                                 [{'WhPerMile': 400, 'kWhRequested': 16.0, 'milesRequested': 40, 'minutesAvailable': 504, 'modifiedAt': 'Thu, 02 Jan 2020 14:00:13 GMT', 'paymentRequired': True, 'requestedDeparture': 'Thu, 02 Jan 2020 22:24:01 GMT', 'userID': 334}]\n...                                                                                                                                                                                                                                                                                                                                                                                                                                                                                   ...\n65032      [{'WhPerMile': 400, 'kWhRequested': 32.0, 'milesRequested': 80, 'minutesAvailable': 36, 'modifiedAt': 'Mon, 01 Jul 2019 21:49:37 GMT', 'paymentRequired': True, 'requestedDeparture': 'Mon, 01 Jul 2019 22:25:12 GMT', 'userID': 1346}, {'WhPerMile': 400, 'kWhRequested': 32.0, 'milesRequested': 80, 'minutesAvailable': 36, 'modifiedAt': 'Mon, 01 Jul 2019 21:51:07 GMT', 'paymentRequired': True, 'requestedDeparture': 'Mon, 01 Jul 2019 22:25:12 GMT', 'userID': 1346}]\n65033                                                                                                                                                                                                                                            [{'WhPerMile': 400, 'kWhRequested': 40.0, 'milesRequested': 100, 'minutesAvailable': 234, 'modifiedAt': 'Mon, 01 Jul 2019 21:59:09 GMT', 'paymentRequired': True, 'requestedDeparture': 'Tue, 02 Jul 2019 01:52:45 GMT', 'userID': 364}]\n65034  [{'WhPerMile': 333, 'kWhRequested': 29.97, 'milesRequested': 90, 'minutesAvailable': 309, 'modifiedAt': 'Mon, 01 Jul 2019 22:02:37 GMT', 'paymentRequired': True, 'requestedDeparture': 'Tue, 02 Jul 2019 03:11:21 GMT', 'userID': 2050}, {'WhPerMile': 333, 'kWhRequested': 23.31, 'milesRequested': 70, 'minutesAvailable': 192, 'modifiedAt': 'Mon, 01 Jul 2019 22:03:30 GMT', 'paymentRequired': True, 'requestedDeparture': 'Tue, 02 Jul 2019 01:14:21 GMT', 'userID': 2050}]\n65035                                                                                                                                                                                                                                            [{'WhPerMile': 200, 'kWhRequested': 34.0, 'milesRequested': 170, 'minutesAvailable': 99, 'modifiedAt': 'Mon, 01 Jul 2019 22:23:43 GMT', 'paymentRequired': True, 'requestedDeparture': 'Tue, 02 Jul 2019 00:02:44 GMT', 'userID': 1626}]\n65036                                                                                                                                                                                                                                           [{'WhPerMile': 333, 'kWhRequested': 16.65, 'milesRequested': 50, 'minutesAvailable': 191, 'modifiedAt': 'Mon, 01 Jul 2019 22:36:08 GMT', 'paymentRequired': True, 'requestedDeparture': 'Tue, 02 Jul 2019 01:47:08 GMT', 'userID': 2299}]\n\n[60950 rows x 1 columns]",
      "text/html": "<div>\n<style scoped>\n    .dataframe tbody tr th:only-of-type {\n        vertical-align: middle;\n    }\n\n    .dataframe tbody tr th {\n        vertical-align: top;\n    }\n\n    .dataframe thead th {\n        text-align: right;\n    }\n</style>\n<table border=\"1\" class=\"dataframe\">\n  <thead>\n    <tr style=\"text-align: right;\">\n      <th></th>\n      <th>userInputs</th>\n    </tr>\n  </thead>\n  <tbody>\n    <tr>\n      <th>0</th>\n      <td>[{'WhPerMile': 250, 'kWhRequested': 25.0, 'milesRequested': 100, 'minutesAvailable': 463, 'modifiedAt': 'Thu, 02 Jan 2020 13:09:39 GMT', 'paymentRequired': True, 'requestedDeparture': 'Thu, 02 Jan 2020 20:51:54 GMT', 'userID': 194}]</td>\n    </tr>\n    <tr>\n      <th>1</th>\n      <td>[{'WhPerMile': 280, 'kWhRequested': 70.0, 'milesRequested': 250, 'minutesAvailable': 595, 'modifiedAt': 'Thu, 02 Jan 2020 13:37:11 GMT', 'paymentRequired': True, 'requestedDeparture': 'Thu, 02 Jan 2020 23:31:50 GMT', 'userID': 4275}]</td>\n    </tr>\n    <tr>\n      <th>2</th>\n      <td>[{'WhPerMile': 400, 'kWhRequested': 8.0, 'milesRequested': 20, 'minutesAvailable': 60, 'modifiedAt': 'Thu, 02 Jan 2020 13:57:17 GMT', 'paymentRequired': True, 'requestedDeparture': 'Thu, 02 Jan 2020 14:56:35 GMT', 'userID': 344}]</td>\n    </tr>\n    <tr>\n      <th>3</th>\n      <td>[{'WhPerMile': 400, 'kWhRequested': 8.0, 'milesRequested': 20, 'minutesAvailable': 65, 'modifiedAt': 'Thu, 02 Jan 2020 14:00:03 GMT', 'paymentRequired': True, 'requestedDeparture': 'Thu, 02 Jan 2020 15:04:58 GMT', 'userID': 1117}, {'WhPerMile': 400, 'kWhRequested': 8.0, 'milesRequested': 20, 'minutesAvailable': 65, 'modifiedAt': 'Thu, 02 Jan 2020 14:00:19 GMT', 'paymentRequired': True, 'requestedDeparture': 'Thu, 02 Jan 2020 15:04:58 GMT', 'userID': 1117}]</td>\n    </tr>\n    <tr>\n      <th>4</th>\n      <td>[{'WhPerMile': 400, 'kWhRequested': 16.0, 'milesRequested': 40, 'minutesAvailable': 504, 'modifiedAt': 'Thu, 02 Jan 2020 14:00:13 GMT', 'paymentRequired': True, 'requestedDeparture': 'Thu, 02 Jan 2020 22:24:01 GMT', 'userID': 334}]</td>\n    </tr>\n    <tr>\n      <th>...</th>\n      <td>...</td>\n    </tr>\n    <tr>\n      <th>65032</th>\n      <td>[{'WhPerMile': 400, 'kWhRequested': 32.0, 'milesRequested': 80, 'minutesAvailable': 36, 'modifiedAt': 'Mon, 01 Jul 2019 21:49:37 GMT', 'paymentRequired': True, 'requestedDeparture': 'Mon, 01 Jul 2019 22:25:12 GMT', 'userID': 1346}, {'WhPerMile': 400, 'kWhRequested': 32.0, 'milesRequested': 80, 'minutesAvailable': 36, 'modifiedAt': 'Mon, 01 Jul 2019 21:51:07 GMT', 'paymentRequired': True, 'requestedDeparture': 'Mon, 01 Jul 2019 22:25:12 GMT', 'userID': 1346}]</td>\n    </tr>\n    <tr>\n      <th>65033</th>\n      <td>[{'WhPerMile': 400, 'kWhRequested': 40.0, 'milesRequested': 100, 'minutesAvailable': 234, 'modifiedAt': 'Mon, 01 Jul 2019 21:59:09 GMT', 'paymentRequired': True, 'requestedDeparture': 'Tue, 02 Jul 2019 01:52:45 GMT', 'userID': 364}]</td>\n    </tr>\n    <tr>\n      <th>65034</th>\n      <td>[{'WhPerMile': 333, 'kWhRequested': 29.97, 'milesRequested': 90, 'minutesAvailable': 309, 'modifiedAt': 'Mon, 01 Jul 2019 22:02:37 GMT', 'paymentRequired': True, 'requestedDeparture': 'Tue, 02 Jul 2019 03:11:21 GMT', 'userID': 2050}, {'WhPerMile': 333, 'kWhRequested': 23.31, 'milesRequested': 70, 'minutesAvailable': 192, 'modifiedAt': 'Mon, 01 Jul 2019 22:03:30 GMT', 'paymentRequired': True, 'requestedDeparture': 'Tue, 02 Jul 2019 01:14:21 GMT', 'userID': 2050}]</td>\n    </tr>\n    <tr>\n      <th>65035</th>\n      <td>[{'WhPerMile': 200, 'kWhRequested': 34.0, 'milesRequested': 170, 'minutesAvailable': 99, 'modifiedAt': 'Mon, 01 Jul 2019 22:23:43 GMT', 'paymentRequired': True, 'requestedDeparture': 'Tue, 02 Jul 2019 00:02:44 GMT', 'userID': 1626}]</td>\n    </tr>\n    <tr>\n      <th>65036</th>\n      <td>[{'WhPerMile': 333, 'kWhRequested': 16.65, 'milesRequested': 50, 'minutesAvailable': 191, 'modifiedAt': 'Mon, 01 Jul 2019 22:36:08 GMT', 'paymentRequired': True, 'requestedDeparture': 'Tue, 02 Jul 2019 01:47:08 GMT', 'userID': 2299}]</td>\n    </tr>\n  </tbody>\n</table>\n<p>60950 rows × 1 columns</p>\n</div>"
     },
     "execution_count": 33,
     "metadata": {},
     "output_type": "execute_result"
    }
   ],
   "source": [
    "userInputs = pd.DataFrame(charging_sessions_modified.copy()[\"userInputs\"])\n",
    "userInputs"
   ],
   "metadata": {
    "collapsed": false,
    "ExecuteTime": {
     "end_time": "2023-12-05T17:56:52.019505200Z",
     "start_time": "2023-12-05T17:56:51.967512900Z"
    }
   }
  },
  {
   "cell_type": "code",
   "execution_count": 34,
   "outputs": [],
   "source": [
    "import numpy as np\n",
    "# Convert string representations of dictionaries to actual dictionaries\n",
    "userInputs['userInputs'] = userInputs['userInputs'].apply(lambda x: ast.literal_eval(x) if isinstance(x, str) and pd.notnull(x) else x)\n",
    "\n",
    "# Define the default dictionary for filling None values within each dictionary\n",
    "default_dict = {'WhPerMile': np.NaN, 'kWhRequested': np.NaN, 'milesRequested': np.NaN,\n",
    "                'minutesAvailable': np.NaN, 'modifiedAt':  np.NaN, 'paymentRequired': None,\n",
    "                'requestedDeparture': np.NaN}\n",
    "\n",
    "# Function to fill None values within a dictionary with the default dictionary\n",
    "def fill_none_values(entry):\n",
    "    if isinstance(entry, dict):\n",
    "        return {key: default_dict[key] if entry.get(key) is None else entry[key] for key in default_dict}\n",
    "    elif isinstance(entry, list) and entry and isinstance(entry[0], dict):\n",
    "        return entry[0]\n",
    "    else:\n",
    "        return default_dict\n",
    "\n",
    "# Apply the fill_none_values function to the \"userInputs\" column\n",
    "userInputs['userInputs'] = userInputs['userInputs'].apply(fill_none_values)\n",
    "\n",
    "# Use json_normalize to flatten the nested dictionaries\n",
    "user_df = json_normalize(userInputs['userInputs'])"
   ],
   "metadata": {
    "collapsed": false,
    "ExecuteTime": {
     "end_time": "2023-12-05T17:56:53.553133Z",
     "start_time": "2023-12-05T17:56:51.976363800Z"
    }
   }
  },
  {
   "cell_type": "code",
   "execution_count": 35,
   "outputs": [
    {
     "data": {
      "text/plain": "       WhPerMile  kWhRequested  milesRequested  minutesAvailable  \\\n0          250.0         25.00           100.0             463.0   \n1          280.0         70.00           250.0             595.0   \n2          400.0          8.00            20.0              60.0   \n3          400.0          8.00            20.0              65.0   \n4          400.0         16.00            40.0             504.0   \n...          ...           ...             ...               ...   \n60945      400.0         32.00            80.0              36.0   \n60946      400.0         40.00           100.0             234.0   \n60947      333.0         29.97            90.0             309.0   \n60948      200.0         34.00           170.0              99.0   \n60949      333.0         16.65            50.0             191.0   \n\n                          modifiedAt paymentRequired  \\\n0      Thu, 02 Jan 2020 13:09:39 GMT            True   \n1      Thu, 02 Jan 2020 13:37:11 GMT            True   \n2      Thu, 02 Jan 2020 13:57:17 GMT            True   \n3      Thu, 02 Jan 2020 14:00:03 GMT            True   \n4      Thu, 02 Jan 2020 14:00:13 GMT            True   \n...                              ...             ...   \n60945  Mon, 01 Jul 2019 21:49:37 GMT            True   \n60946  Mon, 01 Jul 2019 21:59:09 GMT            True   \n60947  Mon, 01 Jul 2019 22:02:37 GMT            True   \n60948  Mon, 01 Jul 2019 22:23:43 GMT            True   \n60949  Mon, 01 Jul 2019 22:36:08 GMT            True   \n\n                  requestedDeparture  userID  \n0      Thu, 02 Jan 2020 20:51:54 GMT   194.0  \n1      Thu, 02 Jan 2020 23:31:50 GMT  4275.0  \n2      Thu, 02 Jan 2020 14:56:35 GMT   344.0  \n3      Thu, 02 Jan 2020 15:04:58 GMT  1117.0  \n4      Thu, 02 Jan 2020 22:24:01 GMT   334.0  \n...                              ...     ...  \n60945  Mon, 01 Jul 2019 22:25:12 GMT  1346.0  \n60946  Tue, 02 Jul 2019 01:52:45 GMT   364.0  \n60947  Tue, 02 Jul 2019 03:11:21 GMT  2050.0  \n60948  Tue, 02 Jul 2019 00:02:44 GMT  1626.0  \n60949  Tue, 02 Jul 2019 01:47:08 GMT  2299.0  \n\n[60950 rows x 8 columns]",
      "text/html": "<div>\n<style scoped>\n    .dataframe tbody tr th:only-of-type {\n        vertical-align: middle;\n    }\n\n    .dataframe tbody tr th {\n        vertical-align: top;\n    }\n\n    .dataframe thead th {\n        text-align: right;\n    }\n</style>\n<table border=\"1\" class=\"dataframe\">\n  <thead>\n    <tr style=\"text-align: right;\">\n      <th></th>\n      <th>WhPerMile</th>\n      <th>kWhRequested</th>\n      <th>milesRequested</th>\n      <th>minutesAvailable</th>\n      <th>modifiedAt</th>\n      <th>paymentRequired</th>\n      <th>requestedDeparture</th>\n      <th>userID</th>\n    </tr>\n  </thead>\n  <tbody>\n    <tr>\n      <th>0</th>\n      <td>250.0</td>\n      <td>25.00</td>\n      <td>100.0</td>\n      <td>463.0</td>\n      <td>Thu, 02 Jan 2020 13:09:39 GMT</td>\n      <td>True</td>\n      <td>Thu, 02 Jan 2020 20:51:54 GMT</td>\n      <td>194.0</td>\n    </tr>\n    <tr>\n      <th>1</th>\n      <td>280.0</td>\n      <td>70.00</td>\n      <td>250.0</td>\n      <td>595.0</td>\n      <td>Thu, 02 Jan 2020 13:37:11 GMT</td>\n      <td>True</td>\n      <td>Thu, 02 Jan 2020 23:31:50 GMT</td>\n      <td>4275.0</td>\n    </tr>\n    <tr>\n      <th>2</th>\n      <td>400.0</td>\n      <td>8.00</td>\n      <td>20.0</td>\n      <td>60.0</td>\n      <td>Thu, 02 Jan 2020 13:57:17 GMT</td>\n      <td>True</td>\n      <td>Thu, 02 Jan 2020 14:56:35 GMT</td>\n      <td>344.0</td>\n    </tr>\n    <tr>\n      <th>3</th>\n      <td>400.0</td>\n      <td>8.00</td>\n      <td>20.0</td>\n      <td>65.0</td>\n      <td>Thu, 02 Jan 2020 14:00:03 GMT</td>\n      <td>True</td>\n      <td>Thu, 02 Jan 2020 15:04:58 GMT</td>\n      <td>1117.0</td>\n    </tr>\n    <tr>\n      <th>4</th>\n      <td>400.0</td>\n      <td>16.00</td>\n      <td>40.0</td>\n      <td>504.0</td>\n      <td>Thu, 02 Jan 2020 14:00:13 GMT</td>\n      <td>True</td>\n      <td>Thu, 02 Jan 2020 22:24:01 GMT</td>\n      <td>334.0</td>\n    </tr>\n    <tr>\n      <th>...</th>\n      <td>...</td>\n      <td>...</td>\n      <td>...</td>\n      <td>...</td>\n      <td>...</td>\n      <td>...</td>\n      <td>...</td>\n      <td>...</td>\n    </tr>\n    <tr>\n      <th>60945</th>\n      <td>400.0</td>\n      <td>32.00</td>\n      <td>80.0</td>\n      <td>36.0</td>\n      <td>Mon, 01 Jul 2019 21:49:37 GMT</td>\n      <td>True</td>\n      <td>Mon, 01 Jul 2019 22:25:12 GMT</td>\n      <td>1346.0</td>\n    </tr>\n    <tr>\n      <th>60946</th>\n      <td>400.0</td>\n      <td>40.00</td>\n      <td>100.0</td>\n      <td>234.0</td>\n      <td>Mon, 01 Jul 2019 21:59:09 GMT</td>\n      <td>True</td>\n      <td>Tue, 02 Jul 2019 01:52:45 GMT</td>\n      <td>364.0</td>\n    </tr>\n    <tr>\n      <th>60947</th>\n      <td>333.0</td>\n      <td>29.97</td>\n      <td>90.0</td>\n      <td>309.0</td>\n      <td>Mon, 01 Jul 2019 22:02:37 GMT</td>\n      <td>True</td>\n      <td>Tue, 02 Jul 2019 03:11:21 GMT</td>\n      <td>2050.0</td>\n    </tr>\n    <tr>\n      <th>60948</th>\n      <td>200.0</td>\n      <td>34.00</td>\n      <td>170.0</td>\n      <td>99.0</td>\n      <td>Mon, 01 Jul 2019 22:23:43 GMT</td>\n      <td>True</td>\n      <td>Tue, 02 Jul 2019 00:02:44 GMT</td>\n      <td>1626.0</td>\n    </tr>\n    <tr>\n      <th>60949</th>\n      <td>333.0</td>\n      <td>16.65</td>\n      <td>50.0</td>\n      <td>191.0</td>\n      <td>Mon, 01 Jul 2019 22:36:08 GMT</td>\n      <td>True</td>\n      <td>Tue, 02 Jul 2019 01:47:08 GMT</td>\n      <td>2299.0</td>\n    </tr>\n  </tbody>\n</table>\n<p>60950 rows × 8 columns</p>\n</div>"
     },
     "execution_count": 35,
     "metadata": {},
     "output_type": "execute_result"
    }
   ],
   "source": [
    "user_df"
   ],
   "metadata": {
    "collapsed": false,
    "ExecuteTime": {
     "end_time": "2023-12-05T17:56:53.561525200Z",
     "start_time": "2023-12-05T17:56:53.553133Z"
    }
   }
  },
  {
   "cell_type": "code",
   "execution_count": 36,
   "outputs": [
    {
     "name": "stdout",
     "output_type": "stream",
     "text": [
      "<class 'pandas.core.frame.DataFrame'>\n",
      "RangeIndex: 60950 entries, 0 to 60949\n",
      "Data columns (total 8 columns):\n",
      " #   Column              Non-Null Count  Dtype  \n",
      "---  ------              --------------  -----  \n",
      " 0   WhPerMile           44644 non-null  float64\n",
      " 1   kWhRequested        44644 non-null  float64\n",
      " 2   milesRequested      44644 non-null  float64\n",
      " 3   minutesAvailable    44644 non-null  float64\n",
      " 4   modifiedAt          44644 non-null  object \n",
      " 5   paymentRequired     44644 non-null  object \n",
      " 6   requestedDeparture  44644 non-null  object \n",
      " 7   userID              44644 non-null  float64\n",
      "dtypes: float64(5), object(3)\n",
      "memory usage: 3.7+ MB\n"
     ]
    },
    {
     "data": {
      "text/plain": "          WhPerMile  kWhRequested  milesRequested  minutesAvailable  \\\ncount  44644.000000  44644.000000    44644.000000      44644.000000   \nmean     362.668399     24.763407       72.996707        355.158050   \nstd      102.329159     20.584336       60.547162        194.843595   \nmin       50.000000      0.000000        0.000000          1.000000   \n25%      290.000000     12.000000       30.000000        191.000000   \n50%      360.000000     18.540000       50.000000        360.000000   \n75%      400.000000     31.300000      100.000000        498.000000   \nmax     2000.000000    215.320000      480.000000      10062.000000   \n\n             userID  \ncount  44644.000000  \nmean    1709.660514  \nstd     2464.480169  \nmin        1.000000  \n25%      431.000000  \n50%      774.000000  \n75%     1754.000000  \nmax    19923.000000  ",
      "text/html": "<div>\n<style scoped>\n    .dataframe tbody tr th:only-of-type {\n        vertical-align: middle;\n    }\n\n    .dataframe tbody tr th {\n        vertical-align: top;\n    }\n\n    .dataframe thead th {\n        text-align: right;\n    }\n</style>\n<table border=\"1\" class=\"dataframe\">\n  <thead>\n    <tr style=\"text-align: right;\">\n      <th></th>\n      <th>WhPerMile</th>\n      <th>kWhRequested</th>\n      <th>milesRequested</th>\n      <th>minutesAvailable</th>\n      <th>userID</th>\n    </tr>\n  </thead>\n  <tbody>\n    <tr>\n      <th>count</th>\n      <td>44644.000000</td>\n      <td>44644.000000</td>\n      <td>44644.000000</td>\n      <td>44644.000000</td>\n      <td>44644.000000</td>\n    </tr>\n    <tr>\n      <th>mean</th>\n      <td>362.668399</td>\n      <td>24.763407</td>\n      <td>72.996707</td>\n      <td>355.158050</td>\n      <td>1709.660514</td>\n    </tr>\n    <tr>\n      <th>std</th>\n      <td>102.329159</td>\n      <td>20.584336</td>\n      <td>60.547162</td>\n      <td>194.843595</td>\n      <td>2464.480169</td>\n    </tr>\n    <tr>\n      <th>min</th>\n      <td>50.000000</td>\n      <td>0.000000</td>\n      <td>0.000000</td>\n      <td>1.000000</td>\n      <td>1.000000</td>\n    </tr>\n    <tr>\n      <th>25%</th>\n      <td>290.000000</td>\n      <td>12.000000</td>\n      <td>30.000000</td>\n      <td>191.000000</td>\n      <td>431.000000</td>\n    </tr>\n    <tr>\n      <th>50%</th>\n      <td>360.000000</td>\n      <td>18.540000</td>\n      <td>50.000000</td>\n      <td>360.000000</td>\n      <td>774.000000</td>\n    </tr>\n    <tr>\n      <th>75%</th>\n      <td>400.000000</td>\n      <td>31.300000</td>\n      <td>100.000000</td>\n      <td>498.000000</td>\n      <td>1754.000000</td>\n    </tr>\n    <tr>\n      <th>max</th>\n      <td>2000.000000</td>\n      <td>215.320000</td>\n      <td>480.000000</td>\n      <td>10062.000000</td>\n      <td>19923.000000</td>\n    </tr>\n  </tbody>\n</table>\n</div>"
     },
     "execution_count": 36,
     "metadata": {},
     "output_type": "execute_result"
    }
   ],
   "source": [
    "user_df.info()\n",
    "user_df.describe()"
   ],
   "metadata": {
    "collapsed": false,
    "ExecuteTime": {
     "end_time": "2023-12-05T17:56:53.622885400Z",
     "start_time": "2023-12-05T17:56:53.561525200Z"
    }
   }
  },
  {
   "cell_type": "markdown",
   "source": [
    "Combine this with the rest of the data and drop the now redundant userInputs column"
   ],
   "metadata": {
    "collapsed": false
   }
  },
  {
   "cell_type": "code",
   "execution_count": 37,
   "outputs": [],
   "source": [
    "user_df.drop(columns=[\"userID\"], inplace=True) #drop this so we dont duplicate it in the concatenated dataframe\n",
    "charging_sessions_modified = pd.concat([charging_sessions_modified,user_df], axis = 1)\n",
    "charging_sessions_modified.drop(columns= [\"userInputs\"], inplace= True )"
   ],
   "metadata": {
    "collapsed": false,
    "ExecuteTime": {
     "end_time": "2023-12-05T17:56:53.626397800Z",
     "start_time": "2023-12-05T17:56:53.592352500Z"
    }
   }
  },
  {
   "cell_type": "code",
   "execution_count": 38,
   "outputs": [
    {
     "data": {
      "text/plain": "                 connectionTime            disconnectTime  \\\n0     2020-01-02 13:08:54+00:00 2020-01-02 19:11:15+00:00   \n1     2020-01-02 13:36:50+00:00 2020-01-02 22:38:21+00:00   \n2     2020-01-02 13:56:35+00:00 2020-01-03 00:39:22+00:00   \n3     2020-01-02 13:59:58+00:00 2020-01-02 16:38:39+00:00   \n4     2020-01-02 14:00:01+00:00 2020-01-02 22:08:40+00:00   \n...                         ...                       ...   \n60303                       NaT                       NaT   \n60312                       NaT                       NaT   \n60326                       NaT                       NaT   \n60396                       NaT                       NaT   \n60411                       NaT                       NaT   \n\n               doneChargingTime  kWhDelivered  siteID  userID  \\\n0     2020-01-02 17:31:35+00:00        25.016     1.0   194.0   \n1     2020-01-02 20:18:05+00:00        33.097     1.0  4275.0   \n2     2020-01-02 16:35:06+00:00         6.521     1.0   344.0   \n3     2020-01-02 15:18:45+00:00         2.355     1.0  1117.0   \n4     2020-01-02 18:17:30+00:00        13.375     1.0   334.0   \n...                         ...           ...     ...     ...   \n60303                       NaT           NaN     NaN     NaN   \n60312                       NaT           NaN     NaN     NaN   \n60326                       NaT           NaN     NaN     NaN   \n60396                       NaT           NaN     NaN     NaN   \n60411                       NaT           NaN     NaN     NaN   \n\n      combinedSpaceStationID  timeConnected  idleTime  chargingTime  weekday  \\\n0        AG-3F30/1-1-179-810        21741.0    5980.0       15761.0      3.0   \n1        AG-1F01/1-1-193-825        32491.0    8416.0       24075.0      3.0   \n2        AG-1F03/1-1-193-829        38567.0   29056.0        9511.0      3.0   \n3        AG-1F04/1-1-193-820         9521.0    4794.0        4727.0      3.0   \n4        AG-1F06/1-1-193-819        29319.0   13870.0       15449.0      3.0   \n...                      ...            ...       ...           ...      ...   \n60303                    NaN            NaN       NaN           NaN      NaN   \n60312                    NaN            NaN       NaN           NaN      NaN   \n60326                    NaN            NaN       NaN           NaN      NaN   \n60396                    NaN            NaN       NaN           NaN      NaN   \n60411                    NaN            NaN       NaN           NaN      NaN   \n\n       month      time  WhPerMile  kWhRequested  milesRequested  \\\n0        1.0  13:08:54      250.0         25.00           100.0   \n1        1.0  13:36:50      280.0         70.00           250.0   \n2        1.0  13:56:35      400.0          8.00            20.0   \n3        1.0  13:59:58      400.0          8.00            20.0   \n4        1.0  14:00:01      400.0         16.00            40.0   \n...      ...       ...        ...           ...             ...   \n60303    NaN       NaN      300.0         15.00            50.0   \n60312    NaN       NaN      288.0         23.04            80.0   \n60326    NaN       NaN      292.0         17.52            60.0   \n60396    NaN       NaN      364.0         21.84            60.0   \n60411    NaN       NaN      273.0         27.30           100.0   \n\n       minutesAvailable                     modifiedAt paymentRequired  \\\n0                 463.0  Thu, 02 Jan 2020 13:09:39 GMT            True   \n1                 595.0  Thu, 02 Jan 2020 13:37:11 GMT            True   \n2                  60.0  Thu, 02 Jan 2020 13:57:17 GMT            True   \n3                  65.0  Thu, 02 Jan 2020 14:00:03 GMT            True   \n4                 504.0  Thu, 02 Jan 2020 14:00:13 GMT            True   \n...                 ...                            ...             ...   \n60303             453.0  Tue, 18 Jun 2019 14:05:24 GMT            True   \n60312             473.0  Tue, 18 Jun 2019 14:20:49 GMT            True   \n60326             169.0  Tue, 18 Jun 2019 22:01:10 GMT            True   \n60396             304.0  Wed, 19 Jun 2019 22:16:43 GMT            True   \n60411             268.0  Thu, 20 Jun 2019 13:33:21 GMT            True   \n\n                  requestedDeparture  \n0      Thu, 02 Jan 2020 20:51:54 GMT  \n1      Thu, 02 Jan 2020 23:31:50 GMT  \n2      Thu, 02 Jan 2020 14:56:35 GMT  \n3      Thu, 02 Jan 2020 15:04:58 GMT  \n4      Thu, 02 Jan 2020 22:24:01 GMT  \n...                              ...  \n60303  Tue, 18 Jun 2019 21:38:01 GMT  \n60312  Tue, 18 Jun 2019 22:13:27 GMT  \n60326  Wed, 19 Jun 2019 00:49:46 GMT  \n60396  Thu, 20 Jun 2019 03:20:32 GMT  \n60411  Thu, 20 Jun 2019 17:58:23 GMT  \n\n[65034 rows x 20 columns]",
      "text/html": "<div>\n<style scoped>\n    .dataframe tbody tr th:only-of-type {\n        vertical-align: middle;\n    }\n\n    .dataframe tbody tr th {\n        vertical-align: top;\n    }\n\n    .dataframe thead th {\n        text-align: right;\n    }\n</style>\n<table border=\"1\" class=\"dataframe\">\n  <thead>\n    <tr style=\"text-align: right;\">\n      <th></th>\n      <th>connectionTime</th>\n      <th>disconnectTime</th>\n      <th>doneChargingTime</th>\n      <th>kWhDelivered</th>\n      <th>siteID</th>\n      <th>userID</th>\n      <th>combinedSpaceStationID</th>\n      <th>timeConnected</th>\n      <th>idleTime</th>\n      <th>chargingTime</th>\n      <th>weekday</th>\n      <th>month</th>\n      <th>time</th>\n      <th>WhPerMile</th>\n      <th>kWhRequested</th>\n      <th>milesRequested</th>\n      <th>minutesAvailable</th>\n      <th>modifiedAt</th>\n      <th>paymentRequired</th>\n      <th>requestedDeparture</th>\n    </tr>\n  </thead>\n  <tbody>\n    <tr>\n      <th>0</th>\n      <td>2020-01-02 13:08:54+00:00</td>\n      <td>2020-01-02 19:11:15+00:00</td>\n      <td>2020-01-02 17:31:35+00:00</td>\n      <td>25.016</td>\n      <td>1.0</td>\n      <td>194.0</td>\n      <td>AG-3F30/1-1-179-810</td>\n      <td>21741.0</td>\n      <td>5980.0</td>\n      <td>15761.0</td>\n      <td>3.0</td>\n      <td>1.0</td>\n      <td>13:08:54</td>\n      <td>250.0</td>\n      <td>25.00</td>\n      <td>100.0</td>\n      <td>463.0</td>\n      <td>Thu, 02 Jan 2020 13:09:39 GMT</td>\n      <td>True</td>\n      <td>Thu, 02 Jan 2020 20:51:54 GMT</td>\n    </tr>\n    <tr>\n      <th>1</th>\n      <td>2020-01-02 13:36:50+00:00</td>\n      <td>2020-01-02 22:38:21+00:00</td>\n      <td>2020-01-02 20:18:05+00:00</td>\n      <td>33.097</td>\n      <td>1.0</td>\n      <td>4275.0</td>\n      <td>AG-1F01/1-1-193-825</td>\n      <td>32491.0</td>\n      <td>8416.0</td>\n      <td>24075.0</td>\n      <td>3.0</td>\n      <td>1.0</td>\n      <td>13:36:50</td>\n      <td>280.0</td>\n      <td>70.00</td>\n      <td>250.0</td>\n      <td>595.0</td>\n      <td>Thu, 02 Jan 2020 13:37:11 GMT</td>\n      <td>True</td>\n      <td>Thu, 02 Jan 2020 23:31:50 GMT</td>\n    </tr>\n    <tr>\n      <th>2</th>\n      <td>2020-01-02 13:56:35+00:00</td>\n      <td>2020-01-03 00:39:22+00:00</td>\n      <td>2020-01-02 16:35:06+00:00</td>\n      <td>6.521</td>\n      <td>1.0</td>\n      <td>344.0</td>\n      <td>AG-1F03/1-1-193-829</td>\n      <td>38567.0</td>\n      <td>29056.0</td>\n      <td>9511.0</td>\n      <td>3.0</td>\n      <td>1.0</td>\n      <td>13:56:35</td>\n      <td>400.0</td>\n      <td>8.00</td>\n      <td>20.0</td>\n      <td>60.0</td>\n      <td>Thu, 02 Jan 2020 13:57:17 GMT</td>\n      <td>True</td>\n      <td>Thu, 02 Jan 2020 14:56:35 GMT</td>\n    </tr>\n    <tr>\n      <th>3</th>\n      <td>2020-01-02 13:59:58+00:00</td>\n      <td>2020-01-02 16:38:39+00:00</td>\n      <td>2020-01-02 15:18:45+00:00</td>\n      <td>2.355</td>\n      <td>1.0</td>\n      <td>1117.0</td>\n      <td>AG-1F04/1-1-193-820</td>\n      <td>9521.0</td>\n      <td>4794.0</td>\n      <td>4727.0</td>\n      <td>3.0</td>\n      <td>1.0</td>\n      <td>13:59:58</td>\n      <td>400.0</td>\n      <td>8.00</td>\n      <td>20.0</td>\n      <td>65.0</td>\n      <td>Thu, 02 Jan 2020 14:00:03 GMT</td>\n      <td>True</td>\n      <td>Thu, 02 Jan 2020 15:04:58 GMT</td>\n    </tr>\n    <tr>\n      <th>4</th>\n      <td>2020-01-02 14:00:01+00:00</td>\n      <td>2020-01-02 22:08:40+00:00</td>\n      <td>2020-01-02 18:17:30+00:00</td>\n      <td>13.375</td>\n      <td>1.0</td>\n      <td>334.0</td>\n      <td>AG-1F06/1-1-193-819</td>\n      <td>29319.0</td>\n      <td>13870.0</td>\n      <td>15449.0</td>\n      <td>3.0</td>\n      <td>1.0</td>\n      <td>14:00:01</td>\n      <td>400.0</td>\n      <td>16.00</td>\n      <td>40.0</td>\n      <td>504.0</td>\n      <td>Thu, 02 Jan 2020 14:00:13 GMT</td>\n      <td>True</td>\n      <td>Thu, 02 Jan 2020 22:24:01 GMT</td>\n    </tr>\n    <tr>\n      <th>...</th>\n      <td>...</td>\n      <td>...</td>\n      <td>...</td>\n      <td>...</td>\n      <td>...</td>\n      <td>...</td>\n      <td>...</td>\n      <td>...</td>\n      <td>...</td>\n      <td>...</td>\n      <td>...</td>\n      <td>...</td>\n      <td>...</td>\n      <td>...</td>\n      <td>...</td>\n      <td>...</td>\n      <td>...</td>\n      <td>...</td>\n      <td>...</td>\n      <td>...</td>\n    </tr>\n    <tr>\n      <th>60303</th>\n      <td>NaT</td>\n      <td>NaT</td>\n      <td>NaT</td>\n      <td>NaN</td>\n      <td>NaN</td>\n      <td>NaN</td>\n      <td>NaN</td>\n      <td>NaN</td>\n      <td>NaN</td>\n      <td>NaN</td>\n      <td>NaN</td>\n      <td>NaN</td>\n      <td>NaN</td>\n      <td>300.0</td>\n      <td>15.00</td>\n      <td>50.0</td>\n      <td>453.0</td>\n      <td>Tue, 18 Jun 2019 14:05:24 GMT</td>\n      <td>True</td>\n      <td>Tue, 18 Jun 2019 21:38:01 GMT</td>\n    </tr>\n    <tr>\n      <th>60312</th>\n      <td>NaT</td>\n      <td>NaT</td>\n      <td>NaT</td>\n      <td>NaN</td>\n      <td>NaN</td>\n      <td>NaN</td>\n      <td>NaN</td>\n      <td>NaN</td>\n      <td>NaN</td>\n      <td>NaN</td>\n      <td>NaN</td>\n      <td>NaN</td>\n      <td>NaN</td>\n      <td>288.0</td>\n      <td>23.04</td>\n      <td>80.0</td>\n      <td>473.0</td>\n      <td>Tue, 18 Jun 2019 14:20:49 GMT</td>\n      <td>True</td>\n      <td>Tue, 18 Jun 2019 22:13:27 GMT</td>\n    </tr>\n    <tr>\n      <th>60326</th>\n      <td>NaT</td>\n      <td>NaT</td>\n      <td>NaT</td>\n      <td>NaN</td>\n      <td>NaN</td>\n      <td>NaN</td>\n      <td>NaN</td>\n      <td>NaN</td>\n      <td>NaN</td>\n      <td>NaN</td>\n      <td>NaN</td>\n      <td>NaN</td>\n      <td>NaN</td>\n      <td>292.0</td>\n      <td>17.52</td>\n      <td>60.0</td>\n      <td>169.0</td>\n      <td>Tue, 18 Jun 2019 22:01:10 GMT</td>\n      <td>True</td>\n      <td>Wed, 19 Jun 2019 00:49:46 GMT</td>\n    </tr>\n    <tr>\n      <th>60396</th>\n      <td>NaT</td>\n      <td>NaT</td>\n      <td>NaT</td>\n      <td>NaN</td>\n      <td>NaN</td>\n      <td>NaN</td>\n      <td>NaN</td>\n      <td>NaN</td>\n      <td>NaN</td>\n      <td>NaN</td>\n      <td>NaN</td>\n      <td>NaN</td>\n      <td>NaN</td>\n      <td>364.0</td>\n      <td>21.84</td>\n      <td>60.0</td>\n      <td>304.0</td>\n      <td>Wed, 19 Jun 2019 22:16:43 GMT</td>\n      <td>True</td>\n      <td>Thu, 20 Jun 2019 03:20:32 GMT</td>\n    </tr>\n    <tr>\n      <th>60411</th>\n      <td>NaT</td>\n      <td>NaT</td>\n      <td>NaT</td>\n      <td>NaN</td>\n      <td>NaN</td>\n      <td>NaN</td>\n      <td>NaN</td>\n      <td>NaN</td>\n      <td>NaN</td>\n      <td>NaN</td>\n      <td>NaN</td>\n      <td>NaN</td>\n      <td>NaN</td>\n      <td>273.0</td>\n      <td>27.30</td>\n      <td>100.0</td>\n      <td>268.0</td>\n      <td>Thu, 20 Jun 2019 13:33:21 GMT</td>\n      <td>True</td>\n      <td>Thu, 20 Jun 2019 17:58:23 GMT</td>\n    </tr>\n  </tbody>\n</table>\n<p>65034 rows × 20 columns</p>\n</div>"
     },
     "execution_count": 38,
     "metadata": {},
     "output_type": "execute_result"
    }
   ],
   "source": [
    "charging_sessions_modified"
   ],
   "metadata": {
    "collapsed": false,
    "ExecuteTime": {
     "end_time": "2023-12-05T17:56:53.631291700Z",
     "start_time": "2023-12-05T17:56:53.625393400Z"
    }
   }
  },
  {
   "cell_type": "code",
   "execution_count": 39,
   "id": "213a59a7-45ae-48a8-b5fe-a45037fd94f9",
   "metadata": {
    "ExecuteTime": {
     "end_time": "2023-12-05T17:56:53.645120900Z",
     "start_time": "2023-12-05T17:56:53.629764Z"
    }
   },
   "outputs": [
    {
     "data": {
      "text/plain": "                    count        mean       std    min    25%     50%     75%  \\\ntemperature       29219.0   17.885622  6.454604    2.0   13.0   17.00   22.00   \ncloud_cover       29224.0   30.107993  5.400388    4.0   26.0   33.00   34.00   \npressure          29236.0  986.879400  3.607065  971.0  984.5  986.48  989.11   \nwindspeed         29158.0    8.566568  6.699889    0.0    6.0    7.00   13.00   \nprecipitation     29244.0    0.059360  0.471682    0.0    0.0    0.00    0.00   \nfelt_temperature  29218.0   17.731433  6.321100    0.0   13.0   17.00   22.00   \n\n                     max  \ntemperature        46.00  \ncloud_cover        47.00  \npressure          999.65  \nwindspeed          57.00  \nprecipitation      18.54  \nfelt_temperature   42.00  ",
      "text/html": "<div>\n<style scoped>\n    .dataframe tbody tr th:only-of-type {\n        vertical-align: middle;\n    }\n\n    .dataframe tbody tr th {\n        vertical-align: top;\n    }\n\n    .dataframe thead th {\n        text-align: right;\n    }\n</style>\n<table border=\"1\" class=\"dataframe\">\n  <thead>\n    <tr style=\"text-align: right;\">\n      <th></th>\n      <th>count</th>\n      <th>mean</th>\n      <th>std</th>\n      <th>min</th>\n      <th>25%</th>\n      <th>50%</th>\n      <th>75%</th>\n      <th>max</th>\n    </tr>\n  </thead>\n  <tbody>\n    <tr>\n      <th>temperature</th>\n      <td>29219.0</td>\n      <td>17.885622</td>\n      <td>6.454604</td>\n      <td>2.0</td>\n      <td>13.0</td>\n      <td>17.00</td>\n      <td>22.00</td>\n      <td>46.00</td>\n    </tr>\n    <tr>\n      <th>cloud_cover</th>\n      <td>29224.0</td>\n      <td>30.107993</td>\n      <td>5.400388</td>\n      <td>4.0</td>\n      <td>26.0</td>\n      <td>33.00</td>\n      <td>34.00</td>\n      <td>47.00</td>\n    </tr>\n    <tr>\n      <th>pressure</th>\n      <td>29236.0</td>\n      <td>986.879400</td>\n      <td>3.607065</td>\n      <td>971.0</td>\n      <td>984.5</td>\n      <td>986.48</td>\n      <td>989.11</td>\n      <td>999.65</td>\n    </tr>\n    <tr>\n      <th>windspeed</th>\n      <td>29158.0</td>\n      <td>8.566568</td>\n      <td>6.699889</td>\n      <td>0.0</td>\n      <td>6.0</td>\n      <td>7.00</td>\n      <td>13.00</td>\n      <td>57.00</td>\n    </tr>\n    <tr>\n      <th>precipitation</th>\n      <td>29244.0</td>\n      <td>0.059360</td>\n      <td>0.471682</td>\n      <td>0.0</td>\n      <td>0.0</td>\n      <td>0.00</td>\n      <td>0.00</td>\n      <td>18.54</td>\n    </tr>\n    <tr>\n      <th>felt_temperature</th>\n      <td>29218.0</td>\n      <td>17.731433</td>\n      <td>6.321100</td>\n      <td>0.0</td>\n      <td>13.0</td>\n      <td>17.00</td>\n      <td>22.00</td>\n      <td>42.00</td>\n    </tr>\n  </tbody>\n</table>\n</div>"
     },
     "execution_count": 39,
     "metadata": {},
     "output_type": "execute_result"
    }
   ],
   "source": [
    "weather_orig.describe().transpose()"
   ]
  },
  {
   "cell_type": "code",
   "execution_count": 39,
   "outputs": [],
   "source": [],
   "metadata": {
    "collapsed": false,
    "ExecuteTime": {
     "end_time": "2023-12-05T17:56:53.646265700Z",
     "start_time": "2023-12-05T17:56:53.645120900Z"
    }
   }
  }
 ],
 "metadata": {
  "kernelspec": {
   "display_name": "Python 3 (ipykernel)",
   "language": "python",
   "name": "python3"
  },
  "language_info": {
   "codemirror_mode": {
    "name": "ipython",
    "version": 3
   },
   "file_extension": ".py",
   "mimetype": "text/x-python",
   "name": "python",
   "nbconvert_exporter": "python",
   "pygments_lexer": "ipython3",
   "version": "3.10.13"
  }
 },
 "nbformat": 4,
 "nbformat_minor": 5
}
