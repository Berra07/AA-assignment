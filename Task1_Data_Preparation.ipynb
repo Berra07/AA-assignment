{
 "cells": [
  {
   "cell_type": "code",
   "execution_count": 4,
   "id": "212130cb-fe12-4d8c-bcb0-72746d001469",
   "metadata": {
    "ExecuteTime": {
     "end_time": "2024-02-07T16:06:14.304714100Z",
     "start_time": "2024-02-07T16:06:14.014277800Z"
    }
   },
   "outputs": [],
   "source": [
    "import numpy as np\n",
    "import pandas as pd\n",
    "from pandas import json_normalize\n",
    "import ast\n",
    "from datetime import timedelta\n",
    "import holidays\n",
    "\n",
    "\n",
    "pd.set_option('display.max_colwidth', None)"
   ]
  },
  {
   "cell_type": "markdown",
   "id": "164f70d8-f65e-4982-b0d2-4447927c3942",
   "metadata": {},
   "source": [
    "Read the datasets into a pandas df"
   ]
  },
  {
   "cell_type": "code",
   "execution_count": 5,
   "id": "acddfc40-1b10-4774-b08a-6920568f8f38",
   "metadata": {
    "ExecuteTime": {
     "end_time": "2024-02-07T16:06:14.785670500Z",
     "start_time": "2024-02-07T16:06:14.026322300Z"
    }
   },
   "outputs": [],
   "source": [
    "charging_sessions_orig = pd.read_csv(\"./data/original/charging_sessions.csv\")\n",
    "weather_orig = pd.read_csv(\"./data/original/weather_burbank_airport.csv\")"
   ]
  },
  {
   "cell_type": "markdown",
   "id": "ce02dda4-096c-4d40-93a8-0fc19c58b021",
   "metadata": {},
   "source": [
    "Start with the charging sessions, lets get some general information about the dataset."
   ]
  },
  {
   "cell_type": "code",
   "execution_count": 6,
   "id": "17b491cc-fa9c-4f94-a0d5-d5745e499b19",
   "metadata": {
    "ExecuteTime": {
     "end_time": "2024-02-07T16:06:14.800207100Z",
     "start_time": "2024-02-07T16:06:14.302197500Z"
    }
   },
   "outputs": [
    {
     "name": "stdout",
     "output_type": "stream",
     "text": [
      "<class 'pandas.core.frame.DataFrame'>\n",
      "RangeIndex: 66450 entries, 0 to 66449\n",
      "Data columns (total 13 columns):\n",
      " #   Column            Non-Null Count  Dtype  \n",
      "---  ------            --------------  -----  \n",
      " 0   Unnamed: 0        66450 non-null  int64  \n",
      " 1   id                66450 non-null  object \n",
      " 2   connectionTime    66450 non-null  object \n",
      " 3   disconnectTime    66450 non-null  object \n",
      " 4   doneChargingTime  62362 non-null  object \n",
      " 5   kWhDelivered      66450 non-null  float64\n",
      " 6   sessionID         66450 non-null  object \n",
      " 7   siteID            66450 non-null  int64  \n",
      " 8   spaceID           66450 non-null  object \n",
      " 9   stationID         66450 non-null  object \n",
      " 10  timezone          66450 non-null  object \n",
      " 11  userID            49187 non-null  float64\n",
      " 12  userInputs        49187 non-null  object \n",
      "dtypes: float64(2), int64(2), object(9)\n",
      "memory usage: 6.6+ MB\n"
     ]
    },
    {
     "data": {
      "text/plain": "         Unnamed: 0  kWhDelivered        siteID        userID\ncount  66450.000000  66450.000000  66450.000000  49187.000000\nmean    4726.102062     11.787916      1.472656   1800.494582\nstd     3568.025394     10.314789      0.499256   2617.548614\nmin        0.000000      0.501000      1.000000      1.000000\n25%     1845.000000      5.097000      1.000000    431.000000\n50%     3960.000000      9.140000      1.000000    818.000000\n75%     7027.000000     14.183000      2.000000   1805.000000\nmax    15291.000000    108.797242      2.000000  19923.000000",
      "text/html": "<div>\n<style scoped>\n    .dataframe tbody tr th:only-of-type {\n        vertical-align: middle;\n    }\n\n    .dataframe tbody tr th {\n        vertical-align: top;\n    }\n\n    .dataframe thead th {\n        text-align: right;\n    }\n</style>\n<table border=\"1\" class=\"dataframe\">\n  <thead>\n    <tr style=\"text-align: right;\">\n      <th></th>\n      <th>Unnamed: 0</th>\n      <th>kWhDelivered</th>\n      <th>siteID</th>\n      <th>userID</th>\n    </tr>\n  </thead>\n  <tbody>\n    <tr>\n      <th>count</th>\n      <td>66450.000000</td>\n      <td>66450.000000</td>\n      <td>66450.000000</td>\n      <td>49187.000000</td>\n    </tr>\n    <tr>\n      <th>mean</th>\n      <td>4726.102062</td>\n      <td>11.787916</td>\n      <td>1.472656</td>\n      <td>1800.494582</td>\n    </tr>\n    <tr>\n      <th>std</th>\n      <td>3568.025394</td>\n      <td>10.314789</td>\n      <td>0.499256</td>\n      <td>2617.548614</td>\n    </tr>\n    <tr>\n      <th>min</th>\n      <td>0.000000</td>\n      <td>0.501000</td>\n      <td>1.000000</td>\n      <td>1.000000</td>\n    </tr>\n    <tr>\n      <th>25%</th>\n      <td>1845.000000</td>\n      <td>5.097000</td>\n      <td>1.000000</td>\n      <td>431.000000</td>\n    </tr>\n    <tr>\n      <th>50%</th>\n      <td>3960.000000</td>\n      <td>9.140000</td>\n      <td>1.000000</td>\n      <td>818.000000</td>\n    </tr>\n    <tr>\n      <th>75%</th>\n      <td>7027.000000</td>\n      <td>14.183000</td>\n      <td>2.000000</td>\n      <td>1805.000000</td>\n    </tr>\n    <tr>\n      <th>max</th>\n      <td>15291.000000</td>\n      <td>108.797242</td>\n      <td>2.000000</td>\n      <td>19923.000000</td>\n    </tr>\n  </tbody>\n</table>\n</div>"
     },
     "execution_count": 6,
     "metadata": {},
     "output_type": "execute_result"
    }
   ],
   "source": [
    "charging_sessions_orig.info()\n",
    "charging_sessions_orig.describe()"
   ]
  },
  {
   "cell_type": "code",
   "execution_count": 7,
   "id": "89a251f4-c429-4b3b-8a84-6260832170f3",
   "metadata": {
    "ExecuteTime": {
     "end_time": "2024-02-07T16:06:14.800207100Z",
     "start_time": "2024-02-07T16:06:14.333997400Z"
    }
   },
   "outputs": [
    {
     "data": {
      "text/plain": "   Unnamed: 0                        id             connectionTime  \\\n0           0  5e23b149f9af8b5fe4b973cf  2020-01-02 13:08:54+00:00   \n1           1  5e23b149f9af8b5fe4b973d0  2020-01-02 13:36:50+00:00   \n2           2  5e23b149f9af8b5fe4b973d1  2020-01-02 13:56:35+00:00   \n3           3  5e23b149f9af8b5fe4b973d2  2020-01-02 13:59:58+00:00   \n4           4  5e23b149f9af8b5fe4b973d3  2020-01-02 14:00:01+00:00   \n\n              disconnectTime           doneChargingTime  kWhDelivered  \\\n0  2020-01-02 19:11:15+00:00  2020-01-02 17:31:35+00:00        25.016   \n1  2020-01-02 22:38:21+00:00  2020-01-02 20:18:05+00:00        33.097   \n2  2020-01-03 00:39:22+00:00  2020-01-02 16:35:06+00:00         6.521   \n3  2020-01-02 16:38:39+00:00  2020-01-02 15:18:45+00:00         2.355   \n4  2020-01-02 22:08:40+00:00  2020-01-02 18:17:30+00:00        13.375   \n\n                                sessionID  siteID  spaceID    stationID  \\\n0  1_1_179_810_2020-01-02 13:08:53.870034       1  AG-3F30  1-1-179-810   \n1  1_1_193_825_2020-01-02 13:36:49.599853       1  AG-1F01  1-1-193-825   \n2  1_1_193_829_2020-01-02 13:56:35.214993       1  AG-1F03  1-1-193-829   \n3  1_1_193_820_2020-01-02 13:59:58.309319       1  AG-1F04  1-1-193-820   \n4  1_1_193_819_2020-01-02 14:00:00.779967       1  AG-1F06  1-1-193-819   \n\n              timezone  userID  \\\n0  America/Los_Angeles   194.0   \n1  America/Los_Angeles  4275.0   \n2  America/Los_Angeles   344.0   \n3  America/Los_Angeles  1117.0   \n4  America/Los_Angeles   334.0   \n\n                                                                                                                                                                                                                                                                                                                                                                                                                                                                     userInputs  \n0                                                                                                                                                                                                                                      [{'WhPerMile': 250, 'kWhRequested': 25.0, 'milesRequested': 100, 'minutesAvailable': 463, 'modifiedAt': 'Thu, 02 Jan 2020 13:09:39 GMT', 'paymentRequired': True, 'requestedDeparture': 'Thu, 02 Jan 2020 20:51:54 GMT', 'userID': 194}]  \n1                                                                                                                                                                                                                                     [{'WhPerMile': 280, 'kWhRequested': 70.0, 'milesRequested': 250, 'minutesAvailable': 595, 'modifiedAt': 'Thu, 02 Jan 2020 13:37:11 GMT', 'paymentRequired': True, 'requestedDeparture': 'Thu, 02 Jan 2020 23:31:50 GMT', 'userID': 4275}]  \n2                                                                                                                                                                                                                                         [{'WhPerMile': 400, 'kWhRequested': 8.0, 'milesRequested': 20, 'minutesAvailable': 60, 'modifiedAt': 'Thu, 02 Jan 2020 13:57:17 GMT', 'paymentRequired': True, 'requestedDeparture': 'Thu, 02 Jan 2020 14:56:35 GMT', 'userID': 344}]  \n3  [{'WhPerMile': 400, 'kWhRequested': 8.0, 'milesRequested': 20, 'minutesAvailable': 65, 'modifiedAt': 'Thu, 02 Jan 2020 14:00:03 GMT', 'paymentRequired': True, 'requestedDeparture': 'Thu, 02 Jan 2020 15:04:58 GMT', 'userID': 1117}, {'WhPerMile': 400, 'kWhRequested': 8.0, 'milesRequested': 20, 'minutesAvailable': 65, 'modifiedAt': 'Thu, 02 Jan 2020 14:00:19 GMT', 'paymentRequired': True, 'requestedDeparture': 'Thu, 02 Jan 2020 15:04:58 GMT', 'userID': 1117}]  \n4                                                                                                                                                                                                                                       [{'WhPerMile': 400, 'kWhRequested': 16.0, 'milesRequested': 40, 'minutesAvailable': 504, 'modifiedAt': 'Thu, 02 Jan 2020 14:00:13 GMT', 'paymentRequired': True, 'requestedDeparture': 'Thu, 02 Jan 2020 22:24:01 GMT', 'userID': 334}]  ",
      "text/html": "<div>\n<style scoped>\n    .dataframe tbody tr th:only-of-type {\n        vertical-align: middle;\n    }\n\n    .dataframe tbody tr th {\n        vertical-align: top;\n    }\n\n    .dataframe thead th {\n        text-align: right;\n    }\n</style>\n<table border=\"1\" class=\"dataframe\">\n  <thead>\n    <tr style=\"text-align: right;\">\n      <th></th>\n      <th>Unnamed: 0</th>\n      <th>id</th>\n      <th>connectionTime</th>\n      <th>disconnectTime</th>\n      <th>doneChargingTime</th>\n      <th>kWhDelivered</th>\n      <th>sessionID</th>\n      <th>siteID</th>\n      <th>spaceID</th>\n      <th>stationID</th>\n      <th>timezone</th>\n      <th>userID</th>\n      <th>userInputs</th>\n    </tr>\n  </thead>\n  <tbody>\n    <tr>\n      <th>0</th>\n      <td>0</td>\n      <td>5e23b149f9af8b5fe4b973cf</td>\n      <td>2020-01-02 13:08:54+00:00</td>\n      <td>2020-01-02 19:11:15+00:00</td>\n      <td>2020-01-02 17:31:35+00:00</td>\n      <td>25.016</td>\n      <td>1_1_179_810_2020-01-02 13:08:53.870034</td>\n      <td>1</td>\n      <td>AG-3F30</td>\n      <td>1-1-179-810</td>\n      <td>America/Los_Angeles</td>\n      <td>194.0</td>\n      <td>[{'WhPerMile': 250, 'kWhRequested': 25.0, 'milesRequested': 100, 'minutesAvailable': 463, 'modifiedAt': 'Thu, 02 Jan 2020 13:09:39 GMT', 'paymentRequired': True, 'requestedDeparture': 'Thu, 02 Jan 2020 20:51:54 GMT', 'userID': 194}]</td>\n    </tr>\n    <tr>\n      <th>1</th>\n      <td>1</td>\n      <td>5e23b149f9af8b5fe4b973d0</td>\n      <td>2020-01-02 13:36:50+00:00</td>\n      <td>2020-01-02 22:38:21+00:00</td>\n      <td>2020-01-02 20:18:05+00:00</td>\n      <td>33.097</td>\n      <td>1_1_193_825_2020-01-02 13:36:49.599853</td>\n      <td>1</td>\n      <td>AG-1F01</td>\n      <td>1-1-193-825</td>\n      <td>America/Los_Angeles</td>\n      <td>4275.0</td>\n      <td>[{'WhPerMile': 280, 'kWhRequested': 70.0, 'milesRequested': 250, 'minutesAvailable': 595, 'modifiedAt': 'Thu, 02 Jan 2020 13:37:11 GMT', 'paymentRequired': True, 'requestedDeparture': 'Thu, 02 Jan 2020 23:31:50 GMT', 'userID': 4275}]</td>\n    </tr>\n    <tr>\n      <th>2</th>\n      <td>2</td>\n      <td>5e23b149f9af8b5fe4b973d1</td>\n      <td>2020-01-02 13:56:35+00:00</td>\n      <td>2020-01-03 00:39:22+00:00</td>\n      <td>2020-01-02 16:35:06+00:00</td>\n      <td>6.521</td>\n      <td>1_1_193_829_2020-01-02 13:56:35.214993</td>\n      <td>1</td>\n      <td>AG-1F03</td>\n      <td>1-1-193-829</td>\n      <td>America/Los_Angeles</td>\n      <td>344.0</td>\n      <td>[{'WhPerMile': 400, 'kWhRequested': 8.0, 'milesRequested': 20, 'minutesAvailable': 60, 'modifiedAt': 'Thu, 02 Jan 2020 13:57:17 GMT', 'paymentRequired': True, 'requestedDeparture': 'Thu, 02 Jan 2020 14:56:35 GMT', 'userID': 344}]</td>\n    </tr>\n    <tr>\n      <th>3</th>\n      <td>3</td>\n      <td>5e23b149f9af8b5fe4b973d2</td>\n      <td>2020-01-02 13:59:58+00:00</td>\n      <td>2020-01-02 16:38:39+00:00</td>\n      <td>2020-01-02 15:18:45+00:00</td>\n      <td>2.355</td>\n      <td>1_1_193_820_2020-01-02 13:59:58.309319</td>\n      <td>1</td>\n      <td>AG-1F04</td>\n      <td>1-1-193-820</td>\n      <td>America/Los_Angeles</td>\n      <td>1117.0</td>\n      <td>[{'WhPerMile': 400, 'kWhRequested': 8.0, 'milesRequested': 20, 'minutesAvailable': 65, 'modifiedAt': 'Thu, 02 Jan 2020 14:00:03 GMT', 'paymentRequired': True, 'requestedDeparture': 'Thu, 02 Jan 2020 15:04:58 GMT', 'userID': 1117}, {'WhPerMile': 400, 'kWhRequested': 8.0, 'milesRequested': 20, 'minutesAvailable': 65, 'modifiedAt': 'Thu, 02 Jan 2020 14:00:19 GMT', 'paymentRequired': True, 'requestedDeparture': 'Thu, 02 Jan 2020 15:04:58 GMT', 'userID': 1117}]</td>\n    </tr>\n    <tr>\n      <th>4</th>\n      <td>4</td>\n      <td>5e23b149f9af8b5fe4b973d3</td>\n      <td>2020-01-02 14:00:01+00:00</td>\n      <td>2020-01-02 22:08:40+00:00</td>\n      <td>2020-01-02 18:17:30+00:00</td>\n      <td>13.375</td>\n      <td>1_1_193_819_2020-01-02 14:00:00.779967</td>\n      <td>1</td>\n      <td>AG-1F06</td>\n      <td>1-1-193-819</td>\n      <td>America/Los_Angeles</td>\n      <td>334.0</td>\n      <td>[{'WhPerMile': 400, 'kWhRequested': 16.0, 'milesRequested': 40, 'minutesAvailable': 504, 'modifiedAt': 'Thu, 02 Jan 2020 14:00:13 GMT', 'paymentRequired': True, 'requestedDeparture': 'Thu, 02 Jan 2020 22:24:01 GMT', 'userID': 334}]</td>\n    </tr>\n  </tbody>\n</table>\n</div>"
     },
     "execution_count": 7,
     "metadata": {},
     "output_type": "execute_result"
    }
   ],
   "source": [
    "charging_sessions_orig.head(5)"
   ]
  },
  {
   "cell_type": "code",
   "execution_count": 8,
   "id": "22d52e2f-6996-4d79-83b5-f69f7b259544",
   "metadata": {
    "ExecuteTime": {
     "end_time": "2024-02-07T16:06:14.800207100Z",
     "start_time": "2024-02-07T16:06:14.349532400Z"
    }
   },
   "outputs": [
    {
     "data": {
      "text/plain": "Unnamed: 0          15292\nid                  65037\nconnectionTime      64839\ndisconnectTime      64906\ndoneChargingTime    60637\nkWhDelivered        25629\nsessionID           65037\nsiteID                  2\nspaceID               107\nstationID             107\ntimezone                1\nuserID               1006\nuserInputs          47822\ndtype: int64"
     },
     "execution_count": 8,
     "metadata": {},
     "output_type": "execute_result"
    }
   ],
   "source": [
    "charging_sessions_orig.nunique()"
   ]
  },
  {
   "cell_type": "markdown",
   "id": "ce04c189-33d9-4f2b-b503-8e4a5fe15368",
   "metadata": {},
   "source": [
    "Judging by the number of unique id's in comparison to the whole dataset, we have duplicates. Let's drop them"
   ]
  },
  {
   "cell_type": "code",
   "execution_count": 9,
   "id": "5f10bed4-74fa-42f5-81fa-3fed137cd7aa",
   "metadata": {
    "ExecuteTime": {
     "end_time": "2024-02-07T16:06:14.800207100Z",
     "start_time": "2024-02-07T16:06:14.411171200Z"
    }
   },
   "outputs": [],
   "source": [
    "charging_sessions_modified = charging_sessions_orig.drop_duplicates()"
   ]
  },
  {
   "cell_type": "code",
   "execution_count": 10,
   "id": "423291ef-4833-4310-b9e3-d5819e71b727",
   "metadata": {
    "ExecuteTime": {
     "end_time": "2024-02-07T16:06:14.801206300Z",
     "start_time": "2024-02-07T16:06:14.474295100Z"
    }
   },
   "outputs": [
    {
     "name": "stdout",
     "output_type": "stream",
     "text": [
      "<class 'pandas.core.frame.DataFrame'>\n",
      "RangeIndex: 66450 entries, 0 to 66449\n",
      "Data columns (total 13 columns):\n",
      " #   Column            Non-Null Count  Dtype  \n",
      "---  ------            --------------  -----  \n",
      " 0   Unnamed: 0        66450 non-null  int64  \n",
      " 1   id                66450 non-null  object \n",
      " 2   connectionTime    66450 non-null  object \n",
      " 3   disconnectTime    66450 non-null  object \n",
      " 4   doneChargingTime  62362 non-null  object \n",
      " 5   kWhDelivered      66450 non-null  float64\n",
      " 6   sessionID         66450 non-null  object \n",
      " 7   siteID            66450 non-null  int64  \n",
      " 8   spaceID           66450 non-null  object \n",
      " 9   stationID         66450 non-null  object \n",
      " 10  timezone          66450 non-null  object \n",
      " 11  userID            49187 non-null  float64\n",
      " 12  userInputs        49187 non-null  object \n",
      "dtypes: float64(2), int64(2), object(9)\n",
      "memory usage: 6.6+ MB\n"
     ]
    },
    {
     "data": {
      "text/plain": "Unnamed: 0          15292\nid                  65037\nconnectionTime      64839\ndisconnectTime      64906\ndoneChargingTime    60637\nkWhDelivered        25629\nsessionID           65037\nsiteID                  2\nspaceID               107\nstationID             107\ntimezone                1\nuserID               1006\nuserInputs          47822\ndtype: int64"
     },
     "execution_count": 10,
     "metadata": {},
     "output_type": "execute_result"
    }
   ],
   "source": [
    "charging_sessions_modified.info()\n",
    "charging_sessions_modified.nunique()"
   ]
  },
  {
   "cell_type": "markdown",
   "id": "3d6e08bd-2b1e-47f4-89e3-8c871f3166b7",
   "metadata": {},
   "source": [
    "This didnt quite do the job, we still have the same amount of entries in the dataset. We need to find out where they differ. But first, let's drop the timezone, since its the same for all of the data.\n",
    "We also have no information about the the Unnamed: 0 column. It looks to be some kind of identifier, but doesn't have enough unique values to uniquely identify all data points. Since we have no further information, assume this is a data fragment of whoever created the dataset, that we weren't supposed to get. We will drop it too.  "
   ]
  },
  {
   "cell_type": "code",
   "execution_count": 11,
   "id": "7d56d6ff-e46f-4f23-8501-e6e30237dc44",
   "metadata": {
    "ExecuteTime": {
     "end_time": "2024-02-07T16:06:14.801206300Z",
     "start_time": "2024-02-07T16:06:14.551576700Z"
    }
   },
   "outputs": [],
   "source": [
    "charging_sessions_modified = charging_sessions_orig.drop(columns = [\"Unnamed: 0\",\"timezone\"])"
   ]
  },
  {
   "cell_type": "code",
   "execution_count": 12,
   "id": "f2b3df2d-6e42-43b8-886b-284123fb5065",
   "metadata": {
    "scrolled": true,
    "ExecuteTime": {
     "end_time": "2024-02-07T16:06:14.802206700Z",
     "start_time": "2024-02-07T16:06:14.567103200Z"
    }
   },
   "outputs": [
    {
     "name": "stdout",
     "output_type": "stream",
     "text": [
      "<class 'pandas.core.frame.DataFrame'>\n",
      "RangeIndex: 66450 entries, 0 to 66449\n",
      "Data columns (total 11 columns):\n",
      " #   Column            Non-Null Count  Dtype  \n",
      "---  ------            --------------  -----  \n",
      " 0   id                66450 non-null  object \n",
      " 1   connectionTime    66450 non-null  object \n",
      " 2   disconnectTime    66450 non-null  object \n",
      " 3   doneChargingTime  62362 non-null  object \n",
      " 4   kWhDelivered      66450 non-null  float64\n",
      " 5   sessionID         66450 non-null  object \n",
      " 6   siteID            66450 non-null  int64  \n",
      " 7   spaceID           66450 non-null  object \n",
      " 8   stationID         66450 non-null  object \n",
      " 9   userID            49187 non-null  float64\n",
      " 10  userInputs        49187 non-null  object \n",
      "dtypes: float64(2), int64(1), object(8)\n",
      "memory usage: 5.6+ MB\n"
     ]
    },
    {
     "data": {
      "text/plain": "id                  65037\nconnectionTime      64839\ndisconnectTime      64906\ndoneChargingTime    60637\nkWhDelivered        25629\nsessionID           65037\nsiteID                  2\nspaceID               107\nstationID             107\nuserID               1006\nuserInputs          47822\ndtype: int64"
     },
     "execution_count": 12,
     "metadata": {},
     "output_type": "execute_result"
    }
   ],
   "source": [
    "charging_sessions_modified.info()\n",
    "charging_sessions_modified.nunique()"
   ]
  },
  {
   "cell_type": "code",
   "execution_count": 13,
   "id": "126a009c-ad0f-4f55-98de-2630cea3f5f8",
   "metadata": {
    "ExecuteTime": {
     "end_time": "2024-02-07T16:06:14.802206700Z",
     "start_time": "2024-02-07T16:06:14.635148700Z"
    }
   },
   "outputs": [],
   "source": [
    "# Filter out all rows where id is a duplicate\n",
    "duplicates = charging_sessions_modified[charging_sessions_modified.duplicated(\"id\", keep = False)]"
   ]
  },
  {
   "cell_type": "code",
   "execution_count": 14,
   "id": "af005f56-2a54-426e-8f3e-4281ab0607e5",
   "metadata": {
    "ExecuteTime": {
     "end_time": "2024-02-07T16:06:14.802206700Z",
     "start_time": "2024-02-07T16:06:14.647171600Z"
    }
   },
   "outputs": [
    {
     "data": {
      "text/plain": "                             id             connectionTime  \\\n65046  5d310f54f9af8b52adda3e28  2019-07-02 13:25:01+00:00   \n5582   5d310f54f9af8b52adda3e28  2019-07-02 13:25:01+00:00   \n65124  5d3260aff9af8b56e4697230  2019-07-03 16:20:04+00:00   \n5660   5d3260aff9af8b56e4697230  2019-07-03 16:20:04+00:00   \n5694   5d38f852f9af8b69fe3549fd  2019-07-08 13:09:26+00:00   \n...                         ...                        ...   \n66320  5d55f950f9af8b45dfb3d875  2019-07-30 11:31:17+00:00   \n66382  5d55f950f9af8b45dfb3d8b3  2019-07-30 22:30:46+00:00   \n6918   5d55f950f9af8b45dfb3d8b3  2019-07-30 22:30:46+00:00   \n66393  5d574ad2f9af8b4c10c0361e  2019-07-31 11:57:10+00:00   \n6929   5d574ad2f9af8b4c10c0361e  2019-07-31 11:57:10+00:00   \n\n                  disconnectTime           doneChargingTime  kWhDelivered  \\\n65046  2019-07-02 22:39:18+00:00  2019-07-02 16:29:23+00:00        13.924   \n5582   2019-07-02 22:39:18+00:00  2019-07-02 16:29:23+00:00        13.924   \n65124  2019-07-03 22:41:16+00:00  2019-07-03 20:37:22+00:00        11.184   \n5660   2019-07-03 22:41:16+00:00  2019-07-03 20:37:22+00:00        11.184   \n5694   2019-07-08 19:03:10+00:00  2019-07-08 17:49:27+00:00        11.093   \n...                          ...                        ...           ...   \n66320  2019-07-30 22:07:15+00:00  2019-07-30 20:57:54+00:00        46.863   \n66382  2019-07-31 00:44:02+00:00  2019-07-31 00:45:01+00:00         4.166   \n6918   2019-07-31 00:44:02+00:00  2019-07-31 00:45:01+00:00         4.166   \n66393  2019-07-31 21:20:17+00:00  2019-07-31 19:08:13+00:00        25.971   \n6929   2019-07-31 21:20:17+00:00  2019-07-31 19:08:13+00:00        25.971   \n\n                                    sessionID  siteID  spaceID    stationID  \\\n65046  1_1_178_817_2019-07-02 13:25:01.464654       1  AG-1F09  1-1-178-817   \n5582   1_1_178_817_2019-07-02 13:25:01.464654       1  AG-1F09  1-1-178-817   \n65124  1_1_178_817_2019-07-03 16:20:03.809665       1  AG-1F09  1-1-178-817   \n5660   1_1_178_817_2019-07-03 16:20:03.809665       1  AG-1F09  1-1-178-817   \n5694   1_1_178_817_2019-07-08 13:08:13.199752       1  AG-1F09  1-1-178-817   \n...                                       ...     ...      ...          ...   \n66320  1_1_194_826_2019-07-30 11:31:16.894598       1  AG-1F11  1-1-194-826   \n66382  1_1_194_826_2019-07-30 22:30:45.743815       1  AG-1F11  1-1-194-826   \n6918   1_1_194_826_2019-07-30 22:30:45.743815       1  AG-1F11  1-1-194-826   \n66393  1_1_194_826_2019-07-31 11:57:09.786222       1  AG-1F11  1-1-194-826   \n6929   1_1_194_826_2019-07-31 11:57:09.786222       1  AG-1F11  1-1-194-826   \n\n       userID  \\\n65046   322.0   \n5582    322.0   \n65124   357.0   \n5660    357.0   \n5694   2500.0   \n...       ...   \n66320   933.0   \n66382    76.0   \n6918     76.0   \n66393   933.0   \n6929    933.0   \n\n                                                                                                                                                                                                                                     userInputs  \n65046  [{'WhPerMile': 313, 'kWhRequested': 18.78, 'milesRequested': 60, 'minutesAvailable': 418, 'modifiedAt': 'Tue, 02 Jul 2019 13:25:07 GMT', 'paymentRequired': True, 'requestedDeparture': 'Tue, 02 Jul 2019 20:23:01 GMT', 'userID': 322}]  \n5582   [{'WhPerMile': 313, 'kWhRequested': 18.78, 'milesRequested': 60, 'minutesAvailable': 418, 'modifiedAt': 'Tue, 02 Jul 2019 13:25:07 GMT', 'paymentRequired': True, 'requestedDeparture': 'Tue, 02 Jul 2019 20:23:01 GMT', 'userID': 322}]  \n65124  [{'WhPerMile': 354, 'kWhRequested': 14.16, 'milesRequested': 40, 'minutesAvailable': 238, 'modifiedAt': 'Wed, 03 Jul 2019 16:21:04 GMT', 'paymentRequired': True, 'requestedDeparture': 'Wed, 03 Jul 2019 20:18:04 GMT', 'userID': 357}]  \n5660   [{'WhPerMile': 354, 'kWhRequested': 14.16, 'milesRequested': 40, 'minutesAvailable': 238, 'modifiedAt': 'Wed, 03 Jul 2019 16:21:04 GMT', 'paymentRequired': True, 'requestedDeparture': 'Wed, 03 Jul 2019 20:18:04 GMT', 'userID': 357}]  \n5694   [{'WhPerMile': 250, 'kWhRequested': 17.5, 'milesRequested': 70, 'minutesAvailable': 475, 'modifiedAt': 'Mon, 08 Jul 2019 13:09:25 GMT', 'paymentRequired': True, 'requestedDeparture': 'Mon, 08 Jul 2019 21:04:26 GMT', 'userID': 2500}]  \n...                                                                                                                                                                                                                                         ...  \n66320  [{'WhPerMile': 345, 'kWhRequested': 62.1, 'milesRequested': 180, 'minutesAvailable': 624, 'modifiedAt': 'Tue, 30 Jul 2019 11:31:40 GMT', 'paymentRequired': True, 'requestedDeparture': 'Tue, 30 Jul 2019 21:55:17 GMT', 'userID': 933}]  \n66382   [{'WhPerMile': 301, 'kWhRequested': 24.08, 'milesRequested': 80, 'minutesAvailable': 122, 'modifiedAt': 'Tue, 30 Jul 2019 22:31:09 GMT', 'paymentRequired': True, 'requestedDeparture': 'Wed, 31 Jul 2019 00:32:46 GMT', 'userID': 76}]  \n6918    [{'WhPerMile': 301, 'kWhRequested': 24.08, 'milesRequested': 80, 'minutesAvailable': 122, 'modifiedAt': 'Tue, 30 Jul 2019 22:31:09 GMT', 'paymentRequired': True, 'requestedDeparture': 'Wed, 31 Jul 2019 00:32:46 GMT', 'userID': 76}]  \n66393  [{'WhPerMile': 345, 'kWhRequested': 41.4, 'milesRequested': 120, 'minutesAvailable': 624, 'modifiedAt': 'Wed, 31 Jul 2019 11:57:25 GMT', 'paymentRequired': True, 'requestedDeparture': 'Wed, 31 Jul 2019 22:21:10 GMT', 'userID': 933}]  \n6929   [{'WhPerMile': 345, 'kWhRequested': 41.4, 'milesRequested': 120, 'minutesAvailable': 624, 'modifiedAt': 'Wed, 31 Jul 2019 11:57:25 GMT', 'paymentRequired': True, 'requestedDeparture': 'Wed, 31 Jul 2019 22:21:10 GMT', 'userID': 933}]  \n\n[2826 rows x 11 columns]",
      "text/html": "<div>\n<style scoped>\n    .dataframe tbody tr th:only-of-type {\n        vertical-align: middle;\n    }\n\n    .dataframe tbody tr th {\n        vertical-align: top;\n    }\n\n    .dataframe thead th {\n        text-align: right;\n    }\n</style>\n<table border=\"1\" class=\"dataframe\">\n  <thead>\n    <tr style=\"text-align: right;\">\n      <th></th>\n      <th>id</th>\n      <th>connectionTime</th>\n      <th>disconnectTime</th>\n      <th>doneChargingTime</th>\n      <th>kWhDelivered</th>\n      <th>sessionID</th>\n      <th>siteID</th>\n      <th>spaceID</th>\n      <th>stationID</th>\n      <th>userID</th>\n      <th>userInputs</th>\n    </tr>\n  </thead>\n  <tbody>\n    <tr>\n      <th>65046</th>\n      <td>5d310f54f9af8b52adda3e28</td>\n      <td>2019-07-02 13:25:01+00:00</td>\n      <td>2019-07-02 22:39:18+00:00</td>\n      <td>2019-07-02 16:29:23+00:00</td>\n      <td>13.924</td>\n      <td>1_1_178_817_2019-07-02 13:25:01.464654</td>\n      <td>1</td>\n      <td>AG-1F09</td>\n      <td>1-1-178-817</td>\n      <td>322.0</td>\n      <td>[{'WhPerMile': 313, 'kWhRequested': 18.78, 'milesRequested': 60, 'minutesAvailable': 418, 'modifiedAt': 'Tue, 02 Jul 2019 13:25:07 GMT', 'paymentRequired': True, 'requestedDeparture': 'Tue, 02 Jul 2019 20:23:01 GMT', 'userID': 322}]</td>\n    </tr>\n    <tr>\n      <th>5582</th>\n      <td>5d310f54f9af8b52adda3e28</td>\n      <td>2019-07-02 13:25:01+00:00</td>\n      <td>2019-07-02 22:39:18+00:00</td>\n      <td>2019-07-02 16:29:23+00:00</td>\n      <td>13.924</td>\n      <td>1_1_178_817_2019-07-02 13:25:01.464654</td>\n      <td>1</td>\n      <td>AG-1F09</td>\n      <td>1-1-178-817</td>\n      <td>322.0</td>\n      <td>[{'WhPerMile': 313, 'kWhRequested': 18.78, 'milesRequested': 60, 'minutesAvailable': 418, 'modifiedAt': 'Tue, 02 Jul 2019 13:25:07 GMT', 'paymentRequired': True, 'requestedDeparture': 'Tue, 02 Jul 2019 20:23:01 GMT', 'userID': 322}]</td>\n    </tr>\n    <tr>\n      <th>65124</th>\n      <td>5d3260aff9af8b56e4697230</td>\n      <td>2019-07-03 16:20:04+00:00</td>\n      <td>2019-07-03 22:41:16+00:00</td>\n      <td>2019-07-03 20:37:22+00:00</td>\n      <td>11.184</td>\n      <td>1_1_178_817_2019-07-03 16:20:03.809665</td>\n      <td>1</td>\n      <td>AG-1F09</td>\n      <td>1-1-178-817</td>\n      <td>357.0</td>\n      <td>[{'WhPerMile': 354, 'kWhRequested': 14.16, 'milesRequested': 40, 'minutesAvailable': 238, 'modifiedAt': 'Wed, 03 Jul 2019 16:21:04 GMT', 'paymentRequired': True, 'requestedDeparture': 'Wed, 03 Jul 2019 20:18:04 GMT', 'userID': 357}]</td>\n    </tr>\n    <tr>\n      <th>5660</th>\n      <td>5d3260aff9af8b56e4697230</td>\n      <td>2019-07-03 16:20:04+00:00</td>\n      <td>2019-07-03 22:41:16+00:00</td>\n      <td>2019-07-03 20:37:22+00:00</td>\n      <td>11.184</td>\n      <td>1_1_178_817_2019-07-03 16:20:03.809665</td>\n      <td>1</td>\n      <td>AG-1F09</td>\n      <td>1-1-178-817</td>\n      <td>357.0</td>\n      <td>[{'WhPerMile': 354, 'kWhRequested': 14.16, 'milesRequested': 40, 'minutesAvailable': 238, 'modifiedAt': 'Wed, 03 Jul 2019 16:21:04 GMT', 'paymentRequired': True, 'requestedDeparture': 'Wed, 03 Jul 2019 20:18:04 GMT', 'userID': 357}]</td>\n    </tr>\n    <tr>\n      <th>5694</th>\n      <td>5d38f852f9af8b69fe3549fd</td>\n      <td>2019-07-08 13:09:26+00:00</td>\n      <td>2019-07-08 19:03:10+00:00</td>\n      <td>2019-07-08 17:49:27+00:00</td>\n      <td>11.093</td>\n      <td>1_1_178_817_2019-07-08 13:08:13.199752</td>\n      <td>1</td>\n      <td>AG-1F09</td>\n      <td>1-1-178-817</td>\n      <td>2500.0</td>\n      <td>[{'WhPerMile': 250, 'kWhRequested': 17.5, 'milesRequested': 70, 'minutesAvailable': 475, 'modifiedAt': 'Mon, 08 Jul 2019 13:09:25 GMT', 'paymentRequired': True, 'requestedDeparture': 'Mon, 08 Jul 2019 21:04:26 GMT', 'userID': 2500}]</td>\n    </tr>\n    <tr>\n      <th>...</th>\n      <td>...</td>\n      <td>...</td>\n      <td>...</td>\n      <td>...</td>\n      <td>...</td>\n      <td>...</td>\n      <td>...</td>\n      <td>...</td>\n      <td>...</td>\n      <td>...</td>\n      <td>...</td>\n    </tr>\n    <tr>\n      <th>66320</th>\n      <td>5d55f950f9af8b45dfb3d875</td>\n      <td>2019-07-30 11:31:17+00:00</td>\n      <td>2019-07-30 22:07:15+00:00</td>\n      <td>2019-07-30 20:57:54+00:00</td>\n      <td>46.863</td>\n      <td>1_1_194_826_2019-07-30 11:31:16.894598</td>\n      <td>1</td>\n      <td>AG-1F11</td>\n      <td>1-1-194-826</td>\n      <td>933.0</td>\n      <td>[{'WhPerMile': 345, 'kWhRequested': 62.1, 'milesRequested': 180, 'minutesAvailable': 624, 'modifiedAt': 'Tue, 30 Jul 2019 11:31:40 GMT', 'paymentRequired': True, 'requestedDeparture': 'Tue, 30 Jul 2019 21:55:17 GMT', 'userID': 933}]</td>\n    </tr>\n    <tr>\n      <th>66382</th>\n      <td>5d55f950f9af8b45dfb3d8b3</td>\n      <td>2019-07-30 22:30:46+00:00</td>\n      <td>2019-07-31 00:44:02+00:00</td>\n      <td>2019-07-31 00:45:01+00:00</td>\n      <td>4.166</td>\n      <td>1_1_194_826_2019-07-30 22:30:45.743815</td>\n      <td>1</td>\n      <td>AG-1F11</td>\n      <td>1-1-194-826</td>\n      <td>76.0</td>\n      <td>[{'WhPerMile': 301, 'kWhRequested': 24.08, 'milesRequested': 80, 'minutesAvailable': 122, 'modifiedAt': 'Tue, 30 Jul 2019 22:31:09 GMT', 'paymentRequired': True, 'requestedDeparture': 'Wed, 31 Jul 2019 00:32:46 GMT', 'userID': 76}]</td>\n    </tr>\n    <tr>\n      <th>6918</th>\n      <td>5d55f950f9af8b45dfb3d8b3</td>\n      <td>2019-07-30 22:30:46+00:00</td>\n      <td>2019-07-31 00:44:02+00:00</td>\n      <td>2019-07-31 00:45:01+00:00</td>\n      <td>4.166</td>\n      <td>1_1_194_826_2019-07-30 22:30:45.743815</td>\n      <td>1</td>\n      <td>AG-1F11</td>\n      <td>1-1-194-826</td>\n      <td>76.0</td>\n      <td>[{'WhPerMile': 301, 'kWhRequested': 24.08, 'milesRequested': 80, 'minutesAvailable': 122, 'modifiedAt': 'Tue, 30 Jul 2019 22:31:09 GMT', 'paymentRequired': True, 'requestedDeparture': 'Wed, 31 Jul 2019 00:32:46 GMT', 'userID': 76}]</td>\n    </tr>\n    <tr>\n      <th>66393</th>\n      <td>5d574ad2f9af8b4c10c0361e</td>\n      <td>2019-07-31 11:57:10+00:00</td>\n      <td>2019-07-31 21:20:17+00:00</td>\n      <td>2019-07-31 19:08:13+00:00</td>\n      <td>25.971</td>\n      <td>1_1_194_826_2019-07-31 11:57:09.786222</td>\n      <td>1</td>\n      <td>AG-1F11</td>\n      <td>1-1-194-826</td>\n      <td>933.0</td>\n      <td>[{'WhPerMile': 345, 'kWhRequested': 41.4, 'milesRequested': 120, 'minutesAvailable': 624, 'modifiedAt': 'Wed, 31 Jul 2019 11:57:25 GMT', 'paymentRequired': True, 'requestedDeparture': 'Wed, 31 Jul 2019 22:21:10 GMT', 'userID': 933}]</td>\n    </tr>\n    <tr>\n      <th>6929</th>\n      <td>5d574ad2f9af8b4c10c0361e</td>\n      <td>2019-07-31 11:57:10+00:00</td>\n      <td>2019-07-31 21:20:17+00:00</td>\n      <td>2019-07-31 19:08:13+00:00</td>\n      <td>25.971</td>\n      <td>1_1_194_826_2019-07-31 11:57:09.786222</td>\n      <td>1</td>\n      <td>AG-1F11</td>\n      <td>1-1-194-826</td>\n      <td>933.0</td>\n      <td>[{'WhPerMile': 345, 'kWhRequested': 41.4, 'milesRequested': 120, 'minutesAvailable': 624, 'modifiedAt': 'Wed, 31 Jul 2019 11:57:25 GMT', 'paymentRequired': True, 'requestedDeparture': 'Wed, 31 Jul 2019 22:21:10 GMT', 'userID': 933}]</td>\n    </tr>\n  </tbody>\n</table>\n<p>2826 rows × 11 columns</p>\n</div>"
     },
     "execution_count": 14,
     "metadata": {},
     "output_type": "execute_result"
    }
   ],
   "source": [
    "duplicates.sort_values(by = \"sessionID\")"
   ]
  },
  {
   "cell_type": "markdown",
   "id": "dbd8777f-d6be-4e52-8bb6-765d204442d2",
   "metadata": {},
   "source": [
    "The duplicate rows look exactly the same, let's try dropping duplicates again."
   ]
  },
  {
   "cell_type": "code",
   "execution_count": 15,
   "id": "7b8c1213-f534-4b20-93b8-b26dab923d2f",
   "metadata": {
    "ExecuteTime": {
     "end_time": "2024-02-07T16:06:14.802206700Z",
     "start_time": "2024-02-07T16:06:14.661404500Z"
    }
   },
   "outputs": [],
   "source": [
    "charging_sessions_modified.drop_duplicates(inplace = True)"
   ]
  },
  {
   "cell_type": "code",
   "execution_count": 16,
   "id": "21c41fa0-ccd8-4f1f-bbbf-511ec8396eb9",
   "metadata": {
    "ExecuteTime": {
     "end_time": "2024-02-07T16:06:14.803208300Z",
     "start_time": "2024-02-07T16:06:14.726042100Z"
    }
   },
   "outputs": [
    {
     "name": "stdout",
     "output_type": "stream",
     "text": [
      "<class 'pandas.core.frame.DataFrame'>\n",
      "Index: 65037 entries, 0 to 65036\n",
      "Data columns (total 11 columns):\n",
      " #   Column            Non-Null Count  Dtype  \n",
      "---  ------            --------------  -----  \n",
      " 0   id                65037 non-null  object \n",
      " 1   connectionTime    65037 non-null  object \n",
      " 2   disconnectTime    65037 non-null  object \n",
      " 3   doneChargingTime  60950 non-null  object \n",
      " 4   kWhDelivered      65037 non-null  float64\n",
      " 5   sessionID         65037 non-null  object \n",
      " 6   siteID            65037 non-null  int64  \n",
      " 7   spaceID           65037 non-null  object \n",
      " 8   stationID         65037 non-null  object \n",
      " 9   userID            47822 non-null  float64\n",
      " 10  userInputs        47822 non-null  object \n",
      "dtypes: float64(2), int64(1), object(8)\n",
      "memory usage: 6.0+ MB\n"
     ]
    },
    {
     "data": {
      "text/plain": "id                  65037\nconnectionTime      64839\ndisconnectTime      64906\ndoneChargingTime    60637\nkWhDelivered        25629\nsessionID           65037\nsiteID                  2\nspaceID               107\nstationID             107\nuserID               1006\nuserInputs          47822\ndtype: int64"
     },
     "execution_count": 16,
     "metadata": {},
     "output_type": "execute_result"
    }
   ],
   "source": [
    "charging_sessions_modified.info()\n",
    "charging_sessions_modified.nunique()"
   ]
  },
  {
   "cell_type": "markdown",
   "id": "be00474b-57c8-40e3-90e0-8565891b3949",
   "metadata": {},
   "source": [
    "That did the job, we now have the same amount of unique id's as we have total rows.\n",
    "We can now safely drop the id column. Since the sessionID is an aggregate of the connection time and station id, we will drop it too. "
   ]
  },
  {
   "cell_type": "code",
   "execution_count": 17,
   "id": "8c2dafd0-6d85-44b5-a017-2d7ca680922d",
   "metadata": {
    "ExecuteTime": {
     "end_time": "2024-02-07T16:06:14.803208300Z",
     "start_time": "2024-02-07T16:06:14.787174700Z"
    }
   },
   "outputs": [],
   "source": [
    "charging_sessions_modified.drop(columns = [\"id\", \"sessionID\"], inplace = True)"
   ]
  },
  {
   "cell_type": "code",
   "execution_count": 18,
   "id": "6d36b220-2166-4f86-b5bb-25afba57ace9",
   "metadata": {
    "ExecuteTime": {
     "end_time": "2024-02-07T16:06:14.895061100Z",
     "start_time": "2024-02-07T16:06:14.802206700Z"
    }
   },
   "outputs": [
    {
     "data": {
      "text/plain": "              connectionTime             disconnectTime  \\\n0  2020-01-02 13:08:54+00:00  2020-01-02 19:11:15+00:00   \n1  2020-01-02 13:36:50+00:00  2020-01-02 22:38:21+00:00   \n2  2020-01-02 13:56:35+00:00  2020-01-03 00:39:22+00:00   \n3  2020-01-02 13:59:58+00:00  2020-01-02 16:38:39+00:00   \n4  2020-01-02 14:00:01+00:00  2020-01-02 22:08:40+00:00   \n\n            doneChargingTime  kWhDelivered  siteID  spaceID    stationID  \\\n0  2020-01-02 17:31:35+00:00        25.016       1  AG-3F30  1-1-179-810   \n1  2020-01-02 20:18:05+00:00        33.097       1  AG-1F01  1-1-193-825   \n2  2020-01-02 16:35:06+00:00         6.521       1  AG-1F03  1-1-193-829   \n3  2020-01-02 15:18:45+00:00         2.355       1  AG-1F04  1-1-193-820   \n4  2020-01-02 18:17:30+00:00        13.375       1  AG-1F06  1-1-193-819   \n\n   userID  \\\n0   194.0   \n1  4275.0   \n2   344.0   \n3  1117.0   \n4   334.0   \n\n                                                                                                                                                                                                                                                                                                                                                                                                                                                                     userInputs  \n0                                                                                                                                                                                                                                      [{'WhPerMile': 250, 'kWhRequested': 25.0, 'milesRequested': 100, 'minutesAvailable': 463, 'modifiedAt': 'Thu, 02 Jan 2020 13:09:39 GMT', 'paymentRequired': True, 'requestedDeparture': 'Thu, 02 Jan 2020 20:51:54 GMT', 'userID': 194}]  \n1                                                                                                                                                                                                                                     [{'WhPerMile': 280, 'kWhRequested': 70.0, 'milesRequested': 250, 'minutesAvailable': 595, 'modifiedAt': 'Thu, 02 Jan 2020 13:37:11 GMT', 'paymentRequired': True, 'requestedDeparture': 'Thu, 02 Jan 2020 23:31:50 GMT', 'userID': 4275}]  \n2                                                                                                                                                                                                                                         [{'WhPerMile': 400, 'kWhRequested': 8.0, 'milesRequested': 20, 'minutesAvailable': 60, 'modifiedAt': 'Thu, 02 Jan 2020 13:57:17 GMT', 'paymentRequired': True, 'requestedDeparture': 'Thu, 02 Jan 2020 14:56:35 GMT', 'userID': 344}]  \n3  [{'WhPerMile': 400, 'kWhRequested': 8.0, 'milesRequested': 20, 'minutesAvailable': 65, 'modifiedAt': 'Thu, 02 Jan 2020 14:00:03 GMT', 'paymentRequired': True, 'requestedDeparture': 'Thu, 02 Jan 2020 15:04:58 GMT', 'userID': 1117}, {'WhPerMile': 400, 'kWhRequested': 8.0, 'milesRequested': 20, 'minutesAvailable': 65, 'modifiedAt': 'Thu, 02 Jan 2020 14:00:19 GMT', 'paymentRequired': True, 'requestedDeparture': 'Thu, 02 Jan 2020 15:04:58 GMT', 'userID': 1117}]  \n4                                                                                                                                                                                                                                       [{'WhPerMile': 400, 'kWhRequested': 16.0, 'milesRequested': 40, 'minutesAvailable': 504, 'modifiedAt': 'Thu, 02 Jan 2020 14:00:13 GMT', 'paymentRequired': True, 'requestedDeparture': 'Thu, 02 Jan 2020 22:24:01 GMT', 'userID': 334}]  ",
      "text/html": "<div>\n<style scoped>\n    .dataframe tbody tr th:only-of-type {\n        vertical-align: middle;\n    }\n\n    .dataframe tbody tr th {\n        vertical-align: top;\n    }\n\n    .dataframe thead th {\n        text-align: right;\n    }\n</style>\n<table border=\"1\" class=\"dataframe\">\n  <thead>\n    <tr style=\"text-align: right;\">\n      <th></th>\n      <th>connectionTime</th>\n      <th>disconnectTime</th>\n      <th>doneChargingTime</th>\n      <th>kWhDelivered</th>\n      <th>siteID</th>\n      <th>spaceID</th>\n      <th>stationID</th>\n      <th>userID</th>\n      <th>userInputs</th>\n    </tr>\n  </thead>\n  <tbody>\n    <tr>\n      <th>0</th>\n      <td>2020-01-02 13:08:54+00:00</td>\n      <td>2020-01-02 19:11:15+00:00</td>\n      <td>2020-01-02 17:31:35+00:00</td>\n      <td>25.016</td>\n      <td>1</td>\n      <td>AG-3F30</td>\n      <td>1-1-179-810</td>\n      <td>194.0</td>\n      <td>[{'WhPerMile': 250, 'kWhRequested': 25.0, 'milesRequested': 100, 'minutesAvailable': 463, 'modifiedAt': 'Thu, 02 Jan 2020 13:09:39 GMT', 'paymentRequired': True, 'requestedDeparture': 'Thu, 02 Jan 2020 20:51:54 GMT', 'userID': 194}]</td>\n    </tr>\n    <tr>\n      <th>1</th>\n      <td>2020-01-02 13:36:50+00:00</td>\n      <td>2020-01-02 22:38:21+00:00</td>\n      <td>2020-01-02 20:18:05+00:00</td>\n      <td>33.097</td>\n      <td>1</td>\n      <td>AG-1F01</td>\n      <td>1-1-193-825</td>\n      <td>4275.0</td>\n      <td>[{'WhPerMile': 280, 'kWhRequested': 70.0, 'milesRequested': 250, 'minutesAvailable': 595, 'modifiedAt': 'Thu, 02 Jan 2020 13:37:11 GMT', 'paymentRequired': True, 'requestedDeparture': 'Thu, 02 Jan 2020 23:31:50 GMT', 'userID': 4275}]</td>\n    </tr>\n    <tr>\n      <th>2</th>\n      <td>2020-01-02 13:56:35+00:00</td>\n      <td>2020-01-03 00:39:22+00:00</td>\n      <td>2020-01-02 16:35:06+00:00</td>\n      <td>6.521</td>\n      <td>1</td>\n      <td>AG-1F03</td>\n      <td>1-1-193-829</td>\n      <td>344.0</td>\n      <td>[{'WhPerMile': 400, 'kWhRequested': 8.0, 'milesRequested': 20, 'minutesAvailable': 60, 'modifiedAt': 'Thu, 02 Jan 2020 13:57:17 GMT', 'paymentRequired': True, 'requestedDeparture': 'Thu, 02 Jan 2020 14:56:35 GMT', 'userID': 344}]</td>\n    </tr>\n    <tr>\n      <th>3</th>\n      <td>2020-01-02 13:59:58+00:00</td>\n      <td>2020-01-02 16:38:39+00:00</td>\n      <td>2020-01-02 15:18:45+00:00</td>\n      <td>2.355</td>\n      <td>1</td>\n      <td>AG-1F04</td>\n      <td>1-1-193-820</td>\n      <td>1117.0</td>\n      <td>[{'WhPerMile': 400, 'kWhRequested': 8.0, 'milesRequested': 20, 'minutesAvailable': 65, 'modifiedAt': 'Thu, 02 Jan 2020 14:00:03 GMT', 'paymentRequired': True, 'requestedDeparture': 'Thu, 02 Jan 2020 15:04:58 GMT', 'userID': 1117}, {'WhPerMile': 400, 'kWhRequested': 8.0, 'milesRequested': 20, 'minutesAvailable': 65, 'modifiedAt': 'Thu, 02 Jan 2020 14:00:19 GMT', 'paymentRequired': True, 'requestedDeparture': 'Thu, 02 Jan 2020 15:04:58 GMT', 'userID': 1117}]</td>\n    </tr>\n    <tr>\n      <th>4</th>\n      <td>2020-01-02 14:00:01+00:00</td>\n      <td>2020-01-02 22:08:40+00:00</td>\n      <td>2020-01-02 18:17:30+00:00</td>\n      <td>13.375</td>\n      <td>1</td>\n      <td>AG-1F06</td>\n      <td>1-1-193-819</td>\n      <td>334.0</td>\n      <td>[{'WhPerMile': 400, 'kWhRequested': 16.0, 'milesRequested': 40, 'minutesAvailable': 504, 'modifiedAt': 'Thu, 02 Jan 2020 14:00:13 GMT', 'paymentRequired': True, 'requestedDeparture': 'Thu, 02 Jan 2020 22:24:01 GMT', 'userID': 334}]</td>\n    </tr>\n  </tbody>\n</table>\n</div>"
     },
     "execution_count": 18,
     "metadata": {},
     "output_type": "execute_result"
    }
   ],
   "source": [
    "charging_sessions_modified.head()"
   ]
  },
  {
   "cell_type": "markdown",
   "id": "4567e3e5-cbf0-4fa8-a3d4-3484d4daffb0",
   "metadata": {},
   "source": [
    "In the last nunique() call, both spaceID and stationID have the same amount of unique data points. Since one identifies the parking space and the other the charging station, it is possible that every parking space has their own charging station, as opposed to one station servicing multiple spaces. If we can prove this, we could drop one of the two columns, since it is redundant."
   ]
  },
  {
   "cell_type": "code",
   "execution_count": 19,
   "id": "4505b273-5b44-4422-b389-5971ca83269e",
   "metadata": {
    "ExecuteTime": {
     "end_time": "2024-02-07T16:06:14.957107500Z",
     "start_time": "2024-02-07T16:06:14.819640600Z"
    }
   },
   "outputs": [
    {
     "data": {
      "text/plain": "107"
     },
     "execution_count": 19,
     "metadata": {},
     "output_type": "execute_result"
    }
   ],
   "source": [
    "#Create an aggregate column that contains the concatenated value of spaceID and stationID\n",
    "charging_sessions_modified[\"combinedSpaceStationID\"] = charging_sessions_modified[\"spaceID\"].astype(str) \\\n",
    "                                                       + \"/\" + charging_sessions_modified[\"stationID\"].astype(str)\n",
    "charging_sessions_modified[\"combinedSpaceStationID\"].nunique()"
   ]
  },
  {
   "cell_type": "markdown",
   "id": "cde63f62-f883-4809-9af9-1204ec7b0cac",
   "metadata": {},
   "source": [
    "The combined column has the same amount of unique values, as the spaceID and stationID. Our assumption holds and we will thus drop the two columns and keep the aggregate. "
   ]
  },
  {
   "cell_type": "code",
   "execution_count": 20,
   "id": "a5c01142-4761-40de-8f57-94457664f283",
   "metadata": {
    "ExecuteTime": {
     "end_time": "2024-02-07T16:06:14.967634800Z",
     "start_time": "2024-02-07T16:06:14.835177600Z"
    }
   },
   "outputs": [],
   "source": [
    "charging_sessions_modified.drop(columns = [\"spaceID\", \"stationID\"], inplace = True)"
   ]
  },
  {
   "cell_type": "markdown",
   "id": "d355b744-fd8d-4feb-8037-d35f500e2d36",
   "metadata": {},
   "source": [
    "Convert the timestamp strings to datetime for easier conversion later on."
   ]
  },
  {
   "cell_type": "code",
   "execution_count": 21,
   "id": "24a1fbdb-948d-4825-8e36-7056edb10846",
   "metadata": {
    "ExecuteTime": {
     "end_time": "2024-02-07T16:06:15.365142800Z",
     "start_time": "2024-02-07T16:06:14.850713500Z"
    }
   },
   "outputs": [],
   "source": [
    "charging_sessions_modified[\"connectionTime\"] = pd.to_datetime(charging_sessions_modified[\"connectionTime\"])\n",
    "charging_sessions_modified[\"disconnectTime\"] = pd.to_datetime(charging_sessions_modified[\"disconnectTime\"])\n",
    "charging_sessions_modified[\"doneChargingTime\"] = pd.to_datetime(charging_sessions_modified[\"doneChargingTime\"],errors = \"coerce\")"
   ]
  },
  {
   "cell_type": "code",
   "execution_count": 22,
   "id": "2f595741-810a-4182-ad3f-b3744599e6b0",
   "metadata": {
    "ExecuteTime": {
     "end_time": "2024-02-07T16:06:15.368197200Z",
     "start_time": "2024-02-07T16:06:15.351093400Z"
    }
   },
   "outputs": [
    {
     "data": {
      "text/plain": "             connectionTime            disconnectTime  \\\n0 2020-01-02 13:08:54+00:00 2020-01-02 19:11:15+00:00   \n1 2020-01-02 13:36:50+00:00 2020-01-02 22:38:21+00:00   \n2 2020-01-02 13:56:35+00:00 2020-01-03 00:39:22+00:00   \n3 2020-01-02 13:59:58+00:00 2020-01-02 16:38:39+00:00   \n4 2020-01-02 14:00:01+00:00 2020-01-02 22:08:40+00:00   \n\n           doneChargingTime  kWhDelivered  siteID  userID  \\\n0 2020-01-02 17:31:35+00:00        25.016       1   194.0   \n1 2020-01-02 20:18:05+00:00        33.097       1  4275.0   \n2 2020-01-02 16:35:06+00:00         6.521       1   344.0   \n3 2020-01-02 15:18:45+00:00         2.355       1  1117.0   \n4 2020-01-02 18:17:30+00:00        13.375       1   334.0   \n\n                                                                                                                                                                                                                                                                                                                                                                                                                                                                     userInputs  \\\n0                                                                                                                                                                                                                                      [{'WhPerMile': 250, 'kWhRequested': 25.0, 'milesRequested': 100, 'minutesAvailable': 463, 'modifiedAt': 'Thu, 02 Jan 2020 13:09:39 GMT', 'paymentRequired': True, 'requestedDeparture': 'Thu, 02 Jan 2020 20:51:54 GMT', 'userID': 194}]   \n1                                                                                                                                                                                                                                     [{'WhPerMile': 280, 'kWhRequested': 70.0, 'milesRequested': 250, 'minutesAvailable': 595, 'modifiedAt': 'Thu, 02 Jan 2020 13:37:11 GMT', 'paymentRequired': True, 'requestedDeparture': 'Thu, 02 Jan 2020 23:31:50 GMT', 'userID': 4275}]   \n2                                                                                                                                                                                                                                         [{'WhPerMile': 400, 'kWhRequested': 8.0, 'milesRequested': 20, 'minutesAvailable': 60, 'modifiedAt': 'Thu, 02 Jan 2020 13:57:17 GMT', 'paymentRequired': True, 'requestedDeparture': 'Thu, 02 Jan 2020 14:56:35 GMT', 'userID': 344}]   \n3  [{'WhPerMile': 400, 'kWhRequested': 8.0, 'milesRequested': 20, 'minutesAvailable': 65, 'modifiedAt': 'Thu, 02 Jan 2020 14:00:03 GMT', 'paymentRequired': True, 'requestedDeparture': 'Thu, 02 Jan 2020 15:04:58 GMT', 'userID': 1117}, {'WhPerMile': 400, 'kWhRequested': 8.0, 'milesRequested': 20, 'minutesAvailable': 65, 'modifiedAt': 'Thu, 02 Jan 2020 14:00:19 GMT', 'paymentRequired': True, 'requestedDeparture': 'Thu, 02 Jan 2020 15:04:58 GMT', 'userID': 1117}]   \n4                                                                                                                                                                                                                                       [{'WhPerMile': 400, 'kWhRequested': 16.0, 'milesRequested': 40, 'minutesAvailable': 504, 'modifiedAt': 'Thu, 02 Jan 2020 14:00:13 GMT', 'paymentRequired': True, 'requestedDeparture': 'Thu, 02 Jan 2020 22:24:01 GMT', 'userID': 334}]   \n\n  combinedSpaceStationID  \n0    AG-3F30/1-1-179-810  \n1    AG-1F01/1-1-193-825  \n2    AG-1F03/1-1-193-829  \n3    AG-1F04/1-1-193-820  \n4    AG-1F06/1-1-193-819  ",
      "text/html": "<div>\n<style scoped>\n    .dataframe tbody tr th:only-of-type {\n        vertical-align: middle;\n    }\n\n    .dataframe tbody tr th {\n        vertical-align: top;\n    }\n\n    .dataframe thead th {\n        text-align: right;\n    }\n</style>\n<table border=\"1\" class=\"dataframe\">\n  <thead>\n    <tr style=\"text-align: right;\">\n      <th></th>\n      <th>connectionTime</th>\n      <th>disconnectTime</th>\n      <th>doneChargingTime</th>\n      <th>kWhDelivered</th>\n      <th>siteID</th>\n      <th>userID</th>\n      <th>userInputs</th>\n      <th>combinedSpaceStationID</th>\n    </tr>\n  </thead>\n  <tbody>\n    <tr>\n      <th>0</th>\n      <td>2020-01-02 13:08:54+00:00</td>\n      <td>2020-01-02 19:11:15+00:00</td>\n      <td>2020-01-02 17:31:35+00:00</td>\n      <td>25.016</td>\n      <td>1</td>\n      <td>194.0</td>\n      <td>[{'WhPerMile': 250, 'kWhRequested': 25.0, 'milesRequested': 100, 'minutesAvailable': 463, 'modifiedAt': 'Thu, 02 Jan 2020 13:09:39 GMT', 'paymentRequired': True, 'requestedDeparture': 'Thu, 02 Jan 2020 20:51:54 GMT', 'userID': 194}]</td>\n      <td>AG-3F30/1-1-179-810</td>\n    </tr>\n    <tr>\n      <th>1</th>\n      <td>2020-01-02 13:36:50+00:00</td>\n      <td>2020-01-02 22:38:21+00:00</td>\n      <td>2020-01-02 20:18:05+00:00</td>\n      <td>33.097</td>\n      <td>1</td>\n      <td>4275.0</td>\n      <td>[{'WhPerMile': 280, 'kWhRequested': 70.0, 'milesRequested': 250, 'minutesAvailable': 595, 'modifiedAt': 'Thu, 02 Jan 2020 13:37:11 GMT', 'paymentRequired': True, 'requestedDeparture': 'Thu, 02 Jan 2020 23:31:50 GMT', 'userID': 4275}]</td>\n      <td>AG-1F01/1-1-193-825</td>\n    </tr>\n    <tr>\n      <th>2</th>\n      <td>2020-01-02 13:56:35+00:00</td>\n      <td>2020-01-03 00:39:22+00:00</td>\n      <td>2020-01-02 16:35:06+00:00</td>\n      <td>6.521</td>\n      <td>1</td>\n      <td>344.0</td>\n      <td>[{'WhPerMile': 400, 'kWhRequested': 8.0, 'milesRequested': 20, 'minutesAvailable': 60, 'modifiedAt': 'Thu, 02 Jan 2020 13:57:17 GMT', 'paymentRequired': True, 'requestedDeparture': 'Thu, 02 Jan 2020 14:56:35 GMT', 'userID': 344}]</td>\n      <td>AG-1F03/1-1-193-829</td>\n    </tr>\n    <tr>\n      <th>3</th>\n      <td>2020-01-02 13:59:58+00:00</td>\n      <td>2020-01-02 16:38:39+00:00</td>\n      <td>2020-01-02 15:18:45+00:00</td>\n      <td>2.355</td>\n      <td>1</td>\n      <td>1117.0</td>\n      <td>[{'WhPerMile': 400, 'kWhRequested': 8.0, 'milesRequested': 20, 'minutesAvailable': 65, 'modifiedAt': 'Thu, 02 Jan 2020 14:00:03 GMT', 'paymentRequired': True, 'requestedDeparture': 'Thu, 02 Jan 2020 15:04:58 GMT', 'userID': 1117}, {'WhPerMile': 400, 'kWhRequested': 8.0, 'milesRequested': 20, 'minutesAvailable': 65, 'modifiedAt': 'Thu, 02 Jan 2020 14:00:19 GMT', 'paymentRequired': True, 'requestedDeparture': 'Thu, 02 Jan 2020 15:04:58 GMT', 'userID': 1117}]</td>\n      <td>AG-1F04/1-1-193-820</td>\n    </tr>\n    <tr>\n      <th>4</th>\n      <td>2020-01-02 14:00:01+00:00</td>\n      <td>2020-01-02 22:08:40+00:00</td>\n      <td>2020-01-02 18:17:30+00:00</td>\n      <td>13.375</td>\n      <td>1</td>\n      <td>334.0</td>\n      <td>[{'WhPerMile': 400, 'kWhRequested': 16.0, 'milesRequested': 40, 'minutesAvailable': 504, 'modifiedAt': 'Thu, 02 Jan 2020 14:00:13 GMT', 'paymentRequired': True, 'requestedDeparture': 'Thu, 02 Jan 2020 22:24:01 GMT', 'userID': 334}]</td>\n      <td>AG-1F06/1-1-193-819</td>\n    </tr>\n  </tbody>\n</table>\n</div>"
     },
     "execution_count": 22,
     "metadata": {},
     "output_type": "execute_result"
    }
   ],
   "source": [
    "charging_sessions_modified.head()"
   ]
  },
  {
   "cell_type": "markdown",
   "source": [
    "Let's do a check, whether we have any data where the disconnectTime occurs before the connectionTime. Since this is logically impossible, we would drop this data."
   ],
   "metadata": {
    "collapsed": false
   },
   "id": "c7d60faaa33448eb"
  },
  {
   "cell_type": "code",
   "execution_count": 23,
   "id": "412fcc70-932f-426b-82ca-e134966a8f2f",
   "metadata": {
    "ExecuteTime": {
     "end_time": "2024-02-07T16:06:15.381766400Z",
     "start_time": "2024-02-07T16:06:15.367144600Z"
    }
   },
   "outputs": [
    {
     "data": {
      "text/plain": "Empty DataFrame\nColumns: [connectionTime, disconnectTime, doneChargingTime, kWhDelivered, siteID, userID, userInputs, combinedSpaceStationID]\nIndex: []",
      "text/html": "<div>\n<style scoped>\n    .dataframe tbody tr th:only-of-type {\n        vertical-align: middle;\n    }\n\n    .dataframe tbody tr th {\n        vertical-align: top;\n    }\n\n    .dataframe thead th {\n        text-align: right;\n    }\n</style>\n<table border=\"1\" class=\"dataframe\">\n  <thead>\n    <tr style=\"text-align: right;\">\n      <th></th>\n      <th>connectionTime</th>\n      <th>disconnectTime</th>\n      <th>doneChargingTime</th>\n      <th>kWhDelivered</th>\n      <th>siteID</th>\n      <th>userID</th>\n      <th>userInputs</th>\n      <th>combinedSpaceStationID</th>\n    </tr>\n  </thead>\n  <tbody>\n  </tbody>\n</table>\n</div>"
     },
     "execution_count": 23,
     "metadata": {},
     "output_type": "execute_result"
    }
   ],
   "source": [
    "charging_sessions_modified[charging_sessions_modified[\"disconnectTime\"]<charging_sessions_modified[\"connectionTime\"]]"
   ]
  },
  {
   "cell_type": "markdown",
   "id": "d95698b7-3e18-4078-aaca-c384f8a17206",
   "metadata": {},
   "source": [
    "Doesn't occur anywhere, we're good on this front.  \n",
    "At this point we are gonna make an assumption on the dataset. We still have null values in the doneChargingTime column. Our assumption is, these values are null if disconnect and doneChargingTime would be the same, i.e. if the the vehicle gets disconnected before it finished charging. We try to generate some supporting evidence, by checking if the disconnect and doneCharging are the same anywhere in the dataset."
   ]
  },
  {
   "cell_type": "code",
   "execution_count": 24,
   "id": "eb52fc43-e144-47dc-8f7d-525d020d04e7",
   "metadata": {
    "ExecuteTime": {
     "end_time": "2024-02-07T16:06:15.421506500Z",
     "start_time": "2024-02-07T16:06:15.381766400Z"
    }
   },
   "outputs": [
    {
     "data": {
      "text/plain": "                 connectionTime            disconnectTime  \\\n25051 2019-05-31 22:26:39+00:00 2019-06-01 00:24:47+00:00   \n35096 2018-07-09 00:21:39+00:00 2018-07-09 06:16:09+00:00   \n40658 2018-09-20 18:21:06+00:00 2018-09-20 20:20:04+00:00   \n41408 2018-09-29 22:03:35+00:00 2018-09-29 23:00:39+00:00   \n42038 2018-10-08 00:36:11+00:00 2018-10-08 01:42:18+00:00   \n\n               doneChargingTime  kWhDelivered  siteID  userID  \\\n25051 2019-06-01 00:24:47+00:00      5.933000       2   431.0   \n35096 2018-07-09 06:16:09+00:00     27.154000       2     NaN   \n40658 2018-09-20 20:20:04+00:00      3.584000       2     NaN   \n41408 2018-09-29 23:00:39+00:00      6.815959       2     NaN   \n42038 2018-10-08 01:42:18+00:00      7.191020       2     NaN   \n\n                                                                                                                                                                                                                                    userInputs  \\\n25051  [{'WhPerMile': 300, 'kWhRequested': 18.0, 'milesRequested': 60, 'minutesAvailable': 149, 'modifiedAt': 'Fri, 31 May 2019 22:27:14 GMT', 'paymentRequired': True, 'requestedDeparture': 'Sat, 01 Jun 2019 00:55:39 GMT', 'userID': 431}]   \n35096                                                                                                                                                                                                                                      NaN   \n40658                                                                                                                                                                                                                                      NaN   \n41408                                                                                                                                                                                                                                      NaN   \n42038                                                                                                                                                                                                                                      NaN   \n\n      combinedSpaceStationID  \n25051     CA-322/2-39-78-360  \n35096     CA-320/2-39-78-363  \n40658     CA-323/2-39-78-366  \n41408     CA-323/2-39-78-366  \n42038     CA-323/2-39-78-366  ",
      "text/html": "<div>\n<style scoped>\n    .dataframe tbody tr th:only-of-type {\n        vertical-align: middle;\n    }\n\n    .dataframe tbody tr th {\n        vertical-align: top;\n    }\n\n    .dataframe thead th {\n        text-align: right;\n    }\n</style>\n<table border=\"1\" class=\"dataframe\">\n  <thead>\n    <tr style=\"text-align: right;\">\n      <th></th>\n      <th>connectionTime</th>\n      <th>disconnectTime</th>\n      <th>doneChargingTime</th>\n      <th>kWhDelivered</th>\n      <th>siteID</th>\n      <th>userID</th>\n      <th>userInputs</th>\n      <th>combinedSpaceStationID</th>\n    </tr>\n  </thead>\n  <tbody>\n    <tr>\n      <th>25051</th>\n      <td>2019-05-31 22:26:39+00:00</td>\n      <td>2019-06-01 00:24:47+00:00</td>\n      <td>2019-06-01 00:24:47+00:00</td>\n      <td>5.933000</td>\n      <td>2</td>\n      <td>431.0</td>\n      <td>[{'WhPerMile': 300, 'kWhRequested': 18.0, 'milesRequested': 60, 'minutesAvailable': 149, 'modifiedAt': 'Fri, 31 May 2019 22:27:14 GMT', 'paymentRequired': True, 'requestedDeparture': 'Sat, 01 Jun 2019 00:55:39 GMT', 'userID': 431}]</td>\n      <td>CA-322/2-39-78-360</td>\n    </tr>\n    <tr>\n      <th>35096</th>\n      <td>2018-07-09 00:21:39+00:00</td>\n      <td>2018-07-09 06:16:09+00:00</td>\n      <td>2018-07-09 06:16:09+00:00</td>\n      <td>27.154000</td>\n      <td>2</td>\n      <td>NaN</td>\n      <td>NaN</td>\n      <td>CA-320/2-39-78-363</td>\n    </tr>\n    <tr>\n      <th>40658</th>\n      <td>2018-09-20 18:21:06+00:00</td>\n      <td>2018-09-20 20:20:04+00:00</td>\n      <td>2018-09-20 20:20:04+00:00</td>\n      <td>3.584000</td>\n      <td>2</td>\n      <td>NaN</td>\n      <td>NaN</td>\n      <td>CA-323/2-39-78-366</td>\n    </tr>\n    <tr>\n      <th>41408</th>\n      <td>2018-09-29 22:03:35+00:00</td>\n      <td>2018-09-29 23:00:39+00:00</td>\n      <td>2018-09-29 23:00:39+00:00</td>\n      <td>6.815959</td>\n      <td>2</td>\n      <td>NaN</td>\n      <td>NaN</td>\n      <td>CA-323/2-39-78-366</td>\n    </tr>\n    <tr>\n      <th>42038</th>\n      <td>2018-10-08 00:36:11+00:00</td>\n      <td>2018-10-08 01:42:18+00:00</td>\n      <td>2018-10-08 01:42:18+00:00</td>\n      <td>7.191020</td>\n      <td>2</td>\n      <td>NaN</td>\n      <td>NaN</td>\n      <td>CA-323/2-39-78-366</td>\n    </tr>\n  </tbody>\n</table>\n</div>"
     },
     "execution_count": 24,
     "metadata": {},
     "output_type": "execute_result"
    }
   ],
   "source": [
    "charging_sessions_modified[charging_sessions_modified[\"disconnectTime\"] == charging_sessions_modified[\"doneChargingTime\"]]"
   ]
  },
  {
   "cell_type": "markdown",
   "source": [
    "Because we have a few data points, where the disconnect and doneCharging time are identical, we don't have any evidence to support our earlier assumption. It might still be possible that it holds true, but we will play it safe and drop all the rows where the doneChargingTime is null."
   ],
   "metadata": {
    "collapsed": false
   },
   "id": "bc91dd0399ccd0d8"
  },
  {
   "cell_type": "code",
   "execution_count": 25,
   "outputs": [],
   "source": [
    "charging_sessions_modified.dropna(axis = 0, subset = \"doneChargingTime\", inplace=True)"
   ],
   "metadata": {
    "collapsed": false,
    "ExecuteTime": {
     "end_time": "2024-02-07T16:06:15.474351100Z",
     "start_time": "2024-02-07T16:06:15.398366900Z"
    }
   },
   "id": "5d3bec64499a9038"
  },
  {
   "cell_type": "code",
   "execution_count": 26,
   "outputs": [
    {
     "name": "stdout",
     "output_type": "stream",
     "text": [
      "<class 'pandas.core.frame.DataFrame'>\n",
      "Index: 60950 entries, 0 to 65036\n",
      "Data columns (total 8 columns):\n",
      " #   Column                  Non-Null Count  Dtype              \n",
      "---  ------                  --------------  -----              \n",
      " 0   connectionTime          60950 non-null  datetime64[ns, UTC]\n",
      " 1   disconnectTime          60950 non-null  datetime64[ns, UTC]\n",
      " 2   doneChargingTime        60950 non-null  datetime64[ns, UTC]\n",
      " 3   kWhDelivered            60950 non-null  float64            \n",
      " 4   siteID                  60950 non-null  int64              \n",
      " 5   userID                  44644 non-null  float64            \n",
      " 6   userInputs              44644 non-null  object             \n",
      " 7   combinedSpaceStationID  60950 non-null  object             \n",
      "dtypes: datetime64[ns, UTC](3), float64(2), int64(1), object(2)\n",
      "memory usage: 4.2+ MB\n"
     ]
    }
   ],
   "source": [
    "charging_sessions_modified.info()"
   ],
   "metadata": {
    "collapsed": false,
    "ExecuteTime": {
     "end_time": "2024-02-07T16:06:15.527528400Z",
     "start_time": "2024-02-07T16:06:15.414479500Z"
    }
   },
   "id": "fda652e1892d6085"
  },
  {
   "cell_type": "markdown",
   "source": [
    "This leaves us with null-values only in the userID and inputs column. We will deal with these later on.\n",
    "Before that, we will add a few columns that contain relevant metrics. Starting with the total time the vehicle was connected to the charging station, the time it was actually charging and the idle time (each in seconds)."
   ],
   "metadata": {
    "collapsed": false
   },
   "id": "254265c41a3e1351"
  },
  {
   "cell_type": "code",
   "execution_count": 27,
   "outputs": [],
   "source": [
    "charging_sessions_modified = charging_sessions_modified.assign(timeConnected = lambda x : ((x[\"disconnectTime\"]-x[\"connectionTime\"])))\n",
    "charging_sessions_modified[\"timeConnected\"] = charging_sessions_modified[\"timeConnected\"].dt.total_seconds()\n",
    "\n",
    "charging_sessions_modified = charging_sessions_modified.assign(idleTime = lambda x : ((x[\"disconnectTime\"]-x[\"doneChargingTime\"])))\n",
    "charging_sessions_modified[\"idleTime\"] = charging_sessions_modified[\"idleTime\"].dt.total_seconds()\n",
    "\n",
    "charging_sessions_modified = charging_sessions_modified.assign(chargingTime = lambda x : ((x[\"doneChargingTime\"]-x[\"connectionTime\"])))\n",
    "charging_sessions_modified[\"chargingTime\"] = charging_sessions_modified[\"chargingTime\"].dt.total_seconds()"
   ],
   "metadata": {
    "collapsed": false,
    "ExecuteTime": {
     "end_time": "2024-02-07T16:06:15.599699400Z",
     "start_time": "2024-02-07T16:06:15.431053800Z"
    }
   },
   "id": "c61976ee37ad7a6"
  },
  {
   "cell_type": "code",
   "execution_count": 28,
   "outputs": [
    {
     "data": {
      "text/plain": "             connectionTime            disconnectTime  \\\n0 2020-01-02 13:08:54+00:00 2020-01-02 19:11:15+00:00   \n1 2020-01-02 13:36:50+00:00 2020-01-02 22:38:21+00:00   \n2 2020-01-02 13:56:35+00:00 2020-01-03 00:39:22+00:00   \n3 2020-01-02 13:59:58+00:00 2020-01-02 16:38:39+00:00   \n4 2020-01-02 14:00:01+00:00 2020-01-02 22:08:40+00:00   \n\n           doneChargingTime  kWhDelivered  siteID  userID  \\\n0 2020-01-02 17:31:35+00:00        25.016       1   194.0   \n1 2020-01-02 20:18:05+00:00        33.097       1  4275.0   \n2 2020-01-02 16:35:06+00:00         6.521       1   344.0   \n3 2020-01-02 15:18:45+00:00         2.355       1  1117.0   \n4 2020-01-02 18:17:30+00:00        13.375       1   334.0   \n\n                                                                                                                                                                                                                                                                                                                                                                                                                                                                     userInputs  \\\n0                                                                                                                                                                                                                                      [{'WhPerMile': 250, 'kWhRequested': 25.0, 'milesRequested': 100, 'minutesAvailable': 463, 'modifiedAt': 'Thu, 02 Jan 2020 13:09:39 GMT', 'paymentRequired': True, 'requestedDeparture': 'Thu, 02 Jan 2020 20:51:54 GMT', 'userID': 194}]   \n1                                                                                                                                                                                                                                     [{'WhPerMile': 280, 'kWhRequested': 70.0, 'milesRequested': 250, 'minutesAvailable': 595, 'modifiedAt': 'Thu, 02 Jan 2020 13:37:11 GMT', 'paymentRequired': True, 'requestedDeparture': 'Thu, 02 Jan 2020 23:31:50 GMT', 'userID': 4275}]   \n2                                                                                                                                                                                                                                         [{'WhPerMile': 400, 'kWhRequested': 8.0, 'milesRequested': 20, 'minutesAvailable': 60, 'modifiedAt': 'Thu, 02 Jan 2020 13:57:17 GMT', 'paymentRequired': True, 'requestedDeparture': 'Thu, 02 Jan 2020 14:56:35 GMT', 'userID': 344}]   \n3  [{'WhPerMile': 400, 'kWhRequested': 8.0, 'milesRequested': 20, 'minutesAvailable': 65, 'modifiedAt': 'Thu, 02 Jan 2020 14:00:03 GMT', 'paymentRequired': True, 'requestedDeparture': 'Thu, 02 Jan 2020 15:04:58 GMT', 'userID': 1117}, {'WhPerMile': 400, 'kWhRequested': 8.0, 'milesRequested': 20, 'minutesAvailable': 65, 'modifiedAt': 'Thu, 02 Jan 2020 14:00:19 GMT', 'paymentRequired': True, 'requestedDeparture': 'Thu, 02 Jan 2020 15:04:58 GMT', 'userID': 1117}]   \n4                                                                                                                                                                                                                                       [{'WhPerMile': 400, 'kWhRequested': 16.0, 'milesRequested': 40, 'minutesAvailable': 504, 'modifiedAt': 'Thu, 02 Jan 2020 14:00:13 GMT', 'paymentRequired': True, 'requestedDeparture': 'Thu, 02 Jan 2020 22:24:01 GMT', 'userID': 334}]   \n\n  combinedSpaceStationID  timeConnected  idleTime  chargingTime  \n0    AG-3F30/1-1-179-810        21741.0    5980.0       15761.0  \n1    AG-1F01/1-1-193-825        32491.0    8416.0       24075.0  \n2    AG-1F03/1-1-193-829        38567.0   29056.0        9511.0  \n3    AG-1F04/1-1-193-820         9521.0    4794.0        4727.0  \n4    AG-1F06/1-1-193-819        29319.0   13870.0       15449.0  ",
      "text/html": "<div>\n<style scoped>\n    .dataframe tbody tr th:only-of-type {\n        vertical-align: middle;\n    }\n\n    .dataframe tbody tr th {\n        vertical-align: top;\n    }\n\n    .dataframe thead th {\n        text-align: right;\n    }\n</style>\n<table border=\"1\" class=\"dataframe\">\n  <thead>\n    <tr style=\"text-align: right;\">\n      <th></th>\n      <th>connectionTime</th>\n      <th>disconnectTime</th>\n      <th>doneChargingTime</th>\n      <th>kWhDelivered</th>\n      <th>siteID</th>\n      <th>userID</th>\n      <th>userInputs</th>\n      <th>combinedSpaceStationID</th>\n      <th>timeConnected</th>\n      <th>idleTime</th>\n      <th>chargingTime</th>\n    </tr>\n  </thead>\n  <tbody>\n    <tr>\n      <th>0</th>\n      <td>2020-01-02 13:08:54+00:00</td>\n      <td>2020-01-02 19:11:15+00:00</td>\n      <td>2020-01-02 17:31:35+00:00</td>\n      <td>25.016</td>\n      <td>1</td>\n      <td>194.0</td>\n      <td>[{'WhPerMile': 250, 'kWhRequested': 25.0, 'milesRequested': 100, 'minutesAvailable': 463, 'modifiedAt': 'Thu, 02 Jan 2020 13:09:39 GMT', 'paymentRequired': True, 'requestedDeparture': 'Thu, 02 Jan 2020 20:51:54 GMT', 'userID': 194}]</td>\n      <td>AG-3F30/1-1-179-810</td>\n      <td>21741.0</td>\n      <td>5980.0</td>\n      <td>15761.0</td>\n    </tr>\n    <tr>\n      <th>1</th>\n      <td>2020-01-02 13:36:50+00:00</td>\n      <td>2020-01-02 22:38:21+00:00</td>\n      <td>2020-01-02 20:18:05+00:00</td>\n      <td>33.097</td>\n      <td>1</td>\n      <td>4275.0</td>\n      <td>[{'WhPerMile': 280, 'kWhRequested': 70.0, 'milesRequested': 250, 'minutesAvailable': 595, 'modifiedAt': 'Thu, 02 Jan 2020 13:37:11 GMT', 'paymentRequired': True, 'requestedDeparture': 'Thu, 02 Jan 2020 23:31:50 GMT', 'userID': 4275}]</td>\n      <td>AG-1F01/1-1-193-825</td>\n      <td>32491.0</td>\n      <td>8416.0</td>\n      <td>24075.0</td>\n    </tr>\n    <tr>\n      <th>2</th>\n      <td>2020-01-02 13:56:35+00:00</td>\n      <td>2020-01-03 00:39:22+00:00</td>\n      <td>2020-01-02 16:35:06+00:00</td>\n      <td>6.521</td>\n      <td>1</td>\n      <td>344.0</td>\n      <td>[{'WhPerMile': 400, 'kWhRequested': 8.0, 'milesRequested': 20, 'minutesAvailable': 60, 'modifiedAt': 'Thu, 02 Jan 2020 13:57:17 GMT', 'paymentRequired': True, 'requestedDeparture': 'Thu, 02 Jan 2020 14:56:35 GMT', 'userID': 344}]</td>\n      <td>AG-1F03/1-1-193-829</td>\n      <td>38567.0</td>\n      <td>29056.0</td>\n      <td>9511.0</td>\n    </tr>\n    <tr>\n      <th>3</th>\n      <td>2020-01-02 13:59:58+00:00</td>\n      <td>2020-01-02 16:38:39+00:00</td>\n      <td>2020-01-02 15:18:45+00:00</td>\n      <td>2.355</td>\n      <td>1</td>\n      <td>1117.0</td>\n      <td>[{'WhPerMile': 400, 'kWhRequested': 8.0, 'milesRequested': 20, 'minutesAvailable': 65, 'modifiedAt': 'Thu, 02 Jan 2020 14:00:03 GMT', 'paymentRequired': True, 'requestedDeparture': 'Thu, 02 Jan 2020 15:04:58 GMT', 'userID': 1117}, {'WhPerMile': 400, 'kWhRequested': 8.0, 'milesRequested': 20, 'minutesAvailable': 65, 'modifiedAt': 'Thu, 02 Jan 2020 14:00:19 GMT', 'paymentRequired': True, 'requestedDeparture': 'Thu, 02 Jan 2020 15:04:58 GMT', 'userID': 1117}]</td>\n      <td>AG-1F04/1-1-193-820</td>\n      <td>9521.0</td>\n      <td>4794.0</td>\n      <td>4727.0</td>\n    </tr>\n    <tr>\n      <th>4</th>\n      <td>2020-01-02 14:00:01+00:00</td>\n      <td>2020-01-02 22:08:40+00:00</td>\n      <td>2020-01-02 18:17:30+00:00</td>\n      <td>13.375</td>\n      <td>1</td>\n      <td>334.0</td>\n      <td>[{'WhPerMile': 400, 'kWhRequested': 16.0, 'milesRequested': 40, 'minutesAvailable': 504, 'modifiedAt': 'Thu, 02 Jan 2020 14:00:13 GMT', 'paymentRequired': True, 'requestedDeparture': 'Thu, 02 Jan 2020 22:24:01 GMT', 'userID': 334}]</td>\n      <td>AG-1F06/1-1-193-819</td>\n      <td>29319.0</td>\n      <td>13870.0</td>\n      <td>15449.0</td>\n    </tr>\n  </tbody>\n</table>\n</div>"
     },
     "execution_count": 28,
     "metadata": {},
     "output_type": "execute_result"
    }
   ],
   "source": [
    "charging_sessions_modified.head()"
   ],
   "metadata": {
    "collapsed": false,
    "ExecuteTime": {
     "end_time": "2024-02-07T16:06:15.613469300Z",
     "start_time": "2024-02-07T16:06:15.461786600Z"
    }
   },
   "id": "a9b05d7bf3d7956b"
  },
  {
   "cell_type": "markdown",
   "source": [
    "Other useful columns that we will now add for seasonality and temporal pattern analysis are the day of the week, the time and the month"
   ],
   "metadata": {
    "collapsed": false
   },
   "id": "106ed20408d3a4f1"
  },
  {
   "cell_type": "code",
   "execution_count": 29,
   "outputs": [
    {
     "data": {
      "text/plain": "             connectionTime            disconnectTime  \\\n0 2020-01-02 13:08:54+00:00 2020-01-02 19:11:15+00:00   \n1 2020-01-02 13:36:50+00:00 2020-01-02 22:38:21+00:00   \n2 2020-01-02 13:56:35+00:00 2020-01-03 00:39:22+00:00   \n3 2020-01-02 13:59:58+00:00 2020-01-02 16:38:39+00:00   \n4 2020-01-02 14:00:01+00:00 2020-01-02 22:08:40+00:00   \n\n           doneChargingTime  kWhDelivered  siteID  userID  \\\n0 2020-01-02 17:31:35+00:00        25.016       1   194.0   \n1 2020-01-02 20:18:05+00:00        33.097       1  4275.0   \n2 2020-01-02 16:35:06+00:00         6.521       1   344.0   \n3 2020-01-02 15:18:45+00:00         2.355       1  1117.0   \n4 2020-01-02 18:17:30+00:00        13.375       1   334.0   \n\n                                                                                                                                                                                                                                                                                                                                                                                                                                                                     userInputs  \\\n0                                                                                                                                                                                                                                      [{'WhPerMile': 250, 'kWhRequested': 25.0, 'milesRequested': 100, 'minutesAvailable': 463, 'modifiedAt': 'Thu, 02 Jan 2020 13:09:39 GMT', 'paymentRequired': True, 'requestedDeparture': 'Thu, 02 Jan 2020 20:51:54 GMT', 'userID': 194}]   \n1                                                                                                                                                                                                                                     [{'WhPerMile': 280, 'kWhRequested': 70.0, 'milesRequested': 250, 'minutesAvailable': 595, 'modifiedAt': 'Thu, 02 Jan 2020 13:37:11 GMT', 'paymentRequired': True, 'requestedDeparture': 'Thu, 02 Jan 2020 23:31:50 GMT', 'userID': 4275}]   \n2                                                                                                                                                                                                                                         [{'WhPerMile': 400, 'kWhRequested': 8.0, 'milesRequested': 20, 'minutesAvailable': 60, 'modifiedAt': 'Thu, 02 Jan 2020 13:57:17 GMT', 'paymentRequired': True, 'requestedDeparture': 'Thu, 02 Jan 2020 14:56:35 GMT', 'userID': 344}]   \n3  [{'WhPerMile': 400, 'kWhRequested': 8.0, 'milesRequested': 20, 'minutesAvailable': 65, 'modifiedAt': 'Thu, 02 Jan 2020 14:00:03 GMT', 'paymentRequired': True, 'requestedDeparture': 'Thu, 02 Jan 2020 15:04:58 GMT', 'userID': 1117}, {'WhPerMile': 400, 'kWhRequested': 8.0, 'milesRequested': 20, 'minutesAvailable': 65, 'modifiedAt': 'Thu, 02 Jan 2020 14:00:19 GMT', 'paymentRequired': True, 'requestedDeparture': 'Thu, 02 Jan 2020 15:04:58 GMT', 'userID': 1117}]   \n4                                                                                                                                                                                                                                       [{'WhPerMile': 400, 'kWhRequested': 16.0, 'milesRequested': 40, 'minutesAvailable': 504, 'modifiedAt': 'Thu, 02 Jan 2020 14:00:13 GMT', 'paymentRequired': True, 'requestedDeparture': 'Thu, 02 Jan 2020 22:24:01 GMT', 'userID': 334}]   \n\n  combinedSpaceStationID  timeConnected  idleTime  chargingTime  weekday  \\\n0    AG-3F30/1-1-179-810        21741.0    5980.0       15761.0        3   \n1    AG-1F01/1-1-193-825        32491.0    8416.0       24075.0        3   \n2    AG-1F03/1-1-193-829        38567.0   29056.0        9511.0        3   \n3    AG-1F04/1-1-193-820         9521.0    4794.0        4727.0        3   \n4    AG-1F06/1-1-193-819        29319.0   13870.0       15449.0        3   \n\n   month      time  \n0      1  13:08:54  \n1      1  13:36:50  \n2      1  13:56:35  \n3      1  13:59:58  \n4      1  14:00:01  ",
      "text/html": "<div>\n<style scoped>\n    .dataframe tbody tr th:only-of-type {\n        vertical-align: middle;\n    }\n\n    .dataframe tbody tr th {\n        vertical-align: top;\n    }\n\n    .dataframe thead th {\n        text-align: right;\n    }\n</style>\n<table border=\"1\" class=\"dataframe\">\n  <thead>\n    <tr style=\"text-align: right;\">\n      <th></th>\n      <th>connectionTime</th>\n      <th>disconnectTime</th>\n      <th>doneChargingTime</th>\n      <th>kWhDelivered</th>\n      <th>siteID</th>\n      <th>userID</th>\n      <th>userInputs</th>\n      <th>combinedSpaceStationID</th>\n      <th>timeConnected</th>\n      <th>idleTime</th>\n      <th>chargingTime</th>\n      <th>weekday</th>\n      <th>month</th>\n      <th>time</th>\n    </tr>\n  </thead>\n  <tbody>\n    <tr>\n      <th>0</th>\n      <td>2020-01-02 13:08:54+00:00</td>\n      <td>2020-01-02 19:11:15+00:00</td>\n      <td>2020-01-02 17:31:35+00:00</td>\n      <td>25.016</td>\n      <td>1</td>\n      <td>194.0</td>\n      <td>[{'WhPerMile': 250, 'kWhRequested': 25.0, 'milesRequested': 100, 'minutesAvailable': 463, 'modifiedAt': 'Thu, 02 Jan 2020 13:09:39 GMT', 'paymentRequired': True, 'requestedDeparture': 'Thu, 02 Jan 2020 20:51:54 GMT', 'userID': 194}]</td>\n      <td>AG-3F30/1-1-179-810</td>\n      <td>21741.0</td>\n      <td>5980.0</td>\n      <td>15761.0</td>\n      <td>3</td>\n      <td>1</td>\n      <td>13:08:54</td>\n    </tr>\n    <tr>\n      <th>1</th>\n      <td>2020-01-02 13:36:50+00:00</td>\n      <td>2020-01-02 22:38:21+00:00</td>\n      <td>2020-01-02 20:18:05+00:00</td>\n      <td>33.097</td>\n      <td>1</td>\n      <td>4275.0</td>\n      <td>[{'WhPerMile': 280, 'kWhRequested': 70.0, 'milesRequested': 250, 'minutesAvailable': 595, 'modifiedAt': 'Thu, 02 Jan 2020 13:37:11 GMT', 'paymentRequired': True, 'requestedDeparture': 'Thu, 02 Jan 2020 23:31:50 GMT', 'userID': 4275}]</td>\n      <td>AG-1F01/1-1-193-825</td>\n      <td>32491.0</td>\n      <td>8416.0</td>\n      <td>24075.0</td>\n      <td>3</td>\n      <td>1</td>\n      <td>13:36:50</td>\n    </tr>\n    <tr>\n      <th>2</th>\n      <td>2020-01-02 13:56:35+00:00</td>\n      <td>2020-01-03 00:39:22+00:00</td>\n      <td>2020-01-02 16:35:06+00:00</td>\n      <td>6.521</td>\n      <td>1</td>\n      <td>344.0</td>\n      <td>[{'WhPerMile': 400, 'kWhRequested': 8.0, 'milesRequested': 20, 'minutesAvailable': 60, 'modifiedAt': 'Thu, 02 Jan 2020 13:57:17 GMT', 'paymentRequired': True, 'requestedDeparture': 'Thu, 02 Jan 2020 14:56:35 GMT', 'userID': 344}]</td>\n      <td>AG-1F03/1-1-193-829</td>\n      <td>38567.0</td>\n      <td>29056.0</td>\n      <td>9511.0</td>\n      <td>3</td>\n      <td>1</td>\n      <td>13:56:35</td>\n    </tr>\n    <tr>\n      <th>3</th>\n      <td>2020-01-02 13:59:58+00:00</td>\n      <td>2020-01-02 16:38:39+00:00</td>\n      <td>2020-01-02 15:18:45+00:00</td>\n      <td>2.355</td>\n      <td>1</td>\n      <td>1117.0</td>\n      <td>[{'WhPerMile': 400, 'kWhRequested': 8.0, 'milesRequested': 20, 'minutesAvailable': 65, 'modifiedAt': 'Thu, 02 Jan 2020 14:00:03 GMT', 'paymentRequired': True, 'requestedDeparture': 'Thu, 02 Jan 2020 15:04:58 GMT', 'userID': 1117}, {'WhPerMile': 400, 'kWhRequested': 8.0, 'milesRequested': 20, 'minutesAvailable': 65, 'modifiedAt': 'Thu, 02 Jan 2020 14:00:19 GMT', 'paymentRequired': True, 'requestedDeparture': 'Thu, 02 Jan 2020 15:04:58 GMT', 'userID': 1117}]</td>\n      <td>AG-1F04/1-1-193-820</td>\n      <td>9521.0</td>\n      <td>4794.0</td>\n      <td>4727.0</td>\n      <td>3</td>\n      <td>1</td>\n      <td>13:59:58</td>\n    </tr>\n    <tr>\n      <th>4</th>\n      <td>2020-01-02 14:00:01+00:00</td>\n      <td>2020-01-02 22:08:40+00:00</td>\n      <td>2020-01-02 18:17:30+00:00</td>\n      <td>13.375</td>\n      <td>1</td>\n      <td>334.0</td>\n      <td>[{'WhPerMile': 400, 'kWhRequested': 16.0, 'milesRequested': 40, 'minutesAvailable': 504, 'modifiedAt': 'Thu, 02 Jan 2020 14:00:13 GMT', 'paymentRequired': True, 'requestedDeparture': 'Thu, 02 Jan 2020 22:24:01 GMT', 'userID': 334}]</td>\n      <td>AG-1F06/1-1-193-819</td>\n      <td>29319.0</td>\n      <td>13870.0</td>\n      <td>15449.0</td>\n      <td>3</td>\n      <td>1</td>\n      <td>14:00:01</td>\n    </tr>\n  </tbody>\n</table>\n</div>"
     },
     "execution_count": 29,
     "metadata": {},
     "output_type": "execute_result"
    }
   ],
   "source": [
    "charging_sessions_modified[\"weekday\"] = charging_sessions_modified[\"connectionTime\"].dt.day_of_week\n",
    "charging_sessions_modified[\"month\"] = charging_sessions_modified[\"connectionTime\"].dt.month\n",
    "charging_sessions_modified[\"time\"] = charging_sessions_modified[\"connectionTime\"].dt.time\n",
    "charging_sessions_modified.head()"
   ],
   "metadata": {
    "collapsed": false,
    "ExecuteTime": {
     "end_time": "2024-02-07T16:06:15.633089500Z",
     "start_time": "2024-02-07T16:06:15.476357Z"
    }
   },
   "id": "121e6709bf77a199"
  },
  {
   "cell_type": "markdown",
   "source": [
    "Now we will check for erroneous data points."
   ],
   "metadata": {
    "collapsed": false
   },
   "id": "ab466cabce30b4a8"
  },
  {
   "cell_type": "code",
   "execution_count": 30,
   "outputs": [
    {
     "data": {
      "text/plain": "                 count          mean           std       min        25%  \\\nkWhDelivered   60950.0     11.583268     10.153601     0.501      5.013   \nsiteID         60950.0      1.481674      0.499668     1.000      1.000   \nuserID         44644.0   1709.660514   2464.480169     1.000    431.000   \ntimeConnected  60950.0  22960.401198  17717.646112   183.000  10708.500   \nidleTime       60950.0  10271.909319  14447.964854 -3596.000     13.000   \nchargingTime   60950.0  12688.491879  11032.329226 -2482.000   5823.250   \nweekday        60950.0      2.281920      1.650711     0.000      1.000   \nmonth          60950.0      6.596702      3.370832     1.000      4.000   \n\n                     50%        75%            max  \nkWhDelivered       8.991     13.984     108.797242  \nsiteID             1.000      2.000       2.000000  \nuserID           774.000   1754.000   19923.000000  \ntimeConnected  22705.000  33267.000  882969.000000  \nidleTime        5774.000  17712.750  562037.000000  \nchargingTime    9933.000  17011.000  720057.000000  \nweekday            2.000      4.000       6.000000  \nmonth              7.000      9.000      12.000000  ",
      "text/html": "<div>\n<style scoped>\n    .dataframe tbody tr th:only-of-type {\n        vertical-align: middle;\n    }\n\n    .dataframe tbody tr th {\n        vertical-align: top;\n    }\n\n    .dataframe thead th {\n        text-align: right;\n    }\n</style>\n<table border=\"1\" class=\"dataframe\">\n  <thead>\n    <tr style=\"text-align: right;\">\n      <th></th>\n      <th>count</th>\n      <th>mean</th>\n      <th>std</th>\n      <th>min</th>\n      <th>25%</th>\n      <th>50%</th>\n      <th>75%</th>\n      <th>max</th>\n    </tr>\n  </thead>\n  <tbody>\n    <tr>\n      <th>kWhDelivered</th>\n      <td>60950.0</td>\n      <td>11.583268</td>\n      <td>10.153601</td>\n      <td>0.501</td>\n      <td>5.013</td>\n      <td>8.991</td>\n      <td>13.984</td>\n      <td>108.797242</td>\n    </tr>\n    <tr>\n      <th>siteID</th>\n      <td>60950.0</td>\n      <td>1.481674</td>\n      <td>0.499668</td>\n      <td>1.000</td>\n      <td>1.000</td>\n      <td>1.000</td>\n      <td>2.000</td>\n      <td>2.000000</td>\n    </tr>\n    <tr>\n      <th>userID</th>\n      <td>44644.0</td>\n      <td>1709.660514</td>\n      <td>2464.480169</td>\n      <td>1.000</td>\n      <td>431.000</td>\n      <td>774.000</td>\n      <td>1754.000</td>\n      <td>19923.000000</td>\n    </tr>\n    <tr>\n      <th>timeConnected</th>\n      <td>60950.0</td>\n      <td>22960.401198</td>\n      <td>17717.646112</td>\n      <td>183.000</td>\n      <td>10708.500</td>\n      <td>22705.000</td>\n      <td>33267.000</td>\n      <td>882969.000000</td>\n    </tr>\n    <tr>\n      <th>idleTime</th>\n      <td>60950.0</td>\n      <td>10271.909319</td>\n      <td>14447.964854</td>\n      <td>-3596.000</td>\n      <td>13.000</td>\n      <td>5774.000</td>\n      <td>17712.750</td>\n      <td>562037.000000</td>\n    </tr>\n    <tr>\n      <th>chargingTime</th>\n      <td>60950.0</td>\n      <td>12688.491879</td>\n      <td>11032.329226</td>\n      <td>-2482.000</td>\n      <td>5823.250</td>\n      <td>9933.000</td>\n      <td>17011.000</td>\n      <td>720057.000000</td>\n    </tr>\n    <tr>\n      <th>weekday</th>\n      <td>60950.0</td>\n      <td>2.281920</td>\n      <td>1.650711</td>\n      <td>0.000</td>\n      <td>1.000</td>\n      <td>2.000</td>\n      <td>4.000</td>\n      <td>6.000000</td>\n    </tr>\n    <tr>\n      <th>month</th>\n      <td>60950.0</td>\n      <td>6.596702</td>\n      <td>3.370832</td>\n      <td>1.000</td>\n      <td>4.000</td>\n      <td>7.000</td>\n      <td>9.000</td>\n      <td>12.000000</td>\n    </tr>\n  </tbody>\n</table>\n</div>"
     },
     "execution_count": 30,
     "metadata": {},
     "output_type": "execute_result"
    }
   ],
   "source": [
    "charging_sessions_modified.describe().transpose()"
   ],
   "metadata": {
    "collapsed": false,
    "ExecuteTime": {
     "end_time": "2024-02-07T16:06:15.634096800Z",
     "start_time": "2024-02-07T16:06:15.513446800Z"
    }
   },
   "id": "32fb234bcf166b07"
  },
  {
   "cell_type": "markdown",
   "source": [
    "There are definitely a few outliers we need to take care off. Negative values in idle and charging time make no sense logically, we will evaluate these to see if its erroneous data or another error we might have introduced."
   ],
   "metadata": {
    "collapsed": false
   },
   "id": "388975150cdbe2af"
  },
  {
   "cell_type": "code",
   "execution_count": 31,
   "outputs": [
    {
     "data": {
      "text/plain": "                 connectionTime            disconnectTime  \\\n12    2020-01-02 15:04:38+00:00 2020-01-02 22:08:39+00:00   \n20    2020-01-02 15:28:47+00:00 2020-01-02 19:01:54+00:00   \n25    2020-01-02 15:42:05+00:00 2020-01-02 21:58:45+00:00   \n26    2020-01-02 15:57:24+00:00 2020-01-02 16:35:37+00:00   \n33    2020-01-02 16:34:35+00:00 2020-01-02 18:49:41+00:00   \n...                         ...                       ...   \n65028 2019-07-01 19:20:31+00:00 2019-07-02 00:16:32+00:00   \n65030 2019-07-01 20:01:07+00:00 2019-07-02 00:32:26+00:00   \n65033 2019-07-01 21:58:45+00:00 2019-07-02 00:39:48+00:00   \n65034 2019-07-01 22:02:21+00:00 2019-07-02 00:58:50+00:00   \n65035 2019-07-01 22:23:44+00:00 2019-07-02 02:03:36+00:00   \n\n               doneChargingTime  kWhDelivered  siteID  userID  \\\n12    2020-01-02 22:09:36+00:00        25.567       1   528.0   \n20    2020-01-02 19:02:51+00:00         7.417       1  1283.0   \n25    2020-01-02 21:59:42+00:00        36.701       1   474.0   \n26    2020-01-02 16:36:34+00:00         3.689       1   724.0   \n33    2020-01-02 18:50:38+00:00         7.120       1  2276.0   \n...                         ...           ...     ...     ...   \n65028 2019-07-02 00:16:42+00:00        26.324       1   458.0   \n65030 2019-07-02 00:32:59+00:00        21.588       1  1479.0   \n65033 2019-07-02 00:40:21+00:00        16.864       1   364.0   \n65034 2019-07-02 00:59:23+00:00        18.335       1  2050.0   \n65035 2019-07-02 02:04:06+00:00        22.815       1  1626.0   \n\n                                                                                                                                                                                                                                                                                                                                                                                                                                                                                                                                                                                                                                                                                                                        userInputs  \\\n12                                                                                                                                                                                                                                                                                                                                                                                                                                                                                        [{'WhPerMile': 250, 'kWhRequested': 50.0, 'milesRequested': 200, 'minutesAvailable': 555, 'modifiedAt': 'Thu, 02 Jan 2020 15:04:49 GMT', 'paymentRequired': True, 'requestedDeparture': 'Fri, 03 Jan 2020 00:19:38 GMT', 'userID': 528}]   \n20                                                                                                                                                                                                                                              [{'WhPerMile': 350, 'kWhRequested': 42.0, 'milesRequested': 120, 'minutesAvailable': 238, 'modifiedAt': 'Thu, 02 Jan 2020 15:29:16 GMT', 'paymentRequired': True, 'requestedDeparture': 'Thu, 02 Jan 2020 19:26:47 GMT', 'userID': 1283}, {'WhPerMile': 350, 'kWhRequested': 56.0, 'milesRequested': 160, 'minutesAvailable': 282, 'modifiedAt': 'Thu, 02 Jan 2020 16:29:35 GMT', 'paymentRequired': True, 'requestedDeparture': 'Thu, 02 Jan 2020 20:10:47 GMT', 'userID': 1283}]   \n25                                                                                                                                                                                                                                                                                                                                                                                                                                                                                         [{'WhPerMile': 400, 'kWhRequested': 32.0, 'milesRequested': 80, 'minutesAvailable': 532, 'modifiedAt': 'Thu, 02 Jan 2020 15:42:11 GMT', 'paymentRequired': True, 'requestedDeparture': 'Fri, 03 Jan 2020 00:34:05 GMT', 'userID': 474}]   \n26                                                                                                                                                                                                                                                                                                                                                                                                                                                                                           [{'WhPerMile': 400, 'kWhRequested': 8.0, 'milesRequested': 20, 'minutesAvailable': 89, 'modifiedAt': 'Thu, 02 Jan 2020 15:57:39 GMT', 'paymentRequired': True, 'requestedDeparture': 'Thu, 02 Jan 2020 17:26:24 GMT', 'userID': 724}]   \n33                                                                                                                                                                                                                                                                                                                                                                                                                                                                                        [{'WhPerMile': 600, 'kWhRequested': 18.0, 'milesRequested': 30, 'minutesAvailable': 165, 'modifiedAt': 'Thu, 02 Jan 2020 16:35:06 GMT', 'paymentRequired': True, 'requestedDeparture': 'Thu, 02 Jan 2020 19:19:35 GMT', 'userID': 2276}]   \n...                                                                                                                                                                                                                                                                                                                                                                                                                                                                                                                                                                                                                                                                                                                            ...   \n65028       [{'WhPerMile': 400, 'kWhRequested': 8.0, 'milesRequested': 20, 'minutesAvailable': 204, 'modifiedAt': 'Mon, 01 Jul 2019 19:23:09 GMT', 'paymentRequired': True, 'requestedDeparture': 'Mon, 01 Jul 2019 22:44:31 GMT', 'userID': 458}, {'WhPerMile': 400, 'kWhRequested': 84.0, 'milesRequested': 210, 'minutesAvailable': 228, 'modifiedAt': 'Mon, 01 Jul 2019 19:25:18 GMT', 'paymentRequired': True, 'requestedDeparture': 'Mon, 01 Jul 2019 23:08:31 GMT', 'userID': 458}, {'WhPerMile': 400, 'kWhRequested': 68.0, 'milesRequested': 170, 'minutesAvailable': 180, 'modifiedAt': 'Mon, 01 Jul 2019 19:26:15 GMT', 'paymentRequired': True, 'requestedDeparture': 'Mon, 01 Jul 2019 22:20:31 GMT', 'userID': 458}]   \n65030  [{'WhPerMile': 275, 'kWhRequested': 19.25, 'milesRequested': 70, 'minutesAvailable': 286, 'modifiedAt': 'Mon, 01 Jul 2019 20:03:21 GMT', 'paymentRequired': True, 'requestedDeparture': 'Tue, 02 Jul 2019 00:47:07 GMT', 'userID': 1479}, {'WhPerMile': 200, 'kWhRequested': 30.0, 'milesRequested': 150, 'minutesAvailable': 286, 'modifiedAt': 'Mon, 01 Jul 2019 23:51:42 GMT', 'paymentRequired': True, 'requestedDeparture': 'Tue, 02 Jul 2019 00:47:07 GMT', 'userID': 1479}, {'WhPerMile': 200, 'kWhRequested': 30.0, 'milesRequested': 150, 'minutesAvailable': 288, 'modifiedAt': 'Mon, 01 Jul 2019 23:59:01 GMT', 'paymentRequired': True, 'requestedDeparture': 'Tue, 02 Jul 2019 00:49:07 GMT', 'userID': 1479}]   \n65033                                                                                                                                                                                                                                                                                                                                                                                                                                                                                     [{'WhPerMile': 400, 'kWhRequested': 40.0, 'milesRequested': 100, 'minutesAvailable': 234, 'modifiedAt': 'Mon, 01 Jul 2019 21:59:09 GMT', 'paymentRequired': True, 'requestedDeparture': 'Tue, 02 Jul 2019 01:52:45 GMT', 'userID': 364}]   \n65034                                                                                                                                                                                                                                           [{'WhPerMile': 333, 'kWhRequested': 29.97, 'milesRequested': 90, 'minutesAvailable': 309, 'modifiedAt': 'Mon, 01 Jul 2019 22:02:37 GMT', 'paymentRequired': True, 'requestedDeparture': 'Tue, 02 Jul 2019 03:11:21 GMT', 'userID': 2050}, {'WhPerMile': 333, 'kWhRequested': 23.31, 'milesRequested': 70, 'minutesAvailable': 192, 'modifiedAt': 'Mon, 01 Jul 2019 22:03:30 GMT', 'paymentRequired': True, 'requestedDeparture': 'Tue, 02 Jul 2019 01:14:21 GMT', 'userID': 2050}]   \n65035                                                                                                                                                                                                                                                                                                                                                                                                                                                                                     [{'WhPerMile': 200, 'kWhRequested': 34.0, 'milesRequested': 170, 'minutesAvailable': 99, 'modifiedAt': 'Mon, 01 Jul 2019 22:23:43 GMT', 'paymentRequired': True, 'requestedDeparture': 'Tue, 02 Jul 2019 00:02:44 GMT', 'userID': 1626}]   \n\n      combinedSpaceStationID  timeConnected  idleTime  chargingTime  weekday  \\\n12       AG-1F07/1-1-178-824        25441.0     -57.0       25498.0        3   \n20       AG-1F02/1-1-193-827        12787.0     -57.0       12844.0        3   \n25       AG-3F23/1-1-179-797        22600.0     -57.0       22657.0        3   \n26       AG-3F31/1-1-179-781         2293.0     -57.0        2350.0        3   \n33       AG-3F19/1-1-179-790         8106.0     -57.0        8163.0        3   \n...                      ...            ...       ...           ...      ...   \n65028    AG-3F29/1-1-179-783        17761.0     -10.0       17771.0        0   \n65030    AG-3F32/1-1-179-800        16279.0     -33.0       16312.0        0   \n65033    AG-3F20/1-1-179-794         9663.0     -33.0        9696.0        0   \n65034    AG-4F47/1-1-191-807        10589.0     -33.0       10622.0        0   \n65035    AG-3F31/1-1-179-781        13192.0     -30.0       13222.0        0   \n\n       month      time  \n12         1  15:04:38  \n20         1  15:28:47  \n25         1  15:42:05  \n26         1  15:57:24  \n33         1  16:34:35  \n...      ...       ...  \n65028      7  19:20:31  \n65030      7  20:01:07  \n65033      7  21:58:45  \n65034      7  22:02:21  \n65035      7  22:23:44  \n\n[4387 rows x 14 columns]",
      "text/html": "<div>\n<style scoped>\n    .dataframe tbody tr th:only-of-type {\n        vertical-align: middle;\n    }\n\n    .dataframe tbody tr th {\n        vertical-align: top;\n    }\n\n    .dataframe thead th {\n        text-align: right;\n    }\n</style>\n<table border=\"1\" class=\"dataframe\">\n  <thead>\n    <tr style=\"text-align: right;\">\n      <th></th>\n      <th>connectionTime</th>\n      <th>disconnectTime</th>\n      <th>doneChargingTime</th>\n      <th>kWhDelivered</th>\n      <th>siteID</th>\n      <th>userID</th>\n      <th>userInputs</th>\n      <th>combinedSpaceStationID</th>\n      <th>timeConnected</th>\n      <th>idleTime</th>\n      <th>chargingTime</th>\n      <th>weekday</th>\n      <th>month</th>\n      <th>time</th>\n    </tr>\n  </thead>\n  <tbody>\n    <tr>\n      <th>12</th>\n      <td>2020-01-02 15:04:38+00:00</td>\n      <td>2020-01-02 22:08:39+00:00</td>\n      <td>2020-01-02 22:09:36+00:00</td>\n      <td>25.567</td>\n      <td>1</td>\n      <td>528.0</td>\n      <td>[{'WhPerMile': 250, 'kWhRequested': 50.0, 'milesRequested': 200, 'minutesAvailable': 555, 'modifiedAt': 'Thu, 02 Jan 2020 15:04:49 GMT', 'paymentRequired': True, 'requestedDeparture': 'Fri, 03 Jan 2020 00:19:38 GMT', 'userID': 528}]</td>\n      <td>AG-1F07/1-1-178-824</td>\n      <td>25441.0</td>\n      <td>-57.0</td>\n      <td>25498.0</td>\n      <td>3</td>\n      <td>1</td>\n      <td>15:04:38</td>\n    </tr>\n    <tr>\n      <th>20</th>\n      <td>2020-01-02 15:28:47+00:00</td>\n      <td>2020-01-02 19:01:54+00:00</td>\n      <td>2020-01-02 19:02:51+00:00</td>\n      <td>7.417</td>\n      <td>1</td>\n      <td>1283.0</td>\n      <td>[{'WhPerMile': 350, 'kWhRequested': 42.0, 'milesRequested': 120, 'minutesAvailable': 238, 'modifiedAt': 'Thu, 02 Jan 2020 15:29:16 GMT', 'paymentRequired': True, 'requestedDeparture': 'Thu, 02 Jan 2020 19:26:47 GMT', 'userID': 1283}, {'WhPerMile': 350, 'kWhRequested': 56.0, 'milesRequested': 160, 'minutesAvailable': 282, 'modifiedAt': 'Thu, 02 Jan 2020 16:29:35 GMT', 'paymentRequired': True, 'requestedDeparture': 'Thu, 02 Jan 2020 20:10:47 GMT', 'userID': 1283}]</td>\n      <td>AG-1F02/1-1-193-827</td>\n      <td>12787.0</td>\n      <td>-57.0</td>\n      <td>12844.0</td>\n      <td>3</td>\n      <td>1</td>\n      <td>15:28:47</td>\n    </tr>\n    <tr>\n      <th>25</th>\n      <td>2020-01-02 15:42:05+00:00</td>\n      <td>2020-01-02 21:58:45+00:00</td>\n      <td>2020-01-02 21:59:42+00:00</td>\n      <td>36.701</td>\n      <td>1</td>\n      <td>474.0</td>\n      <td>[{'WhPerMile': 400, 'kWhRequested': 32.0, 'milesRequested': 80, 'minutesAvailable': 532, 'modifiedAt': 'Thu, 02 Jan 2020 15:42:11 GMT', 'paymentRequired': True, 'requestedDeparture': 'Fri, 03 Jan 2020 00:34:05 GMT', 'userID': 474}]</td>\n      <td>AG-3F23/1-1-179-797</td>\n      <td>22600.0</td>\n      <td>-57.0</td>\n      <td>22657.0</td>\n      <td>3</td>\n      <td>1</td>\n      <td>15:42:05</td>\n    </tr>\n    <tr>\n      <th>26</th>\n      <td>2020-01-02 15:57:24+00:00</td>\n      <td>2020-01-02 16:35:37+00:00</td>\n      <td>2020-01-02 16:36:34+00:00</td>\n      <td>3.689</td>\n      <td>1</td>\n      <td>724.0</td>\n      <td>[{'WhPerMile': 400, 'kWhRequested': 8.0, 'milesRequested': 20, 'minutesAvailable': 89, 'modifiedAt': 'Thu, 02 Jan 2020 15:57:39 GMT', 'paymentRequired': True, 'requestedDeparture': 'Thu, 02 Jan 2020 17:26:24 GMT', 'userID': 724}]</td>\n      <td>AG-3F31/1-1-179-781</td>\n      <td>2293.0</td>\n      <td>-57.0</td>\n      <td>2350.0</td>\n      <td>3</td>\n      <td>1</td>\n      <td>15:57:24</td>\n    </tr>\n    <tr>\n      <th>33</th>\n      <td>2020-01-02 16:34:35+00:00</td>\n      <td>2020-01-02 18:49:41+00:00</td>\n      <td>2020-01-02 18:50:38+00:00</td>\n      <td>7.120</td>\n      <td>1</td>\n      <td>2276.0</td>\n      <td>[{'WhPerMile': 600, 'kWhRequested': 18.0, 'milesRequested': 30, 'minutesAvailable': 165, 'modifiedAt': 'Thu, 02 Jan 2020 16:35:06 GMT', 'paymentRequired': True, 'requestedDeparture': 'Thu, 02 Jan 2020 19:19:35 GMT', 'userID': 2276}]</td>\n      <td>AG-3F19/1-1-179-790</td>\n      <td>8106.0</td>\n      <td>-57.0</td>\n      <td>8163.0</td>\n      <td>3</td>\n      <td>1</td>\n      <td>16:34:35</td>\n    </tr>\n    <tr>\n      <th>...</th>\n      <td>...</td>\n      <td>...</td>\n      <td>...</td>\n      <td>...</td>\n      <td>...</td>\n      <td>...</td>\n      <td>...</td>\n      <td>...</td>\n      <td>...</td>\n      <td>...</td>\n      <td>...</td>\n      <td>...</td>\n      <td>...</td>\n      <td>...</td>\n    </tr>\n    <tr>\n      <th>65028</th>\n      <td>2019-07-01 19:20:31+00:00</td>\n      <td>2019-07-02 00:16:32+00:00</td>\n      <td>2019-07-02 00:16:42+00:00</td>\n      <td>26.324</td>\n      <td>1</td>\n      <td>458.0</td>\n      <td>[{'WhPerMile': 400, 'kWhRequested': 8.0, 'milesRequested': 20, 'minutesAvailable': 204, 'modifiedAt': 'Mon, 01 Jul 2019 19:23:09 GMT', 'paymentRequired': True, 'requestedDeparture': 'Mon, 01 Jul 2019 22:44:31 GMT', 'userID': 458}, {'WhPerMile': 400, 'kWhRequested': 84.0, 'milesRequested': 210, 'minutesAvailable': 228, 'modifiedAt': 'Mon, 01 Jul 2019 19:25:18 GMT', 'paymentRequired': True, 'requestedDeparture': 'Mon, 01 Jul 2019 23:08:31 GMT', 'userID': 458}, {'WhPerMile': 400, 'kWhRequested': 68.0, 'milesRequested': 170, 'minutesAvailable': 180, 'modifiedAt': 'Mon, 01 Jul 2019 19:26:15 GMT', 'paymentRequired': True, 'requestedDeparture': 'Mon, 01 Jul 2019 22:20:31 GMT', 'userID': 458}]</td>\n      <td>AG-3F29/1-1-179-783</td>\n      <td>17761.0</td>\n      <td>-10.0</td>\n      <td>17771.0</td>\n      <td>0</td>\n      <td>7</td>\n      <td>19:20:31</td>\n    </tr>\n    <tr>\n      <th>65030</th>\n      <td>2019-07-01 20:01:07+00:00</td>\n      <td>2019-07-02 00:32:26+00:00</td>\n      <td>2019-07-02 00:32:59+00:00</td>\n      <td>21.588</td>\n      <td>1</td>\n      <td>1479.0</td>\n      <td>[{'WhPerMile': 275, 'kWhRequested': 19.25, 'milesRequested': 70, 'minutesAvailable': 286, 'modifiedAt': 'Mon, 01 Jul 2019 20:03:21 GMT', 'paymentRequired': True, 'requestedDeparture': 'Tue, 02 Jul 2019 00:47:07 GMT', 'userID': 1479}, {'WhPerMile': 200, 'kWhRequested': 30.0, 'milesRequested': 150, 'minutesAvailable': 286, 'modifiedAt': 'Mon, 01 Jul 2019 23:51:42 GMT', 'paymentRequired': True, 'requestedDeparture': 'Tue, 02 Jul 2019 00:47:07 GMT', 'userID': 1479}, {'WhPerMile': 200, 'kWhRequested': 30.0, 'milesRequested': 150, 'minutesAvailable': 288, 'modifiedAt': 'Mon, 01 Jul 2019 23:59:01 GMT', 'paymentRequired': True, 'requestedDeparture': 'Tue, 02 Jul 2019 00:49:07 GMT', 'userID': 1479}]</td>\n      <td>AG-3F32/1-1-179-800</td>\n      <td>16279.0</td>\n      <td>-33.0</td>\n      <td>16312.0</td>\n      <td>0</td>\n      <td>7</td>\n      <td>20:01:07</td>\n    </tr>\n    <tr>\n      <th>65033</th>\n      <td>2019-07-01 21:58:45+00:00</td>\n      <td>2019-07-02 00:39:48+00:00</td>\n      <td>2019-07-02 00:40:21+00:00</td>\n      <td>16.864</td>\n      <td>1</td>\n      <td>364.0</td>\n      <td>[{'WhPerMile': 400, 'kWhRequested': 40.0, 'milesRequested': 100, 'minutesAvailable': 234, 'modifiedAt': 'Mon, 01 Jul 2019 21:59:09 GMT', 'paymentRequired': True, 'requestedDeparture': 'Tue, 02 Jul 2019 01:52:45 GMT', 'userID': 364}]</td>\n      <td>AG-3F20/1-1-179-794</td>\n      <td>9663.0</td>\n      <td>-33.0</td>\n      <td>9696.0</td>\n      <td>0</td>\n      <td>7</td>\n      <td>21:58:45</td>\n    </tr>\n    <tr>\n      <th>65034</th>\n      <td>2019-07-01 22:02:21+00:00</td>\n      <td>2019-07-02 00:58:50+00:00</td>\n      <td>2019-07-02 00:59:23+00:00</td>\n      <td>18.335</td>\n      <td>1</td>\n      <td>2050.0</td>\n      <td>[{'WhPerMile': 333, 'kWhRequested': 29.97, 'milesRequested': 90, 'minutesAvailable': 309, 'modifiedAt': 'Mon, 01 Jul 2019 22:02:37 GMT', 'paymentRequired': True, 'requestedDeparture': 'Tue, 02 Jul 2019 03:11:21 GMT', 'userID': 2050}, {'WhPerMile': 333, 'kWhRequested': 23.31, 'milesRequested': 70, 'minutesAvailable': 192, 'modifiedAt': 'Mon, 01 Jul 2019 22:03:30 GMT', 'paymentRequired': True, 'requestedDeparture': 'Tue, 02 Jul 2019 01:14:21 GMT', 'userID': 2050}]</td>\n      <td>AG-4F47/1-1-191-807</td>\n      <td>10589.0</td>\n      <td>-33.0</td>\n      <td>10622.0</td>\n      <td>0</td>\n      <td>7</td>\n      <td>22:02:21</td>\n    </tr>\n    <tr>\n      <th>65035</th>\n      <td>2019-07-01 22:23:44+00:00</td>\n      <td>2019-07-02 02:03:36+00:00</td>\n      <td>2019-07-02 02:04:06+00:00</td>\n      <td>22.815</td>\n      <td>1</td>\n      <td>1626.0</td>\n      <td>[{'WhPerMile': 200, 'kWhRequested': 34.0, 'milesRequested': 170, 'minutesAvailable': 99, 'modifiedAt': 'Mon, 01 Jul 2019 22:23:43 GMT', 'paymentRequired': True, 'requestedDeparture': 'Tue, 02 Jul 2019 00:02:44 GMT', 'userID': 1626}]</td>\n      <td>AG-3F31/1-1-179-781</td>\n      <td>13192.0</td>\n      <td>-30.0</td>\n      <td>13222.0</td>\n      <td>0</td>\n      <td>7</td>\n      <td>22:23:44</td>\n    </tr>\n  </tbody>\n</table>\n<p>4387 rows × 14 columns</p>\n</div>"
     },
     "execution_count": 31,
     "metadata": {},
     "output_type": "execute_result"
    }
   ],
   "source": [
    "charging_sessions_modified[charging_sessions_modified[\"idleTime\"]<0]"
   ],
   "metadata": {
    "collapsed": false,
    "ExecuteTime": {
     "end_time": "2024-02-07T16:06:15.634096800Z",
     "start_time": "2024-02-07T16:06:15.539053500Z"
    }
   },
   "id": "e10ea6e1e3974c36"
  },
  {
   "cell_type": "code",
   "execution_count": 32,
   "outputs": [
    {
     "data": {
      "text/plain": "                count          mean           std       min       25%  \\\nkWhDelivered   4387.0     14.239556     12.575748     0.508     5.379   \nsiteID         4387.0      1.268977      0.443478     1.000     1.000   \nuserID         3329.0   1458.393812   1532.613614    22.000   410.000   \ntimeConnected  4387.0  15629.237520  14617.364141   242.000  6534.500   \nidleTime       4387.0    -56.017096     76.290027 -3596.000   -59.000   \nchargingTime   4387.0  15685.254616  14615.972474   253.000  6592.500   \nweekday        4387.0      2.247322      1.660041     0.000     1.000   \nmonth          4387.0      7.178938      3.401890     1.000     5.000   \n\n                     50%         75%            max  \nkWhDelivered      11.161     19.2395     108.797242  \nsiteID             1.000      2.0000       2.000000  \nuserID           832.000   2052.0000   17097.000000  \ntimeConnected  12291.000  21362.5000  540779.000000  \nidleTime         -58.000    -57.0000      -1.000000  \nchargingTime   12351.000  21417.0000  540838.000000  \nweekday            2.000      4.0000       6.000000  \nmonth              8.000     10.0000      12.000000  ",
      "text/html": "<div>\n<style scoped>\n    .dataframe tbody tr th:only-of-type {\n        vertical-align: middle;\n    }\n\n    .dataframe tbody tr th {\n        vertical-align: top;\n    }\n\n    .dataframe thead th {\n        text-align: right;\n    }\n</style>\n<table border=\"1\" class=\"dataframe\">\n  <thead>\n    <tr style=\"text-align: right;\">\n      <th></th>\n      <th>count</th>\n      <th>mean</th>\n      <th>std</th>\n      <th>min</th>\n      <th>25%</th>\n      <th>50%</th>\n      <th>75%</th>\n      <th>max</th>\n    </tr>\n  </thead>\n  <tbody>\n    <tr>\n      <th>kWhDelivered</th>\n      <td>4387.0</td>\n      <td>14.239556</td>\n      <td>12.575748</td>\n      <td>0.508</td>\n      <td>5.379</td>\n      <td>11.161</td>\n      <td>19.2395</td>\n      <td>108.797242</td>\n    </tr>\n    <tr>\n      <th>siteID</th>\n      <td>4387.0</td>\n      <td>1.268977</td>\n      <td>0.443478</td>\n      <td>1.000</td>\n      <td>1.000</td>\n      <td>1.000</td>\n      <td>2.0000</td>\n      <td>2.000000</td>\n    </tr>\n    <tr>\n      <th>userID</th>\n      <td>3329.0</td>\n      <td>1458.393812</td>\n      <td>1532.613614</td>\n      <td>22.000</td>\n      <td>410.000</td>\n      <td>832.000</td>\n      <td>2052.0000</td>\n      <td>17097.000000</td>\n    </tr>\n    <tr>\n      <th>timeConnected</th>\n      <td>4387.0</td>\n      <td>15629.237520</td>\n      <td>14617.364141</td>\n      <td>242.000</td>\n      <td>6534.500</td>\n      <td>12291.000</td>\n      <td>21362.5000</td>\n      <td>540779.000000</td>\n    </tr>\n    <tr>\n      <th>idleTime</th>\n      <td>4387.0</td>\n      <td>-56.017096</td>\n      <td>76.290027</td>\n      <td>-3596.000</td>\n      <td>-59.000</td>\n      <td>-58.000</td>\n      <td>-57.0000</td>\n      <td>-1.000000</td>\n    </tr>\n    <tr>\n      <th>chargingTime</th>\n      <td>4387.0</td>\n      <td>15685.254616</td>\n      <td>14615.972474</td>\n      <td>253.000</td>\n      <td>6592.500</td>\n      <td>12351.000</td>\n      <td>21417.0000</td>\n      <td>540838.000000</td>\n    </tr>\n    <tr>\n      <th>weekday</th>\n      <td>4387.0</td>\n      <td>2.247322</td>\n      <td>1.660041</td>\n      <td>0.000</td>\n      <td>1.000</td>\n      <td>2.000</td>\n      <td>4.0000</td>\n      <td>6.000000</td>\n    </tr>\n    <tr>\n      <th>month</th>\n      <td>4387.0</td>\n      <td>7.178938</td>\n      <td>3.401890</td>\n      <td>1.000</td>\n      <td>5.000</td>\n      <td>8.000</td>\n      <td>10.0000</td>\n      <td>12.000000</td>\n    </tr>\n  </tbody>\n</table>\n</div>"
     },
     "execution_count": 32,
     "metadata": {},
     "output_type": "execute_result"
    }
   ],
   "source": [
    "charging_sessions_modified[charging_sessions_modified[\"idleTime\"]<0].describe().transpose()"
   ],
   "metadata": {
    "collapsed": false,
    "ExecuteTime": {
     "end_time": "2024-02-07T16:06:15.645113600Z",
     "start_time": "2024-02-07T16:06:15.556992400Z"
    }
   },
   "id": "701f5cc452879330"
  },
  {
   "cell_type": "markdown",
   "source": [
    "The mean of the negative idle times is around a minute, with most values being around this range. This could indicate a situation where the station does not stop charging or does not register that it stopped charging for around a minute after the car was disconnected. \n",
    "Because we have no further information on this, we will take the safe route and drop them."
   ],
   "metadata": {
    "collapsed": false
   },
   "id": "cb5bf0fb6559cdba"
  },
  {
   "cell_type": "code",
   "execution_count": 33,
   "outputs": [],
   "source": [
    "charging_sessions_modified.drop(charging_sessions_modified[charging_sessions_modified.idleTime<0].index, inplace = True)"
   ],
   "metadata": {
    "collapsed": false,
    "ExecuteTime": {
     "end_time": "2024-02-07T16:06:15.645113600Z",
     "start_time": "2024-02-07T16:06:15.599699400Z"
    }
   },
   "id": "b43c406aa6000bda"
  },
  {
   "cell_type": "markdown",
   "source": [
    "Another potential problem are the max values for timeConnected, idleTime and chargingTime. While it is possible to be connected and charging for the up to 10 days the max values represent, it is not that realistic. Let's have a closer look at all data points, where the connection time is above 24 hours (86400 seconds)"
   ],
   "metadata": {
    "collapsed": false
   },
   "id": "334f0893bf234b9d"
  },
  {
   "cell_type": "code",
   "execution_count": 34,
   "outputs": [
    {
     "data": {
      "text/plain": "                 connectionTime            disconnectTime  \\\n7627  2019-08-14 13:00:40+00:00 2019-08-16 02:24:39+00:00   \n7911  2019-08-20 14:20:30+00:00 2019-08-22 00:32:21+00:00   \n18601 2021-07-16 14:01:18+00:00 2021-07-19 23:05:55+00:00   \n18603 2021-07-16 15:39:02+00:00 2021-07-19 23:05:38+00:00   \n18604 2021-07-16 15:45:30+00:00 2021-07-19 23:06:05+00:00   \n...                         ...                       ...   \n54521 2018-11-12 19:35:55+00:00 2018-11-15 01:44:47+00:00   \n61169 2019-04-16 00:01:28+00:00 2019-04-18 00:20:42+00:00   \n62402 2019-05-09 00:09:47+00:00 2019-05-10 01:23:16+00:00   \n63029 2019-05-21 00:10:00+00:00 2019-05-22 00:49:28+00:00   \n64086 2019-06-12 13:38:35+00:00 2019-06-14 13:28:08+00:00   \n\n               doneChargingTime  kWhDelivered  siteID   userID  \\\n7627  2019-08-14 14:48:08+00:00         4.557       1    521.0   \n7911  2019-08-20 17:55:00+00:00        14.022       1   2187.0   \n18601 2021-07-16 18:16:51+00:00        11.286       1    382.0   \n18603 2021-07-16 18:16:54+00:00        13.377       1  10747.0   \n18604 2021-07-19 20:36:25+00:00         5.793       1   3161.0   \n...                         ...           ...     ...      ...   \n54521 2018-11-12 23:41:28+00:00        10.646       1    425.0   \n61169 2019-04-17 01:18:18+00:00        39.970       1   2050.0   \n62402 2019-05-09 06:04:05+00:00        36.682       1   2050.0   \n63029 2019-05-21 23:22:59+00:00        39.989       1   2050.0   \n64086 2019-06-12 17:04:30+00:00         6.449       1   2447.0   \n\n                                                                                                                                                                                                                                                                                                                                                                                                                                                                                                                                                                                                                                                                                                                                                                                                                                                                                                                                                                  userInputs  \\\n7627                                                                                                                                                                                                                                                                                                                                                                                                                                                                                                                                                                                                                                                                                                                                  [{'WhPerMile': 400, 'kWhRequested': 16.0, 'milesRequested': 40, 'minutesAvailable': 73, 'modifiedAt': 'Wed, 14 Aug 2019 13:00:41 GMT', 'paymentRequired': True, 'requestedDeparture': 'Wed, 14 Aug 2019 14:13:40 GMT', 'userID': 521}]   \n7911                                                                                                                                                                                                                                                                                                                                                                                                                                                                                                                                                                                                                                                                                                                               [{'WhPerMile': 333, 'kWhRequested': 19.98, 'milesRequested': 60, 'minutesAvailable': 212, 'modifiedAt': 'Tue, 20 Aug 2019 14:21:02 GMT', 'paymentRequired': True, 'requestedDeparture': 'Tue, 20 Aug 2019 17:52:30 GMT', 'userID': 2187}]   \n18601                                                                                                                                                                                                                                                                                                                                                                                                                                                                                                                                                                                                                                                                                                                                [{'WhPerMile': 350, 'kWhRequested': 17.5, 'milesRequested': 50, 'minutesAvailable': 240, 'modifiedAt': 'Fri, 16 Jul 2021 14:01:17 GMT', 'paymentRequired': True, 'requestedDeparture': 'Fri, 16 Jul 2021 18:01:18 GMT', 'userID': 382}]   \n18603                                                                                                                                                                                                                                                                                                                                                                                                                                                                                                                                                                                                                                                                                                                             [{'WhPerMile': 283, 'kWhRequested': 28.3, 'milesRequested': 100, 'minutesAvailable': 201, 'modifiedAt': 'Fri, 16 Jul 2021 15:39:02 GMT', 'paymentRequired': True, 'requestedDeparture': 'Fri, 16 Jul 2021 19:00:02 GMT', 'userID': 10747}]   \n18604                                                                                                                                                                                                                                                                                                                                                                                                                                                                                                                                                                                                                                                                                                                               [{'WhPerMile': 250, 'kWhRequested': 8.75, 'milesRequested': 35, 'minutesAvailable': 150, 'modifiedAt': 'Fri, 16 Jul 2021 15:45:29 GMT', 'paymentRequired': True, 'requestedDeparture': 'Fri, 16 Jul 2021 18:15:30 GMT', 'userID': 3161}]   \n...                                                                                                                                                                                                                                                                                                                                                                                                                                                                                                                                                                                                                                                                                                                                                                                                                                                                                                                                                                      ...   \n54521                                                                                                                                                                                                                                                                                                                                                                                                                                                                                                                                                                                                                                                                                                                                [{'WhPerMile': 300, 'kWhRequested': 12.0, 'milesRequested': 40, 'minutesAvailable': 334, 'modifiedAt': 'Mon, 12 Nov 2018 19:35:56 GMT', 'paymentRequired': True, 'requestedDeparture': 'Tue, 13 Nov 2018 01:09:55 GMT', 'userID': 425}]   \n61169  [{'WhPerMile': 600, 'kWhRequested': 12.0, 'milesRequested': 20, 'minutesAvailable': 244, 'modifiedAt': 'Tue, 16 Apr 2019 00:03:15 GMT', 'paymentRequired': True, 'requestedDeparture': 'Tue, 16 Apr 2019 04:05:28 GMT', 'userID': 2050}, {'WhPerMile': 333, 'kWhRequested': 23.31, 'milesRequested': 70, 'minutesAvailable': 244, 'modifiedAt': 'Tue, 16 Apr 2019 02:40:44 GMT', 'paymentRequired': True, 'requestedDeparture': 'Tue, 16 Apr 2019 04:05:28 GMT', 'userID': 2050}, {'WhPerMile': 333, 'kWhRequested': 39.96, 'milesRequested': 120, 'minutesAvailable': 244, 'modifiedAt': 'Tue, 16 Apr 2019 02:41:46 GMT', 'paymentRequired': True, 'requestedDeparture': 'Tue, 16 Apr 2019 04:05:28 GMT', 'userID': 2050}, {'WhPerMile': 333, 'kWhRequested': 39.96, 'milesRequested': 120, 'minutesAvailable': 878, 'modifiedAt': 'Tue, 16 Apr 2019 02:42:02 GMT', 'paymentRequired': True, 'requestedDeparture': 'Tue, 16 Apr 2019 14:39:28 GMT', 'userID': 2050}]   \n62402                                                                                                                                                                                                                                                                                                                                                                                                                                                                                   [{'WhPerMile': 333, 'kWhRequested': 39.96, 'milesRequested': 120, 'minutesAvailable': 720, 'modifiedAt': 'Thu, 09 May 2019 00:10:02 GMT', 'paymentRequired': True, 'requestedDeparture': 'Thu, 09 May 2019 12:09:47 GMT', 'userID': 2050}, {'WhPerMile': 333, 'kWhRequested': 39.96, 'milesRequested': 120, 'minutesAvailable': 857, 'modifiedAt': 'Thu, 09 May 2019 02:28:09 GMT', 'paymentRequired': True, 'requestedDeparture': 'Thu, 09 May 2019 14:26:47 GMT', 'userID': 2050}]   \n63029                                                                                                                                                                                                                                                                                                                                                                                                                                                                                   [{'WhPerMile': 333, 'kWhRequested': 39.96, 'milesRequested': 120, 'minutesAvailable': 720, 'modifiedAt': 'Tue, 21 May 2019 00:10:23 GMT', 'paymentRequired': True, 'requestedDeparture': 'Tue, 21 May 2019 12:10:00 GMT', 'userID': 2050}, {'WhPerMile': 333, 'kWhRequested': 39.96, 'milesRequested': 120, 'minutesAvailable': 720, 'modifiedAt': 'Tue, 21 May 2019 23:23:19 GMT', 'paymentRequired': True, 'requestedDeparture': 'Tue, 21 May 2019 12:10:00 GMT', 'userID': 2050}]   \n64086                                                                                                                                                                                                                                                                                                                                                                                                                                                                                                                                                                                                                                                                                                                                [{'WhPerMile': 400, 'kWhRequested': 8.0, 'milesRequested': 20, 'minutesAvailable': 634, 'modifiedAt': 'Wed, 12 Jun 2019 13:38:34 GMT', 'paymentRequired': True, 'requestedDeparture': 'Thu, 13 Jun 2019 00:12:35 GMT', 'userID': 2447}]   \n\n      combinedSpaceStationID  timeConnected  idleTime  chargingTime  weekday  \\\n7627     AG-1F12/1-1-194-822       134639.0  128191.0        6448.0        2   \n7911     AG-3F28/1-1-179-777       123111.0  110241.0       12870.0        1   \n18601    AG-1F10/1-1-178-828       291877.0  276544.0       15333.0        4   \n18603    AG-1F08/1-1-178-823       285996.0  276524.0        9472.0        4   \n18604    AG-3F29/1-1-179-783       285635.0    8980.0      276655.0        4   \n...                      ...            ...       ...           ...      ...   \n54521    AG-4F43/1-1-191-778       194932.0  180199.0       14733.0        0   \n61169    AG-4F37/1-1-191-792       173954.0   82944.0       91010.0        1   \n62402    AG-1F03/1-1-193-829        90809.0   69551.0       21258.0        3   \n63029    AG-3F27/1-1-179-809        88768.0    5189.0       83579.0        1   \n64086    AG-1F13/1-1-194-821       172173.0  159818.0       12355.0        2   \n\n       month      time  \n7627       8  13:00:40  \n7911       8  14:20:30  \n18601      7  14:01:18  \n18603      7  15:39:02  \n18604      7  15:45:30  \n...      ...       ...  \n54521     11  19:35:55  \n61169      4  00:01:28  \n62402      5  00:09:47  \n63029      5  00:10:00  \n64086      6  13:38:35  \n\n[266 rows x 14 columns]",
      "text/html": "<div>\n<style scoped>\n    .dataframe tbody tr th:only-of-type {\n        vertical-align: middle;\n    }\n\n    .dataframe tbody tr th {\n        vertical-align: top;\n    }\n\n    .dataframe thead th {\n        text-align: right;\n    }\n</style>\n<table border=\"1\" class=\"dataframe\">\n  <thead>\n    <tr style=\"text-align: right;\">\n      <th></th>\n      <th>connectionTime</th>\n      <th>disconnectTime</th>\n      <th>doneChargingTime</th>\n      <th>kWhDelivered</th>\n      <th>siteID</th>\n      <th>userID</th>\n      <th>userInputs</th>\n      <th>combinedSpaceStationID</th>\n      <th>timeConnected</th>\n      <th>idleTime</th>\n      <th>chargingTime</th>\n      <th>weekday</th>\n      <th>month</th>\n      <th>time</th>\n    </tr>\n  </thead>\n  <tbody>\n    <tr>\n      <th>7627</th>\n      <td>2019-08-14 13:00:40+00:00</td>\n      <td>2019-08-16 02:24:39+00:00</td>\n      <td>2019-08-14 14:48:08+00:00</td>\n      <td>4.557</td>\n      <td>1</td>\n      <td>521.0</td>\n      <td>[{'WhPerMile': 400, 'kWhRequested': 16.0, 'milesRequested': 40, 'minutesAvailable': 73, 'modifiedAt': 'Wed, 14 Aug 2019 13:00:41 GMT', 'paymentRequired': True, 'requestedDeparture': 'Wed, 14 Aug 2019 14:13:40 GMT', 'userID': 521}]</td>\n      <td>AG-1F12/1-1-194-822</td>\n      <td>134639.0</td>\n      <td>128191.0</td>\n      <td>6448.0</td>\n      <td>2</td>\n      <td>8</td>\n      <td>13:00:40</td>\n    </tr>\n    <tr>\n      <th>7911</th>\n      <td>2019-08-20 14:20:30+00:00</td>\n      <td>2019-08-22 00:32:21+00:00</td>\n      <td>2019-08-20 17:55:00+00:00</td>\n      <td>14.022</td>\n      <td>1</td>\n      <td>2187.0</td>\n      <td>[{'WhPerMile': 333, 'kWhRequested': 19.98, 'milesRequested': 60, 'minutesAvailable': 212, 'modifiedAt': 'Tue, 20 Aug 2019 14:21:02 GMT', 'paymentRequired': True, 'requestedDeparture': 'Tue, 20 Aug 2019 17:52:30 GMT', 'userID': 2187}]</td>\n      <td>AG-3F28/1-1-179-777</td>\n      <td>123111.0</td>\n      <td>110241.0</td>\n      <td>12870.0</td>\n      <td>1</td>\n      <td>8</td>\n      <td>14:20:30</td>\n    </tr>\n    <tr>\n      <th>18601</th>\n      <td>2021-07-16 14:01:18+00:00</td>\n      <td>2021-07-19 23:05:55+00:00</td>\n      <td>2021-07-16 18:16:51+00:00</td>\n      <td>11.286</td>\n      <td>1</td>\n      <td>382.0</td>\n      <td>[{'WhPerMile': 350, 'kWhRequested': 17.5, 'milesRequested': 50, 'minutesAvailable': 240, 'modifiedAt': 'Fri, 16 Jul 2021 14:01:17 GMT', 'paymentRequired': True, 'requestedDeparture': 'Fri, 16 Jul 2021 18:01:18 GMT', 'userID': 382}]</td>\n      <td>AG-1F10/1-1-178-828</td>\n      <td>291877.0</td>\n      <td>276544.0</td>\n      <td>15333.0</td>\n      <td>4</td>\n      <td>7</td>\n      <td>14:01:18</td>\n    </tr>\n    <tr>\n      <th>18603</th>\n      <td>2021-07-16 15:39:02+00:00</td>\n      <td>2021-07-19 23:05:38+00:00</td>\n      <td>2021-07-16 18:16:54+00:00</td>\n      <td>13.377</td>\n      <td>1</td>\n      <td>10747.0</td>\n      <td>[{'WhPerMile': 283, 'kWhRequested': 28.3, 'milesRequested': 100, 'minutesAvailable': 201, 'modifiedAt': 'Fri, 16 Jul 2021 15:39:02 GMT', 'paymentRequired': True, 'requestedDeparture': 'Fri, 16 Jul 2021 19:00:02 GMT', 'userID': 10747}]</td>\n      <td>AG-1F08/1-1-178-823</td>\n      <td>285996.0</td>\n      <td>276524.0</td>\n      <td>9472.0</td>\n      <td>4</td>\n      <td>7</td>\n      <td>15:39:02</td>\n    </tr>\n    <tr>\n      <th>18604</th>\n      <td>2021-07-16 15:45:30+00:00</td>\n      <td>2021-07-19 23:06:05+00:00</td>\n      <td>2021-07-19 20:36:25+00:00</td>\n      <td>5.793</td>\n      <td>1</td>\n      <td>3161.0</td>\n      <td>[{'WhPerMile': 250, 'kWhRequested': 8.75, 'milesRequested': 35, 'minutesAvailable': 150, 'modifiedAt': 'Fri, 16 Jul 2021 15:45:29 GMT', 'paymentRequired': True, 'requestedDeparture': 'Fri, 16 Jul 2021 18:15:30 GMT', 'userID': 3161}]</td>\n      <td>AG-3F29/1-1-179-783</td>\n      <td>285635.0</td>\n      <td>8980.0</td>\n      <td>276655.0</td>\n      <td>4</td>\n      <td>7</td>\n      <td>15:45:30</td>\n    </tr>\n    <tr>\n      <th>...</th>\n      <td>...</td>\n      <td>...</td>\n      <td>...</td>\n      <td>...</td>\n      <td>...</td>\n      <td>...</td>\n      <td>...</td>\n      <td>...</td>\n      <td>...</td>\n      <td>...</td>\n      <td>...</td>\n      <td>...</td>\n      <td>...</td>\n      <td>...</td>\n    </tr>\n    <tr>\n      <th>54521</th>\n      <td>2018-11-12 19:35:55+00:00</td>\n      <td>2018-11-15 01:44:47+00:00</td>\n      <td>2018-11-12 23:41:28+00:00</td>\n      <td>10.646</td>\n      <td>1</td>\n      <td>425.0</td>\n      <td>[{'WhPerMile': 300, 'kWhRequested': 12.0, 'milesRequested': 40, 'minutesAvailable': 334, 'modifiedAt': 'Mon, 12 Nov 2018 19:35:56 GMT', 'paymentRequired': True, 'requestedDeparture': 'Tue, 13 Nov 2018 01:09:55 GMT', 'userID': 425}]</td>\n      <td>AG-4F43/1-1-191-778</td>\n      <td>194932.0</td>\n      <td>180199.0</td>\n      <td>14733.0</td>\n      <td>0</td>\n      <td>11</td>\n      <td>19:35:55</td>\n    </tr>\n    <tr>\n      <th>61169</th>\n      <td>2019-04-16 00:01:28+00:00</td>\n      <td>2019-04-18 00:20:42+00:00</td>\n      <td>2019-04-17 01:18:18+00:00</td>\n      <td>39.970</td>\n      <td>1</td>\n      <td>2050.0</td>\n      <td>[{'WhPerMile': 600, 'kWhRequested': 12.0, 'milesRequested': 20, 'minutesAvailable': 244, 'modifiedAt': 'Tue, 16 Apr 2019 00:03:15 GMT', 'paymentRequired': True, 'requestedDeparture': 'Tue, 16 Apr 2019 04:05:28 GMT', 'userID': 2050}, {'WhPerMile': 333, 'kWhRequested': 23.31, 'milesRequested': 70, 'minutesAvailable': 244, 'modifiedAt': 'Tue, 16 Apr 2019 02:40:44 GMT', 'paymentRequired': True, 'requestedDeparture': 'Tue, 16 Apr 2019 04:05:28 GMT', 'userID': 2050}, {'WhPerMile': 333, 'kWhRequested': 39.96, 'milesRequested': 120, 'minutesAvailable': 244, 'modifiedAt': 'Tue, 16 Apr 2019 02:41:46 GMT', 'paymentRequired': True, 'requestedDeparture': 'Tue, 16 Apr 2019 04:05:28 GMT', 'userID': 2050}, {'WhPerMile': 333, 'kWhRequested': 39.96, 'milesRequested': 120, 'minutesAvailable': 878, 'modifiedAt': 'Tue, 16 Apr 2019 02:42:02 GMT', 'paymentRequired': True, 'requestedDeparture': 'Tue, 16 Apr 2019 14:39:28 GMT', 'userID': 2050}]</td>\n      <td>AG-4F37/1-1-191-792</td>\n      <td>173954.0</td>\n      <td>82944.0</td>\n      <td>91010.0</td>\n      <td>1</td>\n      <td>4</td>\n      <td>00:01:28</td>\n    </tr>\n    <tr>\n      <th>62402</th>\n      <td>2019-05-09 00:09:47+00:00</td>\n      <td>2019-05-10 01:23:16+00:00</td>\n      <td>2019-05-09 06:04:05+00:00</td>\n      <td>36.682</td>\n      <td>1</td>\n      <td>2050.0</td>\n      <td>[{'WhPerMile': 333, 'kWhRequested': 39.96, 'milesRequested': 120, 'minutesAvailable': 720, 'modifiedAt': 'Thu, 09 May 2019 00:10:02 GMT', 'paymentRequired': True, 'requestedDeparture': 'Thu, 09 May 2019 12:09:47 GMT', 'userID': 2050}, {'WhPerMile': 333, 'kWhRequested': 39.96, 'milesRequested': 120, 'minutesAvailable': 857, 'modifiedAt': 'Thu, 09 May 2019 02:28:09 GMT', 'paymentRequired': True, 'requestedDeparture': 'Thu, 09 May 2019 14:26:47 GMT', 'userID': 2050}]</td>\n      <td>AG-1F03/1-1-193-829</td>\n      <td>90809.0</td>\n      <td>69551.0</td>\n      <td>21258.0</td>\n      <td>3</td>\n      <td>5</td>\n      <td>00:09:47</td>\n    </tr>\n    <tr>\n      <th>63029</th>\n      <td>2019-05-21 00:10:00+00:00</td>\n      <td>2019-05-22 00:49:28+00:00</td>\n      <td>2019-05-21 23:22:59+00:00</td>\n      <td>39.989</td>\n      <td>1</td>\n      <td>2050.0</td>\n      <td>[{'WhPerMile': 333, 'kWhRequested': 39.96, 'milesRequested': 120, 'minutesAvailable': 720, 'modifiedAt': 'Tue, 21 May 2019 00:10:23 GMT', 'paymentRequired': True, 'requestedDeparture': 'Tue, 21 May 2019 12:10:00 GMT', 'userID': 2050}, {'WhPerMile': 333, 'kWhRequested': 39.96, 'milesRequested': 120, 'minutesAvailable': 720, 'modifiedAt': 'Tue, 21 May 2019 23:23:19 GMT', 'paymentRequired': True, 'requestedDeparture': 'Tue, 21 May 2019 12:10:00 GMT', 'userID': 2050}]</td>\n      <td>AG-3F27/1-1-179-809</td>\n      <td>88768.0</td>\n      <td>5189.0</td>\n      <td>83579.0</td>\n      <td>1</td>\n      <td>5</td>\n      <td>00:10:00</td>\n    </tr>\n    <tr>\n      <th>64086</th>\n      <td>2019-06-12 13:38:35+00:00</td>\n      <td>2019-06-14 13:28:08+00:00</td>\n      <td>2019-06-12 17:04:30+00:00</td>\n      <td>6.449</td>\n      <td>1</td>\n      <td>2447.0</td>\n      <td>[{'WhPerMile': 400, 'kWhRequested': 8.0, 'milesRequested': 20, 'minutesAvailable': 634, 'modifiedAt': 'Wed, 12 Jun 2019 13:38:34 GMT', 'paymentRequired': True, 'requestedDeparture': 'Thu, 13 Jun 2019 00:12:35 GMT', 'userID': 2447}]</td>\n      <td>AG-1F13/1-1-194-821</td>\n      <td>172173.0</td>\n      <td>159818.0</td>\n      <td>12355.0</td>\n      <td>2</td>\n      <td>6</td>\n      <td>13:38:35</td>\n    </tr>\n  </tbody>\n</table>\n<p>266 rows × 14 columns</p>\n</div>"
     },
     "execution_count": 34,
     "metadata": {},
     "output_type": "execute_result"
    }
   ],
   "source": [
    "charging_sessions_modified[charging_sessions_modified[\"timeConnected\"]>=86400]"
   ],
   "metadata": {
    "collapsed": false,
    "ExecuteTime": {
     "end_time": "2024-02-07T16:06:15.647617200Z",
     "start_time": "2024-02-07T16:06:15.602202700Z"
    }
   },
   "id": "4a3b1aa8c15c4a26"
  },
  {
   "cell_type": "code",
   "execution_count": 35,
   "outputs": [
    {
     "data": {
      "text/plain": "               count           mean            std        min          25%  \\\nkWhDelivered   266.0      15.758231      13.145946      0.855       6.5965   \nsiteID         266.0       1.932331       0.251651      1.000       2.0000   \nuserID         122.0    1844.532787    2382.089881     67.000     565.0000   \ntimeConnected  266.0  169737.744361  103165.204918  86495.000  101506.0000   \nidleTime       266.0  120326.748120   93859.917000      4.000   69610.5000   \nchargingTime   266.0   49410.996241   78455.038387    -59.000    7995.7500   \nweekday        266.0       3.191729       2.047752      0.000       1.0000   \nmonth          266.0       6.815789       2.896956      1.000       5.0000   \n\n                       50%         75%         max  \nkWhDelivered       13.1915      15.909      61.114  \nsiteID              2.0000       2.000       2.000  \nuserID           1153.0000    1826.000   15803.000  \ntimeConnected  134621.0000  198945.250  882969.000  \nidleTime        93952.5000  152027.250  562037.000  \nchargingTime    16653.0000   71447.250  720057.000  \nweekday             4.0000       5.000       6.000  \nmonth               7.0000       9.000      12.000  ",
      "text/html": "<div>\n<style scoped>\n    .dataframe tbody tr th:only-of-type {\n        vertical-align: middle;\n    }\n\n    .dataframe tbody tr th {\n        vertical-align: top;\n    }\n\n    .dataframe thead th {\n        text-align: right;\n    }\n</style>\n<table border=\"1\" class=\"dataframe\">\n  <thead>\n    <tr style=\"text-align: right;\">\n      <th></th>\n      <th>count</th>\n      <th>mean</th>\n      <th>std</th>\n      <th>min</th>\n      <th>25%</th>\n      <th>50%</th>\n      <th>75%</th>\n      <th>max</th>\n    </tr>\n  </thead>\n  <tbody>\n    <tr>\n      <th>kWhDelivered</th>\n      <td>266.0</td>\n      <td>15.758231</td>\n      <td>13.145946</td>\n      <td>0.855</td>\n      <td>6.5965</td>\n      <td>13.1915</td>\n      <td>15.909</td>\n      <td>61.114</td>\n    </tr>\n    <tr>\n      <th>siteID</th>\n      <td>266.0</td>\n      <td>1.932331</td>\n      <td>0.251651</td>\n      <td>1.000</td>\n      <td>2.0000</td>\n      <td>2.0000</td>\n      <td>2.000</td>\n      <td>2.000</td>\n    </tr>\n    <tr>\n      <th>userID</th>\n      <td>122.0</td>\n      <td>1844.532787</td>\n      <td>2382.089881</td>\n      <td>67.000</td>\n      <td>565.0000</td>\n      <td>1153.0000</td>\n      <td>1826.000</td>\n      <td>15803.000</td>\n    </tr>\n    <tr>\n      <th>timeConnected</th>\n      <td>266.0</td>\n      <td>169737.744361</td>\n      <td>103165.204918</td>\n      <td>86495.000</td>\n      <td>101506.0000</td>\n      <td>134621.0000</td>\n      <td>198945.250</td>\n      <td>882969.000</td>\n    </tr>\n    <tr>\n      <th>idleTime</th>\n      <td>266.0</td>\n      <td>120326.748120</td>\n      <td>93859.917000</td>\n      <td>4.000</td>\n      <td>69610.5000</td>\n      <td>93952.5000</td>\n      <td>152027.250</td>\n      <td>562037.000</td>\n    </tr>\n    <tr>\n      <th>chargingTime</th>\n      <td>266.0</td>\n      <td>49410.996241</td>\n      <td>78455.038387</td>\n      <td>-59.000</td>\n      <td>7995.7500</td>\n      <td>16653.0000</td>\n      <td>71447.250</td>\n      <td>720057.000</td>\n    </tr>\n    <tr>\n      <th>weekday</th>\n      <td>266.0</td>\n      <td>3.191729</td>\n      <td>2.047752</td>\n      <td>0.000</td>\n      <td>1.0000</td>\n      <td>4.0000</td>\n      <td>5.000</td>\n      <td>6.000</td>\n    </tr>\n    <tr>\n      <th>month</th>\n      <td>266.0</td>\n      <td>6.815789</td>\n      <td>2.896956</td>\n      <td>1.000</td>\n      <td>5.0000</td>\n      <td>7.0000</td>\n      <td>9.000</td>\n      <td>12.000</td>\n    </tr>\n  </tbody>\n</table>\n</div>"
     },
     "execution_count": 35,
     "metadata": {},
     "output_type": "execute_result"
    }
   ],
   "source": [
    "charging_sessions_modified[charging_sessions_modified[\"timeConnected\"]>=86400].describe().transpose()"
   ],
   "metadata": {
    "collapsed": false,
    "ExecuteTime": {
     "end_time": "2024-02-07T16:06:15.712004100Z",
     "start_time": "2024-02-07T16:06:15.623070800Z"
    }
   },
   "id": "61f9f8a795e35817"
  },
  {
   "cell_type": "markdown",
   "source": [
    "271 data points where the connection time is more than a day is quite a lot. The mean of these being around 2 days is also higher than we would have expected. Nevertheless, we will leave these in the dataset. While it looks rather strange to have your car charging for more than 2 days on a charger than is not on your private property, this isn't straight up impossible like the negative idle times."
   ],
   "metadata": {
    "collapsed": false
   },
   "id": "76a24f1e802b47fb"
  },
  {
   "cell_type": "code",
   "execution_count": 36,
   "outputs": [
    {
     "data": {
      "text/plain": "                 count          mean           std       min        25%  \\\nkWhDelivered   56563.0     11.377248      9.911543     0.501      4.997   \nsiteID         56563.0      1.498170      0.500001     1.000      1.000   \nuserID         41315.0   1729.906596   2523.560134     1.000    438.000   \ntimeConnected  56563.0  23529.002846  17810.170154   183.000  11339.500   \nidleTime       56563.0  11072.938493  14697.578410     0.000    505.000   \nchargingTime   56563.0  12456.064353  10669.420682 -2482.000   5763.000   \nweekday        56563.0      2.284603      1.649970     0.000      1.000   \nmonth          56563.0      6.551544      3.364233     1.000      4.000   \n\n                     50%        75%         max  \nkWhDelivered       8.834     13.911      75.528  \nsiteID             1.000      2.000       2.000  \nuserID           766.000   1746.000   19923.000  \ntimeConnected  24003.000  33511.500  882969.000  \nidleTime        7253.000  18644.000  562037.000  \nchargingTime    9783.000  16735.000  720057.000  \nweekday            2.000      4.000       6.000  \nmonth              7.000      9.000      12.000  ",
      "text/html": "<div>\n<style scoped>\n    .dataframe tbody tr th:only-of-type {\n        vertical-align: middle;\n    }\n\n    .dataframe tbody tr th {\n        vertical-align: top;\n    }\n\n    .dataframe thead th {\n        text-align: right;\n    }\n</style>\n<table border=\"1\" class=\"dataframe\">\n  <thead>\n    <tr style=\"text-align: right;\">\n      <th></th>\n      <th>count</th>\n      <th>mean</th>\n      <th>std</th>\n      <th>min</th>\n      <th>25%</th>\n      <th>50%</th>\n      <th>75%</th>\n      <th>max</th>\n    </tr>\n  </thead>\n  <tbody>\n    <tr>\n      <th>kWhDelivered</th>\n      <td>56563.0</td>\n      <td>11.377248</td>\n      <td>9.911543</td>\n      <td>0.501</td>\n      <td>4.997</td>\n      <td>8.834</td>\n      <td>13.911</td>\n      <td>75.528</td>\n    </tr>\n    <tr>\n      <th>siteID</th>\n      <td>56563.0</td>\n      <td>1.498170</td>\n      <td>0.500001</td>\n      <td>1.000</td>\n      <td>1.000</td>\n      <td>1.000</td>\n      <td>2.000</td>\n      <td>2.000</td>\n    </tr>\n    <tr>\n      <th>userID</th>\n      <td>41315.0</td>\n      <td>1729.906596</td>\n      <td>2523.560134</td>\n      <td>1.000</td>\n      <td>438.000</td>\n      <td>766.000</td>\n      <td>1746.000</td>\n      <td>19923.000</td>\n    </tr>\n    <tr>\n      <th>timeConnected</th>\n      <td>56563.0</td>\n      <td>23529.002846</td>\n      <td>17810.170154</td>\n      <td>183.000</td>\n      <td>11339.500</td>\n      <td>24003.000</td>\n      <td>33511.500</td>\n      <td>882969.000</td>\n    </tr>\n    <tr>\n      <th>idleTime</th>\n      <td>56563.0</td>\n      <td>11072.938493</td>\n      <td>14697.578410</td>\n      <td>0.000</td>\n      <td>505.000</td>\n      <td>7253.000</td>\n      <td>18644.000</td>\n      <td>562037.000</td>\n    </tr>\n    <tr>\n      <th>chargingTime</th>\n      <td>56563.0</td>\n      <td>12456.064353</td>\n      <td>10669.420682</td>\n      <td>-2482.000</td>\n      <td>5763.000</td>\n      <td>9783.000</td>\n      <td>16735.000</td>\n      <td>720057.000</td>\n    </tr>\n    <tr>\n      <th>weekday</th>\n      <td>56563.0</td>\n      <td>2.284603</td>\n      <td>1.649970</td>\n      <td>0.000</td>\n      <td>1.000</td>\n      <td>2.000</td>\n      <td>4.000</td>\n      <td>6.000</td>\n    </tr>\n    <tr>\n      <th>month</th>\n      <td>56563.0</td>\n      <td>6.551544</td>\n      <td>3.364233</td>\n      <td>1.000</td>\n      <td>4.000</td>\n      <td>7.000</td>\n      <td>9.000</td>\n      <td>12.000</td>\n    </tr>\n  </tbody>\n</table>\n</div>"
     },
     "execution_count": 36,
     "metadata": {},
     "output_type": "execute_result"
    }
   ],
   "source": [
    "charging_sessions_modified.describe().transpose()"
   ],
   "metadata": {
    "collapsed": false,
    "ExecuteTime": {
     "end_time": "2024-02-07T16:06:15.755778600Z",
     "start_time": "2024-02-07T16:06:15.633089500Z"
    }
   },
   "id": "6603d789846870e1"
  },
  {
   "cell_type": "markdown",
   "source": [
    "Last but not least, we have the negative charging time to deal with. We will probably deal with these, the same way as the idle time by removing them. Let's have a look at them first though."
   ],
   "metadata": {
    "collapsed": false
   },
   "id": "216a01c63e335d17"
  },
  {
   "cell_type": "code",
   "execution_count": 37,
   "outputs": [
    {
     "data": {
      "text/plain": "               count          mean           std       min           25%  \\\nkWhDelivered    27.0      2.479419      3.555755     0.521      0.815942   \nsiteID          27.0      1.962963      0.192450     1.000      2.000000   \nuserID           6.0    889.500000    421.951538   483.000    527.000000   \ntimeConnected   27.0  32152.222222  50699.951537  1123.000  12954.000000   \nidleTime        27.0  32448.851852  50554.202093  3605.000  13012.500000   \nchargingTime    27.0   -296.629630    707.666868 -2482.000    -60.000000   \nweekday         27.0      2.666667      1.818706     0.000      1.000000   \nmonth           27.0      7.851852      2.878350     3.000      5.000000   \n\n                       50%           75%         max  \nkWhDelivered       1.06723      1.707816      14.967  \nsiteID             2.00000      2.000000       2.000  \nuserID           857.00000   1154.000000    1470.000  \ntimeConnected  19344.00000  26277.500000  255592.000  \nidleTime       19400.00000  26335.000000  255650.000  \nchargingTime     -59.00000    -57.500000      -1.000  \nweekday            3.00000      4.000000       6.000  \nmonth              9.00000     10.000000      11.000  ",
      "text/html": "<div>\n<style scoped>\n    .dataframe tbody tr th:only-of-type {\n        vertical-align: middle;\n    }\n\n    .dataframe tbody tr th {\n        vertical-align: top;\n    }\n\n    .dataframe thead th {\n        text-align: right;\n    }\n</style>\n<table border=\"1\" class=\"dataframe\">\n  <thead>\n    <tr style=\"text-align: right;\">\n      <th></th>\n      <th>count</th>\n      <th>mean</th>\n      <th>std</th>\n      <th>min</th>\n      <th>25%</th>\n      <th>50%</th>\n      <th>75%</th>\n      <th>max</th>\n    </tr>\n  </thead>\n  <tbody>\n    <tr>\n      <th>kWhDelivered</th>\n      <td>27.0</td>\n      <td>2.479419</td>\n      <td>3.555755</td>\n      <td>0.521</td>\n      <td>0.815942</td>\n      <td>1.06723</td>\n      <td>1.707816</td>\n      <td>14.967</td>\n    </tr>\n    <tr>\n      <th>siteID</th>\n      <td>27.0</td>\n      <td>1.962963</td>\n      <td>0.192450</td>\n      <td>1.000</td>\n      <td>2.000000</td>\n      <td>2.00000</td>\n      <td>2.000000</td>\n      <td>2.000</td>\n    </tr>\n    <tr>\n      <th>userID</th>\n      <td>6.0</td>\n      <td>889.500000</td>\n      <td>421.951538</td>\n      <td>483.000</td>\n      <td>527.000000</td>\n      <td>857.00000</td>\n      <td>1154.000000</td>\n      <td>1470.000</td>\n    </tr>\n    <tr>\n      <th>timeConnected</th>\n      <td>27.0</td>\n      <td>32152.222222</td>\n      <td>50699.951537</td>\n      <td>1123.000</td>\n      <td>12954.000000</td>\n      <td>19344.00000</td>\n      <td>26277.500000</td>\n      <td>255592.000</td>\n    </tr>\n    <tr>\n      <th>idleTime</th>\n      <td>27.0</td>\n      <td>32448.851852</td>\n      <td>50554.202093</td>\n      <td>3605.000</td>\n      <td>13012.500000</td>\n      <td>19400.00000</td>\n      <td>26335.000000</td>\n      <td>255650.000</td>\n    </tr>\n    <tr>\n      <th>chargingTime</th>\n      <td>27.0</td>\n      <td>-296.629630</td>\n      <td>707.666868</td>\n      <td>-2482.000</td>\n      <td>-60.000000</td>\n      <td>-59.00000</td>\n      <td>-57.500000</td>\n      <td>-1.000</td>\n    </tr>\n    <tr>\n      <th>weekday</th>\n      <td>27.0</td>\n      <td>2.666667</td>\n      <td>1.818706</td>\n      <td>0.000</td>\n      <td>1.000000</td>\n      <td>3.00000</td>\n      <td>4.000000</td>\n      <td>6.000</td>\n    </tr>\n    <tr>\n      <th>month</th>\n      <td>27.0</td>\n      <td>7.851852</td>\n      <td>2.878350</td>\n      <td>3.000</td>\n      <td>5.000000</td>\n      <td>9.00000</td>\n      <td>10.000000</td>\n      <td>11.000</td>\n    </tr>\n  </tbody>\n</table>\n</div>"
     },
     "execution_count": 37,
     "metadata": {},
     "output_type": "execute_result"
    }
   ],
   "source": [
    "charging_sessions_modified[charging_sessions_modified.chargingTime<0].describe().transpose()"
   ],
   "metadata": {
    "collapsed": false,
    "ExecuteTime": {
     "end_time": "2024-02-07T16:06:15.865150600Z",
     "start_time": "2024-02-07T16:06:15.664399400Z"
    }
   },
   "id": "cfe0ca4e611104ad"
  },
  {
   "cell_type": "markdown",
   "source": [
    "The minimum of them being around 40 minutes is quite interesting. There could be a few reasons for these values:\n",
    "* corrupt data\n",
    "* misfunction of the charging station\n",
    "* mishandling of time-zones\n",
    "\n",
    "Whatever the reason, this is not data we are able to work with, so we will drop them."
   ],
   "metadata": {
    "collapsed": false
   },
   "id": "e7af4d67dc6348de"
  },
  {
   "cell_type": "code",
   "execution_count": 38,
   "outputs": [],
   "source": [
    "charging_sessions_modified.drop(charging_sessions_modified[charging_sessions_modified.chargingTime<0].index, inplace = True)"
   ],
   "metadata": {
    "collapsed": false,
    "ExecuteTime": {
     "end_time": "2024-02-07T16:06:15.865150600Z",
     "start_time": "2024-02-07T16:06:15.684444Z"
    }
   },
   "id": "baad75eff4882268"
  },
  {
   "cell_type": "markdown",
   "source": [
    "Now let's check the userInputs column. Since we have null values over more than a fourth of the data-set there, simply dropping them might not be the best solution. Let's have a closer look at the data to see if they are of any use to us."
   ],
   "metadata": {
    "collapsed": false
   },
   "id": "f88fae7e45a28aa7"
  },
  {
   "cell_type": "code",
   "execution_count": 39,
   "outputs": [
    {
     "name": "stdout",
     "output_type": "stream",
     "text": [
      "<class 'pandas.core.frame.DataFrame'>\n",
      "Index: 56536 entries, 0 to 65036\n",
      "Data columns (total 14 columns):\n",
      " #   Column                  Non-Null Count  Dtype              \n",
      "---  ------                  --------------  -----              \n",
      " 0   connectionTime          56536 non-null  datetime64[ns, UTC]\n",
      " 1   disconnectTime          56536 non-null  datetime64[ns, UTC]\n",
      " 2   doneChargingTime        56536 non-null  datetime64[ns, UTC]\n",
      " 3   kWhDelivered            56536 non-null  float64            \n",
      " 4   siteID                  56536 non-null  int64              \n",
      " 5   userID                  41309 non-null  float64            \n",
      " 6   userInputs              41309 non-null  object             \n",
      " 7   combinedSpaceStationID  56536 non-null  object             \n",
      " 8   timeConnected           56536 non-null  float64            \n",
      " 9   idleTime                56536 non-null  float64            \n",
      " 10  chargingTime            56536 non-null  float64            \n",
      " 11  weekday                 56536 non-null  int32              \n",
      " 12  month                   56536 non-null  int32              \n",
      " 13  time                    56536 non-null  object             \n",
      "dtypes: datetime64[ns, UTC](3), float64(5), int32(2), int64(1), object(3)\n",
      "memory usage: 6.0+ MB\n"
     ]
    }
   ],
   "source": [
    "charging_sessions_modified.info()"
   ],
   "metadata": {
    "collapsed": false,
    "ExecuteTime": {
     "end_time": "2024-02-07T16:06:15.910427500Z",
     "start_time": "2024-02-07T16:06:15.696470800Z"
    }
   },
   "id": "7d6bbbbb71cba566"
  },
  {
   "cell_type": "code",
   "execution_count": 40,
   "outputs": [
    {
     "data": {
      "text/plain": "                                                                                                                                                                                                                                                                                                                                                                                                                                                                               userInputs\n0                                                                                                                                                                                                                                                [{'WhPerMile': 250, 'kWhRequested': 25.0, 'milesRequested': 100, 'minutesAvailable': 463, 'modifiedAt': 'Thu, 02 Jan 2020 13:09:39 GMT', 'paymentRequired': True, 'requestedDeparture': 'Thu, 02 Jan 2020 20:51:54 GMT', 'userID': 194}]\n1                                                                                                                                                                                                                                               [{'WhPerMile': 280, 'kWhRequested': 70.0, 'milesRequested': 250, 'minutesAvailable': 595, 'modifiedAt': 'Thu, 02 Jan 2020 13:37:11 GMT', 'paymentRequired': True, 'requestedDeparture': 'Thu, 02 Jan 2020 23:31:50 GMT', 'userID': 4275}]\n2                                                                                                                                                                                                                                                   [{'WhPerMile': 400, 'kWhRequested': 8.0, 'milesRequested': 20, 'minutesAvailable': 60, 'modifiedAt': 'Thu, 02 Jan 2020 13:57:17 GMT', 'paymentRequired': True, 'requestedDeparture': 'Thu, 02 Jan 2020 14:56:35 GMT', 'userID': 344}]\n3            [{'WhPerMile': 400, 'kWhRequested': 8.0, 'milesRequested': 20, 'minutesAvailable': 65, 'modifiedAt': 'Thu, 02 Jan 2020 14:00:03 GMT', 'paymentRequired': True, 'requestedDeparture': 'Thu, 02 Jan 2020 15:04:58 GMT', 'userID': 1117}, {'WhPerMile': 400, 'kWhRequested': 8.0, 'milesRequested': 20, 'minutesAvailable': 65, 'modifiedAt': 'Thu, 02 Jan 2020 14:00:19 GMT', 'paymentRequired': True, 'requestedDeparture': 'Thu, 02 Jan 2020 15:04:58 GMT', 'userID': 1117}]\n4                                                                                                                                                                                                                                                 [{'WhPerMile': 400, 'kWhRequested': 16.0, 'milesRequested': 40, 'minutesAvailable': 504, 'modifiedAt': 'Thu, 02 Jan 2020 14:00:13 GMT', 'paymentRequired': True, 'requestedDeparture': 'Thu, 02 Jan 2020 22:24:01 GMT', 'userID': 334}]\n...                                                                                                                                                                                                                                                                                                                                                                                                                                                                                   ...\n65025                                                                                                                                                                                                                                            [{'WhPerMile': 275, 'kWhRequested': 8.25, 'milesRequested': 30, 'minutesAvailable': 374, 'modifiedAt': 'Mon, 01 Jul 2019 19:13:10 GMT', 'paymentRequired': True, 'requestedDeparture': 'Tue, 02 Jul 2019 01:27:11 GMT', 'userID': 2643}]\n65029  [{'WhPerMile': 231, 'kWhRequested': 36.96, 'milesRequested': 160, 'minutesAvailable': 310, 'modifiedAt': 'Mon, 01 Jul 2019 19:43:58 GMT', 'paymentRequired': True, 'requestedDeparture': 'Tue, 02 Jul 2019 00:53:46 GMT', 'userID': 394}, {'WhPerMile': 231, 'kWhRequested': 43.89, 'milesRequested': 190, 'minutesAvailable': 443, 'modifiedAt': 'Mon, 01 Jul 2019 20:30:28 GMT', 'paymentRequired': True, 'requestedDeparture': 'Tue, 02 Jul 2019 03:06:46 GMT', 'userID': 394}]\n65031                                                                                                                                                                                                                                            [{'WhPerMile': 300, 'kWhRequested': 12.0, 'milesRequested': 40, 'minutesAvailable': 381, 'modifiedAt': 'Mon, 01 Jul 2019 20:34:29 GMT', 'paymentRequired': True, 'requestedDeparture': 'Tue, 02 Jul 2019 02:55:30 GMT', 'userID': 2276}]\n65032      [{'WhPerMile': 400, 'kWhRequested': 32.0, 'milesRequested': 80, 'minutesAvailable': 36, 'modifiedAt': 'Mon, 01 Jul 2019 21:49:37 GMT', 'paymentRequired': True, 'requestedDeparture': 'Mon, 01 Jul 2019 22:25:12 GMT', 'userID': 1346}, {'WhPerMile': 400, 'kWhRequested': 32.0, 'milesRequested': 80, 'minutesAvailable': 36, 'modifiedAt': 'Mon, 01 Jul 2019 21:51:07 GMT', 'paymentRequired': True, 'requestedDeparture': 'Mon, 01 Jul 2019 22:25:12 GMT', 'userID': 1346}]\n65036                                                                                                                                                                                                                                           [{'WhPerMile': 333, 'kWhRequested': 16.65, 'milesRequested': 50, 'minutesAvailable': 191, 'modifiedAt': 'Mon, 01 Jul 2019 22:36:08 GMT', 'paymentRequired': True, 'requestedDeparture': 'Tue, 02 Jul 2019 01:47:08 GMT', 'userID': 2299}]\n\n[56536 rows x 1 columns]",
      "text/html": "<div>\n<style scoped>\n    .dataframe tbody tr th:only-of-type {\n        vertical-align: middle;\n    }\n\n    .dataframe tbody tr th {\n        vertical-align: top;\n    }\n\n    .dataframe thead th {\n        text-align: right;\n    }\n</style>\n<table border=\"1\" class=\"dataframe\">\n  <thead>\n    <tr style=\"text-align: right;\">\n      <th></th>\n      <th>userInputs</th>\n    </tr>\n  </thead>\n  <tbody>\n    <tr>\n      <th>0</th>\n      <td>[{'WhPerMile': 250, 'kWhRequested': 25.0, 'milesRequested': 100, 'minutesAvailable': 463, 'modifiedAt': 'Thu, 02 Jan 2020 13:09:39 GMT', 'paymentRequired': True, 'requestedDeparture': 'Thu, 02 Jan 2020 20:51:54 GMT', 'userID': 194}]</td>\n    </tr>\n    <tr>\n      <th>1</th>\n      <td>[{'WhPerMile': 280, 'kWhRequested': 70.0, 'milesRequested': 250, 'minutesAvailable': 595, 'modifiedAt': 'Thu, 02 Jan 2020 13:37:11 GMT', 'paymentRequired': True, 'requestedDeparture': 'Thu, 02 Jan 2020 23:31:50 GMT', 'userID': 4275}]</td>\n    </tr>\n    <tr>\n      <th>2</th>\n      <td>[{'WhPerMile': 400, 'kWhRequested': 8.0, 'milesRequested': 20, 'minutesAvailable': 60, 'modifiedAt': 'Thu, 02 Jan 2020 13:57:17 GMT', 'paymentRequired': True, 'requestedDeparture': 'Thu, 02 Jan 2020 14:56:35 GMT', 'userID': 344}]</td>\n    </tr>\n    <tr>\n      <th>3</th>\n      <td>[{'WhPerMile': 400, 'kWhRequested': 8.0, 'milesRequested': 20, 'minutesAvailable': 65, 'modifiedAt': 'Thu, 02 Jan 2020 14:00:03 GMT', 'paymentRequired': True, 'requestedDeparture': 'Thu, 02 Jan 2020 15:04:58 GMT', 'userID': 1117}, {'WhPerMile': 400, 'kWhRequested': 8.0, 'milesRequested': 20, 'minutesAvailable': 65, 'modifiedAt': 'Thu, 02 Jan 2020 14:00:19 GMT', 'paymentRequired': True, 'requestedDeparture': 'Thu, 02 Jan 2020 15:04:58 GMT', 'userID': 1117}]</td>\n    </tr>\n    <tr>\n      <th>4</th>\n      <td>[{'WhPerMile': 400, 'kWhRequested': 16.0, 'milesRequested': 40, 'minutesAvailable': 504, 'modifiedAt': 'Thu, 02 Jan 2020 14:00:13 GMT', 'paymentRequired': True, 'requestedDeparture': 'Thu, 02 Jan 2020 22:24:01 GMT', 'userID': 334}]</td>\n    </tr>\n    <tr>\n      <th>...</th>\n      <td>...</td>\n    </tr>\n    <tr>\n      <th>65025</th>\n      <td>[{'WhPerMile': 275, 'kWhRequested': 8.25, 'milesRequested': 30, 'minutesAvailable': 374, 'modifiedAt': 'Mon, 01 Jul 2019 19:13:10 GMT', 'paymentRequired': True, 'requestedDeparture': 'Tue, 02 Jul 2019 01:27:11 GMT', 'userID': 2643}]</td>\n    </tr>\n    <tr>\n      <th>65029</th>\n      <td>[{'WhPerMile': 231, 'kWhRequested': 36.96, 'milesRequested': 160, 'minutesAvailable': 310, 'modifiedAt': 'Mon, 01 Jul 2019 19:43:58 GMT', 'paymentRequired': True, 'requestedDeparture': 'Tue, 02 Jul 2019 00:53:46 GMT', 'userID': 394}, {'WhPerMile': 231, 'kWhRequested': 43.89, 'milesRequested': 190, 'minutesAvailable': 443, 'modifiedAt': 'Mon, 01 Jul 2019 20:30:28 GMT', 'paymentRequired': True, 'requestedDeparture': 'Tue, 02 Jul 2019 03:06:46 GMT', 'userID': 394}]</td>\n    </tr>\n    <tr>\n      <th>65031</th>\n      <td>[{'WhPerMile': 300, 'kWhRequested': 12.0, 'milesRequested': 40, 'minutesAvailable': 381, 'modifiedAt': 'Mon, 01 Jul 2019 20:34:29 GMT', 'paymentRequired': True, 'requestedDeparture': 'Tue, 02 Jul 2019 02:55:30 GMT', 'userID': 2276}]</td>\n    </tr>\n    <tr>\n      <th>65032</th>\n      <td>[{'WhPerMile': 400, 'kWhRequested': 32.0, 'milesRequested': 80, 'minutesAvailable': 36, 'modifiedAt': 'Mon, 01 Jul 2019 21:49:37 GMT', 'paymentRequired': True, 'requestedDeparture': 'Mon, 01 Jul 2019 22:25:12 GMT', 'userID': 1346}, {'WhPerMile': 400, 'kWhRequested': 32.0, 'milesRequested': 80, 'minutesAvailable': 36, 'modifiedAt': 'Mon, 01 Jul 2019 21:51:07 GMT', 'paymentRequired': True, 'requestedDeparture': 'Mon, 01 Jul 2019 22:25:12 GMT', 'userID': 1346}]</td>\n    </tr>\n    <tr>\n      <th>65036</th>\n      <td>[{'WhPerMile': 333, 'kWhRequested': 16.65, 'milesRequested': 50, 'minutesAvailable': 191, 'modifiedAt': 'Mon, 01 Jul 2019 22:36:08 GMT', 'paymentRequired': True, 'requestedDeparture': 'Tue, 02 Jul 2019 01:47:08 GMT', 'userID': 2299}]</td>\n    </tr>\n  </tbody>\n</table>\n<p>56536 rows × 1 columns</p>\n</div>"
     },
     "execution_count": 40,
     "metadata": {},
     "output_type": "execute_result"
    }
   ],
   "source": [
    "userInputs = pd.DataFrame(charging_sessions_modified.copy()[\"userInputs\"])\n",
    "userInputs"
   ],
   "metadata": {
    "collapsed": false,
    "ExecuteTime": {
     "end_time": "2024-02-07T16:06:15.939984700Z",
     "start_time": "2024-02-07T16:06:15.712004100Z"
    }
   },
   "id": "ac16aad291939d29"
  },
  {
   "cell_type": "code",
   "execution_count": 41,
   "outputs": [],
   "source": [
    "import numpy as np\n",
    "# Convert string representations of dictionaries to actual dictionaries\n",
    "userInputs['userInputs'] = userInputs['userInputs'].apply(lambda x: ast.literal_eval(x) if isinstance(x, str) and pd.notnull(x) else x)\n",
    "\n",
    "# Define the default dictionary for filling None values within each dictionary\n",
    "default_dict = {'WhPerMile': np.NaN, 'kWhRequested': np.NaN, 'milesRequested': np.NaN,\n",
    "                'minutesAvailable': np.NaN, 'modifiedAt':  np.NaN, 'paymentRequired': None,\n",
    "                'requestedDeparture': np.NaN}\n",
    "\n",
    "# Function to fill None values within a dictionary with the default dictionary\n",
    "def fill_none_values(entry):\n",
    "    if isinstance(entry, dict):\n",
    "        return {key: default_dict[key] if entry.get(key) is None else entry[key] for key in default_dict}\n",
    "    elif isinstance(entry, list) and entry and isinstance(entry[0], dict):\n",
    "        return entry[0]\n",
    "    else:\n",
    "        return default_dict\n",
    "\n",
    "# Apply the fill_none_values function to the \"userInputs\" column\n",
    "userInputs['userInputs'] = userInputs['userInputs'].apply(fill_none_values)\n",
    "\n",
    "# Use json_normalize to flatten the nested dictionaries\n",
    "user_df = json_normalize(userInputs['userInputs'])"
   ],
   "metadata": {
    "collapsed": false,
    "ExecuteTime": {
     "end_time": "2024-02-07T16:06:17.323186300Z",
     "start_time": "2024-02-07T16:06:15.728728700Z"
    }
   },
   "id": "e67fe6e86f2eb833"
  },
  {
   "cell_type": "code",
   "execution_count": 42,
   "outputs": [
    {
     "data": {
      "text/plain": "       WhPerMile  kWhRequested  milesRequested  minutesAvailable  \\\n0          250.0         25.00           100.0             463.0   \n1          280.0         70.00           250.0             595.0   \n2          400.0          8.00            20.0              60.0   \n3          400.0          8.00            20.0              65.0   \n4          400.0         16.00            40.0             504.0   \n...          ...           ...             ...               ...   \n56531      275.0          8.25            30.0             374.0   \n56532      231.0         36.96           160.0             310.0   \n56533      300.0         12.00            40.0             381.0   \n56534      400.0         32.00            80.0              36.0   \n56535      333.0         16.65            50.0             191.0   \n\n                          modifiedAt paymentRequired  \\\n0      Thu, 02 Jan 2020 13:09:39 GMT            True   \n1      Thu, 02 Jan 2020 13:37:11 GMT            True   \n2      Thu, 02 Jan 2020 13:57:17 GMT            True   \n3      Thu, 02 Jan 2020 14:00:03 GMT            True   \n4      Thu, 02 Jan 2020 14:00:13 GMT            True   \n...                              ...             ...   \n56531  Mon, 01 Jul 2019 19:13:10 GMT            True   \n56532  Mon, 01 Jul 2019 19:43:58 GMT            True   \n56533  Mon, 01 Jul 2019 20:34:29 GMT            True   \n56534  Mon, 01 Jul 2019 21:49:37 GMT            True   \n56535  Mon, 01 Jul 2019 22:36:08 GMT            True   \n\n                  requestedDeparture  userID  \n0      Thu, 02 Jan 2020 20:51:54 GMT   194.0  \n1      Thu, 02 Jan 2020 23:31:50 GMT  4275.0  \n2      Thu, 02 Jan 2020 14:56:35 GMT   344.0  \n3      Thu, 02 Jan 2020 15:04:58 GMT  1117.0  \n4      Thu, 02 Jan 2020 22:24:01 GMT   334.0  \n...                              ...     ...  \n56531  Tue, 02 Jul 2019 01:27:11 GMT  2643.0  \n56532  Tue, 02 Jul 2019 00:53:46 GMT   394.0  \n56533  Tue, 02 Jul 2019 02:55:30 GMT  2276.0  \n56534  Mon, 01 Jul 2019 22:25:12 GMT  1346.0  \n56535  Tue, 02 Jul 2019 01:47:08 GMT  2299.0  \n\n[56536 rows x 8 columns]",
      "text/html": "<div>\n<style scoped>\n    .dataframe tbody tr th:only-of-type {\n        vertical-align: middle;\n    }\n\n    .dataframe tbody tr th {\n        vertical-align: top;\n    }\n\n    .dataframe thead th {\n        text-align: right;\n    }\n</style>\n<table border=\"1\" class=\"dataframe\">\n  <thead>\n    <tr style=\"text-align: right;\">\n      <th></th>\n      <th>WhPerMile</th>\n      <th>kWhRequested</th>\n      <th>milesRequested</th>\n      <th>minutesAvailable</th>\n      <th>modifiedAt</th>\n      <th>paymentRequired</th>\n      <th>requestedDeparture</th>\n      <th>userID</th>\n    </tr>\n  </thead>\n  <tbody>\n    <tr>\n      <th>0</th>\n      <td>250.0</td>\n      <td>25.00</td>\n      <td>100.0</td>\n      <td>463.0</td>\n      <td>Thu, 02 Jan 2020 13:09:39 GMT</td>\n      <td>True</td>\n      <td>Thu, 02 Jan 2020 20:51:54 GMT</td>\n      <td>194.0</td>\n    </tr>\n    <tr>\n      <th>1</th>\n      <td>280.0</td>\n      <td>70.00</td>\n      <td>250.0</td>\n      <td>595.0</td>\n      <td>Thu, 02 Jan 2020 13:37:11 GMT</td>\n      <td>True</td>\n      <td>Thu, 02 Jan 2020 23:31:50 GMT</td>\n      <td>4275.0</td>\n    </tr>\n    <tr>\n      <th>2</th>\n      <td>400.0</td>\n      <td>8.00</td>\n      <td>20.0</td>\n      <td>60.0</td>\n      <td>Thu, 02 Jan 2020 13:57:17 GMT</td>\n      <td>True</td>\n      <td>Thu, 02 Jan 2020 14:56:35 GMT</td>\n      <td>344.0</td>\n    </tr>\n    <tr>\n      <th>3</th>\n      <td>400.0</td>\n      <td>8.00</td>\n      <td>20.0</td>\n      <td>65.0</td>\n      <td>Thu, 02 Jan 2020 14:00:03 GMT</td>\n      <td>True</td>\n      <td>Thu, 02 Jan 2020 15:04:58 GMT</td>\n      <td>1117.0</td>\n    </tr>\n    <tr>\n      <th>4</th>\n      <td>400.0</td>\n      <td>16.00</td>\n      <td>40.0</td>\n      <td>504.0</td>\n      <td>Thu, 02 Jan 2020 14:00:13 GMT</td>\n      <td>True</td>\n      <td>Thu, 02 Jan 2020 22:24:01 GMT</td>\n      <td>334.0</td>\n    </tr>\n    <tr>\n      <th>...</th>\n      <td>...</td>\n      <td>...</td>\n      <td>...</td>\n      <td>...</td>\n      <td>...</td>\n      <td>...</td>\n      <td>...</td>\n      <td>...</td>\n    </tr>\n    <tr>\n      <th>56531</th>\n      <td>275.0</td>\n      <td>8.25</td>\n      <td>30.0</td>\n      <td>374.0</td>\n      <td>Mon, 01 Jul 2019 19:13:10 GMT</td>\n      <td>True</td>\n      <td>Tue, 02 Jul 2019 01:27:11 GMT</td>\n      <td>2643.0</td>\n    </tr>\n    <tr>\n      <th>56532</th>\n      <td>231.0</td>\n      <td>36.96</td>\n      <td>160.0</td>\n      <td>310.0</td>\n      <td>Mon, 01 Jul 2019 19:43:58 GMT</td>\n      <td>True</td>\n      <td>Tue, 02 Jul 2019 00:53:46 GMT</td>\n      <td>394.0</td>\n    </tr>\n    <tr>\n      <th>56533</th>\n      <td>300.0</td>\n      <td>12.00</td>\n      <td>40.0</td>\n      <td>381.0</td>\n      <td>Mon, 01 Jul 2019 20:34:29 GMT</td>\n      <td>True</td>\n      <td>Tue, 02 Jul 2019 02:55:30 GMT</td>\n      <td>2276.0</td>\n    </tr>\n    <tr>\n      <th>56534</th>\n      <td>400.0</td>\n      <td>32.00</td>\n      <td>80.0</td>\n      <td>36.0</td>\n      <td>Mon, 01 Jul 2019 21:49:37 GMT</td>\n      <td>True</td>\n      <td>Mon, 01 Jul 2019 22:25:12 GMT</td>\n      <td>1346.0</td>\n    </tr>\n    <tr>\n      <th>56535</th>\n      <td>333.0</td>\n      <td>16.65</td>\n      <td>50.0</td>\n      <td>191.0</td>\n      <td>Mon, 01 Jul 2019 22:36:08 GMT</td>\n      <td>True</td>\n      <td>Tue, 02 Jul 2019 01:47:08 GMT</td>\n      <td>2299.0</td>\n    </tr>\n  </tbody>\n</table>\n<p>56536 rows × 8 columns</p>\n</div>"
     },
     "execution_count": 42,
     "metadata": {},
     "output_type": "execute_result"
    }
   ],
   "source": [
    "user_df"
   ],
   "metadata": {
    "collapsed": false,
    "ExecuteTime": {
     "end_time": "2024-02-07T16:06:17.353396600Z",
     "start_time": "2024-02-07T16:06:17.323186300Z"
    }
   },
   "id": "ba5931a5d2bbd021"
  },
  {
   "cell_type": "code",
   "execution_count": 43,
   "outputs": [
    {
     "name": "stdout",
     "output_type": "stream",
     "text": [
      "<class 'pandas.core.frame.DataFrame'>\n",
      "RangeIndex: 56536 entries, 0 to 56535\n",
      "Data columns (total 8 columns):\n",
      " #   Column              Non-Null Count  Dtype  \n",
      "---  ------              --------------  -----  \n",
      " 0   WhPerMile           41309 non-null  float64\n",
      " 1   kWhRequested        41309 non-null  float64\n",
      " 2   milesRequested      41309 non-null  float64\n",
      " 3   minutesAvailable    41309 non-null  float64\n",
      " 4   modifiedAt          41309 non-null  object \n",
      " 5   paymentRequired     41309 non-null  object \n",
      " 6   requestedDeparture  41309 non-null  object \n",
      " 7   userID              41309 non-null  float64\n",
      "dtypes: float64(5), object(3)\n",
      "memory usage: 3.5+ MB\n"
     ]
    },
    {
     "data": {
      "text/plain": "          WhPerMile  kWhRequested  milesRequested  minutesAvailable  \\\ncount  41309.000000  41309.000000    41309.000000      41309.000000   \nmean     363.481614     24.176610       71.077634        357.868237   \nstd      102.904382     20.367215       59.569050        188.950229   \nmin       50.000000      0.000000        0.000000          1.000000   \n25%      290.000000     12.000000       30.000000        196.000000   \n50%      360.000000     18.000000       50.000000        360.000000   \n75%      400.000000     30.000000      100.000000        501.000000   \nmax     2000.000000    215.320000      480.000000       1913.000000   \n\n             userID  \ncount  41309.000000  \nmean    1730.028662  \nstd     2523.718804  \nmin        1.000000  \n25%      438.000000  \n50%      766.000000  \n75%     1746.000000  \nmax    19923.000000  ",
      "text/html": "<div>\n<style scoped>\n    .dataframe tbody tr th:only-of-type {\n        vertical-align: middle;\n    }\n\n    .dataframe tbody tr th {\n        vertical-align: top;\n    }\n\n    .dataframe thead th {\n        text-align: right;\n    }\n</style>\n<table border=\"1\" class=\"dataframe\">\n  <thead>\n    <tr style=\"text-align: right;\">\n      <th></th>\n      <th>WhPerMile</th>\n      <th>kWhRequested</th>\n      <th>milesRequested</th>\n      <th>minutesAvailable</th>\n      <th>userID</th>\n    </tr>\n  </thead>\n  <tbody>\n    <tr>\n      <th>count</th>\n      <td>41309.000000</td>\n      <td>41309.000000</td>\n      <td>41309.000000</td>\n      <td>41309.000000</td>\n      <td>41309.000000</td>\n    </tr>\n    <tr>\n      <th>mean</th>\n      <td>363.481614</td>\n      <td>24.176610</td>\n      <td>71.077634</td>\n      <td>357.868237</td>\n      <td>1730.028662</td>\n    </tr>\n    <tr>\n      <th>std</th>\n      <td>102.904382</td>\n      <td>20.367215</td>\n      <td>59.569050</td>\n      <td>188.950229</td>\n      <td>2523.718804</td>\n    </tr>\n    <tr>\n      <th>min</th>\n      <td>50.000000</td>\n      <td>0.000000</td>\n      <td>0.000000</td>\n      <td>1.000000</td>\n      <td>1.000000</td>\n    </tr>\n    <tr>\n      <th>25%</th>\n      <td>290.000000</td>\n      <td>12.000000</td>\n      <td>30.000000</td>\n      <td>196.000000</td>\n      <td>438.000000</td>\n    </tr>\n    <tr>\n      <th>50%</th>\n      <td>360.000000</td>\n      <td>18.000000</td>\n      <td>50.000000</td>\n      <td>360.000000</td>\n      <td>766.000000</td>\n    </tr>\n    <tr>\n      <th>75%</th>\n      <td>400.000000</td>\n      <td>30.000000</td>\n      <td>100.000000</td>\n      <td>501.000000</td>\n      <td>1746.000000</td>\n    </tr>\n    <tr>\n      <th>max</th>\n      <td>2000.000000</td>\n      <td>215.320000</td>\n      <td>480.000000</td>\n      <td>1913.000000</td>\n      <td>19923.000000</td>\n    </tr>\n  </tbody>\n</table>\n</div>"
     },
     "execution_count": 43,
     "metadata": {},
     "output_type": "execute_result"
    }
   ],
   "source": [
    "user_df.info()\n",
    "user_df.describe()"
   ],
   "metadata": {
    "collapsed": false,
    "ExecuteTime": {
     "end_time": "2024-02-07T16:06:17.409092300Z",
     "start_time": "2024-02-07T16:06:17.339349Z"
    }
   },
   "id": "6f17a78618137a9b"
  },
  {
   "cell_type": "markdown",
   "source": [
    "Combine this with the rest of the data and drop the now redundant userInputs column"
   ],
   "metadata": {
    "collapsed": false
   },
   "id": "fe6fca8bf1ce6868"
  },
  {
   "cell_type": "code",
   "execution_count": 44,
   "outputs": [],
   "source": [
    "#Reset the index of both dataframes, because we have dropped some values\n",
    "user_df.reset_index(drop=True, inplace=True)\n",
    "charging_sessions_modified.reset_index(drop=True, inplace=True)\n",
    "user_df.drop(columns=[\"userID\"], inplace=True) #drop this so we dont duplicate it in the concatenated dataframe\n",
    "charging_sessions_modified = pd.concat([charging_sessions_modified,user_df], axis = 1)\n",
    "charging_sessions_modified.drop(columns= [\"userInputs\"], inplace= True )"
   ],
   "metadata": {
    "collapsed": false,
    "ExecuteTime": {
     "end_time": "2024-02-07T16:06:17.412095100Z",
     "start_time": "2024-02-07T16:06:17.370452400Z"
    }
   },
   "id": "f13bfab2caac0499"
  },
  {
   "cell_type": "code",
   "execution_count": 45,
   "outputs": [
    {
     "data": {
      "text/plain": "                 connectionTime            disconnectTime  \\\n0     2020-01-02 13:08:54+00:00 2020-01-02 19:11:15+00:00   \n1     2020-01-02 13:36:50+00:00 2020-01-02 22:38:21+00:00   \n2     2020-01-02 13:56:35+00:00 2020-01-03 00:39:22+00:00   \n3     2020-01-02 13:59:58+00:00 2020-01-02 16:38:39+00:00   \n4     2020-01-02 14:00:01+00:00 2020-01-02 22:08:40+00:00   \n...                         ...                       ...   \n56531 2019-07-01 19:13:11+00:00 2019-07-02 00:44:40+00:00   \n56532 2019-07-01 19:43:46+00:00 2019-07-02 02:58:53+00:00   \n56533 2019-07-01 20:34:30+00:00 2019-07-02 00:30:52+00:00   \n56534 2019-07-01 21:49:12+00:00 2019-07-02 01:37:18+00:00   \n56535 2019-07-01 22:36:08+00:00 2019-07-02 01:10:52+00:00   \n\n               doneChargingTime  kWhDelivered  siteID  userID  \\\n0     2020-01-02 17:31:35+00:00        25.016       1   194.0   \n1     2020-01-02 20:18:05+00:00        33.097       1  4275.0   \n2     2020-01-02 16:35:06+00:00         6.521       1   344.0   \n3     2020-01-02 15:18:45+00:00         2.355       1  1117.0   \n4     2020-01-02 18:17:30+00:00        13.375       1   334.0   \n...                         ...           ...     ...     ...   \n56531 2019-07-01 21:13:56+00:00         6.048       1  2643.0   \n56532 2019-07-02 02:43:53+00:00        41.047       1   394.0   \n56533 2019-07-01 21:27:44+00:00         5.390       1  2276.0   \n56534 2019-07-01 23:14:33+00:00         8.399       1  1346.0   \n56535 2019-07-02 00:24:32+00:00        10.241       1  2299.0   \n\n      combinedSpaceStationID  timeConnected  idleTime  chargingTime  weekday  \\\n0        AG-3F30/1-1-179-810        21741.0    5980.0       15761.0        3   \n1        AG-1F01/1-1-193-825        32491.0    8416.0       24075.0        3   \n2        AG-1F03/1-1-193-829        38567.0   29056.0        9511.0        3   \n3        AG-1F04/1-1-193-820         9521.0    4794.0        4727.0        3   \n4        AG-1F06/1-1-193-819        29319.0   13870.0       15449.0        3   \n...                      ...            ...       ...           ...      ...   \n56531    AG-3F23/1-1-179-797        19889.0   12644.0        7245.0        0   \n56532    AG-4F38/1-1-191-793        26107.0     900.0       25207.0        0   \n56533    AG-3F15/1-1-179-813        14182.0   10988.0        3194.0        0   \n56534    AG-3F18/1-1-179-798        13686.0    8565.0        5121.0        0   \n56535    AG-1F06/1-1-193-819         9284.0    2780.0        6504.0        0   \n\n       month      time  WhPerMile  kWhRequested  milesRequested  \\\n0          1  13:08:54      250.0         25.00           100.0   \n1          1  13:36:50      280.0         70.00           250.0   \n2          1  13:56:35      400.0          8.00            20.0   \n3          1  13:59:58      400.0          8.00            20.0   \n4          1  14:00:01      400.0         16.00            40.0   \n...      ...       ...        ...           ...             ...   \n56531      7  19:13:11      275.0          8.25            30.0   \n56532      7  19:43:46      231.0         36.96           160.0   \n56533      7  20:34:30      300.0         12.00            40.0   \n56534      7  21:49:12      400.0         32.00            80.0   \n56535      7  22:36:08      333.0         16.65            50.0   \n\n       minutesAvailable                     modifiedAt paymentRequired  \\\n0                 463.0  Thu, 02 Jan 2020 13:09:39 GMT            True   \n1                 595.0  Thu, 02 Jan 2020 13:37:11 GMT            True   \n2                  60.0  Thu, 02 Jan 2020 13:57:17 GMT            True   \n3                  65.0  Thu, 02 Jan 2020 14:00:03 GMT            True   \n4                 504.0  Thu, 02 Jan 2020 14:00:13 GMT            True   \n...                 ...                            ...             ...   \n56531             374.0  Mon, 01 Jul 2019 19:13:10 GMT            True   \n56532             310.0  Mon, 01 Jul 2019 19:43:58 GMT            True   \n56533             381.0  Mon, 01 Jul 2019 20:34:29 GMT            True   \n56534              36.0  Mon, 01 Jul 2019 21:49:37 GMT            True   \n56535             191.0  Mon, 01 Jul 2019 22:36:08 GMT            True   \n\n                  requestedDeparture  \n0      Thu, 02 Jan 2020 20:51:54 GMT  \n1      Thu, 02 Jan 2020 23:31:50 GMT  \n2      Thu, 02 Jan 2020 14:56:35 GMT  \n3      Thu, 02 Jan 2020 15:04:58 GMT  \n4      Thu, 02 Jan 2020 22:24:01 GMT  \n...                              ...  \n56531  Tue, 02 Jul 2019 01:27:11 GMT  \n56532  Tue, 02 Jul 2019 00:53:46 GMT  \n56533  Tue, 02 Jul 2019 02:55:30 GMT  \n56534  Mon, 01 Jul 2019 22:25:12 GMT  \n56535  Tue, 02 Jul 2019 01:47:08 GMT  \n\n[56536 rows x 20 columns]",
      "text/html": "<div>\n<style scoped>\n    .dataframe tbody tr th:only-of-type {\n        vertical-align: middle;\n    }\n\n    .dataframe tbody tr th {\n        vertical-align: top;\n    }\n\n    .dataframe thead th {\n        text-align: right;\n    }\n</style>\n<table border=\"1\" class=\"dataframe\">\n  <thead>\n    <tr style=\"text-align: right;\">\n      <th></th>\n      <th>connectionTime</th>\n      <th>disconnectTime</th>\n      <th>doneChargingTime</th>\n      <th>kWhDelivered</th>\n      <th>siteID</th>\n      <th>userID</th>\n      <th>combinedSpaceStationID</th>\n      <th>timeConnected</th>\n      <th>idleTime</th>\n      <th>chargingTime</th>\n      <th>weekday</th>\n      <th>month</th>\n      <th>time</th>\n      <th>WhPerMile</th>\n      <th>kWhRequested</th>\n      <th>milesRequested</th>\n      <th>minutesAvailable</th>\n      <th>modifiedAt</th>\n      <th>paymentRequired</th>\n      <th>requestedDeparture</th>\n    </tr>\n  </thead>\n  <tbody>\n    <tr>\n      <th>0</th>\n      <td>2020-01-02 13:08:54+00:00</td>\n      <td>2020-01-02 19:11:15+00:00</td>\n      <td>2020-01-02 17:31:35+00:00</td>\n      <td>25.016</td>\n      <td>1</td>\n      <td>194.0</td>\n      <td>AG-3F30/1-1-179-810</td>\n      <td>21741.0</td>\n      <td>5980.0</td>\n      <td>15761.0</td>\n      <td>3</td>\n      <td>1</td>\n      <td>13:08:54</td>\n      <td>250.0</td>\n      <td>25.00</td>\n      <td>100.0</td>\n      <td>463.0</td>\n      <td>Thu, 02 Jan 2020 13:09:39 GMT</td>\n      <td>True</td>\n      <td>Thu, 02 Jan 2020 20:51:54 GMT</td>\n    </tr>\n    <tr>\n      <th>1</th>\n      <td>2020-01-02 13:36:50+00:00</td>\n      <td>2020-01-02 22:38:21+00:00</td>\n      <td>2020-01-02 20:18:05+00:00</td>\n      <td>33.097</td>\n      <td>1</td>\n      <td>4275.0</td>\n      <td>AG-1F01/1-1-193-825</td>\n      <td>32491.0</td>\n      <td>8416.0</td>\n      <td>24075.0</td>\n      <td>3</td>\n      <td>1</td>\n      <td>13:36:50</td>\n      <td>280.0</td>\n      <td>70.00</td>\n      <td>250.0</td>\n      <td>595.0</td>\n      <td>Thu, 02 Jan 2020 13:37:11 GMT</td>\n      <td>True</td>\n      <td>Thu, 02 Jan 2020 23:31:50 GMT</td>\n    </tr>\n    <tr>\n      <th>2</th>\n      <td>2020-01-02 13:56:35+00:00</td>\n      <td>2020-01-03 00:39:22+00:00</td>\n      <td>2020-01-02 16:35:06+00:00</td>\n      <td>6.521</td>\n      <td>1</td>\n      <td>344.0</td>\n      <td>AG-1F03/1-1-193-829</td>\n      <td>38567.0</td>\n      <td>29056.0</td>\n      <td>9511.0</td>\n      <td>3</td>\n      <td>1</td>\n      <td>13:56:35</td>\n      <td>400.0</td>\n      <td>8.00</td>\n      <td>20.0</td>\n      <td>60.0</td>\n      <td>Thu, 02 Jan 2020 13:57:17 GMT</td>\n      <td>True</td>\n      <td>Thu, 02 Jan 2020 14:56:35 GMT</td>\n    </tr>\n    <tr>\n      <th>3</th>\n      <td>2020-01-02 13:59:58+00:00</td>\n      <td>2020-01-02 16:38:39+00:00</td>\n      <td>2020-01-02 15:18:45+00:00</td>\n      <td>2.355</td>\n      <td>1</td>\n      <td>1117.0</td>\n      <td>AG-1F04/1-1-193-820</td>\n      <td>9521.0</td>\n      <td>4794.0</td>\n      <td>4727.0</td>\n      <td>3</td>\n      <td>1</td>\n      <td>13:59:58</td>\n      <td>400.0</td>\n      <td>8.00</td>\n      <td>20.0</td>\n      <td>65.0</td>\n      <td>Thu, 02 Jan 2020 14:00:03 GMT</td>\n      <td>True</td>\n      <td>Thu, 02 Jan 2020 15:04:58 GMT</td>\n    </tr>\n    <tr>\n      <th>4</th>\n      <td>2020-01-02 14:00:01+00:00</td>\n      <td>2020-01-02 22:08:40+00:00</td>\n      <td>2020-01-02 18:17:30+00:00</td>\n      <td>13.375</td>\n      <td>1</td>\n      <td>334.0</td>\n      <td>AG-1F06/1-1-193-819</td>\n      <td>29319.0</td>\n      <td>13870.0</td>\n      <td>15449.0</td>\n      <td>3</td>\n      <td>1</td>\n      <td>14:00:01</td>\n      <td>400.0</td>\n      <td>16.00</td>\n      <td>40.0</td>\n      <td>504.0</td>\n      <td>Thu, 02 Jan 2020 14:00:13 GMT</td>\n      <td>True</td>\n      <td>Thu, 02 Jan 2020 22:24:01 GMT</td>\n    </tr>\n    <tr>\n      <th>...</th>\n      <td>...</td>\n      <td>...</td>\n      <td>...</td>\n      <td>...</td>\n      <td>...</td>\n      <td>...</td>\n      <td>...</td>\n      <td>...</td>\n      <td>...</td>\n      <td>...</td>\n      <td>...</td>\n      <td>...</td>\n      <td>...</td>\n      <td>...</td>\n      <td>...</td>\n      <td>...</td>\n      <td>...</td>\n      <td>...</td>\n      <td>...</td>\n      <td>...</td>\n    </tr>\n    <tr>\n      <th>56531</th>\n      <td>2019-07-01 19:13:11+00:00</td>\n      <td>2019-07-02 00:44:40+00:00</td>\n      <td>2019-07-01 21:13:56+00:00</td>\n      <td>6.048</td>\n      <td>1</td>\n      <td>2643.0</td>\n      <td>AG-3F23/1-1-179-797</td>\n      <td>19889.0</td>\n      <td>12644.0</td>\n      <td>7245.0</td>\n      <td>0</td>\n      <td>7</td>\n      <td>19:13:11</td>\n      <td>275.0</td>\n      <td>8.25</td>\n      <td>30.0</td>\n      <td>374.0</td>\n      <td>Mon, 01 Jul 2019 19:13:10 GMT</td>\n      <td>True</td>\n      <td>Tue, 02 Jul 2019 01:27:11 GMT</td>\n    </tr>\n    <tr>\n      <th>56532</th>\n      <td>2019-07-01 19:43:46+00:00</td>\n      <td>2019-07-02 02:58:53+00:00</td>\n      <td>2019-07-02 02:43:53+00:00</td>\n      <td>41.047</td>\n      <td>1</td>\n      <td>394.0</td>\n      <td>AG-4F38/1-1-191-793</td>\n      <td>26107.0</td>\n      <td>900.0</td>\n      <td>25207.0</td>\n      <td>0</td>\n      <td>7</td>\n      <td>19:43:46</td>\n      <td>231.0</td>\n      <td>36.96</td>\n      <td>160.0</td>\n      <td>310.0</td>\n      <td>Mon, 01 Jul 2019 19:43:58 GMT</td>\n      <td>True</td>\n      <td>Tue, 02 Jul 2019 00:53:46 GMT</td>\n    </tr>\n    <tr>\n      <th>56533</th>\n      <td>2019-07-01 20:34:30+00:00</td>\n      <td>2019-07-02 00:30:52+00:00</td>\n      <td>2019-07-01 21:27:44+00:00</td>\n      <td>5.390</td>\n      <td>1</td>\n      <td>2276.0</td>\n      <td>AG-3F15/1-1-179-813</td>\n      <td>14182.0</td>\n      <td>10988.0</td>\n      <td>3194.0</td>\n      <td>0</td>\n      <td>7</td>\n      <td>20:34:30</td>\n      <td>300.0</td>\n      <td>12.00</td>\n      <td>40.0</td>\n      <td>381.0</td>\n      <td>Mon, 01 Jul 2019 20:34:29 GMT</td>\n      <td>True</td>\n      <td>Tue, 02 Jul 2019 02:55:30 GMT</td>\n    </tr>\n    <tr>\n      <th>56534</th>\n      <td>2019-07-01 21:49:12+00:00</td>\n      <td>2019-07-02 01:37:18+00:00</td>\n      <td>2019-07-01 23:14:33+00:00</td>\n      <td>8.399</td>\n      <td>1</td>\n      <td>1346.0</td>\n      <td>AG-3F18/1-1-179-798</td>\n      <td>13686.0</td>\n      <td>8565.0</td>\n      <td>5121.0</td>\n      <td>0</td>\n      <td>7</td>\n      <td>21:49:12</td>\n      <td>400.0</td>\n      <td>32.00</td>\n      <td>80.0</td>\n      <td>36.0</td>\n      <td>Mon, 01 Jul 2019 21:49:37 GMT</td>\n      <td>True</td>\n      <td>Mon, 01 Jul 2019 22:25:12 GMT</td>\n    </tr>\n    <tr>\n      <th>56535</th>\n      <td>2019-07-01 22:36:08+00:00</td>\n      <td>2019-07-02 01:10:52+00:00</td>\n      <td>2019-07-02 00:24:32+00:00</td>\n      <td>10.241</td>\n      <td>1</td>\n      <td>2299.0</td>\n      <td>AG-1F06/1-1-193-819</td>\n      <td>9284.0</td>\n      <td>2780.0</td>\n      <td>6504.0</td>\n      <td>0</td>\n      <td>7</td>\n      <td>22:36:08</td>\n      <td>333.0</td>\n      <td>16.65</td>\n      <td>50.0</td>\n      <td>191.0</td>\n      <td>Mon, 01 Jul 2019 22:36:08 GMT</td>\n      <td>True</td>\n      <td>Tue, 02 Jul 2019 01:47:08 GMT</td>\n    </tr>\n  </tbody>\n</table>\n<p>56536 rows × 20 columns</p>\n</div>"
     },
     "execution_count": 45,
     "metadata": {},
     "output_type": "execute_result"
    }
   ],
   "source": [
    "charging_sessions_modified"
   ],
   "metadata": {
    "collapsed": false,
    "ExecuteTime": {
     "end_time": "2024-02-07T16:06:17.412095100Z",
     "start_time": "2024-02-07T16:06:17.386529500Z"
    }
   },
   "id": "4ef87571232316b8"
  },
  {
   "cell_type": "code",
   "execution_count": 46,
   "outputs": [],
   "source": [
    "#Split data into sites 1 and 2\n",
    "site_1_data = charging_sessions_modified[charging_sessions_modified['siteID']==1].copy()\n",
    "site_2_data = charging_sessions_modified[charging_sessions_modified['siteID']==2].copy()"
   ],
   "metadata": {
    "collapsed": false,
    "ExecuteTime": {
     "end_time": "2024-02-07T16:06:17.493424100Z",
     "start_time": "2024-02-07T16:06:17.405578200Z"
    }
   }
  },
  {
   "cell_type": "code",
   "execution_count": 47,
   "outputs": [
    {
     "name": "stdout",
     "output_type": "stream",
     "text": [
      "<class 'pandas.core.frame.DataFrame'>\n",
      "Index: 28384 entries, 0 to 56535\n",
      "Data columns (total 20 columns):\n",
      " #   Column                  Non-Null Count  Dtype              \n",
      "---  ------                  --------------  -----              \n",
      " 0   connectionTime          28384 non-null  datetime64[ns, UTC]\n",
      " 1   disconnectTime          28384 non-null  datetime64[ns, UTC]\n",
      " 2   doneChargingTime        28384 non-null  datetime64[ns, UTC]\n",
      " 3   kWhDelivered            28384 non-null  float64            \n",
      " 4   siteID                  28384 non-null  int64              \n",
      " 5   userID                  27091 non-null  float64            \n",
      " 6   combinedSpaceStationID  28384 non-null  object             \n",
      " 7   timeConnected           28384 non-null  float64            \n",
      " 8   idleTime                28384 non-null  float64            \n",
      " 9   chargingTime            28384 non-null  float64            \n",
      " 10  weekday                 28384 non-null  int32              \n",
      " 11  month                   28384 non-null  int32              \n",
      " 12  time                    28384 non-null  object             \n",
      " 13  WhPerMile               27091 non-null  float64            \n",
      " 14  kWhRequested            27091 non-null  float64            \n",
      " 15  milesRequested          27091 non-null  float64            \n",
      " 16  minutesAvailable        27091 non-null  float64            \n",
      " 17  modifiedAt              27091 non-null  object             \n",
      " 18  paymentRequired         27091 non-null  object             \n",
      " 19  requestedDeparture      27091 non-null  object             \n",
      "dtypes: datetime64[ns, UTC](3), float64(9), int32(2), int64(1), object(5)\n",
      "memory usage: 4.3+ MB\n",
      "<class 'pandas.core.frame.DataFrame'>\n",
      "Index: 28152 entries, 16736 to 44887\n",
      "Data columns (total 20 columns):\n",
      " #   Column                  Non-Null Count  Dtype              \n",
      "---  ------                  --------------  -----              \n",
      " 0   connectionTime          28152 non-null  datetime64[ns, UTC]\n",
      " 1   disconnectTime          28152 non-null  datetime64[ns, UTC]\n",
      " 2   doneChargingTime        28152 non-null  datetime64[ns, UTC]\n",
      " 3   kWhDelivered            28152 non-null  float64            \n",
      " 4   siteID                  28152 non-null  int64              \n",
      " 5   userID                  14218 non-null  float64            \n",
      " 6   combinedSpaceStationID  28152 non-null  object             \n",
      " 7   timeConnected           28152 non-null  float64            \n",
      " 8   idleTime                28152 non-null  float64            \n",
      " 9   chargingTime            28152 non-null  float64            \n",
      " 10  weekday                 28152 non-null  int32              \n",
      " 11  month                   28152 non-null  int32              \n",
      " 12  time                    28152 non-null  object             \n",
      " 13  WhPerMile               14218 non-null  float64            \n",
      " 14  kWhRequested            14218 non-null  float64            \n",
      " 15  milesRequested          14218 non-null  float64            \n",
      " 16  minutesAvailable        14218 non-null  float64            \n",
      " 17  modifiedAt              14218 non-null  object             \n",
      " 18  paymentRequired         14218 non-null  object             \n",
      " 19  requestedDeparture      14218 non-null  object             \n",
      "dtypes: datetime64[ns, UTC](3), float64(9), int32(2), int64(1), object(5)\n",
      "memory usage: 4.3+ MB\n"
     ]
    }
   ],
   "source": [
    "site_1_data.info()\n",
    "site_2_data.info()"
   ],
   "metadata": {
    "collapsed": false,
    "ExecuteTime": {
     "end_time": "2024-02-07T16:06:17.559085100Z",
     "start_time": "2024-02-07T16:06:17.431764Z"
    }
   }
  },
  {
   "cell_type": "code",
   "execution_count": 48,
   "outputs": [],
   "source": [
    "site_1_data.reset_index(inplace=True)\n",
    "site_2_data.reset_index(inplace=True)"
   ],
   "metadata": {
    "collapsed": false,
    "ExecuteTime": {
     "end_time": "2024-02-07T16:06:17.580867200Z",
     "start_time": "2024-02-07T16:06:17.448639Z"
    }
   }
  },
  {
   "cell_type": "code",
   "execution_count": 49,
   "outputs": [],
   "source": [
    "# Drop the siteID, it's no longer needed\n",
    "site_1_data.drop(columns=['siteID'], inplace=True)\n",
    "site_2_data.drop(columns=['siteID'], inplace=True)"
   ],
   "metadata": {
    "collapsed": false,
    "ExecuteTime": {
     "end_time": "2024-02-07T16:06:17.599763100Z",
     "start_time": "2024-02-07T16:06:17.495933200Z"
    }
   }
  },
  {
   "cell_type": "code",
   "execution_count": 50,
   "outputs": [
    {
     "data": {
      "text/plain": "index                     28384\nconnectionTime            28275\ndisconnectTime            28338\ndoneChargingTime          28210\nkWhDelivered              17173\nuserID                      499\ncombinedSpaceStationID       52\ntimeConnected             15864\nidleTime                  15933\nchargingTime              16894\nweekday                       7\nmonth                        12\ntime                      18054\nWhPerMile                   144\nkWhRequested                860\nmilesRequested               75\nminutesAvailable            781\nmodifiedAt                26996\npaymentRequired               1\nrequestedDeparture        27070\ndtype: int64"
     },
     "execution_count": 50,
     "metadata": {},
     "output_type": "execute_result"
    }
   ],
   "source": [
    "# Check for unique space/station id's so we know the maximum number of parking spaces available\n",
    "site_1_data.nunique()"
   ],
   "metadata": {
    "collapsed": false,
    "ExecuteTime": {
     "end_time": "2024-02-07T16:06:17.633413400Z",
     "start_time": "2024-02-07T16:06:17.511479600Z"
    }
   }
  },
  {
   "cell_type": "code",
   "execution_count": 51,
   "outputs": [
    {
     "data": {
      "text/plain": "index                     28152\nconnectionTime            28113\ndisconnectTime            28116\ndoneChargingTime          28036\nkWhDelivered              14399\nuserID                      455\ncombinedSpaceStationID       54\ntimeConnected             17936\nidleTime                  13304\nchargingTime              13690\nweekday                       7\nmonth                        12\ntime                      20896\nWhPerMile                   110\nkWhRequested                580\nmilesRequested               65\nminutesAvailable            673\nmodifiedAt                14211\npaymentRequired               1\nrequestedDeparture        14214\ndtype: int64"
     },
     "execution_count": 51,
     "metadata": {},
     "output_type": "execute_result"
    }
   ],
   "source": [
    "site_2_data.nunique()"
   ],
   "metadata": {
    "collapsed": false,
    "ExecuteTime": {
     "end_time": "2024-02-07T16:06:17.633919500Z",
     "start_time": "2024-02-07T16:06:17.542469100Z"
    }
   }
  },
  {
   "cell_type": "code",
   "execution_count": 52,
   "outputs": [
    {
     "data": {
      "text/plain": "count                                  28384\nmean     2019-11-25 14:02:36.180030976+00:00\nmin                2018-10-08 13:01:34+00:00\n25%                2019-03-23 16:25:15+00:00\n50%         2019-09-09 14:38:51.500000+00:00\n75%      2020-05-03 16:18:13.249999872+00:00\nmax                2021-09-14 05:43:39+00:00\nName: connectionTime, dtype: object"
     },
     "execution_count": 52,
     "metadata": {},
     "output_type": "execute_result"
    }
   ],
   "source": [
    "site_1_data[\"connectionTime\"].describe()"
   ],
   "metadata": {
    "collapsed": false,
    "ExecuteTime": {
     "end_time": "2024-02-07T16:06:17.633919500Z",
     "start_time": "2024-02-07T16:06:17.573524600Z"
    }
   }
  },
  {
   "cell_type": "code",
   "execution_count": 53,
   "outputs": [
    {
     "data": {
      "text/plain": "count                                  28384\nmean     2019-11-25 21:14:20.177388800+00:00\nmin                2018-10-09 00:05:33+00:00\n25%         2019-03-23 21:59:39.500000+00:00\n50%         2019-09-10 00:18:44.500000+00:00\n75%                2020-05-03 20:52:27+00:00\nmax                2021-09-14 14:46:28+00:00\nName: disconnectTime, dtype: object"
     },
     "execution_count": 53,
     "metadata": {},
     "output_type": "execute_result"
    }
   ],
   "source": [
    "site_1_data[\"disconnectTime\"].describe()"
   ],
   "metadata": {
    "collapsed": false,
    "ExecuteTime": {
     "end_time": "2024-02-07T16:06:17.634925200Z",
     "start_time": "2024-02-07T16:06:17.594735500Z"
    }
   }
  },
  {
   "cell_type": "code",
   "execution_count": 54,
   "outputs": [
    {
     "data": {
      "text/plain": "count                                  28152\nmean     2019-03-23 08:26:24.915210240+00:00\nmin                2018-04-25 13:45:10+00:00\n25%         2018-08-20 10:28:28.500000+00:00\n50%                2018-12-12 17:03:21+00:00\n75%      2019-08-27 12:31:18.750000128+00:00\nmax                2021-09-13 23:11:12+00:00\nName: connectionTime, dtype: object"
     },
     "execution_count": 54,
     "metadata": {},
     "output_type": "execute_result"
    }
   ],
   "source": [
    "site_2_data[\"connectionTime\"].describe()"
   ],
   "metadata": {
    "collapsed": false,
    "ExecuteTime": {
     "end_time": "2024-02-07T16:06:17.634925200Z",
     "start_time": "2024-02-07T16:06:17.605283900Z"
    }
   }
  },
  {
   "cell_type": "code",
   "execution_count": 55,
   "outputs": [
    {
     "data": {
      "text/plain": "count                                  28152\nmean     2019-03-23 14:18:31.080917760+00:00\nmin                2018-04-25 18:15:46+00:00\n25%         2018-08-20 16:33:31.500000+00:00\n50%         2018-12-13 01:32:46.500000+00:00\n75%      2019-08-27 17:28:13.750000128+00:00\nmax                2021-09-14 02:22:25+00:00\nName: disconnectTime, dtype: object"
     },
     "execution_count": 55,
     "metadata": {},
     "output_type": "execute_result"
    }
   ],
   "source": [
    "site_2_data[\"disconnectTime\"].describe()"
   ],
   "metadata": {
    "collapsed": false,
    "ExecuteTime": {
     "end_time": "2024-02-07T16:06:17.635924Z",
     "start_time": "2024-02-07T16:06:17.619341200Z"
    }
   }
  },
  {
   "cell_type": "code",
   "execution_count": 56,
   "outputs": [],
   "source": [
    "# Create a dataframe with dates from the first to the last day of the charging sessions available. Because these differ for both sites, we need to do this for each respectively. Add a timedelta of 12 hours to site 2 disconnect, otherwise it would cut off the last day due to the hour of the timestamp\n",
    "date_frame_site_1 = pd.DataFrame(pd.date_range(start=site_1_data[\"connectionTime\"].min(), end = site_1_data[\"disconnectTime\"].max()))\n",
    "date_frame_site_2 = pd.DataFrame(pd.date_range(start=site_2_data[\"connectionTime\"].min(), end = (site_2_data[\"disconnectTime\"].max() + timedelta(hours = 12))))"
   ],
   "metadata": {
    "collapsed": false,
    "ExecuteTime": {
     "end_time": "2024-02-07T16:06:17.664140500Z",
     "start_time": "2024-02-07T16:06:17.635924Z"
    }
   }
  },
  {
   "cell_type": "code",
   "execution_count": 57,
   "outputs": [
    {
     "data": {
      "text/plain": "                             0\n0    2018-10-08 13:01:34+00:00\n1    2018-10-09 13:01:34+00:00\n2    2018-10-10 13:01:34+00:00\n3    2018-10-11 13:01:34+00:00\n4    2018-10-12 13:01:34+00:00\n...                        ...\n1068 2021-09-10 13:01:34+00:00\n1069 2021-09-11 13:01:34+00:00\n1070 2021-09-12 13:01:34+00:00\n1071 2021-09-13 13:01:34+00:00\n1072 2021-09-14 13:01:34+00:00\n\n[1073 rows x 1 columns]",
      "text/html": "<div>\n<style scoped>\n    .dataframe tbody tr th:only-of-type {\n        vertical-align: middle;\n    }\n\n    .dataframe tbody tr th {\n        vertical-align: top;\n    }\n\n    .dataframe thead th {\n        text-align: right;\n    }\n</style>\n<table border=\"1\" class=\"dataframe\">\n  <thead>\n    <tr style=\"text-align: right;\">\n      <th></th>\n      <th>0</th>\n    </tr>\n  </thead>\n  <tbody>\n    <tr>\n      <th>0</th>\n      <td>2018-10-08 13:01:34+00:00</td>\n    </tr>\n    <tr>\n      <th>1</th>\n      <td>2018-10-09 13:01:34+00:00</td>\n    </tr>\n    <tr>\n      <th>2</th>\n      <td>2018-10-10 13:01:34+00:00</td>\n    </tr>\n    <tr>\n      <th>3</th>\n      <td>2018-10-11 13:01:34+00:00</td>\n    </tr>\n    <tr>\n      <th>4</th>\n      <td>2018-10-12 13:01:34+00:00</td>\n    </tr>\n    <tr>\n      <th>...</th>\n      <td>...</td>\n    </tr>\n    <tr>\n      <th>1068</th>\n      <td>2021-09-10 13:01:34+00:00</td>\n    </tr>\n    <tr>\n      <th>1069</th>\n      <td>2021-09-11 13:01:34+00:00</td>\n    </tr>\n    <tr>\n      <th>1070</th>\n      <td>2021-09-12 13:01:34+00:00</td>\n    </tr>\n    <tr>\n      <th>1071</th>\n      <td>2021-09-13 13:01:34+00:00</td>\n    </tr>\n    <tr>\n      <th>1072</th>\n      <td>2021-09-14 13:01:34+00:00</td>\n    </tr>\n  </tbody>\n</table>\n<p>1073 rows × 1 columns</p>\n</div>"
     },
     "execution_count": 57,
     "metadata": {},
     "output_type": "execute_result"
    }
   ],
   "source": [
    "date_frame_site_1"
   ],
   "metadata": {
    "collapsed": false,
    "ExecuteTime": {
     "end_time": "2024-02-07T16:06:17.695814100Z",
     "start_time": "2024-02-07T16:06:17.651053400Z"
    }
   }
  },
  {
   "cell_type": "code",
   "execution_count": 58,
   "outputs": [],
   "source": [
    "data = {'date': [], 'hour': []}\n",
    "for row in date_frame_site_1.itertuples():\n",
    "    for i in range(24):\n",
    "        data[\"date\"].append(row[1])\n",
    "        data[\"hour\"].append(i)\n",
    "frame1 = pd.DataFrame(data)\n",
    "frame1[\"weekday\"] = frame1[\"date\"].dt.day_of_week\n",
    "frame1[\"month\"] = frame1[\"date\"].dt.month\n",
    "\n",
    "data = {'date' : [], 'hour': []}\n",
    "for row in date_frame_site_2.itertuples():\n",
    "    for i in range(24):\n",
    "        data[\"date\"].append(row[1])\n",
    "        data[\"hour\"].append(i)\n",
    "frame2 = pd.DataFrame(data)\n",
    "frame2[\"weekday\"] = frame2[\"date\"].dt.day_of_week\n",
    "frame2[\"month\"] = frame2[\"date\"].dt.month"
   ],
   "metadata": {
    "collapsed": false,
    "ExecuteTime": {
     "end_time": "2024-02-07T16:06:17.775193500Z",
     "start_time": "2024-02-07T16:06:17.667144400Z"
    }
   }
  },
  {
   "cell_type": "code",
   "execution_count": 59,
   "outputs": [
    {
     "data": {
      "text/plain": "                           date  hour  weekday  month\n0     2018-04-25 13:45:10+00:00     0        2      4\n1     2018-04-25 13:45:10+00:00     1        2      4\n2     2018-04-25 13:45:10+00:00     2        2      4\n3     2018-04-25 13:45:10+00:00     3        2      4\n4     2018-04-25 13:45:10+00:00     4        2      4\n...                         ...   ...      ...    ...\n29731 2021-09-14 13:45:10+00:00    19        1      9\n29732 2021-09-14 13:45:10+00:00    20        1      9\n29733 2021-09-14 13:45:10+00:00    21        1      9\n29734 2021-09-14 13:45:10+00:00    22        1      9\n29735 2021-09-14 13:45:10+00:00    23        1      9\n\n[29736 rows x 4 columns]",
      "text/html": "<div>\n<style scoped>\n    .dataframe tbody tr th:only-of-type {\n        vertical-align: middle;\n    }\n\n    .dataframe tbody tr th {\n        vertical-align: top;\n    }\n\n    .dataframe thead th {\n        text-align: right;\n    }\n</style>\n<table border=\"1\" class=\"dataframe\">\n  <thead>\n    <tr style=\"text-align: right;\">\n      <th></th>\n      <th>date</th>\n      <th>hour</th>\n      <th>weekday</th>\n      <th>month</th>\n    </tr>\n  </thead>\n  <tbody>\n    <tr>\n      <th>0</th>\n      <td>2018-04-25 13:45:10+00:00</td>\n      <td>0</td>\n      <td>2</td>\n      <td>4</td>\n    </tr>\n    <tr>\n      <th>1</th>\n      <td>2018-04-25 13:45:10+00:00</td>\n      <td>1</td>\n      <td>2</td>\n      <td>4</td>\n    </tr>\n    <tr>\n      <th>2</th>\n      <td>2018-04-25 13:45:10+00:00</td>\n      <td>2</td>\n      <td>2</td>\n      <td>4</td>\n    </tr>\n    <tr>\n      <th>3</th>\n      <td>2018-04-25 13:45:10+00:00</td>\n      <td>3</td>\n      <td>2</td>\n      <td>4</td>\n    </tr>\n    <tr>\n      <th>4</th>\n      <td>2018-04-25 13:45:10+00:00</td>\n      <td>4</td>\n      <td>2</td>\n      <td>4</td>\n    </tr>\n    <tr>\n      <th>...</th>\n      <td>...</td>\n      <td>...</td>\n      <td>...</td>\n      <td>...</td>\n    </tr>\n    <tr>\n      <th>29731</th>\n      <td>2021-09-14 13:45:10+00:00</td>\n      <td>19</td>\n      <td>1</td>\n      <td>9</td>\n    </tr>\n    <tr>\n      <th>29732</th>\n      <td>2021-09-14 13:45:10+00:00</td>\n      <td>20</td>\n      <td>1</td>\n      <td>9</td>\n    </tr>\n    <tr>\n      <th>29733</th>\n      <td>2021-09-14 13:45:10+00:00</td>\n      <td>21</td>\n      <td>1</td>\n      <td>9</td>\n    </tr>\n    <tr>\n      <th>29734</th>\n      <td>2021-09-14 13:45:10+00:00</td>\n      <td>22</td>\n      <td>1</td>\n      <td>9</td>\n    </tr>\n    <tr>\n      <th>29735</th>\n      <td>2021-09-14 13:45:10+00:00</td>\n      <td>23</td>\n      <td>1</td>\n      <td>9</td>\n    </tr>\n  </tbody>\n</table>\n<p>29736 rows × 4 columns</p>\n</div>"
     },
     "execution_count": 59,
     "metadata": {},
     "output_type": "execute_result"
    }
   ],
   "source": [
    "frame2"
   ],
   "metadata": {
    "collapsed": false,
    "ExecuteTime": {
     "end_time": "2024-02-07T16:06:17.780703500Z",
     "start_time": "2024-02-07T16:06:17.744134Z"
    }
   }
  },
  {
   "cell_type": "code",
   "execution_count": 60,
   "outputs": [],
   "source": [
    "us_ca_holidays = holidays.country_holidays(country='US', subdiv='CA')\n",
    "\n",
    "frame1[\"holiday\"] = frame1[\"date\"].apply(lambda x: x in us_ca_holidays)\n",
    "frame2[\"holiday\"] = frame2[\"date\"].apply(lambda x: x in us_ca_holidays)"
   ],
   "metadata": {
    "collapsed": false,
    "ExecuteTime": {
     "end_time": "2024-02-07T16:06:17.964849900Z",
     "start_time": "2024-02-07T16:06:17.775193500Z"
    }
   }
  },
  {
   "cell_type": "markdown",
   "source": [
    "Since the data doesn't start at the beginning of the day and doesn't end at the end, we'll manually delete a few rows to fit it properly.\n",
    "Both sites start in hour 13. Site 1 ends in hour 14 so we will have to drop the last 9 rows.\n",
    " Site 2 ends in hour 2, so we will drop the last 21."
   ],
   "metadata": {
    "collapsed": false
   }
  },
  {
   "cell_type": "code",
   "execution_count": 61,
   "outputs": [],
   "source": [
    "frame1.drop(frame1.index[:13], inplace=True)\n",
    "frame2.drop(frame2.index[:13], inplace=True)\n",
    "frame2.drop(frame2.index[-9:], inplace=True)"
   ],
   "metadata": {
    "collapsed": false,
    "ExecuteTime": {
     "end_time": "2024-02-07T16:06:17.986440400Z",
     "start_time": "2024-02-07T16:06:17.965847Z"
    }
   }
  },
  {
   "cell_type": "code",
   "execution_count": 63,
   "outputs": [
    {
     "data": {
      "text/plain": "          city            timestamp  temperature  cloud_cover  \\\n0      Burbank  2018-01-01 08:53:00          9.0         33.0   \n1      Burbank  2018-01-01 09:53:00          9.0         33.0   \n2      Burbank  2018-01-01 10:53:00          9.0         21.0   \n3      Burbank  2018-01-01 11:53:00          9.0         29.0   \n4      Burbank  2018-01-01 12:53:00          8.0         33.0   \n...        ...                  ...          ...          ...   \n29239  Burbank  2021-01-01 03:53:00         13.0         33.0   \n29240  Burbank  2021-01-01 04:53:00         12.0         33.0   \n29241  Burbank  2021-01-01 05:53:00         12.0         33.0   \n29242  Burbank  2021-01-01 06:53:00         11.0         33.0   \n29243  Burbank  2021-01-01 07:53:00         10.0         33.0   \n\n      cloud_cover_description  pressure  windspeed  precipitation  \\\n0                        Fair    991.75        9.0            0.0   \n1                        Fair    992.08        0.0            0.0   \n2                        Haze    992.08        0.0            0.0   \n3               Partly Cloudy    992.08        0.0            0.0   \n4                        Fair    992.08        0.0            0.0   \n...                       ...       ...        ...            ...   \n29239                    Fair    986.81        0.0            0.0   \n29240                    Fair    986.81       11.0            0.0   \n29241                    Fair    987.47        9.0            0.0   \n29242                    Fair    987.14       13.0            0.0   \n29243                    Fair    987.80        6.0            0.0   \n\n       felt_temperature  \n0                   8.0  \n1                   9.0  \n2                   9.0  \n3                   9.0  \n4                   8.0  \n...                 ...  \n29239              13.0  \n29240              12.0  \n29241              12.0  \n29242              11.0  \n29243              10.0  \n\n[29244 rows x 9 columns]",
      "text/html": "<div>\n<style scoped>\n    .dataframe tbody tr th:only-of-type {\n        vertical-align: middle;\n    }\n\n    .dataframe tbody tr th {\n        vertical-align: top;\n    }\n\n    .dataframe thead th {\n        text-align: right;\n    }\n</style>\n<table border=\"1\" class=\"dataframe\">\n  <thead>\n    <tr style=\"text-align: right;\">\n      <th></th>\n      <th>city</th>\n      <th>timestamp</th>\n      <th>temperature</th>\n      <th>cloud_cover</th>\n      <th>cloud_cover_description</th>\n      <th>pressure</th>\n      <th>windspeed</th>\n      <th>precipitation</th>\n      <th>felt_temperature</th>\n    </tr>\n  </thead>\n  <tbody>\n    <tr>\n      <th>0</th>\n      <td>Burbank</td>\n      <td>2018-01-01 08:53:00</td>\n      <td>9.0</td>\n      <td>33.0</td>\n      <td>Fair</td>\n      <td>991.75</td>\n      <td>9.0</td>\n      <td>0.0</td>\n      <td>8.0</td>\n    </tr>\n    <tr>\n      <th>1</th>\n      <td>Burbank</td>\n      <td>2018-01-01 09:53:00</td>\n      <td>9.0</td>\n      <td>33.0</td>\n      <td>Fair</td>\n      <td>992.08</td>\n      <td>0.0</td>\n      <td>0.0</td>\n      <td>9.0</td>\n    </tr>\n    <tr>\n      <th>2</th>\n      <td>Burbank</td>\n      <td>2018-01-01 10:53:00</td>\n      <td>9.0</td>\n      <td>21.0</td>\n      <td>Haze</td>\n      <td>992.08</td>\n      <td>0.0</td>\n      <td>0.0</td>\n      <td>9.0</td>\n    </tr>\n    <tr>\n      <th>3</th>\n      <td>Burbank</td>\n      <td>2018-01-01 11:53:00</td>\n      <td>9.0</td>\n      <td>29.0</td>\n      <td>Partly Cloudy</td>\n      <td>992.08</td>\n      <td>0.0</td>\n      <td>0.0</td>\n      <td>9.0</td>\n    </tr>\n    <tr>\n      <th>4</th>\n      <td>Burbank</td>\n      <td>2018-01-01 12:53:00</td>\n      <td>8.0</td>\n      <td>33.0</td>\n      <td>Fair</td>\n      <td>992.08</td>\n      <td>0.0</td>\n      <td>0.0</td>\n      <td>8.0</td>\n    </tr>\n    <tr>\n      <th>...</th>\n      <td>...</td>\n      <td>...</td>\n      <td>...</td>\n      <td>...</td>\n      <td>...</td>\n      <td>...</td>\n      <td>...</td>\n      <td>...</td>\n      <td>...</td>\n    </tr>\n    <tr>\n      <th>29239</th>\n      <td>Burbank</td>\n      <td>2021-01-01 03:53:00</td>\n      <td>13.0</td>\n      <td>33.0</td>\n      <td>Fair</td>\n      <td>986.81</td>\n      <td>0.0</td>\n      <td>0.0</td>\n      <td>13.0</td>\n    </tr>\n    <tr>\n      <th>29240</th>\n      <td>Burbank</td>\n      <td>2021-01-01 04:53:00</td>\n      <td>12.0</td>\n      <td>33.0</td>\n      <td>Fair</td>\n      <td>986.81</td>\n      <td>11.0</td>\n      <td>0.0</td>\n      <td>12.0</td>\n    </tr>\n    <tr>\n      <th>29241</th>\n      <td>Burbank</td>\n      <td>2021-01-01 05:53:00</td>\n      <td>12.0</td>\n      <td>33.0</td>\n      <td>Fair</td>\n      <td>987.47</td>\n      <td>9.0</td>\n      <td>0.0</td>\n      <td>12.0</td>\n    </tr>\n    <tr>\n      <th>29242</th>\n      <td>Burbank</td>\n      <td>2021-01-01 06:53:00</td>\n      <td>11.0</td>\n      <td>33.0</td>\n      <td>Fair</td>\n      <td>987.14</td>\n      <td>13.0</td>\n      <td>0.0</td>\n      <td>11.0</td>\n    </tr>\n    <tr>\n      <th>29243</th>\n      <td>Burbank</td>\n      <td>2021-01-01 07:53:00</td>\n      <td>10.0</td>\n      <td>33.0</td>\n      <td>Fair</td>\n      <td>987.80</td>\n      <td>6.0</td>\n      <td>0.0</td>\n      <td>10.0</td>\n    </tr>\n  </tbody>\n</table>\n<p>29244 rows × 9 columns</p>\n</div>"
     },
     "execution_count": 63,
     "metadata": {},
     "output_type": "execute_result"
    }
   ],
   "source": [
    "weather = pd.read_csv(\"./data/original/weather_burbank_airport.csv\")\n",
    "weather"
   ],
   "metadata": {
    "collapsed": false,
    "ExecuteTime": {
     "end_time": "2024-02-07T16:07:12.097857100Z",
     "start_time": "2024-02-07T16:07:12.060389900Z"
    }
   }
  },
  {
   "cell_type": "code",
   "execution_count": 64,
   "outputs": [],
   "source": [
    "# We will only use temperature and precipitation from the weather dataset, so we'll drop everything else\n",
    "weather.drop(columns=[\"city\", 'cloud_cover', 'cloud_cover_description', 'pressure', 'windspeed', 'felt_temperature'], axis = 1, inplace=True)"
   ],
   "metadata": {
    "collapsed": false,
    "ExecuteTime": {
     "end_time": "2024-02-07T16:07:18.289973700Z",
     "start_time": "2024-02-07T16:07:18.132985500Z"
    }
   }
  },
  {
   "cell_type": "code",
   "execution_count": 65,
   "outputs": [
    {
     "data": {
      "text/plain": "                 timestamp  temperature  precipitation\n0      2018-01-01 08:53:00          9.0            0.0\n1      2018-01-01 09:53:00          9.0            0.0\n2      2018-01-01 10:53:00          9.0            0.0\n3      2018-01-01 11:53:00          9.0            0.0\n4      2018-01-01 12:53:00          8.0            0.0\n...                    ...          ...            ...\n29239  2021-01-01 03:53:00         13.0            0.0\n29240  2021-01-01 04:53:00         12.0            0.0\n29241  2021-01-01 05:53:00         12.0            0.0\n29242  2021-01-01 06:53:00         11.0            0.0\n29243  2021-01-01 07:53:00         10.0            0.0\n\n[29244 rows x 3 columns]",
      "text/html": "<div>\n<style scoped>\n    .dataframe tbody tr th:only-of-type {\n        vertical-align: middle;\n    }\n\n    .dataframe tbody tr th {\n        vertical-align: top;\n    }\n\n    .dataframe thead th {\n        text-align: right;\n    }\n</style>\n<table border=\"1\" class=\"dataframe\">\n  <thead>\n    <tr style=\"text-align: right;\">\n      <th></th>\n      <th>timestamp</th>\n      <th>temperature</th>\n      <th>precipitation</th>\n    </tr>\n  </thead>\n  <tbody>\n    <tr>\n      <th>0</th>\n      <td>2018-01-01 08:53:00</td>\n      <td>9.0</td>\n      <td>0.0</td>\n    </tr>\n    <tr>\n      <th>1</th>\n      <td>2018-01-01 09:53:00</td>\n      <td>9.0</td>\n      <td>0.0</td>\n    </tr>\n    <tr>\n      <th>2</th>\n      <td>2018-01-01 10:53:00</td>\n      <td>9.0</td>\n      <td>0.0</td>\n    </tr>\n    <tr>\n      <th>3</th>\n      <td>2018-01-01 11:53:00</td>\n      <td>9.0</td>\n      <td>0.0</td>\n    </tr>\n    <tr>\n      <th>4</th>\n      <td>2018-01-01 12:53:00</td>\n      <td>8.0</td>\n      <td>0.0</td>\n    </tr>\n    <tr>\n      <th>...</th>\n      <td>...</td>\n      <td>...</td>\n      <td>...</td>\n    </tr>\n    <tr>\n      <th>29239</th>\n      <td>2021-01-01 03:53:00</td>\n      <td>13.0</td>\n      <td>0.0</td>\n    </tr>\n    <tr>\n      <th>29240</th>\n      <td>2021-01-01 04:53:00</td>\n      <td>12.0</td>\n      <td>0.0</td>\n    </tr>\n    <tr>\n      <th>29241</th>\n      <td>2021-01-01 05:53:00</td>\n      <td>12.0</td>\n      <td>0.0</td>\n    </tr>\n    <tr>\n      <th>29242</th>\n      <td>2021-01-01 06:53:00</td>\n      <td>11.0</td>\n      <td>0.0</td>\n    </tr>\n    <tr>\n      <th>29243</th>\n      <td>2021-01-01 07:53:00</td>\n      <td>10.0</td>\n      <td>0.0</td>\n    </tr>\n  </tbody>\n</table>\n<p>29244 rows × 3 columns</p>\n</div>"
     },
     "execution_count": 65,
     "metadata": {},
     "output_type": "execute_result"
    }
   ],
   "source": [
    "weather"
   ],
   "metadata": {
    "collapsed": false,
    "ExecuteTime": {
     "end_time": "2024-02-07T16:07:18.323098100Z",
     "start_time": "2024-02-07T16:07:18.151682800Z"
    }
   }
  },
  {
   "cell_type": "code",
   "execution_count": 66,
   "outputs": [],
   "source": [
    "weather['timestamp'] = pd.to_datetime(weather['timestamp'])"
   ],
   "metadata": {
    "collapsed": false,
    "ExecuteTime": {
     "end_time": "2024-02-07T16:07:18.323098100Z",
     "start_time": "2024-02-07T16:07:18.213996500Z"
    }
   }
  },
  {
   "cell_type": "code",
   "execution_count": 67,
   "outputs": [
    {
     "data": {
      "text/plain": "       temperature  precipitation     dateHour\n0              9.0            0.0   2018-1-1+8\n1              9.0            0.0   2018-1-1+9\n2              9.0            0.0  2018-1-1+10\n3              9.0            0.0  2018-1-1+11\n4              8.0            0.0  2018-1-1+12\n...            ...            ...          ...\n29239         13.0            0.0   2021-1-1+3\n29240         12.0            0.0   2021-1-1+4\n29241         12.0            0.0   2021-1-1+5\n29242         11.0            0.0   2021-1-1+6\n29243         10.0            0.0   2021-1-1+7\n\n[29244 rows x 3 columns]",
      "text/html": "<div>\n<style scoped>\n    .dataframe tbody tr th:only-of-type {\n        vertical-align: middle;\n    }\n\n    .dataframe tbody tr th {\n        vertical-align: top;\n    }\n\n    .dataframe thead th {\n        text-align: right;\n    }\n</style>\n<table border=\"1\" class=\"dataframe\">\n  <thead>\n    <tr style=\"text-align: right;\">\n      <th></th>\n      <th>temperature</th>\n      <th>precipitation</th>\n      <th>dateHour</th>\n    </tr>\n  </thead>\n  <tbody>\n    <tr>\n      <th>0</th>\n      <td>9.0</td>\n      <td>0.0</td>\n      <td>2018-1-1+8</td>\n    </tr>\n    <tr>\n      <th>1</th>\n      <td>9.0</td>\n      <td>0.0</td>\n      <td>2018-1-1+9</td>\n    </tr>\n    <tr>\n      <th>2</th>\n      <td>9.0</td>\n      <td>0.0</td>\n      <td>2018-1-1+10</td>\n    </tr>\n    <tr>\n      <th>3</th>\n      <td>9.0</td>\n      <td>0.0</td>\n      <td>2018-1-1+11</td>\n    </tr>\n    <tr>\n      <th>4</th>\n      <td>8.0</td>\n      <td>0.0</td>\n      <td>2018-1-1+12</td>\n    </tr>\n    <tr>\n      <th>...</th>\n      <td>...</td>\n      <td>...</td>\n      <td>...</td>\n    </tr>\n    <tr>\n      <th>29239</th>\n      <td>13.0</td>\n      <td>0.0</td>\n      <td>2021-1-1+3</td>\n    </tr>\n    <tr>\n      <th>29240</th>\n      <td>12.0</td>\n      <td>0.0</td>\n      <td>2021-1-1+4</td>\n    </tr>\n    <tr>\n      <th>29241</th>\n      <td>12.0</td>\n      <td>0.0</td>\n      <td>2021-1-1+5</td>\n    </tr>\n    <tr>\n      <th>29242</th>\n      <td>11.0</td>\n      <td>0.0</td>\n      <td>2021-1-1+6</td>\n    </tr>\n    <tr>\n      <th>29243</th>\n      <td>10.0</td>\n      <td>0.0</td>\n      <td>2021-1-1+7</td>\n    </tr>\n  </tbody>\n</table>\n<p>29244 rows × 3 columns</p>\n</div>"
     },
     "execution_count": 67,
     "metadata": {},
     "output_type": "execute_result"
    }
   ],
   "source": [
    "# Add a new column dateHour, which represents the date with the current hour, we will merge into the site data on this later on. Drop the timestamp because we don't have any more use for it\n",
    "weather[\"dateHour\"] = weather[\"timestamp\"].apply(lambda x: (str(x.year) + \"-\"\n",
    "                                                            + str(x.month) +\"-\"\n",
    "                                                            + str(x.day) +\"+\"\n",
    "                                                            + str(x.hour)))\n",
    "weather.drop(columns=\"timestamp\")"
   ],
   "metadata": {
    "collapsed": false,
    "ExecuteTime": {
     "end_time": "2024-02-07T16:07:18.323602400Z",
     "start_time": "2024-02-07T16:07:18.229610300Z"
    }
   }
  },
  {
   "cell_type": "code",
   "execution_count": 68,
   "outputs": [],
   "source": [
    "# Add the dateHour column to both dataframes\n",
    "frame1[\"dateHour\"] = frame1[\"date\"].apply(lambda x: (str(x.year) + \"-\"\n",
    "                                                            + str(x.month) +\"-\"\n",
    "                                                            + str(x.day) +\"+\"\n",
    "                                                            ))\n",
    "frame1[\"dateHour\"] = frame1.apply(lambda x: '%s%s' % (x[\"dateHour\"], x[\"hour\"]), axis =1)\n",
    "\n",
    "frame2[\"dateHour\"] = frame2[\"date\"].apply(lambda x: (str(x.year) + \"-\"\n",
    "                                                            + str(x.month) +\"-\"\n",
    "                                                            + str(x.day) +\"+\"\n",
    "                                                            ))\n",
    "frame2[\"dateHour\"] = frame2.apply(lambda x: '%s%s' % (x[\"dateHour\"], x[\"hour\"]), axis =1)"
   ],
   "metadata": {
    "collapsed": false,
    "ExecuteTime": {
     "end_time": "2024-02-07T16:07:18.679415700Z",
     "start_time": "2024-02-07T16:07:18.277824500Z"
    }
   }
  },
  {
   "cell_type": "code",
   "execution_count": 69,
   "outputs": [],
   "source": [
    "# Function to return all hours between a start and end date in dateHour notation\n",
    "def getHoursBetween(start, end):\n",
    "    start = start.floor(\"h\")\n",
    "    end = end.floor(\"h\")\n",
    "    days= []\n",
    "    for i in range(int((end-start).seconds/3600)+1):\n",
    "            day = start+timedelta(hours=i)\n",
    "            dateHour = str(day.year) + \"-\" + str(day.month) + \"-\" + str(day.day) + \"+\" + str(day.hour)\n",
    "            days.append(dateHour)\n",
    "    return days"
   ],
   "metadata": {
    "collapsed": false,
    "ExecuteTime": {
     "end_time": "2024-02-07T16:07:18.694027200Z",
     "start_time": "2024-02-07T16:07:18.680410Z"
    }
   }
  },
  {
   "cell_type": "code",
   "execution_count": 70,
   "outputs": [],
   "source": [
    "# Iterate over all site 1 data, for each charging event, increment utilization by one for each hour. Keep track of the charging stations in stations, each station can have a max utilization of 1, meaning there is no difference if the station was occupied for 1 or 60 hour, or if one charging event ended and another started in the same hour\n",
    "frame1[\"utilization\"] = 0\n",
    "frame1[\"stations\"] = \"\"\n",
    "\n",
    "for row in site_1_data.itertuples():\n",
    "    connectionTime = row[2]\n",
    "    disconnectTime = row[3]\n",
    "    station = row[7]\n",
    "    hours = getHoursBetween(connectionTime, disconnectTime)\n",
    "    for hour in hours:\n",
    "        hourRowIndex = frame1[frame1[\"dateHour\"] == hour].index.tolist()[0]\n",
    "        if not (str(frame1.at[hourRowIndex, \"stations\"]).__contains__(station)):\n",
    "            frame1.at[hourRowIndex, \"utilization\"] += 1\n",
    "            frame1.at[hourRowIndex, \"stations\"] += station +\"_\"\n",
    "frame1['utilization'] /= 52\n",
    "frame1.drop(columns=\"stations\", inplace=True)"
   ],
   "metadata": {
    "collapsed": false,
    "ExecuteTime": {
     "end_time": "2024-02-07T16:11:37.810362800Z",
     "start_time": "2024-02-07T16:07:18.695024300Z"
    }
   }
  },
  {
   "cell_type": "code",
   "execution_count": 71,
   "outputs": [],
   "source": [
    "# Iterate over all site 2 data, for each charging event, increment utilization by one for each hour. Keep track of the charging stations in stations, each station can have a max utilization of 1, meaning there is no difference if the station was occupied for 1 or 60 hour, or if one charging event ended and another started in the same hour\n",
    "frame2[\"utilization\"] = 0\n",
    "frame2[\"stations\"] = \"\"\n",
    "\n",
    "for row in site_2_data.itertuples():\n",
    "    connectionTime = row[2]\n",
    "    disconnectTime = row[3]\n",
    "    station = row[7]\n",
    "    hours = getHoursBetween(connectionTime, disconnectTime)\n",
    "    for hour in hours:\n",
    "        hourRowIndex = frame2[frame2[\"dateHour\"] == hour].index.tolist()[0]\n",
    "        if not (str(frame2.at[hourRowIndex, \"stations\"]).__contains__(station)):\n",
    "            frame2.at[hourRowIndex, \"utilization\"] += 1\n",
    "            frame2.at[hourRowIndex, \"stations\"] += station +\"_\"\n",
    "frame2['utilization'] /= 54\n",
    "frame2.drop(columns=\"stations\", inplace = True)"
   ],
   "metadata": {
    "collapsed": false,
    "ExecuteTime": {
     "end_time": "2024-02-07T16:15:22.559731Z",
     "start_time": "2024-02-07T16:11:37.812459Z"
    }
   }
  },
  {
   "cell_type": "code",
   "execution_count": 82,
   "outputs": [],
   "source": [
    "frame1.to_pickle('./data/prepared/utilization_data_site1_complete.pkl')\n",
    "frame2.to_pickle('./data/prepared/utilization_data_site2_complete.pkl')"
   ],
   "metadata": {
    "collapsed": false,
    "ExecuteTime": {
     "end_time": "2024-02-07T16:43:29.479991300Z",
     "start_time": "2024-02-07T16:43:29.448033500Z"
    }
   }
  },
  {
   "cell_type": "code",
   "execution_count": 73,
   "outputs": [
    {
     "data": {
      "text/plain": "                           date  hour  weekday  month  holiday      dateHour  \\\n13    2018-10-08 13:01:34+00:00    13        0     10     True  2018-10-8+13   \n14    2018-10-08 13:01:34+00:00    14        0     10     True  2018-10-8+14   \n15    2018-10-08 13:01:34+00:00    15        0     10     True  2018-10-8+15   \n16    2018-10-08 13:01:34+00:00    16        0     10     True  2018-10-8+16   \n17    2018-10-08 13:01:34+00:00    17        0     10     True  2018-10-8+17   \n...                         ...   ...      ...    ...      ...           ...   \n25747 2021-09-14 13:01:34+00:00    19        1      9    False  2021-9-14+19   \n25748 2021-09-14 13:01:34+00:00    20        1      9    False  2021-9-14+20   \n25749 2021-09-14 13:01:34+00:00    21        1      9    False  2021-9-14+21   \n25750 2021-09-14 13:01:34+00:00    22        1      9    False  2021-9-14+22   \n25751 2021-09-14 13:01:34+00:00    23        1      9    False  2021-9-14+23   \n\n       utilization  \n13        0.076923  \n14        0.365385  \n15        0.365385  \n16        0.365385  \n17        0.365385  \n...            ...  \n25747     0.000000  \n25748     0.000000  \n25749     0.000000  \n25750     0.000000  \n25751     0.000000  \n\n[25739 rows x 7 columns]",
      "text/html": "<div>\n<style scoped>\n    .dataframe tbody tr th:only-of-type {\n        vertical-align: middle;\n    }\n\n    .dataframe tbody tr th {\n        vertical-align: top;\n    }\n\n    .dataframe thead th {\n        text-align: right;\n    }\n</style>\n<table border=\"1\" class=\"dataframe\">\n  <thead>\n    <tr style=\"text-align: right;\">\n      <th></th>\n      <th>date</th>\n      <th>hour</th>\n      <th>weekday</th>\n      <th>month</th>\n      <th>holiday</th>\n      <th>dateHour</th>\n      <th>utilization</th>\n    </tr>\n  </thead>\n  <tbody>\n    <tr>\n      <th>13</th>\n      <td>2018-10-08 13:01:34+00:00</td>\n      <td>13</td>\n      <td>0</td>\n      <td>10</td>\n      <td>True</td>\n      <td>2018-10-8+13</td>\n      <td>0.076923</td>\n    </tr>\n    <tr>\n      <th>14</th>\n      <td>2018-10-08 13:01:34+00:00</td>\n      <td>14</td>\n      <td>0</td>\n      <td>10</td>\n      <td>True</td>\n      <td>2018-10-8+14</td>\n      <td>0.365385</td>\n    </tr>\n    <tr>\n      <th>15</th>\n      <td>2018-10-08 13:01:34+00:00</td>\n      <td>15</td>\n      <td>0</td>\n      <td>10</td>\n      <td>True</td>\n      <td>2018-10-8+15</td>\n      <td>0.365385</td>\n    </tr>\n    <tr>\n      <th>16</th>\n      <td>2018-10-08 13:01:34+00:00</td>\n      <td>16</td>\n      <td>0</td>\n      <td>10</td>\n      <td>True</td>\n      <td>2018-10-8+16</td>\n      <td>0.365385</td>\n    </tr>\n    <tr>\n      <th>17</th>\n      <td>2018-10-08 13:01:34+00:00</td>\n      <td>17</td>\n      <td>0</td>\n      <td>10</td>\n      <td>True</td>\n      <td>2018-10-8+17</td>\n      <td>0.365385</td>\n    </tr>\n    <tr>\n      <th>...</th>\n      <td>...</td>\n      <td>...</td>\n      <td>...</td>\n      <td>...</td>\n      <td>...</td>\n      <td>...</td>\n      <td>...</td>\n    </tr>\n    <tr>\n      <th>25747</th>\n      <td>2021-09-14 13:01:34+00:00</td>\n      <td>19</td>\n      <td>1</td>\n      <td>9</td>\n      <td>False</td>\n      <td>2021-9-14+19</td>\n      <td>0.000000</td>\n    </tr>\n    <tr>\n      <th>25748</th>\n      <td>2021-09-14 13:01:34+00:00</td>\n      <td>20</td>\n      <td>1</td>\n      <td>9</td>\n      <td>False</td>\n      <td>2021-9-14+20</td>\n      <td>0.000000</td>\n    </tr>\n    <tr>\n      <th>25749</th>\n      <td>2021-09-14 13:01:34+00:00</td>\n      <td>21</td>\n      <td>1</td>\n      <td>9</td>\n      <td>False</td>\n      <td>2021-9-14+21</td>\n      <td>0.000000</td>\n    </tr>\n    <tr>\n      <th>25750</th>\n      <td>2021-09-14 13:01:34+00:00</td>\n      <td>22</td>\n      <td>1</td>\n      <td>9</td>\n      <td>False</td>\n      <td>2021-9-14+22</td>\n      <td>0.000000</td>\n    </tr>\n    <tr>\n      <th>25751</th>\n      <td>2021-09-14 13:01:34+00:00</td>\n      <td>23</td>\n      <td>1</td>\n      <td>9</td>\n      <td>False</td>\n      <td>2021-9-14+23</td>\n      <td>0.000000</td>\n    </tr>\n  </tbody>\n</table>\n<p>25739 rows × 7 columns</p>\n</div>"
     },
     "execution_count": 73,
     "metadata": {},
     "output_type": "execute_result"
    }
   ],
   "source": [
    "frame1"
   ],
   "metadata": {
    "collapsed": false,
    "ExecuteTime": {
     "end_time": "2024-02-07T16:15:22.598885Z",
     "start_time": "2024-02-07T16:15:22.575752500Z"
    }
   }
  },
  {
   "cell_type": "markdown",
   "source": [
    "For utilization prediction we will exclude any data after March 2020 due to the Corona pandemic. We argue, that due to lockdowns and a shift to homeoffice whereever possible, the rest of 2020 is not relevant to the situation we have today. While homeoffice is generally more accepted nowadays, we are beginning to see a lot of companies enforcing a return to the office.\n",
    "While the data is beginning to normalize at the beginning of 2021, we do not have any weather data after this point. Attempts to find additional data for the burbank airport where unsuccessful. Due to both of these points, there will be a hard cutoff after March 2020."
   ],
   "metadata": {
    "collapsed": false
   }
  },
  {
   "cell_type": "code",
   "execution_count": 74,
   "outputs": [],
   "source": [
    "# Drop data after onset of Corona\n",
    "\n",
    "frame1 = frame1[frame1[\"date\"]<\"2020-04-01\"]\n",
    "frame2 = frame2[frame2[\"date\"]<\"2020-04-01\"]"
   ],
   "metadata": {
    "collapsed": false,
    "ExecuteTime": {
     "end_time": "2024-02-07T16:15:22.630666500Z",
     "start_time": "2024-02-07T16:15:22.589864900Z"
    }
   }
  },
  {
   "cell_type": "code",
   "execution_count": 75,
   "outputs": [],
   "source": [
    "# drop duplicates in weather to ensure correct merge of both dataframes\n",
    "weather.drop_duplicates(subset='dateHour', inplace=True)"
   ],
   "metadata": {
    "collapsed": false,
    "ExecuteTime": {
     "end_time": "2024-02-07T16:15:22.649192900Z",
     "start_time": "2024-02-07T16:15:22.605401Z"
    }
   }
  },
  {
   "cell_type": "code",
   "execution_count": 76,
   "outputs": [],
   "source": [
    "# Merge weather data with the charging data\n",
    "frame1 = frame1.merge(weather, left_on=\"dateHour\", right_on=\"dateHour\", how=\"left\")\n",
    "frame2 = frame2.merge(weather, left_on=\"dateHour\", right_on=\"dateHour\", how=\"left\")"
   ],
   "metadata": {
    "collapsed": false,
    "ExecuteTime": {
     "end_time": "2024-02-07T16:15:22.654705200Z",
     "start_time": "2024-02-07T16:15:22.627145200Z"
    }
   }
  },
  {
   "cell_type": "code",
   "execution_count": 77,
   "outputs": [
    {
     "name": "stdout",
     "output_type": "stream",
     "text": [
      "<class 'pandas.core.frame.DataFrame'>\n",
      "RangeIndex: 12971 entries, 0 to 12970\n",
      "Data columns (total 10 columns):\n",
      " #   Column         Non-Null Count  Dtype              \n",
      "---  ------         --------------  -----              \n",
      " 0   date           12971 non-null  datetime64[ns, UTC]\n",
      " 1   hour           12971 non-null  int64              \n",
      " 2   weekday        12971 non-null  int32              \n",
      " 3   month          12971 non-null  int32              \n",
      " 4   holiday        12971 non-null  bool               \n",
      " 5   dateHour       12971 non-null  object             \n",
      " 6   utilization    12971 non-null  float64            \n",
      " 7   timestamp      12947 non-null  datetime64[ns]     \n",
      " 8   temperature    12938 non-null  float64            \n",
      " 9   precipitation  12947 non-null  float64            \n",
      "dtypes: bool(1), datetime64[ns, UTC](1), datetime64[ns](1), float64(3), int32(2), int64(1), object(1)\n",
      "memory usage: 823.5+ KB\n"
     ]
    }
   ],
   "source": [
    "frame1.info()"
   ],
   "metadata": {
    "collapsed": false,
    "ExecuteTime": {
     "end_time": "2024-02-07T16:15:22.669938600Z",
     "start_time": "2024-02-07T16:15:22.654705200Z"
    }
   }
  },
  {
   "cell_type": "code",
   "execution_count": 78,
   "outputs": [
    {
     "name": "stdout",
     "output_type": "stream",
     "text": [
      "<class 'pandas.core.frame.DataFrame'>\n",
      "RangeIndex: 16955 entries, 0 to 16954\n",
      "Data columns (total 10 columns):\n",
      " #   Column         Non-Null Count  Dtype              \n",
      "---  ------         --------------  -----              \n",
      " 0   date           16955 non-null  datetime64[ns, UTC]\n",
      " 1   hour           16955 non-null  int64              \n",
      " 2   weekday        16955 non-null  int32              \n",
      " 3   month          16955 non-null  int32              \n",
      " 4   holiday        16955 non-null  bool               \n",
      " 5   dateHour       16955 non-null  object             \n",
      " 6   utilization    16955 non-null  float64            \n",
      " 7   timestamp      16915 non-null  datetime64[ns]     \n",
      " 8   temperature    16905 non-null  float64            \n",
      " 9   precipitation  16915 non-null  float64            \n",
      "dtypes: bool(1), datetime64[ns, UTC](1), datetime64[ns](1), float64(3), int32(2), int64(1), object(1)\n",
      "memory usage: 1.1+ MB\n"
     ]
    }
   ],
   "source": [
    "frame2.info()"
   ],
   "metadata": {
    "collapsed": false,
    "ExecuteTime": {
     "end_time": "2024-02-07T16:15:22.713588600Z",
     "start_time": "2024-02-07T16:15:22.668931600Z"
    }
   }
  },
  {
   "cell_type": "markdown",
   "source": [
    "There are a few datapoints where we dont have the weather data available. Because we are working with weather data, we don't expect things to change abruptly. Temperature will likely drop from 14->12->10 instead of 14->10->10. We will use pandas interpolate to model this change for missing values."
   ],
   "metadata": {
    "collapsed": false
   }
  },
  {
   "cell_type": "code",
   "execution_count": 79,
   "outputs": [
    {
     "name": "stderr",
     "output_type": "stream",
     "text": [
      "C:\\Users\\Ann\\AppData\\Local\\Temp\\ipykernel_24272\\3557361287.py:1: FutureWarning: DataFrame.interpolate with object dtype is deprecated and will raise in a future version. Call obj.infer_objects(copy=False) before interpolating instead.\n",
      "  frame1.interpolate(inplace=True)\n",
      "C:\\Users\\Ann\\AppData\\Local\\Temp\\ipykernel_24272\\3557361287.py:2: FutureWarning: DataFrame.interpolate with object dtype is deprecated and will raise in a future version. Call obj.infer_objects(copy=False) before interpolating instead.\n",
      "  frame2.interpolate(inplace=True)\n"
     ]
    }
   ],
   "source": [
    "frame1.interpolate(inplace=True)\n",
    "frame2.interpolate(inplace=True)"
   ],
   "metadata": {
    "collapsed": false,
    "ExecuteTime": {
     "end_time": "2024-02-07T16:15:22.720614Z",
     "start_time": "2024-02-07T16:15:22.684966900Z"
    }
   }
  },
  {
   "cell_type": "code",
   "execution_count": 80,
   "outputs": [],
   "source": [
    "frame1.drop(columns=['date','dateHour','timestamp'], inplace=True)\n",
    "frame2.drop(columns=['date','dateHour','timestamp'], inplace=True)"
   ],
   "metadata": {
    "collapsed": false,
    "ExecuteTime": {
     "end_time": "2024-02-07T16:15:22.720614Z",
     "start_time": "2024-02-07T16:15:22.713588600Z"
    }
   }
  },
  {
   "cell_type": "code",
   "execution_count": 81,
   "outputs": [],
   "source": [
    "frame1.to_pickle('./data/prepared/utilization_data_site1.pkl')\n",
    "frame2.to_pickle('./data/prepared/utilization_data_site2.pkl')"
   ],
   "metadata": {
    "collapsed": false,
    "ExecuteTime": {
     "end_time": "2024-02-07T16:15:22.730183100Z",
     "start_time": "2024-02-07T16:15:22.715593Z"
    }
   }
  },
  {
   "cell_type": "code",
   "execution_count": 81,
   "outputs": [],
   "source": [],
   "metadata": {
    "collapsed": false,
    "ExecuteTime": {
     "end_time": "2024-02-07T16:15:22.775223Z",
     "start_time": "2024-02-07T16:15:22.731188300Z"
    }
   }
  }
 ],
 "metadata": {
  "kernelspec": {
   "display_name": "Python 3 (ipykernel)",
   "language": "python",
   "name": "python3"
  },
  "language_info": {
   "codemirror_mode": {
    "name": "ipython",
    "version": 3
   },
   "file_extension": ".py",
   "mimetype": "text/x-python",
   "name": "python",
   "nbconvert_exporter": "python",
   "pygments_lexer": "ipython3",
   "version": "3.10.13"
  }
 },
 "nbformat": 4,
 "nbformat_minor": 5
}
