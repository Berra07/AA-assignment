{
 "cells": [
  {
   "cell_type": "code",
   "execution_count": 1,
   "metadata": {
    "ExecuteTime": {
     "end_time": "2024-02-07T22:14:49.840670Z",
     "start_time": "2024-02-07T22:14:49.781212400Z"
    }
   },
   "outputs": [],
   "source": [
    "import pandas as pd"
   ]
  },
  {
   "cell_type": "code",
   "execution_count": 2,
   "metadata": {
    "collapsed": false,
    "jupyter": {
     "outputs_hidden": false
    },
    "ExecuteTime": {
     "end_time": "2024-02-07T22:14:49.900775200Z",
     "start_time": "2024-02-07T22:14:49.793758800Z"
    }
   },
   "outputs": [
    {
     "data": {
      "text/plain": "                 connectionTime            disconnectTime  \\\n0     2020-01-02 13:08:54+00:00 2020-01-02 19:11:15+00:00   \n1     2020-01-02 13:36:50+00:00 2020-01-02 22:38:21+00:00   \n2     2020-01-02 13:56:35+00:00 2020-01-03 00:39:22+00:00   \n3     2020-01-02 13:59:58+00:00 2020-01-02 16:38:39+00:00   \n4     2020-01-02 14:00:01+00:00 2020-01-02 22:08:40+00:00   \n...                         ...                       ...   \n56531 2019-07-01 19:13:11+00:00 2019-07-02 00:44:40+00:00   \n56532 2019-07-01 19:43:46+00:00 2019-07-02 02:58:53+00:00   \n56533 2019-07-01 20:34:30+00:00 2019-07-02 00:30:52+00:00   \n56534 2019-07-01 21:49:12+00:00 2019-07-02 01:37:18+00:00   \n56535 2019-07-01 22:36:08+00:00 2019-07-02 01:10:52+00:00   \n\n               doneChargingTime  kWhDelivered  siteID  userID  \\\n0     2020-01-02 17:31:35+00:00        25.016       1   194.0   \n1     2020-01-02 20:18:05+00:00        33.097       1  4275.0   \n2     2020-01-02 16:35:06+00:00         6.521       1   344.0   \n3     2020-01-02 15:18:45+00:00         2.355       1  1117.0   \n4     2020-01-02 18:17:30+00:00        13.375       1   334.0   \n...                         ...           ...     ...     ...   \n56531 2019-07-01 21:13:56+00:00         6.048       1  2643.0   \n56532 2019-07-02 02:43:53+00:00        41.047       1   394.0   \n56533 2019-07-01 21:27:44+00:00         5.390       1  2276.0   \n56534 2019-07-01 23:14:33+00:00         8.399       1  1346.0   \n56535 2019-07-02 00:24:32+00:00        10.241       1  2299.0   \n\n      combinedSpaceStationID  timeConnected  idleTime  chargingTime  weekday  \\\n0        AG-3F30/1-1-179-810        21741.0    5980.0       15761.0        3   \n1        AG-1F01/1-1-193-825        32491.0    8416.0       24075.0        3   \n2        AG-1F03/1-1-193-829        38567.0   29056.0        9511.0        3   \n3        AG-1F04/1-1-193-820         9521.0    4794.0        4727.0        3   \n4        AG-1F06/1-1-193-819        29319.0   13870.0       15449.0        3   \n...                      ...            ...       ...           ...      ...   \n56531    AG-3F23/1-1-179-797        19889.0   12644.0        7245.0        0   \n56532    AG-4F38/1-1-191-793        26107.0     900.0       25207.0        0   \n56533    AG-3F15/1-1-179-813        14182.0   10988.0        3194.0        0   \n56534    AG-3F18/1-1-179-798        13686.0    8565.0        5121.0        0   \n56535    AG-1F06/1-1-193-819         9284.0    2780.0        6504.0        0   \n\n       month      time  WhPerMile  kWhRequested  milesRequested  \\\n0          1  13:08:54      250.0         25.00           100.0   \n1          1  13:36:50      280.0         70.00           250.0   \n2          1  13:56:35      400.0          8.00            20.0   \n3          1  13:59:58      400.0          8.00            20.0   \n4          1  14:00:01      400.0         16.00            40.0   \n...      ...       ...        ...           ...             ...   \n56531      7  19:13:11      275.0          8.25            30.0   \n56532      7  19:43:46      231.0         36.96           160.0   \n56533      7  20:34:30      300.0         12.00            40.0   \n56534      7  21:49:12      400.0         32.00            80.0   \n56535      7  22:36:08      333.0         16.65            50.0   \n\n       minutesAvailable                     modifiedAt paymentRequired  \\\n0                 463.0  Thu, 02 Jan 2020 13:09:39 GMT            True   \n1                 595.0  Thu, 02 Jan 2020 13:37:11 GMT            True   \n2                  60.0  Thu, 02 Jan 2020 13:57:17 GMT            True   \n3                  65.0  Thu, 02 Jan 2020 14:00:03 GMT            True   \n4                 504.0  Thu, 02 Jan 2020 14:00:13 GMT            True   \n...                 ...                            ...             ...   \n56531             374.0  Mon, 01 Jul 2019 19:13:10 GMT            True   \n56532             310.0  Mon, 01 Jul 2019 19:43:58 GMT            True   \n56533             381.0  Mon, 01 Jul 2019 20:34:29 GMT            True   \n56534              36.0  Mon, 01 Jul 2019 21:49:37 GMT            True   \n56535             191.0  Mon, 01 Jul 2019 22:36:08 GMT            True   \n\n                  requestedDeparture  \n0      Thu, 02 Jan 2020 20:51:54 GMT  \n1      Thu, 02 Jan 2020 23:31:50 GMT  \n2      Thu, 02 Jan 2020 14:56:35 GMT  \n3      Thu, 02 Jan 2020 15:04:58 GMT  \n4      Thu, 02 Jan 2020 22:24:01 GMT  \n...                              ...  \n56531  Tue, 02 Jul 2019 01:27:11 GMT  \n56532  Tue, 02 Jul 2019 00:53:46 GMT  \n56533  Tue, 02 Jul 2019 02:55:30 GMT  \n56534  Mon, 01 Jul 2019 22:25:12 GMT  \n56535  Tue, 02 Jul 2019 01:47:08 GMT  \n\n[56536 rows x 20 columns]",
      "text/html": "<div>\n<style scoped>\n    .dataframe tbody tr th:only-of-type {\n        vertical-align: middle;\n    }\n\n    .dataframe tbody tr th {\n        vertical-align: top;\n    }\n\n    .dataframe thead th {\n        text-align: right;\n    }\n</style>\n<table border=\"1\" class=\"dataframe\">\n  <thead>\n    <tr style=\"text-align: right;\">\n      <th></th>\n      <th>connectionTime</th>\n      <th>disconnectTime</th>\n      <th>doneChargingTime</th>\n      <th>kWhDelivered</th>\n      <th>siteID</th>\n      <th>userID</th>\n      <th>combinedSpaceStationID</th>\n      <th>timeConnected</th>\n      <th>idleTime</th>\n      <th>chargingTime</th>\n      <th>weekday</th>\n      <th>month</th>\n      <th>time</th>\n      <th>WhPerMile</th>\n      <th>kWhRequested</th>\n      <th>milesRequested</th>\n      <th>minutesAvailable</th>\n      <th>modifiedAt</th>\n      <th>paymentRequired</th>\n      <th>requestedDeparture</th>\n    </tr>\n  </thead>\n  <tbody>\n    <tr>\n      <th>0</th>\n      <td>2020-01-02 13:08:54+00:00</td>\n      <td>2020-01-02 19:11:15+00:00</td>\n      <td>2020-01-02 17:31:35+00:00</td>\n      <td>25.016</td>\n      <td>1</td>\n      <td>194.0</td>\n      <td>AG-3F30/1-1-179-810</td>\n      <td>21741.0</td>\n      <td>5980.0</td>\n      <td>15761.0</td>\n      <td>3</td>\n      <td>1</td>\n      <td>13:08:54</td>\n      <td>250.0</td>\n      <td>25.00</td>\n      <td>100.0</td>\n      <td>463.0</td>\n      <td>Thu, 02 Jan 2020 13:09:39 GMT</td>\n      <td>True</td>\n      <td>Thu, 02 Jan 2020 20:51:54 GMT</td>\n    </tr>\n    <tr>\n      <th>1</th>\n      <td>2020-01-02 13:36:50+00:00</td>\n      <td>2020-01-02 22:38:21+00:00</td>\n      <td>2020-01-02 20:18:05+00:00</td>\n      <td>33.097</td>\n      <td>1</td>\n      <td>4275.0</td>\n      <td>AG-1F01/1-1-193-825</td>\n      <td>32491.0</td>\n      <td>8416.0</td>\n      <td>24075.0</td>\n      <td>3</td>\n      <td>1</td>\n      <td>13:36:50</td>\n      <td>280.0</td>\n      <td>70.00</td>\n      <td>250.0</td>\n      <td>595.0</td>\n      <td>Thu, 02 Jan 2020 13:37:11 GMT</td>\n      <td>True</td>\n      <td>Thu, 02 Jan 2020 23:31:50 GMT</td>\n    </tr>\n    <tr>\n      <th>2</th>\n      <td>2020-01-02 13:56:35+00:00</td>\n      <td>2020-01-03 00:39:22+00:00</td>\n      <td>2020-01-02 16:35:06+00:00</td>\n      <td>6.521</td>\n      <td>1</td>\n      <td>344.0</td>\n      <td>AG-1F03/1-1-193-829</td>\n      <td>38567.0</td>\n      <td>29056.0</td>\n      <td>9511.0</td>\n      <td>3</td>\n      <td>1</td>\n      <td>13:56:35</td>\n      <td>400.0</td>\n      <td>8.00</td>\n      <td>20.0</td>\n      <td>60.0</td>\n      <td>Thu, 02 Jan 2020 13:57:17 GMT</td>\n      <td>True</td>\n      <td>Thu, 02 Jan 2020 14:56:35 GMT</td>\n    </tr>\n    <tr>\n      <th>3</th>\n      <td>2020-01-02 13:59:58+00:00</td>\n      <td>2020-01-02 16:38:39+00:00</td>\n      <td>2020-01-02 15:18:45+00:00</td>\n      <td>2.355</td>\n      <td>1</td>\n      <td>1117.0</td>\n      <td>AG-1F04/1-1-193-820</td>\n      <td>9521.0</td>\n      <td>4794.0</td>\n      <td>4727.0</td>\n      <td>3</td>\n      <td>1</td>\n      <td>13:59:58</td>\n      <td>400.0</td>\n      <td>8.00</td>\n      <td>20.0</td>\n      <td>65.0</td>\n      <td>Thu, 02 Jan 2020 14:00:03 GMT</td>\n      <td>True</td>\n      <td>Thu, 02 Jan 2020 15:04:58 GMT</td>\n    </tr>\n    <tr>\n      <th>4</th>\n      <td>2020-01-02 14:00:01+00:00</td>\n      <td>2020-01-02 22:08:40+00:00</td>\n      <td>2020-01-02 18:17:30+00:00</td>\n      <td>13.375</td>\n      <td>1</td>\n      <td>334.0</td>\n      <td>AG-1F06/1-1-193-819</td>\n      <td>29319.0</td>\n      <td>13870.0</td>\n      <td>15449.0</td>\n      <td>3</td>\n      <td>1</td>\n      <td>14:00:01</td>\n      <td>400.0</td>\n      <td>16.00</td>\n      <td>40.0</td>\n      <td>504.0</td>\n      <td>Thu, 02 Jan 2020 14:00:13 GMT</td>\n      <td>True</td>\n      <td>Thu, 02 Jan 2020 22:24:01 GMT</td>\n    </tr>\n    <tr>\n      <th>...</th>\n      <td>...</td>\n      <td>...</td>\n      <td>...</td>\n      <td>...</td>\n      <td>...</td>\n      <td>...</td>\n      <td>...</td>\n      <td>...</td>\n      <td>...</td>\n      <td>...</td>\n      <td>...</td>\n      <td>...</td>\n      <td>...</td>\n      <td>...</td>\n      <td>...</td>\n      <td>...</td>\n      <td>...</td>\n      <td>...</td>\n      <td>...</td>\n      <td>...</td>\n    </tr>\n    <tr>\n      <th>56531</th>\n      <td>2019-07-01 19:13:11+00:00</td>\n      <td>2019-07-02 00:44:40+00:00</td>\n      <td>2019-07-01 21:13:56+00:00</td>\n      <td>6.048</td>\n      <td>1</td>\n      <td>2643.0</td>\n      <td>AG-3F23/1-1-179-797</td>\n      <td>19889.0</td>\n      <td>12644.0</td>\n      <td>7245.0</td>\n      <td>0</td>\n      <td>7</td>\n      <td>19:13:11</td>\n      <td>275.0</td>\n      <td>8.25</td>\n      <td>30.0</td>\n      <td>374.0</td>\n      <td>Mon, 01 Jul 2019 19:13:10 GMT</td>\n      <td>True</td>\n      <td>Tue, 02 Jul 2019 01:27:11 GMT</td>\n    </tr>\n    <tr>\n      <th>56532</th>\n      <td>2019-07-01 19:43:46+00:00</td>\n      <td>2019-07-02 02:58:53+00:00</td>\n      <td>2019-07-02 02:43:53+00:00</td>\n      <td>41.047</td>\n      <td>1</td>\n      <td>394.0</td>\n      <td>AG-4F38/1-1-191-793</td>\n      <td>26107.0</td>\n      <td>900.0</td>\n      <td>25207.0</td>\n      <td>0</td>\n      <td>7</td>\n      <td>19:43:46</td>\n      <td>231.0</td>\n      <td>36.96</td>\n      <td>160.0</td>\n      <td>310.0</td>\n      <td>Mon, 01 Jul 2019 19:43:58 GMT</td>\n      <td>True</td>\n      <td>Tue, 02 Jul 2019 00:53:46 GMT</td>\n    </tr>\n    <tr>\n      <th>56533</th>\n      <td>2019-07-01 20:34:30+00:00</td>\n      <td>2019-07-02 00:30:52+00:00</td>\n      <td>2019-07-01 21:27:44+00:00</td>\n      <td>5.390</td>\n      <td>1</td>\n      <td>2276.0</td>\n      <td>AG-3F15/1-1-179-813</td>\n      <td>14182.0</td>\n      <td>10988.0</td>\n      <td>3194.0</td>\n      <td>0</td>\n      <td>7</td>\n      <td>20:34:30</td>\n      <td>300.0</td>\n      <td>12.00</td>\n      <td>40.0</td>\n      <td>381.0</td>\n      <td>Mon, 01 Jul 2019 20:34:29 GMT</td>\n      <td>True</td>\n      <td>Tue, 02 Jul 2019 02:55:30 GMT</td>\n    </tr>\n    <tr>\n      <th>56534</th>\n      <td>2019-07-01 21:49:12+00:00</td>\n      <td>2019-07-02 01:37:18+00:00</td>\n      <td>2019-07-01 23:14:33+00:00</td>\n      <td>8.399</td>\n      <td>1</td>\n      <td>1346.0</td>\n      <td>AG-3F18/1-1-179-798</td>\n      <td>13686.0</td>\n      <td>8565.0</td>\n      <td>5121.0</td>\n      <td>0</td>\n      <td>7</td>\n      <td>21:49:12</td>\n      <td>400.0</td>\n      <td>32.00</td>\n      <td>80.0</td>\n      <td>36.0</td>\n      <td>Mon, 01 Jul 2019 21:49:37 GMT</td>\n      <td>True</td>\n      <td>Mon, 01 Jul 2019 22:25:12 GMT</td>\n    </tr>\n    <tr>\n      <th>56535</th>\n      <td>2019-07-01 22:36:08+00:00</td>\n      <td>2019-07-02 01:10:52+00:00</td>\n      <td>2019-07-02 00:24:32+00:00</td>\n      <td>10.241</td>\n      <td>1</td>\n      <td>2299.0</td>\n      <td>AG-1F06/1-1-193-819</td>\n      <td>9284.0</td>\n      <td>2780.0</td>\n      <td>6504.0</td>\n      <td>0</td>\n      <td>7</td>\n      <td>22:36:08</td>\n      <td>333.0</td>\n      <td>16.65</td>\n      <td>50.0</td>\n      <td>191.0</td>\n      <td>Mon, 01 Jul 2019 22:36:08 GMT</td>\n      <td>True</td>\n      <td>Tue, 02 Jul 2019 01:47:08 GMT</td>\n    </tr>\n  </tbody>\n</table>\n<p>56536 rows × 20 columns</p>\n</div>"
     },
     "execution_count": 2,
     "metadata": {},
     "output_type": "execute_result"
    }
   ],
   "source": [
    "data = pd.read_pickle(\"./data/prepared/preparedData.pkl\")\n",
    "data"
   ]
  },
  {
   "cell_type": "markdown",
   "metadata": {
    "collapsed": false,
    "jupyter": {
     "outputs_hidden": false
    }
   },
   "source": [
    "In the following, we now try to assess which site in the data set represents the public site and the private site respectively. We start by grouping the sites and examine the total count of sessions that took place on a certain weekday at the respective site and try to assess if there are any significant differences in the data."
   ]
  },
  {
   "cell_type": "code",
   "execution_count": 3,
   "metadata": {
    "collapsed": false,
    "jupyter": {
     "outputs_hidden": false
    },
    "ExecuteTime": {
     "end_time": "2024-02-07T22:14:49.916040900Z",
     "start_time": "2024-02-07T22:14:49.902884700Z"
    }
   },
   "outputs": [],
   "source": [
    "sessions_by_weekday = data.groupby([\"siteID\", \"weekday\"]).size().reset_index(name=\"session_count\")"
   ]
  },
  {
   "cell_type": "code",
   "execution_count": 4,
   "metadata": {
    "collapsed": false,
    "jupyter": {
     "outputs_hidden": false
    },
    "ExecuteTime": {
     "end_time": "2024-02-07T22:14:49.950207Z",
     "start_time": "2024-02-07T22:14:49.918041900Z"
    }
   },
   "outputs": [
    {
     "name": "stdout",
     "output_type": "stream",
     "text": [
      "    siteID  weekday  session_count\n",
      "0        1        0           5445\n",
      "1        1        1           6087\n",
      "2        1        2           5912\n",
      "3        1        3           5893\n",
      "4        1        4           4253\n",
      "5        1        5            494\n",
      "6        1        6            300\n",
      "7        2        0           4271\n",
      "8        2        1           4886\n",
      "9        2        2           4973\n",
      "10       2        3           4869\n",
      "11       2        4           4851\n",
      "12       2        5           2375\n",
      "13       2        6           1927\n"
     ]
    }
   ],
   "source": [
    "print(sessions_by_weekday)"
   ]
  },
  {
   "cell_type": "code",
   "execution_count": 5,
   "metadata": {
    "collapsed": false,
    "jupyter": {
     "outputs_hidden": false
    },
    "ExecuteTime": {
     "end_time": "2024-02-07T22:14:49.981661900Z",
     "start_time": "2024-02-07T22:14:49.933108600Z"
    }
   },
   "outputs": [
    {
     "name": "stdout",
     "output_type": "stream",
     "text": [
      "    siteID    weekday  session_count\n",
      "0        1     Monday           5445\n",
      "1        1    Tuesday           6087\n",
      "2        1  Wednesday           5912\n",
      "3        1   Thursday           5893\n",
      "4        1     Friday           4253\n",
      "5        1   Saturday            494\n",
      "6        1     Sunday            300\n",
      "7        2     Monday           4271\n",
      "8        2    Tuesday           4886\n",
      "9        2  Wednesday           4973\n",
      "10       2   Thursday           4869\n",
      "11       2     Friday           4851\n",
      "12       2   Saturday           2375\n",
      "13       2     Sunday           1927\n"
     ]
    }
   ],
   "source": [
    "# mapping of weekday numbers to weekday names\n",
    "weekday_mapping = {0: \"Monday\", 1: \"Tuesday\", 2: \"Wednesday\", 3: \"Thursday\", 4: \"Friday\", 5: \"Saturday\", 6: \"Sunday\"}\n",
    "\n",
    "# transform weekday numbers into weekday names\n",
    "sessions_by_weekday[\"weekday\"] = sessions_by_weekday[\"weekday\"].map(weekday_mapping)\n",
    "\n",
    "print(sessions_by_weekday)"
   ]
  },
  {
   "cell_type": "code",
   "execution_count": 6,
   "metadata": {
    "collapsed": false,
    "jupyter": {
     "outputs_hidden": false
    },
    "ExecuteTime": {
     "end_time": "2024-02-07T22:14:50.019562700Z",
     "start_time": "2024-02-07T22:14:49.950207Z"
    }
   },
   "outputs": [
    {
     "name": "stdout",
     "output_type": "stream",
     "text": [
      "   siteID  total_sessions\n",
      "0       1           28384\n",
      "1       2           28152\n"
     ]
    }
   ],
   "source": [
    "# calculate the total amount of sessios per siteID\n",
    "total_sessions_per_site = sessions_by_weekday.groupby(\"siteID\")[\"session_count\"].sum().reset_index(name=\"total_sessions\")\n",
    "# assign the total amount of charging sessions per siteID to the DataFrame\n",
    "sessions_by_weekday = pd.merge(sessions_by_weekday, total_sessions_per_site, on=\"siteID\")\n",
    "print(total_sessions_per_site)"
   ]
  },
  {
   "cell_type": "code",
   "execution_count": 7,
   "metadata": {
    "collapsed": false,
    "jupyter": {
     "outputs_hidden": false
    },
    "ExecuteTime": {
     "end_time": "2024-02-07T22:14:50.028605800Z",
     "start_time": "2024-02-07T22:14:49.964823400Z"
    }
   },
   "outputs": [
    {
     "name": "stdout",
     "output_type": "stream",
     "text": [
      "    siteID    weekday  session_count  total_sessions  relative_session_count\n",
      "0        1     Monday           5445           28384                0.191833\n",
      "1        1    Tuesday           6087           28384                0.214452\n",
      "2        1  Wednesday           5912           28384                0.208286\n",
      "3        1   Thursday           5893           28384                0.207617\n",
      "4        1     Friday           4253           28384                0.149838\n",
      "5        1   Saturday            494           28384                0.017404\n",
      "6        1     Sunday            300           28384                0.010569\n",
      "7        2     Monday           4271           28152                0.151712\n",
      "8        2    Tuesday           4886           28152                0.173558\n",
      "9        2  Wednesday           4973           28152                0.176648\n",
      "10       2   Thursday           4869           28152                0.172954\n",
      "11       2     Friday           4851           28152                0.172315\n",
      "12       2   Saturday           2375           28152                0.084363\n",
      "13       2     Sunday           1927           28152                0.068450\n"
     ]
    }
   ],
   "source": [
    "# add a collumn regarding the relative amount of sessions\n",
    "sessions_by_weekday[\"relative_session_count\"] = sessions_by_weekday[\"session_count\"] / sessions_by_weekday.groupby(\"siteID\")[\"session_count\"].transform('sum')\n",
    "print(sessions_by_weekday)"
   ]
  },
  {
   "cell_type": "code",
   "execution_count": 8,
   "metadata": {
    "collapsed": false,
    "jupyter": {
     "outputs_hidden": false
    },
    "ExecuteTime": {
     "end_time": "2024-02-07T22:14:50.103009900Z",
     "start_time": "2024-02-07T22:14:49.980657200Z"
    }
   },
   "outputs": [
    {
     "data": {
      "text/plain": "<Figure size 1000x600 with 1 Axes>",
      "image/png": "[encoded data removed]"
     },
     "metadata": {},
     "output_type": "display_data"
    }
   ],
   "source": [
    "import numpy as np\n",
    "import matplotlib.pyplot as plt\n",
    "\n",
    "# Plot\n",
    "fig, ax = plt.subplots(figsize=(10, 6))\n",
    "\n",
    "site_ids = sessions_by_weekday[\"siteID\"].unique()\n",
    "bar_width = 0.35\n",
    "\n",
    "for i, site_id in enumerate(site_ids):\n",
    "    weekday_data = sessions_by_weekday[sessions_by_weekday[\"siteID\"] == site_id]\n",
    "    x_positions = np.arange(len(weekday_data)) + i * bar_width\n",
    "    ax.bar(x_positions, weekday_data[\"relative_session_count\"], label=f'Site {site_id}', width=bar_width)\n",
    "\n",
    "# replace x-axis labeling by the weekday name\n",
    "ax.set_xticks(np.arange(len(weekday_data)) + (len(site_ids) - 1) * bar_width / 2)\n",
    "ax.set_xticklabels([weekday_mapping.get(w, str(w)) for w in weekday_data[\"weekday\"]])\n",
    "\n",
    "ax.set_xlabel(\"weekday\")\n",
    "ax.set_ylabel(\"relative amount of sessions\")\n",
    "ax.legend()\n",
    "\n",
    "plt.show()"
   ]
  },
  {
   "cell_type": "markdown",
   "metadata": {
    "collapsed": false,
    "jupyter": {
     "outputs_hidden": false
    }
   },
   "source": [
    "As we can see, the weekend differs notably between the two sites. At first instict, we could make the assumption that the private site, which is only open to the employees of a company, should have significantly less traffic on weekends (since there is no business hours there), than the public university site where students and staff might still use the parking spots on the weekend. An exemplary use cases might be learning at the university's library on the weekend like many students do. Also, since it represents a public site, people not associated with the university might be using the parking spaces as well.\n",
    "\n",
    "Based on these findings we shall make the initial thesis that site 1 represents the private site and site 2 represents the public one.\n",
    "\n",
    "Next, we shall compare the average time a customer uses the parking space between the two sites. Since a typical work day consists of around 8 hours, we might see a pattern in the data in contrast to the public space where parking times might fluctuate more."
   ]
  },
  {
   "cell_type": "code",
   "execution_count": 9,
   "metadata": {
    "collapsed": false,
    "jupyter": {
     "outputs_hidden": false
    },
    "ExecuteTime": {
     "end_time": "2024-02-07T22:14:50.131672500Z",
     "start_time": "2024-02-07T22:14:50.104009Z"
    }
   },
   "outputs": [
    {
     "name": "stdout",
     "output_type": "stream",
     "text": [
      "siteID\n",
      "1    7.195555\n",
      "2    5.868379\n",
      "Name: timeConnected, dtype: float64\n"
     ]
    }
   ],
   "source": [
    "# group by \"siteID\" and calculate how long an average charging session takes in hours\n",
    "average_session_duration = data.groupby(\"siteID\")[\"timeConnected\"].mean()/60/60\n",
    "\n",
    "print(average_session_duration)"
   ]
  },
  {
   "cell_type": "markdown",
   "metadata": {
    "collapsed": false,
    "jupyter": {
     "outputs_hidden": false
    }
   },
   "source": [
    "As we can see, the average session at site 1 is around 7 hours long, which fits the assumption of being work place, considering there are also people in the work force that do not work a full 8 hour day, i.e. part-time workers. Site 1 also shows an average of around 1:12h more parking time than site 2, which could be argued to fit the more irregular and possibly short-timed nature of parking sessions at a public site."
   ]
  },
  {
   "cell_type": "code",
   "execution_count": 10,
   "metadata": {
    "collapsed": false,
    "jupyter": {
     "outputs_hidden": false
    },
    "ExecuteTime": {
     "end_time": "2024-02-07T22:14:50.143734Z",
     "start_time": "2024-02-07T22:14:50.119635200Z"
    }
   },
   "outputs": [
    {
     "name": "stdout",
     "output_type": "stream",
     "text": [
      "          median       min         max\n",
      "siteID                                \n",
      "1       8.125556  0.050833   81.076944\n",
      "2       5.027778  0.077778  245.269167\n"
     ]
    }
   ],
   "source": [
    "# Group by \"siteID\" and calculate the median, minimum, and maximum session duration in hours\n",
    "session_duration_stats = data.groupby(\"siteID\")[\"timeConnected\"].agg(\n",
    "    median=\"median\", min=\"min\", max=\"max\") / 3600\n",
    "\n",
    "print(session_duration_stats)"
   ]
  },
  {
   "cell_type": "markdown",
   "metadata": {
    "collapsed": false,
    "jupyter": {
     "outputs_hidden": false
    }
   },
   "source": [
    "Note that the median of charging sessions for site 1 (private) fits the typical duration of a work day.\n",
    "\n",
    "Next, we compare the total amount of distinct users between the two sites. Maybe the public site amounts for a larger user base."
   ]
  },
  {
   "cell_type": "code",
   "execution_count": 11,
   "metadata": {
    "collapsed": false,
    "jupyter": {
     "outputs_hidden": false
    },
    "ExecuteTime": {
     "end_time": "2024-02-07T22:14:50.148807700Z",
     "start_time": "2024-02-07T22:14:50.135679800Z"
    }
   },
   "outputs": [
    {
     "name": "stdout",
     "output_type": "stream",
     "text": [
      "siteID\n",
      "1    499\n",
      "2    455\n",
      "Name: userID, dtype: int64\n"
     ]
    }
   ],
   "source": [
    "# Group by \"siteID\" and count the number of unique users\n",
    "unique_users_per_site = data.groupby(\"siteID\")[\"userID\"].nunique()\n",
    "\n",
    "# Output the results\n",
    "print(unique_users_per_site)"
   ]
  },
  {
   "cell_type": "markdown",
   "metadata": {
    "collapsed": false,
    "jupyter": {
     "outputs_hidden": false
    }
   },
   "source": [
    "The total mount of distint users between the two sites does not differ significantly, thus we cannot conclude any findings from this."
   ]
  },
  {
   "cell_type": "code",
   "execution_count": 12,
   "metadata": {
    "collapsed": false,
    "jupyter": {
     "outputs_hidden": false
    },
    "ExecuteTime": {
     "end_time": "2024-02-07T22:14:50.183005800Z",
     "start_time": "2024-02-07T22:14:50.150337900Z"
    }
   },
   "outputs": [
    {
     "name": "stdout",
     "output_type": "stream",
     "text": [
      "    siteID  month  session_count\n",
      "0        1      1           3003\n",
      "1        1      2           2838\n",
      "2        1      3           2843\n",
      "3        1      4           2201\n",
      "4        1      5           2424\n",
      "5        1      6           2190\n",
      "6        1      7           2174\n",
      "7        1      8           2087\n",
      "8        1      9           1502\n",
      "9        1     10           2447\n",
      "10       1     11           2453\n",
      "11       1     12           2222\n",
      "12       2      1           1795\n",
      "13       2      2           1580\n",
      "14       2      3           1440\n",
      "15       2      4           1410\n",
      "16       2      5           2831\n",
      "17       2      6           2528\n",
      "18       2      7           3123\n",
      "19       2      8           3502\n",
      "20       2      9           3179\n",
      "21       2     10           3152\n",
      "22       2     11           2048\n",
      "23       2     12           1564\n"
     ]
    }
   ],
   "source": [
    "# Extract month separately\n",
    "data[\"month\"] = data[\"connectionTime\"].dt.month\n",
    "\n",
    "# Group by \"siteID\" and \"month\" to calculate the number of sessions per site per month\n",
    "sessions_per_month = data.groupby([\"siteID\", \"month\"]).size().reset_index(name=\"session_count\")\n",
    "\n",
    "# Output the results\n",
    "print(sessions_per_month)"
   ]
  },
  {
   "cell_type": "code",
   "execution_count": 13,
   "metadata": {
    "collapsed": false,
    "jupyter": {
     "outputs_hidden": false
    },
    "ExecuteTime": {
     "end_time": "2024-02-07T22:14:50.290381500Z",
     "start_time": "2024-02-07T22:14:50.166410500Z"
    }
   },
   "outputs": [
    {
     "data": {
      "text/plain": "<Figure size 640x480 with 1 Axes>",
      "image/png": "[encoded data removed]"
     },
     "metadata": {},
     "output_type": "display_data"
    }
   ],
   "source": [
    "# Plot the sessions per month for each site\n",
    "fig, ax = plt.subplots()\n",
    "site_ids = sessions_per_month[\"siteID\"].unique()\n",
    "\n",
    "bar_width = 0.35\n",
    "for i, site_id in enumerate(site_ids):\n",
    "    monthly_data = sessions_per_month[sessions_per_month[\"siteID\"] == site_id]\n",
    "    ax.bar(monthly_data[\"month\"] + i * bar_width, monthly_data[\"session_count\"], label=f'Site {site_id}', width=bar_width)\n",
    "\n",
    "# Add labels and legend\n",
    "ax.set_xlabel(\"Month\")\n",
    "ax.set_ylabel(\"Number of Sessions\")\n",
    "ax.set_xticks(sessions_per_month[\"month\"].unique() + (len(site_ids) - 1) * bar_width / 2)\n",
    "ax.set_xticklabels(sessions_per_month[\"month\"].unique())\n",
    "ax.legend()\n",
    "\n",
    "# Show the plot\n",
    "plt.show()"
   ]
  },
  {
   "cell_type": "markdown",
   "metadata": {
    "collapsed": false,
    "jupyter": {
     "outputs_hidden": false
    }
   },
   "source": [
    "Note that the number of charging sessions fluctuates more at the second (assumed public) site. A rather far fetched explanation might be that students might be more motivated to go to university in summer, while the employees have to go to work no matter the weather.\n",
    "\n",
    "Possibly the pandemic also has an impact here since there were fewer lockdowns during summer months, so people were more able to go to university during the summer."
   ]
  }
 ],
 "metadata": {
  "kernelspec": {
   "display_name": "Python 3 (ipykernel)",
   "language": "python",
   "name": "python3"
  },
  "language_info": {
   "codemirror_mode": {
    "name": "ipython",
    "version": 3
   },
   "file_extension": ".py",
   "mimetype": "text/x-python",
   "name": "python",
   "nbconvert_exporter": "python",
   "pygments_lexer": "ipython3",
   "version": "3.11.7"
  }
 },
 "nbformat": 4,
 "nbformat_minor": 4
}
