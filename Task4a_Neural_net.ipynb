{
 "cells": [
  {
   "cell_type": "code",
   "execution_count": 1,
   "metadata": {
    "collapsed": true,
    "ExecuteTime": {
     "end_time": "2024-01-28T16:37:37.642178200Z",
     "start_time": "2024-01-28T16:37:33.788510400Z"
    }
   },
   "outputs": [
    {
     "name": "stdout",
     "output_type": "stream",
     "text": [
      "WARNING:tensorflow:From C:\\Users\\Ann\\anaconda3\\envs\\AA_Assignment\\lib\\site-packages\\keras\\src\\losses.py:2976: The name tf.losses.sparse_softmax_cross_entropy is deprecated. Please use tf.compat.v1.losses.sparse_softmax_cross_entropy instead.\n",
      "\n"
     ]
    }
   ],
   "source": [
    "import pandas as pd\n",
    "from sklearn.model_selection import train_test_split\n",
    "from sklearn.preprocessing import MinMaxScaler\n",
    "import tensorflow as tf"
   ]
  },
  {
   "cell_type": "code",
   "execution_count": 2,
   "outputs": [],
   "source": [
    "site_1 = pd.read_pickle(\"utilization_data_site1.pkl\")\n",
    "site_2 = pd.read_pickle(\"utilization_data_site2.pkl\")"
   ],
   "metadata": {
    "collapsed": false,
    "ExecuteTime": {
     "end_time": "2024-01-28T16:37:37.657727700Z",
     "start_time": "2024-01-28T16:37:37.643681400Z"
    }
   }
  },
  {
   "cell_type": "code",
   "execution_count": 3,
   "outputs": [
    {
     "data": {
      "text/plain": "       hour  weekday  month  holiday  utilization  temperature  precipitation\n0        13        0     10     True     0.076923         13.0            0.0\n1        14        0     10     True     0.365385         14.0            0.0\n2        15        0     10     True     0.365385         17.0            0.0\n3        16        0     10     True     0.365385         18.0            0.0\n4        17        0     10     True     0.365385         20.0            0.0\n...     ...      ...    ...      ...          ...          ...            ...\n12966    19        1      3     True     0.057692         23.0            0.0\n12967    20        1      3     True     0.057692         24.0            0.0\n12968    21        1      3     True     0.057692         25.0            0.0\n12969    22        1      3     True     0.057692         24.0            0.0\n12970    23        1      3     True     0.038462         23.0            0.0\n\n[12971 rows x 7 columns]",
      "text/html": "<div>\n<style scoped>\n    .dataframe tbody tr th:only-of-type {\n        vertical-align: middle;\n    }\n\n    .dataframe tbody tr th {\n        vertical-align: top;\n    }\n\n    .dataframe thead th {\n        text-align: right;\n    }\n</style>\n<table border=\"1\" class=\"dataframe\">\n  <thead>\n    <tr style=\"text-align: right;\">\n      <th></th>\n      <th>hour</th>\n      <th>weekday</th>\n      <th>month</th>\n      <th>holiday</th>\n      <th>utilization</th>\n      <th>temperature</th>\n      <th>precipitation</th>\n    </tr>\n  </thead>\n  <tbody>\n    <tr>\n      <th>0</th>\n      <td>13</td>\n      <td>0</td>\n      <td>10</td>\n      <td>True</td>\n      <td>0.076923</td>\n      <td>13.0</td>\n      <td>0.0</td>\n    </tr>\n    <tr>\n      <th>1</th>\n      <td>14</td>\n      <td>0</td>\n      <td>10</td>\n      <td>True</td>\n      <td>0.365385</td>\n      <td>14.0</td>\n      <td>0.0</td>\n    </tr>\n    <tr>\n      <th>2</th>\n      <td>15</td>\n      <td>0</td>\n      <td>10</td>\n      <td>True</td>\n      <td>0.365385</td>\n      <td>17.0</td>\n      <td>0.0</td>\n    </tr>\n    <tr>\n      <th>3</th>\n      <td>16</td>\n      <td>0</td>\n      <td>10</td>\n      <td>True</td>\n      <td>0.365385</td>\n      <td>18.0</td>\n      <td>0.0</td>\n    </tr>\n    <tr>\n      <th>4</th>\n      <td>17</td>\n      <td>0</td>\n      <td>10</td>\n      <td>True</td>\n      <td>0.365385</td>\n      <td>20.0</td>\n      <td>0.0</td>\n    </tr>\n    <tr>\n      <th>...</th>\n      <td>...</td>\n      <td>...</td>\n      <td>...</td>\n      <td>...</td>\n      <td>...</td>\n      <td>...</td>\n      <td>...</td>\n    </tr>\n    <tr>\n      <th>12966</th>\n      <td>19</td>\n      <td>1</td>\n      <td>3</td>\n      <td>True</td>\n      <td>0.057692</td>\n      <td>23.0</td>\n      <td>0.0</td>\n    </tr>\n    <tr>\n      <th>12967</th>\n      <td>20</td>\n      <td>1</td>\n      <td>3</td>\n      <td>True</td>\n      <td>0.057692</td>\n      <td>24.0</td>\n      <td>0.0</td>\n    </tr>\n    <tr>\n      <th>12968</th>\n      <td>21</td>\n      <td>1</td>\n      <td>3</td>\n      <td>True</td>\n      <td>0.057692</td>\n      <td>25.0</td>\n      <td>0.0</td>\n    </tr>\n    <tr>\n      <th>12969</th>\n      <td>22</td>\n      <td>1</td>\n      <td>3</td>\n      <td>True</td>\n      <td>0.057692</td>\n      <td>24.0</td>\n      <td>0.0</td>\n    </tr>\n    <tr>\n      <th>12970</th>\n      <td>23</td>\n      <td>1</td>\n      <td>3</td>\n      <td>True</td>\n      <td>0.038462</td>\n      <td>23.0</td>\n      <td>0.0</td>\n    </tr>\n  </tbody>\n</table>\n<p>12971 rows × 7 columns</p>\n</div>"
     },
     "execution_count": 3,
     "metadata": {},
     "output_type": "execute_result"
    }
   ],
   "source": [
    "site_1"
   ],
   "metadata": {
    "collapsed": false,
    "ExecuteTime": {
     "end_time": "2024-01-28T16:37:37.687265Z",
     "start_time": "2024-01-28T16:37:37.657727700Z"
    }
   }
  },
  {
   "cell_type": "code",
   "execution_count": 4,
   "outputs": [],
   "source": [
    "site_1_X = site_1.drop(columns = \"utilization\")\n",
    "site_1_y = site_1['utilization']\n",
    "site_2_X = site_2.drop(columns = 'utilization')\n",
    "site_2_y = site_2['utilization']"
   ],
   "metadata": {
    "collapsed": false,
    "ExecuteTime": {
     "end_time": "2024-01-28T16:37:37.718173100Z",
     "start_time": "2024-01-28T16:37:37.674763300Z"
    }
   }
  },
  {
   "cell_type": "code",
   "execution_count": 5,
   "outputs": [],
   "source": [
    "# Split data into train, test, validation 60/20/20\n",
    "site_1_X_train, site_1_X_test, site_1_y_train, site_1_y_test = train_test_split(site_1_X, site_1_y, test_size= 0.3, random_state=42)\n",
    "site_2_X_train, site_2_X_test, site_2_y_train, site_2_y_test = train_test_split(site_2_X, site_2_y, test_size= 0.3, random_state=42)"
   ],
   "metadata": {
    "collapsed": false,
    "ExecuteTime": {
     "end_time": "2024-01-28T16:37:37.739704700Z",
     "start_time": "2024-01-28T16:37:37.689266700Z"
    }
   }
  },
  {
   "cell_type": "code",
   "execution_count": 6,
   "outputs": [],
   "source": [
    "# Scale data using MinMaxScaler from sklearn\n",
    "site_1_scaler = MinMaxScaler()\n",
    "site_2_scaler = MinMaxScaler()\n",
    "\n",
    "site_1_scaler.fit(site_1_X_train)\n",
    "site_2_scaler.fit(site_2_X_train)\n",
    "\n",
    "site_1_X_train = site_1_scaler.fit_transform(site_1_X_train)\n",
    "site_1_X_test  = site_1_scaler.transform(site_1_X_test)\n",
    "\n",
    "site_2_X_train = site_2_scaler.fit_transform(site_2_X_train)\n",
    "site_2_X_test  = site_2_scaler.transform(site_2_X_test)"
   ],
   "metadata": {
    "collapsed": false,
    "ExecuteTime": {
     "end_time": "2024-01-28T16:37:37.751293800Z",
     "start_time": "2024-01-28T16:37:37.718173100Z"
    }
   }
  },
  {
   "cell_type": "code",
   "execution_count": 8,
   "outputs": [
    {
     "name": "stdout",
     "output_type": "stream",
     "text": [
      "Epoch 1/100\n",
      "284/284 [==============================] - 1s 685us/step - loss: 0.1707 - mae: 0.1707\n",
      "Epoch 2/100\n",
      "284/284 [==============================] - 0s 666us/step - loss: 0.1252 - mae: 0.1252\n",
      "Epoch 3/100\n",
      "284/284 [==============================] - 0s 678us/step - loss: 0.1082 - mae: 0.1082\n",
      "Epoch 4/100\n",
      "284/284 [==============================] - 0s 689us/step - loss: 0.0944 - mae: 0.0944\n",
      "Epoch 5/100\n",
      "284/284 [==============================] - 0s 691us/step - loss: 0.0898 - mae: 0.0898\n",
      "Epoch 6/100\n",
      "284/284 [==============================] - 0s 678us/step - loss: 0.0879 - mae: 0.0879\n",
      "Epoch 7/100\n",
      "284/284 [==============================] - 0s 682us/step - loss: 0.0869 - mae: 0.0869\n",
      "Epoch 8/100\n",
      "284/284 [==============================] - 0s 678us/step - loss: 0.0865 - mae: 0.0865\n",
      "Epoch 9/100\n",
      "284/284 [==============================] - 0s 687us/step - loss: 0.0853 - mae: 0.0853\n",
      "Epoch 10/100\n",
      "284/284 [==============================] - 0s 680us/step - loss: 0.0863 - mae: 0.0863\n",
      "Epoch 11/100\n",
      "284/284 [==============================] - 0s 673us/step - loss: 0.0846 - mae: 0.0846\n",
      "Epoch 12/100\n",
      "284/284 [==============================] - 0s 683us/step - loss: 0.0847 - mae: 0.0847\n",
      "Epoch 13/100\n",
      "284/284 [==============================] - 0s 692us/step - loss: 0.0843 - mae: 0.0843\n",
      "Epoch 14/100\n",
      "284/284 [==============================] - 0s 692us/step - loss: 0.0850 - mae: 0.0850\n",
      "Epoch 15/100\n",
      "284/284 [==============================] - 0s 691us/step - loss: 0.0836 - mae: 0.0836\n",
      "Epoch 16/100\n",
      "284/284 [==============================] - 0s 673us/step - loss: 0.0836 - mae: 0.0836\n",
      "Epoch 17/100\n",
      "284/284 [==============================] - 0s 683us/step - loss: 0.0838 - mae: 0.0838\n",
      "Epoch 18/100\n",
      "284/284 [==============================] - 0s 708us/step - loss: 0.0830 - mae: 0.0830\n",
      "Epoch 19/100\n",
      "284/284 [==============================] - 0s 697us/step - loss: 0.0842 - mae: 0.0842\n",
      "Epoch 20/100\n",
      "284/284 [==============================] - 0s 692us/step - loss: 0.0839 - mae: 0.0839\n",
      "Epoch 21/100\n",
      "284/284 [==============================] - 0s 682us/step - loss: 0.0828 - mae: 0.0828\n",
      "Epoch 22/100\n",
      "284/284 [==============================] - 0s 682us/step - loss: 0.0830 - mae: 0.0830\n",
      "Epoch 23/100\n",
      "284/284 [==============================] - 0s 681us/step - loss: 0.0824 - mae: 0.0824\n",
      "Epoch 24/100\n",
      "284/284 [==============================] - 0s 678us/step - loss: 0.0823 - mae: 0.0823\n",
      "Epoch 25/100\n",
      "284/284 [==============================] - 0s 680us/step - loss: 0.0822 - mae: 0.0822\n",
      "Epoch 26/100\n",
      "284/284 [==============================] - 0s 673us/step - loss: 0.0832 - mae: 0.0832\n",
      "Epoch 27/100\n",
      "284/284 [==============================] - 0s 680us/step - loss: 0.0822 - mae: 0.0822\n",
      "Epoch 28/100\n",
      "284/284 [==============================] - 0s 666us/step - loss: 0.0819 - mae: 0.0819\n",
      "Epoch 29/100\n",
      "284/284 [==============================] - 0s 689us/step - loss: 0.0814 - mae: 0.0814\n",
      "Epoch 30/100\n",
      "284/284 [==============================] - 0s 675us/step - loss: 0.0818 - mae: 0.0818\n",
      "Epoch 31/100\n",
      "284/284 [==============================] - 0s 674us/step - loss: 0.0817 - mae: 0.0817\n",
      "Epoch 32/100\n",
      "284/284 [==============================] - 0s 683us/step - loss: 0.0823 - mae: 0.0823\n",
      "Epoch 33/100\n",
      "284/284 [==============================] - 0s 674us/step - loss: 0.0820 - mae: 0.0820\n",
      "Epoch 34/100\n",
      "284/284 [==============================] - 0s 671us/step - loss: 0.0812 - mae: 0.0812\n",
      "Epoch 35/100\n",
      "284/284 [==============================] - 0s 676us/step - loss: 0.0805 - mae: 0.0805\n",
      "Epoch 36/100\n",
      "284/284 [==============================] - 0s 671us/step - loss: 0.0809 - mae: 0.0809\n",
      "Epoch 37/100\n",
      "284/284 [==============================] - 0s 683us/step - loss: 0.0806 - mae: 0.0806\n",
      "Epoch 38/100\n",
      "284/284 [==============================] - 0s 680us/step - loss: 0.0818 - mae: 0.0818\n",
      "Epoch 39/100\n",
      "284/284 [==============================] - 0s 669us/step - loss: 0.0809 - mae: 0.0809\n",
      "Epoch 40/100\n",
      "284/284 [==============================] - 0s 692us/step - loss: 0.0802 - mae: 0.0802\n",
      "Epoch 41/100\n",
      "284/284 [==============================] - 0s 680us/step - loss: 0.0806 - mae: 0.0806\n",
      "Epoch 42/100\n",
      "284/284 [==============================] - 0s 669us/step - loss: 0.0807 - mae: 0.0807\n",
      "Epoch 43/100\n",
      "284/284 [==============================] - 0s 671us/step - loss: 0.0802 - mae: 0.0802\n",
      "Epoch 44/100\n",
      "284/284 [==============================] - 0s 696us/step - loss: 0.0798 - mae: 0.0798\n",
      "Epoch 45/100\n",
      "284/284 [==============================] - 0s 680us/step - loss: 0.0809 - mae: 0.0809\n",
      "Epoch 46/100\n",
      "284/284 [==============================] - 0s 681us/step - loss: 0.0810 - mae: 0.0810\n",
      "Epoch 47/100\n",
      "284/284 [==============================] - 0s 678us/step - loss: 0.0804 - mae: 0.0804\n",
      "Epoch 48/100\n",
      "284/284 [==============================] - 0s 678us/step - loss: 0.0815 - mae: 0.0815\n",
      "Epoch 49/100\n",
      "284/284 [==============================] - 0s 687us/step - loss: 0.0801 - mae: 0.0801\n",
      "Epoch 50/100\n",
      "284/284 [==============================] - 0s 676us/step - loss: 0.0803 - mae: 0.0803\n",
      "Epoch 51/100\n",
      "284/284 [==============================] - 0s 673us/step - loss: 0.0800 - mae: 0.0800\n",
      "Epoch 52/100\n",
      "284/284 [==============================] - 0s 680us/step - loss: 0.0800 - mae: 0.0800\n",
      "Epoch 53/100\n",
      "284/284 [==============================] - 0s 674us/step - loss: 0.0799 - mae: 0.0799\n",
      "Epoch 54/100\n",
      "284/284 [==============================] - 0s 672us/step - loss: 0.0804 - mae: 0.0804\n",
      "Epoch 55/100\n",
      "284/284 [==============================] - 0s 680us/step - loss: 0.0797 - mae: 0.0797\n",
      "Epoch 56/100\n",
      "284/284 [==============================] - 0s 675us/step - loss: 0.0795 - mae: 0.0795\n",
      "Epoch 57/100\n",
      "284/284 [==============================] - 0s 678us/step - loss: 0.0804 - mae: 0.0804\n",
      "Epoch 58/100\n",
      "284/284 [==============================] - 0s 678us/step - loss: 0.0802 - mae: 0.0802\n",
      "Epoch 59/100\n",
      "284/284 [==============================] - 0s 676us/step - loss: 0.0801 - mae: 0.0801\n",
      "Epoch 60/100\n",
      "284/284 [==============================] - 0s 669us/step - loss: 0.0793 - mae: 0.0793\n",
      "Epoch 61/100\n",
      "284/284 [==============================] - 0s 674us/step - loss: 0.0800 - mae: 0.0800\n",
      "Epoch 62/100\n",
      "284/284 [==============================] - 0s 699us/step - loss: 0.0793 - mae: 0.0793\n",
      "Epoch 63/100\n",
      "284/284 [==============================] - 0s 682us/step - loss: 0.0796 - mae: 0.0796\n",
      "Epoch 64/100\n",
      "284/284 [==============================] - 0s 680us/step - loss: 0.0797 - mae: 0.0797\n",
      "Epoch 65/100\n",
      "284/284 [==============================] - 0s 675us/step - loss: 0.0798 - mae: 0.0798\n",
      "Epoch 66/100\n",
      "284/284 [==============================] - 0s 685us/step - loss: 0.0796 - mae: 0.0796\n",
      "Epoch 67/100\n",
      "284/284 [==============================] - 0s 674us/step - loss: 0.0790 - mae: 0.0790\n",
      "Epoch 68/100\n",
      "284/284 [==============================] - 0s 674us/step - loss: 0.0793 - mae: 0.0793\n",
      "Epoch 69/100\n",
      "284/284 [==============================] - 0s 678us/step - loss: 0.0789 - mae: 0.0789\n",
      "Epoch 70/100\n",
      "284/284 [==============================] - 0s 673us/step - loss: 0.0795 - mae: 0.0795\n",
      "Epoch 71/100\n",
      "284/284 [==============================] - 0s 671us/step - loss: 0.0794 - mae: 0.0794\n",
      "Epoch 72/100\n",
      "284/284 [==============================] - 0s 674us/step - loss: 0.0793 - mae: 0.0793\n",
      "Epoch 73/100\n",
      "284/284 [==============================] - 0s 671us/step - loss: 0.0808 - mae: 0.0808\n",
      "Epoch 74/100\n",
      "284/284 [==============================] - 0s 671us/step - loss: 0.0791 - mae: 0.0791\n",
      "Epoch 75/100\n",
      "284/284 [==============================] - 0s 689us/step - loss: 0.0794 - mae: 0.0794\n",
      "Epoch 76/100\n",
      "284/284 [==============================] - 0s 692us/step - loss: 0.0787 - mae: 0.0787\n",
      "Epoch 77/100\n",
      "284/284 [==============================] - 0s 685us/step - loss: 0.0796 - mae: 0.0796\n",
      "Epoch 78/100\n",
      "284/284 [==============================] - 0s 676us/step - loss: 0.0787 - mae: 0.0787\n",
      "Epoch 79/100\n",
      "284/284 [==============================] - 0s 676us/step - loss: 0.0795 - mae: 0.0795\n",
      "Epoch 80/100\n",
      "284/284 [==============================] - 0s 668us/step - loss: 0.0794 - mae: 0.0794\n",
      "Epoch 81/100\n",
      "284/284 [==============================] - 0s 676us/step - loss: 0.0791 - mae: 0.0791\n",
      "Epoch 82/100\n",
      "284/284 [==============================] - 0s 689us/step - loss: 0.0791 - mae: 0.0791\n",
      "Epoch 83/100\n",
      "284/284 [==============================] - 0s 676us/step - loss: 0.0790 - mae: 0.0790\n",
      "Epoch 84/100\n",
      "284/284 [==============================] - 0s 673us/step - loss: 0.0790 - mae: 0.0790\n",
      "Epoch 85/100\n",
      "284/284 [==============================] - 0s 671us/step - loss: 0.0791 - mae: 0.0791\n",
      "Epoch 86/100\n",
      "284/284 [==============================] - 0s 665us/step - loss: 0.0789 - mae: 0.0789\n",
      "Epoch 87/100\n",
      "284/284 [==============================] - 0s 671us/step - loss: 0.0787 - mae: 0.0787\n",
      "Epoch 88/100\n",
      "284/284 [==============================] - 0s 662us/step - loss: 0.0789 - mae: 0.0789\n",
      "Epoch 89/100\n",
      "284/284 [==============================] - 0s 665us/step - loss: 0.0783 - mae: 0.0783\n",
      "Epoch 90/100\n",
      "284/284 [==============================] - 0s 662us/step - loss: 0.0787 - mae: 0.0787\n",
      "Epoch 91/100\n",
      "284/284 [==============================] - 0s 660us/step - loss: 0.0785 - mae: 0.0785\n",
      "Epoch 92/100\n",
      "284/284 [==============================] - 0s 667us/step - loss: 0.0790 - mae: 0.0790\n",
      "Epoch 93/100\n",
      "284/284 [==============================] - 0s 671us/step - loss: 0.0789 - mae: 0.0789\n",
      "Epoch 94/100\n",
      "284/284 [==============================] - 0s 667us/step - loss: 0.0784 - mae: 0.0784\n",
      "Epoch 95/100\n",
      "284/284 [==============================] - 0s 662us/step - loss: 0.0785 - mae: 0.0785\n",
      "Epoch 96/100\n",
      "284/284 [==============================] - 0s 666us/step - loss: 0.0780 - mae: 0.0780\n",
      "Epoch 97/100\n",
      "284/284 [==============================] - 0s 664us/step - loss: 0.0784 - mae: 0.0784\n",
      "Epoch 98/100\n",
      "284/284 [==============================] - 0s 664us/step - loss: 0.0783 - mae: 0.0783\n",
      "Epoch 99/100\n",
      "284/284 [==============================] - 0s 669us/step - loss: 0.0787 - mae: 0.0787\n",
      "Epoch 100/100\n",
      "284/284 [==============================] - 0s 667us/step - loss: 0.0785 - mae: 0.0785\n"
     ]
    },
    {
     "data": {
      "text/plain": "<keras.src.callbacks.History at 0x1cca93578e0>"
     },
     "execution_count": 8,
     "metadata": {},
     "output_type": "execute_result"
    }
   ],
   "source": [
    "model = tf.keras.Sequential([\n",
    "    tf.keras.layers.Dense(100, activation = \"relu\"),\n",
    "    tf.keras.layers.Dense(50, activation = \"relu\"),\n",
    "    tf.keras.layers.Dense(20, activation = \"relu\"),\n",
    "    tf.keras.layers.Dense(10, activation = \"relu\"),\n",
    "    tf.keras.layers.Dense(1, activation = \"relu\")\n",
    "])\n",
    "\n",
    "model.compile(loss = tf.keras.losses.mae,\n",
    "              optimizer = \"adam\",\n",
    "              metrics = [\"mae\"])\n",
    "model.fit(site_1_X_train, site_1_y_train, epochs = 100)"
   ],
   "metadata": {
    "collapsed": false,
    "ExecuteTime": {
     "end_time": "2024-01-28T16:38:24.324547400Z",
     "start_time": "2024-01-28T16:38:04.394410100Z"
    }
   }
  },
  {
   "cell_type": "code",
   "execution_count": 10,
   "outputs": [
    {
     "name": "stdout",
     "output_type": "stream",
     "text": [
      "122/122 [==============================] - 0s 580us/step - loss: 0.0789 - mae: 0.0789\n"
     ]
    },
    {
     "data": {
      "text/plain": "[0.0788896381855011, 0.0788896381855011]"
     },
     "execution_count": 10,
     "metadata": {},
     "output_type": "execute_result"
    }
   ],
   "source": [
    "model.evaluate(site_1_X_test, site_1_y_test)"
   ],
   "metadata": {
    "collapsed": false,
    "ExecuteTime": {
     "end_time": "2024-01-28T16:38:30.064280500Z",
     "start_time": "2024-01-28T16:38:29.864854400Z"
    }
   }
  },
  {
   "cell_type": "code",
   "execution_count": null,
   "outputs": [],
   "source": [],
   "metadata": {
    "collapsed": false
   }
  }
 ],
 "metadata": {
  "kernelspec": {
   "display_name": "Python 3",
   "language": "python",
   "name": "python3"
  },
  "language_info": {
   "codemirror_mode": {
    "name": "ipython",
    "version": 2
   },
   "file_extension": ".py",
   "mimetype": "text/x-python",
   "name": "python",
   "nbconvert_exporter": "python",
   "pygments_lexer": "ipython2",
   "version": "2.7.6"
  }
 },
 "nbformat": 4,
 "nbformat_minor": 0
}
