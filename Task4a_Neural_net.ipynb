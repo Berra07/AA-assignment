{
 "cells": [
  {
   "cell_type": "code",
   "execution_count": 1,
   "metadata": {
    "collapsed": true,
    "ExecuteTime": {
     "end_time": "2024-02-02T20:54:25.708963Z",
     "start_time": "2024-02-02T20:54:22.526570200Z"
    }
   },
   "outputs": [
    {
     "name": "stdout",
     "output_type": "stream",
     "text": [
      "WARNING:tensorflow:From C:\\Users\\Ann\\anaconda3\\envs\\AA_Assignment\\lib\\site-packages\\keras\\src\\losses.py:2976: The name tf.losses.sparse_softmax_cross_entropy is deprecated. Please use tf.compat.v1.losses.sparse_softmax_cross_entropy instead.\n",
      "\n"
     ]
    }
   ],
   "source": [
    "import pandas as pd\n",
    "from sklearn.model_selection import train_test_split\n",
    "from sklearn.preprocessing import MinMaxScaler\n",
    "import tensorflow as tf\n",
    "import numpy as np\n",
    "import seaborn as sns"
   ]
  },
  {
   "cell_type": "code",
   "execution_count": 2,
   "outputs": [],
   "source": [
    "site_1 = pd.read_pickle(\"utilization_data_site1.pkl\")\n",
    "site_2 = pd.read_pickle(\"utilization_data_site2.pkl\")"
   ],
   "metadata": {
    "collapsed": false,
    "ExecuteTime": {
     "end_time": "2024-02-02T20:54:25.723963700Z",
     "start_time": "2024-02-02T20:54:25.709965300Z"
    }
   }
  },
  {
   "cell_type": "code",
   "execution_count": 3,
   "outputs": [
    {
     "data": {
      "text/plain": "       hour  weekday  month  holiday  utilization  temperature  precipitation\n0        13        0     10     True     0.076923         13.0            0.0\n1        14        0     10     True     0.365385         14.0            0.0\n2        15        0     10     True     0.365385         17.0            0.0\n3        16        0     10     True     0.365385         18.0            0.0\n4        17        0     10     True     0.365385         20.0            0.0\n...     ...      ...    ...      ...          ...          ...            ...\n12966    19        1      3     True     0.057692         23.0            0.0\n12967    20        1      3     True     0.057692         24.0            0.0\n12968    21        1      3     True     0.057692         25.0            0.0\n12969    22        1      3     True     0.057692         24.0            0.0\n12970    23        1      3     True     0.038462         23.0            0.0\n\n[12971 rows x 7 columns]",
      "text/html": "<div>\n<style scoped>\n    .dataframe tbody tr th:only-of-type {\n        vertical-align: middle;\n    }\n\n    .dataframe tbody tr th {\n        vertical-align: top;\n    }\n\n    .dataframe thead th {\n        text-align: right;\n    }\n</style>\n<table border=\"1\" class=\"dataframe\">\n  <thead>\n    <tr style=\"text-align: right;\">\n      <th></th>\n      <th>hour</th>\n      <th>weekday</th>\n      <th>month</th>\n      <th>holiday</th>\n      <th>utilization</th>\n      <th>temperature</th>\n      <th>precipitation</th>\n    </tr>\n  </thead>\n  <tbody>\n    <tr>\n      <th>0</th>\n      <td>13</td>\n      <td>0</td>\n      <td>10</td>\n      <td>True</td>\n      <td>0.076923</td>\n      <td>13.0</td>\n      <td>0.0</td>\n    </tr>\n    <tr>\n      <th>1</th>\n      <td>14</td>\n      <td>0</td>\n      <td>10</td>\n      <td>True</td>\n      <td>0.365385</td>\n      <td>14.0</td>\n      <td>0.0</td>\n    </tr>\n    <tr>\n      <th>2</th>\n      <td>15</td>\n      <td>0</td>\n      <td>10</td>\n      <td>True</td>\n      <td>0.365385</td>\n      <td>17.0</td>\n      <td>0.0</td>\n    </tr>\n    <tr>\n      <th>3</th>\n      <td>16</td>\n      <td>0</td>\n      <td>10</td>\n      <td>True</td>\n      <td>0.365385</td>\n      <td>18.0</td>\n      <td>0.0</td>\n    </tr>\n    <tr>\n      <th>4</th>\n      <td>17</td>\n      <td>0</td>\n      <td>10</td>\n      <td>True</td>\n      <td>0.365385</td>\n      <td>20.0</td>\n      <td>0.0</td>\n    </tr>\n    <tr>\n      <th>...</th>\n      <td>...</td>\n      <td>...</td>\n      <td>...</td>\n      <td>...</td>\n      <td>...</td>\n      <td>...</td>\n      <td>...</td>\n    </tr>\n    <tr>\n      <th>12966</th>\n      <td>19</td>\n      <td>1</td>\n      <td>3</td>\n      <td>True</td>\n      <td>0.057692</td>\n      <td>23.0</td>\n      <td>0.0</td>\n    </tr>\n    <tr>\n      <th>12967</th>\n      <td>20</td>\n      <td>1</td>\n      <td>3</td>\n      <td>True</td>\n      <td>0.057692</td>\n      <td>24.0</td>\n      <td>0.0</td>\n    </tr>\n    <tr>\n      <th>12968</th>\n      <td>21</td>\n      <td>1</td>\n      <td>3</td>\n      <td>True</td>\n      <td>0.057692</td>\n      <td>25.0</td>\n      <td>0.0</td>\n    </tr>\n    <tr>\n      <th>12969</th>\n      <td>22</td>\n      <td>1</td>\n      <td>3</td>\n      <td>True</td>\n      <td>0.057692</td>\n      <td>24.0</td>\n      <td>0.0</td>\n    </tr>\n    <tr>\n      <th>12970</th>\n      <td>23</td>\n      <td>1</td>\n      <td>3</td>\n      <td>True</td>\n      <td>0.038462</td>\n      <td>23.0</td>\n      <td>0.0</td>\n    </tr>\n  </tbody>\n</table>\n<p>12971 rows × 7 columns</p>\n</div>"
     },
     "execution_count": 3,
     "metadata": {},
     "output_type": "execute_result"
    }
   ],
   "source": [
    "site_1"
   ],
   "metadata": {
    "collapsed": false,
    "ExecuteTime": {
     "end_time": "2024-02-02T20:54:25.744962200Z",
     "start_time": "2024-02-02T20:54:25.724963300Z"
    }
   }
  },
  {
   "cell_type": "code",
   "execution_count": 4,
   "outputs": [],
   "source": [
    "site_1_X = site_1.drop(columns = \"utilization\")\n",
    "site_1_y = site_1['utilization']\n",
    "site_2_X = site_2.drop(columns = 'utilization')\n",
    "site_2_y = site_2['utilization']"
   ],
   "metadata": {
    "collapsed": false,
    "ExecuteTime": {
     "end_time": "2024-02-02T20:54:25.787476100Z",
     "start_time": "2024-02-02T20:54:25.740964Z"
    }
   }
  },
  {
   "cell_type": "code",
   "execution_count": 5,
   "outputs": [],
   "source": [
    "# Split data into train, test, validation 60/20/20\n",
    "site_1_X_train, site_1_X_test, site_1_y_train, site_1_y_test = train_test_split(site_1_X, site_1_y, test_size= 0.4, random_state=42)\n",
    "site_2_X_train, site_2_X_test, site_2_y_train, site_2_y_test = train_test_split(site_2_X, site_2_y, test_size= 0.4, random_state=42)\n",
    "\n",
    "site_1_X_test, site_1_X_val, site_1_y_test, site_1_y_val = train_test_split(site_1_X_test, site_1_y_test, test_size=0.5, random_state=42)\n",
    "site_2_X_test, site_2_X_val, site_2_y_test, site_2_y_val = train_test_split(site_2_X_test, site_2_y_test, test_size=0.5, random_state=42)"
   ],
   "metadata": {
    "collapsed": false,
    "ExecuteTime": {
     "end_time": "2024-02-02T20:54:25.796477600Z",
     "start_time": "2024-02-02T20:54:25.774970700Z"
    }
   }
  },
  {
   "cell_type": "code",
   "execution_count": 6,
   "outputs": [],
   "source": [
    "# Scale data using MinMaxScaler from sklearn\n",
    "site_1_scaler = MinMaxScaler()\n",
    "site_2_scaler = MinMaxScaler()\n",
    "\n",
    "site_1_scaler.fit(site_1_X_train)\n",
    "site_2_scaler.fit(site_2_X_train)\n",
    "\n",
    "site_1_X_train = site_1_scaler.fit_transform(site_1_X_train)\n",
    "site_1_X_test  = site_1_scaler.transform(site_1_X_test)\n",
    "site_1_X_val  = site_1_scaler.transform(site_1_X_val)\n",
    "\n",
    "\n",
    "site_2_X_train = site_2_scaler.fit_transform(site_2_X_train)\n",
    "site_2_X_test  = site_2_scaler.transform(site_2_X_test)\n",
    "site_2_X_val  = site_2_scaler.transform(site_2_X_val)"
   ],
   "metadata": {
    "collapsed": false,
    "ExecuteTime": {
     "end_time": "2024-02-02T20:54:25.796477600Z",
     "start_time": "2024-02-02T20:54:25.774970700Z"
    }
   }
  },
  {
   "cell_type": "code",
   "execution_count": 7,
   "outputs": [
    {
     "name": "stdout",
     "output_type": "stream",
     "text": [
      "WARNING:tensorflow:From C:\\Users\\Ann\\anaconda3\\envs\\AA_Assignment\\lib\\site-packages\\keras\\src\\backend.py:873: The name tf.get_default_graph is deprecated. Please use tf.compat.v1.get_default_graph instead.\n",
      "\n",
      "WARNING:tensorflow:From C:\\Users\\Ann\\anaconda3\\envs\\AA_Assignment\\lib\\site-packages\\keras\\src\\optimizers\\__init__.py:309: The name tf.train.Optimizer is deprecated. Please use tf.compat.v1.train.Optimizer instead.\n",
      "\n",
      "Epoch 1/100\n",
      "WARNING:tensorflow:From C:\\Users\\Ann\\anaconda3\\envs\\AA_Assignment\\lib\\site-packages\\keras\\src\\utils\\tf_utils.py:492: The name tf.ragged.RaggedTensorValue is deprecated. Please use tf.compat.v1.ragged.RaggedTensorValue instead.\n",
      "\n",
      "WARNING:tensorflow:From C:\\Users\\Ann\\anaconda3\\envs\\AA_Assignment\\lib\\site-packages\\keras\\src\\engine\\base_layer_utils.py:384: The name tf.executing_eagerly_outside_functions is deprecated. Please use tf.compat.v1.executing_eagerly_outside_functions instead.\n",
      "\n",
      "244/244 [==============================] - 1s 703us/step - loss: 0.0604 - mae: 0.1694\n",
      "Epoch 2/100\n",
      "244/244 [==============================] - 0s 646us/step - loss: 0.0390 - mae: 0.1222\n",
      "Epoch 3/100\n",
      "244/244 [==============================] - 0s 665us/step - loss: 0.0283 - mae: 0.0983\n",
      "Epoch 4/100\n",
      "244/244 [==============================] - 0s 652us/step - loss: 0.0231 - mae: 0.0851\n",
      "Epoch 5/100\n",
      "244/244 [==============================] - 0s 630us/step - loss: 0.0222 - mae: 0.0816\n",
      "Epoch 6/100\n",
      "244/244 [==============================] - 0s 631us/step - loss: 0.0210 - mae: 0.0774\n",
      "Epoch 7/100\n",
      "244/244 [==============================] - 0s 646us/step - loss: 0.0206 - mae: 0.0765\n",
      "Epoch 8/100\n",
      "244/244 [==============================] - 0s 652us/step - loss: 0.0205 - mae: 0.0752\n",
      "Epoch 9/100\n",
      "244/244 [==============================] - 0s 650us/step - loss: 0.0201 - mae: 0.0736\n",
      "Epoch 10/100\n",
      "244/244 [==============================] - 0s 640us/step - loss: 0.0195 - mae: 0.0726\n",
      "Epoch 11/100\n",
      "244/244 [==============================] - 0s 644us/step - loss: 0.0199 - mae: 0.0730\n",
      "Epoch 12/100\n",
      "244/244 [==============================] - 0s 650us/step - loss: 0.0200 - mae: 0.0749\n",
      "Epoch 13/100\n",
      "244/244 [==============================] - 0s 628us/step - loss: 0.0196 - mae: 0.0726\n",
      "Epoch 14/100\n",
      "244/244 [==============================] - 0s 645us/step - loss: 0.0198 - mae: 0.0731\n",
      "Epoch 15/100\n",
      "244/244 [==============================] - 0s 656us/step - loss: 0.0195 - mae: 0.0718\n",
      "Epoch 16/100\n",
      "244/244 [==============================] - 0s 659us/step - loss: 0.0193 - mae: 0.0718\n",
      "Epoch 17/100\n",
      "244/244 [==============================] - 0s 646us/step - loss: 0.0189 - mae: 0.0707\n",
      "Epoch 18/100\n",
      "244/244 [==============================] - 0s 652us/step - loss: 0.0190 - mae: 0.0714\n",
      "Epoch 19/100\n",
      "244/244 [==============================] - 0s 646us/step - loss: 0.0188 - mae: 0.0709\n",
      "Epoch 20/100\n",
      "244/244 [==============================] - 0s 669us/step - loss: 0.0187 - mae: 0.0704\n",
      "Epoch 21/100\n",
      "244/244 [==============================] - 0s 657us/step - loss: 0.0190 - mae: 0.0709\n",
      "Epoch 22/100\n",
      "244/244 [==============================] - 0s 658us/step - loss: 0.0189 - mae: 0.0706\n",
      "Epoch 23/100\n",
      "244/244 [==============================] - 0s 644us/step - loss: 0.0182 - mae: 0.0691\n",
      "Epoch 24/100\n",
      "244/244 [==============================] - 0s 630us/step - loss: 0.0187 - mae: 0.0707\n",
      "Epoch 25/100\n",
      "244/244 [==============================] - 0s 631us/step - loss: 0.0183 - mae: 0.0693\n",
      "Epoch 26/100\n",
      "244/244 [==============================] - 0s 657us/step - loss: 0.0183 - mae: 0.0693\n",
      "Epoch 27/100\n",
      "244/244 [==============================] - 0s 652us/step - loss: 0.0182 - mae: 0.0693\n",
      "Epoch 28/100\n",
      "244/244 [==============================] - 0s 652us/step - loss: 0.0183 - mae: 0.0690\n",
      "Epoch 29/100\n",
      "244/244 [==============================] - 0s 657us/step - loss: 0.0187 - mae: 0.0711\n",
      "Epoch 30/100\n",
      "244/244 [==============================] - 0s 684us/step - loss: 0.0178 - mae: 0.0678\n",
      "Epoch 31/100\n",
      "244/244 [==============================] - 0s 643us/step - loss: 0.0181 - mae: 0.0692\n",
      "Epoch 32/100\n",
      "244/244 [==============================] - 0s 655us/step - loss: 0.0181 - mae: 0.0688\n",
      "Epoch 33/100\n",
      "244/244 [==============================] - 0s 648us/step - loss: 0.0179 - mae: 0.0684\n",
      "Epoch 34/100\n",
      "244/244 [==============================] - 0s 641us/step - loss: 0.0176 - mae: 0.0675\n",
      "Epoch 35/100\n",
      "244/244 [==============================] - 0s 685us/step - loss: 0.0176 - mae: 0.0678\n",
      "Epoch 36/100\n",
      "244/244 [==============================] - 0s 663us/step - loss: 0.0180 - mae: 0.0688\n",
      "Epoch 37/100\n",
      "244/244 [==============================] - 0s 661us/step - loss: 0.0179 - mae: 0.0680\n",
      "Epoch 38/100\n",
      "244/244 [==============================] - 0s 664us/step - loss: 0.0176 - mae: 0.0681\n",
      "Epoch 39/100\n",
      "244/244 [==============================] - 0s 649us/step - loss: 0.0175 - mae: 0.0682\n",
      "Epoch 40/100\n",
      "244/244 [==============================] - 0s 657us/step - loss: 0.0176 - mae: 0.0678\n",
      "Epoch 41/100\n",
      "244/244 [==============================] - 0s 648us/step - loss: 0.0173 - mae: 0.0663\n",
      "Epoch 42/100\n",
      "244/244 [==============================] - 0s 638us/step - loss: 0.0174 - mae: 0.0666\n",
      "Epoch 43/100\n",
      "244/244 [==============================] - 0s 636us/step - loss: 0.0173 - mae: 0.0676\n",
      "Epoch 44/100\n",
      "244/244 [==============================] - 0s 633us/step - loss: 0.0176 - mae: 0.0675\n",
      "Epoch 45/100\n",
      "244/244 [==============================] - 0s 628us/step - loss: 0.0175 - mae: 0.0680\n",
      "Epoch 46/100\n",
      "244/244 [==============================] - 0s 629us/step - loss: 0.0173 - mae: 0.0673\n",
      "Epoch 47/100\n",
      "244/244 [==============================] - 0s 626us/step - loss: 0.0172 - mae: 0.0670\n",
      "Epoch 48/100\n",
      "244/244 [==============================] - 0s 626us/step - loss: 0.0172 - mae: 0.0666\n",
      "Epoch 49/100\n",
      "244/244 [==============================] - 0s 622us/step - loss: 0.0168 - mae: 0.0654\n",
      "Epoch 50/100\n",
      "244/244 [==============================] - 0s 626us/step - loss: 0.0176 - mae: 0.0672\n",
      "Epoch 51/100\n",
      "244/244 [==============================] - 0s 620us/step - loss: 0.0171 - mae: 0.0661\n",
      "Epoch 52/100\n",
      "244/244 [==============================] - 0s 628us/step - loss: 0.0169 - mae: 0.0662\n",
      "Epoch 53/100\n",
      "244/244 [==============================] - 0s 642us/step - loss: 0.0171 - mae: 0.0657\n",
      "Epoch 54/100\n",
      "244/244 [==============================] - 0s 626us/step - loss: 0.0167 - mae: 0.0651\n",
      "Epoch 55/100\n",
      "244/244 [==============================] - 0s 637us/step - loss: 0.0170 - mae: 0.0663\n",
      "Epoch 56/100\n",
      "244/244 [==============================] - 0s 636us/step - loss: 0.0167 - mae: 0.0656\n",
      "Epoch 57/100\n",
      "244/244 [==============================] - 0s 629us/step - loss: 0.0168 - mae: 0.0662\n",
      "Epoch 58/100\n",
      "244/244 [==============================] - 0s 628us/step - loss: 0.0168 - mae: 0.0656\n",
      "Epoch 59/100\n",
      "244/244 [==============================] - 0s 636us/step - loss: 0.0167 - mae: 0.0649\n",
      "Epoch 60/100\n",
      "244/244 [==============================] - 0s 642us/step - loss: 0.0168 - mae: 0.0656\n",
      "Epoch 61/100\n",
      "244/244 [==============================] - 0s 648us/step - loss: 0.0165 - mae: 0.0647\n",
      "Epoch 62/100\n",
      "244/244 [==============================] - 0s 651us/step - loss: 0.0161 - mae: 0.0638\n",
      "Epoch 63/100\n",
      "244/244 [==============================] - 0s 656us/step - loss: 0.0165 - mae: 0.0646\n",
      "Epoch 64/100\n",
      "244/244 [==============================] - 0s 634us/step - loss: 0.0164 - mae: 0.0648\n",
      "Epoch 65/100\n",
      "244/244 [==============================] - 0s 628us/step - loss: 0.0164 - mae: 0.0645\n",
      "Epoch 66/100\n",
      "244/244 [==============================] - 0s 628us/step - loss: 0.0164 - mae: 0.0645\n",
      "Epoch 67/100\n",
      "244/244 [==============================] - 0s 628us/step - loss: 0.0165 - mae: 0.0645\n",
      "Epoch 68/100\n",
      "244/244 [==============================] - 0s 615us/step - loss: 0.0161 - mae: 0.0634\n",
      "Epoch 69/100\n",
      "244/244 [==============================] - 0s 622us/step - loss: 0.0166 - mae: 0.0649\n",
      "Epoch 70/100\n",
      "244/244 [==============================] - 0s 611us/step - loss: 0.0163 - mae: 0.0638\n",
      "Epoch 71/100\n",
      "244/244 [==============================] - 0s 625us/step - loss: 0.0164 - mae: 0.0645\n",
      "Epoch 72/100\n",
      "244/244 [==============================] - 0s 626us/step - loss: 0.0161 - mae: 0.0639\n",
      "Epoch 73/100\n",
      "244/244 [==============================] - 0s 622us/step - loss: 0.0163 - mae: 0.0636\n",
      "Epoch 74/100\n",
      "244/244 [==============================] - 0s 618us/step - loss: 0.0162 - mae: 0.0637\n",
      "Epoch 75/100\n",
      "244/244 [==============================] - 0s 638us/step - loss: 0.0162 - mae: 0.0637\n",
      "Epoch 76/100\n",
      "244/244 [==============================] - 0s 622us/step - loss: 0.0158 - mae: 0.0629\n",
      "Epoch 77/100\n",
      "244/244 [==============================] - 0s 626us/step - loss: 0.0161 - mae: 0.0629\n",
      "Epoch 78/100\n",
      "244/244 [==============================] - 0s 623us/step - loss: 0.0158 - mae: 0.0630\n",
      "Epoch 79/100\n",
      "244/244 [==============================] - 0s 621us/step - loss: 0.0158 - mae: 0.0631\n",
      "Epoch 80/100\n",
      "244/244 [==============================] - 0s 640us/step - loss: 0.0162 - mae: 0.0638\n",
      "Epoch 81/100\n",
      "244/244 [==============================] - 0s 624us/step - loss: 0.0159 - mae: 0.0629\n",
      "Epoch 82/100\n",
      "244/244 [==============================] - 0s 629us/step - loss: 0.0160 - mae: 0.0631\n",
      "Epoch 83/100\n",
      "244/244 [==============================] - 0s 624us/step - loss: 0.0160 - mae: 0.0632\n",
      "Epoch 84/100\n",
      "244/244 [==============================] - 0s 617us/step - loss: 0.0160 - mae: 0.0628\n",
      "Epoch 85/100\n",
      "244/244 [==============================] - 0s 643us/step - loss: 0.0162 - mae: 0.0639\n",
      "Epoch 86/100\n",
      "244/244 [==============================] - 0s 642us/step - loss: 0.0158 - mae: 0.0632\n",
      "Epoch 87/100\n",
      "244/244 [==============================] - 0s 652us/step - loss: 0.0156 - mae: 0.0626\n",
      "Epoch 88/100\n",
      "244/244 [==============================] - 0s 625us/step - loss: 0.0161 - mae: 0.0637\n",
      "Epoch 89/100\n",
      "244/244 [==============================] - 0s 618us/step - loss: 0.0158 - mae: 0.0628\n",
      "Epoch 90/100\n",
      "244/244 [==============================] - 0s 618us/step - loss: 0.0156 - mae: 0.0618\n",
      "Epoch 91/100\n",
      "244/244 [==============================] - 0s 657us/step - loss: 0.0155 - mae: 0.0623\n",
      "Epoch 92/100\n",
      "244/244 [==============================] - 0s 648us/step - loss: 0.0158 - mae: 0.0623\n",
      "Epoch 93/100\n",
      "244/244 [==============================] - 0s 641us/step - loss: 0.0159 - mae: 0.0624\n",
      "Epoch 94/100\n",
      "244/244 [==============================] - 0s 652us/step - loss: 0.0151 - mae: 0.0606\n",
      "Epoch 95/100\n",
      "244/244 [==============================] - 0s 650us/step - loss: 0.0155 - mae: 0.0618\n",
      "Epoch 96/100\n",
      "244/244 [==============================] - 0s 617us/step - loss: 0.0156 - mae: 0.0609\n",
      "Epoch 97/100\n",
      "244/244 [==============================] - 0s 630us/step - loss: 0.0152 - mae: 0.0608\n",
      "Epoch 98/100\n",
      "244/244 [==============================] - 0s 628us/step - loss: 0.0156 - mae: 0.0619\n",
      "Epoch 99/100\n",
      "244/244 [==============================] - 0s 622us/step - loss: 0.0155 - mae: 0.0621\n",
      "Epoch 100/100\n",
      "244/244 [==============================] - 0s 630us/step - loss: 0.0156 - mae: 0.0621\n"
     ]
    }
   ],
   "source": [
    "model = tf.keras.Sequential([\n",
    "    tf.keras.layers.Dense(100, activation = \"relu\"),\n",
    "    tf.keras.layers.Dense(50, activation = \"relu\"),\n",
    "    tf.keras.layers.Dense(20, activation = \"relu\"),\n",
    "    tf.keras.layers.Dense(10, activation = \"relu\"),\n",
    "    tf.keras.layers.Dense(1)\n",
    "])\n",
    "\n",
    "model.compile(loss = tf.keras.losses.mse,\n",
    "              optimizer = \"adam\",\n",
    "              metrics = [\"mae\"])\n",
    "history = model.fit(site_1_X_train, site_1_y_train, epochs = 100)"
   ],
   "metadata": {
    "collapsed": false,
    "ExecuteTime": {
     "end_time": "2024-02-02T20:54:42.229989700Z",
     "start_time": "2024-02-02T20:54:25.789475700Z"
    }
   }
  },
  {
   "cell_type": "code",
   "execution_count": 11,
   "outputs": [
    {
     "data": {
      "text/plain": "<Axes: >"
     },
     "execution_count": 11,
     "metadata": {},
     "output_type": "execute_result"
    },
    {
     "data": {
      "text/plain": "<Figure size 640x480 with 1 Axes>",
      "image/png": "[encoded data removed]"
     },
     "metadata": {},
     "output_type": "display_data"
    }
   ],
   "source": [
    "sns.lineplot(history.history)"
   ],
   "metadata": {
    "collapsed": false,
    "ExecuteTime": {
     "end_time": "2024-02-02T20:55:20.606544900Z",
     "start_time": "2024-02-02T20:55:20.440029100Z"
    }
   }
  },
  {
   "cell_type": "code",
   "execution_count": null,
   "outputs": [],
   "source": [],
   "metadata": {
    "collapsed": false
   }
  }
 ],
 "metadata": {
  "kernelspec": {
   "display_name": "Python 3",
   "language": "python",
   "name": "python3"
  },
  "language_info": {
   "codemirror_mode": {
    "name": "ipython",
    "version": 2
   },
   "file_extension": ".py",
   "mimetype": "text/x-python",
   "name": "python",
   "nbconvert_exporter": "python",
   "pygments_lexer": "ipython2",
   "version": "2.7.6"
  }
 },
 "nbformat": 4,
 "nbformat_minor": 0
}
