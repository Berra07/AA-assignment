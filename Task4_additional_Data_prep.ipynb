{
 "cells": [
  {
   "cell_type": "code",
   "execution_count": 39,
   "id": "initial_id",
   "metadata": {
    "collapsed": true,
    "ExecuteTime": {
     "end_time": "2024-01-21T13:48:57.661782900Z",
     "start_time": "2024-01-21T13:48:57.569103200Z"
    }
   },
   "outputs": [],
   "source": [
    "import numpy as np\n",
    "import pandas as pd\n",
    "import holidays\n",
    "from datetime import timedelta, date"
   ]
  },
  {
   "cell_type": "code",
   "execution_count": 40,
   "outputs": [
    {
     "data": {
      "text/plain": "                 connectionTime            disconnectTime  \\\n0     2020-01-02 13:08:54+00:00 2020-01-02 19:11:15+00:00   \n1     2020-01-02 13:36:50+00:00 2020-01-02 22:38:21+00:00   \n2     2020-01-02 13:56:35+00:00 2020-01-03 00:39:22+00:00   \n3     2020-01-02 13:59:58+00:00 2020-01-02 16:38:39+00:00   \n4     2020-01-02 14:00:01+00:00 2020-01-02 22:08:40+00:00   \n...                         ...                       ...   \n56531 2019-07-01 19:13:11+00:00 2019-07-02 00:44:40+00:00   \n56532 2019-07-01 19:43:46+00:00 2019-07-02 02:58:53+00:00   \n56533 2019-07-01 20:34:30+00:00 2019-07-02 00:30:52+00:00   \n56534 2019-07-01 21:49:12+00:00 2019-07-02 01:37:18+00:00   \n56535 2019-07-01 22:36:08+00:00 2019-07-02 01:10:52+00:00   \n\n               doneChargingTime  kWhDelivered  siteID  userID  \\\n0     2020-01-02 17:31:35+00:00        25.016       1   194.0   \n1     2020-01-02 20:18:05+00:00        33.097       1  4275.0   \n2     2020-01-02 16:35:06+00:00         6.521       1   344.0   \n3     2020-01-02 15:18:45+00:00         2.355       1  1117.0   \n4     2020-01-02 18:17:30+00:00        13.375       1   334.0   \n...                         ...           ...     ...     ...   \n56531 2019-07-01 21:13:56+00:00         6.048       1  2643.0   \n56532 2019-07-02 02:43:53+00:00        41.047       1   394.0   \n56533 2019-07-01 21:27:44+00:00         5.390       1  2276.0   \n56534 2019-07-01 23:14:33+00:00         8.399       1  1346.0   \n56535 2019-07-02 00:24:32+00:00        10.241       1  2299.0   \n\n      combinedSpaceStationID  timeConnected  idleTime  chargingTime  weekday  \\\n0        AG-3F30/1-1-179-810        21741.0    5980.0       15761.0        3   \n1        AG-1F01/1-1-193-825        32491.0    8416.0       24075.0        3   \n2        AG-1F03/1-1-193-829        38567.0   29056.0        9511.0        3   \n3        AG-1F04/1-1-193-820         9521.0    4794.0        4727.0        3   \n4        AG-1F06/1-1-193-819        29319.0   13870.0       15449.0        3   \n...                      ...            ...       ...           ...      ...   \n56531    AG-3F23/1-1-179-797        19889.0   12644.0        7245.0        0   \n56532    AG-4F38/1-1-191-793        26107.0     900.0       25207.0        0   \n56533    AG-3F15/1-1-179-813        14182.0   10988.0        3194.0        0   \n56534    AG-3F18/1-1-179-798        13686.0    8565.0        5121.0        0   \n56535    AG-1F06/1-1-193-819         9284.0    2780.0        6504.0        0   \n\n       month      time  WhPerMile  kWhRequested  milesRequested  \\\n0          1  13:08:54      250.0         25.00           100.0   \n1          1  13:36:50      280.0         70.00           250.0   \n2          1  13:56:35      400.0          8.00            20.0   \n3          1  13:59:58      400.0          8.00            20.0   \n4          1  14:00:01      400.0         16.00            40.0   \n...      ...       ...        ...           ...             ...   \n56531      7  19:13:11      275.0          8.25            30.0   \n56532      7  19:43:46      231.0         36.96           160.0   \n56533      7  20:34:30      300.0         12.00            40.0   \n56534      7  21:49:12      400.0         32.00            80.0   \n56535      7  22:36:08      333.0         16.65            50.0   \n\n       minutesAvailable                     modifiedAt paymentRequired  \\\n0                 463.0  Thu, 02 Jan 2020 13:09:39 GMT            True   \n1                 595.0  Thu, 02 Jan 2020 13:37:11 GMT            True   \n2                  60.0  Thu, 02 Jan 2020 13:57:17 GMT            True   \n3                  65.0  Thu, 02 Jan 2020 14:00:03 GMT            True   \n4                 504.0  Thu, 02 Jan 2020 14:00:13 GMT            True   \n...                 ...                            ...             ...   \n56531             374.0  Mon, 01 Jul 2019 19:13:10 GMT            True   \n56532             310.0  Mon, 01 Jul 2019 19:43:58 GMT            True   \n56533             381.0  Mon, 01 Jul 2019 20:34:29 GMT            True   \n56534              36.0  Mon, 01 Jul 2019 21:49:37 GMT            True   \n56535             191.0  Mon, 01 Jul 2019 22:36:08 GMT            True   \n\n                  requestedDeparture  \n0      Thu, 02 Jan 2020 20:51:54 GMT  \n1      Thu, 02 Jan 2020 23:31:50 GMT  \n2      Thu, 02 Jan 2020 14:56:35 GMT  \n3      Thu, 02 Jan 2020 15:04:58 GMT  \n4      Thu, 02 Jan 2020 22:24:01 GMT  \n...                              ...  \n56531  Tue, 02 Jul 2019 01:27:11 GMT  \n56532  Tue, 02 Jul 2019 00:53:46 GMT  \n56533  Tue, 02 Jul 2019 02:55:30 GMT  \n56534  Mon, 01 Jul 2019 22:25:12 GMT  \n56535  Tue, 02 Jul 2019 01:47:08 GMT  \n\n[56536 rows x 20 columns]",
      "text/html": "<div>\n<style scoped>\n    .dataframe tbody tr th:only-of-type {\n        vertical-align: middle;\n    }\n\n    .dataframe tbody tr th {\n        vertical-align: top;\n    }\n\n    .dataframe thead th {\n        text-align: right;\n    }\n</style>\n<table border=\"1\" class=\"dataframe\">\n  <thead>\n    <tr style=\"text-align: right;\">\n      <th></th>\n      <th>connectionTime</th>\n      <th>disconnectTime</th>\n      <th>doneChargingTime</th>\n      <th>kWhDelivered</th>\n      <th>siteID</th>\n      <th>userID</th>\n      <th>combinedSpaceStationID</th>\n      <th>timeConnected</th>\n      <th>idleTime</th>\n      <th>chargingTime</th>\n      <th>weekday</th>\n      <th>month</th>\n      <th>time</th>\n      <th>WhPerMile</th>\n      <th>kWhRequested</th>\n      <th>milesRequested</th>\n      <th>minutesAvailable</th>\n      <th>modifiedAt</th>\n      <th>paymentRequired</th>\n      <th>requestedDeparture</th>\n    </tr>\n  </thead>\n  <tbody>\n    <tr>\n      <th>0</th>\n      <td>2020-01-02 13:08:54+00:00</td>\n      <td>2020-01-02 19:11:15+00:00</td>\n      <td>2020-01-02 17:31:35+00:00</td>\n      <td>25.016</td>\n      <td>1</td>\n      <td>194.0</td>\n      <td>AG-3F30/1-1-179-810</td>\n      <td>21741.0</td>\n      <td>5980.0</td>\n      <td>15761.0</td>\n      <td>3</td>\n      <td>1</td>\n      <td>13:08:54</td>\n      <td>250.0</td>\n      <td>25.00</td>\n      <td>100.0</td>\n      <td>463.0</td>\n      <td>Thu, 02 Jan 2020 13:09:39 GMT</td>\n      <td>True</td>\n      <td>Thu, 02 Jan 2020 20:51:54 GMT</td>\n    </tr>\n    <tr>\n      <th>1</th>\n      <td>2020-01-02 13:36:50+00:00</td>\n      <td>2020-01-02 22:38:21+00:00</td>\n      <td>2020-01-02 20:18:05+00:00</td>\n      <td>33.097</td>\n      <td>1</td>\n      <td>4275.0</td>\n      <td>AG-1F01/1-1-193-825</td>\n      <td>32491.0</td>\n      <td>8416.0</td>\n      <td>24075.0</td>\n      <td>3</td>\n      <td>1</td>\n      <td>13:36:50</td>\n      <td>280.0</td>\n      <td>70.00</td>\n      <td>250.0</td>\n      <td>595.0</td>\n      <td>Thu, 02 Jan 2020 13:37:11 GMT</td>\n      <td>True</td>\n      <td>Thu, 02 Jan 2020 23:31:50 GMT</td>\n    </tr>\n    <tr>\n      <th>2</th>\n      <td>2020-01-02 13:56:35+00:00</td>\n      <td>2020-01-03 00:39:22+00:00</td>\n      <td>2020-01-02 16:35:06+00:00</td>\n      <td>6.521</td>\n      <td>1</td>\n      <td>344.0</td>\n      <td>AG-1F03/1-1-193-829</td>\n      <td>38567.0</td>\n      <td>29056.0</td>\n      <td>9511.0</td>\n      <td>3</td>\n      <td>1</td>\n      <td>13:56:35</td>\n      <td>400.0</td>\n      <td>8.00</td>\n      <td>20.0</td>\n      <td>60.0</td>\n      <td>Thu, 02 Jan 2020 13:57:17 GMT</td>\n      <td>True</td>\n      <td>Thu, 02 Jan 2020 14:56:35 GMT</td>\n    </tr>\n    <tr>\n      <th>3</th>\n      <td>2020-01-02 13:59:58+00:00</td>\n      <td>2020-01-02 16:38:39+00:00</td>\n      <td>2020-01-02 15:18:45+00:00</td>\n      <td>2.355</td>\n      <td>1</td>\n      <td>1117.0</td>\n      <td>AG-1F04/1-1-193-820</td>\n      <td>9521.0</td>\n      <td>4794.0</td>\n      <td>4727.0</td>\n      <td>3</td>\n      <td>1</td>\n      <td>13:59:58</td>\n      <td>400.0</td>\n      <td>8.00</td>\n      <td>20.0</td>\n      <td>65.0</td>\n      <td>Thu, 02 Jan 2020 14:00:03 GMT</td>\n      <td>True</td>\n      <td>Thu, 02 Jan 2020 15:04:58 GMT</td>\n    </tr>\n    <tr>\n      <th>4</th>\n      <td>2020-01-02 14:00:01+00:00</td>\n      <td>2020-01-02 22:08:40+00:00</td>\n      <td>2020-01-02 18:17:30+00:00</td>\n      <td>13.375</td>\n      <td>1</td>\n      <td>334.0</td>\n      <td>AG-1F06/1-1-193-819</td>\n      <td>29319.0</td>\n      <td>13870.0</td>\n      <td>15449.0</td>\n      <td>3</td>\n      <td>1</td>\n      <td>14:00:01</td>\n      <td>400.0</td>\n      <td>16.00</td>\n      <td>40.0</td>\n      <td>504.0</td>\n      <td>Thu, 02 Jan 2020 14:00:13 GMT</td>\n      <td>True</td>\n      <td>Thu, 02 Jan 2020 22:24:01 GMT</td>\n    </tr>\n    <tr>\n      <th>...</th>\n      <td>...</td>\n      <td>...</td>\n      <td>...</td>\n      <td>...</td>\n      <td>...</td>\n      <td>...</td>\n      <td>...</td>\n      <td>...</td>\n      <td>...</td>\n      <td>...</td>\n      <td>...</td>\n      <td>...</td>\n      <td>...</td>\n      <td>...</td>\n      <td>...</td>\n      <td>...</td>\n      <td>...</td>\n      <td>...</td>\n      <td>...</td>\n      <td>...</td>\n    </tr>\n    <tr>\n      <th>56531</th>\n      <td>2019-07-01 19:13:11+00:00</td>\n      <td>2019-07-02 00:44:40+00:00</td>\n      <td>2019-07-01 21:13:56+00:00</td>\n      <td>6.048</td>\n      <td>1</td>\n      <td>2643.0</td>\n      <td>AG-3F23/1-1-179-797</td>\n      <td>19889.0</td>\n      <td>12644.0</td>\n      <td>7245.0</td>\n      <td>0</td>\n      <td>7</td>\n      <td>19:13:11</td>\n      <td>275.0</td>\n      <td>8.25</td>\n      <td>30.0</td>\n      <td>374.0</td>\n      <td>Mon, 01 Jul 2019 19:13:10 GMT</td>\n      <td>True</td>\n      <td>Tue, 02 Jul 2019 01:27:11 GMT</td>\n    </tr>\n    <tr>\n      <th>56532</th>\n      <td>2019-07-01 19:43:46+00:00</td>\n      <td>2019-07-02 02:58:53+00:00</td>\n      <td>2019-07-02 02:43:53+00:00</td>\n      <td>41.047</td>\n      <td>1</td>\n      <td>394.0</td>\n      <td>AG-4F38/1-1-191-793</td>\n      <td>26107.0</td>\n      <td>900.0</td>\n      <td>25207.0</td>\n      <td>0</td>\n      <td>7</td>\n      <td>19:43:46</td>\n      <td>231.0</td>\n      <td>36.96</td>\n      <td>160.0</td>\n      <td>310.0</td>\n      <td>Mon, 01 Jul 2019 19:43:58 GMT</td>\n      <td>True</td>\n      <td>Tue, 02 Jul 2019 00:53:46 GMT</td>\n    </tr>\n    <tr>\n      <th>56533</th>\n      <td>2019-07-01 20:34:30+00:00</td>\n      <td>2019-07-02 00:30:52+00:00</td>\n      <td>2019-07-01 21:27:44+00:00</td>\n      <td>5.390</td>\n      <td>1</td>\n      <td>2276.0</td>\n      <td>AG-3F15/1-1-179-813</td>\n      <td>14182.0</td>\n      <td>10988.0</td>\n      <td>3194.0</td>\n      <td>0</td>\n      <td>7</td>\n      <td>20:34:30</td>\n      <td>300.0</td>\n      <td>12.00</td>\n      <td>40.0</td>\n      <td>381.0</td>\n      <td>Mon, 01 Jul 2019 20:34:29 GMT</td>\n      <td>True</td>\n      <td>Tue, 02 Jul 2019 02:55:30 GMT</td>\n    </tr>\n    <tr>\n      <th>56534</th>\n      <td>2019-07-01 21:49:12+00:00</td>\n      <td>2019-07-02 01:37:18+00:00</td>\n      <td>2019-07-01 23:14:33+00:00</td>\n      <td>8.399</td>\n      <td>1</td>\n      <td>1346.0</td>\n      <td>AG-3F18/1-1-179-798</td>\n      <td>13686.0</td>\n      <td>8565.0</td>\n      <td>5121.0</td>\n      <td>0</td>\n      <td>7</td>\n      <td>21:49:12</td>\n      <td>400.0</td>\n      <td>32.00</td>\n      <td>80.0</td>\n      <td>36.0</td>\n      <td>Mon, 01 Jul 2019 21:49:37 GMT</td>\n      <td>True</td>\n      <td>Mon, 01 Jul 2019 22:25:12 GMT</td>\n    </tr>\n    <tr>\n      <th>56535</th>\n      <td>2019-07-01 22:36:08+00:00</td>\n      <td>2019-07-02 01:10:52+00:00</td>\n      <td>2019-07-02 00:24:32+00:00</td>\n      <td>10.241</td>\n      <td>1</td>\n      <td>2299.0</td>\n      <td>AG-1F06/1-1-193-819</td>\n      <td>9284.0</td>\n      <td>2780.0</td>\n      <td>6504.0</td>\n      <td>0</td>\n      <td>7</td>\n      <td>22:36:08</td>\n      <td>333.0</td>\n      <td>16.65</td>\n      <td>50.0</td>\n      <td>191.0</td>\n      <td>Mon, 01 Jul 2019 22:36:08 GMT</td>\n      <td>True</td>\n      <td>Tue, 02 Jul 2019 01:47:08 GMT</td>\n    </tr>\n  </tbody>\n</table>\n<p>56536 rows × 20 columns</p>\n</div>"
     },
     "execution_count": 40,
     "metadata": {},
     "output_type": "execute_result"
    }
   ],
   "source": [
    "data = pd.read_pickle(\"preparedData.pkl\")\n",
    "data"
   ],
   "metadata": {
    "collapsed": false,
    "ExecuteTime": {
     "end_time": "2024-01-21T13:48:57.755207800Z",
     "start_time": "2024-01-21T13:48:57.586139500Z"
    }
   },
   "id": "aac4edd2e780c478"
  },
  {
   "cell_type": "code",
   "execution_count": 41,
   "outputs": [],
   "source": [
    "#Split data into sites 1 and 2\n",
    "site_1_data = data[data['siteID']==1].copy()\n",
    "site_2_data = data[data['siteID']==2].copy()"
   ],
   "metadata": {
    "collapsed": false,
    "ExecuteTime": {
     "end_time": "2024-01-21T13:48:57.771743600Z",
     "start_time": "2024-01-21T13:48:57.632726700Z"
    }
   },
   "id": "89fe1f8a4aa83a52"
  },
  {
   "cell_type": "code",
   "execution_count": 42,
   "outputs": [
    {
     "name": "stdout",
     "output_type": "stream",
     "text": [
      "<class 'pandas.core.frame.DataFrame'>\n",
      "Index: 28384 entries, 0 to 56535\n",
      "Data columns (total 20 columns):\n",
      " #   Column                  Non-Null Count  Dtype              \n",
      "---  ------                  --------------  -----              \n",
      " 0   connectionTime          28384 non-null  datetime64[ns, UTC]\n",
      " 1   disconnectTime          28384 non-null  datetime64[ns, UTC]\n",
      " 2   doneChargingTime        28384 non-null  datetime64[ns, UTC]\n",
      " 3   kWhDelivered            28384 non-null  float64            \n",
      " 4   siteID                  28384 non-null  int64              \n",
      " 5   userID                  27091 non-null  float64            \n",
      " 6   combinedSpaceStationID  28384 non-null  object             \n",
      " 7   timeConnected           28384 non-null  float64            \n",
      " 8   idleTime                28384 non-null  float64            \n",
      " 9   chargingTime            28384 non-null  float64            \n",
      " 10  weekday                 28384 non-null  int32              \n",
      " 11  month                   28384 non-null  int32              \n",
      " 12  time                    28384 non-null  object             \n",
      " 13  WhPerMile               27091 non-null  float64            \n",
      " 14  kWhRequested            27091 non-null  float64            \n",
      " 15  milesRequested          27091 non-null  float64            \n",
      " 16  minutesAvailable        27091 non-null  float64            \n",
      " 17  modifiedAt              27091 non-null  object             \n",
      " 18  paymentRequired         27091 non-null  object             \n",
      " 19  requestedDeparture      27091 non-null  object             \n",
      "dtypes: datetime64[ns, UTC](3), float64(9), int32(2), int64(1), object(5)\n",
      "memory usage: 4.3+ MB\n",
      "<class 'pandas.core.frame.DataFrame'>\n",
      "Index: 28152 entries, 16736 to 44887\n",
      "Data columns (total 20 columns):\n",
      " #   Column                  Non-Null Count  Dtype              \n",
      "---  ------                  --------------  -----              \n",
      " 0   connectionTime          28152 non-null  datetime64[ns, UTC]\n",
      " 1   disconnectTime          28152 non-null  datetime64[ns, UTC]\n",
      " 2   doneChargingTime        28152 non-null  datetime64[ns, UTC]\n",
      " 3   kWhDelivered            28152 non-null  float64            \n",
      " 4   siteID                  28152 non-null  int64              \n",
      " 5   userID                  14218 non-null  float64            \n",
      " 6   combinedSpaceStationID  28152 non-null  object             \n",
      " 7   timeConnected           28152 non-null  float64            \n",
      " 8   idleTime                28152 non-null  float64            \n",
      " 9   chargingTime            28152 non-null  float64            \n",
      " 10  weekday                 28152 non-null  int32              \n",
      " 11  month                   28152 non-null  int32              \n",
      " 12  time                    28152 non-null  object             \n",
      " 13  WhPerMile               14218 non-null  float64            \n",
      " 14  kWhRequested            14218 non-null  float64            \n",
      " 15  milesRequested          14218 non-null  float64            \n",
      " 16  minutesAvailable        14218 non-null  float64            \n",
      " 17  modifiedAt              14218 non-null  object             \n",
      " 18  paymentRequired         14218 non-null  object             \n",
      " 19  requestedDeparture      14218 non-null  object             \n",
      "dtypes: datetime64[ns, UTC](3), float64(9), int32(2), int64(1), object(5)\n",
      "memory usage: 4.3+ MB\n"
     ]
    }
   ],
   "source": [
    "site_1_data.info()\n",
    "site_2_data.info()"
   ],
   "metadata": {
    "collapsed": false,
    "ExecuteTime": {
     "end_time": "2024-01-21T13:48:57.777254100Z",
     "start_time": "2024-01-21T13:48:57.661782900Z"
    }
   },
   "id": "52660e5ceb8825f9"
  },
  {
   "cell_type": "code",
   "execution_count": 43,
   "outputs": [],
   "source": [
    "site_1_data.reset_index(inplace=True)\n",
    "site_2_data.reset_index(inplace=True)"
   ],
   "metadata": {
    "collapsed": false,
    "ExecuteTime": {
     "end_time": "2024-01-21T13:48:57.778259700Z",
     "start_time": "2024-01-21T13:48:57.664834900Z"
    }
   },
   "id": "321d2f1093355f70"
  },
  {
   "cell_type": "code",
   "execution_count": 44,
   "outputs": [],
   "source": [
    "# Drop the siteID, it's no longer needed\n",
    "site_1_data.drop(columns=['siteID'], inplace=True)\n",
    "site_2_data.drop(columns=['siteID'], inplace=True)"
   ],
   "metadata": {
    "collapsed": false,
    "ExecuteTime": {
     "end_time": "2024-01-21T13:48:57.778259700Z",
     "start_time": "2024-01-21T13:48:57.679465800Z"
    }
   },
   "id": "1c8ebd768663c205"
  },
  {
   "cell_type": "code",
   "execution_count": 45,
   "outputs": [
    {
     "data": {
      "text/plain": "index                     28384\nconnectionTime            28275\ndisconnectTime            28338\ndoneChargingTime          28210\nkWhDelivered              17173\nuserID                      499\ncombinedSpaceStationID       52\ntimeConnected             15864\nidleTime                  15933\nchargingTime              16894\nweekday                       7\nmonth                        12\ntime                      18054\nWhPerMile                   144\nkWhRequested                860\nmilesRequested               75\nminutesAvailable            781\nmodifiedAt                26996\npaymentRequired               1\nrequestedDeparture        27070\ndtype: int64"
     },
     "execution_count": 45,
     "metadata": {},
     "output_type": "execute_result"
    }
   ],
   "source": [
    "# Check for unique space/station id's so we know the maximum number of parking spaces available\n",
    "site_1_data.nunique()"
   ],
   "metadata": {
    "collapsed": false,
    "ExecuteTime": {
     "end_time": "2024-01-21T13:48:57.778259700Z",
     "start_time": "2024-01-21T13:48:57.694596900Z"
    }
   },
   "id": "29c68727d902025"
  },
  {
   "cell_type": "code",
   "execution_count": 46,
   "outputs": [
    {
     "data": {
      "text/plain": "index                     28152\nconnectionTime            28113\ndisconnectTime            28116\ndoneChargingTime          28036\nkWhDelivered              14399\nuserID                      455\ncombinedSpaceStationID       54\ntimeConnected             17936\nidleTime                  13304\nchargingTime              13690\nweekday                       7\nmonth                        12\ntime                      20896\nWhPerMile                   110\nkWhRequested                580\nmilesRequested               65\nminutesAvailable            673\nmodifiedAt                14211\npaymentRequired               1\nrequestedDeparture        14214\ndtype: int64"
     },
     "execution_count": 46,
     "metadata": {},
     "output_type": "execute_result"
    }
   ],
   "source": [
    "site_2_data.nunique()"
   ],
   "metadata": {
    "collapsed": false,
    "ExecuteTime": {
     "end_time": "2024-01-21T13:48:57.778259700Z",
     "start_time": "2024-01-21T13:48:57.726159700Z"
    }
   },
   "id": "b06b7c010e0c5e32"
  },
  {
   "cell_type": "markdown",
   "source": [
    "52 spaces for site 1, 54 for site 2."
   ],
   "metadata": {
    "collapsed": false
   },
   "id": "3444efdd464fb6a2"
  },
  {
   "cell_type": "code",
   "execution_count": 47,
   "outputs": [
    {
     "data": {
      "text/plain": "count                                  28384\nmean     2019-11-25 14:02:36.180030976+00:00\nmin                2018-10-08 13:01:34+00:00\n25%                2019-03-23 16:25:15+00:00\n50%         2019-09-09 14:38:51.500000+00:00\n75%      2020-05-03 16:18:13.249999872+00:00\nmax                2021-09-14 05:43:39+00:00\nName: connectionTime, dtype: object"
     },
     "execution_count": 47,
     "metadata": {},
     "output_type": "execute_result"
    }
   ],
   "source": [
    "site_1_data[\"connectionTime\"].describe()"
   ],
   "metadata": {
    "collapsed": false,
    "ExecuteTime": {
     "end_time": "2024-01-21T13:48:57.778259700Z",
     "start_time": "2024-01-21T13:48:57.755207800Z"
    }
   },
   "id": "dcf4ca57ef0a2387"
  },
  {
   "cell_type": "code",
   "execution_count": 48,
   "outputs": [
    {
     "data": {
      "text/plain": "count                                  28384\nmean     2019-11-25 21:14:20.177388800+00:00\nmin                2018-10-09 00:05:33+00:00\n25%         2019-03-23 21:59:39.500000+00:00\n50%         2019-09-10 00:18:44.500000+00:00\n75%                2020-05-03 20:52:27+00:00\nmax                2021-09-14 14:46:28+00:00\nName: disconnectTime, dtype: object"
     },
     "execution_count": 48,
     "metadata": {},
     "output_type": "execute_result"
    }
   ],
   "source": [
    "site_1_data[\"disconnectTime\"].describe()"
   ],
   "metadata": {
    "collapsed": false,
    "ExecuteTime": {
     "end_time": "2024-01-21T13:48:57.814095Z",
     "start_time": "2024-01-21T13:48:57.771743600Z"
    }
   }
  },
  {
   "cell_type": "code",
   "execution_count": 49,
   "outputs": [
    {
     "data": {
      "text/plain": "count                                  28152\nmean     2019-03-23 08:26:24.915210240+00:00\nmin                2018-04-25 13:45:10+00:00\n25%         2018-08-20 10:28:28.500000+00:00\n50%                2018-12-12 17:03:21+00:00\n75%      2019-08-27 12:31:18.750000128+00:00\nmax                2021-09-13 23:11:12+00:00\nName: connectionTime, dtype: object"
     },
     "execution_count": 49,
     "metadata": {},
     "output_type": "execute_result"
    }
   ],
   "source": [
    "site_2_data[\"connectionTime\"].describe()"
   ],
   "metadata": {
    "collapsed": false,
    "ExecuteTime": {
     "end_time": "2024-01-21T13:48:57.834127Z",
     "start_time": "2024-01-21T13:48:57.773748600Z"
    }
   },
   "id": "83b510b1de461243"
  },
  {
   "cell_type": "code",
   "execution_count": 50,
   "outputs": [
    {
     "data": {
      "text/plain": "count                                  28152\nmean     2019-03-23 14:18:31.080917760+00:00\nmin                2018-04-25 18:15:46+00:00\n25%         2018-08-20 16:33:31.500000+00:00\n50%         2018-12-13 01:32:46.500000+00:00\n75%      2019-08-27 17:28:13.750000128+00:00\nmax                2021-09-14 02:22:25+00:00\nName: disconnectTime, dtype: object"
     },
     "execution_count": 50,
     "metadata": {},
     "output_type": "execute_result"
    }
   ],
   "source": [
    "site_2_data[\"disconnectTime\"].describe()"
   ],
   "metadata": {
    "collapsed": false,
    "ExecuteTime": {
     "end_time": "2024-01-21T13:48:57.847511600Z",
     "start_time": "2024-01-21T13:48:57.789278100Z"
    }
   }
  },
  {
   "cell_type": "code",
   "execution_count": 51,
   "outputs": [],
   "source": [
    "# Create a dataframe with dates from the first to the last day of the charging sessions available. Because these differ for both sites, we need to do this for each respectively. Add a timedelta of 12 hours to site 2 disconnect, otherwise it would cut off the last day due to the hour of the timestamp\n",
    "date_frame_site_1 = pd.DataFrame(pd.date_range(start=site_1_data[\"connectionTime\"].min(), end = site_1_data[\"disconnectTime\"].max()))\n",
    "date_frame_site_2 = pd.DataFrame(pd.date_range(start=site_2_data[\"connectionTime\"].min(), end = (site_2_data[\"disconnectTime\"].max() + timedelta(hours = 12))))"
   ],
   "metadata": {
    "collapsed": false,
    "ExecuteTime": {
     "end_time": "2024-01-21T13:48:57.852940Z",
     "start_time": "2024-01-21T13:48:57.806075800Z"
    }
   },
   "id": "91434577d4cab86a"
  },
  {
   "cell_type": "code",
   "execution_count": 52,
   "outputs": [
    {
     "data": {
      "text/plain": "                             0\n0    2018-10-08 13:01:34+00:00\n1    2018-10-09 13:01:34+00:00\n2    2018-10-10 13:01:34+00:00\n3    2018-10-11 13:01:34+00:00\n4    2018-10-12 13:01:34+00:00\n...                        ...\n1068 2021-09-10 13:01:34+00:00\n1069 2021-09-11 13:01:34+00:00\n1070 2021-09-12 13:01:34+00:00\n1071 2021-09-13 13:01:34+00:00\n1072 2021-09-14 13:01:34+00:00\n\n[1073 rows x 1 columns]",
      "text/html": "<div>\n<style scoped>\n    .dataframe tbody tr th:only-of-type {\n        vertical-align: middle;\n    }\n\n    .dataframe tbody tr th {\n        vertical-align: top;\n    }\n\n    .dataframe thead th {\n        text-align: right;\n    }\n</style>\n<table border=\"1\" class=\"dataframe\">\n  <thead>\n    <tr style=\"text-align: right;\">\n      <th></th>\n      <th>0</th>\n    </tr>\n  </thead>\n  <tbody>\n    <tr>\n      <th>0</th>\n      <td>2018-10-08 13:01:34+00:00</td>\n    </tr>\n    <tr>\n      <th>1</th>\n      <td>2018-10-09 13:01:34+00:00</td>\n    </tr>\n    <tr>\n      <th>2</th>\n      <td>2018-10-10 13:01:34+00:00</td>\n    </tr>\n    <tr>\n      <th>3</th>\n      <td>2018-10-11 13:01:34+00:00</td>\n    </tr>\n    <tr>\n      <th>4</th>\n      <td>2018-10-12 13:01:34+00:00</td>\n    </tr>\n    <tr>\n      <th>...</th>\n      <td>...</td>\n    </tr>\n    <tr>\n      <th>1068</th>\n      <td>2021-09-10 13:01:34+00:00</td>\n    </tr>\n    <tr>\n      <th>1069</th>\n      <td>2021-09-11 13:01:34+00:00</td>\n    </tr>\n    <tr>\n      <th>1070</th>\n      <td>2021-09-12 13:01:34+00:00</td>\n    </tr>\n    <tr>\n      <th>1071</th>\n      <td>2021-09-13 13:01:34+00:00</td>\n    </tr>\n    <tr>\n      <th>1072</th>\n      <td>2021-09-14 13:01:34+00:00</td>\n    </tr>\n  </tbody>\n</table>\n<p>1073 rows × 1 columns</p>\n</div>"
     },
     "execution_count": 52,
     "metadata": {},
     "output_type": "execute_result"
    }
   ],
   "source": [
    "date_frame_site_1"
   ],
   "metadata": {
    "collapsed": false,
    "ExecuteTime": {
     "end_time": "2024-01-21T13:48:57.890114100Z",
     "start_time": "2024-01-21T13:48:57.822105800Z"
    }
   }
  },
  {
   "cell_type": "code",
   "execution_count": 53,
   "outputs": [],
   "source": [
    "data = {'date': [], 'hour': []}\n",
    "for row in date_frame_site_1.itertuples():\n",
    "    for i in range(24):\n",
    "        data[\"date\"].append(row[1])\n",
    "        data[\"hour\"].append(i)\n",
    "frame1 = pd.DataFrame(data)\n",
    "frame1[\"weekday\"] = frame1[\"date\"].dt.day_of_week\n",
    "frame1[\"month\"] = frame1[\"date\"].dt.month\n",
    "\n",
    "data = {'date' : [], 'hour': []}\n",
    "for row in date_frame_site_2.itertuples():\n",
    "    for i in range(24):\n",
    "        data[\"date\"].append(row[1])\n",
    "        data[\"hour\"].append(i)\n",
    "frame2 = pd.DataFrame(data)\n",
    "frame2[\"weekday\"] = frame2[\"date\"].dt.day_of_week\n",
    "frame2[\"month\"] = frame2[\"date\"].dt.month"
   ],
   "metadata": {
    "collapsed": false,
    "ExecuteTime": {
     "end_time": "2024-01-21T13:48:57.926173900Z",
     "start_time": "2024-01-21T13:48:57.837644900Z"
    }
   },
   "id": "604fcd2f0417820a"
  },
  {
   "cell_type": "code",
   "execution_count": 54,
   "outputs": [
    {
     "data": {
      "text/plain": "                           date  hour  weekday  month\n0     2018-04-25 13:45:10+00:00     0        2      4\n1     2018-04-25 13:45:10+00:00     1        2      4\n2     2018-04-25 13:45:10+00:00     2        2      4\n3     2018-04-25 13:45:10+00:00     3        2      4\n4     2018-04-25 13:45:10+00:00     4        2      4\n...                         ...   ...      ...    ...\n29731 2021-09-14 13:45:10+00:00    19        1      9\n29732 2021-09-14 13:45:10+00:00    20        1      9\n29733 2021-09-14 13:45:10+00:00    21        1      9\n29734 2021-09-14 13:45:10+00:00    22        1      9\n29735 2021-09-14 13:45:10+00:00    23        1      9\n\n[29736 rows x 4 columns]",
      "text/html": "<div>\n<style scoped>\n    .dataframe tbody tr th:only-of-type {\n        vertical-align: middle;\n    }\n\n    .dataframe tbody tr th {\n        vertical-align: top;\n    }\n\n    .dataframe thead th {\n        text-align: right;\n    }\n</style>\n<table border=\"1\" class=\"dataframe\">\n  <thead>\n    <tr style=\"text-align: right;\">\n      <th></th>\n      <th>date</th>\n      <th>hour</th>\n      <th>weekday</th>\n      <th>month</th>\n    </tr>\n  </thead>\n  <tbody>\n    <tr>\n      <th>0</th>\n      <td>2018-04-25 13:45:10+00:00</td>\n      <td>0</td>\n      <td>2</td>\n      <td>4</td>\n    </tr>\n    <tr>\n      <th>1</th>\n      <td>2018-04-25 13:45:10+00:00</td>\n      <td>1</td>\n      <td>2</td>\n      <td>4</td>\n    </tr>\n    <tr>\n      <th>2</th>\n      <td>2018-04-25 13:45:10+00:00</td>\n      <td>2</td>\n      <td>2</td>\n      <td>4</td>\n    </tr>\n    <tr>\n      <th>3</th>\n      <td>2018-04-25 13:45:10+00:00</td>\n      <td>3</td>\n      <td>2</td>\n      <td>4</td>\n    </tr>\n    <tr>\n      <th>4</th>\n      <td>2018-04-25 13:45:10+00:00</td>\n      <td>4</td>\n      <td>2</td>\n      <td>4</td>\n    </tr>\n    <tr>\n      <th>...</th>\n      <td>...</td>\n      <td>...</td>\n      <td>...</td>\n      <td>...</td>\n    </tr>\n    <tr>\n      <th>29731</th>\n      <td>2021-09-14 13:45:10+00:00</td>\n      <td>19</td>\n      <td>1</td>\n      <td>9</td>\n    </tr>\n    <tr>\n      <th>29732</th>\n      <td>2021-09-14 13:45:10+00:00</td>\n      <td>20</td>\n      <td>1</td>\n      <td>9</td>\n    </tr>\n    <tr>\n      <th>29733</th>\n      <td>2021-09-14 13:45:10+00:00</td>\n      <td>21</td>\n      <td>1</td>\n      <td>9</td>\n    </tr>\n    <tr>\n      <th>29734</th>\n      <td>2021-09-14 13:45:10+00:00</td>\n      <td>22</td>\n      <td>1</td>\n      <td>9</td>\n    </tr>\n    <tr>\n      <th>29735</th>\n      <td>2021-09-14 13:45:10+00:00</td>\n      <td>23</td>\n      <td>1</td>\n      <td>9</td>\n    </tr>\n  </tbody>\n</table>\n<p>29736 rows × 4 columns</p>\n</div>"
     },
     "execution_count": 54,
     "metadata": {},
     "output_type": "execute_result"
    }
   ],
   "source": [
    "frame2"
   ],
   "metadata": {
    "collapsed": false,
    "ExecuteTime": {
     "end_time": "2024-01-21T13:48:57.978273400Z",
     "start_time": "2024-01-21T13:48:57.914655300Z"
    }
   }
  },
  {
   "cell_type": "code",
   "execution_count": 55,
   "outputs": [],
   "source": [
    "us_ca_holidays = holidays.country_holidays(country='US', subdiv='CA')\n",
    "\n",
    "frame1[\"holiday\"] = frame1[\"date\"].apply(lambda x: x in us_ca_holidays)\n",
    "frame2[\"holiday\"] = frame2[\"date\"].apply(lambda x: x in us_ca_holidays)"
   ],
   "metadata": {
    "collapsed": false,
    "ExecuteTime": {
     "end_time": "2024-01-21T13:48:58.044705300Z",
     "start_time": "2024-01-21T13:48:57.946204700Z"
    }
   },
   "id": "d54ec66ae9a7bb65"
  },
  {
   "cell_type": "markdown",
   "source": [
    "Since the data doesn't start at the beginning of the day and doesn't end at the end, we'll manually delete a few rows to fit it properly. \n",
    "Both sites start in hour 13. Site 1 ends in hour 14 so we will have to drop the last 9 rows.\n",
    " Site 2 ends in hour 2, so we will drop the last 21."
   ],
   "metadata": {
    "collapsed": false
   },
   "id": "dab3697683312e9"
  },
  {
   "cell_type": "code",
   "execution_count": 56,
   "outputs": [],
   "source": [
    "frame1.drop(frame1.index[:13], inplace=True)\n",
    "frame2.drop(frame2.index[:13], inplace=True)\n",
    "frame1.drop(frame1.index[-9:], inplace=True)\n",
    "frame2.drop(frame2.index[-21:], inplace=True)"
   ],
   "metadata": {
    "collapsed": false,
    "ExecuteTime": {
     "end_time": "2024-01-21T13:48:58.076027Z",
     "start_time": "2024-01-21T13:48:58.040190Z"
    }
   },
   "id": "a180e8b531f198eb"
  },
  {
   "cell_type": "code",
   "execution_count": 57,
   "outputs": [
    {
     "data": {
      "text/plain": "          city            timestamp  temperature  cloud_cover  \\\n0      Burbank  2018-01-01 08:53:00          9.0         33.0   \n1      Burbank  2018-01-01 09:53:00          9.0         33.0   \n2      Burbank  2018-01-01 10:53:00          9.0         21.0   \n3      Burbank  2018-01-01 11:53:00          9.0         29.0   \n4      Burbank  2018-01-01 12:53:00          8.0         33.0   \n...        ...                  ...          ...          ...   \n29239  Burbank  2021-01-01 03:53:00         13.0         33.0   \n29240  Burbank  2021-01-01 04:53:00         12.0         33.0   \n29241  Burbank  2021-01-01 05:53:00         12.0         33.0   \n29242  Burbank  2021-01-01 06:53:00         11.0         33.0   \n29243  Burbank  2021-01-01 07:53:00         10.0         33.0   \n\n      cloud_cover_description  pressure  windspeed  precipitation  \\\n0                        Fair    991.75        9.0            0.0   \n1                        Fair    992.08        0.0            0.0   \n2                        Haze    992.08        0.0            0.0   \n3               Partly Cloudy    992.08        0.0            0.0   \n4                        Fair    992.08        0.0            0.0   \n...                       ...       ...        ...            ...   \n29239                    Fair    986.81        0.0            0.0   \n29240                    Fair    986.81       11.0            0.0   \n29241                    Fair    987.47        9.0            0.0   \n29242                    Fair    987.14       13.0            0.0   \n29243                    Fair    987.80        6.0            0.0   \n\n       felt_temperature  \n0                   8.0  \n1                   9.0  \n2                   9.0  \n3                   9.0  \n4                   8.0  \n...                 ...  \n29239              13.0  \n29240              12.0  \n29241              12.0  \n29242              11.0  \n29243              10.0  \n\n[29244 rows x 9 columns]",
      "text/html": "<div>\n<style scoped>\n    .dataframe tbody tr th:only-of-type {\n        vertical-align: middle;\n    }\n\n    .dataframe tbody tr th {\n        vertical-align: top;\n    }\n\n    .dataframe thead th {\n        text-align: right;\n    }\n</style>\n<table border=\"1\" class=\"dataframe\">\n  <thead>\n    <tr style=\"text-align: right;\">\n      <th></th>\n      <th>city</th>\n      <th>timestamp</th>\n      <th>temperature</th>\n      <th>cloud_cover</th>\n      <th>cloud_cover_description</th>\n      <th>pressure</th>\n      <th>windspeed</th>\n      <th>precipitation</th>\n      <th>felt_temperature</th>\n    </tr>\n  </thead>\n  <tbody>\n    <tr>\n      <th>0</th>\n      <td>Burbank</td>\n      <td>2018-01-01 08:53:00</td>\n      <td>9.0</td>\n      <td>33.0</td>\n      <td>Fair</td>\n      <td>991.75</td>\n      <td>9.0</td>\n      <td>0.0</td>\n      <td>8.0</td>\n    </tr>\n    <tr>\n      <th>1</th>\n      <td>Burbank</td>\n      <td>2018-01-01 09:53:00</td>\n      <td>9.0</td>\n      <td>33.0</td>\n      <td>Fair</td>\n      <td>992.08</td>\n      <td>0.0</td>\n      <td>0.0</td>\n      <td>9.0</td>\n    </tr>\n    <tr>\n      <th>2</th>\n      <td>Burbank</td>\n      <td>2018-01-01 10:53:00</td>\n      <td>9.0</td>\n      <td>21.0</td>\n      <td>Haze</td>\n      <td>992.08</td>\n      <td>0.0</td>\n      <td>0.0</td>\n      <td>9.0</td>\n    </tr>\n    <tr>\n      <th>3</th>\n      <td>Burbank</td>\n      <td>2018-01-01 11:53:00</td>\n      <td>9.0</td>\n      <td>29.0</td>\n      <td>Partly Cloudy</td>\n      <td>992.08</td>\n      <td>0.0</td>\n      <td>0.0</td>\n      <td>9.0</td>\n    </tr>\n    <tr>\n      <th>4</th>\n      <td>Burbank</td>\n      <td>2018-01-01 12:53:00</td>\n      <td>8.0</td>\n      <td>33.0</td>\n      <td>Fair</td>\n      <td>992.08</td>\n      <td>0.0</td>\n      <td>0.0</td>\n      <td>8.0</td>\n    </tr>\n    <tr>\n      <th>...</th>\n      <td>...</td>\n      <td>...</td>\n      <td>...</td>\n      <td>...</td>\n      <td>...</td>\n      <td>...</td>\n      <td>...</td>\n      <td>...</td>\n      <td>...</td>\n    </tr>\n    <tr>\n      <th>29239</th>\n      <td>Burbank</td>\n      <td>2021-01-01 03:53:00</td>\n      <td>13.0</td>\n      <td>33.0</td>\n      <td>Fair</td>\n      <td>986.81</td>\n      <td>0.0</td>\n      <td>0.0</td>\n      <td>13.0</td>\n    </tr>\n    <tr>\n      <th>29240</th>\n      <td>Burbank</td>\n      <td>2021-01-01 04:53:00</td>\n      <td>12.0</td>\n      <td>33.0</td>\n      <td>Fair</td>\n      <td>986.81</td>\n      <td>11.0</td>\n      <td>0.0</td>\n      <td>12.0</td>\n    </tr>\n    <tr>\n      <th>29241</th>\n      <td>Burbank</td>\n      <td>2021-01-01 05:53:00</td>\n      <td>12.0</td>\n      <td>33.0</td>\n      <td>Fair</td>\n      <td>987.47</td>\n      <td>9.0</td>\n      <td>0.0</td>\n      <td>12.0</td>\n    </tr>\n    <tr>\n      <th>29242</th>\n      <td>Burbank</td>\n      <td>2021-01-01 06:53:00</td>\n      <td>11.0</td>\n      <td>33.0</td>\n      <td>Fair</td>\n      <td>987.14</td>\n      <td>13.0</td>\n      <td>0.0</td>\n      <td>11.0</td>\n    </tr>\n    <tr>\n      <th>29243</th>\n      <td>Burbank</td>\n      <td>2021-01-01 07:53:00</td>\n      <td>10.0</td>\n      <td>33.0</td>\n      <td>Fair</td>\n      <td>987.80</td>\n      <td>6.0</td>\n      <td>0.0</td>\n      <td>10.0</td>\n    </tr>\n  </tbody>\n</table>\n<p>29244 rows × 9 columns</p>\n</div>"
     },
     "execution_count": 57,
     "metadata": {},
     "output_type": "execute_result"
    }
   ],
   "source": [
    "weather = pd.read_csv(\"weather_burbank_airport.csv\")\n",
    "weather"
   ],
   "metadata": {
    "collapsed": false,
    "ExecuteTime": {
     "end_time": "2024-01-21T13:48:58.099067800Z",
     "start_time": "2024-01-21T13:48:58.053971600Z"
    }
   },
   "id": "3fc1962f9e474b"
  },
  {
   "cell_type": "code",
   "execution_count": 58,
   "outputs": [],
   "source": [
    "# We will only use temperature and precipitation from the weather dataset, so we'll drop everything else\n",
    "weather.drop(columns=[\"city\", 'cloud_cover', 'cloud_cover_description', 'pressure', 'windspeed', 'felt_temperature'], axis = 1, inplace=True)"
   ],
   "metadata": {
    "collapsed": false,
    "ExecuteTime": {
     "end_time": "2024-01-21T13:48:58.100081800Z",
     "start_time": "2024-01-21T13:48:58.084540Z"
    }
   },
   "id": "f1fc957941691d17"
  },
  {
   "cell_type": "code",
   "execution_count": 59,
   "outputs": [
    {
     "data": {
      "text/plain": "                 timestamp  temperature  precipitation\n0      2018-01-01 08:53:00          9.0            0.0\n1      2018-01-01 09:53:00          9.0            0.0\n2      2018-01-01 10:53:00          9.0            0.0\n3      2018-01-01 11:53:00          9.0            0.0\n4      2018-01-01 12:53:00          8.0            0.0\n...                    ...          ...            ...\n29239  2021-01-01 03:53:00         13.0            0.0\n29240  2021-01-01 04:53:00         12.0            0.0\n29241  2021-01-01 05:53:00         12.0            0.0\n29242  2021-01-01 06:53:00         11.0            0.0\n29243  2021-01-01 07:53:00         10.0            0.0\n\n[29244 rows x 3 columns]",
      "text/html": "<div>\n<style scoped>\n    .dataframe tbody tr th:only-of-type {\n        vertical-align: middle;\n    }\n\n    .dataframe tbody tr th {\n        vertical-align: top;\n    }\n\n    .dataframe thead th {\n        text-align: right;\n    }\n</style>\n<table border=\"1\" class=\"dataframe\">\n  <thead>\n    <tr style=\"text-align: right;\">\n      <th></th>\n      <th>timestamp</th>\n      <th>temperature</th>\n      <th>precipitation</th>\n    </tr>\n  </thead>\n  <tbody>\n    <tr>\n      <th>0</th>\n      <td>2018-01-01 08:53:00</td>\n      <td>9.0</td>\n      <td>0.0</td>\n    </tr>\n    <tr>\n      <th>1</th>\n      <td>2018-01-01 09:53:00</td>\n      <td>9.0</td>\n      <td>0.0</td>\n    </tr>\n    <tr>\n      <th>2</th>\n      <td>2018-01-01 10:53:00</td>\n      <td>9.0</td>\n      <td>0.0</td>\n    </tr>\n    <tr>\n      <th>3</th>\n      <td>2018-01-01 11:53:00</td>\n      <td>9.0</td>\n      <td>0.0</td>\n    </tr>\n    <tr>\n      <th>4</th>\n      <td>2018-01-01 12:53:00</td>\n      <td>8.0</td>\n      <td>0.0</td>\n    </tr>\n    <tr>\n      <th>...</th>\n      <td>...</td>\n      <td>...</td>\n      <td>...</td>\n    </tr>\n    <tr>\n      <th>29239</th>\n      <td>2021-01-01 03:53:00</td>\n      <td>13.0</td>\n      <td>0.0</td>\n    </tr>\n    <tr>\n      <th>29240</th>\n      <td>2021-01-01 04:53:00</td>\n      <td>12.0</td>\n      <td>0.0</td>\n    </tr>\n    <tr>\n      <th>29241</th>\n      <td>2021-01-01 05:53:00</td>\n      <td>12.0</td>\n      <td>0.0</td>\n    </tr>\n    <tr>\n      <th>29242</th>\n      <td>2021-01-01 06:53:00</td>\n      <td>11.0</td>\n      <td>0.0</td>\n    </tr>\n    <tr>\n      <th>29243</th>\n      <td>2021-01-01 07:53:00</td>\n      <td>10.0</td>\n      <td>0.0</td>\n    </tr>\n  </tbody>\n</table>\n<p>29244 rows × 3 columns</p>\n</div>"
     },
     "execution_count": 59,
     "metadata": {},
     "output_type": "execute_result"
    }
   ],
   "source": [
    "weather"
   ],
   "metadata": {
    "collapsed": false,
    "ExecuteTime": {
     "end_time": "2024-01-21T13:48:58.116114300Z",
     "start_time": "2024-01-21T13:48:58.103596100Z"
    }
   },
   "id": "1a54838e02aa0215"
  },
  {
   "cell_type": "code",
   "execution_count": 60,
   "outputs": [],
   "source": [
    "weather['timestamp'] = pd.to_datetime(weather['timestamp'])"
   ],
   "metadata": {
    "collapsed": false,
    "ExecuteTime": {
     "end_time": "2024-01-21T13:48:58.142663300Z",
     "start_time": "2024-01-21T13:48:58.114609500Z"
    }
   },
   "id": "13384bbb30048693"
  },
  {
   "cell_type": "code",
   "execution_count": 61,
   "outputs": [
    {
     "data": {
      "text/plain": "0        2018-01-01\n1        2018-01-01\n2        2018-01-01\n3        2018-01-01\n4        2018-01-01\n            ...    \n29239    2021-01-01\n29240    2021-01-01\n29241    2021-01-01\n29242    2021-01-01\n29243    2021-01-01\nName: timestamp, Length: 29244, dtype: object"
     },
     "execution_count": 61,
     "metadata": {},
     "output_type": "execute_result"
    }
   ],
   "source": [
    "weather['timestamp'].dt.date"
   ],
   "metadata": {
    "collapsed": false,
    "ExecuteTime": {
     "end_time": "2024-01-21T13:48:58.206461Z",
     "start_time": "2024-01-21T13:48:58.130132500Z"
    }
   }
  },
  {
   "cell_type": "code",
   "execution_count": 62,
   "outputs": [
    {
     "data": {
      "text/plain": "       temperature  precipitation     dateHour\n0              9.0            0.0   2018-1-1+8\n1              9.0            0.0   2018-1-1+9\n2              9.0            0.0  2018-1-1+10\n3              9.0            0.0  2018-1-1+11\n4              8.0            0.0  2018-1-1+12\n...            ...            ...          ...\n29239         13.0            0.0   2021-1-1+3\n29240         12.0            0.0   2021-1-1+4\n29241         12.0            0.0   2021-1-1+5\n29242         11.0            0.0   2021-1-1+6\n29243         10.0            0.0   2021-1-1+7\n\n[29244 rows x 3 columns]",
      "text/html": "<div>\n<style scoped>\n    .dataframe tbody tr th:only-of-type {\n        vertical-align: middle;\n    }\n\n    .dataframe tbody tr th {\n        vertical-align: top;\n    }\n\n    .dataframe thead th {\n        text-align: right;\n    }\n</style>\n<table border=\"1\" class=\"dataframe\">\n  <thead>\n    <tr style=\"text-align: right;\">\n      <th></th>\n      <th>temperature</th>\n      <th>precipitation</th>\n      <th>dateHour</th>\n    </tr>\n  </thead>\n  <tbody>\n    <tr>\n      <th>0</th>\n      <td>9.0</td>\n      <td>0.0</td>\n      <td>2018-1-1+8</td>\n    </tr>\n    <tr>\n      <th>1</th>\n      <td>9.0</td>\n      <td>0.0</td>\n      <td>2018-1-1+9</td>\n    </tr>\n    <tr>\n      <th>2</th>\n      <td>9.0</td>\n      <td>0.0</td>\n      <td>2018-1-1+10</td>\n    </tr>\n    <tr>\n      <th>3</th>\n      <td>9.0</td>\n      <td>0.0</td>\n      <td>2018-1-1+11</td>\n    </tr>\n    <tr>\n      <th>4</th>\n      <td>8.0</td>\n      <td>0.0</td>\n      <td>2018-1-1+12</td>\n    </tr>\n    <tr>\n      <th>...</th>\n      <td>...</td>\n      <td>...</td>\n      <td>...</td>\n    </tr>\n    <tr>\n      <th>29239</th>\n      <td>13.0</td>\n      <td>0.0</td>\n      <td>2021-1-1+3</td>\n    </tr>\n    <tr>\n      <th>29240</th>\n      <td>12.0</td>\n      <td>0.0</td>\n      <td>2021-1-1+4</td>\n    </tr>\n    <tr>\n      <th>29241</th>\n      <td>12.0</td>\n      <td>0.0</td>\n      <td>2021-1-1+5</td>\n    </tr>\n    <tr>\n      <th>29242</th>\n      <td>11.0</td>\n      <td>0.0</td>\n      <td>2021-1-1+6</td>\n    </tr>\n    <tr>\n      <th>29243</th>\n      <td>10.0</td>\n      <td>0.0</td>\n      <td>2021-1-1+7</td>\n    </tr>\n  </tbody>\n</table>\n<p>29244 rows × 3 columns</p>\n</div>"
     },
     "execution_count": 62,
     "metadata": {},
     "output_type": "execute_result"
    }
   ],
   "source": [
    "# Add a new column dateHour, which represents the date with the current hour, we will merge into the site data on this later on. Drop the timestamp because we dont have any more use for it\n",
    "weather[\"dateHour\"] = weather[\"timestamp\"].apply(lambda x: (str(x.year) + \"-\"\n",
    "                                                            + str(x.month) +\"-\"\n",
    "                                                            + str(x.day) +\"+\"\n",
    "                                                            + str(x.hour)))\n",
    "weather.drop(columns=\"timestamp\")"
   ],
   "metadata": {
    "collapsed": false,
    "ExecuteTime": {
     "end_time": "2024-01-21T13:48:58.296015400Z",
     "start_time": "2024-01-21T13:48:58.147174100Z"
    }
   },
   "id": "2cedf0f09783cb84"
  },
  {
   "cell_type": "code",
   "execution_count": 63,
   "outputs": [],
   "source": [
    "# Add the dateHour column to both dataframes\n",
    "frame1[\"dateHour\"] = frame1[\"date\"].apply(lambda x: (str(x.year) + \"-\"\n",
    "                                                            + str(x.month) +\"-\"\n",
    "                                                            + str(x.day) +\"+\"\n",
    "                                                            ))\n",
    "frame1[\"dateHour\"] = frame1.apply(lambda x: '%s%s' % (x[\"dateHour\"], x[\"hour\"]), axis =1)\n",
    "\n",
    "frame2[\"dateHour\"] = frame2[\"date\"].apply(lambda x: (str(x.year) + \"-\"\n",
    "                                                            + str(x.month) +\"-\"\n",
    "                                                            + str(x.day) +\"+\"\n",
    "                                                            ))\n",
    "frame2[\"dateHour\"] = frame2.apply(lambda x: '%s%s' % (x[\"dateHour\"], x[\"hour\"]), axis =1)"
   ],
   "metadata": {
    "collapsed": false,
    "ExecuteTime": {
     "end_time": "2024-01-21T13:48:58.553152700Z",
     "start_time": "2024-01-21T13:48:58.194333100Z"
    }
   }
  },
  {
   "cell_type": "code",
   "execution_count": 64,
   "outputs": [],
   "source": [
    "# Function to return all hours between a start and end date in dateHour notation\n",
    "def getHoursBetween(start, end):\n",
    "    start = start.floor(\"h\")\n",
    "    end = end.floor(\"h\")\n",
    "    days= []\n",
    "    for i in range(int((end-start).seconds/3600)+1):\n",
    "            day = start+timedelta(hours=i)\n",
    "            dateHour = str(day.year) + \"-\" + str(day.month) + \"-\" + str(day.day) + \"+\" + str(day.hour)\n",
    "            days.append(dateHour)\n",
    "    return days"
   ],
   "metadata": {
    "collapsed": false,
    "ExecuteTime": {
     "end_time": "2024-01-21T13:48:58.568209200Z",
     "start_time": "2024-01-21T13:48:58.556179400Z"
    }
   }
  },
  {
   "cell_type": "code",
   "execution_count": 65,
   "outputs": [
    {
     "data": {
      "text/plain": "                           date  hour  weekday  month  holiday      dateHour  \\\n13    2018-10-08 13:01:34+00:00    13        0     10     True  2018-10-8+13   \n14    2018-10-08 13:01:34+00:00    14        0     10     True  2018-10-8+14   \n15    2018-10-08 13:01:34+00:00    15        0     10     True  2018-10-8+15   \n16    2018-10-08 13:01:34+00:00    16        0     10     True  2018-10-8+16   \n17    2018-10-08 13:01:34+00:00    17        0     10     True  2018-10-8+17   \n...                         ...   ...      ...    ...      ...           ...   \n25738 2021-09-14 13:01:34+00:00    10        1      9    False  2021-9-14+10   \n25739 2021-09-14 13:01:34+00:00    11        1      9    False  2021-9-14+11   \n25740 2021-09-14 13:01:34+00:00    12        1      9    False  2021-9-14+12   \n25741 2021-09-14 13:01:34+00:00    13        1      9    False  2021-9-14+13   \n25742 2021-09-14 13:01:34+00:00    14        1      9    False  2021-9-14+14   \n\n       utilization  \n13        0.076923  \n14        0.365385  \n15        0.365385  \n16        0.365385  \n17        0.365385  \n...            ...  \n25738     0.019231  \n25739     0.019231  \n25740     0.019231  \n25741     0.019231  \n25742     0.019231  \n\n[25730 rows x 7 columns]",
      "text/html": "<div>\n<style scoped>\n    .dataframe tbody tr th:only-of-type {\n        vertical-align: middle;\n    }\n\n    .dataframe tbody tr th {\n        vertical-align: top;\n    }\n\n    .dataframe thead th {\n        text-align: right;\n    }\n</style>\n<table border=\"1\" class=\"dataframe\">\n  <thead>\n    <tr style=\"text-align: right;\">\n      <th></th>\n      <th>date</th>\n      <th>hour</th>\n      <th>weekday</th>\n      <th>month</th>\n      <th>holiday</th>\n      <th>dateHour</th>\n      <th>utilization</th>\n    </tr>\n  </thead>\n  <tbody>\n    <tr>\n      <th>13</th>\n      <td>2018-10-08 13:01:34+00:00</td>\n      <td>13</td>\n      <td>0</td>\n      <td>10</td>\n      <td>True</td>\n      <td>2018-10-8+13</td>\n      <td>0.076923</td>\n    </tr>\n    <tr>\n      <th>14</th>\n      <td>2018-10-08 13:01:34+00:00</td>\n      <td>14</td>\n      <td>0</td>\n      <td>10</td>\n      <td>True</td>\n      <td>2018-10-8+14</td>\n      <td>0.365385</td>\n    </tr>\n    <tr>\n      <th>15</th>\n      <td>2018-10-08 13:01:34+00:00</td>\n      <td>15</td>\n      <td>0</td>\n      <td>10</td>\n      <td>True</td>\n      <td>2018-10-8+15</td>\n      <td>0.365385</td>\n    </tr>\n    <tr>\n      <th>16</th>\n      <td>2018-10-08 13:01:34+00:00</td>\n      <td>16</td>\n      <td>0</td>\n      <td>10</td>\n      <td>True</td>\n      <td>2018-10-8+16</td>\n      <td>0.365385</td>\n    </tr>\n    <tr>\n      <th>17</th>\n      <td>2018-10-08 13:01:34+00:00</td>\n      <td>17</td>\n      <td>0</td>\n      <td>10</td>\n      <td>True</td>\n      <td>2018-10-8+17</td>\n      <td>0.365385</td>\n    </tr>\n    <tr>\n      <th>...</th>\n      <td>...</td>\n      <td>...</td>\n      <td>...</td>\n      <td>...</td>\n      <td>...</td>\n      <td>...</td>\n      <td>...</td>\n    </tr>\n    <tr>\n      <th>25738</th>\n      <td>2021-09-14 13:01:34+00:00</td>\n      <td>10</td>\n      <td>1</td>\n      <td>9</td>\n      <td>False</td>\n      <td>2021-9-14+10</td>\n      <td>0.019231</td>\n    </tr>\n    <tr>\n      <th>25739</th>\n      <td>2021-09-14 13:01:34+00:00</td>\n      <td>11</td>\n      <td>1</td>\n      <td>9</td>\n      <td>False</td>\n      <td>2021-9-14+11</td>\n      <td>0.019231</td>\n    </tr>\n    <tr>\n      <th>25740</th>\n      <td>2021-09-14 13:01:34+00:00</td>\n      <td>12</td>\n      <td>1</td>\n      <td>9</td>\n      <td>False</td>\n      <td>2021-9-14+12</td>\n      <td>0.019231</td>\n    </tr>\n    <tr>\n      <th>25741</th>\n      <td>2021-09-14 13:01:34+00:00</td>\n      <td>13</td>\n      <td>1</td>\n      <td>9</td>\n      <td>False</td>\n      <td>2021-9-14+13</td>\n      <td>0.019231</td>\n    </tr>\n    <tr>\n      <th>25742</th>\n      <td>2021-09-14 13:01:34+00:00</td>\n      <td>14</td>\n      <td>1</td>\n      <td>9</td>\n      <td>False</td>\n      <td>2021-9-14+14</td>\n      <td>0.019231</td>\n    </tr>\n  </tbody>\n</table>\n<p>25730 rows × 7 columns</p>\n</div>"
     },
     "execution_count": 65,
     "metadata": {},
     "output_type": "execute_result"
    }
   ],
   "source": [
    "# Iterate over all site 1 data, for each charging event, increment utilization by one for each hour. Keep track of the charging stations in stations, each station can have a max utilization of 1, meaning there is no difference if the station was occupied for 1 or 60 hour, or if one charging event ended and another started in the same hour\n",
    "frame1[\"utilization\"] = 0\n",
    "frame1[\"stations\"] = \"\"\n",
    "\n",
    "for row in site_1_data.itertuples():\n",
    "    connectionTime = row[2]\n",
    "    disconnectTime = row[3]\n",
    "    station = row[7]\n",
    "    hours = getHoursBetween(connectionTime, disconnectTime)\n",
    "    for hour in hours:\n",
    "        hourRowIndex = frame1[frame1[\"dateHour\"] == hour].index.tolist()[0]\n",
    "        if not (str(frame1.at[hourRowIndex, \"stations\"]).__contains__(station)):\n",
    "            frame1.at[hourRowIndex, \"utilization\"] += 1\n",
    "            frame1.at[hourRowIndex, \"stations\"] += station +\"_\"\n",
    "frame1['utilization'] /= 52\n",
    "frame1.drop(columns=\"stations\", inplace=True)"
   ],
   "metadata": {
    "collapsed": false,
    "ExecuteTime": {
     "end_time": "2024-01-21T13:52:51.539418500Z",
     "start_time": "2024-01-21T13:48:58.569210200Z"
    }
   }
  },
  {
   "cell_type": "code",
   "execution_count": 66,
   "outputs": [
    {
     "data": {
      "text/plain": "                           date  hour  weekday  month  holiday      dateHour  \\\n13    2018-04-25 13:45:10+00:00    13        2      4    False  2018-4-25+13   \n14    2018-04-25 13:45:10+00:00    14        2      4    False  2018-4-25+14   \n15    2018-04-25 13:45:10+00:00    15        2      4    False  2018-4-25+15   \n16    2018-04-25 13:45:10+00:00    16        2      4    False  2018-4-25+16   \n17    2018-04-25 13:45:10+00:00    17        2      4    False  2018-4-25+17   \n...                         ...   ...      ...    ...      ...           ...   \n29710 2021-09-13 13:45:10+00:00    22        0      9    False  2021-9-13+22   \n29711 2021-09-13 13:45:10+00:00    23        0      9    False  2021-9-13+23   \n29712 2021-09-14 13:45:10+00:00     0        1      9    False   2021-9-14+0   \n29713 2021-09-14 13:45:10+00:00     1        1      9    False   2021-9-14+1   \n29714 2021-09-14 13:45:10+00:00     2        1      9    False   2021-9-14+2   \n\n       utilization  \n13        0.037037  \n14        0.129630  \n15        0.388889  \n16        0.537037  \n17        0.555556  \n...            ...  \n29710     0.240741  \n29711     0.240741  \n29712     0.203704  \n29713     0.129630  \n29714     0.018519  \n\n[29702 rows x 7 columns]",
      "text/html": "<div>\n<style scoped>\n    .dataframe tbody tr th:only-of-type {\n        vertical-align: middle;\n    }\n\n    .dataframe tbody tr th {\n        vertical-align: top;\n    }\n\n    .dataframe thead th {\n        text-align: right;\n    }\n</style>\n<table border=\"1\" class=\"dataframe\">\n  <thead>\n    <tr style=\"text-align: right;\">\n      <th></th>\n      <th>date</th>\n      <th>hour</th>\n      <th>weekday</th>\n      <th>month</th>\n      <th>holiday</th>\n      <th>dateHour</th>\n      <th>utilization</th>\n    </tr>\n  </thead>\n  <tbody>\n    <tr>\n      <th>13</th>\n      <td>2018-04-25 13:45:10+00:00</td>\n      <td>13</td>\n      <td>2</td>\n      <td>4</td>\n      <td>False</td>\n      <td>2018-4-25+13</td>\n      <td>0.037037</td>\n    </tr>\n    <tr>\n      <th>14</th>\n      <td>2018-04-25 13:45:10+00:00</td>\n      <td>14</td>\n      <td>2</td>\n      <td>4</td>\n      <td>False</td>\n      <td>2018-4-25+14</td>\n      <td>0.129630</td>\n    </tr>\n    <tr>\n      <th>15</th>\n      <td>2018-04-25 13:45:10+00:00</td>\n      <td>15</td>\n      <td>2</td>\n      <td>4</td>\n      <td>False</td>\n      <td>2018-4-25+15</td>\n      <td>0.388889</td>\n    </tr>\n    <tr>\n      <th>16</th>\n      <td>2018-04-25 13:45:10+00:00</td>\n      <td>16</td>\n      <td>2</td>\n      <td>4</td>\n      <td>False</td>\n      <td>2018-4-25+16</td>\n      <td>0.537037</td>\n    </tr>\n    <tr>\n      <th>17</th>\n      <td>2018-04-25 13:45:10+00:00</td>\n      <td>17</td>\n      <td>2</td>\n      <td>4</td>\n      <td>False</td>\n      <td>2018-4-25+17</td>\n      <td>0.555556</td>\n    </tr>\n    <tr>\n      <th>...</th>\n      <td>...</td>\n      <td>...</td>\n      <td>...</td>\n      <td>...</td>\n      <td>...</td>\n      <td>...</td>\n      <td>...</td>\n    </tr>\n    <tr>\n      <th>29710</th>\n      <td>2021-09-13 13:45:10+00:00</td>\n      <td>22</td>\n      <td>0</td>\n      <td>9</td>\n      <td>False</td>\n      <td>2021-9-13+22</td>\n      <td>0.240741</td>\n    </tr>\n    <tr>\n      <th>29711</th>\n      <td>2021-09-13 13:45:10+00:00</td>\n      <td>23</td>\n      <td>0</td>\n      <td>9</td>\n      <td>False</td>\n      <td>2021-9-13+23</td>\n      <td>0.240741</td>\n    </tr>\n    <tr>\n      <th>29712</th>\n      <td>2021-09-14 13:45:10+00:00</td>\n      <td>0</td>\n      <td>1</td>\n      <td>9</td>\n      <td>False</td>\n      <td>2021-9-14+0</td>\n      <td>0.203704</td>\n    </tr>\n    <tr>\n      <th>29713</th>\n      <td>2021-09-14 13:45:10+00:00</td>\n      <td>1</td>\n      <td>1</td>\n      <td>9</td>\n      <td>False</td>\n      <td>2021-9-14+1</td>\n      <td>0.129630</td>\n    </tr>\n    <tr>\n      <th>29714</th>\n      <td>2021-09-14 13:45:10+00:00</td>\n      <td>2</td>\n      <td>1</td>\n      <td>9</td>\n      <td>False</td>\n      <td>2021-9-14+2</td>\n      <td>0.018519</td>\n    </tr>\n  </tbody>\n</table>\n<p>29702 rows × 7 columns</p>\n</div>"
     },
     "execution_count": 66,
     "metadata": {},
     "output_type": "execute_result"
    }
   ],
   "source": [
    "# Iterate over all site 2 data, for each charging event, increment utilization by one for each hour. Keep track of the charging stations in stations, each station can have a max utilization of 1, meaning there is no difference if the station was occupied for 1 or 60 hour, or if one charging event ended and another started in the same hour\n",
    "frame2[\"utilization\"] = 0\n",
    "frame2[\"stations\"] = \"\"\n",
    "\n",
    "for row in site_2_data.itertuples():\n",
    "    connectionTime = row[2]\n",
    "    disconnectTime = row[3]\n",
    "    station = row[7]\n",
    "    hours = getHoursBetween(connectionTime, disconnectTime)\n",
    "    for hour in hours:\n",
    "        hourRowIndex = frame2[frame2[\"dateHour\"] == hour].index.tolist()[0]\n",
    "        if not (str(frame2.at[hourRowIndex, \"stations\"]).__contains__(station)):\n",
    "            frame2.at[hourRowIndex, \"utilization\"] += 1\n",
    "            frame2.at[hourRowIndex, \"stations\"] += station +\"_\"\n",
    "frame2['utilization'] /= 54\n",
    "frame2.drop(columns=\"stations\", inplace = True)"
   ],
   "metadata": {
    "collapsed": false,
    "ExecuteTime": {
     "end_time": "2024-01-21T13:57:05.661720Z",
     "start_time": "2024-01-21T13:53:37.319225700Z"
    }
   }
  },
  {
   "cell_type": "code",
   "execution_count": 67,
   "outputs": [],
   "source": [
    "# drop duplicates in weather to ensure correct merge of both dataframes\n",
    "weather.drop_duplicates(subset='dateHour', inplace=True)"
   ],
   "metadata": {
    "collapsed": false,
    "ExecuteTime": {
     "end_time": "2024-01-21T14:37:31.874476200Z",
     "start_time": "2024-01-21T14:37:31.833890100Z"
    }
   }
  },
  {
   "cell_type": "code",
   "execution_count": 68,
   "outputs": [],
   "source": [
    "# Merge weather data with the charging data\n",
    "frame1 = frame1.merge(weather, left_on=\"dateHour\", right_on=\"dateHour\", how=\"left\")\n",
    "frame2 = frame2.merge(weather, left_on=\"dateHour\", right_on=\"dateHour\", how=\"left\")"
   ],
   "metadata": {
    "collapsed": false,
    "ExecuteTime": {
     "end_time": "2024-01-21T14:37:32.783607800Z",
     "start_time": "2024-01-21T14:37:32.739451900Z"
    }
   },
   "id": "ed21e0919ee5aa77"
  },
  {
   "cell_type": "code",
   "execution_count": 69,
   "outputs": [
    {
     "name": "stdout",
     "output_type": "stream",
     "text": [
      "<class 'pandas.core.frame.DataFrame'>\n",
      "RangeIndex: 25730 entries, 0 to 25729\n",
      "Data columns (total 11 columns):\n",
      " #   Column         Non-Null Count  Dtype              \n",
      "---  ------         --------------  -----              \n",
      " 0   date           25730 non-null  datetime64[ns, UTC]\n",
      " 1   hour           25730 non-null  int64              \n",
      " 2   weekday        25730 non-null  int32              \n",
      " 3   month          25730 non-null  int32              \n",
      " 4   holiday        25730 non-null  bool               \n",
      " 5   dateHour       25730 non-null  object             \n",
      " 6   utilization    25730 non-null  float64            \n",
      " 7   stations       25730 non-null  object             \n",
      " 8   timestamp      19506 non-null  datetime64[ns]     \n",
      " 9   temperature    19490 non-null  float64            \n",
      " 10  precipitation  19506 non-null  float64            \n",
      "dtypes: bool(1), datetime64[ns, UTC](1), datetime64[ns](1), float64(3), int32(2), int64(1), object(2)\n",
      "memory usage: 1.8+ MB\n"
     ]
    }
   ],
   "source": [
    "frame1.info()"
   ],
   "metadata": {
    "collapsed": false,
    "ExecuteTime": {
     "end_time": "2024-01-21T14:38:38.327816900Z",
     "start_time": "2024-01-21T14:38:38.308778600Z"
    }
   }
  },
  {
   "cell_type": "code",
   "execution_count": 70,
   "outputs": [
    {
     "name": "stdout",
     "output_type": "stream",
     "text": [
      "<class 'pandas.core.frame.DataFrame'>\n",
      "RangeIndex: 29702 entries, 0 to 29701\n",
      "Data columns (total 11 columns):\n",
      " #   Column         Non-Null Count  Dtype              \n",
      "---  ------         --------------  -----              \n",
      " 0   date           29702 non-null  datetime64[ns, UTC]\n",
      " 1   hour           29702 non-null  int64              \n",
      " 2   weekday        29702 non-null  int32              \n",
      " 3   month          29702 non-null  int32              \n",
      " 4   holiday        29702 non-null  bool               \n",
      " 5   dateHour       29702 non-null  object             \n",
      " 6   utilization    29702 non-null  float64            \n",
      " 7   stations       29702 non-null  object             \n",
      " 8   timestamp      23474 non-null  datetime64[ns]     \n",
      " 9   temperature    23457 non-null  float64            \n",
      " 10  precipitation  23474 non-null  float64            \n",
      "dtypes: bool(1), datetime64[ns, UTC](1), datetime64[ns](1), float64(3), int32(2), int64(1), object(2)\n",
      "memory usage: 2.1+ MB\n"
     ]
    }
   ],
   "source": [
    "frame2.info()"
   ],
   "metadata": {
    "collapsed": false,
    "ExecuteTime": {
     "end_time": "2024-01-21T14:38:42.166292200Z",
     "start_time": "2024-01-21T14:38:42.148254800Z"
    }
   }
  },
  {
   "cell_type": "code",
   "execution_count": 114,
   "outputs": [],
   "source": [
    "# _nc = no corona\n",
    "x = frame1.copy()\n",
    "frame1_nc = pd.merge(x, x[x['date'].between('2020-4-1', '2020-12-31')],\n",
    "                 how = \"outer\",\n",
    "                 indicator=True).query(\"_merge != 'both'\").drop('_merge', axis=1).reset_index(drop=True)\n",
    "\n",
    "x = frame2.copy()\n",
    "frame2_nc = pd.merge(x, x[x['date'].between('2020-4-1', '2020-12-31')],\n",
    "                 how = \"outer\",\n",
    "                 indicator=True).query(\"_merge != 'both'\").drop('_merge', axis=1).reset_index(drop=True)"
   ],
   "metadata": {
    "collapsed": false,
    "ExecuteTime": {
     "end_time": "2024-01-21T15:30:37.473460100Z",
     "start_time": "2024-01-21T15:30:37.435802Z"
    }
   }
  },
  {
   "cell_type": "code",
   "execution_count": 117,
   "outputs": [
    {
     "name": "stdout",
     "output_type": "stream",
     "text": [
      "<class 'pandas.core.frame.DataFrame'>\n",
      "RangeIndex: 19154 entries, 0 to 19153\n",
      "Data columns (total 11 columns):\n",
      " #   Column         Non-Null Count  Dtype              \n",
      "---  ------         --------------  -----              \n",
      " 0   date           19154 non-null  datetime64[ns, UTC]\n",
      " 1   hour           19154 non-null  int64              \n",
      " 2   weekday        19154 non-null  int32              \n",
      " 3   month          19154 non-null  int32              \n",
      " 4   holiday        19154 non-null  bool               \n",
      " 5   dateHour       19154 non-null  object             \n",
      " 6   utilization    19154 non-null  float64            \n",
      " 7   stations       19154 non-null  object             \n",
      " 8   timestamp      12979 non-null  datetime64[ns]     \n",
      " 9   temperature    12970 non-null  float64            \n",
      " 10  precipitation  12979 non-null  float64            \n",
      "dtypes: bool(1), datetime64[ns, UTC](1), datetime64[ns](1), float64(3), int32(2), int64(1), object(2)\n",
      "memory usage: 1.3+ MB\n"
     ]
    }
   ],
   "source": [
    "frame1_nc.info()"
   ],
   "metadata": {
    "collapsed": false,
    "ExecuteTime": {
     "end_time": "2024-01-21T15:30:59.406994Z",
     "start_time": "2024-01-21T15:30:59.357853100Z"
    }
   }
  },
  {
   "cell_type": "code",
   "execution_count": 118,
   "outputs": [
    {
     "name": "stdout",
     "output_type": "stream",
     "text": [
      "<class 'pandas.core.frame.DataFrame'>\n",
      "RangeIndex: 23126 entries, 0 to 23125\n",
      "Data columns (total 11 columns):\n",
      " #   Column         Non-Null Count  Dtype              \n",
      "---  ------         --------------  -----              \n",
      " 0   date           23126 non-null  datetime64[ns, UTC]\n",
      " 1   hour           23126 non-null  int64              \n",
      " 2   weekday        23126 non-null  int32              \n",
      " 3   month          23126 non-null  int32              \n",
      " 4   holiday        23126 non-null  bool               \n",
      " 5   dateHour       23126 non-null  object             \n",
      " 6   utilization    23126 non-null  float64            \n",
      " 7   stations       23126 non-null  object             \n",
      " 8   timestamp      16947 non-null  datetime64[ns]     \n",
      " 9   temperature    16937 non-null  float64            \n",
      " 10  precipitation  16947 non-null  float64            \n",
      "dtypes: bool(1), datetime64[ns, UTC](1), datetime64[ns](1), float64(3), int32(2), int64(1), object(2)\n",
      "memory usage: 1.6+ MB\n"
     ]
    }
   ],
   "source": [
    "frame2_nc.info()"
   ],
   "metadata": {
    "collapsed": false,
    "ExecuteTime": {
     "end_time": "2024-01-21T15:31:17.203183100Z",
     "start_time": "2024-01-21T15:31:17.174056Z"
    }
   }
  },
  {
   "cell_type": "code",
   "execution_count": null,
   "outputs": [],
   "source": [],
   "metadata": {
    "collapsed": false
   }
  }
 ],
 "metadata": {
  "kernelspec": {
   "display_name": "Python 3",
   "language": "python",
   "name": "python3"
  },
  "language_info": {
   "codemirror_mode": {
    "name": "ipython",
    "version": 2
   },
   "file_extension": ".py",
   "mimetype": "text/x-python",
   "name": "python",
   "nbconvert_exporter": "python",
   "pygments_lexer": "ipython2",
   "version": "2.7.6"
  }
 },
 "nbformat": 4,
 "nbformat_minor": 5
}
