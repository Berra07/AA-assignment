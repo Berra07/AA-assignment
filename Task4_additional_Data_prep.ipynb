{
 "cells": [
  {
   "cell_type": "code",
   "execution_count": 1,
   "id": "initial_id",
   "metadata": {
    "collapsed": true,
    "ExecuteTime": {
     "end_time": "2024-01-28T14:49:22.511082700Z",
     "start_time": "2024-01-28T14:49:22.322081700Z"
    }
   },
   "outputs": [],
   "source": [
    "import numpy as np\n",
    "import pandas as pd\n",
    "import holidays\n",
    "from datetime import timedelta, date"
   ]
  },
  {
   "cell_type": "code",
   "execution_count": 2,
   "outputs": [
    {
     "data": {
      "text/plain": "                 connectionTime            disconnectTime  \\\n0     2020-01-02 13:08:54+00:00 2020-01-02 19:11:15+00:00   \n1     2020-01-02 13:36:50+00:00 2020-01-02 22:38:21+00:00   \n2     2020-01-02 13:56:35+00:00 2020-01-03 00:39:22+00:00   \n3     2020-01-02 13:59:58+00:00 2020-01-02 16:38:39+00:00   \n4     2020-01-02 14:00:01+00:00 2020-01-02 22:08:40+00:00   \n...                         ...                       ...   \n56531 2019-07-01 19:13:11+00:00 2019-07-02 00:44:40+00:00   \n56532 2019-07-01 19:43:46+00:00 2019-07-02 02:58:53+00:00   \n56533 2019-07-01 20:34:30+00:00 2019-07-02 00:30:52+00:00   \n56534 2019-07-01 21:49:12+00:00 2019-07-02 01:37:18+00:00   \n56535 2019-07-01 22:36:08+00:00 2019-07-02 01:10:52+00:00   \n\n               doneChargingTime  kWhDelivered  siteID  userID  \\\n0     2020-01-02 17:31:35+00:00        25.016       1   194.0   \n1     2020-01-02 20:18:05+00:00        33.097       1  4275.0   \n2     2020-01-02 16:35:06+00:00         6.521       1   344.0   \n3     2020-01-02 15:18:45+00:00         2.355       1  1117.0   \n4     2020-01-02 18:17:30+00:00        13.375       1   334.0   \n...                         ...           ...     ...     ...   \n56531 2019-07-01 21:13:56+00:00         6.048       1  2643.0   \n56532 2019-07-02 02:43:53+00:00        41.047       1   394.0   \n56533 2019-07-01 21:27:44+00:00         5.390       1  2276.0   \n56534 2019-07-01 23:14:33+00:00         8.399       1  1346.0   \n56535 2019-07-02 00:24:32+00:00        10.241       1  2299.0   \n\n      combinedSpaceStationID  timeConnected  idleTime  chargingTime  weekday  \\\n0        AG-3F30/1-1-179-810        21741.0    5980.0       15761.0        3   \n1        AG-1F01/1-1-193-825        32491.0    8416.0       24075.0        3   \n2        AG-1F03/1-1-193-829        38567.0   29056.0        9511.0        3   \n3        AG-1F04/1-1-193-820         9521.0    4794.0        4727.0        3   \n4        AG-1F06/1-1-193-819        29319.0   13870.0       15449.0        3   \n...                      ...            ...       ...           ...      ...   \n56531    AG-3F23/1-1-179-797        19889.0   12644.0        7245.0        0   \n56532    AG-4F38/1-1-191-793        26107.0     900.0       25207.0        0   \n56533    AG-3F15/1-1-179-813        14182.0   10988.0        3194.0        0   \n56534    AG-3F18/1-1-179-798        13686.0    8565.0        5121.0        0   \n56535    AG-1F06/1-1-193-819         9284.0    2780.0        6504.0        0   \n\n       month      time  WhPerMile  kWhRequested  milesRequested  \\\n0          1  13:08:54      250.0         25.00           100.0   \n1          1  13:36:50      280.0         70.00           250.0   \n2          1  13:56:35      400.0          8.00            20.0   \n3          1  13:59:58      400.0          8.00            20.0   \n4          1  14:00:01      400.0         16.00            40.0   \n...      ...       ...        ...           ...             ...   \n56531      7  19:13:11      275.0          8.25            30.0   \n56532      7  19:43:46      231.0         36.96           160.0   \n56533      7  20:34:30      300.0         12.00            40.0   \n56534      7  21:49:12      400.0         32.00            80.0   \n56535      7  22:36:08      333.0         16.65            50.0   \n\n       minutesAvailable                     modifiedAt paymentRequired  \\\n0                 463.0  Thu, 02 Jan 2020 13:09:39 GMT            True   \n1                 595.0  Thu, 02 Jan 2020 13:37:11 GMT            True   \n2                  60.0  Thu, 02 Jan 2020 13:57:17 GMT            True   \n3                  65.0  Thu, 02 Jan 2020 14:00:03 GMT            True   \n4                 504.0  Thu, 02 Jan 2020 14:00:13 GMT            True   \n...                 ...                            ...             ...   \n56531             374.0  Mon, 01 Jul 2019 19:13:10 GMT            True   \n56532             310.0  Mon, 01 Jul 2019 19:43:58 GMT            True   \n56533             381.0  Mon, 01 Jul 2019 20:34:29 GMT            True   \n56534              36.0  Mon, 01 Jul 2019 21:49:37 GMT            True   \n56535             191.0  Mon, 01 Jul 2019 22:36:08 GMT            True   \n\n                  requestedDeparture  \n0      Thu, 02 Jan 2020 20:51:54 GMT  \n1      Thu, 02 Jan 2020 23:31:50 GMT  \n2      Thu, 02 Jan 2020 14:56:35 GMT  \n3      Thu, 02 Jan 2020 15:04:58 GMT  \n4      Thu, 02 Jan 2020 22:24:01 GMT  \n...                              ...  \n56531  Tue, 02 Jul 2019 01:27:11 GMT  \n56532  Tue, 02 Jul 2019 00:53:46 GMT  \n56533  Tue, 02 Jul 2019 02:55:30 GMT  \n56534  Mon, 01 Jul 2019 22:25:12 GMT  \n56535  Tue, 02 Jul 2019 01:47:08 GMT  \n\n[56536 rows x 20 columns]",
      "text/html": "<div>\n<style scoped>\n    .dataframe tbody tr th:only-of-type {\n        vertical-align: middle;\n    }\n\n    .dataframe tbody tr th {\n        vertical-align: top;\n    }\n\n    .dataframe thead th {\n        text-align: right;\n    }\n</style>\n<table border=\"1\" class=\"dataframe\">\n  <thead>\n    <tr style=\"text-align: right;\">\n      <th></th>\n      <th>connectionTime</th>\n      <th>disconnectTime</th>\n      <th>doneChargingTime</th>\n      <th>kWhDelivered</th>\n      <th>siteID</th>\n      <th>userID</th>\n      <th>combinedSpaceStationID</th>\n      <th>timeConnected</th>\n      <th>idleTime</th>\n      <th>chargingTime</th>\n      <th>weekday</th>\n      <th>month</th>\n      <th>time</th>\n      <th>WhPerMile</th>\n      <th>kWhRequested</th>\n      <th>milesRequested</th>\n      <th>minutesAvailable</th>\n      <th>modifiedAt</th>\n      <th>paymentRequired</th>\n      <th>requestedDeparture</th>\n    </tr>\n  </thead>\n  <tbody>\n    <tr>\n      <th>0</th>\n      <td>2020-01-02 13:08:54+00:00</td>\n      <td>2020-01-02 19:11:15+00:00</td>\n      <td>2020-01-02 17:31:35+00:00</td>\n      <td>25.016</td>\n      <td>1</td>\n      <td>194.0</td>\n      <td>AG-3F30/1-1-179-810</td>\n      <td>21741.0</td>\n      <td>5980.0</td>\n      <td>15761.0</td>\n      <td>3</td>\n      <td>1</td>\n      <td>13:08:54</td>\n      <td>250.0</td>\n      <td>25.00</td>\n      <td>100.0</td>\n      <td>463.0</td>\n      <td>Thu, 02 Jan 2020 13:09:39 GMT</td>\n      <td>True</td>\n      <td>Thu, 02 Jan 2020 20:51:54 GMT</td>\n    </tr>\n    <tr>\n      <th>1</th>\n      <td>2020-01-02 13:36:50+00:00</td>\n      <td>2020-01-02 22:38:21+00:00</td>\n      <td>2020-01-02 20:18:05+00:00</td>\n      <td>33.097</td>\n      <td>1</td>\n      <td>4275.0</td>\n      <td>AG-1F01/1-1-193-825</td>\n      <td>32491.0</td>\n      <td>8416.0</td>\n      <td>24075.0</td>\n      <td>3</td>\n      <td>1</td>\n      <td>13:36:50</td>\n      <td>280.0</td>\n      <td>70.00</td>\n      <td>250.0</td>\n      <td>595.0</td>\n      <td>Thu, 02 Jan 2020 13:37:11 GMT</td>\n      <td>True</td>\n      <td>Thu, 02 Jan 2020 23:31:50 GMT</td>\n    </tr>\n    <tr>\n      <th>2</th>\n      <td>2020-01-02 13:56:35+00:00</td>\n      <td>2020-01-03 00:39:22+00:00</td>\n      <td>2020-01-02 16:35:06+00:00</td>\n      <td>6.521</td>\n      <td>1</td>\n      <td>344.0</td>\n      <td>AG-1F03/1-1-193-829</td>\n      <td>38567.0</td>\n      <td>29056.0</td>\n      <td>9511.0</td>\n      <td>3</td>\n      <td>1</td>\n      <td>13:56:35</td>\n      <td>400.0</td>\n      <td>8.00</td>\n      <td>20.0</td>\n      <td>60.0</td>\n      <td>Thu, 02 Jan 2020 13:57:17 GMT</td>\n      <td>True</td>\n      <td>Thu, 02 Jan 2020 14:56:35 GMT</td>\n    </tr>\n    <tr>\n      <th>3</th>\n      <td>2020-01-02 13:59:58+00:00</td>\n      <td>2020-01-02 16:38:39+00:00</td>\n      <td>2020-01-02 15:18:45+00:00</td>\n      <td>2.355</td>\n      <td>1</td>\n      <td>1117.0</td>\n      <td>AG-1F04/1-1-193-820</td>\n      <td>9521.0</td>\n      <td>4794.0</td>\n      <td>4727.0</td>\n      <td>3</td>\n      <td>1</td>\n      <td>13:59:58</td>\n      <td>400.0</td>\n      <td>8.00</td>\n      <td>20.0</td>\n      <td>65.0</td>\n      <td>Thu, 02 Jan 2020 14:00:03 GMT</td>\n      <td>True</td>\n      <td>Thu, 02 Jan 2020 15:04:58 GMT</td>\n    </tr>\n    <tr>\n      <th>4</th>\n      <td>2020-01-02 14:00:01+00:00</td>\n      <td>2020-01-02 22:08:40+00:00</td>\n      <td>2020-01-02 18:17:30+00:00</td>\n      <td>13.375</td>\n      <td>1</td>\n      <td>334.0</td>\n      <td>AG-1F06/1-1-193-819</td>\n      <td>29319.0</td>\n      <td>13870.0</td>\n      <td>15449.0</td>\n      <td>3</td>\n      <td>1</td>\n      <td>14:00:01</td>\n      <td>400.0</td>\n      <td>16.00</td>\n      <td>40.0</td>\n      <td>504.0</td>\n      <td>Thu, 02 Jan 2020 14:00:13 GMT</td>\n      <td>True</td>\n      <td>Thu, 02 Jan 2020 22:24:01 GMT</td>\n    </tr>\n    <tr>\n      <th>...</th>\n      <td>...</td>\n      <td>...</td>\n      <td>...</td>\n      <td>...</td>\n      <td>...</td>\n      <td>...</td>\n      <td>...</td>\n      <td>...</td>\n      <td>...</td>\n      <td>...</td>\n      <td>...</td>\n      <td>...</td>\n      <td>...</td>\n      <td>...</td>\n      <td>...</td>\n      <td>...</td>\n      <td>...</td>\n      <td>...</td>\n      <td>...</td>\n      <td>...</td>\n    </tr>\n    <tr>\n      <th>56531</th>\n      <td>2019-07-01 19:13:11+00:00</td>\n      <td>2019-07-02 00:44:40+00:00</td>\n      <td>2019-07-01 21:13:56+00:00</td>\n      <td>6.048</td>\n      <td>1</td>\n      <td>2643.0</td>\n      <td>AG-3F23/1-1-179-797</td>\n      <td>19889.0</td>\n      <td>12644.0</td>\n      <td>7245.0</td>\n      <td>0</td>\n      <td>7</td>\n      <td>19:13:11</td>\n      <td>275.0</td>\n      <td>8.25</td>\n      <td>30.0</td>\n      <td>374.0</td>\n      <td>Mon, 01 Jul 2019 19:13:10 GMT</td>\n      <td>True</td>\n      <td>Tue, 02 Jul 2019 01:27:11 GMT</td>\n    </tr>\n    <tr>\n      <th>56532</th>\n      <td>2019-07-01 19:43:46+00:00</td>\n      <td>2019-07-02 02:58:53+00:00</td>\n      <td>2019-07-02 02:43:53+00:00</td>\n      <td>41.047</td>\n      <td>1</td>\n      <td>394.0</td>\n      <td>AG-4F38/1-1-191-793</td>\n      <td>26107.0</td>\n      <td>900.0</td>\n      <td>25207.0</td>\n      <td>0</td>\n      <td>7</td>\n      <td>19:43:46</td>\n      <td>231.0</td>\n      <td>36.96</td>\n      <td>160.0</td>\n      <td>310.0</td>\n      <td>Mon, 01 Jul 2019 19:43:58 GMT</td>\n      <td>True</td>\n      <td>Tue, 02 Jul 2019 00:53:46 GMT</td>\n    </tr>\n    <tr>\n      <th>56533</th>\n      <td>2019-07-01 20:34:30+00:00</td>\n      <td>2019-07-02 00:30:52+00:00</td>\n      <td>2019-07-01 21:27:44+00:00</td>\n      <td>5.390</td>\n      <td>1</td>\n      <td>2276.0</td>\n      <td>AG-3F15/1-1-179-813</td>\n      <td>14182.0</td>\n      <td>10988.0</td>\n      <td>3194.0</td>\n      <td>0</td>\n      <td>7</td>\n      <td>20:34:30</td>\n      <td>300.0</td>\n      <td>12.00</td>\n      <td>40.0</td>\n      <td>381.0</td>\n      <td>Mon, 01 Jul 2019 20:34:29 GMT</td>\n      <td>True</td>\n      <td>Tue, 02 Jul 2019 02:55:30 GMT</td>\n    </tr>\n    <tr>\n      <th>56534</th>\n      <td>2019-07-01 21:49:12+00:00</td>\n      <td>2019-07-02 01:37:18+00:00</td>\n      <td>2019-07-01 23:14:33+00:00</td>\n      <td>8.399</td>\n      <td>1</td>\n      <td>1346.0</td>\n      <td>AG-3F18/1-1-179-798</td>\n      <td>13686.0</td>\n      <td>8565.0</td>\n      <td>5121.0</td>\n      <td>0</td>\n      <td>7</td>\n      <td>21:49:12</td>\n      <td>400.0</td>\n      <td>32.00</td>\n      <td>80.0</td>\n      <td>36.0</td>\n      <td>Mon, 01 Jul 2019 21:49:37 GMT</td>\n      <td>True</td>\n      <td>Mon, 01 Jul 2019 22:25:12 GMT</td>\n    </tr>\n    <tr>\n      <th>56535</th>\n      <td>2019-07-01 22:36:08+00:00</td>\n      <td>2019-07-02 01:10:52+00:00</td>\n      <td>2019-07-02 00:24:32+00:00</td>\n      <td>10.241</td>\n      <td>1</td>\n      <td>2299.0</td>\n      <td>AG-1F06/1-1-193-819</td>\n      <td>9284.0</td>\n      <td>2780.0</td>\n      <td>6504.0</td>\n      <td>0</td>\n      <td>7</td>\n      <td>22:36:08</td>\n      <td>333.0</td>\n      <td>16.65</td>\n      <td>50.0</td>\n      <td>191.0</td>\n      <td>Mon, 01 Jul 2019 22:36:08 GMT</td>\n      <td>True</td>\n      <td>Tue, 02 Jul 2019 01:47:08 GMT</td>\n    </tr>\n  </tbody>\n</table>\n<p>56536 rows × 20 columns</p>\n</div>"
     },
     "execution_count": 2,
     "metadata": {},
     "output_type": "execute_result"
    }
   ],
   "source": [
    "data = pd.read_pickle(\"preparedData.pkl\")\n",
    "data"
   ],
   "metadata": {
    "collapsed": false,
    "ExecuteTime": {
     "end_time": "2024-01-28T14:49:22.544168600Z",
     "start_time": "2024-01-28T14:49:22.358161600Z"
    }
   },
   "id": "aac4edd2e780c478"
  },
  {
   "cell_type": "markdown",
   "source": [
    "For utilization prediction we will exclude any data after March 2020 due to the Corona pandemic. We argue, that due to lockdowns and a shift to homeoffice whereever possible, the rest of 2020 is not relevant to the situation we have today. While homeoffice is generally more accepted nowadays, we are beginning to see a lot of companies enforcing a return to the office.\n",
    "While the data is beginning to normalize at the beginning of 2021, we do not have any weather data after this point. Attempts to find additional data for the burbank airport where unsuccessful. Due to both of these points, there will be a hard cutoff after March 2020."
   ],
   "metadata": {
    "collapsed": false
   }
  },
  {
   "cell_type": "code",
   "execution_count": 3,
   "outputs": [],
   "source": [
    "data_nc = data[data['disconnectTime']<\"2020-4-1\"].copy()"
   ],
   "metadata": {
    "collapsed": false,
    "ExecuteTime": {
     "end_time": "2024-01-28T14:49:22.544668200Z",
     "start_time": "2024-01-28T14:49:22.483521900Z"
    }
   }
  },
  {
   "cell_type": "code",
   "execution_count": 4,
   "outputs": [],
   "source": [
    "#Split data into sites 1 and 2\n",
    "site_1_data = data_nc[data_nc['siteID']==1].copy()\n",
    "site_2_data = data_nc[data_nc['siteID']==2].copy()"
   ],
   "metadata": {
    "collapsed": false,
    "ExecuteTime": {
     "end_time": "2024-01-28T14:49:22.544668200Z",
     "start_time": "2024-01-28T14:49:22.515597900Z"
    }
   },
   "id": "89fe1f8a4aa83a52"
  },
  {
   "cell_type": "code",
   "execution_count": 5,
   "outputs": [
    {
     "name": "stdout",
     "output_type": "stream",
     "text": [
      "<class 'pandas.core.frame.DataFrame'>\n",
      "Index: 21233 entries, 0 to 56535\n",
      "Data columns (total 20 columns):\n",
      " #   Column                  Non-Null Count  Dtype              \n",
      "---  ------                  --------------  -----              \n",
      " 0   connectionTime          21233 non-null  datetime64[ns, UTC]\n",
      " 1   disconnectTime          21233 non-null  datetime64[ns, UTC]\n",
      " 2   doneChargingTime        21233 non-null  datetime64[ns, UTC]\n",
      " 3   kWhDelivered            21233 non-null  float64            \n",
      " 4   siteID                  21233 non-null  int64              \n",
      " 5   userID                  20119 non-null  float64            \n",
      " 6   combinedSpaceStationID  21233 non-null  object             \n",
      " 7   timeConnected           21233 non-null  float64            \n",
      " 8   idleTime                21233 non-null  float64            \n",
      " 9   chargingTime            21233 non-null  float64            \n",
      " 10  weekday                 21233 non-null  int32              \n",
      " 11  month                   21233 non-null  int32              \n",
      " 12  time                    21233 non-null  object             \n",
      " 13  WhPerMile               20119 non-null  float64            \n",
      " 14  kWhRequested            20119 non-null  float64            \n",
      " 15  milesRequested          20119 non-null  float64            \n",
      " 16  minutesAvailable        20119 non-null  float64            \n",
      " 17  modifiedAt              20119 non-null  object             \n",
      " 18  paymentRequired         20119 non-null  object             \n",
      " 19  requestedDeparture      20119 non-null  object             \n",
      "dtypes: datetime64[ns, UTC](3), float64(9), int32(2), int64(1), object(5)\n",
      "memory usage: 3.2+ MB\n",
      "<class 'pandas.core.frame.DataFrame'>\n",
      "Index: 26046 entries, 16736 to 44646\n",
      "Data columns (total 20 columns):\n",
      " #   Column                  Non-Null Count  Dtype              \n",
      "---  ------                  --------------  -----              \n",
      " 0   connectionTime          26046 non-null  datetime64[ns, UTC]\n",
      " 1   disconnectTime          26046 non-null  datetime64[ns, UTC]\n",
      " 2   doneChargingTime        26046 non-null  datetime64[ns, UTC]\n",
      " 3   kWhDelivered            26046 non-null  float64            \n",
      " 4   siteID                  26046 non-null  int64              \n",
      " 5   userID                  12342 non-null  float64            \n",
      " 6   combinedSpaceStationID  26046 non-null  object             \n",
      " 7   timeConnected           26046 non-null  float64            \n",
      " 8   idleTime                26046 non-null  float64            \n",
      " 9   chargingTime            26046 non-null  float64            \n",
      " 10  weekday                 26046 non-null  int32              \n",
      " 11  month                   26046 non-null  int32              \n",
      " 12  time                    26046 non-null  object             \n",
      " 13  WhPerMile               12342 non-null  float64            \n",
      " 14  kWhRequested            12342 non-null  float64            \n",
      " 15  milesRequested          12342 non-null  float64            \n",
      " 16  minutesAvailable        12342 non-null  float64            \n",
      " 17  modifiedAt              12342 non-null  object             \n",
      " 18  paymentRequired         12342 non-null  object             \n",
      " 19  requestedDeparture      12342 non-null  object             \n",
      "dtypes: datetime64[ns, UTC](3), float64(9), int32(2), int64(1), object(5)\n",
      "memory usage: 4.0+ MB\n"
     ]
    }
   ],
   "source": [
    "site_1_data.info()\n",
    "site_2_data.info()"
   ],
   "metadata": {
    "collapsed": false,
    "ExecuteTime": {
     "end_time": "2024-01-28T14:49:22.588801300Z",
     "start_time": "2024-01-28T14:49:22.530633300Z"
    }
   },
   "id": "52660e5ceb8825f9"
  },
  {
   "cell_type": "code",
   "execution_count": 6,
   "outputs": [],
   "source": [
    "site_1_data.reset_index(inplace=True)\n",
    "site_2_data.reset_index(inplace=True)"
   ],
   "metadata": {
    "collapsed": false,
    "ExecuteTime": {
     "end_time": "2024-01-28T14:49:22.743194900Z",
     "start_time": "2024-01-28T14:49:22.561198500Z"
    }
   },
   "id": "321d2f1093355f70"
  },
  {
   "cell_type": "code",
   "execution_count": 7,
   "outputs": [],
   "source": [
    "# Drop the siteID, it's no longer needed\n",
    "site_1_data.drop(columns=['siteID'], inplace=True)\n",
    "site_2_data.drop(columns=['siteID'], inplace=True)"
   ],
   "metadata": {
    "collapsed": false,
    "ExecuteTime": {
     "end_time": "2024-01-28T14:49:22.790825400Z",
     "start_time": "2024-01-28T14:49:22.576783200Z"
    }
   },
   "id": "1c8ebd768663c205"
  },
  {
   "cell_type": "code",
   "execution_count": 8,
   "outputs": [
    {
     "data": {
      "text/plain": "index                     21233\nconnectionTime            21135\ndisconnectTime            21207\ndoneChargingTime          21105\nkWhDelivered              14133\nuserID                      406\ncombinedSpaceStationID       52\ntimeConnected             12429\nidleTime                  13909\nchargingTime              14438\nweekday                       7\nmonth                        12\ntime                      13982\nWhPerMile                   106\nkWhRequested                691\nmilesRequested               54\nminutesAvailable            773\nmodifiedAt                20033\npaymentRequired               1\nrequestedDeparture        20100\ndtype: int64"
     },
     "execution_count": 8,
     "metadata": {},
     "output_type": "execute_result"
    }
   ],
   "source": [
    "# Check for unique space/station id's so we know the maximum number of parking spaces available\n",
    "site_1_data.nunique()"
   ],
   "metadata": {
    "collapsed": false,
    "ExecuteTime": {
     "end_time": "2024-01-28T14:49:22.800341700Z",
     "start_time": "2024-01-28T14:49:22.591813400Z"
    }
   },
   "id": "29c68727d902025"
  },
  {
   "cell_type": "code",
   "execution_count": 9,
   "outputs": [
    {
     "data": {
      "text/plain": "index                     26046\nconnectionTime            26008\ndisconnectTime            26011\ndoneChargingTime          25930\nkWhDelivered              13877\nuserID                      395\ncombinedSpaceStationID       54\ntimeConnected             17042\nidleTime                  12635\nchargingTime              13262\nweekday                       7\nmonth                        12\ntime                      19630\nWhPerMile                    78\nkWhRequested                494\nmilesRequested               48\nminutesAvailable            665\nmodifiedAt                12335\npaymentRequired               1\nrequestedDeparture        12339\ndtype: int64"
     },
     "execution_count": 9,
     "metadata": {},
     "output_type": "execute_result"
    }
   ],
   "source": [
    "site_2_data.nunique()"
   ],
   "metadata": {
    "collapsed": false,
    "ExecuteTime": {
     "end_time": "2024-01-28T14:49:22.800842500Z",
     "start_time": "2024-01-28T14:49:22.733170500Z"
    }
   },
   "id": "b06b7c010e0c5e32"
  },
  {
   "cell_type": "markdown",
   "source": [
    "52 spaces for site 1, 54 for site 2."
   ],
   "metadata": {
    "collapsed": false
   },
   "id": "3444efdd464fb6a2"
  },
  {
   "cell_type": "code",
   "execution_count": 10,
   "outputs": [
    {
     "data": {
      "text/plain": "count                                  21233\nmean     2019-06-18 14:54:33.518720768+00:00\nmin                2018-10-08 13:01:34+00:00\n25%                2019-02-12 23:52:16+00:00\n50%                2019-06-05 02:48:15+00:00\n75%                2019-10-22 13:48:21+00:00\nmax                2020-03-31 13:54:38+00:00\nName: connectionTime, dtype: object"
     },
     "execution_count": 10,
     "metadata": {},
     "output_type": "execute_result"
    }
   ],
   "source": [
    "site_1_data[\"connectionTime\"].describe()"
   ],
   "metadata": {
    "collapsed": false,
    "ExecuteTime": {
     "end_time": "2024-01-28T14:49:22.800842500Z",
     "start_time": "2024-01-28T14:49:22.733677400Z"
    }
   },
   "id": "dcf4ca57ef0a2387"
  },
  {
   "cell_type": "code",
   "execution_count": 11,
   "outputs": [
    {
     "data": {
      "text/plain": "count                                  21233\nmean     2019-06-18 22:30:34.762021376+00:00\nmin                2018-10-09 00:05:33+00:00\n25%                2019-02-13 02:02:37+00:00\n50%                2019-06-05 09:54:38+00:00\n75%                2019-10-22 23:03:46+00:00\nmax                2020-03-31 23:45:16+00:00\nName: disconnectTime, dtype: object"
     },
     "execution_count": 11,
     "metadata": {},
     "output_type": "execute_result"
    }
   ],
   "source": [
    "site_1_data[\"disconnectTime\"].describe()"
   ],
   "metadata": {
    "collapsed": false,
    "ExecuteTime": {
     "end_time": "2024-01-28T14:49:22.801341100Z",
     "start_time": "2024-01-28T14:49:22.733677400Z"
    }
   }
  },
  {
   "cell_type": "code",
   "execution_count": 12,
   "outputs": [
    {
     "data": {
      "text/plain": "count                                  26046\nmean     2019-01-18 15:54:24.067572992+00:00\nmin                2018-04-25 13:45:10+00:00\n25%      2018-08-13 05:22:48.750000128+00:00\n50%                2018-11-14 19:57:07+00:00\n75%                2019-06-12 16:06:28+00:00\nmax                2020-03-29 00:40:26+00:00\nName: connectionTime, dtype: object"
     },
     "execution_count": 12,
     "metadata": {},
     "output_type": "execute_result"
    }
   ],
   "source": [
    "site_2_data[\"connectionTime\"].describe()"
   ],
   "metadata": {
    "collapsed": false,
    "ExecuteTime": {
     "end_time": "2024-01-28T14:49:22.801341100Z",
     "start_time": "2024-01-28T14:49:22.733677400Z"
    }
   },
   "id": "83b510b1de461243"
  },
  {
   "cell_type": "code",
   "execution_count": 13,
   "outputs": [
    {
     "data": {
      "text/plain": "count                                  26046\nmean     2019-01-18 21:54:36.511095552+00:00\nmin                2018-04-25 18:15:46+00:00\n25%      2018-08-13 13:51:00.249999872+00:00\n50%                2018-11-15 02:56:54+00:00\n75%      2019-06-12 23:25:12.249999872+00:00\nmax                2020-03-29 14:43:45+00:00\nName: disconnectTime, dtype: object"
     },
     "execution_count": 13,
     "metadata": {},
     "output_type": "execute_result"
    }
   ],
   "source": [
    "site_2_data[\"disconnectTime\"].describe()"
   ],
   "metadata": {
    "collapsed": false,
    "ExecuteTime": {
     "end_time": "2024-01-28T14:49:22.801341100Z",
     "start_time": "2024-01-28T14:49:22.733677400Z"
    }
   }
  },
  {
   "cell_type": "code",
   "execution_count": 14,
   "outputs": [],
   "source": [
    "# Create a dataframe with dates from the first to the last day of the charging sessions available. Because these differ for both sites, we need to do this for each respectively. Add a timedelta of 12 hours to site 2 disconnect, otherwise it would cut off the last day due to the hour of the timestamp\n",
    "date_frame_site_1 = pd.DataFrame(pd.date_range(start=site_1_data[\"connectionTime\"].min(), end = site_1_data[\"disconnectTime\"].max()))\n",
    "date_frame_site_2 = pd.DataFrame(pd.date_range(start=site_2_data[\"connectionTime\"].min(), end = (site_2_data[\"disconnectTime\"].max() + timedelta(hours = 12))))"
   ],
   "metadata": {
    "collapsed": false,
    "ExecuteTime": {
     "end_time": "2024-01-28T14:49:22.801341100Z",
     "start_time": "2024-01-28T14:49:22.733677400Z"
    }
   },
   "id": "91434577d4cab86a"
  },
  {
   "cell_type": "code",
   "execution_count": 15,
   "outputs": [
    {
     "data": {
      "text/plain": "                            0\n0   2018-10-08 13:01:34+00:00\n1   2018-10-09 13:01:34+00:00\n2   2018-10-10 13:01:34+00:00\n3   2018-10-11 13:01:34+00:00\n4   2018-10-12 13:01:34+00:00\n..                        ...\n536 2020-03-27 13:01:34+00:00\n537 2020-03-28 13:01:34+00:00\n538 2020-03-29 13:01:34+00:00\n539 2020-03-30 13:01:34+00:00\n540 2020-03-31 13:01:34+00:00\n\n[541 rows x 1 columns]",
      "text/html": "<div>\n<style scoped>\n    .dataframe tbody tr th:only-of-type {\n        vertical-align: middle;\n    }\n\n    .dataframe tbody tr th {\n        vertical-align: top;\n    }\n\n    .dataframe thead th {\n        text-align: right;\n    }\n</style>\n<table border=\"1\" class=\"dataframe\">\n  <thead>\n    <tr style=\"text-align: right;\">\n      <th></th>\n      <th>0</th>\n    </tr>\n  </thead>\n  <tbody>\n    <tr>\n      <th>0</th>\n      <td>2018-10-08 13:01:34+00:00</td>\n    </tr>\n    <tr>\n      <th>1</th>\n      <td>2018-10-09 13:01:34+00:00</td>\n    </tr>\n    <tr>\n      <th>2</th>\n      <td>2018-10-10 13:01:34+00:00</td>\n    </tr>\n    <tr>\n      <th>3</th>\n      <td>2018-10-11 13:01:34+00:00</td>\n    </tr>\n    <tr>\n      <th>4</th>\n      <td>2018-10-12 13:01:34+00:00</td>\n    </tr>\n    <tr>\n      <th>...</th>\n      <td>...</td>\n    </tr>\n    <tr>\n      <th>536</th>\n      <td>2020-03-27 13:01:34+00:00</td>\n    </tr>\n    <tr>\n      <th>537</th>\n      <td>2020-03-28 13:01:34+00:00</td>\n    </tr>\n    <tr>\n      <th>538</th>\n      <td>2020-03-29 13:01:34+00:00</td>\n    </tr>\n    <tr>\n      <th>539</th>\n      <td>2020-03-30 13:01:34+00:00</td>\n    </tr>\n    <tr>\n      <th>540</th>\n      <td>2020-03-31 13:01:34+00:00</td>\n    </tr>\n  </tbody>\n</table>\n<p>541 rows × 1 columns</p>\n</div>"
     },
     "execution_count": 15,
     "metadata": {},
     "output_type": "execute_result"
    }
   ],
   "source": [
    "date_frame_site_1"
   ],
   "metadata": {
    "collapsed": false,
    "ExecuteTime": {
     "end_time": "2024-01-28T14:49:22.801341100Z",
     "start_time": "2024-01-28T14:49:22.734178500Z"
    }
   }
  },
  {
   "cell_type": "code",
   "execution_count": 16,
   "outputs": [],
   "source": [
    "data = {'date': [], 'hour': []}\n",
    "for row in date_frame_site_1.itertuples():\n",
    "    for i in range(24):\n",
    "        data[\"date\"].append(row[1])\n",
    "        data[\"hour\"].append(i)\n",
    "frame1 = pd.DataFrame(data)\n",
    "frame1[\"weekday\"] = frame1[\"date\"].dt.day_of_week\n",
    "frame1[\"month\"] = frame1[\"date\"].dt.month\n",
    "\n",
    "data = {'date' : [], 'hour': []}\n",
    "for row in date_frame_site_2.itertuples():\n",
    "    for i in range(24):\n",
    "        data[\"date\"].append(row[1])\n",
    "        data[\"hour\"].append(i)\n",
    "frame2 = pd.DataFrame(data)\n",
    "frame2[\"weekday\"] = frame2[\"date\"].dt.day_of_week\n",
    "frame2[\"month\"] = frame2[\"date\"].dt.month"
   ],
   "metadata": {
    "collapsed": false,
    "ExecuteTime": {
     "end_time": "2024-01-28T14:49:22.885110200Z",
     "start_time": "2024-01-28T14:49:22.751712400Z"
    }
   },
   "id": "604fcd2f0417820a"
  },
  {
   "cell_type": "code",
   "execution_count": 17,
   "outputs": [
    {
     "data": {
      "text/plain": "                           date  hour  weekday  month\n0     2018-04-25 13:45:10+00:00     0        2      4\n1     2018-04-25 13:45:10+00:00     1        2      4\n2     2018-04-25 13:45:10+00:00     2        2      4\n3     2018-04-25 13:45:10+00:00     3        2      4\n4     2018-04-25 13:45:10+00:00     4        2      4\n...                         ...   ...      ...    ...\n16915 2020-03-29 13:45:10+00:00    19        6      3\n16916 2020-03-29 13:45:10+00:00    20        6      3\n16917 2020-03-29 13:45:10+00:00    21        6      3\n16918 2020-03-29 13:45:10+00:00    22        6      3\n16919 2020-03-29 13:45:10+00:00    23        6      3\n\n[16920 rows x 4 columns]",
      "text/html": "<div>\n<style scoped>\n    .dataframe tbody tr th:only-of-type {\n        vertical-align: middle;\n    }\n\n    .dataframe tbody tr th {\n        vertical-align: top;\n    }\n\n    .dataframe thead th {\n        text-align: right;\n    }\n</style>\n<table border=\"1\" class=\"dataframe\">\n  <thead>\n    <tr style=\"text-align: right;\">\n      <th></th>\n      <th>date</th>\n      <th>hour</th>\n      <th>weekday</th>\n      <th>month</th>\n    </tr>\n  </thead>\n  <tbody>\n    <tr>\n      <th>0</th>\n      <td>2018-04-25 13:45:10+00:00</td>\n      <td>0</td>\n      <td>2</td>\n      <td>4</td>\n    </tr>\n    <tr>\n      <th>1</th>\n      <td>2018-04-25 13:45:10+00:00</td>\n      <td>1</td>\n      <td>2</td>\n      <td>4</td>\n    </tr>\n    <tr>\n      <th>2</th>\n      <td>2018-04-25 13:45:10+00:00</td>\n      <td>2</td>\n      <td>2</td>\n      <td>4</td>\n    </tr>\n    <tr>\n      <th>3</th>\n      <td>2018-04-25 13:45:10+00:00</td>\n      <td>3</td>\n      <td>2</td>\n      <td>4</td>\n    </tr>\n    <tr>\n      <th>4</th>\n      <td>2018-04-25 13:45:10+00:00</td>\n      <td>4</td>\n      <td>2</td>\n      <td>4</td>\n    </tr>\n    <tr>\n      <th>...</th>\n      <td>...</td>\n      <td>...</td>\n      <td>...</td>\n      <td>...</td>\n    </tr>\n    <tr>\n      <th>16915</th>\n      <td>2020-03-29 13:45:10+00:00</td>\n      <td>19</td>\n      <td>6</td>\n      <td>3</td>\n    </tr>\n    <tr>\n      <th>16916</th>\n      <td>2020-03-29 13:45:10+00:00</td>\n      <td>20</td>\n      <td>6</td>\n      <td>3</td>\n    </tr>\n    <tr>\n      <th>16917</th>\n      <td>2020-03-29 13:45:10+00:00</td>\n      <td>21</td>\n      <td>6</td>\n      <td>3</td>\n    </tr>\n    <tr>\n      <th>16918</th>\n      <td>2020-03-29 13:45:10+00:00</td>\n      <td>22</td>\n      <td>6</td>\n      <td>3</td>\n    </tr>\n    <tr>\n      <th>16919</th>\n      <td>2020-03-29 13:45:10+00:00</td>\n      <td>23</td>\n      <td>6</td>\n      <td>3</td>\n    </tr>\n  </tbody>\n</table>\n<p>16920 rows × 4 columns</p>\n</div>"
     },
     "execution_count": 17,
     "metadata": {},
     "output_type": "execute_result"
    }
   ],
   "source": [
    "frame2"
   ],
   "metadata": {
    "collapsed": false,
    "ExecuteTime": {
     "end_time": "2024-01-28T14:49:22.901715400Z",
     "start_time": "2024-01-28T14:49:22.824400900Z"
    }
   }
  },
  {
   "cell_type": "code",
   "execution_count": 18,
   "outputs": [],
   "source": [
    "us_ca_holidays = holidays.country_holidays(country='US', subdiv='CA')\n",
    "\n",
    "frame1[\"holiday\"] = frame1[\"date\"].apply(lambda x: x in us_ca_holidays)\n",
    "frame2[\"holiday\"] = frame2[\"date\"].apply(lambda x: x in us_ca_holidays)"
   ],
   "metadata": {
    "collapsed": false,
    "ExecuteTime": {
     "end_time": "2024-01-28T14:49:23.126254600Z",
     "start_time": "2024-01-28T14:49:22.840436200Z"
    }
   },
   "id": "d54ec66ae9a7bb65"
  },
  {
   "cell_type": "markdown",
   "source": [
    "Since the data doesn't start at the beginning of the day and doesn't end at the end, we'll manually delete a few rows to fit it properly. \n",
    "Both sites start in hour 13. Site 1 ends in hour 14 so we will have to drop the last 9 rows.\n",
    " Site 2 ends in hour 2, so we will drop the last 21."
   ],
   "metadata": {
    "collapsed": false
   },
   "id": "dab3697683312e9"
  },
  {
   "cell_type": "code",
   "execution_count": 19,
   "outputs": [],
   "source": [
    "frame1.drop(frame1.index[:13], inplace=True)\n",
    "frame2.drop(frame2.index[:13], inplace=True)\n",
    "frame2.drop(frame2.index[-9:], inplace=True)"
   ],
   "metadata": {
    "collapsed": false,
    "ExecuteTime": {
     "end_time": "2024-01-28T14:49:23.126754500Z",
     "start_time": "2024-01-28T14:49:23.086654300Z"
    }
   },
   "id": "a180e8b531f198eb"
  },
  {
   "cell_type": "code",
   "execution_count": 20,
   "outputs": [
    {
     "data": {
      "text/plain": "          city            timestamp  temperature  cloud_cover  \\\n0      Burbank  2018-01-01 08:53:00          9.0         33.0   \n1      Burbank  2018-01-01 09:53:00          9.0         33.0   \n2      Burbank  2018-01-01 10:53:00          9.0         21.0   \n3      Burbank  2018-01-01 11:53:00          9.0         29.0   \n4      Burbank  2018-01-01 12:53:00          8.0         33.0   \n...        ...                  ...          ...          ...   \n29239  Burbank  2021-01-01 03:53:00         13.0         33.0   \n29240  Burbank  2021-01-01 04:53:00         12.0         33.0   \n29241  Burbank  2021-01-01 05:53:00         12.0         33.0   \n29242  Burbank  2021-01-01 06:53:00         11.0         33.0   \n29243  Burbank  2021-01-01 07:53:00         10.0         33.0   \n\n      cloud_cover_description  pressure  windspeed  precipitation  \\\n0                        Fair    991.75        9.0            0.0   \n1                        Fair    992.08        0.0            0.0   \n2                        Haze    992.08        0.0            0.0   \n3               Partly Cloudy    992.08        0.0            0.0   \n4                        Fair    992.08        0.0            0.0   \n...                       ...       ...        ...            ...   \n29239                    Fair    986.81        0.0            0.0   \n29240                    Fair    986.81       11.0            0.0   \n29241                    Fair    987.47        9.0            0.0   \n29242                    Fair    987.14       13.0            0.0   \n29243                    Fair    987.80        6.0            0.0   \n\n       felt_temperature  \n0                   8.0  \n1                   9.0  \n2                   9.0  \n3                   9.0  \n4                   8.0  \n...                 ...  \n29239              13.0  \n29240              12.0  \n29241              12.0  \n29242              11.0  \n29243              10.0  \n\n[29244 rows x 9 columns]",
      "text/html": "<div>\n<style scoped>\n    .dataframe tbody tr th:only-of-type {\n        vertical-align: middle;\n    }\n\n    .dataframe tbody tr th {\n        vertical-align: top;\n    }\n\n    .dataframe thead th {\n        text-align: right;\n    }\n</style>\n<table border=\"1\" class=\"dataframe\">\n  <thead>\n    <tr style=\"text-align: right;\">\n      <th></th>\n      <th>city</th>\n      <th>timestamp</th>\n      <th>temperature</th>\n      <th>cloud_cover</th>\n      <th>cloud_cover_description</th>\n      <th>pressure</th>\n      <th>windspeed</th>\n      <th>precipitation</th>\n      <th>felt_temperature</th>\n    </tr>\n  </thead>\n  <tbody>\n    <tr>\n      <th>0</th>\n      <td>Burbank</td>\n      <td>2018-01-01 08:53:00</td>\n      <td>9.0</td>\n      <td>33.0</td>\n      <td>Fair</td>\n      <td>991.75</td>\n      <td>9.0</td>\n      <td>0.0</td>\n      <td>8.0</td>\n    </tr>\n    <tr>\n      <th>1</th>\n      <td>Burbank</td>\n      <td>2018-01-01 09:53:00</td>\n      <td>9.0</td>\n      <td>33.0</td>\n      <td>Fair</td>\n      <td>992.08</td>\n      <td>0.0</td>\n      <td>0.0</td>\n      <td>9.0</td>\n    </tr>\n    <tr>\n      <th>2</th>\n      <td>Burbank</td>\n      <td>2018-01-01 10:53:00</td>\n      <td>9.0</td>\n      <td>21.0</td>\n      <td>Haze</td>\n      <td>992.08</td>\n      <td>0.0</td>\n      <td>0.0</td>\n      <td>9.0</td>\n    </tr>\n    <tr>\n      <th>3</th>\n      <td>Burbank</td>\n      <td>2018-01-01 11:53:00</td>\n      <td>9.0</td>\n      <td>29.0</td>\n      <td>Partly Cloudy</td>\n      <td>992.08</td>\n      <td>0.0</td>\n      <td>0.0</td>\n      <td>9.0</td>\n    </tr>\n    <tr>\n      <th>4</th>\n      <td>Burbank</td>\n      <td>2018-01-01 12:53:00</td>\n      <td>8.0</td>\n      <td>33.0</td>\n      <td>Fair</td>\n      <td>992.08</td>\n      <td>0.0</td>\n      <td>0.0</td>\n      <td>8.0</td>\n    </tr>\n    <tr>\n      <th>...</th>\n      <td>...</td>\n      <td>...</td>\n      <td>...</td>\n      <td>...</td>\n      <td>...</td>\n      <td>...</td>\n      <td>...</td>\n      <td>...</td>\n      <td>...</td>\n    </tr>\n    <tr>\n      <th>29239</th>\n      <td>Burbank</td>\n      <td>2021-01-01 03:53:00</td>\n      <td>13.0</td>\n      <td>33.0</td>\n      <td>Fair</td>\n      <td>986.81</td>\n      <td>0.0</td>\n      <td>0.0</td>\n      <td>13.0</td>\n    </tr>\n    <tr>\n      <th>29240</th>\n      <td>Burbank</td>\n      <td>2021-01-01 04:53:00</td>\n      <td>12.0</td>\n      <td>33.0</td>\n      <td>Fair</td>\n      <td>986.81</td>\n      <td>11.0</td>\n      <td>0.0</td>\n      <td>12.0</td>\n    </tr>\n    <tr>\n      <th>29241</th>\n      <td>Burbank</td>\n      <td>2021-01-01 05:53:00</td>\n      <td>12.0</td>\n      <td>33.0</td>\n      <td>Fair</td>\n      <td>987.47</td>\n      <td>9.0</td>\n      <td>0.0</td>\n      <td>12.0</td>\n    </tr>\n    <tr>\n      <th>29242</th>\n      <td>Burbank</td>\n      <td>2021-01-01 06:53:00</td>\n      <td>11.0</td>\n      <td>33.0</td>\n      <td>Fair</td>\n      <td>987.14</td>\n      <td>13.0</td>\n      <td>0.0</td>\n      <td>11.0</td>\n    </tr>\n    <tr>\n      <th>29243</th>\n      <td>Burbank</td>\n      <td>2021-01-01 07:53:00</td>\n      <td>10.0</td>\n      <td>33.0</td>\n      <td>Fair</td>\n      <td>987.80</td>\n      <td>6.0</td>\n      <td>0.0</td>\n      <td>10.0</td>\n    </tr>\n  </tbody>\n</table>\n<p>29244 rows × 9 columns</p>\n</div>"
     },
     "execution_count": 20,
     "metadata": {},
     "output_type": "execute_result"
    }
   ],
   "source": [
    "weather = pd.read_csv(\"weather_burbank_airport.csv\")\n",
    "weather"
   ],
   "metadata": {
    "collapsed": false,
    "ExecuteTime": {
     "end_time": "2024-01-28T14:49:23.127253800Z",
     "start_time": "2024-01-28T14:49:23.087153900Z"
    }
   },
   "id": "3fc1962f9e474b"
  },
  {
   "cell_type": "code",
   "execution_count": 21,
   "outputs": [],
   "source": [
    "# We will only use temperature and precipitation from the weather dataset, so we'll drop everything else\n",
    "weather.drop(columns=[\"city\", 'cloud_cover', 'cloud_cover_description', 'pressure', 'windspeed', 'felt_temperature'], axis = 1, inplace=True)"
   ],
   "metadata": {
    "collapsed": false,
    "ExecuteTime": {
     "end_time": "2024-01-28T14:49:23.148799600Z",
     "start_time": "2024-01-28T14:49:23.105707400Z"
    }
   },
   "id": "f1fc957941691d17"
  },
  {
   "cell_type": "code",
   "execution_count": 22,
   "outputs": [
    {
     "data": {
      "text/plain": "                 timestamp  temperature  precipitation\n0      2018-01-01 08:53:00          9.0            0.0\n1      2018-01-01 09:53:00          9.0            0.0\n2      2018-01-01 10:53:00          9.0            0.0\n3      2018-01-01 11:53:00          9.0            0.0\n4      2018-01-01 12:53:00          8.0            0.0\n...                    ...          ...            ...\n29239  2021-01-01 03:53:00         13.0            0.0\n29240  2021-01-01 04:53:00         12.0            0.0\n29241  2021-01-01 05:53:00         12.0            0.0\n29242  2021-01-01 06:53:00         11.0            0.0\n29243  2021-01-01 07:53:00         10.0            0.0\n\n[29244 rows x 3 columns]",
      "text/html": "<div>\n<style scoped>\n    .dataframe tbody tr th:only-of-type {\n        vertical-align: middle;\n    }\n\n    .dataframe tbody tr th {\n        vertical-align: top;\n    }\n\n    .dataframe thead th {\n        text-align: right;\n    }\n</style>\n<table border=\"1\" class=\"dataframe\">\n  <thead>\n    <tr style=\"text-align: right;\">\n      <th></th>\n      <th>timestamp</th>\n      <th>temperature</th>\n      <th>precipitation</th>\n    </tr>\n  </thead>\n  <tbody>\n    <tr>\n      <th>0</th>\n      <td>2018-01-01 08:53:00</td>\n      <td>9.0</td>\n      <td>0.0</td>\n    </tr>\n    <tr>\n      <th>1</th>\n      <td>2018-01-01 09:53:00</td>\n      <td>9.0</td>\n      <td>0.0</td>\n    </tr>\n    <tr>\n      <th>2</th>\n      <td>2018-01-01 10:53:00</td>\n      <td>9.0</td>\n      <td>0.0</td>\n    </tr>\n    <tr>\n      <th>3</th>\n      <td>2018-01-01 11:53:00</td>\n      <td>9.0</td>\n      <td>0.0</td>\n    </tr>\n    <tr>\n      <th>4</th>\n      <td>2018-01-01 12:53:00</td>\n      <td>8.0</td>\n      <td>0.0</td>\n    </tr>\n    <tr>\n      <th>...</th>\n      <td>...</td>\n      <td>...</td>\n      <td>...</td>\n    </tr>\n    <tr>\n      <th>29239</th>\n      <td>2021-01-01 03:53:00</td>\n      <td>13.0</td>\n      <td>0.0</td>\n    </tr>\n    <tr>\n      <th>29240</th>\n      <td>2021-01-01 04:53:00</td>\n      <td>12.0</td>\n      <td>0.0</td>\n    </tr>\n    <tr>\n      <th>29241</th>\n      <td>2021-01-01 05:53:00</td>\n      <td>12.0</td>\n      <td>0.0</td>\n    </tr>\n    <tr>\n      <th>29242</th>\n      <td>2021-01-01 06:53:00</td>\n      <td>11.0</td>\n      <td>0.0</td>\n    </tr>\n    <tr>\n      <th>29243</th>\n      <td>2021-01-01 07:53:00</td>\n      <td>10.0</td>\n      <td>0.0</td>\n    </tr>\n  </tbody>\n</table>\n<p>29244 rows × 3 columns</p>\n</div>"
     },
     "execution_count": 22,
     "metadata": {},
     "output_type": "execute_result"
    }
   ],
   "source": [
    "weather"
   ],
   "metadata": {
    "collapsed": false,
    "ExecuteTime": {
     "end_time": "2024-01-28T14:49:23.345713900Z",
     "start_time": "2024-01-28T14:49:23.120741700Z"
    }
   },
   "id": "1a54838e02aa0215"
  },
  {
   "cell_type": "code",
   "execution_count": 23,
   "outputs": [],
   "source": [
    "weather['timestamp'] = pd.to_datetime(weather['timestamp'])"
   ],
   "metadata": {
    "collapsed": false,
    "ExecuteTime": {
     "end_time": "2024-01-28T14:49:23.366743600Z",
     "start_time": "2024-01-28T14:49:23.136774300Z"
    }
   },
   "id": "13384bbb30048693"
  },
  {
   "cell_type": "code",
   "execution_count": 24,
   "outputs": [
    {
     "data": {
      "text/plain": "0        2018-01-01\n1        2018-01-01\n2        2018-01-01\n3        2018-01-01\n4        2018-01-01\n            ...    \n29239    2021-01-01\n29240    2021-01-01\n29241    2021-01-01\n29242    2021-01-01\n29243    2021-01-01\nName: timestamp, Length: 29244, dtype: object"
     },
     "execution_count": 24,
     "metadata": {},
     "output_type": "execute_result"
    }
   ],
   "source": [
    "weather['timestamp'].dt.date"
   ],
   "metadata": {
    "collapsed": false,
    "ExecuteTime": {
     "end_time": "2024-01-28T14:49:23.375766900Z",
     "start_time": "2024-01-28T14:49:23.179877300Z"
    }
   }
  },
  {
   "cell_type": "code",
   "execution_count": 25,
   "outputs": [
    {
     "data": {
      "text/plain": "       temperature  precipitation     dateHour\n0              9.0            0.0   2018-1-1+8\n1              9.0            0.0   2018-1-1+9\n2              9.0            0.0  2018-1-1+10\n3              9.0            0.0  2018-1-1+11\n4              8.0            0.0  2018-1-1+12\n...            ...            ...          ...\n29239         13.0            0.0   2021-1-1+3\n29240         12.0            0.0   2021-1-1+4\n29241         12.0            0.0   2021-1-1+5\n29242         11.0            0.0   2021-1-1+6\n29243         10.0            0.0   2021-1-1+7\n\n[29244 rows x 3 columns]",
      "text/html": "<div>\n<style scoped>\n    .dataframe tbody tr th:only-of-type {\n        vertical-align: middle;\n    }\n\n    .dataframe tbody tr th {\n        vertical-align: top;\n    }\n\n    .dataframe thead th {\n        text-align: right;\n    }\n</style>\n<table border=\"1\" class=\"dataframe\">\n  <thead>\n    <tr style=\"text-align: right;\">\n      <th></th>\n      <th>temperature</th>\n      <th>precipitation</th>\n      <th>dateHour</th>\n    </tr>\n  </thead>\n  <tbody>\n    <tr>\n      <th>0</th>\n      <td>9.0</td>\n      <td>0.0</td>\n      <td>2018-1-1+8</td>\n    </tr>\n    <tr>\n      <th>1</th>\n      <td>9.0</td>\n      <td>0.0</td>\n      <td>2018-1-1+9</td>\n    </tr>\n    <tr>\n      <th>2</th>\n      <td>9.0</td>\n      <td>0.0</td>\n      <td>2018-1-1+10</td>\n    </tr>\n    <tr>\n      <th>3</th>\n      <td>9.0</td>\n      <td>0.0</td>\n      <td>2018-1-1+11</td>\n    </tr>\n    <tr>\n      <th>4</th>\n      <td>8.0</td>\n      <td>0.0</td>\n      <td>2018-1-1+12</td>\n    </tr>\n    <tr>\n      <th>...</th>\n      <td>...</td>\n      <td>...</td>\n      <td>...</td>\n    </tr>\n    <tr>\n      <th>29239</th>\n      <td>13.0</td>\n      <td>0.0</td>\n      <td>2021-1-1+3</td>\n    </tr>\n    <tr>\n      <th>29240</th>\n      <td>12.0</td>\n      <td>0.0</td>\n      <td>2021-1-1+4</td>\n    </tr>\n    <tr>\n      <th>29241</th>\n      <td>12.0</td>\n      <td>0.0</td>\n      <td>2021-1-1+5</td>\n    </tr>\n    <tr>\n      <th>29242</th>\n      <td>11.0</td>\n      <td>0.0</td>\n      <td>2021-1-1+6</td>\n    </tr>\n    <tr>\n      <th>29243</th>\n      <td>10.0</td>\n      <td>0.0</td>\n      <td>2021-1-1+7</td>\n    </tr>\n  </tbody>\n</table>\n<p>29244 rows × 3 columns</p>\n</div>"
     },
     "execution_count": 25,
     "metadata": {},
     "output_type": "execute_result"
    }
   ],
   "source": [
    "# Add a new column dateHour, which represents the date with the current hour, we will merge into the site data on this later on. Drop the timestamp because we don't have any more use for it\n",
    "weather[\"dateHour\"] = weather[\"timestamp\"].apply(lambda x: (str(x.year) + \"-\"\n",
    "                                                            + str(x.month) +\"-\"\n",
    "                                                            + str(x.day) +\"+\"\n",
    "                                                            + str(x.hour)))\n",
    "weather.drop(columns=\"timestamp\")"
   ],
   "metadata": {
    "collapsed": false,
    "ExecuteTime": {
     "end_time": "2024-01-28T14:49:23.377267600Z",
     "start_time": "2024-01-28T14:49:23.328180300Z"
    }
   },
   "id": "2cedf0f09783cb84"
  },
  {
   "cell_type": "code",
   "execution_count": 26,
   "outputs": [],
   "source": [
    "# Add the dateHour column to both dataframes\n",
    "frame1[\"dateHour\"] = frame1[\"date\"].apply(lambda x: (str(x.year) + \"-\"\n",
    "                                                            + str(x.month) +\"-\"\n",
    "                                                            + str(x.day) +\"+\"\n",
    "                                                            ))\n",
    "frame1[\"dateHour\"] = frame1.apply(lambda x: '%s%s' % (x[\"dateHour\"], x[\"hour\"]), axis =1)\n",
    "\n",
    "frame2[\"dateHour\"] = frame2[\"date\"].apply(lambda x: (str(x.year) + \"-\"\n",
    "                                                            + str(x.month) +\"-\"\n",
    "                                                            + str(x.day) +\"+\"\n",
    "                                                            ))\n",
    "frame2[\"dateHour\"] = frame2.apply(lambda x: '%s%s' % (x[\"dateHour\"], x[\"hour\"]), axis =1)"
   ],
   "metadata": {
    "collapsed": false,
    "ExecuteTime": {
     "end_time": "2024-01-28T14:49:23.662048500Z",
     "start_time": "2024-01-28T14:49:23.328180300Z"
    }
   }
  },
  {
   "cell_type": "code",
   "execution_count": 27,
   "outputs": [],
   "source": [
    "# Function to return all hours between a start and end date in dateHour notation\n",
    "def getHoursBetween(start, end):\n",
    "    start = start.floor(\"h\")\n",
    "    end = end.floor(\"h\")\n",
    "    days= []\n",
    "    for i in range(int((end-start).seconds/3600)+1):\n",
    "            day = start+timedelta(hours=i)\n",
    "            dateHour = str(day.year) + \"-\" + str(day.month) + \"-\" + str(day.day) + \"+\" + str(day.hour)\n",
    "            days.append(dateHour)\n",
    "    return days"
   ],
   "metadata": {
    "collapsed": false,
    "ExecuteTime": {
     "end_time": "2024-01-28T14:49:23.672076Z",
     "start_time": "2024-01-28T14:49:23.590805600Z"
    }
   }
  },
  {
   "cell_type": "code",
   "execution_count": 28,
   "outputs": [],
   "source": [
    "# Iterate over all site 1 data, for each charging event, increment utilization by one for each hour. Keep track of the charging stations in stations, each station can have a max utilization of 1, meaning there is no difference if the station was occupied for 1 or 60 hour, or if one charging event ended and another started in the same hour\n",
    "frame1[\"utilization\"] = 0\n",
    "frame1[\"stations\"] = \"\"\n",
    "\n",
    "for row in site_1_data.itertuples():\n",
    "    connectionTime = row[2]\n",
    "    disconnectTime = row[3]\n",
    "    station = row[7]\n",
    "    hours = getHoursBetween(connectionTime, disconnectTime)\n",
    "    for hour in hours:\n",
    "        hourRowIndex = frame1[frame1[\"dateHour\"] == hour].index.tolist()[0]\n",
    "        if not (str(frame1.at[hourRowIndex, \"stations\"]).__contains__(station)):\n",
    "            frame1.at[hourRowIndex, \"utilization\"] += 1\n",
    "            frame1.at[hourRowIndex, \"stations\"] += station +\"_\"\n",
    "frame1['utilization'] /= 52\n",
    "frame1.drop(columns=\"stations\", inplace=True)"
   ],
   "metadata": {
    "collapsed": false,
    "ExecuteTime": {
     "end_time": "2024-01-28T14:53:55.002345400Z",
     "start_time": "2024-01-28T14:50:37.927323500Z"
    }
   }
  },
  {
   "cell_type": "code",
   "execution_count": 29,
   "outputs": [],
   "source": [
    "# Iterate over all site 2 data, for each charging event, increment utilization by one for each hour. Keep track of the charging stations in stations, each station can have a max utilization of 1, meaning there is no difference if the station was occupied for 1 or 60 hour, or if one charging event ended and another started in the same hour\n",
    "frame2[\"utilization\"] = 0\n",
    "frame2[\"stations\"] = \"\"\n",
    "\n",
    "for row in site_2_data.itertuples():\n",
    "    connectionTime = row[2]\n",
    "    disconnectTime = row[3]\n",
    "    station = row[7]\n",
    "    hours = getHoursBetween(connectionTime, disconnectTime)\n",
    "    for hour in hours:\n",
    "        hourRowIndex = frame2[frame2[\"dateHour\"] == hour].index.tolist()[0]\n",
    "        if not (str(frame2.at[hourRowIndex, \"stations\"]).__contains__(station)):\n",
    "            frame2.at[hourRowIndex, \"utilization\"] += 1\n",
    "            frame2.at[hourRowIndex, \"stations\"] += station +\"_\"\n",
    "frame2['utilization'] /= 54\n",
    "frame2.drop(columns=\"stations\", inplace = True)"
   ],
   "metadata": {
    "collapsed": false,
    "ExecuteTime": {
     "end_time": "2024-01-28T14:57:52.045525600Z",
     "start_time": "2024-01-28T14:54:09.075306400Z"
    }
   }
  },
  {
   "cell_type": "code",
   "execution_count": 30,
   "outputs": [],
   "source": [
    "# drop duplicates in weather to ensure correct merge of both dataframes\n",
    "weather.drop_duplicates(subset='dateHour', inplace=True)"
   ],
   "metadata": {
    "collapsed": false,
    "ExecuteTime": {
     "end_time": "2024-01-28T14:59:34.457825800Z",
     "start_time": "2024-01-28T14:59:34.435786800Z"
    }
   }
  },
  {
   "cell_type": "code",
   "execution_count": 31,
   "outputs": [],
   "source": [
    "# Merge weather data with the charging data\n",
    "frame1 = frame1.merge(weather, left_on=\"dateHour\", right_on=\"dateHour\", how=\"left\")\n",
    "frame2 = frame2.merge(weather, left_on=\"dateHour\", right_on=\"dateHour\", how=\"left\")"
   ],
   "metadata": {
    "collapsed": false,
    "ExecuteTime": {
     "end_time": "2024-01-28T14:59:40.602348400Z",
     "start_time": "2024-01-28T14:59:40.567256200Z"
    }
   },
   "id": "ed21e0919ee5aa77"
  },
  {
   "cell_type": "code",
   "execution_count": 35,
   "outputs": [
    {
     "name": "stdout",
     "output_type": "stream",
     "text": [
      "<class 'pandas.core.frame.DataFrame'>\n",
      "RangeIndex: 12971 entries, 0 to 12970\n",
      "Data columns (total 10 columns):\n",
      " #   Column         Non-Null Count  Dtype              \n",
      "---  ------         --------------  -----              \n",
      " 0   date           12971 non-null  datetime64[ns, UTC]\n",
      " 1   hour           12971 non-null  int64              \n",
      " 2   weekday        12971 non-null  int32              \n",
      " 3   month          12971 non-null  int32              \n",
      " 4   holiday        12971 non-null  bool               \n",
      " 5   dateHour       12971 non-null  object             \n",
      " 6   utilization    12971 non-null  float64            \n",
      " 7   timestamp      12947 non-null  datetime64[ns]     \n",
      " 8   temperature    12938 non-null  float64            \n",
      " 9   precipitation  12947 non-null  float64            \n",
      "dtypes: bool(1), datetime64[ns, UTC](1), datetime64[ns](1), float64(3), int32(2), int64(1), object(1)\n",
      "memory usage: 823.5+ KB\n"
     ]
    }
   ],
   "source": [
    "frame1.info()"
   ],
   "metadata": {
    "collapsed": false,
    "ExecuteTime": {
     "end_time": "2024-01-28T15:04:41.882496200Z",
     "start_time": "2024-01-28T15:04:41.866495700Z"
    }
   }
  },
  {
   "cell_type": "code",
   "execution_count": 36,
   "outputs": [
    {
     "name": "stdout",
     "output_type": "stream",
     "text": [
      "<class 'pandas.core.frame.DataFrame'>\n",
      "RangeIndex: 16898 entries, 0 to 16897\n",
      "Data columns (total 10 columns):\n",
      " #   Column         Non-Null Count  Dtype              \n",
      "---  ------         --------------  -----              \n",
      " 0   date           16898 non-null  datetime64[ns, UTC]\n",
      " 1   hour           16898 non-null  int64              \n",
      " 2   weekday        16898 non-null  int32              \n",
      " 3   month          16898 non-null  int32              \n",
      " 4   holiday        16898 non-null  bool               \n",
      " 5   dateHour       16898 non-null  object             \n",
      " 6   utilization    16898 non-null  float64            \n",
      " 7   timestamp      16858 non-null  datetime64[ns]     \n",
      " 8   temperature    16848 non-null  float64            \n",
      " 9   precipitation  16858 non-null  float64            \n",
      "dtypes: bool(1), datetime64[ns, UTC](1), datetime64[ns](1), float64(3), int32(2), int64(1), object(1)\n",
      "memory usage: 1.0+ MB\n"
     ]
    }
   ],
   "source": [
    "frame2.info()"
   ],
   "metadata": {
    "collapsed": false,
    "ExecuteTime": {
     "end_time": "2024-01-28T15:04:42.668943600Z",
     "start_time": "2024-01-28T15:04:42.645822800Z"
    }
   }
  },
  {
   "cell_type": "code",
   "execution_count": 34,
   "outputs": [
    {
     "data": {
      "text/plain": "                           date  hour  weekday  month  holiday      dateHour  \\\n0     2018-10-08 13:01:34+00:00    13        0     10     True  2018-10-8+13   \n1     2018-10-08 13:01:34+00:00    14        0     10     True  2018-10-8+14   \n2     2018-10-08 13:01:34+00:00    15        0     10     True  2018-10-8+15   \n3     2018-10-08 13:01:34+00:00    16        0     10     True  2018-10-8+16   \n4     2018-10-08 13:01:34+00:00    17        0     10     True  2018-10-8+17   \n...                         ...   ...      ...    ...      ...           ...   \n12966 2020-03-31 13:01:34+00:00    19        1      3     True  2020-3-31+19   \n12967 2020-03-31 13:01:34+00:00    20        1      3     True  2020-3-31+20   \n12968 2020-03-31 13:01:34+00:00    21        1      3     True  2020-3-31+21   \n12969 2020-03-31 13:01:34+00:00    22        1      3     True  2020-3-31+22   \n12970 2020-03-31 13:01:34+00:00    23        1      3     True  2020-3-31+23   \n\n       utilization           timestamp  temperature  precipitation  \n0         0.076923 2018-10-08 13:53:00         13.0            0.0  \n1         0.365385 2018-10-08 14:20:00         14.0            0.0  \n2         0.365385 2018-10-08 15:53:00         17.0            0.0  \n3         0.365385 2018-10-08 16:53:00         18.0            0.0  \n4         0.365385 2018-10-08 17:53:00         20.0            0.0  \n...            ...                 ...          ...            ...  \n12966     0.057692 2020-03-31 19:53:00         23.0            0.0  \n12967     0.057692 2020-03-31 20:53:00         24.0            0.0  \n12968     0.057692 2020-03-31 21:53:00         25.0            0.0  \n12969     0.057692 2020-03-31 22:53:00         24.0            0.0  \n12970     0.038462 2020-03-31 23:53:00         23.0            0.0  \n\n[12971 rows x 10 columns]",
      "text/html": "<div>\n<style scoped>\n    .dataframe tbody tr th:only-of-type {\n        vertical-align: middle;\n    }\n\n    .dataframe tbody tr th {\n        vertical-align: top;\n    }\n\n    .dataframe thead th {\n        text-align: right;\n    }\n</style>\n<table border=\"1\" class=\"dataframe\">\n  <thead>\n    <tr style=\"text-align: right;\">\n      <th></th>\n      <th>date</th>\n      <th>hour</th>\n      <th>weekday</th>\n      <th>month</th>\n      <th>holiday</th>\n      <th>dateHour</th>\n      <th>utilization</th>\n      <th>timestamp</th>\n      <th>temperature</th>\n      <th>precipitation</th>\n    </tr>\n  </thead>\n  <tbody>\n    <tr>\n      <th>0</th>\n      <td>2018-10-08 13:01:34+00:00</td>\n      <td>13</td>\n      <td>0</td>\n      <td>10</td>\n      <td>True</td>\n      <td>2018-10-8+13</td>\n      <td>0.076923</td>\n      <td>2018-10-08 13:53:00</td>\n      <td>13.0</td>\n      <td>0.0</td>\n    </tr>\n    <tr>\n      <th>1</th>\n      <td>2018-10-08 13:01:34+00:00</td>\n      <td>14</td>\n      <td>0</td>\n      <td>10</td>\n      <td>True</td>\n      <td>2018-10-8+14</td>\n      <td>0.365385</td>\n      <td>2018-10-08 14:20:00</td>\n      <td>14.0</td>\n      <td>0.0</td>\n    </tr>\n    <tr>\n      <th>2</th>\n      <td>2018-10-08 13:01:34+00:00</td>\n      <td>15</td>\n      <td>0</td>\n      <td>10</td>\n      <td>True</td>\n      <td>2018-10-8+15</td>\n      <td>0.365385</td>\n      <td>2018-10-08 15:53:00</td>\n      <td>17.0</td>\n      <td>0.0</td>\n    </tr>\n    <tr>\n      <th>3</th>\n      <td>2018-10-08 13:01:34+00:00</td>\n      <td>16</td>\n      <td>0</td>\n      <td>10</td>\n      <td>True</td>\n      <td>2018-10-8+16</td>\n      <td>0.365385</td>\n      <td>2018-10-08 16:53:00</td>\n      <td>18.0</td>\n      <td>0.0</td>\n    </tr>\n    <tr>\n      <th>4</th>\n      <td>2018-10-08 13:01:34+00:00</td>\n      <td>17</td>\n      <td>0</td>\n      <td>10</td>\n      <td>True</td>\n      <td>2018-10-8+17</td>\n      <td>0.365385</td>\n      <td>2018-10-08 17:53:00</td>\n      <td>20.0</td>\n      <td>0.0</td>\n    </tr>\n    <tr>\n      <th>...</th>\n      <td>...</td>\n      <td>...</td>\n      <td>...</td>\n      <td>...</td>\n      <td>...</td>\n      <td>...</td>\n      <td>...</td>\n      <td>...</td>\n      <td>...</td>\n      <td>...</td>\n    </tr>\n    <tr>\n      <th>12966</th>\n      <td>2020-03-31 13:01:34+00:00</td>\n      <td>19</td>\n      <td>1</td>\n      <td>3</td>\n      <td>True</td>\n      <td>2020-3-31+19</td>\n      <td>0.057692</td>\n      <td>2020-03-31 19:53:00</td>\n      <td>23.0</td>\n      <td>0.0</td>\n    </tr>\n    <tr>\n      <th>12967</th>\n      <td>2020-03-31 13:01:34+00:00</td>\n      <td>20</td>\n      <td>1</td>\n      <td>3</td>\n      <td>True</td>\n      <td>2020-3-31+20</td>\n      <td>0.057692</td>\n      <td>2020-03-31 20:53:00</td>\n      <td>24.0</td>\n      <td>0.0</td>\n    </tr>\n    <tr>\n      <th>12968</th>\n      <td>2020-03-31 13:01:34+00:00</td>\n      <td>21</td>\n      <td>1</td>\n      <td>3</td>\n      <td>True</td>\n      <td>2020-3-31+21</td>\n      <td>0.057692</td>\n      <td>2020-03-31 21:53:00</td>\n      <td>25.0</td>\n      <td>0.0</td>\n    </tr>\n    <tr>\n      <th>12969</th>\n      <td>2020-03-31 13:01:34+00:00</td>\n      <td>22</td>\n      <td>1</td>\n      <td>3</td>\n      <td>True</td>\n      <td>2020-3-31+22</td>\n      <td>0.057692</td>\n      <td>2020-03-31 22:53:00</td>\n      <td>24.0</td>\n      <td>0.0</td>\n    </tr>\n    <tr>\n      <th>12970</th>\n      <td>2020-03-31 13:01:34+00:00</td>\n      <td>23</td>\n      <td>1</td>\n      <td>3</td>\n      <td>True</td>\n      <td>2020-3-31+23</td>\n      <td>0.038462</td>\n      <td>2020-03-31 23:53:00</td>\n      <td>23.0</td>\n      <td>0.0</td>\n    </tr>\n  </tbody>\n</table>\n<p>12971 rows × 10 columns</p>\n</div>"
     },
     "execution_count": 34,
     "metadata": {},
     "output_type": "execute_result"
    }
   ],
   "source": [
    "frame1"
   ],
   "metadata": {
    "collapsed": false,
    "ExecuteTime": {
     "end_time": "2024-01-28T15:02:33.124098500Z",
     "start_time": "2024-01-28T15:02:33.104101300Z"
    }
   }
  },
  {
   "cell_type": "markdown",
   "source": [
    "There are a few datapoints where we dont have the weather data available. Because we are working with weather data, we don't expect things to change abruptly. Temperature will likely drop from 14->12->10 instead of 14->10->10. We will use pandas interpolate to model this change for missing values."
   ],
   "metadata": {
    "collapsed": false
   }
  },
  {
   "cell_type": "code",
   "execution_count": 37,
   "outputs": [
    {
     "name": "stderr",
     "output_type": "stream",
     "text": [
      "C:\\Users\\Ann\\AppData\\Local\\Temp\\ipykernel_22696\\2997595545.py:1: FutureWarning: DataFrame.interpolate with object dtype is deprecated and will raise in a future version. Call obj.infer_objects(copy=False) before interpolating instead.\n",
      "  frame1.interpolate(inplace=True)\n",
      "C:\\Users\\Ann\\AppData\\Local\\Temp\\ipykernel_22696\\2997595545.py:2: FutureWarning: DataFrame.interpolate with object dtype is deprecated and will raise in a future version. Call obj.infer_objects(copy=False) before interpolating instead.\n",
      "  frame2.interpolate(inplace=True)\n"
     ]
    }
   ],
   "source": [
    "frame1.interpolate(inplace=True)\n",
    "frame2.interpolate(inplace=True)"
   ],
   "metadata": {
    "collapsed": false,
    "ExecuteTime": {
     "end_time": "2024-01-28T15:12:03.698371100Z",
     "start_time": "2024-01-28T15:12:03.670369300Z"
    }
   }
  },
  {
   "cell_type": "code",
   "execution_count": 40,
   "outputs": [],
   "source": [
    "frame1.drop(columns=['date','dateHour','timestamp'], inplace=True)\n",
    "frame2.drop(columns=['date','dateHour','timestamp'], inplace=True)"
   ],
   "metadata": {
    "collapsed": false,
    "ExecuteTime": {
     "end_time": "2024-01-28T15:13:13.112839300Z",
     "start_time": "2024-01-28T15:13:13.091838900Z"
    }
   }
  },
  {
   "cell_type": "code",
   "execution_count": 46,
   "outputs": [],
   "source": [
    "frame1.to_pickle('./utilization_data_site1.pkl')\n",
    "frame2.to_pickle('./utilization_data_site2.pkl')"
   ],
   "metadata": {
    "collapsed": false,
    "ExecuteTime": {
     "end_time": "2024-01-28T15:18:40.369139300Z",
     "start_time": "2024-01-28T15:18:40.354142100Z"
    }
   }
  },
  {
   "cell_type": "code",
   "execution_count": null,
   "outputs": [],
   "source": [],
   "metadata": {
    "collapsed": false
   }
  }
 ],
 "metadata": {
  "kernelspec": {
   "display_name": "Python 3",
   "language": "python",
   "name": "python3"
  },
  "language_info": {
   "codemirror_mode": {
    "name": "ipython",
    "version": 2
   },
   "file_extension": ".py",
   "mimetype": "text/x-python",
   "name": "python",
   "nbconvert_exporter": "python",
   "pygments_lexer": "ipython2",
   "version": "2.7.6"
  }
 },
 "nbformat": 4,
 "nbformat_minor": 5
}
