{
 "cells": [
  {
   "cell_type": "markdown",
   "id": "43bb09ca",
   "metadata": {},
   "source": [
    "# Task 2: Descriptive Analysis"
   ]
  },
  {
   "cell_type": "code",
   "execution_count": 323,
   "id": "a100c33f",
   "metadata": {},
   "outputs": [],
   "source": [
    "import seaborn as sns\n",
    "import matplotlib.pyplot as plt\n",
    "import numpy as np\n",
    "import pandas as pd\n",
    "from pandas import json_normalize\n",
    "import ast\n",
    "\n",
    "pd.set_option('display.max_colwidth', None)"
   ]
  },
  {
   "cell_type": "markdown",
   "id": "c87b05d2",
   "metadata": {},
   "source": [
    "## a) Temporal Patterns & Seasonality"
   ]
  },
  {
   "cell_type": "markdown",
   "id": "39743b8a",
   "metadata": {},
   "source": [
    "In this subsection, we want to find and explore temporal patterns as well as seasonality within the preprocessed data set."
   ]
  },
  {
   "cell_type": "code",
   "execution_count": 324,
   "id": "512d17a5",
   "metadata": {},
   "outputs": [
    {
     "data": {
      "text/html": [
       "<div>\n",
       "<style scoped>\n",
       "    .dataframe tbody tr th:only-of-type {\n",
       "        vertical-align: middle;\n",
       "    }\n",
       "\n",
       "    .dataframe tbody tr th {\n",
       "        vertical-align: top;\n",
       "    }\n",
       "\n",
       "    .dataframe thead th {\n",
       "        text-align: right;\n",
       "    }\n",
       "</style>\n",
       "<table border=\"1\" class=\"dataframe\">\n",
       "  <thead>\n",
       "    <tr style=\"text-align: right;\">\n",
       "      <th></th>\n",
       "      <th>connectionTime</th>\n",
       "      <th>disconnectTime</th>\n",
       "      <th>doneChargingTime</th>\n",
       "      <th>kWhDelivered</th>\n",
       "      <th>siteID</th>\n",
       "      <th>userID</th>\n",
       "      <th>combinedSpaceStationID</th>\n",
       "      <th>timeConnected</th>\n",
       "      <th>idleTime</th>\n",
       "      <th>chargingTime</th>\n",
       "      <th>weekday</th>\n",
       "      <th>month</th>\n",
       "      <th>time</th>\n",
       "      <th>WhPerMile</th>\n",
       "      <th>kWhRequested</th>\n",
       "      <th>milesRequested</th>\n",
       "      <th>minutesAvailable</th>\n",
       "      <th>modifiedAt</th>\n",
       "      <th>paymentRequired</th>\n",
       "      <th>requestedDeparture</th>\n",
       "    </tr>\n",
       "  </thead>\n",
       "  <tbody>\n",
       "    <tr>\n",
       "      <th>0</th>\n",
       "      <td>2020-01-02 13:08:54+00:00</td>\n",
       "      <td>2020-01-02 19:11:15+00:00</td>\n",
       "      <td>2020-01-02 17:31:35+00:00</td>\n",
       "      <td>25.016</td>\n",
       "      <td>1</td>\n",
       "      <td>194.0</td>\n",
       "      <td>AG-3F30/1-1-179-810</td>\n",
       "      <td>21741.0</td>\n",
       "      <td>5980.0</td>\n",
       "      <td>15761.0</td>\n",
       "      <td>3</td>\n",
       "      <td>1</td>\n",
       "      <td>13:08:54</td>\n",
       "      <td>250.0</td>\n",
       "      <td>25.00</td>\n",
       "      <td>100.0</td>\n",
       "      <td>463.0</td>\n",
       "      <td>Thu, 02 Jan 2020 13:09:39 GMT</td>\n",
       "      <td>True</td>\n",
       "      <td>Thu, 02 Jan 2020 20:51:54 GMT</td>\n",
       "    </tr>\n",
       "    <tr>\n",
       "      <th>1</th>\n",
       "      <td>2020-01-02 13:36:50+00:00</td>\n",
       "      <td>2020-01-02 22:38:21+00:00</td>\n",
       "      <td>2020-01-02 20:18:05+00:00</td>\n",
       "      <td>33.097</td>\n",
       "      <td>1</td>\n",
       "      <td>4275.0</td>\n",
       "      <td>AG-1F01/1-1-193-825</td>\n",
       "      <td>32491.0</td>\n",
       "      <td>8416.0</td>\n",
       "      <td>24075.0</td>\n",
       "      <td>3</td>\n",
       "      <td>1</td>\n",
       "      <td>13:36:50</td>\n",
       "      <td>280.0</td>\n",
       "      <td>70.00</td>\n",
       "      <td>250.0</td>\n",
       "      <td>595.0</td>\n",
       "      <td>Thu, 02 Jan 2020 13:37:11 GMT</td>\n",
       "      <td>True</td>\n",
       "      <td>Thu, 02 Jan 2020 23:31:50 GMT</td>\n",
       "    </tr>\n",
       "    <tr>\n",
       "      <th>2</th>\n",
       "      <td>2020-01-02 13:56:35+00:00</td>\n",
       "      <td>2020-01-03 00:39:22+00:00</td>\n",
       "      <td>2020-01-02 16:35:06+00:00</td>\n",
       "      <td>6.521</td>\n",
       "      <td>1</td>\n",
       "      <td>344.0</td>\n",
       "      <td>AG-1F03/1-1-193-829</td>\n",
       "      <td>38567.0</td>\n",
       "      <td>29056.0</td>\n",
       "      <td>9511.0</td>\n",
       "      <td>3</td>\n",
       "      <td>1</td>\n",
       "      <td>13:56:35</td>\n",
       "      <td>400.0</td>\n",
       "      <td>8.00</td>\n",
       "      <td>20.0</td>\n",
       "      <td>60.0</td>\n",
       "      <td>Thu, 02 Jan 2020 13:57:17 GMT</td>\n",
       "      <td>True</td>\n",
       "      <td>Thu, 02 Jan 2020 14:56:35 GMT</td>\n",
       "    </tr>\n",
       "    <tr>\n",
       "      <th>3</th>\n",
       "      <td>2020-01-02 13:59:58+00:00</td>\n",
       "      <td>2020-01-02 16:38:39+00:00</td>\n",
       "      <td>2020-01-02 15:18:45+00:00</td>\n",
       "      <td>2.355</td>\n",
       "      <td>1</td>\n",
       "      <td>1117.0</td>\n",
       "      <td>AG-1F04/1-1-193-820</td>\n",
       "      <td>9521.0</td>\n",
       "      <td>4794.0</td>\n",
       "      <td>4727.0</td>\n",
       "      <td>3</td>\n",
       "      <td>1</td>\n",
       "      <td>13:59:58</td>\n",
       "      <td>400.0</td>\n",
       "      <td>8.00</td>\n",
       "      <td>20.0</td>\n",
       "      <td>65.0</td>\n",
       "      <td>Thu, 02 Jan 2020 14:00:03 GMT</td>\n",
       "      <td>True</td>\n",
       "      <td>Thu, 02 Jan 2020 15:04:58 GMT</td>\n",
       "    </tr>\n",
       "    <tr>\n",
       "      <th>4</th>\n",
       "      <td>2020-01-02 14:00:01+00:00</td>\n",
       "      <td>2020-01-02 22:08:40+00:00</td>\n",
       "      <td>2020-01-02 18:17:30+00:00</td>\n",
       "      <td>13.375</td>\n",
       "      <td>1</td>\n",
       "      <td>334.0</td>\n",
       "      <td>AG-1F06/1-1-193-819</td>\n",
       "      <td>29319.0</td>\n",
       "      <td>13870.0</td>\n",
       "      <td>15449.0</td>\n",
       "      <td>3</td>\n",
       "      <td>1</td>\n",
       "      <td>14:00:01</td>\n",
       "      <td>400.0</td>\n",
       "      <td>16.00</td>\n",
       "      <td>40.0</td>\n",
       "      <td>504.0</td>\n",
       "      <td>Thu, 02 Jan 2020 14:00:13 GMT</td>\n",
       "      <td>True</td>\n",
       "      <td>Thu, 02 Jan 2020 22:24:01 GMT</td>\n",
       "    </tr>\n",
       "    <tr>\n",
       "      <th>...</th>\n",
       "      <td>...</td>\n",
       "      <td>...</td>\n",
       "      <td>...</td>\n",
       "      <td>...</td>\n",
       "      <td>...</td>\n",
       "      <td>...</td>\n",
       "      <td>...</td>\n",
       "      <td>...</td>\n",
       "      <td>...</td>\n",
       "      <td>...</td>\n",
       "      <td>...</td>\n",
       "      <td>...</td>\n",
       "      <td>...</td>\n",
       "      <td>...</td>\n",
       "      <td>...</td>\n",
       "      <td>...</td>\n",
       "      <td>...</td>\n",
       "      <td>...</td>\n",
       "      <td>...</td>\n",
       "      <td>...</td>\n",
       "    </tr>\n",
       "    <tr>\n",
       "      <th>56531</th>\n",
       "      <td>2019-07-01 19:13:11+00:00</td>\n",
       "      <td>2019-07-02 00:44:40+00:00</td>\n",
       "      <td>2019-07-01 21:13:56+00:00</td>\n",
       "      <td>6.048</td>\n",
       "      <td>1</td>\n",
       "      <td>2643.0</td>\n",
       "      <td>AG-3F23/1-1-179-797</td>\n",
       "      <td>19889.0</td>\n",
       "      <td>12644.0</td>\n",
       "      <td>7245.0</td>\n",
       "      <td>0</td>\n",
       "      <td>7</td>\n",
       "      <td>19:13:11</td>\n",
       "      <td>275.0</td>\n",
       "      <td>8.25</td>\n",
       "      <td>30.0</td>\n",
       "      <td>374.0</td>\n",
       "      <td>Mon, 01 Jul 2019 19:13:10 GMT</td>\n",
       "      <td>True</td>\n",
       "      <td>Tue, 02 Jul 2019 01:27:11 GMT</td>\n",
       "    </tr>\n",
       "    <tr>\n",
       "      <th>56532</th>\n",
       "      <td>2019-07-01 19:43:46+00:00</td>\n",
       "      <td>2019-07-02 02:58:53+00:00</td>\n",
       "      <td>2019-07-02 02:43:53+00:00</td>\n",
       "      <td>41.047</td>\n",
       "      <td>1</td>\n",
       "      <td>394.0</td>\n",
       "      <td>AG-4F38/1-1-191-793</td>\n",
       "      <td>26107.0</td>\n",
       "      <td>900.0</td>\n",
       "      <td>25207.0</td>\n",
       "      <td>0</td>\n",
       "      <td>7</td>\n",
       "      <td>19:43:46</td>\n",
       "      <td>231.0</td>\n",
       "      <td>36.96</td>\n",
       "      <td>160.0</td>\n",
       "      <td>310.0</td>\n",
       "      <td>Mon, 01 Jul 2019 19:43:58 GMT</td>\n",
       "      <td>True</td>\n",
       "      <td>Tue, 02 Jul 2019 00:53:46 GMT</td>\n",
       "    </tr>\n",
       "    <tr>\n",
       "      <th>56533</th>\n",
       "      <td>2019-07-01 20:34:30+00:00</td>\n",
       "      <td>2019-07-02 00:30:52+00:00</td>\n",
       "      <td>2019-07-01 21:27:44+00:00</td>\n",
       "      <td>5.390</td>\n",
       "      <td>1</td>\n",
       "      <td>2276.0</td>\n",
       "      <td>AG-3F15/1-1-179-813</td>\n",
       "      <td>14182.0</td>\n",
       "      <td>10988.0</td>\n",
       "      <td>3194.0</td>\n",
       "      <td>0</td>\n",
       "      <td>7</td>\n",
       "      <td>20:34:30</td>\n",
       "      <td>300.0</td>\n",
       "      <td>12.00</td>\n",
       "      <td>40.0</td>\n",
       "      <td>381.0</td>\n",
       "      <td>Mon, 01 Jul 2019 20:34:29 GMT</td>\n",
       "      <td>True</td>\n",
       "      <td>Tue, 02 Jul 2019 02:55:30 GMT</td>\n",
       "    </tr>\n",
       "    <tr>\n",
       "      <th>56534</th>\n",
       "      <td>2019-07-01 21:49:12+00:00</td>\n",
       "      <td>2019-07-02 01:37:18+00:00</td>\n",
       "      <td>2019-07-01 23:14:33+00:00</td>\n",
       "      <td>8.399</td>\n",
       "      <td>1</td>\n",
       "      <td>1346.0</td>\n",
       "      <td>AG-3F18/1-1-179-798</td>\n",
       "      <td>13686.0</td>\n",
       "      <td>8565.0</td>\n",
       "      <td>5121.0</td>\n",
       "      <td>0</td>\n",
       "      <td>7</td>\n",
       "      <td>21:49:12</td>\n",
       "      <td>400.0</td>\n",
       "      <td>32.00</td>\n",
       "      <td>80.0</td>\n",
       "      <td>36.0</td>\n",
       "      <td>Mon, 01 Jul 2019 21:49:37 GMT</td>\n",
       "      <td>True</td>\n",
       "      <td>Mon, 01 Jul 2019 22:25:12 GMT</td>\n",
       "    </tr>\n",
       "    <tr>\n",
       "      <th>56535</th>\n",
       "      <td>2019-07-01 22:36:08+00:00</td>\n",
       "      <td>2019-07-02 01:10:52+00:00</td>\n",
       "      <td>2019-07-02 00:24:32+00:00</td>\n",
       "      <td>10.241</td>\n",
       "      <td>1</td>\n",
       "      <td>2299.0</td>\n",
       "      <td>AG-1F06/1-1-193-819</td>\n",
       "      <td>9284.0</td>\n",
       "      <td>2780.0</td>\n",
       "      <td>6504.0</td>\n",
       "      <td>0</td>\n",
       "      <td>7</td>\n",
       "      <td>22:36:08</td>\n",
       "      <td>333.0</td>\n",
       "      <td>16.65</td>\n",
       "      <td>50.0</td>\n",
       "      <td>191.0</td>\n",
       "      <td>Mon, 01 Jul 2019 22:36:08 GMT</td>\n",
       "      <td>True</td>\n",
       "      <td>Tue, 02 Jul 2019 01:47:08 GMT</td>\n",
       "    </tr>\n",
       "  </tbody>\n",
       "</table>\n",
       "<p>56536 rows × 20 columns</p>\n",
       "</div>"
      ],
      "text/plain": [
       "                 connectionTime            disconnectTime  \\\n",
       "0     2020-01-02 13:08:54+00:00 2020-01-02 19:11:15+00:00   \n",
       "1     2020-01-02 13:36:50+00:00 2020-01-02 22:38:21+00:00   \n",
       "2     2020-01-02 13:56:35+00:00 2020-01-03 00:39:22+00:00   \n",
       "3     2020-01-02 13:59:58+00:00 2020-01-02 16:38:39+00:00   \n",
       "4     2020-01-02 14:00:01+00:00 2020-01-02 22:08:40+00:00   \n",
       "...                         ...                       ...   \n",
       "56531 2019-07-01 19:13:11+00:00 2019-07-02 00:44:40+00:00   \n",
       "56532 2019-07-01 19:43:46+00:00 2019-07-02 02:58:53+00:00   \n",
       "56533 2019-07-01 20:34:30+00:00 2019-07-02 00:30:52+00:00   \n",
       "56534 2019-07-01 21:49:12+00:00 2019-07-02 01:37:18+00:00   \n",
       "56535 2019-07-01 22:36:08+00:00 2019-07-02 01:10:52+00:00   \n",
       "\n",
       "               doneChargingTime  kWhDelivered  siteID  userID  \\\n",
       "0     2020-01-02 17:31:35+00:00        25.016       1   194.0   \n",
       "1     2020-01-02 20:18:05+00:00        33.097       1  4275.0   \n",
       "2     2020-01-02 16:35:06+00:00         6.521       1   344.0   \n",
       "3     2020-01-02 15:18:45+00:00         2.355       1  1117.0   \n",
       "4     2020-01-02 18:17:30+00:00        13.375       1   334.0   \n",
       "...                         ...           ...     ...     ...   \n",
       "56531 2019-07-01 21:13:56+00:00         6.048       1  2643.0   \n",
       "56532 2019-07-02 02:43:53+00:00        41.047       1   394.0   \n",
       "56533 2019-07-01 21:27:44+00:00         5.390       1  2276.0   \n",
       "56534 2019-07-01 23:14:33+00:00         8.399       1  1346.0   \n",
       "56535 2019-07-02 00:24:32+00:00        10.241       1  2299.0   \n",
       "\n",
       "      combinedSpaceStationID  timeConnected  idleTime  chargingTime  weekday  \\\n",
       "0        AG-3F30/1-1-179-810        21741.0    5980.0       15761.0        3   \n",
       "1        AG-1F01/1-1-193-825        32491.0    8416.0       24075.0        3   \n",
       "2        AG-1F03/1-1-193-829        38567.0   29056.0        9511.0        3   \n",
       "3        AG-1F04/1-1-193-820         9521.0    4794.0        4727.0        3   \n",
       "4        AG-1F06/1-1-193-819        29319.0   13870.0       15449.0        3   \n",
       "...                      ...            ...       ...           ...      ...   \n",
       "56531    AG-3F23/1-1-179-797        19889.0   12644.0        7245.0        0   \n",
       "56532    AG-4F38/1-1-191-793        26107.0     900.0       25207.0        0   \n",
       "56533    AG-3F15/1-1-179-813        14182.0   10988.0        3194.0        0   \n",
       "56534    AG-3F18/1-1-179-798        13686.0    8565.0        5121.0        0   \n",
       "56535    AG-1F06/1-1-193-819         9284.0    2780.0        6504.0        0   \n",
       "\n",
       "       month      time  WhPerMile  kWhRequested  milesRequested  \\\n",
       "0          1  13:08:54      250.0         25.00           100.0   \n",
       "1          1  13:36:50      280.0         70.00           250.0   \n",
       "2          1  13:56:35      400.0          8.00            20.0   \n",
       "3          1  13:59:58      400.0          8.00            20.0   \n",
       "4          1  14:00:01      400.0         16.00            40.0   \n",
       "...      ...       ...        ...           ...             ...   \n",
       "56531      7  19:13:11      275.0          8.25            30.0   \n",
       "56532      7  19:43:46      231.0         36.96           160.0   \n",
       "56533      7  20:34:30      300.0         12.00            40.0   \n",
       "56534      7  21:49:12      400.0         32.00            80.0   \n",
       "56535      7  22:36:08      333.0         16.65            50.0   \n",
       "\n",
       "       minutesAvailable                     modifiedAt paymentRequired  \\\n",
       "0                 463.0  Thu, 02 Jan 2020 13:09:39 GMT            True   \n",
       "1                 595.0  Thu, 02 Jan 2020 13:37:11 GMT            True   \n",
       "2                  60.0  Thu, 02 Jan 2020 13:57:17 GMT            True   \n",
       "3                  65.0  Thu, 02 Jan 2020 14:00:03 GMT            True   \n",
       "4                 504.0  Thu, 02 Jan 2020 14:00:13 GMT            True   \n",
       "...                 ...                            ...             ...   \n",
       "56531             374.0  Mon, 01 Jul 2019 19:13:10 GMT            True   \n",
       "56532             310.0  Mon, 01 Jul 2019 19:43:58 GMT            True   \n",
       "56533             381.0  Mon, 01 Jul 2019 20:34:29 GMT            True   \n",
       "56534              36.0  Mon, 01 Jul 2019 21:49:37 GMT            True   \n",
       "56535             191.0  Mon, 01 Jul 2019 22:36:08 GMT            True   \n",
       "\n",
       "                  requestedDeparture  \n",
       "0      Thu, 02 Jan 2020 20:51:54 GMT  \n",
       "1      Thu, 02 Jan 2020 23:31:50 GMT  \n",
       "2      Thu, 02 Jan 2020 14:56:35 GMT  \n",
       "3      Thu, 02 Jan 2020 15:04:58 GMT  \n",
       "4      Thu, 02 Jan 2020 22:24:01 GMT  \n",
       "...                              ...  \n",
       "56531  Tue, 02 Jul 2019 01:27:11 GMT  \n",
       "56532  Tue, 02 Jul 2019 00:53:46 GMT  \n",
       "56533  Tue, 02 Jul 2019 02:55:30 GMT  \n",
       "56534  Mon, 01 Jul 2019 22:25:12 GMT  \n",
       "56535  Tue, 02 Jul 2019 01:47:08 GMT  \n",
       "\n",
       "[56536 rows x 20 columns]"
      ]
     },
     "execution_count": 324,
     "metadata": {},
     "output_type": "execute_result"
    }
   ],
   "source": [
    "# Read in the pre-processed dataset\n",
    "\n",
    "temporal_df = pd.read_pickle(\"preparedData.pkl\")\n",
    "temporal_df"
   ]
  },
  {
   "cell_type": "code",
   "execution_count": 325,
   "id": "101a5a79",
   "metadata": {},
   "outputs": [
    {
     "data": {
      "text/html": [
       "<div>\n",
       "<style scoped>\n",
       "    .dataframe tbody tr th:only-of-type {\n",
       "        vertical-align: middle;\n",
       "    }\n",
       "\n",
       "    .dataframe tbody tr th {\n",
       "        vertical-align: top;\n",
       "    }\n",
       "\n",
       "    .dataframe thead th {\n",
       "        text-align: right;\n",
       "    }\n",
       "</style>\n",
       "<table border=\"1\" class=\"dataframe\">\n",
       "  <thead>\n",
       "    <tr style=\"text-align: right;\">\n",
       "      <th></th>\n",
       "      <th>connectionTime</th>\n",
       "      <th>disconnectTime</th>\n",
       "      <th>doneChargingTime</th>\n",
       "      <th>kWhDelivered</th>\n",
       "      <th>siteID</th>\n",
       "      <th>userID</th>\n",
       "      <th>combinedSpaceStationID</th>\n",
       "      <th>timeConnected</th>\n",
       "      <th>idleTime</th>\n",
       "      <th>chargingTime</th>\n",
       "      <th>...</th>\n",
       "      <th>WhPerMile</th>\n",
       "      <th>kWhRequested</th>\n",
       "      <th>milesRequested</th>\n",
       "      <th>minutesAvailable</th>\n",
       "      <th>modifiedAt</th>\n",
       "      <th>paymentRequired</th>\n",
       "      <th>requestedDeparture</th>\n",
       "      <th>hour</th>\n",
       "      <th>date</th>\n",
       "      <th>year</th>\n",
       "    </tr>\n",
       "  </thead>\n",
       "  <tbody>\n",
       "    <tr>\n",
       "      <th>0</th>\n",
       "      <td>2020-01-02 13:08:54+00:00</td>\n",
       "      <td>2020-01-02 19:11:15+00:00</td>\n",
       "      <td>2020-01-02 17:31:35+00:00</td>\n",
       "      <td>25.016</td>\n",
       "      <td>1</td>\n",
       "      <td>194.0</td>\n",
       "      <td>AG-3F30/1-1-179-810</td>\n",
       "      <td>21741.0</td>\n",
       "      <td>5980.0</td>\n",
       "      <td>15761.0</td>\n",
       "      <td>...</td>\n",
       "      <td>250.0</td>\n",
       "      <td>25.00</td>\n",
       "      <td>100.0</td>\n",
       "      <td>463.0</td>\n",
       "      <td>Thu, 02 Jan 2020 13:09:39 GMT</td>\n",
       "      <td>True</td>\n",
       "      <td>Thu, 02 Jan 2020 20:51:54 GMT</td>\n",
       "      <td>13</td>\n",
       "      <td>2020-01-02</td>\n",
       "      <td>2020</td>\n",
       "    </tr>\n",
       "    <tr>\n",
       "      <th>1</th>\n",
       "      <td>2020-01-02 13:36:50+00:00</td>\n",
       "      <td>2020-01-02 22:38:21+00:00</td>\n",
       "      <td>2020-01-02 20:18:05+00:00</td>\n",
       "      <td>33.097</td>\n",
       "      <td>1</td>\n",
       "      <td>4275.0</td>\n",
       "      <td>AG-1F01/1-1-193-825</td>\n",
       "      <td>32491.0</td>\n",
       "      <td>8416.0</td>\n",
       "      <td>24075.0</td>\n",
       "      <td>...</td>\n",
       "      <td>280.0</td>\n",
       "      <td>70.00</td>\n",
       "      <td>250.0</td>\n",
       "      <td>595.0</td>\n",
       "      <td>Thu, 02 Jan 2020 13:37:11 GMT</td>\n",
       "      <td>True</td>\n",
       "      <td>Thu, 02 Jan 2020 23:31:50 GMT</td>\n",
       "      <td>13</td>\n",
       "      <td>2020-01-02</td>\n",
       "      <td>2020</td>\n",
       "    </tr>\n",
       "    <tr>\n",
       "      <th>2</th>\n",
       "      <td>2020-01-02 13:56:35+00:00</td>\n",
       "      <td>2020-01-03 00:39:22+00:00</td>\n",
       "      <td>2020-01-02 16:35:06+00:00</td>\n",
       "      <td>6.521</td>\n",
       "      <td>1</td>\n",
       "      <td>344.0</td>\n",
       "      <td>AG-1F03/1-1-193-829</td>\n",
       "      <td>38567.0</td>\n",
       "      <td>29056.0</td>\n",
       "      <td>9511.0</td>\n",
       "      <td>...</td>\n",
       "      <td>400.0</td>\n",
       "      <td>8.00</td>\n",
       "      <td>20.0</td>\n",
       "      <td>60.0</td>\n",
       "      <td>Thu, 02 Jan 2020 13:57:17 GMT</td>\n",
       "      <td>True</td>\n",
       "      <td>Thu, 02 Jan 2020 14:56:35 GMT</td>\n",
       "      <td>13</td>\n",
       "      <td>2020-01-02</td>\n",
       "      <td>2020</td>\n",
       "    </tr>\n",
       "    <tr>\n",
       "      <th>3</th>\n",
       "      <td>2020-01-02 13:59:58+00:00</td>\n",
       "      <td>2020-01-02 16:38:39+00:00</td>\n",
       "      <td>2020-01-02 15:18:45+00:00</td>\n",
       "      <td>2.355</td>\n",
       "      <td>1</td>\n",
       "      <td>1117.0</td>\n",
       "      <td>AG-1F04/1-1-193-820</td>\n",
       "      <td>9521.0</td>\n",
       "      <td>4794.0</td>\n",
       "      <td>4727.0</td>\n",
       "      <td>...</td>\n",
       "      <td>400.0</td>\n",
       "      <td>8.00</td>\n",
       "      <td>20.0</td>\n",
       "      <td>65.0</td>\n",
       "      <td>Thu, 02 Jan 2020 14:00:03 GMT</td>\n",
       "      <td>True</td>\n",
       "      <td>Thu, 02 Jan 2020 15:04:58 GMT</td>\n",
       "      <td>13</td>\n",
       "      <td>2020-01-02</td>\n",
       "      <td>2020</td>\n",
       "    </tr>\n",
       "    <tr>\n",
       "      <th>4</th>\n",
       "      <td>2020-01-02 14:00:01+00:00</td>\n",
       "      <td>2020-01-02 22:08:40+00:00</td>\n",
       "      <td>2020-01-02 18:17:30+00:00</td>\n",
       "      <td>13.375</td>\n",
       "      <td>1</td>\n",
       "      <td>334.0</td>\n",
       "      <td>AG-1F06/1-1-193-819</td>\n",
       "      <td>29319.0</td>\n",
       "      <td>13870.0</td>\n",
       "      <td>15449.0</td>\n",
       "      <td>...</td>\n",
       "      <td>400.0</td>\n",
       "      <td>16.00</td>\n",
       "      <td>40.0</td>\n",
       "      <td>504.0</td>\n",
       "      <td>Thu, 02 Jan 2020 14:00:13 GMT</td>\n",
       "      <td>True</td>\n",
       "      <td>Thu, 02 Jan 2020 22:24:01 GMT</td>\n",
       "      <td>14</td>\n",
       "      <td>2020-01-02</td>\n",
       "      <td>2020</td>\n",
       "    </tr>\n",
       "    <tr>\n",
       "      <th>...</th>\n",
       "      <td>...</td>\n",
       "      <td>...</td>\n",
       "      <td>...</td>\n",
       "      <td>...</td>\n",
       "      <td>...</td>\n",
       "      <td>...</td>\n",
       "      <td>...</td>\n",
       "      <td>...</td>\n",
       "      <td>...</td>\n",
       "      <td>...</td>\n",
       "      <td>...</td>\n",
       "      <td>...</td>\n",
       "      <td>...</td>\n",
       "      <td>...</td>\n",
       "      <td>...</td>\n",
       "      <td>...</td>\n",
       "      <td>...</td>\n",
       "      <td>...</td>\n",
       "      <td>...</td>\n",
       "      <td>...</td>\n",
       "      <td>...</td>\n",
       "    </tr>\n",
       "    <tr>\n",
       "      <th>56531</th>\n",
       "      <td>2019-07-01 19:13:11+00:00</td>\n",
       "      <td>2019-07-02 00:44:40+00:00</td>\n",
       "      <td>2019-07-01 21:13:56+00:00</td>\n",
       "      <td>6.048</td>\n",
       "      <td>1</td>\n",
       "      <td>2643.0</td>\n",
       "      <td>AG-3F23/1-1-179-797</td>\n",
       "      <td>19889.0</td>\n",
       "      <td>12644.0</td>\n",
       "      <td>7245.0</td>\n",
       "      <td>...</td>\n",
       "      <td>275.0</td>\n",
       "      <td>8.25</td>\n",
       "      <td>30.0</td>\n",
       "      <td>374.0</td>\n",
       "      <td>Mon, 01 Jul 2019 19:13:10 GMT</td>\n",
       "      <td>True</td>\n",
       "      <td>Tue, 02 Jul 2019 01:27:11 GMT</td>\n",
       "      <td>19</td>\n",
       "      <td>2019-07-01</td>\n",
       "      <td>2019</td>\n",
       "    </tr>\n",
       "    <tr>\n",
       "      <th>56532</th>\n",
       "      <td>2019-07-01 19:43:46+00:00</td>\n",
       "      <td>2019-07-02 02:58:53+00:00</td>\n",
       "      <td>2019-07-02 02:43:53+00:00</td>\n",
       "      <td>41.047</td>\n",
       "      <td>1</td>\n",
       "      <td>394.0</td>\n",
       "      <td>AG-4F38/1-1-191-793</td>\n",
       "      <td>26107.0</td>\n",
       "      <td>900.0</td>\n",
       "      <td>25207.0</td>\n",
       "      <td>...</td>\n",
       "      <td>231.0</td>\n",
       "      <td>36.96</td>\n",
       "      <td>160.0</td>\n",
       "      <td>310.0</td>\n",
       "      <td>Mon, 01 Jul 2019 19:43:58 GMT</td>\n",
       "      <td>True</td>\n",
       "      <td>Tue, 02 Jul 2019 00:53:46 GMT</td>\n",
       "      <td>19</td>\n",
       "      <td>2019-07-01</td>\n",
       "      <td>2019</td>\n",
       "    </tr>\n",
       "    <tr>\n",
       "      <th>56533</th>\n",
       "      <td>2019-07-01 20:34:30+00:00</td>\n",
       "      <td>2019-07-02 00:30:52+00:00</td>\n",
       "      <td>2019-07-01 21:27:44+00:00</td>\n",
       "      <td>5.390</td>\n",
       "      <td>1</td>\n",
       "      <td>2276.0</td>\n",
       "      <td>AG-3F15/1-1-179-813</td>\n",
       "      <td>14182.0</td>\n",
       "      <td>10988.0</td>\n",
       "      <td>3194.0</td>\n",
       "      <td>...</td>\n",
       "      <td>300.0</td>\n",
       "      <td>12.00</td>\n",
       "      <td>40.0</td>\n",
       "      <td>381.0</td>\n",
       "      <td>Mon, 01 Jul 2019 20:34:29 GMT</td>\n",
       "      <td>True</td>\n",
       "      <td>Tue, 02 Jul 2019 02:55:30 GMT</td>\n",
       "      <td>20</td>\n",
       "      <td>2019-07-01</td>\n",
       "      <td>2019</td>\n",
       "    </tr>\n",
       "    <tr>\n",
       "      <th>56534</th>\n",
       "      <td>2019-07-01 21:49:12+00:00</td>\n",
       "      <td>2019-07-02 01:37:18+00:00</td>\n",
       "      <td>2019-07-01 23:14:33+00:00</td>\n",
       "      <td>8.399</td>\n",
       "      <td>1</td>\n",
       "      <td>1346.0</td>\n",
       "      <td>AG-3F18/1-1-179-798</td>\n",
       "      <td>13686.0</td>\n",
       "      <td>8565.0</td>\n",
       "      <td>5121.0</td>\n",
       "      <td>...</td>\n",
       "      <td>400.0</td>\n",
       "      <td>32.00</td>\n",
       "      <td>80.0</td>\n",
       "      <td>36.0</td>\n",
       "      <td>Mon, 01 Jul 2019 21:49:37 GMT</td>\n",
       "      <td>True</td>\n",
       "      <td>Mon, 01 Jul 2019 22:25:12 GMT</td>\n",
       "      <td>21</td>\n",
       "      <td>2019-07-01</td>\n",
       "      <td>2019</td>\n",
       "    </tr>\n",
       "    <tr>\n",
       "      <th>56535</th>\n",
       "      <td>2019-07-01 22:36:08+00:00</td>\n",
       "      <td>2019-07-02 01:10:52+00:00</td>\n",
       "      <td>2019-07-02 00:24:32+00:00</td>\n",
       "      <td>10.241</td>\n",
       "      <td>1</td>\n",
       "      <td>2299.0</td>\n",
       "      <td>AG-1F06/1-1-193-819</td>\n",
       "      <td>9284.0</td>\n",
       "      <td>2780.0</td>\n",
       "      <td>6504.0</td>\n",
       "      <td>...</td>\n",
       "      <td>333.0</td>\n",
       "      <td>16.65</td>\n",
       "      <td>50.0</td>\n",
       "      <td>191.0</td>\n",
       "      <td>Mon, 01 Jul 2019 22:36:08 GMT</td>\n",
       "      <td>True</td>\n",
       "      <td>Tue, 02 Jul 2019 01:47:08 GMT</td>\n",
       "      <td>22</td>\n",
       "      <td>2019-07-01</td>\n",
       "      <td>2019</td>\n",
       "    </tr>\n",
       "  </tbody>\n",
       "</table>\n",
       "<p>56536 rows × 23 columns</p>\n",
       "</div>"
      ],
      "text/plain": [
       "                 connectionTime            disconnectTime  \\\n",
       "0     2020-01-02 13:08:54+00:00 2020-01-02 19:11:15+00:00   \n",
       "1     2020-01-02 13:36:50+00:00 2020-01-02 22:38:21+00:00   \n",
       "2     2020-01-02 13:56:35+00:00 2020-01-03 00:39:22+00:00   \n",
       "3     2020-01-02 13:59:58+00:00 2020-01-02 16:38:39+00:00   \n",
       "4     2020-01-02 14:00:01+00:00 2020-01-02 22:08:40+00:00   \n",
       "...                         ...                       ...   \n",
       "56531 2019-07-01 19:13:11+00:00 2019-07-02 00:44:40+00:00   \n",
       "56532 2019-07-01 19:43:46+00:00 2019-07-02 02:58:53+00:00   \n",
       "56533 2019-07-01 20:34:30+00:00 2019-07-02 00:30:52+00:00   \n",
       "56534 2019-07-01 21:49:12+00:00 2019-07-02 01:37:18+00:00   \n",
       "56535 2019-07-01 22:36:08+00:00 2019-07-02 01:10:52+00:00   \n",
       "\n",
       "               doneChargingTime  kWhDelivered  siteID  userID  \\\n",
       "0     2020-01-02 17:31:35+00:00        25.016       1   194.0   \n",
       "1     2020-01-02 20:18:05+00:00        33.097       1  4275.0   \n",
       "2     2020-01-02 16:35:06+00:00         6.521       1   344.0   \n",
       "3     2020-01-02 15:18:45+00:00         2.355       1  1117.0   \n",
       "4     2020-01-02 18:17:30+00:00        13.375       1   334.0   \n",
       "...                         ...           ...     ...     ...   \n",
       "56531 2019-07-01 21:13:56+00:00         6.048       1  2643.0   \n",
       "56532 2019-07-02 02:43:53+00:00        41.047       1   394.0   \n",
       "56533 2019-07-01 21:27:44+00:00         5.390       1  2276.0   \n",
       "56534 2019-07-01 23:14:33+00:00         8.399       1  1346.0   \n",
       "56535 2019-07-02 00:24:32+00:00        10.241       1  2299.0   \n",
       "\n",
       "      combinedSpaceStationID  timeConnected  idleTime  chargingTime  ...  \\\n",
       "0        AG-3F30/1-1-179-810        21741.0    5980.0       15761.0  ...   \n",
       "1        AG-1F01/1-1-193-825        32491.0    8416.0       24075.0  ...   \n",
       "2        AG-1F03/1-1-193-829        38567.0   29056.0        9511.0  ...   \n",
       "3        AG-1F04/1-1-193-820         9521.0    4794.0        4727.0  ...   \n",
       "4        AG-1F06/1-1-193-819        29319.0   13870.0       15449.0  ...   \n",
       "...                      ...            ...       ...           ...  ...   \n",
       "56531    AG-3F23/1-1-179-797        19889.0   12644.0        7245.0  ...   \n",
       "56532    AG-4F38/1-1-191-793        26107.0     900.0       25207.0  ...   \n",
       "56533    AG-3F15/1-1-179-813        14182.0   10988.0        3194.0  ...   \n",
       "56534    AG-3F18/1-1-179-798        13686.0    8565.0        5121.0  ...   \n",
       "56535    AG-1F06/1-1-193-819         9284.0    2780.0        6504.0  ...   \n",
       "\n",
       "       WhPerMile  kWhRequested milesRequested  minutesAvailable  \\\n",
       "0          250.0         25.00          100.0             463.0   \n",
       "1          280.0         70.00          250.0             595.0   \n",
       "2          400.0          8.00           20.0              60.0   \n",
       "3          400.0          8.00           20.0              65.0   \n",
       "4          400.0         16.00           40.0             504.0   \n",
       "...          ...           ...            ...               ...   \n",
       "56531      275.0          8.25           30.0             374.0   \n",
       "56532      231.0         36.96          160.0             310.0   \n",
       "56533      300.0         12.00           40.0             381.0   \n",
       "56534      400.0         32.00           80.0              36.0   \n",
       "56535      333.0         16.65           50.0             191.0   \n",
       "\n",
       "                          modifiedAt  paymentRequired  \\\n",
       "0      Thu, 02 Jan 2020 13:09:39 GMT             True   \n",
       "1      Thu, 02 Jan 2020 13:37:11 GMT             True   \n",
       "2      Thu, 02 Jan 2020 13:57:17 GMT             True   \n",
       "3      Thu, 02 Jan 2020 14:00:03 GMT             True   \n",
       "4      Thu, 02 Jan 2020 14:00:13 GMT             True   \n",
       "...                              ...              ...   \n",
       "56531  Mon, 01 Jul 2019 19:13:10 GMT             True   \n",
       "56532  Mon, 01 Jul 2019 19:43:58 GMT             True   \n",
       "56533  Mon, 01 Jul 2019 20:34:29 GMT             True   \n",
       "56534  Mon, 01 Jul 2019 21:49:37 GMT             True   \n",
       "56535  Mon, 01 Jul 2019 22:36:08 GMT             True   \n",
       "\n",
       "                  requestedDeparture hour        date  year  \n",
       "0      Thu, 02 Jan 2020 20:51:54 GMT   13  2020-01-02  2020  \n",
       "1      Thu, 02 Jan 2020 23:31:50 GMT   13  2020-01-02  2020  \n",
       "2      Thu, 02 Jan 2020 14:56:35 GMT   13  2020-01-02  2020  \n",
       "3      Thu, 02 Jan 2020 15:04:58 GMT   13  2020-01-02  2020  \n",
       "4      Thu, 02 Jan 2020 22:24:01 GMT   14  2020-01-02  2020  \n",
       "...                              ...  ...         ...   ...  \n",
       "56531  Tue, 02 Jul 2019 01:27:11 GMT   19  2019-07-01  2019  \n",
       "56532  Tue, 02 Jul 2019 00:53:46 GMT   19  2019-07-01  2019  \n",
       "56533  Tue, 02 Jul 2019 02:55:30 GMT   20  2019-07-01  2019  \n",
       "56534  Mon, 01 Jul 2019 22:25:12 GMT   21  2019-07-01  2019  \n",
       "56535  Tue, 02 Jul 2019 01:47:08 GMT   22  2019-07-01  2019  \n",
       "\n",
       "[56536 rows x 23 columns]"
      ]
     },
     "execution_count": 325,
     "metadata": {},
     "output_type": "execute_result"
    }
   ],
   "source": [
    "# Separate the attribute 'connectionTime' which is in a datetime format into serveral columns (hour, date, year) \n",
    "\n",
    "temporal_df[\"hour\"] = temporal_df['connectionTime'].dt.hour\n",
    "temporal_df[\"date\"] = temporal_df['connectionTime'].dt.date\n",
    "temporal_df[\"year\"] = temporal_df['connectionTime'].dt.year\n",
    "temporal_df"
   ]
  },
  {
   "cell_type": "code",
   "execution_count": 326,
   "id": "cf49eba6",
   "metadata": {},
   "outputs": [],
   "source": [
    "#create a new column with an ascending index of each row\n",
    "\n",
    "connections = temporal_df.index\n",
    "temporal_df[\"connections\"]= connections"
   ]
  },
  {
   "cell_type": "markdown",
   "id": "09740578",
   "metadata": {},
   "source": [
    "### Connections per Hour"
   ]
  },
  {
   "cell_type": "code",
   "execution_count": 328,
   "id": "38a0f013",
   "metadata": {
    "scrolled": true
   },
   "outputs": [
    {
     "data": {
      "image/png": "[encoded data removed]",
      "text/plain": [
       "<Figure size 864x288 with 1 Axes>"
      ]
     },
     "metadata": {
      "needs_background": "light"
     },
     "output_type": "display_data"
    }
   ],
   "source": [
    "\n",
    "#create a boxplot of borrowed bikes per day\n",
    "connections_per_hour = temporal_df.groupby([\"date\",\"hour\"])[\"connections\"].nunique()\n",
    "connections_per_hour = pd.DataFrame(connections_per_hour)\n",
    "fig,ax = plt.subplots(figsize=(12,4)) \n",
    "\n",
    "sns.boxplot(x=connections_per_hour.index.get_level_values(1), y=connections_per_hour[\"connections\"],ax=ax)\n",
    "ax.set_title(\"Connections per Day\",fontsize=16)\n",
    "plt.ylabel('Number of Connections')\n",
    "#plt.savefig(\"daydemand.pdf\")\n",
    "plt.show()"
   ]
  },
  {
   "cell_type": "markdown",
   "id": "c263402d",
   "metadata": {},
   "source": [
    "As you can see in the barplot above, there is a very strange shift on the time axis. You should be expecting connections to peak in the morning and not at midday. It is particularly striking that no connections were registered at the beginning of the working day. While searching for the cause, it becomes apparent that the connection time is measured according to GMT. However, Los Angeles is in a different time zone, which is GMT-8. It is therefore necessary to recalculate the connection time by subtracting eight from each value. To ensure that we still come up with a new reasonable value, it is important to keep it in the range of 0 to 23 via additional operations. "
   ]
  },
  {
   "cell_type": "code",
   "execution_count": 330,
   "id": "767045c5",
   "metadata": {},
   "outputs": [],
   "source": [
    "# Recalculate the 'hour' column in a copy of the original dataframe\n",
    "\n",
    "gmt_8 = temporal_df.copy()\n",
    "\n",
    "gmt_8['hour'] = (gmt_8['hour'] - 8) % 24\n",
    "gmt_8['hour'] = gmt_8['hour'].astype(int)"
   ]
  },
  {
   "cell_type": "code",
   "execution_count": 332,
   "id": "4ba6c601",
   "metadata": {
    "scrolled": true
   },
   "outputs": [
    {
     "data": {
      "image/png": "[encoded data removed]",
      "text/plain": [
       "<Figure size 864x288 with 1 Axes>"
      ]
     },
     "metadata": {
      "needs_background": "light"
     },
     "output_type": "display_data"
    }
   ],
   "source": [
    "#create a boxplot of borrowed bikes per day\n",
    "\n",
    "connections_per_hour8 = gmt_8.groupby([\"date\",\"hour\"])[\"connections\"].nunique()\n",
    "connections_per_hour8 = pd.DataFrame(connections_per_hour8)\n",
    "fig,ax = plt.subplots(figsize=(12,4)) \n",
    "\n",
    "sns.boxplot(x=connections_per_hour8.index.get_level_values(1), y=connections_per_hour8[\"connections\"],ax=ax)\n",
    "ax.set_title(\"Connections per Day\",fontsize=16)\n",
    "plt.ylabel('Number of Connections')\n",
    "#plt.savefig(\"daydemand.pdf\")\n",
    "plt.show()"
   ]
  },
  {
   "cell_type": "markdown",
   "id": "d4e40e02",
   "metadata": {},
   "source": [
    "This new plot, which is based on the previously recalculated connection times according to GMT-8, makes much more sense in the context of the use case. You can observe a peak in the number of connections at 6 o'clock. During the night, on the other hand, there are no new connections."
   ]
  },
  {
   "cell_type": "markdown",
   "id": "e4f5e89c",
   "metadata": {},
   "source": [
    "### Connections per Day"
   ]
  },
  {
   "cell_type": "code",
   "execution_count": 333,
   "id": "ae1657d3",
   "metadata": {
    "scrolled": true
   },
   "outputs": [
    {
     "data": {
      "image/png": "[encoded data removed]",
      "text/plain": [
       "<Figure size 720x288 with 1 Axes>"
      ]
     },
     "metadata": {
      "needs_background": "light"
     },
     "output_type": "display_data"
    }
   ],
   "source": [
    "#create a boxplot of borrowed bikes per week\n",
    "\n",
    "connections_per_weekday = temporal_df.groupby([\"date\",\"weekday\"])[\"connections\"].nunique()\n",
    "connections_per_weekday= pd.DataFrame(connections_per_weekday)\n",
    "\n",
    "fig,ax = plt.subplots(figsize=(10,4)) \n",
    "\n",
    "sns.boxplot(x=connections_per_weekday.index.get_level_values(1), y=connections_per_weekday[\"connections\"],ax=ax)\n",
    "ax.set_title(\"Connections per Week\",fontsize=16)\n",
    "plt.xlabel('Weekday')\n",
    "plt.ylabel('Number of Connections')\n",
    "#plt.savefig(\"weekdemand.pdf\")\n",
    "plt.show()"
   ]
  },
  {
   "cell_type": "markdown",
   "id": "21bc0728",
   "metadata": {},
   "source": [
    "### Connections per Month"
   ]
  },
  {
   "cell_type": "code",
   "execution_count": 334,
   "id": "37a33b00",
   "metadata": {},
   "outputs": [],
   "source": [
    "#unique_values = temporal_df['year'].unique()\n",
    "\n",
    "#for value in unique_values:\n",
    "#    print(value)"
   ]
  },
  {
   "cell_type": "code",
   "execution_count": 335,
   "id": "a895a62e",
   "metadata": {},
   "outputs": [],
   "source": [
    "#create a column with month names\n",
    "\n",
    "month_dict = {1:\"Jan\",2:\"Feb\",3:\"Mar\",4:\"Apr\",5:\"May\",6:\"Jun\",7:\"Jul\",8:\"Aug\",9:\"Sep\",10:\"Oct\",11:\"Nov\",12:\"Dec\"}"
   ]
  },
  {
   "cell_type": "code",
   "execution_count": 363,
   "id": "db8f8b2e",
   "metadata": {},
   "outputs": [
    {
     "data": {
      "text/html": [
       "<div>\n",
       "<style scoped>\n",
       "    .dataframe tbody tr th:only-of-type {\n",
       "        vertical-align: middle;\n",
       "    }\n",
       "\n",
       "    .dataframe tbody tr th {\n",
       "        vertical-align: top;\n",
       "    }\n",
       "\n",
       "    .dataframe thead th {\n",
       "        text-align: right;\n",
       "    }\n",
       "</style>\n",
       "<table border=\"1\" class=\"dataframe\">\n",
       "  <thead>\n",
       "    <tr style=\"text-align: right;\">\n",
       "      <th></th>\n",
       "      <th>Month</th>\n",
       "      <th>Count</th>\n",
       "    </tr>\n",
       "  </thead>\n",
       "  <tbody>\n",
       "    <tr>\n",
       "      <th>0</th>\n",
       "      <td>1</td>\n",
       "      <td>4798</td>\n",
       "    </tr>\n",
       "    <tr>\n",
       "      <th>1</th>\n",
       "      <td>2</td>\n",
       "      <td>4418</td>\n",
       "    </tr>\n",
       "    <tr>\n",
       "      <th>2</th>\n",
       "      <td>3</td>\n",
       "      <td>4283</td>\n",
       "    </tr>\n",
       "    <tr>\n",
       "      <th>3</th>\n",
       "      <td>4</td>\n",
       "      <td>3611</td>\n",
       "    </tr>\n",
       "    <tr>\n",
       "      <th>4</th>\n",
       "      <td>5</td>\n",
       "      <td>5255</td>\n",
       "    </tr>\n",
       "    <tr>\n",
       "      <th>5</th>\n",
       "      <td>6</td>\n",
       "      <td>4718</td>\n",
       "    </tr>\n",
       "    <tr>\n",
       "      <th>6</th>\n",
       "      <td>7</td>\n",
       "      <td>5297</td>\n",
       "    </tr>\n",
       "    <tr>\n",
       "      <th>7</th>\n",
       "      <td>8</td>\n",
       "      <td>5589</td>\n",
       "    </tr>\n",
       "    <tr>\n",
       "      <th>8</th>\n",
       "      <td>9</td>\n",
       "      <td>4681</td>\n",
       "    </tr>\n",
       "    <tr>\n",
       "      <th>9</th>\n",
       "      <td>10</td>\n",
       "      <td>5599</td>\n",
       "    </tr>\n",
       "    <tr>\n",
       "      <th>10</th>\n",
       "      <td>11</td>\n",
       "      <td>4501</td>\n",
       "    </tr>\n",
       "    <tr>\n",
       "      <th>11</th>\n",
       "      <td>12</td>\n",
       "      <td>3786</td>\n",
       "    </tr>\n",
       "  </tbody>\n",
       "</table>\n",
       "</div>"
      ],
      "text/plain": [
       "    Month  Count\n",
       "0       1   4798\n",
       "1       2   4418\n",
       "2       3   4283\n",
       "3       4   3611\n",
       "4       5   5255\n",
       "5       6   4718\n",
       "6       7   5297\n",
       "7       8   5589\n",
       "8       9   4681\n",
       "9      10   5599\n",
       "10     11   4501\n",
       "11     12   3786"
      ]
     },
     "execution_count": 363,
     "metadata": {},
     "output_type": "execute_result"
    }
   ],
   "source": [
    "d = []\n",
    "for i in range(1, 13):\n",
    "    d.append(\n",
    "        {\n",
    "            'Month': i,\n",
    "            'Count': temporal_df[(temporal_df[\"month\"] == i)].month.count()\n",
    "        }\n",
    "    )\n",
    "year = pd.DataFrame(d)\n",
    "year"
   ]
  },
  {
   "cell_type": "code",
   "execution_count": 336,
   "id": "7b547a10",
   "metadata": {},
   "outputs": [],
   "source": [
    "d18 = []\n",
    "for i in range(1, 13):\n",
    "    d18.append(\n",
    "        {\n",
    "            'Month': i,\n",
    "            'Count': temporal_df[(temporal_df[\"month\"] == i) & (temporal_df[\"year\"] == 2018)].month.count()\n",
    "        }\n",
    "    )\n",
    "year18 = pd.DataFrame(d18)\n",
    "# year18"
   ]
  },
  {
   "cell_type": "code",
   "execution_count": 337,
   "id": "23edc706",
   "metadata": {},
   "outputs": [],
   "source": [
    "year18[\"Month\"] = year18[\"Month\"].apply(lambda x: month_dict[x])"
   ]
  },
  {
   "cell_type": "code",
   "execution_count": 338,
   "id": "995bb8da",
   "metadata": {},
   "outputs": [
    {
     "data": {
      "image/png": "[encoded data removed]",
      "text/plain": [
       "<Figure size 1008x432 with 1 Axes>"
      ]
     },
     "metadata": {
      "needs_background": "light"
     },
     "output_type": "display_data"
    }
   ],
   "source": [
    "ax=year18.plot.bar(x='Month', y='Count', rot=0, figsize=(14,6))\n",
    "ax.set_title(\"Connections in Year 2018\",fontsize=16)\n",
    "plt.ylabel('Number of Connections', fontsize=14)\n",
    "plt.xlabel('Month', fontsize=14)\n",
    "#plt.savefig(\"yeardemand.pdf\")\n",
    "plt.show()"
   ]
  },
  {
   "cell_type": "code",
   "execution_count": 374,
   "id": "58dd25f6",
   "metadata": {
    "scrolled": true
   },
   "outputs": [
    {
     "data": {
      "text/html": [
       "<div>\n",
       "<style scoped>\n",
       "    .dataframe tbody tr th:only-of-type {\n",
       "        vertical-align: middle;\n",
       "    }\n",
       "\n",
       "    .dataframe tbody tr th {\n",
       "        vertical-align: top;\n",
       "    }\n",
       "\n",
       "    .dataframe thead th {\n",
       "        text-align: right;\n",
       "    }\n",
       "</style>\n",
       "<table border=\"1\" class=\"dataframe\">\n",
       "  <thead>\n",
       "    <tr style=\"text-align: right;\">\n",
       "      <th></th>\n",
       "      <th>Month</th>\n",
       "      <th>Count</th>\n",
       "    </tr>\n",
       "  </thead>\n",
       "  <tbody>\n",
       "    <tr>\n",
       "      <th>0</th>\n",
       "      <td>1</td>\n",
       "      <td>2303</td>\n",
       "    </tr>\n",
       "    <tr>\n",
       "      <th>1</th>\n",
       "      <td>2</td>\n",
       "      <td>2167</td>\n",
       "    </tr>\n",
       "    <tr>\n",
       "      <th>2</th>\n",
       "      <td>3</td>\n",
       "      <td>2323</td>\n",
       "    </tr>\n",
       "    <tr>\n",
       "      <th>3</th>\n",
       "      <td>4</td>\n",
       "      <td>2479</td>\n",
       "    </tr>\n",
       "    <tr>\n",
       "      <th>4</th>\n",
       "      <td>5</td>\n",
       "      <td>2494</td>\n",
       "    </tr>\n",
       "    <tr>\n",
       "      <th>5</th>\n",
       "      <td>6</td>\n",
       "      <td>1556</td>\n",
       "    </tr>\n",
       "    <tr>\n",
       "      <th>6</th>\n",
       "      <td>7</td>\n",
       "      <td>1942</td>\n",
       "    </tr>\n",
       "    <tr>\n",
       "      <th>7</th>\n",
       "      <td>8</td>\n",
       "      <td>1972</td>\n",
       "    </tr>\n",
       "    <tr>\n",
       "      <th>8</th>\n",
       "      <td>9</td>\n",
       "      <td>1930</td>\n",
       "    </tr>\n",
       "    <tr>\n",
       "      <th>9</th>\n",
       "      <td>10</td>\n",
       "      <td>2199</td>\n",
       "    </tr>\n",
       "    <tr>\n",
       "      <th>10</th>\n",
       "      <td>11</td>\n",
       "      <td>1798</td>\n",
       "    </tr>\n",
       "    <tr>\n",
       "      <th>11</th>\n",
       "      <td>12</td>\n",
       "      <td>1440</td>\n",
       "    </tr>\n",
       "  </tbody>\n",
       "</table>\n",
       "</div>"
      ],
      "text/plain": [
       "    Month  Count\n",
       "0       1   2303\n",
       "1       2   2167\n",
       "2       3   2323\n",
       "3       4   2479\n",
       "4       5   2494\n",
       "5       6   1556\n",
       "6       7   1942\n",
       "7       8   1972\n",
       "8       9   1930\n",
       "9      10   2199\n",
       "10     11   1798\n",
       "11     12   1440"
      ]
     },
     "execution_count": 374,
     "metadata": {},
     "output_type": "execute_result"
    }
   ],
   "source": [
    "d19 = []\n",
    "for i in range(1, 13):\n",
    "    d19.append(\n",
    "        {\n",
    "            'Month': i,\n",
    "            'Count': temporal_df[(temporal_df[\"month\"] == i) & (temporal_df[\"year\"] == 2019)].month.count()\n",
    "        }\n",
    "    )\n",
    "year19 = pd.DataFrame(d19)\n",
    "year19"
   ]
  },
  {
   "cell_type": "code",
   "execution_count": 375,
   "id": "439db34c",
   "metadata": {},
   "outputs": [],
   "source": [
    "year19[\"Month\"] = year19[\"Month\"].apply(lambda x: month_dict[x])"
   ]
  },
  {
   "cell_type": "code",
   "execution_count": 376,
   "id": "6e60f2a7",
   "metadata": {},
   "outputs": [
    {
     "data": {
      "image/png": "[encoded data removed]",
      "text/plain": [
       "<Figure size 1008x432 with 1 Axes>"
      ]
     },
     "metadata": {
      "needs_background": "light"
     },
     "output_type": "display_data"
    }
   ],
   "source": [
    "ax=year19.plot.bar(x='Month', y='Count', rot=0, figsize=(14,6))\n",
    "ax.set_title(\"Connections in Year 2019\",fontsize=16)\n",
    "plt.ylabel('Number of Connections', fontsize=14)\n",
    "plt.xlabel('Month', fontsize=14)\n",
    "#plt.savefig(\"yeardemand.pdf\")\n",
    "plt.show()"
   ]
  },
  {
   "cell_type": "code",
   "execution_count": 342,
   "id": "8ba09607",
   "metadata": {},
   "outputs": [],
   "source": [
    "d20 = []\n",
    "for i in range(1, 13):\n",
    "    d20.append(\n",
    "        {\n",
    "            'Month': i,\n",
    "            'Count': temporal_df[(temporal_df[\"month\"] == i) & (temporal_df[\"year\"] == 2020)].month.count()\n",
    "        }\n",
    "    )\n",
    "year20 = pd.DataFrame(d20)\n",
    "# year20"
   ]
  },
  {
   "cell_type": "code",
   "execution_count": 343,
   "id": "ed8b7458",
   "metadata": {},
   "outputs": [],
   "source": [
    "year20[\"Month\"] = year20[\"Month\"].apply(lambda x: month_dict[x])"
   ]
  },
  {
   "cell_type": "code",
   "execution_count": 344,
   "id": "a77705b2",
   "metadata": {},
   "outputs": [
    {
     "data": {
      "image/png": "[encoded data removed]",
      "text/plain": [
       "<Figure size 1008x432 with 1 Axes>"
      ]
     },
     "metadata": {
      "needs_background": "light"
     },
     "output_type": "display_data"
    }
   ],
   "source": [
    "ax=year20.plot.bar(x='Month', y='Count', rot=0, figsize=(14,6))\n",
    "ax.set_title(\"Connections in Year 2020\",fontsize=16)\n",
    "plt.ylabel('Number of Connections', fontsize=14)\n",
    "plt.xlabel('Month', fontsize=14)\n",
    "#plt.savefig(\"yeardemand.pdf\")\n",
    "plt.show()"
   ]
  },
  {
   "cell_type": "code",
   "execution_count": 345,
   "id": "e85c12e9",
   "metadata": {
    "scrolled": true
   },
   "outputs": [],
   "source": [
    "d21 = []\n",
    "for i in range(1, 13):\n",
    "    d21.append(\n",
    "        {\n",
    "            'Month': i,\n",
    "            'Count': temporal_df[(temporal_df[\"month\"] == i) & (temporal_df[\"year\"] == 2021)].month.count()\n",
    "        }\n",
    "    )\n",
    "year21 = pd.DataFrame(d21)\n",
    "#year21"
   ]
  },
  {
   "cell_type": "code",
   "execution_count": 346,
   "id": "42ec929e",
   "metadata": {},
   "outputs": [],
   "source": [
    "year21[\"Month\"] = year21[\"Month\"].apply(lambda x: month_dict[x])"
   ]
  },
  {
   "cell_type": "code",
   "execution_count": 347,
   "id": "00590027",
   "metadata": {},
   "outputs": [
    {
     "data": {
      "image/png": "[encoded data removed]",
      "text/plain": [
       "<Figure size 1008x432 with 1 Axes>"
      ]
     },
     "metadata": {
      "needs_background": "light"
     },
     "output_type": "display_data"
    }
   ],
   "source": [
    "ax=year21.plot.bar(x='Month', y='Count', rot=0, figsize=(14,6))\n",
    "ax.set_title(\"Connections in Year 2021\",fontsize=16)\n",
    "plt.ylabel('Number of Connections', fontsize=14)\n",
    "plt.xlabel('Month', fontsize=14)\n",
    "#plt.savefig(\"yeardemand.pdf\")\n",
    "plt.show()"
   ]
  },
  {
   "cell_type": "code",
   "execution_count": 359,
   "id": "7e4a764e",
   "metadata": {},
   "outputs": [
    {
     "data": {
      "image/png": "[encoded data removed]",
      "text/plain": [
       "<Figure size 1008x720 with 4 Axes>"
      ]
     },
     "metadata": {
      "needs_background": "light"
     },
     "output_type": "display_data"
    }
   ],
   "source": [
    "fig, ((ax1, ax2), (ax3, ax4)) = plt.subplots(nrows=2, ncols=2, figsize=(14, 10))\n",
    "\n",
    "# Plot for Year 2018\n",
    "year18.plot.bar(x='Month', y='Count', rot=0, ax=ax1)\n",
    "ax1.set_title(\"Connections in Year 2018\", fontsize=16)\n",
    "ax1.set_ylabel('Number of Connections', fontsize=14)\n",
    "ax1.set_xlabel('Month', fontsize=14)\n",
    "\n",
    "# Plot for Year 2019\n",
    "year19.plot.bar(x='Month', y='Count', rot=0, ax=ax2)\n",
    "ax2.set_title(\"Connections in Year 2019\", fontsize=16)\n",
    "ax2.set_ylabel('Number of Connections', fontsize=14)\n",
    "ax2.set_xlabel('Month', fontsize=14)\n",
    "\n",
    "# Plot for Year 2020\n",
    "year20.plot.bar(x='Month', y='Count', rot=0, ax=ax3)\n",
    "ax3.set_title(\"Connections in Year 2020\", fontsize=16)\n",
    "ax3.set_ylabel('Number of Connections', fontsize=14)\n",
    "ax3.set_xlabel('Month', fontsize=14)\n",
    "\n",
    "# Plot for Year 2019\n",
    "year21.plot.bar(x='Month', y='Count', rot=0, ax=ax4)\n",
    "ax4.set_title(\"Connections in Year 2021\", fontsize=16)\n",
    "ax4.set_ylabel('Number of Connections', fontsize=14)\n",
    "ax4.set_xlabel('Month', fontsize=14)\n",
    "\n",
    "plt.tight_layout()\n",
    "plt.show()"
   ]
  },
  {
   "cell_type": "code",
   "execution_count": 349,
   "id": "cde575eb",
   "metadata": {},
   "outputs": [
    {
     "data": {
      "image/png": "[encoded data removed]",
      "text/plain": [
       "<Figure size 1152x576 with 1 Axes>"
      ]
     },
     "metadata": {
      "needs_background": "light"
     },
     "output_type": "display_data"
    }
   ],
   "source": [
    "bar_width = 0.4\n",
    "# Positions of the bars on the x-axis\n",
    "r = np.arange(len(year18['Month']))\n",
    "\n",
    "fig, ax = plt.subplots(figsize=(16, 8))\n",
    "\n",
    "# Plot for Years\n",
    "ax.bar(r - 2* bar_width/4, year18['Count'], color='blue', width=bar_width/4, edgecolor='grey', label='Year 2018', alpha=0.25)\n",
    "ax.bar(r - bar_width/4, year19['Count'], color='blue', width=bar_width/4, edgecolor='grey', label='Year 2019', alpha=0.5)\n",
    "ax.bar(r + bar_width/4, year19['Count'], color='blue', width=bar_width/4, edgecolor='grey', label='Year 2020', alpha=0.75)\n",
    "ax.bar(r + 2* bar_width/4, year19['Count'], color='blue', width=bar_width/4, edgecolor='grey', label='Year 2021', alpha=1.0)\n",
    "\n",
    "ax.set_title(\"Connections in all Years\", fontsize=16)\n",
    "ax.set_ylabel('Number of Connections', fontsize=14)\n",
    "ax.set_xlabel('Month', fontsize=14)\n",
    "ax.set_xticks(r)\n",
    "ax.set_xticklabels(year18['Month'])\n",
    "ax.legend()\n",
    "\n",
    "plt.show()"
   ]
  },
  {
   "cell_type": "code",
   "execution_count": 350,
   "id": "6ec6bd10",
   "metadata": {},
   "outputs": [
    {
     "data": {
      "image/png": "[encoded data removed]",
      "text/plain": [
       "<Figure size 1008x432 with 1 Axes>"
      ]
     },
     "metadata": {
      "needs_background": "light"
     },
     "output_type": "display_data"
    }
   ],
   "source": [
    "# Plot 2018\n",
    "ax = year18.plot.bar(x='Month', y='Count', rot=0, color='orange', figsize=(14, 6), label='Year 2018', alpha=0.25)\n",
    "\n",
    "year19.plot.bar(x='Month', y='Count', rot=0, ax=ax, color='orange', label='Year 2019', alpha=0.50)\n",
    "year20.plot.bar(x='Month', y='Count', rot=0, ax=ax, color='orange', label='Year 2020', alpha=0.75)\n",
    "year21.plot.bar(x='Month', y='Count', rot=0, ax=ax, color='orange', label='Year 2021', alpha=1)\n",
    "\n",
    "ax.set_title(\"Connections in all Years\", fontsize=16)\n",
    "ax.set_ylabel('Number of Connections', fontsize=14)\n",
    "ax.set_xlabel('Month', fontsize=14)\n",
    "ax.legend()\n",
    "\n",
    "plt.show()"
   ]
  },
  {
   "cell_type": "markdown",
   "id": "6d19aac5",
   "metadata": {},
   "source": [
    "### Connections per Season"
   ]
  },
  {
   "cell_type": "code",
   "execution_count": 361,
   "id": "2ec3a48a",
   "metadata": {},
   "outputs": [
    {
     "data": {
      "text/html": [
       "<div>\n",
       "<style scoped>\n",
       "    .dataframe tbody tr th:only-of-type {\n",
       "        vertical-align: middle;\n",
       "    }\n",
       "\n",
       "    .dataframe tbody tr th {\n",
       "        vertical-align: top;\n",
       "    }\n",
       "\n",
       "    .dataframe thead th {\n",
       "        text-align: right;\n",
       "    }\n",
       "</style>\n",
       "<table border=\"1\" class=\"dataframe\">\n",
       "  <thead>\n",
       "    <tr style=\"text-align: right;\">\n",
       "      <th></th>\n",
       "      <th>Season</th>\n",
       "      <th>Count</th>\n",
       "    </tr>\n",
       "  </thead>\n",
       "  <tbody>\n",
       "    <tr>\n",
       "      <th>0</th>\n",
       "      <td>Winter</td>\n",
       "      <td>1928</td>\n",
       "    </tr>\n",
       "    <tr>\n",
       "      <th>1</th>\n",
       "      <td>Spring</td>\n",
       "      <td>2025</td>\n",
       "    </tr>\n",
       "    <tr>\n",
       "      <th>2</th>\n",
       "      <td>Summer</td>\n",
       "      <td>6326</td>\n",
       "    </tr>\n",
       "    <tr>\n",
       "      <th>3</th>\n",
       "      <td>Autumn</td>\n",
       "      <td>8515</td>\n",
       "    </tr>\n",
       "  </tbody>\n",
       "</table>\n",
       "</div>"
      ],
      "text/plain": [
       "   Season  Count\n",
       "0  Winter   1928\n",
       "1  Spring   2025\n",
       "2  Summer   6326\n",
       "3  Autumn   8515"
      ]
     },
     "execution_count": 361,
     "metadata": {},
     "output_type": "execute_result"
    }
   ],
   "source": [
    "# Create new Dataframe for the seasons and count connections with respect to the season.\n",
    "\n",
    "seasons = pd.DataFrame()\n",
    "\n",
    "seasons['Season'] = [\"Winter\", \"Spring\", \"Summer\", \"Autumn\"]\n",
    "seasons['Count'] = [year[year[\"Month\"]==\"Dec\"].Count.iloc[0] + year[year[\"Month\"]==\"Jan\"].Count.iloc[0] + year[year[\"Month\"]==\"Feb\"].Count.iloc[0],\n",
    "                    year[year[\"Month\"]==\"Mar\"].Count.iloc[0] + year[year[\"Month\"]==\"Apr\"].Count.iloc[0] + year[year[\"Month\"]==\"May\"].Count.iloc[0],\n",
    "                    year[year[\"Month\"]==\"Jun\"].Count.iloc[0] + year[year[\"Month\"]==\"Jul\"].Count.iloc[0] + year[year[\"Month\"]==\"Aug\"].Count.iloc[0],\n",
    "                    year[year[\"Month\"]==\"Sep\"].Count.iloc[0] + year[year[\"Month\"]==\"Oct\"].Count.iloc[0] + year[year[\"Month\"]==\"Nov\"].Count.iloc[0]\n",
    "                   ]\n",
    "seasons"
   ]
  },
  {
   "cell_type": "code",
   "execution_count": 352,
   "id": "104219c3",
   "metadata": {
    "scrolled": false
   },
   "outputs": [
    {
     "data": {
      "image/png": "[encoded data removed]",
      "text/plain": [
       "<Figure size 1008x432 with 1 Axes>"
      ]
     },
     "metadata": {
      "needs_background": "light"
     },
     "output_type": "display_data"
    }
   ],
   "source": [
    "ax=seasons.plot.bar(x='Season', y='Count', rot=0, figsize=(14,6))\n",
    "ax.set_title(\"Connections per Season\",fontsize=16)\n",
    "plt.ylabel('Number of Connections', fontsize=14)\n",
    "plt.xlabel('Season', fontsize=14)\n",
    "plt.show()"
   ]
  },
  {
   "cell_type": "code",
   "execution_count": 364,
   "id": "83390e65",
   "metadata": {},
   "outputs": [
    {
     "data": {
      "text/html": [
       "<div>\n",
       "<style scoped>\n",
       "    .dataframe tbody tr th:only-of-type {\n",
       "        vertical-align: middle;\n",
       "    }\n",
       "\n",
       "    .dataframe tbody tr th {\n",
       "        vertical-align: top;\n",
       "    }\n",
       "\n",
       "    .dataframe thead th {\n",
       "        text-align: right;\n",
       "    }\n",
       "</style>\n",
       "<table border=\"1\" class=\"dataframe\">\n",
       "  <thead>\n",
       "    <tr style=\"text-align: right;\">\n",
       "      <th></th>\n",
       "      <th>Season</th>\n",
       "      <th>Count</th>\n",
       "    </tr>\n",
       "  </thead>\n",
       "  <tbody>\n",
       "    <tr>\n",
       "      <th>0</th>\n",
       "      <td>Winter</td>\n",
       "      <td>1889</td>\n",
       "    </tr>\n",
       "    <tr>\n",
       "      <th>1</th>\n",
       "      <td>Spring</td>\n",
       "      <td>1934</td>\n",
       "    </tr>\n",
       "    <tr>\n",
       "      <th>2</th>\n",
       "      <td>Summer</td>\n",
       "      <td>6031</td>\n",
       "    </tr>\n",
       "    <tr>\n",
       "      <th>3</th>\n",
       "      <td>Autumn</td>\n",
       "      <td>8081</td>\n",
       "    </tr>\n",
       "  </tbody>\n",
       "</table>\n",
       "</div>"
      ],
      "text/plain": [
       "   Season  Count\n",
       "0  Winter   1889\n",
       "1  Spring   1934\n",
       "2  Summer   6031\n",
       "3  Autumn   8081"
      ]
     },
     "execution_count": 364,
     "metadata": {},
     "output_type": "execute_result"
    }
   ],
   "source": [
    "# Create new Dataframe for the seasons and count connections with respect to the season.\n",
    "\n",
    "seasons18 = pd.DataFrame()\n",
    "\n",
    "seasons18['Season'] = [\"Winter\", \"Spring\", \"Summer\", \"Autumn\"]\n",
    "seasons18['Count'] = [year18[year18[\"Month\"]==\"Dec\"].Count.iloc[0] + year18[year18[\"Month\"]==\"Jan\"].Count.iloc[0] + year18[year18[\"Month\"]==\"Feb\"].Count.iloc[0],\n",
    "                    year18[year18[\"Month\"]==\"Mar\"].Count.iloc[0] + year18[year18[\"Month\"]==\"Apr\"].Count.iloc[0] + year18[year18[\"Month\"]==\"May\"].Count.iloc[0],\n",
    "                    year18[year18[\"Month\"]==\"Jun\"].Count.iloc[0] + year18[year18[\"Month\"]==\"Jul\"].Count.iloc[0] + year18[year18[\"Month\"]==\"Aug\"].Count.iloc[0],\n",
    "                    year18[year18[\"Month\"]==\"Sep\"].Count.iloc[0] + year18[year18[\"Month\"]==\"Oct\"].Count.iloc[0] + year18[year18[\"Month\"]==\"Nov\"].Count.iloc[0]\n",
    "                   ]\n",
    "seasons18"
   ]
  },
  {
   "cell_type": "code",
   "execution_count": 368,
   "id": "415144f1",
   "metadata": {},
   "outputs": [
    {
     "data": {
      "image/png": "[encoded data removed]",
      "text/plain": [
       "<Figure size 1008x432 with 1 Axes>"
      ]
     },
     "metadata": {
      "needs_background": "light"
     },
     "output_type": "display_data"
    }
   ],
   "source": [
    "ax=seasons18.plot.bar(x='Season', y='Count', rot=0, figsize=(14,6))\n",
    "ax.set_title(\"Connections per Season\",fontsize=16)\n",
    "plt.ylabel('Number of Connections', fontsize=14)\n",
    "plt.xlabel('Season', fontsize=14)\n",
    "plt.show()"
   ]
  },
  {
   "cell_type": "code",
   "execution_count": 377,
   "id": "c9543071",
   "metadata": {},
   "outputs": [
    {
     "data": {
      "text/html": [
       "<div>\n",
       "<style scoped>\n",
       "    .dataframe tbody tr th:only-of-type {\n",
       "        vertical-align: middle;\n",
       "    }\n",
       "\n",
       "    .dataframe tbody tr th {\n",
       "        vertical-align: top;\n",
       "    }\n",
       "\n",
       "    .dataframe thead th {\n",
       "        text-align: right;\n",
       "    }\n",
       "</style>\n",
       "<table border=\"1\" class=\"dataframe\">\n",
       "  <thead>\n",
       "    <tr style=\"text-align: right;\">\n",
       "      <th></th>\n",
       "      <th>Season</th>\n",
       "      <th>Count</th>\n",
       "    </tr>\n",
       "  </thead>\n",
       "  <tbody>\n",
       "    <tr>\n",
       "      <th>0</th>\n",
       "      <td>Winter</td>\n",
       "      <td>5910</td>\n",
       "    </tr>\n",
       "    <tr>\n",
       "      <th>1</th>\n",
       "      <td>Spring</td>\n",
       "      <td>7296</td>\n",
       "    </tr>\n",
       "    <tr>\n",
       "      <th>2</th>\n",
       "      <td>Summer</td>\n",
       "      <td>5470</td>\n",
       "    </tr>\n",
       "    <tr>\n",
       "      <th>3</th>\n",
       "      <td>Autumn</td>\n",
       "      <td>5927</td>\n",
       "    </tr>\n",
       "  </tbody>\n",
       "</table>\n",
       "</div>"
      ],
      "text/plain": [
       "   Season  Count\n",
       "0  Winter   5910\n",
       "1  Spring   7296\n",
       "2  Summer   5470\n",
       "3  Autumn   5927"
      ]
     },
     "execution_count": 377,
     "metadata": {},
     "output_type": "execute_result"
    }
   ],
   "source": [
    "# Create new Dataframe for the seasons and count connections with respect to the season.\n",
    "\n",
    "seasons19 = pd.DataFrame()\n",
    "\n",
    "seasons19['Season'] = [\"Winter\", \"Spring\", \"Summer\", \"Autumn\"]\n",
    "seasons19['Count'] = [year19[year19[\"Month\"]==\"Dec\"].Count.iloc[0] + year19[year19[\"Month\"]==\"Jan\"].Count.iloc[0] + year19[year19[\"Month\"]==\"Feb\"].Count.iloc[0],\n",
    "                    year19[year19[\"Month\"]==\"Mar\"].Count.iloc[0] + year19[year19[\"Month\"]==\"Apr\"].Count.iloc[0] + year19[year19[\"Month\"]==\"May\"].Count.iloc[0],\n",
    "                    year19[year19[\"Month\"]==\"Jun\"].Count.iloc[0] + year19[year19[\"Month\"]==\"Jul\"].Count.iloc[0] + year19[year19[\"Month\"]==\"Aug\"].Count.iloc[0],\n",
    "                    year19[year19[\"Month\"]==\"Sep\"].Count.iloc[0] + year19[year19[\"Month\"]==\"Oct\"].Count.iloc[0] + year19[year19[\"Month\"]==\"Nov\"].Count.iloc[0]\n",
    "                   ]\n",
    "seasons19"
   ]
  },
  {
   "cell_type": "code",
   "execution_count": 378,
   "id": "6767ecc0",
   "metadata": {},
   "outputs": [
    {
     "data": {
      "image/png": "[encoded data removed]",
      "text/plain": [
       "<Figure size 1008x432 with 1 Axes>"
      ]
     },
     "metadata": {
      "needs_background": "light"
     },
     "output_type": "display_data"
    }
   ],
   "source": [
    "ax=seasons19.plot.bar(x='Season', y='Count', rot=0, figsize=(14,6))\n",
    "ax.set_title(\"Connections per Season\",fontsize=16)\n",
    "plt.ylabel('Number of Connections', fontsize=14)\n",
    "plt.xlabel('Season', fontsize=14)\n",
    "plt.show()"
   ]
  },
  {
   "cell_type": "code",
   "execution_count": 366,
   "id": "1c563f18",
   "metadata": {},
   "outputs": [
    {
     "data": {
      "text/html": [
       "<div>\n",
       "<style scoped>\n",
       "    .dataframe tbody tr th:only-of-type {\n",
       "        vertical-align: middle;\n",
       "    }\n",
       "\n",
       "    .dataframe tbody tr th {\n",
       "        vertical-align: top;\n",
       "    }\n",
       "\n",
       "    .dataframe thead th {\n",
       "        text-align: right;\n",
       "    }\n",
       "</style>\n",
       "<table border=\"1\" class=\"dataframe\">\n",
       "  <thead>\n",
       "    <tr style=\"text-align: right;\">\n",
       "      <th></th>\n",
       "      <th>Season</th>\n",
       "      <th>Count</th>\n",
       "    </tr>\n",
       "  </thead>\n",
       "  <tbody>\n",
       "    <tr>\n",
       "      <th>0</th>\n",
       "      <td>Winter</td>\n",
       "      <td>4048</td>\n",
       "    </tr>\n",
       "    <tr>\n",
       "      <th>1</th>\n",
       "      <td>Spring</td>\n",
       "      <td>1473</td>\n",
       "    </tr>\n",
       "    <tr>\n",
       "      <th>2</th>\n",
       "      <td>Summer</td>\n",
       "      <td>951</td>\n",
       "    </tr>\n",
       "    <tr>\n",
       "      <th>3</th>\n",
       "      <td>Autumn</td>\n",
       "      <td>177</td>\n",
       "    </tr>\n",
       "  </tbody>\n",
       "</table>\n",
       "</div>"
      ],
      "text/plain": [
       "   Season  Count\n",
       "0  Winter   4048\n",
       "1  Spring   1473\n",
       "2  Summer    951\n",
       "3  Autumn    177"
      ]
     },
     "execution_count": 366,
     "metadata": {},
     "output_type": "execute_result"
    }
   ],
   "source": [
    "# Create new Dataframe for the seasons and count connections with respect to the season.\n",
    "\n",
    "seasons20 = pd.DataFrame()\n",
    "\n",
    "seasons20['Season'] = [\"Winter\", \"Spring\", \"Summer\", \"Autumn\"]\n",
    "seasons20['Count'] = [year20[year20[\"Month\"]==\"Dec\"].Count.iloc[0] + year20[year20[\"Month\"]==\"Jan\"].Count.iloc[0] + year20[year20[\"Month\"]==\"Feb\"].Count.iloc[0],\n",
    "                    year20[year20[\"Month\"]==\"Mar\"].Count.iloc[0] + year20[year20[\"Month\"]==\"Apr\"].Count.iloc[0] + year20[year20[\"Month\"]==\"May\"].Count.iloc[0],\n",
    "                    year20[year20[\"Month\"]==\"Jun\"].Count.iloc[0] + year20[year20[\"Month\"]==\"Jul\"].Count.iloc[0] + year20[year20[\"Month\"]==\"Aug\"].Count.iloc[0],\n",
    "                    year20[year20[\"Month\"]==\"Sep\"].Count.iloc[0] + year20[year20[\"Month\"]==\"Oct\"].Count.iloc[0] + year20[year20[\"Month\"]==\"Nov\"].Count.iloc[0]\n",
    "                   ]\n",
    "seasons20"
   ]
  },
  {
   "cell_type": "code",
   "execution_count": 379,
   "id": "d6c9c3db",
   "metadata": {},
   "outputs": [
    {
     "data": {
      "image/png": "[encoded data removed]",
      "text/plain": [
       "<Figure size 1008x432 with 1 Axes>"
      ]
     },
     "metadata": {
      "needs_background": "light"
     },
     "output_type": "display_data"
    }
   ],
   "source": [
    "ax=seasons20.plot.bar(x='Season', y='Count', rot=0, figsize=(14,6))\n",
    "ax.set_title(\"Connections per Season\",fontsize=16)\n",
    "plt.ylabel('Number of Connections', fontsize=14)\n",
    "plt.xlabel('Season', fontsize=14)\n",
    "plt.show()"
   ]
  },
  {
   "cell_type": "code",
   "execution_count": 367,
   "id": "770af79d",
   "metadata": {},
   "outputs": [
    {
     "data": {
      "text/html": [
       "<div>\n",
       "<style scoped>\n",
       "    .dataframe tbody tr th:only-of-type {\n",
       "        vertical-align: middle;\n",
       "    }\n",
       "\n",
       "    .dataframe tbody tr th {\n",
       "        vertical-align: top;\n",
       "    }\n",
       "\n",
       "    .dataframe thead th {\n",
       "        text-align: right;\n",
       "    }\n",
       "</style>\n",
       "<table border=\"1\" class=\"dataframe\">\n",
       "  <thead>\n",
       "    <tr style=\"text-align: right;\">\n",
       "      <th></th>\n",
       "      <th>Season</th>\n",
       "      <th>Count</th>\n",
       "    </tr>\n",
       "  </thead>\n",
       "  <tbody>\n",
       "    <tr>\n",
       "      <th>0</th>\n",
       "      <td>Winter</td>\n",
       "      <td>1155</td>\n",
       "    </tr>\n",
       "    <tr>\n",
       "      <th>1</th>\n",
       "      <td>Spring</td>\n",
       "      <td>2446</td>\n",
       "    </tr>\n",
       "    <tr>\n",
       "      <th>2</th>\n",
       "      <td>Summer</td>\n",
       "      <td>3152</td>\n",
       "    </tr>\n",
       "    <tr>\n",
       "      <th>3</th>\n",
       "      <td>Autumn</td>\n",
       "      <td>596</td>\n",
       "    </tr>\n",
       "  </tbody>\n",
       "</table>\n",
       "</div>"
      ],
      "text/plain": [
       "   Season  Count\n",
       "0  Winter   1155\n",
       "1  Spring   2446\n",
       "2  Summer   3152\n",
       "3  Autumn    596"
      ]
     },
     "execution_count": 367,
     "metadata": {},
     "output_type": "execute_result"
    }
   ],
   "source": [
    "# Create new Dataframe for the seasons and count connections with respect to the season.\n",
    "\n",
    "seasons21 = pd.DataFrame()\n",
    "\n",
    "seasons21['Season'] = [\"Winter\", \"Spring\", \"Summer\", \"Autumn\"]\n",
    "seasons21['Count'] = [year21[year21[\"Month\"]==\"Dec\"].Count.iloc[0] + year21[year21[\"Month\"]==\"Jan\"].Count.iloc[0] + year21[year21[\"Month\"]==\"Feb\"].Count.iloc[0],\n",
    "                    year21[year21[\"Month\"]==\"Mar\"].Count.iloc[0] + year21[year21[\"Month\"]==\"Apr\"].Count.iloc[0] + year21[year21[\"Month\"]==\"May\"].Count.iloc[0],\n",
    "                    year21[year21[\"Month\"]==\"Jun\"].Count.iloc[0] + year21[year21[\"Month\"]==\"Jul\"].Count.iloc[0] + year21[year21[\"Month\"]==\"Aug\"].Count.iloc[0],\n",
    "                    year21[year21[\"Month\"]==\"Sep\"].Count.iloc[0] + year21[year21[\"Month\"]==\"Oct\"].Count.iloc[0] + year21[year21[\"Month\"]==\"Nov\"].Count.iloc[0]\n",
    "                   ]\n",
    "seasons21"
   ]
  },
  {
   "cell_type": "code",
   "execution_count": 380,
   "id": "cd70e561",
   "metadata": {},
   "outputs": [
    {
     "data": {
      "image/png": "[encoded data removed]",
      "text/plain": [
       "<Figure size 1008x432 with 1 Axes>"
      ]
     },
     "metadata": {
      "needs_background": "light"
     },
     "output_type": "display_data"
    }
   ],
   "source": [
    "ax=seasons21.plot.bar(x='Season', y='Count', rot=0, figsize=(14,6))\n",
    "ax.set_title(\"Connections per Season\",fontsize=16)\n",
    "plt.ylabel('Number of Connections', fontsize=14)\n",
    "plt.xlabel('Season', fontsize=14)\n",
    "plt.show()"
   ]
  },
  {
   "cell_type": "code",
   "execution_count": 382,
   "id": "faa5bc99",
   "metadata": {
    "scrolled": false
   },
   "outputs": [
    {
     "data": {
      "image/png": "[encoded data removed]",
      "text/plain": [
       "<Figure size 1008x720 with 4 Axes>"
      ]
     },
     "metadata": {
      "needs_background": "light"
     },
     "output_type": "display_data"
    }
   ],
   "source": [
    "fig, ((ax1, ax2), (ax3, ax4)) = plt.subplots(nrows=2, ncols=2, figsize=(14, 10))\n",
    "\n",
    "# Plot for Seasons 2018\n",
    "seasons18.plot.bar(x='Season', y='Count', rot=0, ax=ax1)\n",
    "ax1.set_title(\"Connections in Seasons of 2018\", fontsize=16)\n",
    "ax1.set_ylabel('Number of Connections', fontsize=14)\n",
    "ax1.set_xlabel('Season', fontsize=14)\n",
    "\n",
    "# Plot for Seasons 2019\n",
    "seasons19.plot.bar(x='Season', y='Count', rot=0, ax=ax2)\n",
    "ax2.set_title(\"Connections in Seasons of 2019\", fontsize=16)\n",
    "ax2.set_ylabel('Number of Connections', fontsize=14)\n",
    "ax2.set_xlabel('Season', fontsize=14)\n",
    "\n",
    "# Plot for Seasons 2020\n",
    "seasons20.plot.bar(x='Season', y='Count', rot=0, ax=ax3)\n",
    "ax3.set_title(\"Connections in Seasons of 2020\", fontsize=16)\n",
    "ax3.set_ylabel('Number of Connections', fontsize=14)\n",
    "ax3.set_xlabel('Season', fontsize=14)\n",
    "\n",
    "# Plot for Seasons 2019\n",
    "seasons21.plot.bar(x='Season', y='Count', rot=0, ax=ax4)\n",
    "ax4.set_title(\"Connections in Seasons of 2021\", fontsize=16)\n",
    "ax4.set_ylabel('Number of Connections', fontsize=14)\n",
    "ax4.set_xlabel('Season', fontsize=14)\n",
    "\n",
    "plt.tight_layout()\n",
    "plt.show()"
   ]
  },
  {
   "cell_type": "code",
   "execution_count": null,
   "id": "3388e898",
   "metadata": {},
   "outputs": [],
   "source": []
  },
  {
   "cell_type": "markdown",
   "id": "fcbfab7b",
   "metadata": {},
   "source": [
    "# TODO Seasons in die Variante von Year in einem Plot; aber Farben abändern"
   ]
  },
  {
   "cell_type": "code",
   "execution_count": null,
   "id": "128b5536",
   "metadata": {},
   "outputs": [],
   "source": []
  }
 ],
 "metadata": {
  "kernelspec": {
   "display_name": "Python 3",
   "language": "python",
   "name": "python3"
  },
  "language_info": {
   "codemirror_mode": {
    "name": "ipython",
    "version": 3
   },
   "file_extension": ".py",
   "mimetype": "text/x-python",
   "name": "python",
   "nbconvert_exporter": "python",
   "pygments_lexer": "ipython3",
   "version": "3.8.8"
  }
 },
 "nbformat": 4,
 "nbformat_minor": 5
}
