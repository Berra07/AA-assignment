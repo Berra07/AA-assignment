{
 "cells": [
  {
   "cell_type": "markdown",
   "id": "8f23f0c5-1dc1-4292-9905-f6dd180af4e6",
   "metadata": {},
   "source": [
    "    \"Quick Chargers\": Sessions with short durations and high charging rates.\n",
    "    \n",
    "    \"Extended Sessions\": Sessions that last longer and involve slower charging rates.\n",
    "    \n",
    "    \"Off-Peak Chargers\": Sessions that primarily occur during non-peak hours.\n",
    "    \n",
    "    \"Weekend Chargers\": Sessions that are more common on weekends.\n",
    "    \n",
    "    \"Rapid Chargers\": Sessions characterized by a high charging rate, regardless of duration.\n",
    "\n",
    "    \"Night Owls\": Charging sessions that predominantly occur during nighttime hours.\n",
    "\n",
    "    \"Daytime Chargers\": Sessions concentrated during daylight hours.\n",
    "\n",
    "    \"Intermittent Chargers\": Sessions with frequent start-stop patterns, suggesting sporadic usage.\n",
    "\n",
    "    \"High Utilizers\": Users or sessions with consistently high charging demand.\n",
    "\n",
    "    \"Low Utilizers\": Users or sessions with consistently low charging demand.\n",
    "\n",
    "    \"Morning Commuters\": Sessions that commonly occur during morning rush hours.\n",
    "\n",
    "    \"Afternoon Surges\": Clusters with increased charging demand in the afternoon.\n",
    "\n",
    "    \"Weekday Warriors\": High-demand sessions on weekdays, potentially indicating work-related charging.\n",
    "\n",
    "    \"Holiday Chargers\": Sessions with distinct patterns during public holidays.\n",
    "\n",
    "    \"Energy Savers\": Sessions that exhibit efforts to charge during lower energy cost periods.\n",
    "\n",
    "    \"Regular Routines\": Sessions with predictable and consistent patterns.\n",
    "\n",
    "    \"Irregular Patterns\": Clusters with unpredictable charging behavior.\n",
    "\n",
    "    \"Peak Load Chargers\": Sessions contributing to high energy demand during peak load times.\n",
    "\n",
    "    \"Efficiency Seekers\": Users optimizing for faster charging or energy efficiency."
   ]
  },
  {
   "cell_type": "code",
   "execution_count": null,
   "id": "14d5ba30-b43d-4e60-977f-87e1e93b39a9",
   "metadata": {},
   "outputs": [],
   "source": [
    "import pandas as pd\n",
    "import numpy as np\n",
    "from datetime import datetime, timedelta\n",
    "import seaborn as sns\n",
    "import matplotlib.pyplot as plt"
   ]
  },
  {
   "cell_type": "code",
   "execution_count": null,
   "id": "b8a36939-43c6-4fb3-a28f-b692125b3203",
   "metadata": {},
   "outputs": [],
   "source": [
    "original_data = pd.read_pickle(\"preparedData.pkl\")\n",
    "data = original_data.copy()"
   ]
  },
  {
   "cell_type": "code",
   "execution_count": null,
   "id": "9ba62452-76a4-4cf3-ba2f-2d3a9b452405",
   "metadata": {},
   "outputs": [],
   "source": [
    "print(data['connectionTime'].max())\n",
    "print(data['connectionTime'].min())"
   ]
  },
  {
   "cell_type": "code",
   "execution_count": null,
   "id": "8f1f45cb-0478-4293-8e74-b76f5647bf62",
   "metadata": {},
   "outputs": [],
   "source": [
    "data = data[(data['disconnectTime'] < \"2020-04-01\") ^ (data['disconnectTime'] >= \"2021-01-01\")].copy()\n",
    "data"
   ]
  },
  {
   "cell_type": "code",
   "execution_count": null,
   "id": "6073246f-83de-46f8-92f4-d04e623e0e0a",
   "metadata": {},
   "outputs": [],
   "source": [
    "print(data['connectionTime'].max())\n",
    "print(data['connectionTime'].min())"
   ]
  },
  {
   "cell_type": "code",
   "execution_count": null,
   "id": "99232f89-e444-49c3-ab7f-4f67fa650d0b",
   "metadata": {},
   "outputs": [],
   "source": [
    "data = data[data[\"siteID\"] == 1].copy()"
   ]
  },
  {
   "cell_type": "code",
   "execution_count": null,
   "id": "6407cfe5-40a1-438d-9efe-3a1a0293cb32",
   "metadata": {},
   "outputs": [],
   "source": [
    "data.info()"
   ]
  },
  {
   "cell_type": "code",
   "execution_count": null,
   "id": "21be1364-3e67-4376-a6ef-ad493095d466",
   "metadata": {},
   "outputs": [],
   "source": [
    "data.dropna(inplace=True)"
   ]
  },
  {
   "cell_type": "code",
   "execution_count": null,
   "id": "3dd77fe7-8e47-4e0e-9a8e-021707dc15e9",
   "metadata": {},
   "outputs": [],
   "source": [
    "data.info()"
   ]
  },
  {
   "cell_type": "code",
   "execution_count": null,
   "id": "4448c21b-ebb0-41d6-a10f-a7ec4183a331",
   "metadata": {},
   "outputs": [],
   "source": [
    "data['connectionTime'] = data['connectionTime'].dt.tz_convert(tz='Etc/GMT-8')\n",
    "data['disconnectTime'] = data['disconnectTime'].dt.tz_convert(tz='Etc/GMT-8')\n",
    "data['doneChargingTime'] = data['doneChargingTime'].dt.tz_convert(tz='Etc/GMT-8')\n",
    "data[\"ConnectionHour\"] = data['connectionTime'].dt.hour\n",
    "data[\"weekday\"] = data[\"connectionTime\"].dt.day_of_week"
   ]
  },
  {
   "cell_type": "code",
   "execution_count": null,
   "id": "5cf3b749-b299-47c3-a411-336ad25a5f25",
   "metadata": {},
   "outputs": [],
   "source": [
    "# Berechne die gesamte zur Verfügung stehende Zeit in der Woche in Minuten\n",
    "total_time_in_week = 7 * 24 * 60  # 7 Tage * 24 Stunden * 60 Minuten\n",
    "data[\"progressInWeek\"] = (data[\"weekday\"] * 24 * 60 + data[\"ConnectionHour\"] * 60 + data['connectionTime'].dt.minute) / total_time_in_week"
   ]
  },
  {
   "cell_type": "code",
   "execution_count": null,
   "id": "982ef63e-4469-481f-8163-1f2de4392c8c",
   "metadata": {},
   "outputs": [],
   "source": [
    "data"
   ]
  },
  {
   "cell_type": "code",
   "execution_count": null,
   "id": "97869993-b89b-485f-96ab-653cb1d6b454",
   "metadata": {},
   "outputs": [],
   "source": [
    "numeric_data = data.select_dtypes(include=[np.number])\n",
    "numeric_data.describe()"
   ]
  },
  {
   "cell_type": "code",
   "execution_count": null,
   "id": "b12a74e5-33ca-4061-ab70-1f6e2636c750",
   "metadata": {},
   "outputs": [],
   "source": [
    "# Calculate the correlation matrix\n",
    "correlation_matrix = numeric_data.corr()\n",
    "\n",
    "# Create a heatmap of the correlation matrix\n",
    "plt.figure(figsize=(10, 8))  # Adjust the figure size as needed\n",
    "sns.heatmap(correlation_matrix, annot=True, cmap='coolwarm', fmt=\".2f\")\n",
    "\n",
    "plt.title(\"Correlation Heatmap\")\n",
    "plt.show()"
   ]
  },
  {
   "cell_type": "code",
   "execution_count": null,
   "id": "9fa59018-1a59-44e9-8545-1ff36a2ca490",
   "metadata": {},
   "outputs": [],
   "source": [
    "correlation_matrix"
   ]
  },
  {
   "cell_type": "code",
   "execution_count": null,
   "id": "9cc1b0eb-0f47-491b-a3ac-9bbcba3bf867",
   "metadata": {},
   "outputs": [],
   "source": [
    "cluster_data = pd.DataFrame()\n",
    "cluster_data['progressInWeek'] = numeric_data['progressInWeek']\n",
    "cluster_data['kWhDelivered'] = numeric_data['kWhDelivered']"
   ]
  },
  {
   "cell_type": "code",
   "execution_count": null,
   "id": "baafc646-491d-499b-b997-46b1c50c30c4",
   "metadata": {},
   "outputs": [],
   "source": [
    "cluster_data"
   ]
  },
  {
   "cell_type": "code",
   "execution_count": null,
   "id": "1d996d6d-29bd-4448-b3c7-ee8f1adf9984",
   "metadata": {},
   "outputs": [],
   "source": [
    "# Calculate the correlation matrix\n",
    "correlation_matrix = cluster_data.corr()\n",
    "\n",
    "# Create a heatmap of the correlation matrix\n",
    "plt.figure(figsize=(10, 8))  # Adjust the figure size as needed\n",
    "sns.heatmap(correlation_matrix, annot=True, cmap='coolwarm', fmt=\".2f\")\n",
    "\n",
    "plt.title(\"Correlation Heatmap\")\n",
    "plt.show()"
   ]
  },
  {
   "cell_type": "code",
   "execution_count": null,
   "id": "7b8a36b5-5b30-456f-a9c3-c041d9ae6aaa",
   "metadata": {},
   "outputs": [],
   "source": [
    "from sklearn.preprocessing import StandardScaler\n",
    "scaler = StandardScaler()\n",
    "scaler.fit(cluster_data)\n",
    "cluster_data_scaled = scaler.transform(cluster_data)\n",
    "cluster_data_scaled_df = pd.DataFrame(cluster_data_scaled, columns=cluster_data.columns, index=cluster_data.index)\n",
    "cluster_data_scaled_df.describe()"
   ]
  },
  {
   "cell_type": "code",
   "execution_count": null,
   "id": "3d6808c9-4c36-4025-8ba0-86a1dc44f2ec",
   "metadata": {},
   "outputs": [],
   "source": [
    "from sklearn.cluster import KMeans"
   ]
  },
  {
   "cell_type": "code",
   "execution_count": null,
   "id": "1a9e5636-ac27-4256-acc9-33fbe1d3ce0f",
   "metadata": {},
   "outputs": [],
   "source": [
    "k_max = 25  # We have a lot of datapoints, however more than 25 clusters are definitely\n",
    "            # not reasonable!"
   ]
  },
  {
   "cell_type": "code",
   "execution_count": null,
   "id": "86f84d29-9bb6-4e43-9468-7396807c35c6",
   "metadata": {},
   "outputs": [],
   "source": [
    "#These lines initialize two empty lists to store the number of clusters (clusters) and the\n",
    "#corresponding inertia (sum of squared distances to the nearest cluster center) for each k value (losses)\n",
    "clusters = []\n",
    "losses = []\n",
    "\n",
    "#This is a loop that iterates over different values of k\n",
    "for k in range(k_max):\n",
    "    #For each k, a new instance of the KMeans clustering algorithm is created. The n_clusters parameter is set to k+1 to specify the number of clusters, and n_init='auto' indicates\n",
    "    #that the algorithm should automatically choose the number of initializations for the centroids\n",
    "    model = KMeans(n_clusters=k+1, n_init='auto')\n",
    "    model.fit(cluster_data_scaled)\n",
    "    clusters.append(k+1)\n",
    "\n",
    "    #The inertia of the fitted model is calculated using the inertia_ attribute, representing the sum of squared distances to the nearest cluster center.\n",
    "    #This value is then appended to the losses list\n",
    "    losses.append(model.inertia_)"
   ]
  },
  {
   "cell_type": "code",
   "execution_count": null,
   "id": "9ae012be-abc2-4905-bcb2-ed99ee31217d",
   "metadata": {},
   "outputs": [],
   "source": [
    "plt.plot(clusters, losses)\n",
    "plt.ylabel(\"Loss\")\n",
    "plt.xlabel(\"Number of clusters\")\n",
    "plt.show()"
   ]
  },
  {
   "cell_type": "code",
   "execution_count": null,
   "id": "7dea5d31-eaa2-4ac3-a0cf-416b114435b9",
   "metadata": {},
   "outputs": [],
   "source": [
    "plt.plot(clusters, losses)\n",
    "plt.ylabel(\"Loss\")\n",
    "plt.xlabel(\"Number of clusters\")\n",
    "plt.xlim([0,15])"
   ]
  },
  {
   "cell_type": "code",
   "execution_count": null,
   "id": "b2c6a8fe-fff6-4d67-b43d-66b9d84b3532",
   "metadata": {},
   "outputs": [],
   "source": [
    "plt.plot(clusters, losses)\n",
    "plt.ylabel(\"Loss\")\n",
    "plt.xlabel(\"Number of clusters\")\n",
    "plt.xlim([0,6])"
   ]
  },
  {
   "cell_type": "code",
   "execution_count": null,
   "id": "f68ff87b-932b-4fc6-94a5-77e7c1208db4",
   "metadata": {},
   "outputs": [],
   "source": [
    "numbers = [\"zero\", \"one\", \"two\"]\n",
    "\n",
    "sessions_scaled = cluster_data_scaled_df.copy()\n",
    "three_means = KMeans(n_clusters=3, n_init='auto')\n",
    "three_means.fit(cluster_data_scaled)"
   ]
  },
  {
   "cell_type": "code",
   "execution_count": null,
   "id": "1f3534ad-e42d-4373-ad50-a54b5b7e76ed",
   "metadata": {},
   "outputs": [],
   "source": [
    "sessions_scaled[\"three\"] = three_means.predict(cluster_data_scaled)\n",
    "sessions_scaled[\"three\"] = sessions_scaled[\"three\"].apply(lambda x: numbers[x])\n",
    "sns.pairplot(data=sessions_scaled, hue=\"three\")"
   ]
  },
  {
   "cell_type": "code",
   "execution_count": null,
   "id": "ccabbf59-13e0-48d9-bffd-3d7b5b13da5d",
   "metadata": {},
   "outputs": [],
   "source": [
    "cluster_sizes = sessions_scaled[\"three\"].value_counts()\n",
    "print(\"\\nNumber of Datapoints in Each Cluster:\")\n",
    "print(cluster_sizes)"
   ]
  },
  {
   "cell_type": "code",
   "execution_count": null,
   "id": "1464dc14-985e-4dcb-91c4-5582857d5466",
   "metadata": {},
   "outputs": [],
   "source": [
    "average_efficiency_by_cluster = sessions_scaled.groupby('three')['kWhDelivered'].mean()\n",
    "average_efficiency_by_cluster"
   ]
  },
  {
   "cell_type": "markdown",
   "id": "5fe05380-fa16-403b-a55e-4478c2711710",
   "metadata": {},
   "source": [
    "Cut-Off 1"
   ]
  },
  {
   "cell_type": "code",
   "execution_count": null,
   "id": "509e7ee5-d775-4371-a65c-6ccab2eeb274",
   "metadata": {},
   "outputs": [],
   "source": [
    "cluster_data = pd.DataFrame()\n",
    "cluster_data['progressInWeek'] = numeric_data['progressInWeek']\n",
    "cluster_data['kWhDelivered'] = numeric_data['kWhDelivered']"
   ]
  },
  {
   "cell_type": "code",
   "execution_count": null,
   "id": "54cab784-da68-4ad0-9d45-61b2ca014cbc",
   "metadata": {},
   "outputs": [],
   "source": [
    "cluster_data"
   ]
  },
  {
   "cell_type": "code",
   "execution_count": null,
   "id": "1e3ec8c3-d8e1-4c01-8d66-91acd7756b03",
   "metadata": {},
   "outputs": [],
   "source": [
    "# Calculate the correlation matrix\n",
    "correlation_matrix = cluster_data.corr()\n",
    "\n",
    "# Create a heatmap of the correlation matrix\n",
    "plt.figure(figsize=(10, 8))  # Adjust the figure size as needed\n",
    "sns.heatmap(correlation_matrix, annot=True, cmap='coolwarm', fmt=\".2f\")\n",
    "\n",
    "plt.title(\"Correlation Heatmap\")\n",
    "plt.show()"
   ]
  },
  {
   "cell_type": "code",
   "execution_count": null,
   "id": "612a2f12-5cf5-45c2-9b1c-9960237d3eef",
   "metadata": {},
   "outputs": [],
   "source": [
    "scaler = StandardScaler()\n",
    "scaler.fit(cluster_data)\n",
    "cluster_data_scaled = scaler.transform(cluster_data)\n",
    "cluster_data_scaled_df = pd.DataFrame(cluster_data_scaled, columns=cluster_data.columns, index=cluster_data.index)\n",
    "cluster_data_scaled_df.describe()"
   ]
  },
  {
   "cell_type": "code",
   "execution_count": null,
   "id": "be22f3e7-7e51-42a8-a44f-d02aa296aa5b",
   "metadata": {},
   "outputs": [],
   "source": [
    "#These lines initialize two empty lists to store the number of clusters (clusters) and the\n",
    "#corresponding inertia (sum of squared distances to the nearest cluster center) for each k value (losses)\n",
    "clusters = []\n",
    "losses = []\n",
    "\n",
    "#This is a loop that iterates over different values of k\n",
    "for k in range(k_max):\n",
    "    #For each k, a new instance of the KMeans clustering algorithm is created. The n_clusters parameter is set to k+1 to specify the number of clusters, and n_init='auto' indicates\n",
    "    #that the algorithm should automatically choose the number of initializations for the centroids\n",
    "    model = KMeans(n_clusters=k+1, n_init='auto')\n",
    "    model.fit(cluster_data_scaled)\n",
    "    clusters.append(k+1)\n",
    "\n",
    "    #The inertia of the fitted model is calculated using the inertia_ attribute, representing the sum of squared distances to the nearest cluster center.\n",
    "    #This value is then appended to the losses list\n",
    "    losses.append(model.inertia_)"
   ]
  },
  {
   "cell_type": "code",
   "execution_count": null,
   "id": "27d70ea6-0845-42ae-9be8-c26a70a61236",
   "metadata": {},
   "outputs": [],
   "source": [
    "plt.plot(clusters, losses)\n",
    "plt.ylabel(\"Loss\")\n",
    "plt.xlabel(\"Number of clusters\")\n",
    "plt.show()"
   ]
  },
  {
   "cell_type": "code",
   "execution_count": null,
   "id": "0f7f0800-a5ed-40a0-be19-b81edc5a8729",
   "metadata": {},
   "outputs": [],
   "source": [
    "plt.plot(clusters, losses)\n",
    "plt.ylabel(\"Loss\")\n",
    "plt.xlabel(\"Number of clusters\")\n",
    "plt.xlim([0,15])"
   ]
  },
  {
   "cell_type": "code",
   "execution_count": null,
   "id": "5dcdc6bb-a08b-4f3e-b5d1-0f9ce8828320",
   "metadata": {},
   "outputs": [],
   "source": [
    "plt.plot(clusters, losses)\n",
    "plt.ylabel(\"Loss\")\n",
    "plt.xlabel(\"Number of clusters\")\n",
    "plt.xlim([0,6])"
   ]
  },
  {
   "cell_type": "code",
   "execution_count": null,
   "id": "a343f163-f9d1-4af5-af30-91c180239ffb",
   "metadata": {},
   "outputs": [],
   "source": [
    "numbers = [\"zero\", \"one\", \"two\"]\n",
    "\n",
    "sessions_scaled = cluster_data_scaled_df.copy()\n",
    "three_means = KMeans(n_clusters=3, n_init='auto')\n",
    "three_means.fit(cluster_data_scaled)"
   ]
  },
  {
   "cell_type": "code",
   "execution_count": null,
   "id": "92520e89-109c-495f-aa87-ba2077d40cad",
   "metadata": {},
   "outputs": [],
   "source": [
    "sessions_scaled[\"three\"] = three_means.predict(cluster_data_scaled)\n",
    "sessions_scaled[\"three\"] = sessions_scaled[\"three\"].apply(lambda x: numbers[x])\n",
    "sns.pairplot(data=sessions_scaled, hue=\"three\")"
   ]
  },
  {
   "cell_type": "code",
   "execution_count": null,
   "id": "8132daff-0f63-409e-a1c3-75a06180dd61",
   "metadata": {},
   "outputs": [],
   "source": [
    "cluster_sizes = sessions_scaled[\"three\"].value_counts()\n",
    "print(\"\\nNumber of Datapoints in Each Cluster:\")\n",
    "print(cluster_sizes)"
   ]
  },
  {
   "cell_type": "code",
   "execution_count": null,
   "id": "9db8843d-58ec-4022-848c-0ebe9fcf2832",
   "metadata": {},
   "outputs": [],
   "source": [
    "average_efficiency_by_cluster = sessions_scaled.groupby('three')['kWhDelivered'].mean()\n",
    "average_efficiency_by_cluster"
   ]
  },
  {
   "cell_type": "markdown",
   "id": "501ea7d1-d56f-44ca-92df-9c609ce03f39",
   "metadata": {},
   "source": [
    "Cut-Off2"
   ]
  },
  {
   "cell_type": "code",
   "execution_count": null,
   "id": "9027f854-f46d-4f0e-a8ed-90fdcae41a77",
   "metadata": {},
   "outputs": [],
   "source": [
    "cluster_data = pd.DataFrame()\n",
    "cluster_data['progressInWeek'] = numeric_data['progressInWeek']\n",
    "cluster_data['kWhDelivered'] = numeric_data['kWhDelivered']"
   ]
  },
  {
   "cell_type": "code",
   "execution_count": null,
   "id": "741f5341-21c8-4d49-ba70-f906da9d3aac",
   "metadata": {},
   "outputs": [],
   "source": [
    "cluster_data"
   ]
  },
  {
   "cell_type": "code",
   "execution_count": null,
   "id": "6325e929-3e1e-49c5-9c61-bc79094c1049",
   "metadata": {},
   "outputs": [],
   "source": [
    "# Calculate the correlation matrix\n",
    "correlation_matrix = cluster_data.corr()\n",
    "\n",
    "# Create a heatmap of the correlation matrix\n",
    "plt.figure(figsize=(10, 8))  # Adjust the figure size as needed\n",
    "sns.heatmap(correlation_matrix, annot=True, cmap='coolwarm', fmt=\".2f\")\n",
    "\n",
    "plt.title(\"Correlation Heatmap\")\n",
    "plt.show()"
   ]
  },
  {
   "cell_type": "code",
   "execution_count": null,
   "id": "2c42a918-69b2-4886-86aa-fe3b33821321",
   "metadata": {},
   "outputs": [],
   "source": [
    "scaler = StandardScaler()\n",
    "scaler.fit(cluster_data)\n",
    "cluster_data_scaled = scaler.transform(cluster_data)\n",
    "cluster_data_scaled_df = pd.DataFrame(cluster_data_scaled, columns=cluster_data.columns, index=cluster_data.index)\n",
    "cluster_data_scaled_df.describe()"
   ]
  },
  {
   "cell_type": "code",
   "execution_count": null,
   "id": "0afc83e3-ac3b-467b-868d-617994f34d02",
   "metadata": {},
   "outputs": [],
   "source": [
    "#These lines initialize two empty lists to store the number of clusters (clusters) and the\n",
    "#corresponding inertia (sum of squared distances to the nearest cluster center) for each k value (losses)\n",
    "clusters = []\n",
    "losses = []\n",
    "\n",
    "#This is a loop that iterates over different values of k\n",
    "for k in range(k_max):\n",
    "    #For each k, a new instance of the KMeans clustering algorithm is created. The n_clusters parameter is set to k+1 to specify the number of clusters, and n_init='auto' indicates\n",
    "    #that the algorithm should automatically choose the number of initializations for the centroids\n",
    "    model = KMeans(n_clusters=k+1, n_init='auto')\n",
    "    model.fit(cluster_data_scaled)\n",
    "    clusters.append(k+1)\n",
    "\n",
    "    #The inertia of the fitted model is calculated using the inertia_ attribute, representing the sum of squared distances to the nearest cluster center.\n",
    "    #This value is then appended to the losses list\n",
    "    losses.append(model.inertia_)"
   ]
  },
  {
   "cell_type": "code",
   "execution_count": null,
   "id": "5fc86a47-a4fe-48ad-8a5a-cc75c76362f5",
   "metadata": {},
   "outputs": [],
   "source": [
    "plt.plot(clusters, losses)\n",
    "plt.ylabel(\"Loss\")\n",
    "plt.xlabel(\"Number of clusters\")\n",
    "plt.show()"
   ]
  },
  {
   "cell_type": "code",
   "execution_count": null,
   "id": "ad42b33e-6e7f-4e8d-a573-e0fd37b6ffd1",
   "metadata": {},
   "outputs": [],
   "source": [
    "plt.plot(clusters, losses)\n",
    "plt.ylabel(\"Loss\")\n",
    "plt.xlabel(\"Number of clusters\")\n",
    "plt.xlim([0,15])"
   ]
  },
  {
   "cell_type": "code",
   "execution_count": null,
   "id": "9dd37315-ca47-4957-9805-eed95599eef1",
   "metadata": {},
   "outputs": [],
   "source": [
    "plt.plot(clusters, losses)\n",
    "plt.ylabel(\"Loss\")\n",
    "plt.xlabel(\"Number of clusters\")\n",
    "plt.xlim([0,6])"
   ]
  },
  {
   "cell_type": "code",
   "execution_count": null,
   "id": "acf6428b-ad15-405b-8bbe-3f05e28d799c",
   "metadata": {},
   "outputs": [],
   "source": [
    "numbers = [\"zero\", \"one\", \"two\"]\n",
    "\n",
    "sessions_scaled = cluster_data_scaled_df.copy()\n",
    "three_means = KMeans(n_clusters=3, n_init='auto')\n",
    "three_means.fit(cluster_data_scaled)"
   ]
  },
  {
   "cell_type": "code",
   "execution_count": null,
   "id": "64d78904-d3a4-492c-96b4-16992f5a785d",
   "metadata": {},
   "outputs": [],
   "source": [
    "sessions_scaled[\"three\"] = three_means.predict(cluster_data_scaled)\n",
    "sessions_scaled[\"three\"] = sessions_scaled[\"three\"].apply(lambda x: numbers[x])\n",
    "sns.pairplot(data=sessions_scaled, hue=\"three\")"
   ]
  },
  {
   "cell_type": "code",
   "execution_count": null,
   "id": "7a6c8095-651a-4518-b501-416d0b07438f",
   "metadata": {},
   "outputs": [],
   "source": [
    "cluster_sizes = sessions_scaled[\"three\"].value_counts()\n",
    "print(\"\\nNumber of Datapoints in Each Cluster:\")\n",
    "print(cluster_sizes)"
   ]
  },
  {
   "cell_type": "code",
   "execution_count": null,
   "id": "ed40474a-4d50-4107-97b2-919a65e67d70",
   "metadata": {},
   "outputs": [],
   "source": [
    "average_efficiency_by_cluster = sessions_scaled.groupby('three')['kWhDelivered'].mean()\n",
    "average_efficiency_by_cluster"
   ]
  }
 ],
 "metadata": {
  "kernelspec": {
   "display_name": "Python 3 (ipykernel)",
   "language": "python",
   "name": "python3"
  },
  "language_info": {
   "codemirror_mode": {
    "name": "ipython",
    "version": 3
   },
   "file_extension": ".py",
   "mimetype": "text/x-python",
   "name": "python",
   "nbconvert_exporter": "python",
   "pygments_lexer": "ipython3",
   "version": "3.12.0"
  }
 },
 "nbformat": 4,
 "nbformat_minor": 5
}
