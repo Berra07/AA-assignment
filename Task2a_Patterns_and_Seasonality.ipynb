{
 "cells": [
  {
   "cell_type": "code",
   "execution_count": 1,
   "metadata": {
    "collapsed": true,
    "ExecuteTime": {
     "end_time": "2024-01-07T20:10:55.879204700Z",
     "start_time": "2024-01-07T20:10:55.602560100Z"
    }
   },
   "outputs": [],
   "source": [
    "import pandas as pd"
   ]
  },
  {
   "cell_type": "code",
   "execution_count": 2,
   "outputs": [
    {
     "data": {
      "text/plain": "                 connectionTime            disconnectTime  \\\n0     2020-01-02 13:08:54+00:00 2020-01-02 19:11:15+00:00   \n1     2020-01-02 13:36:50+00:00 2020-01-02 22:38:21+00:00   \n2     2020-01-02 13:56:35+00:00 2020-01-03 00:39:22+00:00   \n3     2020-01-02 13:59:58+00:00 2020-01-02 16:38:39+00:00   \n4     2020-01-02 14:00:01+00:00 2020-01-02 22:08:40+00:00   \n...                         ...                       ...   \n56531 2019-07-01 19:13:11+00:00 2019-07-02 00:44:40+00:00   \n56532 2019-07-01 19:43:46+00:00 2019-07-02 02:58:53+00:00   \n56533 2019-07-01 20:34:30+00:00 2019-07-02 00:30:52+00:00   \n56534 2019-07-01 21:49:12+00:00 2019-07-02 01:37:18+00:00   \n56535 2019-07-01 22:36:08+00:00 2019-07-02 01:10:52+00:00   \n\n               doneChargingTime  kWhDelivered  siteID  userID  \\\n0     2020-01-02 17:31:35+00:00        25.016       1   194.0   \n1     2020-01-02 20:18:05+00:00        33.097       1  4275.0   \n2     2020-01-02 16:35:06+00:00         6.521       1   344.0   \n3     2020-01-02 15:18:45+00:00         2.355       1  1117.0   \n4     2020-01-02 18:17:30+00:00        13.375       1   334.0   \n...                         ...           ...     ...     ...   \n56531 2019-07-01 21:13:56+00:00         6.048       1  2643.0   \n56532 2019-07-02 02:43:53+00:00        41.047       1   394.0   \n56533 2019-07-01 21:27:44+00:00         5.390       1  2276.0   \n56534 2019-07-01 23:14:33+00:00         8.399       1  1346.0   \n56535 2019-07-02 00:24:32+00:00        10.241       1  2299.0   \n\n      combinedSpaceStationID  timeConnected  idleTime  chargingTime  weekday  \\\n0        AG-3F30/1-1-179-810        21741.0    5980.0       15761.0        3   \n1        AG-1F01/1-1-193-825        32491.0    8416.0       24075.0        3   \n2        AG-1F03/1-1-193-829        38567.0   29056.0        9511.0        3   \n3        AG-1F04/1-1-193-820         9521.0    4794.0        4727.0        3   \n4        AG-1F06/1-1-193-819        29319.0   13870.0       15449.0        3   \n...                      ...            ...       ...           ...      ...   \n56531    AG-3F23/1-1-179-797        19889.0   12644.0        7245.0        0   \n56532    AG-4F38/1-1-191-793        26107.0     900.0       25207.0        0   \n56533    AG-3F15/1-1-179-813        14182.0   10988.0        3194.0        0   \n56534    AG-3F18/1-1-179-798        13686.0    8565.0        5121.0        0   \n56535    AG-1F06/1-1-193-819         9284.0    2780.0        6504.0        0   \n\n       month      time  WhPerMile  kWhRequested  milesRequested  \\\n0          1  13:08:54      250.0         25.00           100.0   \n1          1  13:36:50      280.0         70.00           250.0   \n2          1  13:56:35      400.0          8.00            20.0   \n3          1  13:59:58      400.0          8.00            20.0   \n4          1  14:00:01      400.0         16.00            40.0   \n...      ...       ...        ...           ...             ...   \n56531      7  19:13:11      275.0          8.25            30.0   \n56532      7  19:43:46      231.0         36.96           160.0   \n56533      7  20:34:30      300.0         12.00            40.0   \n56534      7  21:49:12      400.0         32.00            80.0   \n56535      7  22:36:08      333.0         16.65            50.0   \n\n       minutesAvailable                     modifiedAt paymentRequired  \\\n0                 463.0  Thu, 02 Jan 2020 13:09:39 GMT            True   \n1                 595.0  Thu, 02 Jan 2020 13:37:11 GMT            True   \n2                  60.0  Thu, 02 Jan 2020 13:57:17 GMT            True   \n3                  65.0  Thu, 02 Jan 2020 14:00:03 GMT            True   \n4                 504.0  Thu, 02 Jan 2020 14:00:13 GMT            True   \n...                 ...                            ...             ...   \n56531             374.0  Mon, 01 Jul 2019 19:13:10 GMT            True   \n56532             310.0  Mon, 01 Jul 2019 19:43:58 GMT            True   \n56533             381.0  Mon, 01 Jul 2019 20:34:29 GMT            True   \n56534              36.0  Mon, 01 Jul 2019 21:49:37 GMT            True   \n56535             191.0  Mon, 01 Jul 2019 22:36:08 GMT            True   \n\n                  requestedDeparture  \n0      Thu, 02 Jan 2020 20:51:54 GMT  \n1      Thu, 02 Jan 2020 23:31:50 GMT  \n2      Thu, 02 Jan 2020 14:56:35 GMT  \n3      Thu, 02 Jan 2020 15:04:58 GMT  \n4      Thu, 02 Jan 2020 22:24:01 GMT  \n...                              ...  \n56531  Tue, 02 Jul 2019 01:27:11 GMT  \n56532  Tue, 02 Jul 2019 00:53:46 GMT  \n56533  Tue, 02 Jul 2019 02:55:30 GMT  \n56534  Mon, 01 Jul 2019 22:25:12 GMT  \n56535  Tue, 02 Jul 2019 01:47:08 GMT  \n\n[56536 rows x 20 columns]",
      "text/html": "<div>\n<style scoped>\n    .dataframe tbody tr th:only-of-type {\n        vertical-align: middle;\n    }\n\n    .dataframe tbody tr th {\n        vertical-align: top;\n    }\n\n    .dataframe thead th {\n        text-align: right;\n    }\n</style>\n<table border=\"1\" class=\"dataframe\">\n  <thead>\n    <tr style=\"text-align: right;\">\n      <th></th>\n      <th>connectionTime</th>\n      <th>disconnectTime</th>\n      <th>doneChargingTime</th>\n      <th>kWhDelivered</th>\n      <th>siteID</th>\n      <th>userID</th>\n      <th>combinedSpaceStationID</th>\n      <th>timeConnected</th>\n      <th>idleTime</th>\n      <th>chargingTime</th>\n      <th>weekday</th>\n      <th>month</th>\n      <th>time</th>\n      <th>WhPerMile</th>\n      <th>kWhRequested</th>\n      <th>milesRequested</th>\n      <th>minutesAvailable</th>\n      <th>modifiedAt</th>\n      <th>paymentRequired</th>\n      <th>requestedDeparture</th>\n    </tr>\n  </thead>\n  <tbody>\n    <tr>\n      <th>0</th>\n      <td>2020-01-02 13:08:54+00:00</td>\n      <td>2020-01-02 19:11:15+00:00</td>\n      <td>2020-01-02 17:31:35+00:00</td>\n      <td>25.016</td>\n      <td>1</td>\n      <td>194.0</td>\n      <td>AG-3F30/1-1-179-810</td>\n      <td>21741.0</td>\n      <td>5980.0</td>\n      <td>15761.0</td>\n      <td>3</td>\n      <td>1</td>\n      <td>13:08:54</td>\n      <td>250.0</td>\n      <td>25.00</td>\n      <td>100.0</td>\n      <td>463.0</td>\n      <td>Thu, 02 Jan 2020 13:09:39 GMT</td>\n      <td>True</td>\n      <td>Thu, 02 Jan 2020 20:51:54 GMT</td>\n    </tr>\n    <tr>\n      <th>1</th>\n      <td>2020-01-02 13:36:50+00:00</td>\n      <td>2020-01-02 22:38:21+00:00</td>\n      <td>2020-01-02 20:18:05+00:00</td>\n      <td>33.097</td>\n      <td>1</td>\n      <td>4275.0</td>\n      <td>AG-1F01/1-1-193-825</td>\n      <td>32491.0</td>\n      <td>8416.0</td>\n      <td>24075.0</td>\n      <td>3</td>\n      <td>1</td>\n      <td>13:36:50</td>\n      <td>280.0</td>\n      <td>70.00</td>\n      <td>250.0</td>\n      <td>595.0</td>\n      <td>Thu, 02 Jan 2020 13:37:11 GMT</td>\n      <td>True</td>\n      <td>Thu, 02 Jan 2020 23:31:50 GMT</td>\n    </tr>\n    <tr>\n      <th>2</th>\n      <td>2020-01-02 13:56:35+00:00</td>\n      <td>2020-01-03 00:39:22+00:00</td>\n      <td>2020-01-02 16:35:06+00:00</td>\n      <td>6.521</td>\n      <td>1</td>\n      <td>344.0</td>\n      <td>AG-1F03/1-1-193-829</td>\n      <td>38567.0</td>\n      <td>29056.0</td>\n      <td>9511.0</td>\n      <td>3</td>\n      <td>1</td>\n      <td>13:56:35</td>\n      <td>400.0</td>\n      <td>8.00</td>\n      <td>20.0</td>\n      <td>60.0</td>\n      <td>Thu, 02 Jan 2020 13:57:17 GMT</td>\n      <td>True</td>\n      <td>Thu, 02 Jan 2020 14:56:35 GMT</td>\n    </tr>\n    <tr>\n      <th>3</th>\n      <td>2020-01-02 13:59:58+00:00</td>\n      <td>2020-01-02 16:38:39+00:00</td>\n      <td>2020-01-02 15:18:45+00:00</td>\n      <td>2.355</td>\n      <td>1</td>\n      <td>1117.0</td>\n      <td>AG-1F04/1-1-193-820</td>\n      <td>9521.0</td>\n      <td>4794.0</td>\n      <td>4727.0</td>\n      <td>3</td>\n      <td>1</td>\n      <td>13:59:58</td>\n      <td>400.0</td>\n      <td>8.00</td>\n      <td>20.0</td>\n      <td>65.0</td>\n      <td>Thu, 02 Jan 2020 14:00:03 GMT</td>\n      <td>True</td>\n      <td>Thu, 02 Jan 2020 15:04:58 GMT</td>\n    </tr>\n    <tr>\n      <th>4</th>\n      <td>2020-01-02 14:00:01+00:00</td>\n      <td>2020-01-02 22:08:40+00:00</td>\n      <td>2020-01-02 18:17:30+00:00</td>\n      <td>13.375</td>\n      <td>1</td>\n      <td>334.0</td>\n      <td>AG-1F06/1-1-193-819</td>\n      <td>29319.0</td>\n      <td>13870.0</td>\n      <td>15449.0</td>\n      <td>3</td>\n      <td>1</td>\n      <td>14:00:01</td>\n      <td>400.0</td>\n      <td>16.00</td>\n      <td>40.0</td>\n      <td>504.0</td>\n      <td>Thu, 02 Jan 2020 14:00:13 GMT</td>\n      <td>True</td>\n      <td>Thu, 02 Jan 2020 22:24:01 GMT</td>\n    </tr>\n    <tr>\n      <th>...</th>\n      <td>...</td>\n      <td>...</td>\n      <td>...</td>\n      <td>...</td>\n      <td>...</td>\n      <td>...</td>\n      <td>...</td>\n      <td>...</td>\n      <td>...</td>\n      <td>...</td>\n      <td>...</td>\n      <td>...</td>\n      <td>...</td>\n      <td>...</td>\n      <td>...</td>\n      <td>...</td>\n      <td>...</td>\n      <td>...</td>\n      <td>...</td>\n      <td>...</td>\n    </tr>\n    <tr>\n      <th>56531</th>\n      <td>2019-07-01 19:13:11+00:00</td>\n      <td>2019-07-02 00:44:40+00:00</td>\n      <td>2019-07-01 21:13:56+00:00</td>\n      <td>6.048</td>\n      <td>1</td>\n      <td>2643.0</td>\n      <td>AG-3F23/1-1-179-797</td>\n      <td>19889.0</td>\n      <td>12644.0</td>\n      <td>7245.0</td>\n      <td>0</td>\n      <td>7</td>\n      <td>19:13:11</td>\n      <td>275.0</td>\n      <td>8.25</td>\n      <td>30.0</td>\n      <td>374.0</td>\n      <td>Mon, 01 Jul 2019 19:13:10 GMT</td>\n      <td>True</td>\n      <td>Tue, 02 Jul 2019 01:27:11 GMT</td>\n    </tr>\n    <tr>\n      <th>56532</th>\n      <td>2019-07-01 19:43:46+00:00</td>\n      <td>2019-07-02 02:58:53+00:00</td>\n      <td>2019-07-02 02:43:53+00:00</td>\n      <td>41.047</td>\n      <td>1</td>\n      <td>394.0</td>\n      <td>AG-4F38/1-1-191-793</td>\n      <td>26107.0</td>\n      <td>900.0</td>\n      <td>25207.0</td>\n      <td>0</td>\n      <td>7</td>\n      <td>19:43:46</td>\n      <td>231.0</td>\n      <td>36.96</td>\n      <td>160.0</td>\n      <td>310.0</td>\n      <td>Mon, 01 Jul 2019 19:43:58 GMT</td>\n      <td>True</td>\n      <td>Tue, 02 Jul 2019 00:53:46 GMT</td>\n    </tr>\n    <tr>\n      <th>56533</th>\n      <td>2019-07-01 20:34:30+00:00</td>\n      <td>2019-07-02 00:30:52+00:00</td>\n      <td>2019-07-01 21:27:44+00:00</td>\n      <td>5.390</td>\n      <td>1</td>\n      <td>2276.0</td>\n      <td>AG-3F15/1-1-179-813</td>\n      <td>14182.0</td>\n      <td>10988.0</td>\n      <td>3194.0</td>\n      <td>0</td>\n      <td>7</td>\n      <td>20:34:30</td>\n      <td>300.0</td>\n      <td>12.00</td>\n      <td>40.0</td>\n      <td>381.0</td>\n      <td>Mon, 01 Jul 2019 20:34:29 GMT</td>\n      <td>True</td>\n      <td>Tue, 02 Jul 2019 02:55:30 GMT</td>\n    </tr>\n    <tr>\n      <th>56534</th>\n      <td>2019-07-01 21:49:12+00:00</td>\n      <td>2019-07-02 01:37:18+00:00</td>\n      <td>2019-07-01 23:14:33+00:00</td>\n      <td>8.399</td>\n      <td>1</td>\n      <td>1346.0</td>\n      <td>AG-3F18/1-1-179-798</td>\n      <td>13686.0</td>\n      <td>8565.0</td>\n      <td>5121.0</td>\n      <td>0</td>\n      <td>7</td>\n      <td>21:49:12</td>\n      <td>400.0</td>\n      <td>32.00</td>\n      <td>80.0</td>\n      <td>36.0</td>\n      <td>Mon, 01 Jul 2019 21:49:37 GMT</td>\n      <td>True</td>\n      <td>Mon, 01 Jul 2019 22:25:12 GMT</td>\n    </tr>\n    <tr>\n      <th>56535</th>\n      <td>2019-07-01 22:36:08+00:00</td>\n      <td>2019-07-02 01:10:52+00:00</td>\n      <td>2019-07-02 00:24:32+00:00</td>\n      <td>10.241</td>\n      <td>1</td>\n      <td>2299.0</td>\n      <td>AG-1F06/1-1-193-819</td>\n      <td>9284.0</td>\n      <td>2780.0</td>\n      <td>6504.0</td>\n      <td>0</td>\n      <td>7</td>\n      <td>22:36:08</td>\n      <td>333.0</td>\n      <td>16.65</td>\n      <td>50.0</td>\n      <td>191.0</td>\n      <td>Mon, 01 Jul 2019 22:36:08 GMT</td>\n      <td>True</td>\n      <td>Tue, 02 Jul 2019 01:47:08 GMT</td>\n    </tr>\n  </tbody>\n</table>\n<p>56536 rows × 20 columns</p>\n</div>"
     },
     "execution_count": 2,
     "metadata": {},
     "output_type": "execute_result"
    }
   ],
   "source": [
    "data = pd.read_pickle(\"preparedData.pkl\")\n",
    "data"
   ],
   "metadata": {
    "collapsed": false,
    "ExecuteTime": {
     "end_time": "2024-01-07T20:11:13.624569300Z",
     "start_time": "2024-01-07T20:11:13.573418700Z"
    }
   }
  },
  {
   "cell_type": "code",
   "execution_count": null,
   "outputs": [],
   "source": [],
   "metadata": {
    "collapsed": false
   }
  }
 ],
 "metadata": {
  "kernelspec": {
   "display_name": "Python 3",
   "language": "python",
   "name": "python3"
  },
  "language_info": {
   "codemirror_mode": {
    "name": "ipython",
    "version": 2
   },
   "file_extension": ".py",
   "mimetype": "text/x-python",
   "name": "python",
   "nbconvert_exporter": "python",
   "pygments_lexer": "ipython2",
   "version": "2.7.6"
  }
 },
 "nbformat": 4,
 "nbformat_minor": 0
}
