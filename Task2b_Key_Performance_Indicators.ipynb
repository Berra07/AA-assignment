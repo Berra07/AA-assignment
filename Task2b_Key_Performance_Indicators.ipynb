{
 "cells": [
  {
   "cell_type": "code",
   "execution_count": 1,
   "metadata": {
    "collapsed": true,
    "ExecuteTime": {
     "end_time": "2024-01-07T20:12:37.162981Z",
     "start_time": "2024-01-07T20:12:36.861498100Z"
    }
   },
   "outputs": [],
   "source": [
    "import pandas as pd"
   ]
  },
  {
   "cell_type": "code",
   "execution_count": 2,
   "outputs": [
    {
     "data": {
      "text/plain": "                 connectionTime            disconnectTime  \\\n0     2020-01-02 13:08:54+00:00 2020-01-02 19:11:15+00:00   \n1     2020-01-02 13:36:50+00:00 2020-01-02 22:38:21+00:00   \n2     2020-01-02 13:56:35+00:00 2020-01-03 00:39:22+00:00   \n3     2020-01-02 13:59:58+00:00 2020-01-02 16:38:39+00:00   \n4     2020-01-02 14:00:01+00:00 2020-01-02 22:08:40+00:00   \n...                         ...                       ...   \n56531 2019-07-01 19:13:11+00:00 2019-07-02 00:44:40+00:00   \n56532 2019-07-01 19:43:46+00:00 2019-07-02 02:58:53+00:00   \n56533 2019-07-01 20:34:30+00:00 2019-07-02 00:30:52+00:00   \n56534 2019-07-01 21:49:12+00:00 2019-07-02 01:37:18+00:00   \n56535 2019-07-01 22:36:08+00:00 2019-07-02 01:10:52+00:00   \n\n               doneChargingTime  kWhDelivered  siteID  userID  \\\n0     2020-01-02 17:31:35+00:00        25.016       1   194.0   \n1     2020-01-02 20:18:05+00:00        33.097       1  4275.0   \n2     2020-01-02 16:35:06+00:00         6.521       1   344.0   \n3     2020-01-02 15:18:45+00:00         2.355       1  1117.0   \n4     2020-01-02 18:17:30+00:00        13.375       1   334.0   \n...                         ...           ...     ...     ...   \n56531 2019-07-01 21:13:56+00:00         6.048       1  2643.0   \n56532 2019-07-02 02:43:53+00:00        41.047       1   394.0   \n56533 2019-07-01 21:27:44+00:00         5.390       1  2276.0   \n56534 2019-07-01 23:14:33+00:00         8.399       1  1346.0   \n56535 2019-07-02 00:24:32+00:00        10.241       1  2299.0   \n\n      combinedSpaceStationID  timeConnected  idleTime  chargingTime  weekday  \\\n0        AG-3F30/1-1-179-810        21741.0    5980.0       15761.0        3   \n1        AG-1F01/1-1-193-825        32491.0    8416.0       24075.0        3   \n2        AG-1F03/1-1-193-829        38567.0   29056.0        9511.0        3   \n3        AG-1F04/1-1-193-820         9521.0    4794.0        4727.0        3   \n4        AG-1F06/1-1-193-819        29319.0   13870.0       15449.0        3   \n...                      ...            ...       ...           ...      ...   \n56531    AG-3F23/1-1-179-797        19889.0   12644.0        7245.0        0   \n56532    AG-4F38/1-1-191-793        26107.0     900.0       25207.0        0   \n56533    AG-3F15/1-1-179-813        14182.0   10988.0        3194.0        0   \n56534    AG-3F18/1-1-179-798        13686.0    8565.0        5121.0        0   \n56535    AG-1F06/1-1-193-819         9284.0    2780.0        6504.0        0   \n\n       month      time  WhPerMile  kWhRequested  milesRequested  \\\n0          1  13:08:54      250.0         25.00           100.0   \n1          1  13:36:50      280.0         70.00           250.0   \n2          1  13:56:35      400.0          8.00            20.0   \n3          1  13:59:58      400.0          8.00            20.0   \n4          1  14:00:01      400.0         16.00            40.0   \n...      ...       ...        ...           ...             ...   \n56531      7  19:13:11      275.0          8.25            30.0   \n56532      7  19:43:46      231.0         36.96           160.0   \n56533      7  20:34:30      300.0         12.00            40.0   \n56534      7  21:49:12      400.0         32.00            80.0   \n56535      7  22:36:08      333.0         16.65            50.0   \n\n       minutesAvailable                     modifiedAt paymentRequired  \\\n0                 463.0  Thu, 02 Jan 2020 13:09:39 GMT            True   \n1                 595.0  Thu, 02 Jan 2020 13:37:11 GMT            True   \n2                  60.0  Thu, 02 Jan 2020 13:57:17 GMT            True   \n3                  65.0  Thu, 02 Jan 2020 14:00:03 GMT            True   \n4                 504.0  Thu, 02 Jan 2020 14:00:13 GMT            True   \n...                 ...                            ...             ...   \n56531             374.0  Mon, 01 Jul 2019 19:13:10 GMT            True   \n56532             310.0  Mon, 01 Jul 2019 19:43:58 GMT            True   \n56533             381.0  Mon, 01 Jul 2019 20:34:29 GMT            True   \n56534              36.0  Mon, 01 Jul 2019 21:49:37 GMT            True   \n56535             191.0  Mon, 01 Jul 2019 22:36:08 GMT            True   \n\n                  requestedDeparture  \n0      Thu, 02 Jan 2020 20:51:54 GMT  \n1      Thu, 02 Jan 2020 23:31:50 GMT  \n2      Thu, 02 Jan 2020 14:56:35 GMT  \n3      Thu, 02 Jan 2020 15:04:58 GMT  \n4      Thu, 02 Jan 2020 22:24:01 GMT  \n...                              ...  \n56531  Tue, 02 Jul 2019 01:27:11 GMT  \n56532  Tue, 02 Jul 2019 00:53:46 GMT  \n56533  Tue, 02 Jul 2019 02:55:30 GMT  \n56534  Mon, 01 Jul 2019 22:25:12 GMT  \n56535  Tue, 02 Jul 2019 01:47:08 GMT  \n\n[56536 rows x 20 columns]",
      "text/html": "<div>\n<style scoped>\n    .dataframe tbody tr th:only-of-type {\n        vertical-align: middle;\n    }\n\n    .dataframe tbody tr th {\n        vertical-align: top;\n    }\n\n    .dataframe thead th {\n        text-align: right;\n    }\n</style>\n<table border=\"1\" class=\"dataframe\">\n  <thead>\n    <tr style=\"text-align: right;\">\n      <th></th>\n      <th>connectionTime</th>\n      <th>disconnectTime</th>\n      <th>doneChargingTime</th>\n      <th>kWhDelivered</th>\n      <th>siteID</th>\n      <th>userID</th>\n      <th>combinedSpaceStationID</th>\n      <th>timeConnected</th>\n      <th>idleTime</th>\n      <th>chargingTime</th>\n      <th>weekday</th>\n      <th>month</th>\n      <th>time</th>\n      <th>WhPerMile</th>\n      <th>kWhRequested</th>\n      <th>milesRequested</th>\n      <th>minutesAvailable</th>\n      <th>modifiedAt</th>\n      <th>paymentRequired</th>\n      <th>requestedDeparture</th>\n    </tr>\n  </thead>\n  <tbody>\n    <tr>\n      <th>0</th>\n      <td>2020-01-02 13:08:54+00:00</td>\n      <td>2020-01-02 19:11:15+00:00</td>\n      <td>2020-01-02 17:31:35+00:00</td>\n      <td>25.016</td>\n      <td>1</td>\n      <td>194.0</td>\n      <td>AG-3F30/1-1-179-810</td>\n      <td>21741.0</td>\n      <td>5980.0</td>\n      <td>15761.0</td>\n      <td>3</td>\n      <td>1</td>\n      <td>13:08:54</td>\n      <td>250.0</td>\n      <td>25.00</td>\n      <td>100.0</td>\n      <td>463.0</td>\n      <td>Thu, 02 Jan 2020 13:09:39 GMT</td>\n      <td>True</td>\n      <td>Thu, 02 Jan 2020 20:51:54 GMT</td>\n    </tr>\n    <tr>\n      <th>1</th>\n      <td>2020-01-02 13:36:50+00:00</td>\n      <td>2020-01-02 22:38:21+00:00</td>\n      <td>2020-01-02 20:18:05+00:00</td>\n      <td>33.097</td>\n      <td>1</td>\n      <td>4275.0</td>\n      <td>AG-1F01/1-1-193-825</td>\n      <td>32491.0</td>\n      <td>8416.0</td>\n      <td>24075.0</td>\n      <td>3</td>\n      <td>1</td>\n      <td>13:36:50</td>\n      <td>280.0</td>\n      <td>70.00</td>\n      <td>250.0</td>\n      <td>595.0</td>\n      <td>Thu, 02 Jan 2020 13:37:11 GMT</td>\n      <td>True</td>\n      <td>Thu, 02 Jan 2020 23:31:50 GMT</td>\n    </tr>\n    <tr>\n      <th>2</th>\n      <td>2020-01-02 13:56:35+00:00</td>\n      <td>2020-01-03 00:39:22+00:00</td>\n      <td>2020-01-02 16:35:06+00:00</td>\n      <td>6.521</td>\n      <td>1</td>\n      <td>344.0</td>\n      <td>AG-1F03/1-1-193-829</td>\n      <td>38567.0</td>\n      <td>29056.0</td>\n      <td>9511.0</td>\n      <td>3</td>\n      <td>1</td>\n      <td>13:56:35</td>\n      <td>400.0</td>\n      <td>8.00</td>\n      <td>20.0</td>\n      <td>60.0</td>\n      <td>Thu, 02 Jan 2020 13:57:17 GMT</td>\n      <td>True</td>\n      <td>Thu, 02 Jan 2020 14:56:35 GMT</td>\n    </tr>\n    <tr>\n      <th>3</th>\n      <td>2020-01-02 13:59:58+00:00</td>\n      <td>2020-01-02 16:38:39+00:00</td>\n      <td>2020-01-02 15:18:45+00:00</td>\n      <td>2.355</td>\n      <td>1</td>\n      <td>1117.0</td>\n      <td>AG-1F04/1-1-193-820</td>\n      <td>9521.0</td>\n      <td>4794.0</td>\n      <td>4727.0</td>\n      <td>3</td>\n      <td>1</td>\n      <td>13:59:58</td>\n      <td>400.0</td>\n      <td>8.00</td>\n      <td>20.0</td>\n      <td>65.0</td>\n      <td>Thu, 02 Jan 2020 14:00:03 GMT</td>\n      <td>True</td>\n      <td>Thu, 02 Jan 2020 15:04:58 GMT</td>\n    </tr>\n    <tr>\n      <th>4</th>\n      <td>2020-01-02 14:00:01+00:00</td>\n      <td>2020-01-02 22:08:40+00:00</td>\n      <td>2020-01-02 18:17:30+00:00</td>\n      <td>13.375</td>\n      <td>1</td>\n      <td>334.0</td>\n      <td>AG-1F06/1-1-193-819</td>\n      <td>29319.0</td>\n      <td>13870.0</td>\n      <td>15449.0</td>\n      <td>3</td>\n      <td>1</td>\n      <td>14:00:01</td>\n      <td>400.0</td>\n      <td>16.00</td>\n      <td>40.0</td>\n      <td>504.0</td>\n      <td>Thu, 02 Jan 2020 14:00:13 GMT</td>\n      <td>True</td>\n      <td>Thu, 02 Jan 2020 22:24:01 GMT</td>\n    </tr>\n    <tr>\n      <th>...</th>\n      <td>...</td>\n      <td>...</td>\n      <td>...</td>\n      <td>...</td>\n      <td>...</td>\n      <td>...</td>\n      <td>...</td>\n      <td>...</td>\n      <td>...</td>\n      <td>...</td>\n      <td>...</td>\n      <td>...</td>\n      <td>...</td>\n      <td>...</td>\n      <td>...</td>\n      <td>...</td>\n      <td>...</td>\n      <td>...</td>\n      <td>...</td>\n      <td>...</td>\n    </tr>\n    <tr>\n      <th>56531</th>\n      <td>2019-07-01 19:13:11+00:00</td>\n      <td>2019-07-02 00:44:40+00:00</td>\n      <td>2019-07-01 21:13:56+00:00</td>\n      <td>6.048</td>\n      <td>1</td>\n      <td>2643.0</td>\n      <td>AG-3F23/1-1-179-797</td>\n      <td>19889.0</td>\n      <td>12644.0</td>\n      <td>7245.0</td>\n      <td>0</td>\n      <td>7</td>\n      <td>19:13:11</td>\n      <td>275.0</td>\n      <td>8.25</td>\n      <td>30.0</td>\n      <td>374.0</td>\n      <td>Mon, 01 Jul 2019 19:13:10 GMT</td>\n      <td>True</td>\n      <td>Tue, 02 Jul 2019 01:27:11 GMT</td>\n    </tr>\n    <tr>\n      <th>56532</th>\n      <td>2019-07-01 19:43:46+00:00</td>\n      <td>2019-07-02 02:58:53+00:00</td>\n      <td>2019-07-02 02:43:53+00:00</td>\n      <td>41.047</td>\n      <td>1</td>\n      <td>394.0</td>\n      <td>AG-4F38/1-1-191-793</td>\n      <td>26107.0</td>\n      <td>900.0</td>\n      <td>25207.0</td>\n      <td>0</td>\n      <td>7</td>\n      <td>19:43:46</td>\n      <td>231.0</td>\n      <td>36.96</td>\n      <td>160.0</td>\n      <td>310.0</td>\n      <td>Mon, 01 Jul 2019 19:43:58 GMT</td>\n      <td>True</td>\n      <td>Tue, 02 Jul 2019 00:53:46 GMT</td>\n    </tr>\n    <tr>\n      <th>56533</th>\n      <td>2019-07-01 20:34:30+00:00</td>\n      <td>2019-07-02 00:30:52+00:00</td>\n      <td>2019-07-01 21:27:44+00:00</td>\n      <td>5.390</td>\n      <td>1</td>\n      <td>2276.0</td>\n      <td>AG-3F15/1-1-179-813</td>\n      <td>14182.0</td>\n      <td>10988.0</td>\n      <td>3194.0</td>\n      <td>0</td>\n      <td>7</td>\n      <td>20:34:30</td>\n      <td>300.0</td>\n      <td>12.00</td>\n      <td>40.0</td>\n      <td>381.0</td>\n      <td>Mon, 01 Jul 2019 20:34:29 GMT</td>\n      <td>True</td>\n      <td>Tue, 02 Jul 2019 02:55:30 GMT</td>\n    </tr>\n    <tr>\n      <th>56534</th>\n      <td>2019-07-01 21:49:12+00:00</td>\n      <td>2019-07-02 01:37:18+00:00</td>\n      <td>2019-07-01 23:14:33+00:00</td>\n      <td>8.399</td>\n      <td>1</td>\n      <td>1346.0</td>\n      <td>AG-3F18/1-1-179-798</td>\n      <td>13686.0</td>\n      <td>8565.0</td>\n      <td>5121.0</td>\n      <td>0</td>\n      <td>7</td>\n      <td>21:49:12</td>\n      <td>400.0</td>\n      <td>32.00</td>\n      <td>80.0</td>\n      <td>36.0</td>\n      <td>Mon, 01 Jul 2019 21:49:37 GMT</td>\n      <td>True</td>\n      <td>Mon, 01 Jul 2019 22:25:12 GMT</td>\n    </tr>\n    <tr>\n      <th>56535</th>\n      <td>2019-07-01 22:36:08+00:00</td>\n      <td>2019-07-02 01:10:52+00:00</td>\n      <td>2019-07-02 00:24:32+00:00</td>\n      <td>10.241</td>\n      <td>1</td>\n      <td>2299.0</td>\n      <td>AG-1F06/1-1-193-819</td>\n      <td>9284.0</td>\n      <td>2780.0</td>\n      <td>6504.0</td>\n      <td>0</td>\n      <td>7</td>\n      <td>22:36:08</td>\n      <td>333.0</td>\n      <td>16.65</td>\n      <td>50.0</td>\n      <td>191.0</td>\n      <td>Mon, 01 Jul 2019 22:36:08 GMT</td>\n      <td>True</td>\n      <td>Tue, 02 Jul 2019 01:47:08 GMT</td>\n    </tr>\n  </tbody>\n</table>\n<p>56536 rows × 20 columns</p>\n</div>"
     },
     "execution_count": 2,
     "metadata": {},
     "output_type": "execute_result"
    }
   ],
   "source": [
    "data = pd.read_pickle(\"preparedData.pkl\")\n",
    "data"
   ],
   "metadata": {
    "collapsed": false,
    "ExecuteTime": {
     "end_time": "2024-01-07T20:12:58.379969300Z",
     "start_time": "2024-01-07T20:12:58.331294100Z"
    }
   }
  },
  {
   "cell_type": "markdown",
   "source": [
    "### KPI1\n",
    "Station Downtime Between Sessions\n",
    "total accumulated disconnect time\n",
    "Description: Measures the duration of time that a charging station remains \"free\" or inactive before the next connection occurs, indicating how quickly the station is utilized between sessions"
   ],
   "metadata": {
    "collapsed": false
   }
  },
  {
   "cell_type": "code",
   "execution_count": 5,
   "outputs": [
    {
     "data": {
      "text/plain": "    combinedSpaceStationID        sumDownTime                avgDownTime\n0      AG-1F01/1-1-193-825  859 days 02:42:33  1 days 02:40:25.036222509\n1      AG-1F02/1-1-193-827  816 days 06:55:40  0 days 21:17:40.152173913\n2      AG-1F03/1-1-193-829  864 days 01:02:15  1 days 03:27:58.589403973\n3      AG-1F04/1-1-193-820  820 days 15:00:03  0 days 19:54:50.599595551\n4      AG-1F05/1-1-193-816  859 days 01:11:27  1 days 03:44:54.868102288\n..                     ...                ...                        ...\n101    CA-509/2-39-129-563  600 days 23:51:03  7 days 10:04:20.037037037\n102    CA-510/2-39-130-564  627 days 00:41:01  4 days 17:08:52.789473684\n103    CA-511/2-39-131-565  554 days 05:03:38  5 days 14:21:14.929292929\n104    CA-512/2-39-138-566 1138 days 04:18:11  6 days 20:33:21.753012048\n105    CA-513/2-39-139-567 1151 days 03:41:16 11 days 01:39:03.038461538\n\n[106 rows x 3 columns]",
      "text/html": "<div>\n<style scoped>\n    .dataframe tbody tr th:only-of-type {\n        vertical-align: middle;\n    }\n\n    .dataframe tbody tr th {\n        vertical-align: top;\n    }\n\n    .dataframe thead th {\n        text-align: right;\n    }\n</style>\n<table border=\"1\" class=\"dataframe\">\n  <thead>\n    <tr style=\"text-align: right;\">\n      <th></th>\n      <th>combinedSpaceStationID</th>\n      <th>sumDownTime</th>\n      <th>avgDownTime</th>\n    </tr>\n  </thead>\n  <tbody>\n    <tr>\n      <th>0</th>\n      <td>AG-1F01/1-1-193-825</td>\n      <td>859 days 02:42:33</td>\n      <td>1 days 02:40:25.036222509</td>\n    </tr>\n    <tr>\n      <th>1</th>\n      <td>AG-1F02/1-1-193-827</td>\n      <td>816 days 06:55:40</td>\n      <td>0 days 21:17:40.152173913</td>\n    </tr>\n    <tr>\n      <th>2</th>\n      <td>AG-1F03/1-1-193-829</td>\n      <td>864 days 01:02:15</td>\n      <td>1 days 03:27:58.589403973</td>\n    </tr>\n    <tr>\n      <th>3</th>\n      <td>AG-1F04/1-1-193-820</td>\n      <td>820 days 15:00:03</td>\n      <td>0 days 19:54:50.599595551</td>\n    </tr>\n    <tr>\n      <th>4</th>\n      <td>AG-1F05/1-1-193-816</td>\n      <td>859 days 01:11:27</td>\n      <td>1 days 03:44:54.868102288</td>\n    </tr>\n    <tr>\n      <th>...</th>\n      <td>...</td>\n      <td>...</td>\n      <td>...</td>\n    </tr>\n    <tr>\n      <th>101</th>\n      <td>CA-509/2-39-129-563</td>\n      <td>600 days 23:51:03</td>\n      <td>7 days 10:04:20.037037037</td>\n    </tr>\n    <tr>\n      <th>102</th>\n      <td>CA-510/2-39-130-564</td>\n      <td>627 days 00:41:01</td>\n      <td>4 days 17:08:52.789473684</td>\n    </tr>\n    <tr>\n      <th>103</th>\n      <td>CA-511/2-39-131-565</td>\n      <td>554 days 05:03:38</td>\n      <td>5 days 14:21:14.929292929</td>\n    </tr>\n    <tr>\n      <th>104</th>\n      <td>CA-512/2-39-138-566</td>\n      <td>1138 days 04:18:11</td>\n      <td>6 days 20:33:21.753012048</td>\n    </tr>\n    <tr>\n      <th>105</th>\n      <td>CA-513/2-39-139-567</td>\n      <td>1151 days 03:41:16</td>\n      <td>11 days 01:39:03.038461538</td>\n    </tr>\n  </tbody>\n</table>\n<p>106 rows × 3 columns</p>\n</div>"
     },
     "execution_count": 5,
     "metadata": {},
     "output_type": "execute_result"
    }
   ],
   "source": [
    "# Sortieren Sie das DataFrame nach 'combinedSpaceStationID' und 'disconnectTime'\n",
    "data = data.sort_values(by=['combinedSpaceStationID', 'disconnectTime'])\n",
    "\n",
    "# Berechnen Sie die Downzeiten und speichern Sie sie in einer neuen Spalte 'downTime'\n",
    "data['downTime'] = data.groupby('combinedSpaceStationID')['connectionTime'].shift(-1) - data['disconnectTime']\n",
    "\n",
    "# Füllen Sie NaN-Werte in der letzten Zeile der Gruppen mit 0 (da es keine nächste Session gibt)\n",
    "data['downTime'] = data['downTime'].fillna(pd.Timedelta(seconds=0))\n",
    "\n",
    "# Summieren Sie die Downzeiten und berechnen Sie den Durchschnitt für jede 'combinedSpaceStationID'\n",
    "result = data.groupby('combinedSpaceStationID')['downTime'].agg(['sum', 'mean']).reset_index()\n",
    "result.columns = ['combinedSpaceStationID', 'sumDownTime', 'avgDownTime']\n",
    "\n",
    "result"
   ],
   "metadata": {
    "collapsed": false,
    "ExecuteTime": {
     "end_time": "2024-01-07T20:17:17.132794300Z",
     "start_time": "2024-01-07T20:17:17.069648Z"
    }
   }
  },
  {
   "cell_type": "markdown",
   "source": [
    "### KPI 2.0: Total Idle Time\n",
    "Sums up the idle time per combinedSpaceStationID (in seconds)\n",
    "Formula: Sum of idle time per combinedSpaceStationID\n",
    "\n",
    "### KPI 2.1: Mean Idle Time\n",
    "Calculates the mean idle time per combinedSpaceStationID (in seconds)\n",
    "Formula: Mean idle time per combinedSpaceStationID"
   ],
   "metadata": {
    "collapsed": false
   }
  },
  {
   "cell_type": "code",
   "execution_count": 6,
   "outputs": [
    {
     "name": "stdout",
     "output_type": "stream",
     "text": [
      "combinedSpaceStationID\n",
      "AG-1F01/1-1-193-825     7370035.0\n",
      "AG-1F02/1-1-193-827    11088828.0\n",
      "AG-1F03/1-1-193-829     7055863.0\n",
      "AG-1F04/1-1-193-820     9944936.0\n",
      "AG-1F05/1-1-193-816     6982929.0\n",
      "                          ...    \n",
      "CA-509/2-39-129-563      845806.0\n",
      "CA-510/2-39-130-564     1112803.0\n",
      "CA-511/2-39-131-565     1060237.0\n",
      "CA-512/2-39-138-566     1656945.0\n",
      "CA-513/2-39-139-567      894336.0\n",
      "Name: idleTime, Length: 106, dtype: float64\n",
      "combinedSpaceStationID\n",
      "AG-1F01/1-1-193-825     9534.327296\n",
      "AG-1F02/1-1-193-827    12053.073913\n",
      "AG-1F03/1-1-193-829     9345.513907\n",
      "AG-1F04/1-1-193-820    10055.547017\n",
      "AG-1F05/1-1-193-816     9398.289367\n",
      "                           ...     \n",
      "CA-509/2-39-129-563    10442.049383\n",
      "CA-510/2-39-130-564     8366.939850\n",
      "CA-511/2-39-131-565    10709.464646\n",
      "CA-512/2-39-138-566     9981.596386\n",
      "CA-513/2-39-139-567     8599.384615\n",
      "Name: idleTime, Length: 106, dtype: float64\n"
     ]
    }
   ],
   "source": [
    "result_idle_sum = data.groupby('combinedSpaceStationID')['idleTime'].sum()\n",
    "\n",
    "result_idle_mean = data.groupby('combinedSpaceStationID')['idleTime'].mean()\n",
    "\n",
    "print(result_idle_sum)\n",
    "print(result_idle_mean)"
   ],
   "metadata": {
    "collapsed": false,
    "ExecuteTime": {
     "end_time": "2024-01-07T20:17:23.905469300Z",
     "start_time": "2024-01-07T20:17:23.862890Z"
    }
   }
  },
  {
   "cell_type": "markdown",
   "source": [
    "### KPI 3: Station Utilization\n",
    "Quantifies the relation between the total time of usage of a station and the total elapsed time since the first session record\n",
    "Formula: (Total Sum of timeConnected) / total hours"
   ],
   "metadata": {
    "collapsed": false
   }
  },
  {
   "cell_type": "code",
   "execution_count": 7,
   "outputs": [
    {
     "data": {
      "text/plain": "combinedSpaceStationID\nAG-1F01/1-1-193-825    0.171352\nAG-1F02/1-1-193-827    0.205730\nAG-1F03/1-1-193-829    0.167178\nAG-1F04/1-1-193-820    0.202516\nAG-1F05/1-1-193-816    0.171560\n                         ...   \nCA-509/2-39-129-563    0.017247\nCA-510/2-39-130-564    0.026828\nCA-511/2-39-131-565    0.019941\nCA-512/2-39-138-566    0.036668\nCA-513/2-39-139-567    0.019579\nName: timeConnected, Length: 106, dtype: float64"
     },
     "execution_count": 7,
     "metadata": {},
     "output_type": "execute_result"
    }
   ],
   "source": [
    "first_record = data['connectionTime'].min()\n",
    "last_record = data['connectionTime'].max()\n",
    "#today_date = pd.Timestamp.now(tz = 'Europe/Berlin')\n",
    "#range = today_date - first_record\n",
    "range = last_record - first_record\n",
    "\n",
    "station_utilization = data.groupby('combinedSpaceStationID')['timeConnected'].sum()\n",
    "\n",
    "station_utilization = pd.to_timedelta(station_utilization, unit=\"s\") / range\n",
    "\n",
    "station_utilization\n",
    "\n",
    "#1 Strings userID\n",
    "#2 Zeiten als Minuten oder anderes Format\n",
    "#Ratio Sinnvoller?!?!?\n",
    "#may change over time????"
   ],
   "metadata": {
    "collapsed": false,
    "ExecuteTime": {
     "end_time": "2024-01-07T20:17:34.652952600Z",
     "start_time": "2024-01-07T20:17:34.637704600Z"
    }
   }
  },
  {
   "cell_type": "markdown",
   "source": [
    "### KPI4\n",
    "Most Frequently Utilized Stations\n",
    "Description: Identifies the stations that are used most frequently based on customer session data"
   ],
   "metadata": {
    "collapsed": false
   }
  },
  {
   "cell_type": "code",
   "execution_count": 9,
   "outputs": [
    {
     "name": "stdout",
     "output_type": "stream",
     "text": [
      "Most Frequently Utilized Stations:\n",
      "combinedSpaceStationID\n",
      "CA-303/2-39-139-28     1696\n",
      "CA-305/2-39-131-30     1330\n",
      "AG-1F08/1-1-178-823    1217\n",
      "AG-1F10/1-1-178-828    1077\n",
      "CA-307/2-39-129-17     1061\n",
      "CA-315/2-39-89-25      1024\n",
      "AG-1F06/1-1-193-819    1019\n",
      "AG-1F04/1-1-193-820     989\n",
      "CA-311/2-39-125-21      989\n",
      "CA-309/2-39-127-19      970\n",
      "Name: count, dtype: int64\n"
     ]
    }
   ],
   "source": [
    "#Group data by 'station_id' and count the number of occurrences\n",
    "station_usage_counts = data['combinedSpaceStationID'].value_counts()\n",
    "\n",
    "#Sort the stations by usage count in descending order\n",
    "sorted_stations = station_usage_counts.sort_values(ascending=False)\n",
    "\n",
    "#Display the most frequently used stations\n",
    "print(\"Most Frequently Utilized Stations:\")\n",
    "print(sorted_stations.head(10))  # Adjust the number to display more or fewer stations"
   ],
   "metadata": {
    "collapsed": false,
    "ExecuteTime": {
     "end_time": "2024-01-07T20:18:02.967502900Z",
     "start_time": "2024-01-07T20:18:02.933922900Z"
    }
   }
  },
  {
   "cell_type": "markdown",
   "source": [
    "### KPI 5: Site utilization\n",
    "Counts the number of session for each site\n",
    "Formula: Count of entries for each siteID"
   ],
   "metadata": {
    "collapsed": false
   }
  },
  {
   "cell_type": "code",
   "execution_count": 11,
   "outputs": [
    {
     "name": "stdout",
     "output_type": "stream",
     "text": [
      "Most Frequently Utilized Sites:\n",
      "siteID\n",
      "1    28384\n",
      "2    28152\n",
      "Name: count, dtype: int64\n"
     ]
    }
   ],
   "source": [
    "site_usage_counts = data['siteID'].value_counts()\n",
    "\n",
    "sorted_sites = site_usage_counts.sort_values(ascending=False)\n",
    "\n",
    "print(\"Most Frequently Utilized Sites:\")\n",
    "print(sorted_sites)"
   ],
   "metadata": {
    "collapsed": false,
    "ExecuteTime": {
     "end_time": "2024-01-07T20:18:21.698696100Z",
     "start_time": "2024-01-07T20:18:21.696183400Z"
    }
   }
  },
  {
   "cell_type": "markdown",
   "source": [
    "### KPI 6.0: Total kWh Charged per station\n",
    "Sum up energy consumption for each station\n",
    "Formula: Sum of energy consumption for each station\n",
    "\n",
    "### KPI 6.1: Total kWh Charged (in the last 24 hours) per station\n",
    "Sum up energy consumption for each station in last 24 hours\n",
    "Formula: Sum of energy consumption for each station in last 24 hours"
   ],
   "metadata": {
    "collapsed": false
   }
  },
  {
   "cell_type": "code",
   "execution_count": 12,
   "outputs": [
    {
     "ename": "NameError",
     "evalue": "name 'charging_sessions_modified' is not defined",
     "output_type": "error",
     "traceback": [
      "\u001B[1;31m---------------------------------------------------------------------------\u001B[0m",
      "\u001B[1;31mNameError\u001B[0m                                 Traceback (most recent call last)",
      "Cell \u001B[1;32mIn[12], line 1\u001B[0m\n\u001B[1;32m----> 1\u001B[0m total_energy_consumption \u001B[38;5;241m=\u001B[39m \u001B[43mcharging_sessions_modified\u001B[49m\u001B[38;5;241m.\u001B[39mgroupby(\u001B[38;5;124m'\u001B[39m\u001B[38;5;124mcombinedSpaceStationID\u001B[39m\u001B[38;5;124m'\u001B[39m)[\u001B[38;5;124m'\u001B[39m\u001B[38;5;124mkWhDelivered\u001B[39m\u001B[38;5;124m'\u001B[39m]\u001B[38;5;241m.\u001B[39msum()\n\u001B[0;32m      3\u001B[0m timestamp_now \u001B[38;5;241m=\u001B[39m pd\u001B[38;5;241m.\u001B[39mTimestamp\u001B[38;5;241m.\u001B[39mnow(tz \u001B[38;5;241m=\u001B[39m \u001B[38;5;124m'\u001B[39m\u001B[38;5;124mEurope/Berlin\u001B[39m\u001B[38;5;124m'\u001B[39m)\n\u001B[0;32m      4\u001B[0m total_energy_consumption_recent \u001B[38;5;241m=\u001B[39m charging_sessions_modified[timestamp_now \u001B[38;5;241m-\u001B[39m charging_sessions_modified[\u001B[38;5;124m'\u001B[39m\u001B[38;5;124mconnectionTime\u001B[39m\u001B[38;5;124m'\u001B[39m] \u001B[38;5;241m<\u001B[39m\u001B[38;5;241m=\u001B[39m timedelta(hours\u001B[38;5;241m=\u001B[39m\u001B[38;5;241m24\u001B[39m)]\u001B[38;5;241m.\u001B[39mgroupby(\u001B[38;5;124m'\u001B[39m\u001B[38;5;124mcombinedSpaceStationID\u001B[39m\u001B[38;5;124m'\u001B[39m)[\u001B[38;5;124m'\u001B[39m\u001B[38;5;124mkWhDelivered\u001B[39m\u001B[38;5;124m'\u001B[39m]\u001B[38;5;241m.\u001B[39msum()\n",
      "\u001B[1;31mNameError\u001B[0m: name 'charging_sessions_modified' is not defined"
     ]
    }
   ],
   "source": [
    "total_energy_consumption = data.groupby('combinedSpaceStationID')['kWhDelivered'].sum()\n",
    "\n",
    "timestamp_now = pd.Timestamp.now(tz = 'Europe/Berlin')\n",
    "total_energy_consumption_recent = data[timestamp_now - data['connectionTime'] <= timedelta(hours=24)].groupby('combinedSpaceStationID')['kWhDelivered'].sum()\n",
    "\n",
    "print(total_energy_consumption)\n",
    "print(total_energy_consumption_recent)"
   ],
   "metadata": {
    "collapsed": false,
    "ExecuteTime": {
     "end_time": "2024-01-07T20:18:32.976171900Z",
     "start_time": "2024-01-07T20:18:32.935048400Z"
    }
   }
  },
  {
   "cell_type": "markdown",
   "source": [
    "### KPI7\n",
    "Average Energy Delivered per Session\n",
    "Formula: (Total kWh Charged) / (Total Number of Sessions)\n",
    "Description: Calculates the average energy consumption per charging session, aiding in assessing energy delivery efficiency"
   ],
   "metadata": {
    "collapsed": false
   }
  },
  {
   "cell_type": "code",
   "execution_count": 14,
   "outputs": [
    {
     "data": {
      "text/plain": "11.381496936069817"
     },
     "execution_count": 14,
     "metadata": {},
     "output_type": "execute_result"
    }
   ],
   "source": [
    "overall_average_energy_delivered = data['kWhDelivered'].mean()\n",
    "overall_average_energy_delivered"
   ],
   "metadata": {
    "collapsed": false,
    "ExecuteTime": {
     "end_time": "2024-01-07T20:19:41.091064200Z",
     "start_time": "2024-01-07T20:19:41.079040700Z"
    }
   }
  },
  {
   "cell_type": "markdown",
   "source": [
    "### KPI8\n",
    "Average Session Duration\n",
    "Formula: (Total Session Duration) / (Total Number of Sessions)\n",
    "Description: Measures the average duration of charging sessions, assisting in evaluating station turnover rates"
   ],
   "metadata": {
    "collapsed": false
   }
  },
  {
   "cell_type": "code",
   "execution_count": 15,
   "outputs": [
    {
     "name": "stdout",
     "output_type": "stream",
     "text": [
      "Durchschnittliche Dauer einer Session: 23524.884639875476\n"
     ]
    }
   ],
   "source": [
    "avg_session_duration = data['timeConnected'].mean()\n",
    "\n",
    "# Anzeigen oder Verwenden der durchschnittlichen Dauer einer Session\n",
    "print(\"Durchschnittliche Dauer einer Session:\", avg_session_duration)"
   ],
   "metadata": {
    "collapsed": false,
    "ExecuteTime": {
     "end_time": "2024-01-07T20:20:06.806769100Z",
     "start_time": "2024-01-07T20:20:06.792679500Z"
    }
   }
  },
  {
   "cell_type": "markdown",
   "source": [
    "### KPI9\n",
    "Peak Demand Hours\n",
    "Description: Identifies the hours with the highest energy demand, facilitating load management and pricing optimization"
   ],
   "metadata": {
    "collapsed": false
   }
  },
  {
   "cell_type": "markdown",
   "source": [
    "### KPI10\n",
    "Registered and Unregistered Customer Ratio\n",
    "Formula: (Number of Registered Customers) / (Number of Unregistered Customers)\n",
    "Description: Compares the ratio of registered (loyal) customers to unregistered (casual) customers, providing insights into registration program"
   ],
   "metadata": {
    "collapsed": false
   }
  },
  {
   "cell_type": "markdown",
   "source": [
    "### KPI 11: Repeating Customer Rate\n",
    "Expresses the percentage of customers who return for multiple charging sessions, indicating customer loyalty\n",
    "Formula: Number of repeating customers / total number of customers"
   ],
   "metadata": {
    "collapsed": false
   }
  },
  {
   "cell_type": "code",
   "execution_count": 17,
   "outputs": [
    {
     "name": "stdout",
     "output_type": "stream",
     "text": [
      "With 0.73 percent of the charging sessions we can identify the user based on the userID. From the 872 customers there are 743 returning users. The ratio between returning customers and the total number of customers is 0.85 percent.\n"
     ]
    }
   ],
   "source": [
    "number_of_session = len(data)\n",
    "number_of_sessions_with_uf = len(data[data['userID'].notna()])\n",
    "\n",
    "number_customer_total = data['userID'].dropna().astype(str).nunique()\n",
    "\n",
    "returning_customer = data.groupby('userID').size()\n",
    "returning_customer = returning_customer[returning_customer > 1].count()\n",
    "\n",
    "\n",
    "print(\n",
    "    f\"With {number_of_sessions_with_uf/number_of_session:.2f} percent of the charging sessions we can identify the user based on the userID. \"\n",
    "    f\"From the {number_customer_total} customers there are {returning_customer} returning users. \"\n",
    "    f\"The ratio between returning customers and the total number of customers is {returning_customer/number_customer_total:.2f} percent.\"\n",
    ")"
   ],
   "metadata": {
    "collapsed": false,
    "ExecuteTime": {
     "end_time": "2024-01-07T20:21:02.005165400Z",
     "start_time": "2024-01-07T20:21:01.970096900Z"
    }
   }
  },
  {
   "cell_type": "code",
   "execution_count": null,
   "outputs": [],
   "source": [],
   "metadata": {
    "collapsed": false
   }
  }
 ],
 "metadata": {
  "kernelspec": {
   "display_name": "Python 3",
   "language": "python",
   "name": "python3"
  },
  "language_info": {
   "codemirror_mode": {
    "name": "ipython",
    "version": 2
   },
   "file_extension": ".py",
   "mimetype": "text/x-python",
   "name": "python",
   "nbconvert_exporter": "python",
   "pygments_lexer": "ipython2",
   "version": "2.7.6"
  }
 },
 "nbformat": 4,
 "nbformat_minor": 0
}
